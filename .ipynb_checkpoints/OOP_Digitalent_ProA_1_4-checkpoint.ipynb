{
  "nbformat": 4,
  "nbformat_minor": 0,
  "metadata": {
    "colab": {
      "name": "OOP_Digitalent_ProA_1_4.ipynb",
      "provenance": [],
      "collapsed_sections": [],
      "include_colab_link": true
    },
    "kernelspec": {
      "name": "python3",
      "display_name": "Python 3"
    },
    "language_info": {
      "name": "python"
    }
  },
  "cells": [
    {
      "cell_type": "markdown",
      "metadata": {
        "id": "view-in-github",
        "colab_type": "text"
      },
      "source": [
        "<a href=\"https://colab.research.google.com/github/edmondium/Programming-Essentials-in-Python/blob/main/OOP_Digitalent_ProA_1_4.ipynb\" target=\"_parent\"><img src=\"https://colab.research.google.com/assets/colab-badge.svg\" alt=\"Open In Colab\"/></a>"
      ]
    },
    {
      "cell_type": "code",
      "metadata": {
        "id": "yDZ8Uuf59XE9"
      },
      "source": [
        "# Cara membuat Class \n",
        "\n",
        "class Hewan:\n",
        "      def __init__(self):            # init dipanggil pertama ketika membuat object, atau biasa disebut Constructor \n",
        "        self.atribut1 = 10           # yang dipanggil ketika object (beserta atributnya) dibuat\n",
        "        self.atribut2 = 50\n",
        "        print (\"Membuat Object\")\n",
        "    \n"
      ],
      "execution_count": null,
      "outputs": []
    },
    {
      "cell_type": "code",
      "metadata": {
        "id": "ft5aD9yCCyDz",
        "colab": {
          "base_uri": "https://localhost:8080/"
        },
        "outputId": "3511c766-9a16-46d2-e3d8-5536e5b1eb76"
      },
      "source": [
        "# Membuat Objek\n",
        "# Instantiate\n",
        "\n",
        "ayam = Hewan()\n"
      ],
      "execution_count": null,
      "outputs": [
        {
          "output_type": "stream",
          "name": "stdout",
          "text": [
            "Membuat Object\n"
          ]
        }
      ]
    },
    {
      "cell_type": "code",
      "metadata": {
        "id": "RgjFofy1E-Xa"
      },
      "source": [
        "#Membuat Class dengan atribut\n",
        "\n",
        "class Hewan:\n",
        "      def __init__(self,a,b):\n",
        "        self.atribut1 = a\n",
        "        self.atribut2 = b\n",
        "        print (\"Membuat Object\")"
      ],
      "execution_count": null,
      "outputs": []
    },
    {
      "cell_type": "code",
      "metadata": {
        "id": "t8MWZgeeGu0T",
        "colab": {
          "base_uri": "https://localhost:8080/"
        },
        "outputId": "f590aeec-be2f-401b-a2e3-c9c78df4b9f2"
      },
      "source": [
        "#Membuat Object dengan atribut\n",
        "\n",
        "kucing = Hewan(25,26)\n",
        "print(kucing.atribut1)\n",
        "print(kucing.atribut2)"
      ],
      "execution_count": null,
      "outputs": [
        {
          "output_type": "stream",
          "name": "stdout",
          "text": [
            "Membuat Object\n",
            "25\n",
            "26\n"
          ]
        }
      ]
    },
    {
      "cell_type": "code",
      "metadata": {
        "id": "lJoCopgCIWeq",
        "colab": {
          "base_uri": "https://localhost:8080/"
        },
        "outputId": "1e818c16-e46e-46ce-dfff-3b611d756e25"
      },
      "source": [
        "#Membuat Object lain\n",
        "\n",
        "kucing = Hewan(25,26)\n",
        "print(kucing.atribut1)\n",
        "print(kucing.atribut2)\n",
        "\n",
        "bebek = Hewan(30,10)\n",
        "print(bebek.atribut2)\n",
        "print(bebek.atribut1)"
      ],
      "execution_count": null,
      "outputs": [
        {
          "output_type": "stream",
          "name": "stdout",
          "text": [
            "Membuat Object\n",
            "25\n",
            "26\n",
            "Membuat Object\n",
            "10\n",
            "30\n"
          ]
        }
      ]
    },
    {
      "cell_type": "code",
      "metadata": {
        "colab": {
          "base_uri": "https://localhost:8080/"
        },
        "id": "0QqTEpIQKmXj",
        "outputId": "4a40b2e5-f830-47bd-eeba-cd5e7a04de75"
      },
      "source": [
        "# Membuat Class dengan Method / Behavior\n",
        "\n",
        "class Hewan:\n",
        "      def __init__(self,nama):\n",
        "        self.nama = nama              # noun (kata benda)\n",
        "\n",
        "      def gerak(self):                # harus menggunakan self sebagai penunjuk pada object \n",
        "        print(\"bisa gerak\")           # verb (kata kerja)\n",
        "\n",
        "                                      # membuat object class Hewan dengan behaviour/ method\n",
        "ikan = Hewan('teri')\n",
        "print(ikan.nama)\n",
        "ikan.gerak()"
      ],
      "execution_count": null,
      "outputs": [
        {
          "output_type": "stream",
          "name": "stdout",
          "text": [
            "teri\n",
            "bisa gerak\n"
          ]
        }
      ]
    },
    {
      "cell_type": "code",
      "source": [
        "# Contoh OOP pada hitung luas segitiga\n",
        "\n",
        "class Segitiga:\n",
        "  def __init__(self, alas, tinggi):   # atribut\n",
        "    self.alas = alas\n",
        "    self.tinggi = tinggi\n",
        "\n",
        "  def get_luas(self):                      # behaviour\n",
        "    return 0.5 * self.alas * self.tinggi\n",
        "\n",
        "segitiga1 = Segitiga(5, 10)\n",
        "segitiga2 = Segitiga(10, 10)\n",
        "\n",
        "print('luas segitiga1:', segitiga1.get_luas())\n",
        "print('luas segitiga2:', segitiga2.get_luas())    "
      ],
      "metadata": {
        "colab": {
          "base_uri": "https://localhost:8080/"
        },
        "id": "qq4oB95ajeeg",
        "outputId": "909d18de-72b2-45ff-c028-a20d6fd8f39d"
      },
      "execution_count": null,
      "outputs": [
        {
          "output_type": "stream",
          "name": "stdout",
          "text": [
            "luas segitiga1: 25.0\n",
            "luas segitiga2: 50.0\n"
          ]
        }
      ]
    },
    {
      "cell_type": "code",
      "metadata": {
        "id": "gcTx07kZTvJz",
        "colab": {
          "base_uri": "https://localhost:8080/"
        },
        "outputId": "2cbbfd26-0aa9-4bfe-ba5c-889c897ab9b9"
      },
      "source": [
        "# Inheritance \n",
        "\n",
        "class Hewan:\n",
        "      def __init__(self,nama):\n",
        "        self.nama = nama              \n",
        "\n",
        "      def gerak(self):                \n",
        "        print(\"bisa gerak\") \n",
        "\n",
        "class HewanDarat(Hewan):\n",
        "      def __init__(self,nama,kaki=0):\n",
        "        super().__init__(nama)            #inheritance ; super() digunakan utk memanggil constructor dan mengakses seluruh atribut/method (resource) kelas parent (super class)\n",
        "        self.kaki = kaki                  # properties baru yang ada pada class inheritance   \n",
        "      \n",
        "\n",
        "tupai = HewanDarat('tupai',4)              # membuat object inheritance\n",
        "print(tupai.nama, tupai.kaki)\n",
        "\n",
        "\n",
        "tupai.gerak()                             # fitur inheritance (yang diturunkan dari class Hewan)\n",
        "\n"
      ],
      "execution_count": null,
      "outputs": [
        {
          "output_type": "stream",
          "name": "stdout",
          "text": [
            "tupai 4\n",
            "bisa gerak\n"
          ]
        }
      ]
    },
    {
      "cell_type": "code",
      "metadata": {
        "colab": {
          "base_uri": "https://localhost:8080/"
        },
        "id": "ZpXXs-MBYyk_",
        "outputId": "f764e1e7-65d4-4cba-d6a3-c682b3439958"
      },
      "source": [
        "# Inheritance menambahkan method\n",
        "\n",
        "class Hewan:\n",
        "      def __init__(self,nama):\n",
        "        self.nama = nama              \n",
        "\n",
        "      def gerak(self):                \n",
        "        print(\"bisa gerak\") \n",
        "\n",
        "class HewanDarat(Hewan):\n",
        "      def __init__(self,nama,kaki=0):\n",
        "        super().__init__(nama)            \n",
        "        self.kaki = kaki      \n",
        "\n",
        "      def makan(self):                         # menambahkan method\n",
        "        print(self.nama,'bisa makan')   \n",
        "\n",
        "kelinci = HewanDarat('kelinci',4)\n",
        "print(kelinci.nama,kelinci.kaki)\n",
        "kelinci.gerak()\n",
        "kelinci.makan()\n",
        "\n",
        "#ikan = Hewan('ikan')\n",
        "#print(ikan.nama)\n",
        "#ikan.gerak()\n",
        "#ikan.makan()                       \n",
        "\n",
        "\n"
      ],
      "execution_count": null,
      "outputs": [
        {
          "output_type": "stream",
          "name": "stdout",
          "text": [
            "kelinci 4\n",
            "bisa gerak\n",
            "kelinci bisa makan\n"
          ]
        }
      ]
    },
    {
      "cell_type": "code",
      "metadata": {
        "colab": {
          "base_uri": "https://localhost:8080/"
        },
        "id": "gUH1z-b2d5WZ",
        "outputId": "5b8b018b-ccfc-42ca-9da7-4ed1933728a9"
      },
      "source": [
        "# Polymorphism : method dengan nama yang sama dengan berbagai bentuk behavior \n",
        "\n",
        "class Hewan:\n",
        "      def __init__(self,nama):\n",
        "        self.nama = nama              \n",
        "\n",
        "      def gerak(self):                \n",
        "        print(\"bisa gerak\") \n",
        "\n",
        "class HewanDarat(Hewan):\n",
        "      def __init__(self,nama,kaki=0):\n",
        "        super().__init__(nama)            \n",
        "        self.kaki = kaki      \n",
        "\n",
        "      def makan(self):                        \n",
        "        print(self.nama,'bisa makan') \n",
        "\n",
        "      def gerak(self):                                             # Polymorphism (overide method dari parent class)\n",
        "        print(self.nama,'berjalan menggunakan kaki',self.kaki)\n",
        "      \n",
        "\n",
        "\n",
        "musang = HewanDarat('musang',4)\n",
        "print(musang.nama,musang.kaki)\n",
        "musang.gerak()\n"
      ],
      "execution_count": null,
      "outputs": [
        {
          "output_type": "stream",
          "name": "stdout",
          "text": [
            "musang 4\n",
            "musang berjalan menggunakan kaki 4\n"
          ]
        }
      ]
    },
    {
      "cell_type": "markdown",
      "metadata": {
        "id": "4FLjP1qiKUjq"
      },
      "source": [
        "## 3.2 Stack: Pendekatan Prosedural vs OOP\n",
        "![stack](./asets/stack.png)"
      ]
    },
    {
      "cell_type": "code",
      "metadata": {
        "cell_style": "split",
        "id": "B0e6TwquJelT",
        "colab": {
          "base_uri": "https://localhost:8080/"
        },
        "outputId": "12f12e9b-9cab-4764-ac54-6eb76fdf53a9"
      },
      "source": [
        "stack = []\n",
        "\n",
        "def push(val):\n",
        "    stack.append(val)\n",
        "\n",
        "def pop():\n",
        "    val = stack[-1]\n",
        "    del stack[-1]\n",
        "    return val\n",
        "\n",
        "push(3)\n",
        "push(2)\n",
        "push(1)\n",
        "\n",
        "print(pop())\n",
        "print(pop())\n",
        "print(pop())"
      ],
      "execution_count": null,
      "outputs": [
        {
          "output_type": "stream",
          "name": "stdout",
          "text": [
            "1\n",
            "2\n",
            "3\n"
          ]
        }
      ]
    },
    {
      "cell_type": "code",
      "metadata": {
        "cell_style": "split",
        "id": "hxevKJydJelW",
        "colab": {
          "base_uri": "https://localhost:8080/"
        },
        "outputId": "463bbdc7-11be-4afd-c410-4e3fd774aaa4"
      },
      "source": [
        "class Stack:\n",
        "    def __init__(self):\n",
        "        self.stackList = []\n",
        "\n",
        "stackObject = Stack()\n",
        "print(len(stackObject.stackList))\n"
      ],
      "execution_count": null,
      "outputs": [
        {
          "output_type": "stream",
          "name": "stdout",
          "text": [
            "0\n"
          ]
        }
      ]
    },
    {
      "cell_type": "markdown",
      "metadata": {
        "id": "Y2P7fZUyJelS"
      },
      "source": [
        "### Enkapsulasi\n",
        "\n",
        "Menyembunyikan atribut dan behavior yang bersifat private dari kelas lainnya.\n",
        "Enkapsulasi di python sangat sederhana, menyembunyikan atribut (tidak sepenuhnya) yaitu dengan menggunakan `__` (dua garis bawah) di awal penamaan atribut.\n",
        "\n",
        "> Di bahasa pemrograman yang lain mungkin anda akan menemukan hal yang lebih kompleks, cth: `public`,`virtual`, `private`, `protected`.\n",
        "\n"
      ]
    },
    {
      "cell_type": "code",
      "metadata": {
        "cell_style": "split",
        "id": "N0IggmFVJela"
      },
      "source": [
        "class Stack:\n",
        "    def __init__(self):\n",
        "        self.__stackList = [] # __ membuat private\n",
        "\n",
        "stackObject = Stack()\n",
        "print(len(stackObject.__stackList))"
      ],
      "execution_count": null,
      "outputs": []
    },
    {
      "cell_type": "code",
      "source": [
        "class Stack:\n",
        "    def __init__(self):\n",
        "        self.__stack_list = []\n",
        "\n",
        "\n",
        "    def push(self, val):\n",
        "        self.__stack_list.append(val)\n",
        "\n",
        "\n",
        "    def pop(self):\n",
        "        val = self.__stack_list[-1]\n",
        "        del self.__stack_list[-1]\n",
        "        return val\n",
        "\n",
        "\n",
        "stack_object = Stack()\n",
        "\n",
        "stack_object.push(3)\n",
        "stack_object.push(2)\n",
        "stack_object.push(1)\n",
        "\n",
        "\n",
        "print(stack_object.pop())\n",
        "print(stack_object.pop())\n",
        "print(stack_object.pop())"
      ],
      "metadata": {
        "colab": {
          "base_uri": "https://localhost:8080/"
        },
        "id": "nZUJCfhM9LPW",
        "outputId": "88b14e4f-2bca-4594-f6ff-acd07725614e"
      },
      "execution_count": null,
      "outputs": [
        {
          "output_type": "stream",
          "name": "stdout",
          "text": [
            "1\n",
            "2\n",
            "3\n"
          ]
        }
      ]
    },
    {
      "cell_type": "code",
      "metadata": {
        "cell_style": "split",
        "id": "_2AIqa50Jele",
        "colab": {
          "base_uri": "https://localhost:8080/"
        },
        "outputId": "2fec172a-b2c4-4aa0-dd11-825369dadc35"
      },
      "source": [
        "class Stack:\n",
        "    def __init__(self):\n",
        "        self.__stackList = []\n",
        "\n",
        "    def push(self, val):\n",
        "        self.__stackList.append(val)\n",
        "\n",
        "    def pop(self):\n",
        "        val = self.__stackList[-1]\n",
        "        del self.__stackList[-1]\n",
        "        return val\n",
        "\n",
        "littleStack = Stack()\n",
        "anotherStack = Stack()\n",
        "funnyStack = Stack()\n",
        "\n",
        "littleStack.push(1)\n",
        "anotherStack.push(littleStack.pop() + 1)\n",
        "funnyStack.push(anotherStack.pop() - 2)\n",
        "\n",
        "print(funnyStack.pop()) "
      ],
      "execution_count": null,
      "outputs": [
        {
          "output_type": "stream",
          "name": "stdout",
          "text": [
            "0\n"
          ]
        }
      ]
    },
    {
      "cell_type": "code",
      "metadata": {
        "cell_style": "split",
        "id": "XrDxE2ZeJelh",
        "colab": {
          "base_uri": "https://localhost:8080/"
        },
        "outputId": "c52044a0-a500-457e-b144-7c0c7dcd27c8"
      },
      "source": [
        "class AddingStack(Stack):\n",
        "    def __init__(self):\n",
        "        Stack.__init__(self)\n",
        "        self.__sum = 0\n",
        "\n",
        "    def getSum(self):\n",
        "        return self.__sum\n",
        "\n",
        "    def push(self, val):\n",
        "        self.__sum += val\n",
        "        Stack.push(self, val)\n",
        "\n",
        "    def pop(self):\n",
        "        val = Stack.pop(self)\n",
        "        self.__sum -= val\n",
        "        return val\n",
        "\n",
        "\n",
        "stackObject = AddingStack()\n",
        "\n",
        "for i in range(5):\n",
        "    stackObject.push(i)\n",
        "print(stackObject.getSum())\n",
        "\n",
        "for i in range(5):\n",
        "    print(stackObject.pop())"
      ],
      "execution_count": null,
      "outputs": [
        {
          "output_type": "stream",
          "name": "stdout",
          "text": [
            "10\n",
            "4\n",
            "3\n",
            "2\n",
            "1\n",
            "0\n"
          ]
        }
      ]
    },
    {
      "cell_type": "code",
      "metadata": {
        "id": "51bRYq_2Liax"
      },
      "source": [
        ""
      ],
      "execution_count": null,
      "outputs": []
    },
    {
      "cell_type": "markdown",
      "metadata": {
        "id": "gKurVuz8KUjr"
      },
      "source": [
        "## 3.3 Properties (instance variable, class variables, attributs)"
      ]
    },
    {
      "cell_type": "markdown",
      "metadata": {
        "id": "xU8CTsKvKUjr"
      },
      "source": [
        "### Instance Variable\n",
        "\n",
        "- objek berbeda dari kelas yang sama mungkin memiliki nilai instance variable yang berbeda;\n",
        "- setiap objek membawa set nilai instance variablenya sendiri - mereka tidak mengganggu satu sama lain dengan cara apa pun."
      ]
    },
    {
      "cell_type": "code",
      "metadata": {
        "colab": {
          "base_uri": "https://localhost:8080/"
        },
        "id": "kKOBIttlKUjr",
        "outputId": "bdaf5672-3d19-41bc-f7b1-7b35ec751a59"
      },
      "source": [
        "class ExampleClass:\n",
        "    def __init__(self, val = 1):\n",
        "        self.first = val\n",
        "\n",
        "    def set_second(self, val):          \n",
        "        self.second = val\n",
        "\n",
        "\n",
        "example_object_1 = ExampleClass()       # first = 1\n",
        "example_object_2 = ExampleClass(2)      # first = 2\n",
        "\n",
        "example_object_2.set_second(3)\n",
        "\n",
        "example_object_3 = ExampleClass(4)\n",
        "example_object_3.third = 5             # menambahkan atribut baru pada object_3\n",
        "\n",
        "\n",
        "# melihat isi atribut dengan memanggil dictionary\n",
        "print(example_object_1.__dict__)\n",
        "print(example_object_2.__dict__)\n",
        "print(example_object_3.__dict__)"
      ],
      "execution_count": null,
      "outputs": [
        {
          "output_type": "stream",
          "name": "stdout",
          "text": [
            "{'first': 1}\n",
            "{'first': 2, 'second': 3}\n",
            "{'first': 4, 'third': 5}\n"
          ]
        }
      ]
    },
    {
      "cell_type": "code",
      "metadata": {
        "id": "3rvah74VKUjr",
        "colab": {
          "base_uri": "https://localhost:8080/"
        },
        "outputId": "4f94512a-5de6-4bf4-e403-05a12b63b357"
      },
      "source": [
        "class ExampleClass:\n",
        "    def __init__(self, val = 1):\n",
        "        self.__first = val                # private\n",
        "\n",
        "    def set_second(self, val = 2):\n",
        "        self.__second = val\n",
        "\n",
        "\n",
        "example_object_1 = ExampleClass()\n",
        "example_object_2 = ExampleClass(2)\n",
        "\n",
        "example_object_2.set_second(3)\n",
        "\n",
        "example_object_3 = ExampleClass(4)\n",
        "example_object_3.__third = 5\n",
        "\n",
        "\n",
        "print(example_object_1.__dict__)\n",
        "print(example_object_2.__dict__)\n",
        "print(example_object_3.__dict__)"
      ],
      "execution_count": null,
      "outputs": [
        {
          "output_type": "stream",
          "name": "stdout",
          "text": [
            "{'_ExampleClass__first': 1}\n",
            "{'_ExampleClass__first': 2, '_ExampleClass__second': 3}\n",
            "{'_ExampleClass__first': 4, '__third': 5}\n"
          ]
        }
      ]
    },
    {
      "cell_type": "code",
      "metadata": {
        "id": "0ITulWKaOs0q",
        "colab": {
          "base_uri": "https://localhost:8080/"
        },
        "outputId": "9a103429-029d-4f9b-f9d1-6d1837348adb"
      },
      "source": [
        "example_object_1._ExampleClass__first       # apakah private dpt diakses pada python?? (dpt diakses dgn menggunakan mangled name constructor)"
      ],
      "execution_count": null,
      "outputs": [
        {
          "output_type": "execute_result",
          "data": {
            "text/plain": [
              "1"
            ]
          },
          "metadata": {},
          "execution_count": 8
        }
      ]
    },
    {
      "cell_type": "markdown",
      "metadata": {
        "id": "C_FuCPpaKUjs"
      },
      "source": [
        "### Class Variable\n",
        "\n",
        "Class Variable adalah properti yang hanya ada dalam satu salinan dalam sebuah class dan disimpan di luar objek.\n",
        "\n",
        "Catatan: tidak ada instance variabel jika tidak ada objek di kelas, sedangkan variabel kelas ada meskipun tidak ada objek yang dibuat dari suatu class."
      ]
    },
    {
      "cell_type": "code",
      "metadata": {
        "id": "iAdC2JEDKUjs",
        "colab": {
          "base_uri": "https://localhost:8080/"
        },
        "outputId": "332f0812-06d7-4a6b-8c73-6d7762f5f5aa"
      },
      "source": [
        "class ExampleClass:                   # variabel yang dimiliki class\n",
        "    counter = 0                       # class variabel, variabel yang dapat diakses disemua object di dalam class, dan terikat pada class \n",
        "    def __init__(self, val = 1):\n",
        "        self.__first = val\n",
        "        ExampleClass.counter += 1\n",
        "\n",
        "\n",
        "example_object_1 = ExampleClass()\n",
        "example_object_2 = ExampleClass(2)\n",
        "example_object_3 = ExampleClass(4)\n",
        "\n",
        "print(example_object_1.__dict__, example_object_1.counter)\n",
        "print(example_object_2.__dict__, example_object_2.counter)\n",
        "print(example_object_3.__dict__, example_object_3.counter)"
      ],
      "execution_count": null,
      "outputs": [
        {
          "output_type": "stream",
          "name": "stdout",
          "text": [
            "{'_ExampleClass__first': 1} 3\n",
            "{'_ExampleClass__first': 2} 3\n",
            "{'_ExampleClass__first': 4} 3\n"
          ]
        }
      ]
    },
    {
      "cell_type": "markdown",
      "metadata": {
        "id": "vhc4wBzAJelm"
      },
      "source": [
        "### Multiple Inheritance"
      ]
    },
    {
      "cell_type": "code",
      "metadata": {
        "id": "Lz1Hso6hJelm",
        "colab": {
          "base_uri": "https://localhost:8080/"
        },
        "outputId": "6432f1eb-1893-43f9-d39d-9e179f40ae6e"
      },
      "source": [
        "class Left:\n",
        "    var = \"L\"\n",
        "    varLeft = \"LL\"\n",
        "\n",
        "    #def __init__(self):  # def __init__ bisa tidak ditulis krn tidak berisi\n",
        "      #pass\n",
        "\n",
        "    def fun(self):\n",
        "        return \"Left\"\n",
        "\n",
        "\n",
        "class Right:\n",
        "    var = \"R\"\n",
        "    varRight = \"RR\"\n",
        "    def fun(self):\n",
        "        return \"Right\"\n",
        "\n",
        "class Sub(Left, Right):\n",
        "    pass\n",
        "\n",
        "obj = Sub()\n",
        "\n",
        "print(obj.var, obj.varLeft, obj.varRight, obj.fun())   # apabila ada object dari 2 parent mana yang prioritas?"
      ],
      "execution_count": null,
      "outputs": [
        {
          "output_type": "stream",
          "name": "stdout",
          "text": [
            "L LL RR Left\n"
          ]
        }
      ]
    },
    {
      "cell_type": "markdown",
      "metadata": {
        "id": "FM-hBEYrKUjx"
      },
      "source": [
        "### issubclass() dan isinstance()\n",
        "#### issubclass()\n",
        "apakah suatu class adalah turunan/sub dari class lain?\n",
        "#### isinstance()\n",
        "apakah suatu objek adalah instance dari suatu class?"
      ]
    },
    {
      "cell_type": "code",
      "metadata": {
        "id": "MkBtoVmXKUjx",
        "colab": {
          "base_uri": "https://localhost:8080/"
        },
        "outputId": "b5f4e10f-cbc6-404b-9507-a9fcf9fe9840"
      },
      "source": [
        "print(issubclass(Sub, Left))\n",
        "print(issubclass(Sub, Right))\n",
        "print(issubclass(Right, Sub))\n",
        "\n",
        "print(isinstance(obj, Left))\n",
        "print(isinstance(obj, Right))\n",
        "print(isinstance(Right, Sub))"
      ],
      "execution_count": null,
      "outputs": [
        {
          "output_type": "stream",
          "name": "stdout",
          "text": [
            "True\n",
            "True\n",
            "False\n",
            "True\n",
            "True\n",
            "False\n"
          ]
        }
      ]
    },
    {
      "cell_type": "code",
      "metadata": {
        "id": "JW61FbbzKUjx",
        "colab": {
          "base_uri": "https://localhost:8080/"
        },
        "outputId": "f386a5e4-1356-4ab0-e659-b31ab81c58e9"
      },
      "source": [
        "class SubSub(Sub):\n",
        "    pass\n",
        "\n",
        "obj_SubSub = SubSub()\n",
        "\n",
        "print(issubclass(SubSub, Sub))\n",
        "print(issubclass(SubSub, Right))\n",
        "\n",
        "print(isinstance(obj_SubSub, Right))"
      ],
      "execution_count": null,
      "outputs": [
        {
          "output_type": "stream",
          "name": "stdout",
          "text": [
            "True\n",
            "True\n",
            "True\n"
          ]
        }
      ]
    },
    {
      "cell_type": "markdown",
      "metadata": {
        "id": "plh19QJ3Jelo"
      },
      "source": [
        "## 3.6. The objective nature of Python exceptions "
      ]
    },
    {
      "cell_type": "code",
      "metadata": {
        "cell_style": "split",
        "id": "fNu-nWx4Jelp",
        "colab": {
          "base_uri": "https://localhost:8080/"
        },
        "outputId": "98bbc6d4-48aa-4f7d-ad67-4b5cd035059b"
      },
      "source": [
        "def reciprocal(n):\n",
        "    try:\n",
        "        n = 1 / n\n",
        "    except ArithmeticError:\n",
        "        print(\"ini aritmatik error...!!\")    \n",
        "        \n",
        "    except ZeroDivisionError:\n",
        "        print(\"Division failed\")\n",
        "        n = None\n",
        "    else:\n",
        "        print(\"Everything went fine\")\n",
        "    finally:\n",
        "        print(\"It's time to say goodbye\")\n",
        "        return n\n",
        "\n",
        "print(reciprocal(2))\n",
        "print(reciprocal(0))"
      ],
      "execution_count": null,
      "outputs": [
        {
          "output_type": "stream",
          "name": "stdout",
          "text": [
            "Everything went fine\n",
            "It's time to say goodbye\n",
            "0.5\n",
            "ini aritmatik error...!!\n",
            "It's time to say goodbye\n",
            "0\n"
          ]
        }
      ]
    }
  ]
}