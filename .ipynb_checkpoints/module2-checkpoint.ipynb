{
 "cells": [
  {
   "cell_type": "markdown",
   "metadata": {
    "id": "FTEA7CoUM0Su"
   },
   "source": [
    "klik untuk [Open in colab](https://colab.research.google.com/github/sykrn/py-dts/blob/master/Modul%202%20-%20Tipe%20Data%2C%20Variabel%2C%20Dasar%20Input%20Output%2C%20Operasi.ipynb)\n",
    "# Python Essentials 1:\n",
    "# Module 2\n",
    "**Data types, variables, basic input-output operations, basic operators**\n",
    "\n",
    "In this module, you will learn:\n",
    "\n",
    "- how to write and run simple Python programs;\n",
    "- what Python literals, operators, and expressions are;\n",
    "- what variables are and what are the rules that govern them;\n",
    "- how to perform basic input and output operations.\n",
    "\n",
    "<img src=\"1.png\"/>"
   ]
  },
  {
   "cell_type": "markdown",
   "metadata": {
    "id": "hR5JNwNdM0Sy"
   },
   "source": [
    "# Hello, World!\n",
    "It's time to start writing some **real, working Python code**. It'll be very simple for the time being.\n",
    "\n",
    "As we're going to show you some fundamental concepts and terms, these snippets of code won't be serious or complex.\n",
    "\n",
    "Run the code in the editor window on the right. If everything goes okay here, you'll see the **line of text** in the console window.\n",
    "\n",
    "Alternatively, launch IDLE, create a new Python source file, fill it with this code, name the file and save it. Now run it. If everything goes okay, you'll see the rhyme's line in the IDLE console window. The code you have run should look familiar. You saw something very similar when we led you through the setting up of the IDLE environment.\n",
    "\n",
    "Now we'll spend some time showing and explaining to you what you're actually seeing, and why it looks like this.\n",
    "\n",
    "As you can see, the first program consists of the following parts:\n",
    "\n",
    "- the word `print`;\n",
    "- an opening parenthesis;\n",
    "- a quotation mark;\n",
    "- a line of text: `Hello, World!`;\n",
    "- another quotation mark;\n",
    "- a closing parenthesis.\n",
    "\n",
    "Each of the above plays a very important role in the code."
   ]
  },
  {
   "cell_type": "code",
   "execution_count": 1,
   "metadata": {
    "id": "Z1YleNEIM0Sz"
   },
   "outputs": [
    {
     "name": "stdout",
     "output_type": "stream",
     "text": [
      "Hello, World!\n"
     ]
    }
   ],
   "source": [
    "print(\"Hello, World!\")"
   ]
  },
  {
   "cell_type": "markdown",
   "metadata": {},
   "source": [
    "# The `print()` function\n",
    "Look at the line of code below:"
   ]
  },
  {
   "cell_type": "code",
   "execution_count": 2,
   "metadata": {},
   "outputs": [
    {
     "name": "stdout",
     "output_type": "stream",
     "text": [
      "Hello, World!\n"
     ]
    }
   ],
   "source": [
    "print(\"Hello, World!\")"
   ]
  },
  {
   "cell_type": "markdown",
   "metadata": {},
   "source": [
    "The word **print** that you can see here is a **function name**. That doesn't mean that wherever the word appears it is always a function name. The meaning of the word comes from the context in which the word has been used.\n",
    "\n",
    "You've probably encountered the term function many times before, during math classes. You can probably also list several names of mathematical functions, like sine or log.\n",
    "\n",
    "Python functions, however, are more flexible, and can contain more content than their mathematical siblings.\n",
    "\n",
    "A function (in this context) is a separate part of the computer code able to:\n",
    "\n",
    "-  **cause some effect** (e.g., send text to the terminal, create a file, draw an image, play a sound, etc.); this is something completely unheard of in the world of mathematics;\n",
    "- **evaluate a value** (e.g., the square root of a value or the length of a given text) and **return it as the function's result**; this is what makes Python functions the relatives of mathematical concepts.\n",
    "\n",
    "Moreover, many of Python functions can do the above two things together.\n",
    "\n",
    "\n",
    "Where do the functions come from?\n",
    "\n",
    "- They may come **from Python itself**; the print function is one of this kind; such a function is an added value received together with Python and its environment (it is **built-in**); you don't have to do anything special (e.g., ask anyone for anything) if you want to make use of it;\n",
    "- they may come from one or more of Python's add-ons named **modules**; some of the modules come with Python, others may require separate installation - whatever the case, they all need to be explicitly connected with your code (we'll show you how to do that soon);\n",
    "- you can **write them yourself**, placing as many functions as you want and need inside your program to make it simpler, clearer and more elegant.\n",
    "\n",
    "The name of the function should be **significant** (the name of the print function is self-evident).\n",
    "\n",
    "Of course, if you're going to make use of any already existing function, you have no influence on its name, but when you start writing your own functions, you should consider carefully your choice of names."
   ]
  },
  {
   "cell_type": "markdown",
   "metadata": {},
   "source": [
    "# The `print()` function\n",
    "As we said before, a function may have:\n",
    "\n",
    "- an **effect**;\n",
    "- a **result**.\n",
    "\n",
    "There's also a third, very important, function component - the **argument**(s).\n",
    "\n",
    "Mathematical functions usually take one argument, e.g., sin(x) takes an x, which is the measure of an angle.\n",
    "\n",
    "Python functions, on the other hand, are more versatile. Depending on the individual needs, they may accept any number of arguments - as many as necessary to perform their tasks. Note: any number includes zero - some Python functions don't need any argument."
   ]
  },
  {
   "cell_type": "code",
   "execution_count": 3,
   "metadata": {},
   "outputs": [
    {
     "name": "stdout",
     "output_type": "stream",
     "text": [
      "Hello, World!\n"
     ]
    }
   ],
   "source": [
    "print(\"Hello, World!\")"
   ]
  },
  {
   "cell_type": "markdown",
   "metadata": {},
   "source": [
    "In spite of the number of needed/provided arguments, Python functions strongly demand the presence of **a pair of parentheses** - opening and closing ones, respectively.\n",
    "\n",
    "If you want to deliver one or more arguments to a function, you place them **inside the parentheses**. If you're going to use a function which doesn't take any argument, you still have to have the parentheses.\n",
    "\n",
    "Note: to distinguish ordinary words from function names, place **a pair of empty parentheses** after their names, even if the corresponding function wants one or more arguments. This is a standard convention.\n",
    "\n",
    "The function we're talking about here is `print()`.\n",
    "\n",
    "Does the `print()` function in our example have any arguments?\n",
    "\n",
    "Of course it does, but what are they?"
   ]
  },
  {
   "cell_type": "markdown",
   "metadata": {},
   "source": [
    "# The `print()` function\n",
    "The only argument delivered to the `print()` function in this example is a **string**:"
   ]
  },
  {
   "cell_type": "code",
   "execution_count": 4,
   "metadata": {},
   "outputs": [
    {
     "name": "stdout",
     "output_type": "stream",
     "text": [
      "Hello, World!\n"
     ]
    }
   ],
   "source": [
    "print(\"Hello, World!\")"
   ]
  },
  {
   "cell_type": "markdown",
   "metadata": {},
   "source": [
    "As you can see, the **string is delimited with quotes** - in fact, the quotes make the string - they cut out a part of the code and assign a different meaning to it.\n",
    "\n",
    "You can imagine that the quotes say something like: the text between us is not code. It isn't intended to be executed, and you should take it as is.\n",
    "\n",
    "Almost anything you put inside the quotes will be taken literally, not as code, but as data. Try to play with this particular string - modify it, enter some new content, delete some of the existing content.\n",
    "\n",
    "There's more than one way to specify a string inside Python's code, but for now, though, this one is enough.\n",
    "<center>\n",
    "<img src=\"2.png\"/>\n",
    "</center>\n",
    "So far, you have learned about two important parts of the code: the function and the string. We've talked about them in terms of syntax, but now it's time to discuss them in terms of semantics."
   ]
  },
  {
   "cell_type": "markdown",
   "metadata": {},
   "source": [
    "# The `print()` function\n",
    "The function name (***print*** in this case) along with the parentheses and argument(s), forms the **function invocation**.\n",
    "\n",
    "We'll discuss this in more depth soon, but we should just shed a little light on it right now."
   ]
  },
  {
   "cell_type": "code",
   "execution_count": 5,
   "metadata": {},
   "outputs": [
    {
     "name": "stdout",
     "output_type": "stream",
     "text": [
      "Hello, World!\n"
     ]
    }
   ],
   "source": [
    "print(\"Hello, World!\")"
   ]
  },
  {
   "cell_type": "markdown",
   "metadata": {},
   "source": [
    "What happens when Python encounters an invocation like this one below?"
   ]
  },
  {
   "cell_type": "code",
   "execution_count": null,
   "metadata": {},
   "outputs": [],
   "source": [
    "function_name(argument)"
   ]
  },
  {
   "cell_type": "markdown",
   "metadata": {},
   "source": [
    "Let's see:\n",
    "- First, Python checks if the name specified is **legal** (it browses its internal data in order to find an existing function of the name; if this search fails, Python aborts the code);\n",
    "- second, Python checks if the function's requirements for the number of arguments **allows you to invoke** the function in this way (e.g., if a specific function demands exactly two arguments, any invocation delivering only one argument will be considered erroneous, and will abort the code's execution);\n",
    "- third, Python **leaves your code for a moment** and jumps into the function you want to invoke; of course, it takes your argument(s) too and passes it/them to the function;\n",
    "- fourth, the function **executes its code**, causes the desired effect (if any), evaluates the desired result(s) (if any) and finishes its task;\n",
    "- finally, Python **returns to your code** (to the place just after the invocation) and resumes its execution."
   ]
  },
  {
   "cell_type": "markdown",
   "metadata": {
    "id": "qbHnv4BQM0S0"
   },
   "source": [
    "<span style=\"background: brown; color: white\"><b>LAB</b></span>\n",
    "### Estimated time\n",
    "5-10 minutes\n",
    "\n",
    "### Level of difficulty\n",
    "Very easy\n",
    "\n",
    "### Objectives\n",
    "- becoming familiar with the `print()` function and its formatting capabilities;\n",
    "- experimenting with Python code.\n",
    "\n",
    "### Scenario\n",
    "The `print()` command, which is one of the easiest directives in Python, simply prints out a line to the screen.\n",
    "\n",
    "In your first lab:\n",
    "\n",
    "- use the `print()` function to print the line `Hello, Python!` to the screen. Use double quotes around the string;\n",
    "- having done that, use the `print()` function again, but this time print your first name;\n",
    "- remove the double quotes and run your code. Watch Python's reaction. What kind of error is thrown?\n",
    "- then, remove the parentheses, put back the double quotes, and run your code again. What kind of error is thrown this time?\n",
    "- experiment as much as you can. Change double quotes to single quotes, use multiple `print()` functions on the same line, and then on different lines. See what happens."
   ]
  },
  {
   "cell_type": "code",
   "execution_count": 13,
   "metadata": {
    "id": "iEUaLqtIM0S0",
    "scrolled": true
   },
   "outputs": [
    {
     "name": "stdout",
     "output_type": "stream",
     "text": [
      "Edmond\n",
      "Febrinicko\n"
     ]
    }
   ],
   "source": [
    "print('Edmond')\n",
    "print('Febrinicko')"
   ]
  },
  {
   "cell_type": "markdown",
   "metadata": {},
   "source": [
    "# The `print()` function\n",
    "Three important questions have to be answered as soon as possible:\n",
    "\n",
    "**1. What is the effect the `print()` function causes?**\n",
    "\n",
    "The effect is very useful and very spectacular. The function:\n",
    "\n",
    "- takes its arguments (it may accept more than one argument and may also accept less than one argument)\n",
    "- converts them into human-readable form if needed (as you may suspect, strings don't require this action, as the string is already readable)\n",
    "- and **sends the resulting data to the output device** (usually the console); in other words, anything you put into the `print()` function will appear on your screen.\n",
    "\n",
    "No wonder then, that from now on, you'll utilize `print()` very intensively to see the results of your operations and evaluations.\n",
    "\n",
    "**2. What arguments does `print()` expect?**\n",
    "\n",
    "Any. We'll show you soon that `print()` is able to operate with virtually all types of data offered by Python. Strings, numbers, characters, logical values, objects - any of these may be successfully passed to `print()`.\n",
    "\n",
    "**3. What value does the `print()` function return?**\n",
    "\n",
    "None. Its effect is enough."
   ]
  },
  {
   "cell_type": "markdown",
   "metadata": {},
   "source": [
    "# The `print()` function - instructions\n",
    "You have already seen a computer program that contains one function invocation. A function invocation is one of many possible kinds of Python **instructions**.\n",
    "\n",
    "Of course, any complex program usually contains many more instructions than one. The question is: how do you couple more than one instruction into the Python code?\n",
    "\n",
    "Python's syntax is quite specific in this area. Unlike most programming languages, Python requires that **there cannot be more than one instruction in a line**.\n",
    "\n",
    "A line can be empty (i.e., it may contain no instruction at all) but it must not contain two, three or more instructions. This is strictly prohibited.\n",
    "\n",
    "Note: Python makes one exception to this rule - it allows one instruction to spread across more than one line (which may be helpful when your code contains complex constructions).\n",
    "\n",
    "Let's expand the code a bit, you can see it in the editor. Run it and note what you see in the console.\n",
    "\n",
    "Your Python console should now look like this:"
   ]
  },
  {
   "cell_type": "code",
   "execution_count": 14,
   "metadata": {},
   "outputs": [
    {
     "name": "stdout",
     "output_type": "stream",
     "text": [
      "The itsy bitsy spider climbed up the waterspout.\n",
      "Down came the rain and washed the spider out.\n"
     ]
    }
   ],
   "source": [
    "print(\"The itsy bitsy spider climbed up the waterspout.\")\n",
    "print(\"Down came the rain and washed the spider out.\")"
   ]
  },
  {
   "cell_type": "markdown",
   "metadata": {},
   "source": [
    "This is a good opportunity to make some observations:\n",
    "\n",
    "- the program **invokes the `print()` function twice**, and you can see two separate lines in the console - this means that `print()` begins its output from a new line each time it starts its execution; you can change this behavior, but you can also use it to your advantage;\n",
    "- each `print()` invocation contains a different string, as its argument and the console content reflects it - this means that **the instructions in the code are executed in the same order** in which they have been placed in the source file; no next instruction is executed until the previous one is completed (there are some exceptions to this rule, but you can ignore them for now)"
   ]
  },
  {
   "cell_type": "markdown",
   "metadata": {},
   "source": [
    "# The `print()` function - instructions\n",
    "We've changed the example a bit - we've added one **empty** `print()` function invocation. We call it empty because we haven't delivered any arguments to the function.\n",
    "\n",
    "You can see it in the editor window. Run the code.\n",
    "\n",
    "What happens?\n",
    "\n",
    "If everything goes right, you should see something like this:"
   ]
  },
  {
   "cell_type": "code",
   "execution_count": 15,
   "metadata": {},
   "outputs": [
    {
     "name": "stdout",
     "output_type": "stream",
     "text": [
      "The itsy bitsy spider climbed up the waterspout.\n",
      "\n",
      "Down came the rain and washed the spider out.\n"
     ]
    }
   ],
   "source": [
    "print(\"The itsy bitsy spider climbed up the waterspout.\")\n",
    "print()\n",
    "print(\"Down came the rain and washed the spider out.\")"
   ]
  },
  {
   "cell_type": "markdown",
   "metadata": {},
   "source": [
    "As you can see, the empty `print()` invocation is not as empty as you may have expected - it does output an empty line, or (this interpretation is also correct) its output is just a newline.\n",
    "\n",
    "This is not the only way to produce a **newline** in the output console. We're now going to show you another way."
   ]
  },
  {
   "cell_type": "markdown",
   "metadata": {
    "id": "zBzW_IeVM0S1"
   },
   "source": [
    "# The `print()` function - the escape and newline characters\n",
    "We've modified the code again. Look at it carefully.\n",
    "\n",
    "There are two very subtle changes - we've inserted a strange pair of characters inside the rhyme. They look like this: `\\n`.\n",
    "\n",
    "Interestingly, while **you can see two characters, Python sees one**.\n",
    "\n",
    "The backslash (`\\`) has a very special meaning when used inside strings - this is called **the escape character**.\n",
    "\n",
    "The word *escape* should be understood specifically - it means that the series of characters in the string escapes for the moment (a very short moment) to introduce a special inclusion.\n",
    "\n",
    "In other words, the backslash doesn't mean anything in itself, but is only a kind of announcement, that the next character after the backslash has a different meaning too.\n",
    "\n",
    "The letter `n` placed after the backslash comes from the word *newline*.\n",
    "\n",
    "Both the backslash and the *n* form a special symbol named **a newline character**, which urges the console to start a **new output line**.\n",
    "Run the code. Your console should now look like this:"
   ]
  },
  {
   "cell_type": "code",
   "execution_count": 16,
   "metadata": {
    "id": "sqDqMGKZM0S2",
    "scrolled": true
   },
   "outputs": [
    {
     "name": "stdout",
     "output_type": "stream",
     "text": [
      "The itsy bitsy spider\n",
      "climbed up the waterspout.\n",
      "\n",
      "Down came the rain\n",
      "and washed the spider out.\n"
     ]
    }
   ],
   "source": [
    "print(\"The itsy bitsy spider\\nclimbed up the waterspout.\")\n",
    "print()\n",
    "print(\"Down came the rain\\nand washed the spider out.\")"
   ]
  },
  {
   "cell_type": "markdown",
   "metadata": {},
   "source": [
    "As you can see, two newlines appear in the nursery rhyme, in the places where the `\\n` have been used."
   ]
  },
  {
   "cell_type": "markdown",
   "metadata": {},
   "source": [
    "# The `print()` function - the escape and newline characters\n",
    "This convention has two important consequences:\n",
    "\n",
    "1. If you want to put just one backslash inside a string, don't forget its escaping nature - you have to double it, e.g., such an invocation will cause an error:"
   ]
  },
  {
   "cell_type": "code",
   "execution_count": 17,
   "metadata": {
    "cell_style": "split",
    "id": "w5iXgPtiM0S2"
   },
   "outputs": [
    {
     "ename": "SyntaxError",
     "evalue": "EOL while scanning string literal (2053971215.py, line 1)",
     "output_type": "error",
     "traceback": [
      "\u001b[0;36m  Input \u001b[0;32mIn [17]\u001b[0;36m\u001b[0m\n\u001b[0;31m    print(\"\\\")\u001b[0m\n\u001b[0m              ^\u001b[0m\n\u001b[0;31mSyntaxError\u001b[0m\u001b[0;31m:\u001b[0m EOL while scanning string literal\n"
     ]
    }
   ],
   "source": [
    "print(\"\\\")"
   ]
  },
  {
   "cell_type": "markdown",
   "metadata": {},
   "source": [
    "while this one won't:"
   ]
  },
  {
   "cell_type": "code",
   "execution_count": 18,
   "metadata": {
    "cell_style": "split",
    "id": "9GVdWnkJM0S3"
   },
   "outputs": [
    {
     "name": "stdout",
     "output_type": "stream",
     "text": [
      "\\\n"
     ]
    }
   ],
   "source": [
    "print(\"\\\\\")"
   ]
  },
  {
   "cell_type": "markdown",
   "metadata": {},
   "source": [
    "2. Not all escape pairs (the backslash coupled with another character) mean something.\n",
    "\n",
    "Experiment with your code in the editor, run it, and see what happens."
   ]
  },
  {
   "cell_type": "code",
   "execution_count": 19,
   "metadata": {},
   "outputs": [
    {
     "name": "stdout",
     "output_type": "stream",
     "text": [
      "The itsy bitsy spider\n",
      "climbed up the waterspout.\n",
      "\n",
      "Down came the rain\n",
      "and washed the spider out.\n"
     ]
    }
   ],
   "source": [
    "print(\"The itsy bitsy spider\\nclimbed up the waterspout.\")\n",
    "print()\n",
    "print(\"Down came the rain\\nand washed the spider out.\")"
   ]
  },
  {
   "cell_type": "markdown",
   "metadata": {},
   "source": [
    "# The `print()` function - using multiple arguments\n",
    "So far we have tested the `print()` function behavior with no arguments, and with one argument. It's also worth trying to feed the print() function with more than one argument.\n",
    "\n",
    "Look at the editor window. This is what we're going to test now:"
   ]
  },
  {
   "cell_type": "code",
   "execution_count": 20,
   "metadata": {
    "id": "NeCKewpXM0S4"
   },
   "outputs": [
    {
     "name": "stdout",
     "output_type": "stream",
     "text": [
      "The itsy bitsy spider climbed up the waterspout.\n"
     ]
    }
   ],
   "source": [
    "print(\"The itsy bitsy spider\" , \"climbed up\" , \"the waterspout.\")"
   ]
  },
  {
   "cell_type": "markdown",
   "metadata": {},
   "source": [
    "There is one `print()` function invocation, but it contains **three arguments**. All of them are strings.\n",
    "\n",
    "The arguments are **separated by commas**. We've surrounded them with spaces to make them more visible, but it's not really necessary, and we won't be doing it anymore.\n",
    "\n",
    "In this case, the commas separating the arguments play a completely different role than the comma inside the string. The former is a part of Python's syntax, the latter is intended to be shown in the console.\n",
    "\n",
    "If you look at the code again, you'll see that there are no spaces inside the strings.\n",
    "\n",
    "Run the code and see what happens.\n",
    "\n",
    "The console should now be showing the following text:"
   ]
  },
  {
   "cell_type": "code",
   "execution_count": 21,
   "metadata": {},
   "outputs": [
    {
     "name": "stdout",
     "output_type": "stream",
     "text": [
      "The itsy bitsy spider climbed up the waterspout.\n"
     ]
    }
   ],
   "source": [
    "print(\"The itsy bitsy spider\" , \"climbed up\" , \"the waterspout.\")"
   ]
  },
  {
   "cell_type": "markdown",
   "metadata": {},
   "source": [
    "The spaces, removed from the strings, have appeared again. Can you explain why?\n",
    "\n",
    "Two conclusions emerge from this example:\n",
    "\n",
    "- a `print()` function invoked with more than one argument **outputs them all on one line**;\n",
    "- the `print()` function **puts a space between the outputted arguments** on its own initiative."
   ]
  },
  {
   "cell_type": "markdown",
   "metadata": {},
   "source": [
    "# The `print()` function - the positional way of passing the arguments\n",
    "Now that you know a bit about `print()` function customs, we're going to show you how to change them.\n",
    "\n",
    "You should be able to predict the output without running the code in the editor.\n",
    "\n",
    "The way in which we are passing the arguments into the `print()` function is the most common in Python, and is called **the positional way** (this name comes from the fact that the meaning of the argument is dictated by its position, e.g., the second argument will be outputted after the first, not the other way round).\n",
    "\n",
    "Run the code and check if the output matches your predictions."
   ]
  },
  {
   "cell_type": "code",
   "execution_count": 22,
   "metadata": {
    "id": "sPUys1HdM0S4"
   },
   "outputs": [
    {
     "name": "stdout",
     "output_type": "stream",
     "text": [
      "My name is Python.\n",
      "Monty Python.\n"
     ]
    }
   ],
   "source": [
    "print(\"My name is\", \"Python.\")\n",
    "print(\"Monty Python.\")"
   ]
  },
  {
   "cell_type": "markdown",
   "metadata": {
    "id": "2jy_KM9pM0S4"
   },
   "source": [
    "# The `print()` function - the keyword arguments\n",
    "Python offers another mechanism for the passing of arguments, which can be helpful when you want to convince the `print()` function to change its behavior a bit.\n",
    "\n",
    "We aren't going to explain it in depth right now. We plan to do this when we talk about functions. For now, we simply want to show you how it works. Feel free to use it in your own programs.\n",
    "\n",
    "The mechanism is called **keyword arguments**. The name stems from the fact that the meaning of these arguments is taken not from its location (position) but from the special word (keyword) used to identify them.\n",
    "\n",
    "The `print()` function has two keyword arguments that you can use for your purposes. The first of them is named `end`.\n",
    "\n",
    "In the editor window you can see a very simple example of using a keyword argument.\n",
    "\n",
    "In order to use it, it is necessary to know some rules:\n",
    "\n",
    "- a keyword argument consists of three elements: a **keyword** identifying the argument (`end` here); an **equal sign** (`=`); and a **value** assigned to that argument;\n",
    "- any keyword arguments have to be put **after the last positional argument** (this is very important)\n",
    "\n",
    "In our example, we have made use of the `end` keyword argument, and set it to a string containing one space.\n",
    "\n",
    "Run the code to see how it works.\n",
    "\n",
    "The console should now be showing the following text:"
   ]
  },
  {
   "cell_type": "code",
   "execution_count": 23,
   "metadata": {
    "id": "FA3bpqfTM0S5"
   },
   "outputs": [
    {
     "name": "stdout",
     "output_type": "stream",
     "text": [
      "My name is Python. Monty Python.\n"
     ]
    }
   ],
   "source": [
    "print(\"My name is\", \"Python.\", end=\" \")\n",
    "print(\"Monty Python.\")"
   ]
  },
  {
   "cell_type": "markdown",
   "metadata": {},
   "source": [
    "As you can see, the `end` keyword argument determines the characters the `print()` function sends to the output once it reaches the end of its positional arguments.\n",
    "\n",
    "The default behavior reflects the situation where the `end` keyword argument is **implicitly** used in the following way: `end=\"\\n\"`.\n",
    "\n"
   ]
  },
  {
   "cell_type": "markdown",
   "metadata": {},
   "source": [
    "# The print() function - the keyword arguments\n",
    "And now it's time to try something more difficult.\n",
    "\n",
    "If you look carefully, you'll see that we've used the `end` argument, but the string assigned to it is empty (it contains no characters at all).\n",
    "\n",
    "What will happen now? Run the program in the editor to find out.\n",
    "\n",
    "As the `end` argument has been set to nothing, the `print()` function outputs nothing too, once its positional arguments have been exhausted.\n",
    "\n",
    "The console should now be showing the following text:"
   ]
  },
  {
   "cell_type": "code",
   "execution_count": 24,
   "metadata": {
    "id": "1adtmYQnM0S5"
   },
   "outputs": [
    {
     "name": "stdout",
     "output_type": "stream",
     "text": [
      "My name is Monty Python.\n"
     ]
    }
   ],
   "source": [
    "print(\"My name is \", end=\"\")\n",
    "print(\"Monty Python.\")"
   ]
  },
  {
   "cell_type": "markdown",
   "metadata": {},
   "source": [
    "Note: **no newlines have been sent to the output**.\n",
    "\n",
    "The string assigned to the `end` keyword argument can be of any length. Experiment with it if you want."
   ]
  },
  {
   "cell_type": "markdown",
   "metadata": {
    "id": "T55e8z3LM0S5"
   },
   "source": [
    "# The `print()` function - the keyword arguments\n",
    "We've said previously that the `print()` function separates its outputted arguments with spaces. This behavior can be changed, too.\n",
    "\n",
    "The **keyword argument** that can do this is named `sep` (like *separator*).\n",
    "\n",
    "Look at the code in the editor, and run it.\n",
    "\n",
    "The `sep` argument delivers the following results:"
   ]
  },
  {
   "cell_type": "code",
   "execution_count": 25,
   "metadata": {
    "id": "h0v7GAwVM0S5"
   },
   "outputs": [
    {
     "name": "stdout",
     "output_type": "stream",
     "text": [
      "My-name-is-Monty-Python.\n"
     ]
    }
   ],
   "source": [
    "print(\"My\", \"name\", \"is\", \"Monty\", \"Python.\", sep=\"-\")"
   ]
  },
  {
   "cell_type": "markdown",
   "metadata": {},
   "source": [
    "The `print()` function now uses a dash, instead of a space, to separate the outputted arguments.\n",
    "\n",
    "Note: the `sep` argument's value may be an empty string, too. Try it for yourself."
   ]
  },
  {
   "cell_type": "code",
   "execution_count": null,
   "metadata": {},
   "outputs": [],
   "source": []
  },
  {
   "cell_type": "code",
   "execution_count": null,
   "metadata": {
    "id": "7r_rzEvhM0S6"
   },
   "outputs": [],
   "source": [
    "print(\"My\", \"name\", \"is\", sep=\"_\", end=\"*\")\n",
    "print(\"Monty\", \"Python.\", sep=\"*\", end=\"*\\n\")\n",
    "print(\"Digital\", \"Talent\", \"Dahsyat\", sep=\"_\", end=\"*\")\n",
    "print(\"Guntur\", \"Budi.\", sep=\"*\", end=\"*\\n\")"
   ]
  },
  {
   "cell_type": "markdown",
   "metadata": {
    "id": "5lKi5yn8M0S6"
   },
   "source": [
    "## Lab\n",
    "\n",
    "Buatlah Program untuk menghasilkan output:\n",
    "`Programming***Essentials***in...Python`"
   ]
  },
  {
   "cell_type": "code",
   "execution_count": null,
   "metadata": {
    "id": "NRET-jWvM0S6"
   },
   "outputs": [],
   "source": [
    "print(\"Programming\",\"Essentials\",\"in\",sep=\"***\",end=\"...\")\n",
    "print(\"Python\")\n"
   ]
  },
  {
   "cell_type": "markdown",
   "metadata": {
    "id": "VBVQ7ss5M0S6"
   },
   "source": [
    "## Lab\n",
    "\n",
    "Buatlah program dengan output sebagai berikut:\n",
    "```\n",
    "    *\n",
    "   * *\n",
    "  *   *\n",
    " *     *\n",
    "***   ***\n",
    "  *   *\n",
    "  *   *\n",
    "  ***** ```"
   ]
  },
  {
   "cell_type": "code",
   "execution_count": null,
   "metadata": {
    "id": "36RChHKXM0S7"
   },
   "outputs": [],
   "source": [
    "print(\"    *\\n   * *\\n  *   *\\n *     *\\n***   ***\\n  *   *\\n  *   *\\n  *****\\n\"*2)\n"
   ]
  },
  {
   "cell_type": "code",
   "execution_count": null,
   "metadata": {
    "id": "eJBcNe_yM0S7"
   },
   "outputs": [],
   "source": [
    "print(\"    *    \"*2)\n",
    "print(\"   * *   \"*2)\n",
    "print(\"  *   *  \"*2)\n",
    "print(\" *     * \"*2)\n",
    "print(\"***   ***\"*2)\n",
    "print(\"  *   *  \"*2)\n",
    "print(\"  *   *  \"*2)\n",
    "print(\"  *****  \"*2)\n"
   ]
  },
  {
   "cell_type": "markdown",
   "metadata": {
    "id": "e9qJygGSM0S7"
   },
   "source": [
    "## 2.1.2 Literals\n",
    "literal merupakan notasi untuk mensimbolkan nilai, dapat berupa string, boolean maupun angka (integer dan float)"
   ]
  },
  {
   "cell_type": "code",
   "execution_count": null,
   "metadata": {
    "id": "RepYoquBM0S8"
   },
   "outputs": [],
   "source": [
    "# hasil output akan terlihat sama, namun nilai tersebut tersimpan berbeda dalam memori komputer\n",
    "print(\"2\")\n",
    "print(2)\n",
    "\n",
    "print(type(\"2\"))\n",
    "print(type(2))\n"
   ]
  },
  {
   "cell_type": "markdown",
   "metadata": {
    "id": "YIG2P2iiM0S8"
   },
   "source": [
    "## Integers vs Floats\n"
   ]
  },
  {
   "cell_type": "code",
   "execution_count": null,
   "metadata": {
    "id": "zsFQY6gRM0S8"
   },
   "outputs": [],
   "source": [
    "print(5, \"mempunyai tipe\", type(5))\n",
    "\n",
    "print(5.0, \"mempunyai tipe\", type(5.0))\n"
   ]
  },
  {
   "cell_type": "markdown",
   "metadata": {
    "id": "6pzS0dW5M0S9"
   },
   "source": [
    "\n",
    "## Penulisan Float dan Integer\n",
    "Python versi 3 membolehkan pemisahan digit integer dengan underscore \"_\"\n",
    "agar mudah dibaca\n",
    "```python\n",
    "print (10_000_000)```\n",
    "\n",
    "Float dipisahkan dengan .(titik) bukan ,(koma)\n",
    "cara penulisan float bisa 3 cara\n",
    "\n",
    "- 4.0\n",
    "- .4 (terbaca nol koma 4)\n",
    "- 4. (terbaca 4 koma nol)\n",
    "\n",
    "> 3e08 berarti $ 3 x 10 ^ 8 $  \n",
    "3e-08 berarti $ 3 x 10 ^ {-8} $\n"
   ]
  },
  {
   "cell_type": "code",
   "execution_count": null,
   "metadata": {
    "id": "X1REq2FvM0S9"
   },
   "outputs": [],
   "source": [
    "print (0.000000003)\n",
    "print (3e-8)\n"
   ]
  },
  {
   "cell_type": "markdown",
   "metadata": {
    "id": "mCLCaK5wM0S9"
   },
   "source": [
    "## String\n",
    "\n",
    "Buatlah program untuk menghasilkan output `I'm Monty Python`"
   ]
  },
  {
   "cell_type": "code",
   "execution_count": null,
   "metadata": {
    "id": "ub5SAvsCM0S-"
   },
   "outputs": [],
   "source": [
    "print(\"I'm Monty Python\")\n",
    "print(\"Jum'at\")\n",
    "print('\"Saya berpendapat python itu mudah\", kata Monty')\n",
    "print(\"1.5\")\n",
    "print(\"1000\")\n"
   ]
  },
  {
   "cell_type": "code",
   "execution_count": null,
   "metadata": {
    "id": "NNUiF_rLM0S-"
   },
   "outputs": [],
   "source": [
    "#string kosong pun juga bernilai string\n",
    "print(\"\")\n",
    "print('')\n"
   ]
  },
  {
   "cell_type": "markdown",
   "metadata": {
    "id": "oM9i4xVeM0S-"
   },
   "source": [
    "## Booelan\n",
    "Logika benar salah, 1 bernilai benar (True) dan 0 bernilai salah (False)"
   ]
  },
  {
   "cell_type": "code",
   "execution_count": null,
   "metadata": {
    "id": "vPqNm34PM0S-"
   },
   "outputs": [],
   "source": [
    "print(True)\n",
    "print(False)\n",
    "print (3>0)\n",
    "print (0>3)"
   ]
  },
  {
   "cell_type": "markdown",
   "metadata": {
    "id": "LSz_CStLM0S_"
   },
   "source": [
    "## None"
   ]
  },
  {
   "cell_type": "code",
   "execution_count": null,
   "metadata": {
    "id": "-UFVPuZJM0S_"
   },
   "outputs": [],
   "source": [
    "print(None)"
   ]
  },
  {
   "cell_type": "markdown",
   "metadata": {
    "id": "c2T31MrxM0S_"
   },
   "source": [
    "## Lab\n",
    "Buat output seperti ini dalam satu line <br/>\n",
    "`\"I'm\"`<br/>\n",
    "`\"\"learning\"\"`<br/>\n",
    "`\"\"\"Python\"\"\"`"
   ]
  },
  {
   "cell_type": "code",
   "execution_count": null,
   "metadata": {
    "id": "c9YJvzvDM0S_"
   },
   "outputs": [],
   "source": [
    "print('\"I\\'m\"\\n\"\"learning\"\"\\n\"\"\"Python\"\"\"')\n",
    "\n",
    "print(\"\"\"\n",
    "\"I'm\"\n",
    "\"\"learning\"\"\n",
    "\\\"\"\"Python\"\"\\\"\n",
    "\"\"\")"
   ]
  },
  {
   "cell_type": "markdown",
   "metadata": {
    "id": "7dxshlq_M0S_"
   },
   "source": [
    "# 2.1.3 Operator"
   ]
  },
  {
   "cell_type": "markdown",
   "metadata": {
    "id": "OL2z2CI8M0TA"
   },
   "source": [
    "### Operator Aritmetika\n",
    "\n",
    "| Operator | Arti                                                                                          | Contoh                  |\n",
    "|----------|--------------------------------------------------------------------------------------------------|--------------------------|\n",
    "| +        | Penambahan                                                                   | x + y                 |\n",
    "| -        | Pengurangan                                              | x - y                  |\n",
    "| *        | Perkalian                                                                            | x * y                    |\n",
    "| /        | Pembagian                                 | x / y                    |\n",
    "| %        | Modulo - Sisa Pembagian                                 | x % y (sisa pembagian of x/y) |\n",
    "| //       | Pembagian dan dibulatkan ke bawah | x // y                   |\n",
    "| **       | Eksponen - Pangkat                                             | x**y (x pangkat y)  |"
   ]
  },
  {
   "cell_type": "code",
   "execution_count": null,
   "metadata": {
    "id": "Pln9KhbCM0TA"
   },
   "outputs": [],
   "source": [
    "#eksponen/pangkat\n",
    "print(2 ** 3)\n",
    "print(2 ** 3.)\n",
    "print(2. ** 3)\n",
    "print(2. ** 3.)\n"
   ]
  },
  {
   "cell_type": "code",
   "execution_count": null,
   "metadata": {
    "id": "JaI2Wg8PM0TA"
   },
   "outputs": [],
   "source": [
    "#pembagian\n",
    "print(6 / 3)\n",
    "print(6 / 3.)\n",
    "print(6. / 3)\n",
    "print(6. / 3.)\n"
   ]
  },
  {
   "cell_type": "code",
   "execution_count": null,
   "metadata": {
    "id": "aGrwRyqsM0TA"
   },
   "outputs": [],
   "source": [
    "#pembagian dengan pembulatan ke bawah\n",
    "print(6 // 3)\n",
    "print(6 // 3.)\n",
    "print(6. // 3)\n",
    "print(6. // 3.)\n"
   ]
  },
  {
   "cell_type": "code",
   "execution_count": null,
   "metadata": {
    "id": "8hWnnw_9M0TA"
   },
   "outputs": [],
   "source": [
    "print(6 // 4)\n",
    "print(6. // 4)\n",
    "\n",
    "print(6 / 4)\n",
    "print(6. / 4)\n",
    "\n",
    "#Penting ! pembulatan selalu ke nilai bawahnya\n"
   ]
  },
  {
   "cell_type": "code",
   "execution_count": null,
   "metadata": {
    "id": "v7BTq3M-M0TA"
   },
   "outputs": [],
   "source": [
    "print(-6 // 4)\n",
    "print(6. // -4)\n"
   ]
  },
  {
   "cell_type": "code",
   "execution_count": null,
   "metadata": {
    "id": "-XQqOw2AM0TB"
   },
   "outputs": [],
   "source": [
    "#modulo/sisa bagi\n",
    "print(14 % 4)\n"
   ]
  },
  {
   "cell_type": "code",
   "execution_count": null,
   "metadata": {
    "id": "9agnuu2xM0TB"
   },
   "outputs": [],
   "source": [
    "print(-4 + 4)\n",
    "print(-4. + 8)\n"
   ]
  },
  {
   "cell_type": "markdown",
   "metadata": {
    "id": "Vpu4sgiOM0TB"
   },
   "source": [
    "### Urutan Operator"
   ]
  },
  {
   "cell_type": "code",
   "execution_count": null,
   "metadata": {
    "id": "na1VJ0i2M0TB"
   },
   "outputs": [],
   "source": [
    "#perkalian lebih didahulukan dari penambahan\n",
    "2 + 3 * 5\n"
   ]
  },
  {
   "cell_type": "code",
   "execution_count": null,
   "metadata": {
    "id": "mcwu-IALM0TB"
   },
   "outputs": [],
   "source": [
    "#pengerjaan dari kiri ke kanan\n",
    "print(9 % 6 % 2)\n"
   ]
  },
  {
   "cell_type": "code",
   "execution_count": null,
   "metadata": {
    "id": "i_36hp1eM0TB"
   },
   "outputs": [],
   "source": [
    "#pengerjaan dari kanan ke kiri\n",
    "print(2 ** 2 ** 3)\n"
   ]
  },
  {
   "cell_type": "markdown",
   "metadata": {
    "id": "WtMz-DqxM0TB"
   },
   "source": [
    "| Prioritas| Operator |  ket   |\n",
    "|----------|----------|--------|\n",
    "| 1        | +, -     | unary  |\n",
    "| 2        | **       |        |\n",
    "| 3        | *, /, %  |        |\n",
    "| 4        | +, -     | binary |"
   ]
  },
  {
   "cell_type": "code",
   "execution_count": null,
   "metadata": {
    "id": "99nRBunlM0TB"
   },
   "outputs": [],
   "source": [
    "print((5 * ((25 % 13) + 100) / (2 * 13)) // 2)\n"
   ]
  },
  {
   "cell_type": "markdown",
   "metadata": {
    "id": "vjby67poM0TC"
   },
   "source": [
    "### Latihan\n",
    "\n",
    "`print((2 ** 4), (2 * 4.), (2 * 4))`<br/>\n",
    "`print((-2 / 4), (2 / 4), (2 // 4), (-2 // 4))`<br/>\n",
    "`print((2 % -4), (2 % 4), (2 ** 3 ** 2))`<br/>"
   ]
  },
  {
   "cell_type": "markdown",
   "metadata": {
    "id": "_KJAR01NM0TC"
   },
   "source": [
    "# 2.1.4 Variabel\n",
    "- Apa itu variabel?\n",
    "- Bagaimana Aturan Penamaannya?\n"
   ]
  },
  {
   "cell_type": "code",
   "execution_count": null,
   "metadata": {
    "id": "pHiNVEf7M0TC"
   },
   "outputs": [],
   "source": [
    "# kamu bisa menaruh tipe data apapun dalam variabel\n",
    "var = 1 # bukan operasi matematika, namun operasi assignment i.e., var <-- 1\n",
    "print(var)\n"
   ]
  },
  {
   "cell_type": "markdown",
   "metadata": {
    "id": "A9wVPFjqM0TC"
   },
   "source": [
    "- baris pertama membuat variabel dengan nama `var`, dan diisi dengan nilai `1`.\n",
    "- baris kedua mencetak nilai dalam variabel ke dalam console"
   ]
  },
  {
   "cell_type": "code",
   "execution_count": null,
   "metadata": {
    "id": "_oP0e94PM0TC"
   },
   "outputs": [],
   "source": [
    "var = 1\n",
    "saldo = 1000.0\n",
    "namaKlien = 'John Doe'\n",
    "print(var, saldo, namaKlien)\n",
    "print(var)\n"
   ]
  },
  {
   "cell_type": "code",
   "execution_count": null,
   "metadata": {
    "id": "83JP7Q0IM0TC"
   },
   "outputs": [],
   "source": [
    "#case sensitive, huruf besar kecil perlu diperhatikan!\n",
    "var = 1\n",
    "print(Var) "
   ]
  },
  {
   "cell_type": "code",
   "execution_count": null,
   "metadata": {
    "id": "KiI89oOvM0TC"
   },
   "outputs": [],
   "source": [
    "#tanda '+' bisa digunakan untuk kontatinasi untuk type string\n",
    "var = \"2019\"\n",
    "print(\"Digital talent: \" + var)"
   ]
  },
  {
   "cell_type": "code",
   "execution_count": null,
   "metadata": {
    "id": "jStFQeQMM0TD"
   },
   "outputs": [],
   "source": [
    "#menetapkan  nilai baru ke dalam variabel yang telah ada \n",
    "#menugaskan variabel\n",
    "\n",
    "var = 1\n",
    "print(var)\n",
    "var = var + 1\n",
    "print(var)"
   ]
  },
  {
   "cell_type": "code",
   "execution_count": null,
   "metadata": {
    "id": "jtOFmSajM0TD"
   },
   "outputs": [],
   "source": [
    "var = 100\n",
    "var = 200 + 300\n",
    "print(var)"
   ]
  },
  {
   "cell_type": "markdown",
   "metadata": {
    "id": "31GpVFEOM0TD"
   },
   "source": [
    "### Latihan\n",
    "Tulis rumus ini dalam kode program:<br/> $c=\\sqrt{a^2+b^2}$"
   ]
  },
  {
   "cell_type": "code",
   "execution_count": null,
   "metadata": {
    "id": "mfXC53wkM0TD"
   },
   "outputs": [],
   "source": [
    "a = 3.0\n",
    "b = 4.0\n",
    "c = (a ** 2 + b ** 2) ** 0.5\n",
    "print(\"c =\", c)"
   ]
  },
  {
   "cell_type": "markdown",
   "metadata": {
    "id": "K1Q0hWR9M0TD"
   },
   "source": [
    "### Lab\n",
    "\n",
    "<b>Cerita Pendek:</b> \n",
    "\n",
    "Suatu waktu di kebun apel, Guntur memiliki 3 apel, Icha memiliki 5 apel dan Ratna memiliki 6 Apel. mereka sangat bahagia dan hidup lama. selesai.\n",
    "\n",
    "Tugas Anda\n",
    "- buat variabe : `Guntur`, `Icha` dan `Ratna`\n",
    "- isi nilai sesuai dengan jumlah apel yang mereka miliki\n",
    "- cetak nama variabel dan jumlah apel setiap variabel dalam 1 baris, pisahkan dengan koma\n",
    "- buat variabel baru dengan nama `totalApel` yang berisi penjumlahan seluruh apel yang mereka miliki\n",
    "- coba otak atik code dengan membuat variable baru, diisi dengan nilai lain, dan dihitung dengan operator aritmetik lainnya\n"
   ]
  },
  {
   "cell_type": "code",
   "execution_count": null,
   "metadata": {
    "id": "0SoJD7k-M0TD"
   },
   "outputs": [],
   "source": [
    "Guntur = 3\n",
    "Icha = 5\n",
    "Ratna = 6\n",
    "\n",
    "print(\"Apel milik Guntur\",Guntur)\n",
    "print(\"Apel milik Guntur\",Icha)\n",
    "print(\"Apel milik Guntur\",Ratna)\n",
    "\n",
    "totalApel = Guntur + Icha + Ratna\n",
    "print(\"Total number of apples: \" , totalApel)"
   ]
  },
  {
   "cell_type": "code",
   "execution_count": null,
   "metadata": {
    "id": "VsXdDWADM0TD"
   },
   "outputs": [],
   "source": [
    "#Jalan Pintas operator\n",
    "\n",
    "sheep = 5\n",
    "sheep = sheep + 1\n",
    "print(sheep)\n",
    "\n",
    "sheep += 3\n",
    "print(sheep)\n",
    "\n",
    "sheep *= 2\n",
    "print(sheep)"
   ]
  },
  {
   "cell_type": "markdown",
   "metadata": {
    "id": "pDM9w8WaM0TE"
   },
   "source": [
    "### Lab\n",
    "\n",
    "Mil dan kilometer adalah satuan panjang\n",
    "\n",
    "1 mil memiliki panjang sekitar 1.61 kilometer, buatlah program konversi di bawah ini\n",
    "- mil ke kilometer;\n",
    "- kilometer to mil.\n",
    "jangan ganti apapun terhadap kode yang sudah ada. tulis kodemu pada tanda ###, kemudian hapus tanda tersebut. Uji kode Anda dengan data yang kami sajikan dalam source code\n"
   ]
  },
  {
   "cell_type": "markdown",
   "metadata": {
    "id": "K1QoJtX9M0TE"
   },
   "source": [
    "Kode:\n",
    "```python\n",
    "kilometer = 12.25\n",
    "mil = 7.38\n",
    "\n",
    "mil_ke_kilometer = ###\n",
    "kilometer_ke_mil = ###\n",
    "\n",
    "print(mil, \"1 mil adalah\", round(miles_to_kilometers, 2), \"kilometer\")\n",
    "print(kilometer, \"1 kilometer adalah\", round(kilometers_to_miles, 2), \"mil\")\n",
    "```"
   ]
  },
  {
   "cell_type": "code",
   "execution_count": null,
   "metadata": {
    "id": "_cv_06P1M0TE"
   },
   "outputs": [],
   "source": [
    "kilometer = 12.25\n",
    "mil = 7.61\n",
    "\n",
    "mil_ke_kilometer = mil * 1.61\n",
    "kilometer_ke_mil = kilometer / 1.61\n",
    "\n",
    "print(mil, \"mil adalah\", round(mil_ke_kilometer, 2), \"kilometer\")\n",
    "print(kilometer, \"kilometer adalah\", round(kilometer_ke_mil, 2), \"mil\")"
   ]
  },
  {
   "cell_type": "markdown",
   "metadata": {
    "id": "-5oSZDdAM0TE"
   },
   "source": [
    "### Lab\n",
    "\n",
    "Skenario\n",
    "lihatlah kode dalam editor, nilai tersebut termasuk tipe float, letakkan nilai tersebut dalam variabel x, dan print variabel tersebut dalam variabel y. Tugasmu adalah melengkapi kode di bawah ini untk menyelesaikan persamaan di bawah\n",
    "\n",
    "$3x^3 - 2x^2 + 3x - 1$\n",
    "\n",
    "Hasil harus disimpan dalam variabel y.\n",
    "ingat bahwa aljabar klasik sering menghilangkan operator perkalian, kamu harus menggunakannya secara eksplisit. Ingat bagaimana cara mengubah tipe data untuk memastikan bahwa x bertipe float.\n",
    "\n",
    "usahakan kodemu mudah dibaca, uji kode dengan data yang telah kami berikan.\n",
    "\n",
    "```python\n",
    "x =  # hardcode your test data here\n",
    "x = float(x)\n",
    "# tulis kodemu disini\n",
    "print(\"y =\", y)\n",
    "```\n",
    "\n",
    "Test Data:\n",
    "```python\n",
    "#input\n",
    "x = 0\n",
    "x = 1\n",
    "x = -1\n",
    "\n",
    "#output\n",
    "y = -1.0\n",
    "y = 3.0\n",
    "y = -9.0\n",
    "```"
   ]
  },
  {
   "cell_type": "code",
   "execution_count": null,
   "metadata": {
    "id": "8aYneU8MM0TE"
   },
   "outputs": [],
   "source": [
    "x = -1\n",
    "x = float(x)\n",
    "y = 3*x**3 - 2*x**2 + 3*x -1\n",
    "print(\"y =\", y)"
   ]
  },
  {
   "cell_type": "markdown",
   "metadata": {
    "id": "6RC2R6QYM0TE"
   },
   "source": [
    "### Exercise\n",
    "\n",
    "Apa outputnya?\n",
    "```python\n",
    "var = 2\n",
    "var = 3\n",
    "print(var)\n",
    "```\n",
    "\n",
    "Nama variabel mana yang ilegal?\n",
    "```python\n",
    "my_var\n",
    "m\n",
    "101\n",
    "averylongvariablename\n",
    "m101\n",
    "m 101\n",
    "Del\n",
    "del\n",
    "```\n",
    "\n",
    "Apa Outputnya?\n",
    "```python\n",
    "a = '1'\n",
    "b = \"1\"\n",
    "print(a + b)\n",
    "```\n",
    "\n",
    "Apa outputnya?\n",
    "\n",
    "```python\n",
    "a = 6\n",
    "b = 3\n",
    "a /= 2 * b\n",
    "print(a)\n",
    "```"
   ]
  },
  {
   "cell_type": "markdown",
   "metadata": {
    "id": "DAjEn8kXM0TF"
   },
   "source": [
    "# 2.1.5 Comments\n",
    "Latihan: mana yang seharusnya menjadi komentar, mana yang tidak"
   ]
  },
  {
   "cell_type": "code",
   "execution_count": null,
   "metadata": {
    "id": "g9bt9_GPM0TF"
   },
   "outputs": [],
   "source": [
    "#this program computes the number of seconds in a given number of hours\n",
    "# this program has been written two days ago\n",
    "\n",
    "a = 2 # number of hours\n",
    "seconds = 3600 # number of seconds in 1 hour\n",
    "\n",
    "print(\"Hours: \", a) #printing the number of hours\n",
    "# print(\"Seconds in Hours: \", a * seconds) # printing the number of seconds in a given number of hours\n",
    "\n",
    "#here we should also print \"Goodbye\", but a programmer didn't have time to write any code\n",
    "#this is the end of the program that computes the number of seconds in 3 hour\n"
   ]
  },
  {
   "cell_type": "markdown",
   "metadata": {
    "id": "2_7QoJPBM0TF"
   },
   "source": [
    "# 2.1.6 How to talk to a computer \n",
    "katakunci `input()`<br/>\n",
    "hasil dari fungsi `input()` adalah <b>string</b>.<br/>\n",
    "Tidak bisa langsung dikenakan ke operasi aritmetika"
   ]
  },
  {
   "cell_type": "code",
   "execution_count": null,
   "metadata": {
    "id": "aZVbUC_0M0TF"
   },
   "outputs": [],
   "source": [
    "print(\"Tell me anything...\")\n",
    "anything = input()\n",
    "print(\"Hmm...\", anything, \"... Really?\")\n"
   ]
  },
  {
   "cell_type": "code",
   "execution_count": null,
   "metadata": {
    "id": "Oq6AegWIM0TF"
   },
   "outputs": [],
   "source": [
    "angka = input(\"Masukkan Angka...\")\n",
    "print(\"Pangkat duanya adalah\", angka*2)\n"
   ]
  },
  {
   "cell_type": "markdown",
   "metadata": {
    "id": "v31Quy6RM0TF"
   },
   "source": [
    "### type casting"
   ]
  },
  {
   "cell_type": "code",
   "execution_count": null,
   "metadata": {
    "id": "FKr3CkKxM0TF"
   },
   "outputs": [],
   "source": [
    "angka = float(input(\"Masukkan Angka...\"))\n",
    "print(\"Pangkat duanya adalah\", angka**2)\n"
   ]
  },
  {
   "cell_type": "code",
   "execution_count": null,
   "metadata": {
    "id": "OQj9bMitM0TG"
   },
   "outputs": [],
   "source": [
    "leg_a = float(input(\"Input first leg length: \"))\n",
    "leg_b = float(input(\"Input second leg length: \"))\n",
    "hypo = (leg_a**2 + leg_b**2) ** .5\n",
    "print(\"Hypotenuse length is\", hypo)\n"
   ]
  },
  {
   "cell_type": "code",
   "execution_count": null,
   "metadata": {
    "id": "bJ2VVcPzM0TG"
   },
   "outputs": [],
   "source": [
    "fnam = input(\"May I have your first name, please? \")\n",
    "lnam = input(\"May I have your last name, please? \")\n",
    "print(\"Thank you.\")\n",
    "print(\"\\nYour name is \" + fnam + \" \" + lnam + \".\")\n"
   ]
  },
  {
   "cell_type": "code",
   "execution_count": null,
   "metadata": {
    "id": "sVkcGmXTM0TG"
   },
   "outputs": [],
   "source": [
    "#Replication\n",
    "\n",
    "print(\"+\" + 10 * \"-\" + \"+\")\n",
    "print((\"|\" + \" \" * 10 + \"|\\n\") * 5, end=\"\")\n",
    "print(\"+\" + 10 * \"-\" + \"+\")\n"
   ]
  },
  {
   "cell_type": "code",
   "execution_count": null,
   "metadata": {
    "id": "DP4l2NfgM0TG"
   },
   "outputs": [],
   "source": [
    "leg_a = float(input(\"Input first leg length: \"))\n",
    "leg_b = float(input(\"Input second leg length: \"))\n",
    "print(\"Hypotenuse length is \" + str((leg_a**2 + leg_b**2) ** .5))\n"
   ]
  },
  {
   "cell_type": "markdown",
   "metadata": {
    "id": "EY-_P_HsM0TG"
   },
   "source": [
    "### Lab\n",
    "Coba utak atik perintah kode dibawah ini\n",
    "``` python\n",
    "# Masukkan nilai a dalam float\n",
    "# Masukkan nilai b dalam float\n",
    "\n",
    "# hitung hasil penambahan disini\n",
    "# hitung hasil pengurangan disini\n",
    "# hitung hasil perkalian disini\n",
    "# hitung hasil pembagian disini\n",
    "\n",
    "\n",
    "print(\"\\nYeahhhh\")\n",
    "```"
   ]
  },
  {
   "cell_type": "code",
   "execution_count": null,
   "metadata": {
    "id": "TaDSkbH5M0TG"
   },
   "outputs": [],
   "source": [
    "a = float(input(\"Masukkan a = \"))\n",
    "b = float(input(\"Masukkan b = \"))\n",
    "\n",
    "print(\"a+b = \",a+b)\n",
    "print(\"a-b = \",a-b)\n",
    "print(\"a*b = \",a*b)\n",
    "print(\"a/b = \",a/b)\n",
    "print(\"\\nYeahhhh!\")\n"
   ]
  },
  {
   "cell_type": "markdown",
   "metadata": {
    "id": "Du5BK9uNM0TG"
   },
   "source": [
    "### Lab\n",
    "Kerjakan rumus berikut:\n",
    "\n",
    "$$\\frac{1}{x+\\frac{1}{x+\\frac{1}{x+\\frac{1}{x}}}}$$\n",
    "\n",
    "input/output yang diharapkan\n",
    "```python\n",
    "x = 1\n",
    "y = 0.6000000000000001\n",
    "\n",
    "x = 10\n",
    "y = 0.09901951266867294\n",
    "```"
   ]
  },
  {
   "cell_type": "code",
   "execution_count": null,
   "metadata": {
    "id": "0bFxbOQ7M0TH"
   },
   "outputs": [],
   "source": [
    "x = float(input(\"Enter value for x: \"))\n",
    "y = 1/(x+1/(x+1/(x+1/x)))\n",
    "\n",
    "print(\"y =\", y)\n"
   ]
  },
  {
   "cell_type": "markdown",
   "metadata": {
    "id": "JABgoHXjM0TH"
   },
   "source": [
    "### Lab\n",
    "Tugasmu adalah mempersiapkan kode simpel untuk menentukan waktu akhir/selesai sebuah kegiatan. Diberikan variabel durasi waktu dalam menit dan waktu mulai dalam jam (0..23)dan menit (0..59). hasilnya harus dicetak dalam console\n",
    "\n",
    "sebagai contoh, jika suatu kegiatan dimulai pukul `12:17` dan berlangsung selama `59 minutes` , maka kegiatan tersebut tersebut akan selesai pukul `13:16`\n",
    "\n",
    "jangan takut kalau kodemu belum sempurna, tidak masalah waktunya terlihat tidak valid, yang terpenting kodenya dapat menghasilkan nilai yang valid berdasarkan data input.\n",
    "\n",
    "Kode Dasar:\n",
    "```python\n",
    "jam = int(input(\"waktu mulai (jam): \"))\n",
    "menit = int(input(\"waktu mulai (menit): \"))\n",
    "durasi= int(input(\"durasi kegiatan (minutes): \"))\n",
    "\n",
    "# Letakkan kodemu disini\n",
    "```\n",
    "Uji Kodemu, Petunjuk ! gunakan operator % sebagai kunci suksesmu\n",
    ",,"
   ]
  },
  {
   "cell_type": "code",
   "execution_count": 7,
   "metadata": {
    "id": "EXlqzwrxM0TH"
   },
   "outputs": [
    {
     "name": "stdin",
     "output_type": "stream",
     "text": [
      "waktu mulai (jam):  12\n",
      "waktu mulai (menit):  17\n",
      "durasi kegiatan (menit):  59\n"
     ]
    },
    {
     "name": "stdout",
     "output_type": "stream",
     "text": [
      "13:16\n"
     ]
    }
   ],
   "source": [
    "# coba di cek lagi\n",
    "\n",
    "jam = int(input(\"waktu mulai (jam): \"))\n",
    "menit = int(input(\"waktu mulai (menit): \"))\n",
    "durasi = int(input(\"durasi kegiatan (menit): \"))\n",
    "\n",
    "tambah_menit = menit + durasi\n",
    "tambah_jam = int(tambah_menit / 60)\n",
    "\n",
    "jam += tambah_jam\n",
    "menit = tambah_menit % 60\n",
    "\n",
    "print(str(jam%24)+':'+str(menit))"
   ]
  },
  {
   "cell_type": "code",
   "execution_count": null,
   "metadata": {},
   "outputs": [],
   "source": []
  }
 ],
 "metadata": {
  "celltoolbar": "Slideshow",
  "colab": {
   "name": "Modul 2 - Tipe Data, Variabel, Dasar Input Output, Operasi.ipynb",
   "provenance": []
  },
  "kernelspec": {
   "display_name": "Python 3 (ipykernel)",
   "language": "python",
   "name": "python3"
  },
  "language_info": {
   "codemirror_mode": {
    "name": "ipython",
    "version": 3
   },
   "file_extension": ".py",
   "mimetype": "text/x-python",
   "name": "python",
   "nbconvert_exporter": "python",
   "pygments_lexer": "ipython3",
   "version": "3.9.7"
  },
  "rise": {
   "auto_select": "none",
   "auto_select_fragment": false,
   "footer": "<h3 style='padding:10px;color:rgb(59, 117, 158);font-weight:bold'>netacad Indonesia</h3>",
   "header": "<h2 style='padding:10px;color:rgb(59, 117, 158);font-weight:bold'>Python - PCAP</h2>",
   "scroll": true,
   "theme": "sky",
   "width": "90%"
  }
 },
 "nbformat": 4,
 "nbformat_minor": 4
}
