{
 "cells": [
  {
   "cell_type": "markdown",
   "id": "a1b71573-1abf-41ff-824a-469c8e1704a1",
   "metadata": {},
   "source": [
    "# **Natural Language Toolkit**"
   ]
  },
  {
   "cell_type": "markdown",
   "id": "1816a948-c600-41ab-bda7-556b62085e37",
   "metadata": {},
   "source": [
    "Tokenize and tag some text:"
   ]
  },
  {
   "cell_type": "code",
   "execution_count": 4,
   "id": "d65cdeea-e530-4c0b-ac8c-7dbe4d6c65b3",
   "metadata": {},
   "outputs": [
    {
     "name": "stderr",
     "output_type": "stream",
     "text": [
      "[nltk_data] Downloading package punkt to /home/edmondium/nltk_data...\n",
      "[nltk_data]   Unzipping tokenizers/punkt.zip.\n"
     ]
    }
   ],
   "source": [
    "import nltk\n",
    "nltk.download('punkt')\n",
    "sentence = \"At eight o'clock on Thursday morning Arthur didn't feel very good.\"\n",
    "tokens = nltk.word_tokenize(sentence)"
   ]
  },
  {
   "cell_type": "code",
   "execution_count": 6,
   "id": "075b99f4-8fc4-4cff-82bc-400ede0d2405",
   "metadata": {},
   "outputs": [
    {
     "data": {
      "text/plain": [
       "['At',\n",
       " 'eight',\n",
       " \"o'clock\",\n",
       " 'on',\n",
       " 'Thursday',\n",
       " 'morning',\n",
       " 'Arthur',\n",
       " 'did',\n",
       " \"n't\",\n",
       " 'feel',\n",
       " 'very',\n",
       " 'good',\n",
       " '.']"
      ]
     },
     "execution_count": 6,
     "metadata": {},
     "output_type": "execute_result"
    }
   ],
   "source": [
    "tokens"
   ]
  },
  {
   "cell_type": "markdown",
   "id": "cfcee9b8-e9bb-467f-af31-56ca0b5ca7fd",
   "metadata": {},
   "source": [
    "Identify named entities:"
   ]
  },
  {
   "cell_type": "code",
   "execution_count": 29,
   "id": "4a6874a1-05ab-4839-8c52-3698c4e73e3b",
   "metadata": {},
   "outputs": [
    {
     "data": {
      "text/plain": [
       "<nltk.chunk.named_entity.NEChunkParser at 0x7ff532638c70>"
      ]
     },
     "execution_count": 29,
     "metadata": {},
     "output_type": "execute_result"
    }
   ],
   "source": []
  },
  {
   "cell_type": "code",
   "execution_count": 34,
   "id": "3830a6f7-e386-4d6c-b3e7-e21bf6d7fe71",
   "metadata": {},
   "outputs": [
    {
     "name": "stderr",
     "output_type": "stream",
     "text": [
      "[nltk_data] Downloading package maxent_ne_chunker to\n",
      "[nltk_data]     /home/edmondium/nltk_data...\n",
      "[nltk_data]   Package maxent_ne_chunker is already up-to-date!\n"
     ]
    }
   ],
   "source": [
    "nltk.download('maxent_ne_chunker')\n",
    "import pandas\n",
    "data_pickle = pandas.read_pickle('/home/edmondium/nltk_data/chunkers/maxent_ne_chunker/english_ace_binary.pickle')\n",
    "data_pickle\n",
    "entities = nltk.chunk.ne_chunk(tagged_tokens='')"
   ]
  },
  {
   "cell_type": "markdown",
   "id": "e915b504-6013-42a0-b4da-382e11724783",
   "metadata": {},
   "source": [
    "Display a parse tree:"
   ]
  },
  {
   "cell_type": "code",
   "execution_count": 17,
   "id": "bd7be0be-aade-4e55-9c49-d4e0b7524d5b",
   "metadata": {},
   "outputs": [
    {
     "name": "stderr",
     "output_type": "stream",
     "text": [
      "[nltk_data] Downloading package treebank to\n",
      "[nltk_data]     /home/edmondium/nltk_data...\n",
      "[nltk_data]   Package treebank is already up-to-date!\n"
     ]
    }
   ],
   "source": [
    "nltk.download('treebank')\n",
    "from nltk.corpus import treebank\n",
    "t = treebank.parsed_sents('wsj_0001.mrg')[0]"
   ]
  },
  {
   "cell_type": "code",
   "execution_count": 18,
   "id": "b0390731-f687-459b-9117-d0dded6766cc",
   "metadata": {},
   "outputs": [],
   "source": [
    "t.draw()"
   ]
  },
  {
   "cell_type": "markdown",
   "id": "f256bf78-aad1-4436-9bc7-496c009f6e57",
   "metadata": {
    "tags": [],
    "toc-hr-collapsed": true
   },
   "source": [
    "## **1. Language Processing and Python**"
   ]
  },
  {
   "cell_type": "markdown",
   "id": "a11dbd34-955d-4c05-a277-a81ba08cb33b",
   "metadata": {
    "toc-hr-collapsed": true
   },
   "source": [
    "### **1   Computing with Language: Texts and Words**"
   ]
  },
  {
   "cell_type": "markdown",
   "id": "8e40c642-8801-4ead-8ca8-7b5e22692c36",
   "metadata": {},
   "source": [
    "#### **1.1   Getting Started with Python**"
   ]
  },
  {
   "cell_type": "markdown",
   "id": "c15d1f64-926c-4ed6-8135-ff0d7eb9b1c8",
   "metadata": {},
   "source": [
    "#### **1.2   Getting Started with NLTK**"
   ]
  },
  {
   "cell_type": "markdown",
   "id": "6e1fb94f-67e6-46b9-ba76-89f11eb1bca0",
   "metadata": {},
   "source": [
    "Once you've installed NLTK, start up the Python interpreter, and install the data required for the book by typing the following two commands at the Python prompt, then selecting the `book` collection"
   ]
  },
  {
   "cell_type": "code",
   "execution_count": 1,
   "id": "4513de92-580c-4ba4-8020-fcc9262df236",
   "metadata": {},
   "outputs": [
    {
     "name": "stderr",
     "output_type": "stream",
     "text": [
      "[nltk_data] Downloading collection 'book'\n",
      "[nltk_data]    | \n",
      "[nltk_data]    | Downloading package abc to\n",
      "[nltk_data]    |     /home/edmondium/nltk_data...\n",
      "[nltk_data]    |   Unzipping corpora/abc.zip.\n",
      "[nltk_data]    | Downloading package brown to\n",
      "[nltk_data]    |     /home/edmondium/nltk_data...\n",
      "[nltk_data]    |   Unzipping corpora/brown.zip.\n",
      "[nltk_data]    | Downloading package chat80 to\n",
      "[nltk_data]    |     /home/edmondium/nltk_data...\n",
      "[nltk_data]    |   Unzipping corpora/chat80.zip.\n",
      "[nltk_data]    | Downloading package cmudict to\n",
      "[nltk_data]    |     /home/edmondium/nltk_data...\n",
      "[nltk_data]    |   Unzipping corpora/cmudict.zip.\n",
      "[nltk_data]    | Downloading package conll2000 to\n",
      "[nltk_data]    |     /home/edmondium/nltk_data...\n",
      "[nltk_data]    |   Unzipping corpora/conll2000.zip.\n",
      "[nltk_data]    | Downloading package conll2002 to\n",
      "[nltk_data]    |     /home/edmondium/nltk_data...\n",
      "[nltk_data]    |   Unzipping corpora/conll2002.zip.\n",
      "[nltk_data]    | Downloading package dependency_treebank to\n",
      "[nltk_data]    |     /home/edmondium/nltk_data...\n",
      "[nltk_data]    |   Unzipping corpora/dependency_treebank.zip.\n",
      "[nltk_data]    | Downloading package genesis to\n",
      "[nltk_data]    |     /home/edmondium/nltk_data...\n",
      "[nltk_data]    |   Unzipping corpora/genesis.zip.\n",
      "[nltk_data]    | Downloading package gutenberg to\n",
      "[nltk_data]    |     /home/edmondium/nltk_data...\n",
      "[nltk_data]    |   Unzipping corpora/gutenberg.zip.\n",
      "[nltk_data]    | Downloading package ieer to\n",
      "[nltk_data]    |     /home/edmondium/nltk_data...\n",
      "[nltk_data]    |   Unzipping corpora/ieer.zip.\n",
      "[nltk_data]    | Downloading package inaugural to\n",
      "[nltk_data]    |     /home/edmondium/nltk_data...\n",
      "[nltk_data]    |   Unzipping corpora/inaugural.zip.\n",
      "[nltk_data]    | Downloading package movie_reviews to\n",
      "[nltk_data]    |     /home/edmondium/nltk_data...\n",
      "[nltk_data]    |   Unzipping corpora/movie_reviews.zip.\n",
      "[nltk_data]    | Downloading package nps_chat to\n",
      "[nltk_data]    |     /home/edmondium/nltk_data...\n",
      "[nltk_data]    |   Unzipping corpora/nps_chat.zip.\n",
      "[nltk_data]    | Downloading package names to\n",
      "[nltk_data]    |     /home/edmondium/nltk_data...\n",
      "[nltk_data]    |   Unzipping corpora/names.zip.\n",
      "[nltk_data]    | Downloading package ppattach to\n",
      "[nltk_data]    |     /home/edmondium/nltk_data...\n",
      "[nltk_data]    |   Unzipping corpora/ppattach.zip.\n",
      "[nltk_data]    | Downloading package reuters to\n",
      "[nltk_data]    |     /home/edmondium/nltk_data...\n",
      "[nltk_data]    | Downloading package senseval to\n",
      "[nltk_data]    |     /home/edmondium/nltk_data...\n",
      "[nltk_data]    |   Unzipping corpora/senseval.zip.\n",
      "[nltk_data]    | Downloading package state_union to\n",
      "[nltk_data]    |     /home/edmondium/nltk_data...\n",
      "[nltk_data]    |   Unzipping corpora/state_union.zip.\n",
      "[nltk_data]    | Downloading package stopwords to\n",
      "[nltk_data]    |     /home/edmondium/nltk_data...\n",
      "[nltk_data]    |   Unzipping corpora/stopwords.zip.\n",
      "[nltk_data]    | Downloading package swadesh to\n",
      "[nltk_data]    |     /home/edmondium/nltk_data...\n",
      "[nltk_data]    |   Unzipping corpora/swadesh.zip.\n",
      "[nltk_data]    | Downloading package timit to\n",
      "[nltk_data]    |     /home/edmondium/nltk_data...\n",
      "[nltk_data]    |   Unzipping corpora/timit.zip.\n",
      "[nltk_data]    | Downloading package treebank to\n",
      "[nltk_data]    |     /home/edmondium/nltk_data...\n",
      "[nltk_data]    |   Unzipping corpora/treebank.zip.\n",
      "[nltk_data]    | Downloading package toolbox to\n",
      "[nltk_data]    |     /home/edmondium/nltk_data...\n",
      "[nltk_data]    |   Unzipping corpora/toolbox.zip.\n",
      "[nltk_data]    | Downloading package udhr to\n",
      "[nltk_data]    |     /home/edmondium/nltk_data...\n",
      "[nltk_data]    |   Unzipping corpora/udhr.zip.\n",
      "[nltk_data]    | Downloading package udhr2 to\n",
      "[nltk_data]    |     /home/edmondium/nltk_data...\n",
      "[nltk_data]    |   Unzipping corpora/udhr2.zip.\n",
      "[nltk_data]    | Downloading package unicode_samples to\n",
      "[nltk_data]    |     /home/edmondium/nltk_data...\n",
      "[nltk_data]    |   Unzipping corpora/unicode_samples.zip.\n",
      "[nltk_data]    | Downloading package webtext to\n",
      "[nltk_data]    |     /home/edmondium/nltk_data...\n",
      "[nltk_data]    |   Unzipping corpora/webtext.zip.\n",
      "[nltk_data]    | Downloading package wordnet to\n",
      "[nltk_data]    |     /home/edmondium/nltk_data...\n",
      "[nltk_data]    | Downloading package wordnet_ic to\n",
      "[nltk_data]    |     /home/edmondium/nltk_data...\n",
      "[nltk_data]    |   Unzipping corpora/wordnet_ic.zip.\n",
      "[nltk_data]    | Downloading package words to\n",
      "[nltk_data]    |     /home/edmondium/nltk_data...\n",
      "[nltk_data]    |   Unzipping corpora/words.zip.\n",
      "[nltk_data]    | Downloading package maxent_treebank_pos_tagger to\n",
      "[nltk_data]    |     /home/edmondium/nltk_data...\n",
      "[nltk_data]    |   Unzipping taggers/maxent_treebank_pos_tagger.zip.\n",
      "[nltk_data]    | Downloading package maxent_ne_chunker to\n",
      "[nltk_data]    |     /home/edmondium/nltk_data...\n",
      "[nltk_data]    |   Package maxent_ne_chunker is already up-to-date!\n",
      "[nltk_data]    | Downloading package universal_tagset to\n",
      "[nltk_data]    |     /home/edmondium/nltk_data...\n",
      "[nltk_data]    |   Unzipping taggers/universal_tagset.zip.\n",
      "[nltk_data]    | Downloading package punkt to\n",
      "[nltk_data]    |     /home/edmondium/nltk_data...\n",
      "[nltk_data]    |   Package punkt is already up-to-date!\n",
      "[nltk_data]    | Downloading package book_grammars to\n",
      "[nltk_data]    |     /home/edmondium/nltk_data...\n",
      "[nltk_data]    |   Unzipping grammars/book_grammars.zip.\n",
      "[nltk_data]    | Downloading package city_database to\n",
      "[nltk_data]    |     /home/edmondium/nltk_data...\n",
      "[nltk_data]    |   Unzipping corpora/city_database.zip.\n",
      "[nltk_data]    | Downloading package tagsets to\n",
      "[nltk_data]    |     /home/edmondium/nltk_data...\n",
      "[nltk_data]    |   Unzipping help/tagsets.zip.\n",
      "[nltk_data]    | Downloading package panlex_swadesh to\n",
      "[nltk_data]    |     /home/edmondium/nltk_data...\n",
      "[nltk_data]    | Downloading package averaged_perceptron_tagger to\n",
      "[nltk_data]    |     /home/edmondium/nltk_data...\n",
      "[nltk_data]    |   Unzipping taggers/averaged_perceptron_tagger.zip.\n",
      "[nltk_data]    | \n",
      "[nltk_data]  Done downloading collection book\n"
     ]
    },
    {
     "data": {
      "text/plain": [
       "True"
      ]
     },
     "execution_count": 1,
     "metadata": {},
     "output_type": "execute_result"
    }
   ],
   "source": [
    "import nltk\n",
    "nltk.download('book')"
   ]
  },
  {
   "cell_type": "markdown",
   "id": "48cd1687-f42f-4a45-9b85-f5174b859546",
   "metadata": {},
   "source": [
    "Once the data is downloaded to your machine, you can load some of it using the Python interpreter. The first step is to type a special command at the Python prompt which tells the interpreter to load some texts for us to explore: `from nltk.book import *`. This says \"from NLTK's book module, load all items.\" The book module contains all the data you will need as you read this chapter. After printing a welcome message, it loads the text of several books (this will take a few seconds). Here's the command again, together with the output that you will see. Take care to get spelling and punctuation right, and remember that you don't type the `>>>`."
   ]
  },
  {
   "cell_type": "code",
   "execution_count": 1,
   "id": "c4248017-2efe-4518-8901-8a225f0b2efe",
   "metadata": {},
   "outputs": [
    {
     "name": "stdout",
     "output_type": "stream",
     "text": [
      "*** Introductory Examples for the NLTK Book ***\n",
      "Loading text1, ..., text9 and sent1, ..., sent9\n",
      "Type the name of the text or sentence to view it.\n",
      "Type: 'texts()' or 'sents()' to list the materials.\n",
      "text1: Moby Dick by Herman Melville 1851\n",
      "text2: Sense and Sensibility by Jane Austen 1811\n",
      "text3: The Book of Genesis\n",
      "text4: Inaugural Address Corpus\n",
      "text5: Chat Corpus\n",
      "text6: Monty Python and the Holy Grail\n",
      "text7: Wall Street Journal\n",
      "text8: Personals Corpus\n",
      "text9: The Man Who Was Thursday by G . K . Chesterton 1908\n"
     ]
    }
   ],
   "source": [
    "from nltk.book import *"
   ]
  },
  {
   "cell_type": "markdown",
   "id": "811f034f-c560-4e89-a850-fb57434a4566",
   "metadata": {},
   "source": [
    "Any time we want to find out about these texts, we just have to enter their names at the Python prompt:"
   ]
  },
  {
   "cell_type": "code",
   "execution_count": 3,
   "id": "ba4cb3d4-f910-414c-a86c-f0348cb415fe",
   "metadata": {},
   "outputs": [
    {
     "data": {
      "text/plain": [
       "<Text: Moby Dick by Herman Melville 1851>"
      ]
     },
     "execution_count": 3,
     "metadata": {},
     "output_type": "execute_result"
    }
   ],
   "source": [
    "text1"
   ]
  },
  {
   "cell_type": "code",
   "execution_count": 4,
   "id": "bf3b3dc8-d4a1-48d4-af83-65df97b761cb",
   "metadata": {},
   "outputs": [
    {
     "data": {
      "text/plain": [
       "<Text: Sense and Sensibility by Jane Austen 1811>"
      ]
     },
     "execution_count": 4,
     "metadata": {},
     "output_type": "execute_result"
    }
   ],
   "source": [
    "text2"
   ]
  },
  {
   "cell_type": "markdown",
   "id": "2dd3d047-114b-4e28-9c8d-aeea7ac355e7",
   "metadata": {},
   "source": [
    "#### **1.3   Searching Text**"
   ]
  },
  {
   "cell_type": "markdown",
   "id": "33b0110e-5765-4ef7-91c4-cfa2d3528a01",
   "metadata": {},
   "source": [
    "There are many ways to examine the context of a text apart from simply reading it. A concordance view shows us every occurrence of a given word, together with some context. Here we look up the word *monstrous* in *Moby Dick* by entering `text1` followed by a period, then the term `concordance`, and then placing <font color=green>\"monstrous\"</font> in parentheses:"
   ]
  },
  {
   "cell_type": "code",
   "execution_count": 5,
   "id": "117ce94d-570a-4803-b68f-9e0ff75b4933",
   "metadata": {},
   "outputs": [
    {
     "name": "stdout",
     "output_type": "stream",
     "text": [
      "Displaying 11 of 11 matches:\n",
      "ong the former , one was of a most monstrous size . ... This came towards us , \n",
      "ON OF THE PSALMS . \" Touching that monstrous bulk of the whale or ork we have r\n",
      "ll over with a heathenish array of monstrous clubs and spears . Some were thick\n",
      "d as you gazed , and wondered what monstrous cannibal and savage could ever hav\n",
      "that has survived the flood ; most monstrous and most mountainous ! That Himmal\n",
      "they might scout at Moby Dick as a monstrous fable , or still worse and more de\n",
      "th of Radney .'\" CHAPTER 55 Of the Monstrous Pictures of Whales . I shall ere l\n",
      "ing Scenes . In connexion with the monstrous pictures of whales , I am strongly\n",
      "ere to enter upon those still more monstrous stories of them which are to be fo\n",
      "ght have been rummaged out of this monstrous cabinet there is no telling . But \n",
      "of Whale - Bones ; for Whales of a monstrous size are oftentimes cast up dead u\n"
     ]
    }
   ],
   "source": [
    "text1.concordance('monstrous')"
   ]
  },
  {
   "cell_type": "code",
   "execution_count": 6,
   "id": "156e24c3-bc82-4836-a88b-077f58a44d4f",
   "metadata": {},
   "outputs": [
    {
     "name": "stdout",
     "output_type": "stream",
     "text": [
      "Displaying 25 of 79 matches:\n",
      ", however , and , as a mark of his affection for the three girls , he left them\n",
      "t . It was very well known that no affection was ever supposed to exist between\n",
      "deration of politeness or maternal affection on the side of the former , the tw\n",
      "d the suspicion -- the hope of his affection for me may warrant , without impru\n",
      "hich forbade the indulgence of his affection . She knew that his mother neither\n",
      "rd she gave one with still greater affection . Though her late conversation wit\n",
      " can never hope to feel or inspire affection again , and if her home be uncomfo\n",
      "m of the sense , elegance , mutual affection , and domestic comfort of the fami\n",
      ", and which recommended him to her affection beyond every thing else . His soci\n",
      "ween the parties might forward the affection of Mr . Willoughby , an equally st\n",
      " the most pointed assurance of her affection . Elinor could not be surprised at\n",
      "he natural consequence of a strong affection in a young and ardent mind . This \n",
      " opinion . But by an appeal to her affection for her mother , by representing t\n",
      " every alteration of a place which affection had established as perfect with hi\n",
      "e will always have one claim of my affection , which no other can possibly shar\n",
      "f the evening declared at once his affection and happiness . \" Shall we see you\n",
      "ause he took leave of us with less affection than his usual behaviour has shewn\n",
      "ness .\" \" I want no proof of their affection ,\" said Elinor ; \" but of their en\n",
      "onths , without telling her of his affection ;-- that they should part without \n",
      "ould be the natural result of your affection for her . She used to be all unres\n",
      "distinguished Elinor by no mark of affection . Marianne saw and listened with i\n",
      "th no inclination for expense , no affection for strangers , no profession , an\n",
      "till distinguished her by the same affection which once she had felt no doubt o\n",
      "al of her confidence in Edward ' s affection , to the remembrance of every mark\n",
      " was made ? Had he never owned his affection to yourself ?\" \" Oh , no ; but if \n"
     ]
    }
   ],
   "source": [
    "text2.concordance('affection')"
   ]
  },
  {
   "cell_type": "code",
   "execution_count": 7,
   "id": "0e80eb43-9019-4a03-88aa-4c8fa49b4057",
   "metadata": {},
   "outputs": [
    {
     "name": "stdout",
     "output_type": "stream",
     "text": [
      "Displaying 25 of 38 matches:\n",
      "ay when they were created . And Adam lived an hundred and thirty years , and be\n",
      "ughters : And all the days that Adam lived were nine hundred and thirty yea and\n",
      "nd thirty yea and he died . And Seth lived an hundred and five years , and bega\n",
      "ve years , and begat Enos : And Seth lived after he begat Enos eight hundred an\n",
      "welve years : and he died . And Enos lived ninety years , and begat Cainan : An\n",
      " years , and begat Cainan : And Enos lived after he begat Cainan eight hundred \n",
      "ive years : and he died . And Cainan lived seventy years and begat Mahalaleel :\n",
      "rs and begat Mahalaleel : And Cainan lived after he begat Mahalaleel eight hund\n",
      "years : and he died . And Mahalaleel lived sixty and five years , and begat Jar\n",
      "s , and begat Jared : And Mahalaleel lived after he begat Jared eight hundred a\n",
      "and five yea and he died . And Jared lived an hundred sixty and two years , and\n",
      "o years , and he begat Eno And Jared lived after he begat Enoch eight hundred y\n",
      " and two yea and he died . And Enoch lived sixty and five years , and begat Met\n",
      " ; for God took him . And Methuselah lived an hundred eighty and seven years , \n",
      " , and begat Lamech . And Methuselah lived after he begat Lamech seven hundred \n",
      "nd nine yea and he died . And Lamech lived an hundred eighty and two years , an\n",
      "ch the LORD hath cursed . And Lamech lived after he begat Noah five hundred nin\n",
      "naan shall be his servant . And Noah lived after the flood three hundred and fi\n",
      "xad two years after the flo And Shem lived after he begat Arphaxad five hundred\n",
      "at sons and daughters . And Arphaxad lived five and thirty years , and begat Sa\n",
      "ars , and begat Salah : And Arphaxad lived after he begat Salah four hundred an\n",
      "begat sons and daughters . And Salah lived thirty years , and begat Eber : And \n",
      "y years , and begat Eber : And Salah lived after he begat Eber four hundred and\n",
      " begat sons and daughters . And Eber lived four and thirty years , and begat Pe\n",
      "y years , and begat Peleg : And Eber lived after he begat Peleg four hundred an\n"
     ]
    }
   ],
   "source": [
    "text3.concordance('lived')"
   ]
  },
  {
   "cell_type": "code",
   "execution_count": 8,
   "id": "599eb7c1-46fa-4df6-9d46-7cb14cfe8c5e",
   "metadata": {},
   "outputs": [
    {
     "name": "stdout",
     "output_type": "stream",
     "text": [
      "Displaying 25 of 330 matches:\n",
      " to the character of an independent nation seems to have been distinguished by\n",
      "f Heaven can never be expected on a nation that disregards the eternal rules o\n",
      "first , the representatives of this nation , then consisting of little more th\n",
      ", situation , and relations of this nation and country than any which had ever\n",
      ", prosperity , and happiness of the nation I have acquired an habitual attachm\n",
      "an be no spectacle presented by any nation more pleasing , more noble , majest\n",
      "party for its own ends , not of the nation for the national good . If that sol\n",
      "tures and the people throughout the nation . On this subject it might become m\n",
      "if a personal esteem for the French nation , formed in a residence of seven ye\n",
      "f our fellow - citizens by whatever nation , and if success can not be obtaine\n",
      "y , continue His blessing upon this nation and its Government and give it all \n",
      "powers so justly inspire . A rising nation , spread over a wide and fruitful l\n",
      "ing now decided by the voice of the nation , announced according to the rules \n",
      "ars witness to the fact that a just nation is trusted on its word when recours\n",
      "e union of opinion which gives to a nation the blessing of harmony and the ben\n",
      "uil suffrage of a free and virtuous nation , would under any circumstances hav\n",
      "d spirit and united councils of the nation will be safeguards to its honor and\n",
      "iction that the war with a powerful nation , which forms so prominent a featur\n",
      "out breaking down the spirit of the nation , destroying all confidence in itse\n",
      "ed on the military resources of the nation . These resources are amply suffici\n",
      "the war to an honorable issue . Our nation is in number more than half that of\n",
      "ndividually have been happy and the nation prosperous . Under this Constitutio\n",
      "rights , and is able to protect the nation against injustice from foreign powe\n",
      " great agricultural interest of the nation prospers under its protection . Loc\n",
      "ak our Union , and demolish us as a nation . Our distance from Europe and the \n"
     ]
    }
   ],
   "source": [
    "text4.concordance('nation')"
   ]
  },
  {
   "cell_type": "code",
   "execution_count": 9,
   "id": "36475c02-8a05-4242-8265-f0fccfdefc54",
   "metadata": {},
   "outputs": [
    {
     "name": "stdout",
     "output_type": "stream",
     "text": [
      "Displaying 25 of 149 matches:\n",
      "now im left with this gay name :P PART hey e\n",
      "what did you but on e-bay i feel like im in the wrong room yeee haw U30 im con\n",
      "ike im in the wrong room yeee haw U30 im considering changing my nickname to \"\n",
      " the hell outta my freaking PM box .. Im with my fiance !!!!!!!!!!!!!!!! answe\n",
      "m impressed . PART hiya room lmao !!! im doin alright thanks omg Finger .. Dee\n",
      "th lol JOIN so read it . thanks U7 .. Im happy to have my fiance here !! forwa\n",
      "i didnt me phone you . . . sheesh now im that phone perv guy lets hope not U12\n",
      "to spain ? i need to go this summer . im a HUGE phone perv ok seriously who wa\n",
      "an ... . ACTION video tapes . hey U20 Im blind now . ACTION has left the room \n",
      "T u got that right , i dont do shit , im the supervisor Hello U165 . hey U165 \n",
      " him in the \" untouchable \" list U115 im good U6 lmao U7 how r u U128 hehe how\n",
      "can I ask where ya all are from ..... im here in kentucky as I said ... too wi\n",
      "ic but had to resize and stuff U37 no im an equal oppertunity hater LOL Hi , U\n",
      "he cover weeeeeeeee thanks U19 ! PART im out in cal now U3 looking at some new\n",
      " :) hi U58 lol wb U29 hi U29 U13 .... im down to time now PART Hello U24 , wel\n",
      ", I 'd never kick you outta my box hi im good thanks U16 yerself ?? PART inter\n",
      "ke wth . . who are you even ty U34 yw Im glad he 's back . awwww U16 i like ps\n",
      " ha U23 !!! wow ... are you the U39 ? Im talkin about all yer typin . . It 's \n",
      "... you ??? Apparently , I 'm not U41 im good U23 dear . How are you U23 ~wink\n",
      "~ U35 ... I love that 5 am phone call im good ... me and eric r back together \n",
      " , I am happy . You know i LuverZ YOU im the same busy busy oh ok then U1 nm l\n",
      "))) . ACTION stretches . ty U19 Ugh , Im so sore ! Repeatedly , with a big sti\n",
      "'m a size queen U41 Why U45 ? naw U23 im cheating on you with Jayse hes hawt t\n",
      "oeer is sum1 gonna ghet fuked up ? :) im always hungry yeah U45 .. i believe i\n",
      "without first asking permission . U35 im sorry U35 i tried to refrain me too U\n"
     ]
    }
   ],
   "source": [
    "text5.concordance('im')"
   ]
  },
  {
   "cell_type": "markdown",
   "id": "6a535554-1c1c-4461-b7f5-4010e22aedd3",
   "metadata": {},
   "source": [
    "A concordance permits us to see words in context. For example, we saw that monstrous occurred in contexts such as *the ___ pictures* and *a ___ size*. What other words appear in a similar range of contexts? We can find out by appending the term `similar` to the name of the text in question, then inserting the relevant word in parentheses:"
   ]
  },
  {
   "cell_type": "code",
   "execution_count": 10,
   "id": "808115f6-53ed-448d-84d6-f3de79297c44",
   "metadata": {},
   "outputs": [
    {
     "name": "stdout",
     "output_type": "stream",
     "text": [
      "true contemptible christian abundant few part mean careful puzzled\n",
      "mystifying passing curious loving wise doleful gamesome singular\n",
      "delightfully perilous fearless\n"
     ]
    }
   ],
   "source": [
    "text1.similar('monstrous')"
   ]
  },
  {
   "cell_type": "code",
   "execution_count": 11,
   "id": "20674654-c07e-4a3d-9a4e-f30e39b98188",
   "metadata": {},
   "outputs": [
    {
     "name": "stdout",
     "output_type": "stream",
     "text": [
      "very so exceedingly heartily a as good great extremely remarkably\n",
      "sweet vast amazingly\n"
     ]
    }
   ],
   "source": [
    "text2.similar('monstrous')"
   ]
  },
  {
   "cell_type": "markdown",
   "id": "79ec2145-e02f-4ee0-acbe-3da86087d72c",
   "metadata": {},
   "source": [
    "The term `common_contexts` allows us to examine just the contexts that are shared by two or more words, such as *monstrous* and *very*. We have to enclose these words by square brackets as well as parentheses, and separate them with a comma:"
   ]
  },
  {
   "cell_type": "code",
   "execution_count": 12,
   "id": "ec1bc3fb-5797-4111-ac94-5ca6ee0d1093",
   "metadata": {},
   "outputs": [
    {
     "name": "stdout",
     "output_type": "stream",
     "text": [
      "am_glad a_pretty a_lucky is_pretty be_glad\n"
     ]
    }
   ],
   "source": [
    "text2.common_contexts(['monstrous', 'very'])"
   ]
  },
  {
   "cell_type": "code",
   "execution_count": 14,
   "id": "410787d1-ea36-4dcd-b5bc-8c1b69cb8148",
   "metadata": {},
   "outputs": [
    {
     "name": "stdout",
     "output_type": "stream",
     "text": [
      "house mother father sake affection happiness manner sister own home\n",
      "person heart marriage son coming sisters wife child way feelings\n"
     ]
    }
   ],
   "source": [
    "text2.similar('sex')"
   ]
  },
  {
   "cell_type": "code",
   "execution_count": 15,
   "id": "d387d37e-73c5-4ceb-98d7-b1455ef6d0f8",
   "metadata": {},
   "outputs": [
    {
     "name": "stdout",
     "output_type": "stream",
     "text": [
      "his_that his_and\n"
     ]
    }
   ],
   "source": [
    "text2.common_contexts(['sex', 'wife'])"
   ]
  },
  {
   "cell_type": "markdown",
   "id": "df38284f-fb1a-47c0-aeda-36c8084abb21",
   "metadata": {},
   "source": [
    "**<font color = red>\n",
    "BAGAIMANA CARA NLTK MENYAMAKAN SEX DENGAN WIFE? APA ALGORITMA YANG DIPAKAI?\n",
    "</font>**"
   ]
  },
  {
   "cell_type": "markdown",
   "id": "7e36045b-75bc-4b74-a32c-29ae43afb957",
   "metadata": {},
   "source": [
    "It is one thing to automatically detect that a particular word occurs in a text, and to display some words that appear in the same context. However, we can also determine the *location* of a word in the text: how many words from the beginning it appears. This positional information can be displayed using a **dispersion plot**. Each stripe represents an instance of a word, and each row represents the entire text. In [1.2](https://www.nltk.org/book/ch01.html#fig-inaugural) we see some striking patterns of word usage over the last 220 years (in an artificial text constructed by joining the texts of the Inaugural Address Corpus end-to-end). You can produce this plot as shown below. You might like to try more words (e.g., *liberty*, *constitution*), and different texts. Can you predict the dispersion of a word before you view it? As before, take care to get the quotes, commas, brackets and parentheses exactly right.\n",
    "![image](https://www.nltk.org/images/inaugural.png)"
   ]
  },
  {
   "cell_type": "code",
   "execution_count": 16,
   "id": "999364b6-2841-4519-b8d2-7bca08597220",
   "metadata": {},
   "outputs": [
    {
     "data": {
      "image/png": "[encoded data removed]",
      "text/plain": [
       "<Figure size 640x480 with 1 Axes>"
      ]
     },
     "metadata": {},
     "output_type": "display_data"
    }
   ],
   "source": [
    "text4.dispersion_plot(['citizens', 'democracy', 'freedom', 'duties', 'America'])"
   ]
  },
  {
   "cell_type": "markdown",
   "id": "f7d9921f-1a1f-4895-8936-3b6883ddeb59",
   "metadata": {},
   "source": [
    "Now, just for fun, let's try generating some random text in the various styles we have just seen. To do this, we type the name of the text followed by the term `generate`. (We need to include the parentheses, but there's nothing that goes between them.)"
   ]
  },
  {
   "cell_type": "code",
   "execution_count": 19,
   "id": "3dfd6d62-3899-45fd-9b64-9ed4213de090",
   "metadata": {},
   "outputs": [
    {
     "name": "stderr",
     "output_type": "stream",
     "text": [
      "Building ngram index...\n"
     ]
    },
    {
     "name": "stdout",
     "output_type": "stream",
     "text": [
      "laid by her , and said unto Cain , Where art thou , and said , Go to ,\n",
      "I will not do it for ten ' s sons ; we dreamed each man according to\n",
      "their generatio the firstborn said unto Laban , Because I said , Nay ,\n",
      "but Sarah shall her name be . , duke Elah , duke Shobal , and Akan .\n",
      "and looked upon my affliction . Bashemath Ishmael ' s blood , but Isra\n",
      "for as a prince hast thou found of all the cattle in the valley , and\n",
      "the wo The\n"
     ]
    },
    {
     "data": {
      "text/plain": [
       "\"laid by her , and said unto Cain , Where art thou , and said , Go to ,\\nI will not do it for ten ' s sons ; we dreamed each man according to\\ntheir generatio the firstborn said unto Laban , Because I said , Nay ,\\nbut Sarah shall her name be . , duke Elah , duke Shobal , and Akan .\\nand looked upon my affliction . Bashemath Ishmael ' s blood , but Isra\\nfor as a prince hast thou found of all the cattle in the valley , and\\nthe wo The\""
      ]
     },
     "execution_count": 19,
     "metadata": {},
     "output_type": "execute_result"
    }
   ],
   "source": [
    "text3.generate()"
   ]
  },
  {
   "cell_type": "markdown",
   "id": "d59b7189-7d24-49a8-84d0-9a8a13b85c58",
   "metadata": {},
   "source": [
    "#### **1.4   Counting Vocabulary**"
   ]
  },
  {
   "cell_type": "markdown",
   "id": "5de185ed-5947-4e62-a821-623b3585ba65",
   "metadata": {},
   "source": [
    "Let's begin by finding out the length of a text from start to finish, in terms of the words and punctuation symbols that appear. We use the term `len` to get the length of something, which we'll apply here to the book of Genesis:"
   ]
  },
  {
   "cell_type": "code",
   "execution_count": 20,
   "id": "81c28408-156a-4088-8a63-141884b0e3f5",
   "metadata": {},
   "outputs": [
    {
     "data": {
      "text/plain": [
       "44764"
      ]
     },
     "execution_count": 20,
     "metadata": {},
     "output_type": "execute_result"
    }
   ],
   "source": [
    "len(text3)"
   ]
  },
  {
   "cell_type": "markdown",
   "id": "b86e1871-d987-4af8-a901-d6503e74c6d0",
   "metadata": {},
   "source": [
    "So Genesis has 44,764 words and punctuation symbols, or \"tokens.\" A **token** is the technical name for a sequence of characters — such as `hairy`, `his`, or `:`) — that we want to treat as a group. When we count the number of tokens in a text, say, the phrase *to be or not to be*, we are counting occurrences of these sequences. Thus, in our example phrase there are two occurrences of *to*, two of *be*, and one each of *or* and *not*. But there are only four distinct vocabulary items in this phrase. How many distinct words does the book of Genesis contain? To work this out in Python, we have to pose the question slightly differently. The vocabulary of a text is just the *set* of tokens that it uses, since in a set, all duplicates are collapsed together. In Python we can obtain the vocabulary items of `text3` with the command: `set(text3)`. When you do this, many screens of words will fly past. Now try the following:"
   ]
  },
  {
   "cell_type": "code",
   "execution_count": 22,
   "id": "4505e24f-7f96-49d3-bbd4-1b9449d58e28",
   "metadata": {},
   "outputs": [
    {
     "data": {
      "text/plain": [
       "2789"
      ]
     },
     "execution_count": 22,
     "metadata": {},
     "output_type": "execute_result"
    }
   ],
   "source": [
    "sorted(set(text3))\n",
    "len(set(text3))"
   ]
  },
  {
   "cell_type": "markdown",
   "id": "c93c46dc-dc3f-4fff-829e-4313dd2433ea",
   "metadata": {},
   "source": [
    "Now, let's calculate a measure of the lexical richness of the text. The next example shows us that the number of distinct words is just 6% of the total number of words, or equivalently that each word is used 16 times on average"
   ]
  },
  {
   "cell_type": "code",
   "execution_count": 23,
   "id": "e60bf0a6-1bbd-476e-aec7-3ea164c6e32e",
   "metadata": {},
   "outputs": [
    {
     "data": {
      "text/plain": [
       "0.06230453042623537"
      ]
     },
     "execution_count": 23,
     "metadata": {},
     "output_type": "execute_result"
    }
   ],
   "source": [
    "len(set(text3))/len(text3)"
   ]
  },
  {
   "cell_type": "markdown",
   "id": "a764004c-0d48-4cb9-87d6-8ebed9b0e6c7",
   "metadata": {},
   "source": [
    "Next, let's focus on particular words. We can count how often a word occurs in a text, and compute what percentage of the text is taken up by a specific word:"
   ]
  },
  {
   "cell_type": "code",
   "execution_count": 24,
   "id": "3c950b54-e43b-45ea-a194-66008ab6a578",
   "metadata": {},
   "outputs": [
    {
     "data": {
      "text/plain": [
       "5"
      ]
     },
     "execution_count": 24,
     "metadata": {},
     "output_type": "execute_result"
    }
   ],
   "source": [
    "text3.count('smote')"
   ]
  },
  {
   "cell_type": "code",
   "execution_count": 25,
   "id": "84dd0c16-442c-412d-aa3a-2a7512a91d87",
   "metadata": {},
   "outputs": [
    {
     "data": {
      "text/plain": [
       "1.457806031353621"
      ]
     },
     "execution_count": 25,
     "metadata": {},
     "output_type": "execute_result"
    }
   ],
   "source": [
    "100 * text4.count('a')/len(text4)"
   ]
  },
  {
   "cell_type": "code",
   "execution_count": 26,
   "id": "08dd9e25-6876-400f-93b8-213d7cf594cf",
   "metadata": {},
   "outputs": [
    {
     "data": {
      "text/plain": [
       "704"
      ]
     },
     "execution_count": 26,
     "metadata": {},
     "output_type": "execute_result"
    }
   ],
   "source": [
    "text5.count('lol')"
   ]
  },
  {
   "cell_type": "code",
   "execution_count": 27,
   "id": "d3a07261-f329-4374-a183-472ba054d2a4",
   "metadata": {},
   "outputs": [
    {
     "data": {
      "text/plain": [
       "1.5640968673628082"
      ]
     },
     "execution_count": 27,
     "metadata": {},
     "output_type": "execute_result"
    }
   ],
   "source": [
    "100*text5.count('lol')/len(text5)"
   ]
  },
  {
   "cell_type": "markdown",
   "id": "df7bc675-f0b5-4384-abe0-d19d8af1c0f7",
   "metadata": {},
   "source": [
    "You may want to repeat such calculations on several texts, but it is tedious to keep retyping the formula. Instead, you can come up with your own name for a task, like \"lexical_diversity\" or \"percentage\", and associate it with a block of code. Now you only have to type a short name instead of one or more complete lines of Python code, and you can re-use it as often as you like. The block of code that does a task for us is called a **function**, and we define a short name for our function with the keyword `def`. The next example shows how to define two new functions, `lexical_diversity()` and `percentage()`:"
   ]
  },
  {
   "cell_type": "code",
   "execution_count": 5,
   "id": "a6da4702-d586-4229-b26a-956cdd91fcb1",
   "metadata": {},
   "outputs": [],
   "source": [
    "def lexical_diversity(text):\n",
    "    return len(set(text))/len(text)"
   ]
  },
  {
   "cell_type": "code",
   "execution_count": 6,
   "id": "da4c4c0a-0693-47e7-9029-d5ad40f3e91d",
   "metadata": {},
   "outputs": [],
   "source": [
    "def percentage(count, total):\n",
    "    return 100*count/total"
   ]
  },
  {
   "cell_type": "markdown",
   "id": "24d5093f-2d8d-49ac-b8dd-9386f89b1010",
   "metadata": {},
   "source": [
    "Once Python knows that `lexical_diversity()` and `percentage()` are the names for specific blocks of code, we can go ahead and use these functions:"
   ]
  },
  {
   "cell_type": "code",
   "execution_count": 30,
   "id": "f4c658c6-8252-4577-a786-512d6f3f73bf",
   "metadata": {},
   "outputs": [
    {
     "data": {
      "text/plain": [
       "0.06230453042623537"
      ]
     },
     "execution_count": 30,
     "metadata": {},
     "output_type": "execute_result"
    }
   ],
   "source": [
    "lexical_diversity(text3)"
   ]
  },
  {
   "cell_type": "code",
   "execution_count": 31,
   "id": "0c041dc8-aa27-484d-b394-18784ea0aeb7",
   "metadata": {},
   "outputs": [
    {
     "data": {
      "text/plain": [
       "0.13477005109975562"
      ]
     },
     "execution_count": 31,
     "metadata": {},
     "output_type": "execute_result"
    }
   ],
   "source": [
    "lexical_diversity(text5)"
   ]
  },
  {
   "cell_type": "code",
   "execution_count": 32,
   "id": "293ea60f-89fb-47f1-bb4f-abd408fa2db0",
   "metadata": {},
   "outputs": [
    {
     "data": {
      "text/plain": [
       "80.0"
      ]
     },
     "execution_count": 32,
     "metadata": {},
     "output_type": "execute_result"
    }
   ],
   "source": [
    "percentage(4, 5)"
   ]
  },
  {
   "cell_type": "code",
   "execution_count": 33,
   "id": "93780b74-9e7e-417d-807c-0f22d5702654",
   "metadata": {},
   "outputs": [
    {
     "data": {
      "text/plain": [
       "1.457806031353621"
      ]
     },
     "execution_count": 33,
     "metadata": {},
     "output_type": "execute_result"
    }
   ],
   "source": [
    "percentage(text4.count('a'), len(text4))"
   ]
  },
  {
   "cell_type": "markdown",
   "id": "9771c28f-655e-462a-a904-1ab76101f31a",
   "metadata": {
    "toc-hr-collapsed": true
   },
   "source": [
    "### **2   A Closer Look at Python: Texts as Lists of Words**"
   ]
  },
  {
   "cell_type": "markdown",
   "id": "7d89a29d-0616-4812-b544-d5b35781ffb7",
   "metadata": {},
   "source": [
    "#### **2.1   Lists**"
   ]
  },
  {
   "cell_type": "markdown",
   "id": "14c95bcf-0308-4f9e-9150-5f85d2619c14",
   "metadata": {},
   "source": [
    "What is a text? At one level, it is a sequence of symbols on a page such as this one. At another level, it is a sequence of chapters, made up of a sequence of sections, where each section is a sequence of paragraphs, and so on. However, for our purposes, we will think of a text as nothing more than a sequence of words and punctuation. Here's how we represent text in Python, in this case the opening sentence of *Moby Dick*:"
   ]
  },
  {
   "cell_type": "code",
   "execution_count": 2,
   "id": "19961984-b086-4b0d-89b0-72d35d98e123",
   "metadata": {},
   "outputs": [],
   "source": [
    "sent1 = ['Call', 'me', 'Ishmael', '.']"
   ]
  },
  {
   "cell_type": "markdown",
   "id": "441d3871-01d2-4f04-842b-019f77c1b780",
   "metadata": {},
   "source": [
    "After the prompt we've given a name we made up, `sent1`, followed by the equals sign, and then some quoted words, separated with commas, and surrounded with brackets. This bracketed material is known as a **list** in Python: it is how we store a text. We can inspect it by typing the name [1](https://www.nltk.org/book/ch01.html#inspect-var). We can ask for its length [2](https://www.nltk.org/book/ch01.html#len-sent). We can even apply our own `lexical_diversity()` function to it [3](https://www.nltk.org/book/ch01.html#apply-function)."
   ]
  },
  {
   "cell_type": "code",
   "execution_count": 3,
   "id": "4824f7d6-bd22-419b-b648-e5e4a3a25f92",
   "metadata": {},
   "outputs": [
    {
     "data": {
      "text/plain": [
       "['Call', 'me', 'Ishmael', '.']"
      ]
     },
     "execution_count": 3,
     "metadata": {},
     "output_type": "execute_result"
    }
   ],
   "source": [
    "sent1"
   ]
  },
  {
   "cell_type": "code",
   "execution_count": 4,
   "id": "336bb8aa-0a34-4443-8d84-75ac1c49387d",
   "metadata": {},
   "outputs": [
    {
     "data": {
      "text/plain": [
       "4"
      ]
     },
     "execution_count": 4,
     "metadata": {},
     "output_type": "execute_result"
    }
   ],
   "source": [
    "len(sent1)"
   ]
  },
  {
   "cell_type": "code",
   "execution_count": 7,
   "id": "c195d0c0-a68c-4daf-803b-3c1fc9a99862",
   "metadata": {},
   "outputs": [
    {
     "data": {
      "text/plain": [
       "1.0"
      ]
     },
     "execution_count": 7,
     "metadata": {},
     "output_type": "execute_result"
    }
   ],
   "source": [
    "lexical_diversity(sent1)"
   ]
  },
  {
   "cell_type": "markdown",
   "id": "e8b971fb-a9ed-49e8-9e20-0846a20c0133",
   "metadata": {},
   "source": [
    "Some more lists have been defined for you, one for the opening sentence of each of our texts, `sent2` … `sent9`. We inspect two of them here; you can see the rest for yourself using the Python interpreter"
   ]
  },
  {
   "cell_type": "code",
   "execution_count": 8,
   "id": "82f2a68f-5347-4c08-a871-e7bbc8614548",
   "metadata": {},
   "outputs": [
    {
     "data": {
      "text/plain": [
       "['The',\n",
       " 'family',\n",
       " 'of',\n",
       " 'Dashwood',\n",
       " 'had',\n",
       " 'long',\n",
       " 'been',\n",
       " 'settled',\n",
       " 'in',\n",
       " 'Sussex',\n",
       " '.']"
      ]
     },
     "execution_count": 8,
     "metadata": {},
     "output_type": "execute_result"
    }
   ],
   "source": [
    "sent2"
   ]
  },
  {
   "cell_type": "code",
   "execution_count": 9,
   "id": "66e05d95-6fbe-4552-8123-8e916d1967af",
   "metadata": {},
   "outputs": [
    {
     "data": {
      "text/plain": [
       "['In',\n",
       " 'the',\n",
       " 'beginning',\n",
       " 'God',\n",
       " 'created',\n",
       " 'the',\n",
       " 'heaven',\n",
       " 'and',\n",
       " 'the',\n",
       " 'earth',\n",
       " '.']"
      ]
     },
     "execution_count": 9,
     "metadata": {},
     "output_type": "execute_result"
    }
   ],
   "source": [
    "sent3"
   ]
  },
  {
   "cell_type": "code",
   "execution_count": 11,
   "id": "5d978ad0-a7c8-4f03-b657-7152b398fc78",
   "metadata": {},
   "outputs": [
    {
     "data": {
      "text/plain": [
       "['Grail', 'Holy', 'Monty', 'Python', 'and', 'the']"
      ]
     },
     "execution_count": 11,
     "metadata": {},
     "output_type": "execute_result"
    }
   ],
   "source": [
    "ex1 = ['Monty', 'Python', 'and', 'the', 'Holy', 'Grail']\n",
    "sorted(ex1)"
   ]
  },
  {
   "cell_type": "code",
   "execution_count": 12,
   "id": "abd329e3-e953-4cdf-b9e5-8a6531adb213",
   "metadata": {},
   "outputs": [
    {
     "data": {
      "text/plain": [
       "6"
      ]
     },
     "execution_count": 12,
     "metadata": {},
     "output_type": "execute_result"
    }
   ],
   "source": [
    "len(set(ex1))"
   ]
  },
  {
   "cell_type": "code",
   "execution_count": 13,
   "id": "a4ecfeb2-a41a-45b4-91ce-30912f1f0245",
   "metadata": {},
   "outputs": [
    {
     "data": {
      "text/plain": [
       "1"
      ]
     },
     "execution_count": 13,
     "metadata": {},
     "output_type": "execute_result"
    }
   ],
   "source": [
    "ex1.count('the')"
   ]
  },
  {
   "cell_type": "markdown",
   "id": "293bb587-1530-4891-96e0-8ff5550d9050",
   "metadata": {},
   "source": [
    "A pleasant surprise is that we can use Python's addition operator on lists. Adding two lists [1](https://www.nltk.org/book/ch01.html#list-plus-list) creates a new list with everything from the first list, followed by everything from the second list:"
   ]
  },
  {
   "cell_type": "code",
   "execution_count": 14,
   "id": "10ae4df0-a1b4-4e15-8ef3-914dccdba36f",
   "metadata": {},
   "outputs": [
    {
     "data": {
      "text/plain": [
       "['Monty', 'Python', 'and', 'the', 'Holy', 'Grail']"
      ]
     },
     "execution_count": 14,
     "metadata": {},
     "output_type": "execute_result"
    }
   ],
   "source": [
    "['Monty', 'Python'] + ['and', 'the', 'Holy', 'Grail']"
   ]
  },
  {
   "cell_type": "markdown",
   "id": "96585680-896d-4db0-a88a-8ae8e31feb81",
   "metadata": {},
   "source": [
    "We don't have to literally type the lists either; we can use short names that refer to pre-defined lists."
   ]
  },
  {
   "cell_type": "code",
   "execution_count": 15,
   "id": "f690ef8d-86ac-44f7-b06e-e20b97910737",
   "metadata": {},
   "outputs": [
    {
     "data": {
      "text/plain": [
       "['Fellow',\n",
       " '-',\n",
       " 'Citizens',\n",
       " 'of',\n",
       " 'the',\n",
       " 'Senate',\n",
       " 'and',\n",
       " 'of',\n",
       " 'the',\n",
       " 'House',\n",
       " 'of',\n",
       " 'Representatives',\n",
       " ':',\n",
       " 'Call',\n",
       " 'me',\n",
       " 'Ishmael',\n",
       " '.']"
      ]
     },
     "execution_count": 15,
     "metadata": {},
     "output_type": "execute_result"
    }
   ],
   "source": [
    "sent4 + sent1"
   ]
  },
  {
   "cell_type": "markdown",
   "id": "d3b3e541-a5f8-4afb-8a7d-b1f2c665cde7",
   "metadata": {},
   "source": [
    "What if we want to add a single item to a list? This is known as **appending**. When we `append()` to a list, the list itself is updated as a result of the operation."
   ]
  },
  {
   "cell_type": "code",
   "execution_count": 19,
   "id": "aa354b1d-82b4-4108-b4ab-26b0a69fc0a4",
   "metadata": {},
   "outputs": [
    {
     "data": {
      "text/plain": [
       "['Call', 'me', 'Ishmael', '.', 'Some', 'Some', 'Some', 'Some']"
      ]
     },
     "execution_count": 19,
     "metadata": {},
     "output_type": "execute_result"
    }
   ],
   "source": [
    "sent1.append('Some')\n",
    "sent1"
   ]
  },
  {
   "cell_type": "markdown",
   "id": "27dc10f7-6d72-4506-972c-2a7e3421c4f3",
   "metadata": {},
   "source": [
    "#### **2.2   Indexing Lists**"
   ]
  },
  {
   "cell_type": "markdown",
   "id": "3c09f91c-298b-4f47-8d71-8c10066e0d39",
   "metadata": {},
   "source": [
    "With some patience, we can pick out the 1st, 173rd, or even 14,278th word in a printed text. Analogously, we can identify the elements of a Python list by their order of occurrence in the list. The number that represents this position is the item's **index**. We instruct Python to show us the item that occurs at an index such as `173` in a text by writing the name of the text followed by the index inside square brackets:"
   ]
  },
  {
   "cell_type": "code",
   "execution_count": 20,
   "id": "1a9e34b2-ddf6-42b7-af6c-799f3cc80f07",
   "metadata": {},
   "outputs": [
    {
     "data": {
      "text/plain": [
       "'awaken'"
      ]
     },
     "execution_count": 20,
     "metadata": {},
     "output_type": "execute_result"
    }
   ],
   "source": [
    "text4[173]"
   ]
  },
  {
   "cell_type": "markdown",
   "id": "50e48ef0-3cf8-4193-bf66-2dd360cc1a6c",
   "metadata": {},
   "source": [
    "We can do the converse; given a word, find the index of when it first occurs:"
   ]
  },
  {
   "cell_type": "code",
   "execution_count": 21,
   "id": "9b44e7ae-694b-4e47-91a2-1664ae3dfa2e",
   "metadata": {},
   "outputs": [
    {
     "data": {
      "text/plain": [
       "173"
      ]
     },
     "execution_count": 21,
     "metadata": {},
     "output_type": "execute_result"
    }
   ],
   "source": [
    "text4.index('awaken')"
   ]
  },
  {
   "cell_type": "markdown",
   "id": "6a3652e4-6dfc-40aa-8a3e-a6227b79cb8c",
   "metadata": {},
   "source": [
    "Indexes are a common way to access the words of a text, or, more generally, the elements of any list. Python permits us to access sublists as well, extracting manageable pieces of language from large texts, a technique known as **slicing**."
   ]
  },
  {
   "cell_type": "code",
   "execution_count": 22,
   "id": "a9a7fefe-56ca-4914-a4d1-841dc644e13e",
   "metadata": {},
   "outputs": [
    {
     "data": {
      "text/plain": [
       "['U86',\n",
       " 'thats',\n",
       " 'why',\n",
       " 'something',\n",
       " 'like',\n",
       " 'gamefly',\n",
       " 'is',\n",
       " 'so',\n",
       " 'good',\n",
       " 'because',\n",
       " 'you',\n",
       " 'can',\n",
       " 'actually',\n",
       " 'play',\n",
       " 'a',\n",
       " 'full',\n",
       " 'game',\n",
       " 'without',\n",
       " 'buying',\n",
       " 'it']"
      ]
     },
     "execution_count": 22,
     "metadata": {},
     "output_type": "execute_result"
    }
   ],
   "source": [
    "text5[16715 : 16735]"
   ]
  },
  {
   "cell_type": "code",
   "execution_count": 23,
   "id": "f3c03c8d-07be-41ba-8812-9e94c2bf4252",
   "metadata": {},
   "outputs": [
    {
     "data": {
      "text/plain": [
       "['We',\n",
       " \"'\",\n",
       " 're',\n",
       " 'an',\n",
       " 'anarcho',\n",
       " '-',\n",
       " 'syndicalist',\n",
       " 'commune',\n",
       " '.',\n",
       " 'We',\n",
       " 'take',\n",
       " 'it',\n",
       " 'in',\n",
       " 'turns',\n",
       " 'to',\n",
       " 'act',\n",
       " 'as',\n",
       " 'a',\n",
       " 'sort',\n",
       " 'of',\n",
       " 'executive',\n",
       " 'officer',\n",
       " 'for',\n",
       " 'the',\n",
       " 'week']"
      ]
     },
     "execution_count": 23,
     "metadata": {},
     "output_type": "execute_result"
    }
   ],
   "source": [
    "text6[1600 : 1625]"
   ]
  },
  {
   "cell_type": "markdown",
   "id": "e9df1e64-0620-4aed-8077-12fb89e8a56d",
   "metadata": {},
   "source": [
    "Indexes have some subtleties, and we'll explore these with the help of an artificial sentence:"
   ]
  },
  {
   "cell_type": "code",
   "execution_count": 25,
   "id": "3324ef1c-57fb-4d06-a11a-e219ab4fe092",
   "metadata": {},
   "outputs": [
    {
     "data": {
      "text/plain": [
       "'word1'"
      ]
     },
     "execution_count": 25,
     "metadata": {},
     "output_type": "execute_result"
    }
   ],
   "source": [
    "sent = ['word1', 'word2', 'word3', 'word4', 'word5', 'word6', 'word7', 'word8', 'word9', 'word10']\n",
    "sent[0]"
   ]
  },
  {
   "cell_type": "code",
   "execution_count": 26,
   "id": "602eb4b0-c90e-481d-8633-2b8e5e6c2213",
   "metadata": {},
   "outputs": [
    {
     "data": {
      "text/plain": [
       "'word10'"
      ]
     },
     "execution_count": 26,
     "metadata": {},
     "output_type": "execute_result"
    }
   ],
   "source": [
    "sent[9]"
   ]
  },
  {
   "cell_type": "markdown",
   "id": "1caed866-1ce2-4216-b053-7445a3257f1c",
   "metadata": {},
   "source": [
    "Now, if we accidentally use an index that is too large, we get an error:"
   ]
  },
  {
   "cell_type": "code",
   "execution_count": 27,
   "id": "b4f01774-c6ae-4607-b8d3-61129c2bf571",
   "metadata": {},
   "outputs": [
    {
     "ename": "IndexError",
     "evalue": "list index out of range",
     "output_type": "error",
     "traceback": [
      "\u001b[0;31m---------------------------------------------------------------------------\u001b[0m",
      "\u001b[0;31mIndexError\u001b[0m                                Traceback (most recent call last)",
      "Cell \u001b[0;32mIn [27], line 1\u001b[0m\n\u001b[0;32m----> 1\u001b[0m \u001b[43msent\u001b[49m\u001b[43m[\u001b[49m\u001b[38;5;241;43m10\u001b[39;49m\u001b[43m]\u001b[49m\n",
      "\u001b[0;31mIndexError\u001b[0m: list index out of range"
     ]
    }
   ],
   "source": [
    "sent[10]"
   ]
  },
  {
   "cell_type": "markdown",
   "id": "8ebad0dd-c516-4fc8-85d3-69e5cc67d53e",
   "metadata": {},
   "source": [
    "Let's take a closer look at slicing, using our artificial sentence again. Here we verify that the slice `5:8` includes `sent` elements at indexes 5, 6, and 7:"
   ]
  },
  {
   "cell_type": "code",
   "execution_count": 28,
   "id": "8d883d20-dcd7-4439-98f1-513a6ba8cc7b",
   "metadata": {},
   "outputs": [
    {
     "data": {
      "text/plain": [
       "['word6', 'word7', 'word8']"
      ]
     },
     "execution_count": 28,
     "metadata": {},
     "output_type": "execute_result"
    }
   ],
   "source": [
    "sent[5 : 8]"
   ]
  },
  {
   "cell_type": "code",
   "execution_count": 29,
   "id": "8e699c84-0f2c-4935-a4d7-48f8a25d77e0",
   "metadata": {},
   "outputs": [
    {
     "data": {
      "text/plain": [
       "'word6'"
      ]
     },
     "execution_count": 29,
     "metadata": {},
     "output_type": "execute_result"
    }
   ],
   "source": [
    "sent[5]"
   ]
  },
  {
   "cell_type": "code",
   "execution_count": 30,
   "id": "90abbc41-7058-4e9f-b585-4224b723070c",
   "metadata": {},
   "outputs": [
    {
     "data": {
      "text/plain": [
       "'word7'"
      ]
     },
     "execution_count": 30,
     "metadata": {},
     "output_type": "execute_result"
    }
   ],
   "source": [
    "sent[6]"
   ]
  },
  {
   "cell_type": "code",
   "execution_count": 31,
   "id": "6e4f9c6e-198c-4188-9b5b-8e3894747475",
   "metadata": {},
   "outputs": [
    {
     "data": {
      "text/plain": [
       "'word8'"
      ]
     },
     "execution_count": 31,
     "metadata": {},
     "output_type": "execute_result"
    }
   ],
   "source": [
    "sent[7]"
   ]
  },
  {
   "cell_type": "markdown",
   "id": "ae25c99e-cf66-4f2e-8d14-cb8c044848fb",
   "metadata": {},
   "source": [
    "By convention, `m:n` means elements *m…n-1*. As the next example shows, we can omit the first number if the slice begins at the start of the list [1](https://www.nltk.org/book/ch01.html#slice2), and we can omit the second number if the slice goes to the end [2](https://www.nltk.org/book/ch01.html#slice3):"
   ]
  },
  {
   "cell_type": "code",
   "execution_count": 32,
   "id": "3010e66e-4175-4466-9d84-879d6da3e5f1",
   "metadata": {},
   "outputs": [
    {
     "data": {
      "text/plain": [
       "['word1', 'word2', 'word3']"
      ]
     },
     "execution_count": 32,
     "metadata": {},
     "output_type": "execute_result"
    }
   ],
   "source": [
    "sent[ : 3]"
   ]
  },
  {
   "cell_type": "code",
   "execution_count": 33,
   "id": "ee7ac137-2ee4-4cf2-bca8-f2da8f271ccf",
   "metadata": {},
   "outputs": [
    {
     "data": {
      "text/plain": [
       "['among',\n",
       " 'the',\n",
       " 'merits',\n",
       " 'and',\n",
       " 'the',\n",
       " 'happiness',\n",
       " 'of',\n",
       " 'Elinor',\n",
       " 'and',\n",
       " 'Marianne',\n",
       " ',',\n",
       " 'let',\n",
       " 'it',\n",
       " 'not',\n",
       " 'be',\n",
       " 'ranked',\n",
       " 'as',\n",
       " 'the',\n",
       " 'least',\n",
       " 'considerable',\n",
       " ',',\n",
       " 'that',\n",
       " 'though',\n",
       " 'sisters',\n",
       " ',',\n",
       " 'and',\n",
       " 'living',\n",
       " 'almost',\n",
       " 'within',\n",
       " 'sight',\n",
       " 'of',\n",
       " 'each',\n",
       " 'other',\n",
       " ',',\n",
       " 'they',\n",
       " 'could',\n",
       " 'live',\n",
       " 'without',\n",
       " 'disagreement',\n",
       " 'between',\n",
       " 'themselves',\n",
       " ',',\n",
       " 'or',\n",
       " 'producing',\n",
       " 'coolness',\n",
       " 'between',\n",
       " 'their',\n",
       " 'husbands',\n",
       " '.',\n",
       " 'THE',\n",
       " 'END']"
      ]
     },
     "execution_count": 33,
     "metadata": {},
     "output_type": "execute_result"
    }
   ],
   "source": [
    "text2[141525 :]"
   ]
  },
  {
   "cell_type": "markdown",
   "id": "9e10ab19-5411-4517-8b3c-c6d717656c78",
   "metadata": {},
   "source": [
    "We can modify an element of a list by assigning to one of its index values. In the next example, we put `sent[0]` on the left of the equals sign [1](https://www.nltk.org/book/ch01.html#list-assignment). We can also replace an entire slice with new material [2](https://www.nltk.org/book/ch01.html#slice-assignment). A consequence of this last change is that the list only has four elements, and accessing a later value generates an error [3](https://www.nltk.org/book/ch01.html#list-error)."
   ]
  },
  {
   "cell_type": "code",
   "execution_count": 35,
   "id": "dad13aa5-9e02-4350-9556-1517d6ac55c4",
   "metadata": {},
   "outputs": [
    {
     "data": {
      "text/plain": [
       "10"
      ]
     },
     "execution_count": 35,
     "metadata": {},
     "output_type": "execute_result"
    }
   ],
   "source": [
    "sent[0] = 'First'\n",
    "sent[9] = 'Last'\n",
    "len(sent)"
   ]
  },
  {
   "cell_type": "code",
   "execution_count": 39,
   "id": "6d37fe99-a948-4763-bcf2-79ab614b58b8",
   "metadata": {},
   "outputs": [
    {
     "data": {
      "text/plain": [
       "['First', 'Second', 'Third']"
      ]
     },
     "execution_count": 39,
     "metadata": {},
     "output_type": "execute_result"
    }
   ],
   "source": [
    "sent[1 : 9] = ['Second', 'Third']\n",
    "sent"
   ]
  },
  {
   "cell_type": "code",
   "execution_count": 40,
   "id": "2511ea44-d943-4aa3-b255-b64bab31bdee",
   "metadata": {},
   "outputs": [
    {
     "ename": "IndexError",
     "evalue": "list index out of range",
     "output_type": "error",
     "traceback": [
      "\u001b[0;31m---------------------------------------------------------------------------\u001b[0m",
      "\u001b[0;31mIndexError\u001b[0m                                Traceback (most recent call last)",
      "Cell \u001b[0;32mIn [40], line 1\u001b[0m\n\u001b[0;32m----> 1\u001b[0m \u001b[43msent\u001b[49m\u001b[43m[\u001b[49m\u001b[38;5;241;43m9\u001b[39;49m\u001b[43m]\u001b[49m\n",
      "\u001b[0;31mIndexError\u001b[0m: list index out of range"
     ]
    }
   ],
   "source": [
    "sent[9]"
   ]
  },
  {
   "cell_type": "markdown",
   "id": "46e2cbbd-2771-4b9f-8065-c9814bb40a69",
   "metadata": {},
   "source": [
    "#### **2.3   Variables**"
   ]
  },
  {
   "cell_type": "markdown",
   "id": "1d990425-9f29-41c2-8749-7096b4eae6a2",
   "metadata": {},
   "source": [
    "From the start of [1](https://www.nltk.org/book/ch01.html#sec-computing-with-language-texts-and-words), you have had access to texts called `text1`, `text2`, and so on. It saved a lot of typing to be able to refer to a 250,000-word book with a short name like this! In general, we can make up names for anything we care to calculate. We did this ourselves in the previous sections, e.g., defining a **variable** `sent1`, as follows:"
   ]
  },
  {
   "cell_type": "code",
   "execution_count": 41,
   "id": "2d4fb9e6-52cf-4245-80e2-fd0aea826211",
   "metadata": {},
   "outputs": [],
   "source": [
    "sent1 = ['Call', 'me', 'Ishmael', '.']"
   ]
  },
  {
   "cell_type": "markdown",
   "id": "67e41862-3842-4ba6-b6a4-fd0094142410",
   "metadata": {},
   "source": [
    "Such lines have the form: *variable = expression*. Python will evaluate the expression, and save its result to the variable. This process is called **assignment**. It does not generate any output; you have to type the variable on a line of its own to inspect its contents. The equals sign is slightly misleading, since information is moving from the right side to the left. It might help to think of it as a left-arrow. The name of the variable can be anything you like, e.g., `my_sent`, `sentence`, `xyzzy`. It must start with a letter, and can include numbers and underscores. Here are some examples of variables and assignments:"
   ]
  },
  {
   "cell_type": "code",
   "execution_count": 42,
   "id": "3a96f8e9-dcc7-4ec2-a7ce-d92447f59f42",
   "metadata": {},
   "outputs": [
    {
     "data": {
      "text/plain": [
       "['bold', 'Sir', 'Robin']"
      ]
     },
     "execution_count": 42,
     "metadata": {},
     "output_type": "execute_result"
    }
   ],
   "source": [
    "my_sent = ['Bravely', 'bold', 'Sir', 'Robin', ',', 'rode', 'forth', 'from', 'Camelot', '.']\n",
    "noun_phrase = my_sent[1 : 4]\n",
    "noun_phrase"
   ]
  },
  {
   "cell_type": "code",
   "execution_count": 44,
   "id": "8ebd7bce-aa73-4cf9-8062-3ee4593104d6",
   "metadata": {},
   "outputs": [
    {
     "data": {
      "text/plain": [
       "['Robin', 'Sir', 'bold']"
      ]
     },
     "execution_count": 44,
     "metadata": {},
     "output_type": "execute_result"
    }
   ],
   "source": [
    "wOrDs = sorted(noun_phrase)\n",
    "wOrDs"
   ]
  },
  {
   "cell_type": "markdown",
   "id": "78c32b6d-2248-4654-ac14-6bbf541aba59",
   "metadata": {},
   "source": [
    "It is good to choose meaningful variable names to remind you — and to help anyone else who reads your Python code — what your code is meant to do. Python does not try to make sense of the names; it blindly follows your instructions, and does not object if you do something confusing, such as `one = 'two'` or `two = 3`. The only restriction is that a variable name cannot be any of Python's reserved words, such as `def`, <font color = red>if</font>, <font color = red>not</font>, and <font color = red>import</font>. If you use a reserved word, Python will produce a syntax error:"
   ]
  },
  {
   "cell_type": "code",
   "execution_count": 45,
   "id": "cc54bfdd-372a-4b96-bc10-3b70c981ad6c",
   "metadata": {},
   "outputs": [
    {
     "ename": "SyntaxError",
     "evalue": "invalid syntax (3303447762.py, line 1)",
     "output_type": "error",
     "traceback": [
      "\u001b[0;36m  Cell \u001b[0;32mIn [45], line 1\u001b[0;36m\u001b[0m\n\u001b[0;31m    not = 'Camelot'\u001b[0m\n\u001b[0m        ^\u001b[0m\n\u001b[0;31mSyntaxError\u001b[0m\u001b[0;31m:\u001b[0m invalid syntax\n"
     ]
    }
   ],
   "source": [
    "not = 'Camelot'"
   ]
  },
  {
   "cell_type": "markdown",
   "id": "dd6f1397-edfb-456c-ba71-99142aac6175",
   "metadata": {},
   "source": [
    "We will often use variables to hold intermediate steps of a computation, especially when this makes the code easier to follow. Thus `len(set(text1))` could also be written:"
   ]
  },
  {
   "cell_type": "code",
   "execution_count": 46,
   "id": "9a2e7e5a-87f7-402c-8eaa-01dd9def5803",
   "metadata": {},
   "outputs": [
    {
     "data": {
      "text/plain": [
       "19317"
      ]
     },
     "execution_count": 46,
     "metadata": {},
     "output_type": "execute_result"
    }
   ],
   "source": [
    "vocab = set(text1)\n",
    "vocab_size = len(vocab)\n",
    "vocab_size"
   ]
  },
  {
   "cell_type": "markdown",
   "id": "0aafaa0e-b39f-4b93-a8e8-5b6620312e63",
   "metadata": {},
   "source": [
    "#### **2.4   Strings**"
   ]
  },
  {
   "cell_type": "markdown",
   "id": "d3fca6f3-6d99-4005-a311-035045ab606b",
   "metadata": {},
   "source": [
    "Some of the methods we used to access the elements of a list also work with individual words, or **strings**. For example, we can assign a string to a variable [1](https://www.nltk.org/book/ch01.html#assign-string), index a string [2](https://www.nltk.org/book/ch01.html#index-string), and slice a string [3](https://www.nltk.org/book/ch01.html#slice-string):"
   ]
  },
  {
   "cell_type": "code",
   "execution_count": 47,
   "id": "07ea32c2-a9cd-4a2f-a204-8351b6c35f6e",
   "metadata": {},
   "outputs": [
    {
     "data": {
      "text/plain": [
       "'M'"
      ]
     },
     "execution_count": 47,
     "metadata": {},
     "output_type": "execute_result"
    }
   ],
   "source": [
    "name = 'Monty'\n",
    "name[0]"
   ]
  },
  {
   "cell_type": "code",
   "execution_count": 48,
   "id": "45d7b1a1-a022-41a3-9e29-cef357e8fb7f",
   "metadata": {},
   "outputs": [
    {
     "data": {
      "text/plain": [
       "'Mont'"
      ]
     },
     "execution_count": 48,
     "metadata": {},
     "output_type": "execute_result"
    }
   ],
   "source": [
    "name[: 4]"
   ]
  },
  {
   "cell_type": "markdown",
   "id": "589f7c90-aa5d-4d5b-93c2-9b609bc2b9eb",
   "metadata": {},
   "source": [
    "We can also perform multiplication and addition with strings:"
   ]
  },
  {
   "cell_type": "code",
   "execution_count": 49,
   "id": "c6e10772-e2e1-4cd7-9935-b6ce59cdc62c",
   "metadata": {},
   "outputs": [
    {
     "data": {
      "text/plain": [
       "'MontyMonty'"
      ]
     },
     "execution_count": 49,
     "metadata": {},
     "output_type": "execute_result"
    }
   ],
   "source": [
    "name * 2"
   ]
  },
  {
   "cell_type": "code",
   "execution_count": 50,
   "id": "d0fa5d98-3304-483d-b7d9-84d9c08d849e",
   "metadata": {},
   "outputs": [
    {
     "data": {
      "text/plain": [
       "'Monty!'"
      ]
     },
     "execution_count": 50,
     "metadata": {},
     "output_type": "execute_result"
    }
   ],
   "source": [
    "name + '!'"
   ]
  },
  {
   "cell_type": "markdown",
   "id": "525098c7-f87d-47ea-8e1b-256738e08d56",
   "metadata": {},
   "source": [
    "We can join the words of a list to make a single string, or split a string into a list, as follows:"
   ]
  },
  {
   "cell_type": "code",
   "execution_count": 52,
   "id": "8831d561-a04e-41c0-9aa7-d0dfee0b7199",
   "metadata": {},
   "outputs": [
    {
     "data": {
      "text/plain": [
       "'Monty Python'"
      ]
     },
     "execution_count": 52,
     "metadata": {},
     "output_type": "execute_result"
    }
   ],
   "source": [
    "' '.join(['Monty', 'Python'])"
   ]
  },
  {
   "cell_type": "code",
   "execution_count": 53,
   "id": "01209b1f-f6b2-47b1-8f1a-03c5d11b39db",
   "metadata": {},
   "outputs": [
    {
     "data": {
      "text/plain": [
       "['Monty', 'Python']"
      ]
     },
     "execution_count": 53,
     "metadata": {},
     "output_type": "execute_result"
    }
   ],
   "source": [
    "'Monty Python'.split()"
   ]
  },
  {
   "cell_type": "markdown",
   "id": "bec99a8e-3526-440a-a4c6-c8205ea4c46f",
   "metadata": {
    "toc-hr-collapsed": true
   },
   "source": [
    "### **3   Computing with Language: Simple Statistics**"
   ]
  },
  {
   "cell_type": "markdown",
   "id": "32ecec73-58a9-45c5-8943-ea4617c0e4fe",
   "metadata": {},
   "source": [
    "Before continuing further, you might like to check your understanding of the last section by predicting the output of the following code. You can use the interpreter to check whether you got it right. If you're not sure how to do this task, it would be a good idea to review the previous section before continuing further."
   ]
  },
  {
   "cell_type": "code",
   "execution_count": 55,
   "id": "8ad95910-5ad1-4320-b3f1-1f7942ce048d",
   "metadata": {},
   "outputs": [
    {
     "data": {
      "text/plain": [
       "['said', 'than']"
      ]
     },
     "execution_count": 55,
     "metadata": {},
     "output_type": "execute_result"
    }
   ],
   "source": [
    "saying = ['After', 'all', 'is', 'said', 'and', 'done', 'more', 'is', 'said', 'than', 'done']\n",
    "tokens = set(saying)\n",
    "tokens = sorted(tokens)\n",
    "tokens[-2 :]"
   ]
  },
  {
   "cell_type": "markdown",
   "id": "5e17e6f8-841c-4d56-a862-81adee20419c",
   "metadata": {},
   "source": [
    "#### **3.1   Frequency Distributions**"
   ]
  },
  {
   "cell_type": "markdown",
   "id": "28370519-635b-46ad-b54b-121247b45d90",
   "metadata": {},
   "source": [
    "The table in [3.1](https://www.nltk.org/book/ch01.html#fig-tally) is known as a **frequency distribution**, and it tells us the frequency of each vocabulary item in the text. (In general, it could count any kind of observable event.) It is a \"distribution\" because it tells us how the total number of word tokens in the text are distributed across the vocabulary items. Since we often need frequency distributions in language processing, NLTK provides built-in support for them. Let's use a `FreqDist` to find the 50 most frequent words of *Moby Dick*:\n",
    "\n",
    "![image](https://www.nltk.org/images/tally.png)"
   ]
  },
  {
   "cell_type": "code",
   "execution_count": 67,
   "id": "bc7a247a-526d-42ac-b3d0-94d48e8ce3fe",
   "metadata": {},
   "outputs": [
    {
     "name": "stdout",
     "output_type": "stream",
     "text": [
      "<FreqDist with 19317 samples and 260819 outcomes>\n"
     ]
    }
   ],
   "source": [
    "fdist1 = FreqDist(text1)\n",
    "print(fdist1)"
   ]
  },
  {
   "cell_type": "code",
   "execution_count": 68,
   "id": "5cf80735-03d7-4b36-ae2f-b205fa1bd1e6",
   "metadata": {},
   "outputs": [
    {
     "data": {
      "text/plain": [
       "[(',', 18713),\n",
       " ('the', 13721),\n",
       " ('.', 6862),\n",
       " ('of', 6536),\n",
       " ('and', 6024),\n",
       " ('a', 4569),\n",
       " ('to', 4542),\n",
       " (';', 4072),\n",
       " ('in', 3916),\n",
       " ('that', 2982),\n",
       " (\"'\", 2684),\n",
       " ('-', 2552),\n",
       " ('his', 2459),\n",
       " ('it', 2209),\n",
       " ('I', 2124),\n",
       " ('s', 1739),\n",
       " ('is', 1695),\n",
       " ('he', 1661),\n",
       " ('with', 1659),\n",
       " ('was', 1632),\n",
       " ('as', 1620),\n",
       " ('\"', 1478),\n",
       " ('all', 1462),\n",
       " ('for', 1414),\n",
       " ('this', 1280),\n",
       " ('!', 1269),\n",
       " ('at', 1231),\n",
       " ('by', 1137),\n",
       " ('but', 1113),\n",
       " ('not', 1103),\n",
       " ('--', 1070),\n",
       " ('him', 1058),\n",
       " ('from', 1052),\n",
       " ('be', 1030),\n",
       " ('on', 1005),\n",
       " ('so', 918),\n",
       " ('whale', 906),\n",
       " ('one', 889),\n",
       " ('you', 841),\n",
       " ('had', 767),\n",
       " ('have', 760),\n",
       " ('there', 715),\n",
       " ('But', 705),\n",
       " ('or', 697),\n",
       " ('were', 680),\n",
       " ('now', 646),\n",
       " ('which', 640),\n",
       " ('?', 637),\n",
       " ('me', 627),\n",
       " ('like', 624)]"
      ]
     },
     "execution_count": 68,
     "metadata": {},
     "output_type": "execute_result"
    }
   ],
   "source": [
    "fdist1.most_common(50)"
   ]
  },
  {
   "cell_type": "code",
   "execution_count": 69,
   "id": "6f742981-85e9-4108-b9a4-06f7070a6711",
   "metadata": {},
   "outputs": [
    {
     "data": {
      "text/plain": [
       "906"
      ]
     },
     "execution_count": 69,
     "metadata": {},
     "output_type": "execute_result"
    }
   ],
   "source": [
    "fdist1['whale']"
   ]
  },
  {
   "cell_type": "code",
   "execution_count": 71,
   "id": "03667795-56e9-471c-880c-2cb4f1b04a48",
   "metadata": {},
   "outputs": [
    {
     "data": {
      "image/png": "[encoded data removed]",
      "text/plain": [
       "<Figure size 640x480 with 1 Axes>"
      ]
     },
     "metadata": {},
     "output_type": "display_data"
    },
    {
     "data": {
      "text/plain": [
       "<AxesSubplot:xlabel='Samples', ylabel='Cumulative Counts'>"
      ]
     },
     "execution_count": 71,
     "metadata": {},
     "output_type": "execute_result"
    }
   ],
   "source": [
    "fdist1.plot(50, cumulative=True)"
   ]
  },
  {
   "cell_type": "code",
   "execution_count": 74,
   "id": "c3eeeab8-7648-4b10-b3be-198b083d3ca8",
   "metadata": {},
   "outputs": [],
   "source": [
    "fdist1.hapaxes();"
   ]
  },
  {
   "cell_type": "code",
   "execution_count": 63,
   "id": "ef309c77-d8ed-485c-9ed9-0e1872ee727d",
   "metadata": {},
   "outputs": [
    {
     "name": "stdout",
     "output_type": "stream",
     "text": [
      "<FreqDist with 6833 samples and 141576 outcomes>\n"
     ]
    }
   ],
   "source": [
    "fdist1 = FreqDist(text2)\n",
    "print(fdist1)"
   ]
  },
  {
   "cell_type": "code",
   "execution_count": 64,
   "id": "e04b7b54-8ca0-4958-8ed9-a7e650313f0c",
   "metadata": {},
   "outputs": [
    {
     "data": {
      "text/plain": [
       "[(',', 9397),\n",
       " ('to', 4063),\n",
       " ('.', 3975),\n",
       " ('the', 3861),\n",
       " ('of', 3565),\n",
       " ('and', 3350),\n",
       " ('her', 2436),\n",
       " ('a', 2043),\n",
       " ('I', 2004),\n",
       " ('in', 1904)]"
      ]
     },
     "execution_count": 64,
     "metadata": {},
     "output_type": "execute_result"
    }
   ],
   "source": [
    "fdist1.most_common(10)"
   ]
  },
  {
   "cell_type": "code",
   "execution_count": 66,
   "id": "17fe4225-ac0e-448c-ad59-856cec9caf04",
   "metadata": {},
   "outputs": [
    {
     "data": {
      "text/plain": [
       "7"
      ]
     },
     "execution_count": 66,
     "metadata": {},
     "output_type": "execute_result"
    }
   ],
   "source": [
    "fdist1['sex']"
   ]
  },
  {
   "cell_type": "markdown",
   "id": "68ac7dd6-5812-4e27-a218-2434a7e3c8b6",
   "metadata": {},
   "source": [
    "#### **3.2   Fine-grained Selection of Words**"
   ]
  },
  {
   "cell_type": "markdown",
   "id": "39ef5b96-2e18-4dae-a1b1-a8f77193543a",
   "metadata": {},
   "source": [
    "Next, let's look at the *long* words of a text; perhaps these will be more characteristic and informative. For this we adapt some notation from set theory. We would like to find the words from the vocabulary of the text that are more than 15 characters long. Let's call this property *P*, so that *P(w)* is true if and only if *w* is more than 15 characters long. Now we can express the words of interest using mathematical set notation as shown in ([1a](https://www.nltk.org/book/ch01.html#ex-set-comprehension-math)). This means \"the set of all *w* such that *w* is an element of *V* (the vocabulary) and *w* has property *P*\"."
   ]
  },
  {
   "cell_type": "markdown",
   "id": "d21d96a4-6e04-405b-8d42-5ad274a48dde",
   "metadata": {},
   "source": [
    "$$\n",
    "\\{ w | w \\in V\\hspace{1pt}\\&\\hspace{1pt}P(w) \\}\n",
    "$$ (1a)"
   ]
  },
  {
   "cell_type": "markdown",
   "id": "0bee6a39-ee62-4554-b471-7c8b1d820412",
   "metadata": {},
   "source": [
    "$$\n",
    "[w\\hspace{2pt}for\\hspace{2pt}w\\hspace{2pt}in\\hspace{2pt}V\\hspace{2pt}if\\hspace{2pt}p(w)]\n",
    "$$ (1b)"
   ]
  },
  {
   "cell_type": "markdown",
   "id": "eba19a92-461a-4476-a678-c641ea740ef7",
   "metadata": {},
   "source": [
    "The corresponding Python expression is given in ([1b](https://www.nltk.org/book/ch01.html#ex-set-comprehension-python)). (Note that it produces a list, not a set, which means that duplicates are possible.) Observe how similar the two notations are. Let's go one more step and write executable Python code:"
   ]
  },
  {
   "cell_type": "code",
   "execution_count": 2,
   "id": "058bd0b2-256a-4682-9499-a5bd053d529b",
   "metadata": {},
   "outputs": [
    {
     "data": {
      "text/plain": [
       "['CIRCUMNAVIGATION',\n",
       " 'Physiognomically',\n",
       " 'apprehensiveness',\n",
       " 'cannibalistically',\n",
       " 'characteristically',\n",
       " 'circumnavigating',\n",
       " 'circumnavigation',\n",
       " 'circumnavigations',\n",
       " 'comprehensiveness',\n",
       " 'hermaphroditical',\n",
       " 'indiscriminately',\n",
       " 'indispensableness',\n",
       " 'irresistibleness',\n",
       " 'physiognomically',\n",
       " 'preternaturalness',\n",
       " 'responsibilities',\n",
       " 'simultaneousness',\n",
       " 'subterraneousness',\n",
       " 'supernaturalness',\n",
       " 'superstitiousness',\n",
       " 'uncomfortableness',\n",
       " 'uncompromisedness',\n",
       " 'undiscriminating',\n",
       " 'uninterpenetratingly']"
      ]
     },
     "execution_count": 2,
     "metadata": {},
     "output_type": "execute_result"
    }
   ],
   "source": [
    "V = set(text1)\n",
    "long_words = [w for w in V if len(w) > 15]\n",
    "sorted(long_words)"
   ]
  },
  {
   "cell_type": "code",
   "execution_count": 7,
   "id": "ded27746-cc14-41ce-92cd-8b18db5ecdfd",
   "metadata": {},
   "outputs": [
    {
     "data": {
      "text/plain": [
       "['companionableness', 'disinterestedness', 'disqualifications']"
      ]
     },
     "execution_count": 7,
     "metadata": {},
     "output_type": "execute_result"
    }
   ],
   "source": [
    "vocab = set(text2)\n",
    "long_words = [word for word in vocab if len(word) > 16]\n",
    "sorted(long_words)"
   ]
  },
  {
   "cell_type": "markdown",
   "id": "5ed03cdc-be9d-48ed-92a7-a73677003137",
   "metadata": {},
   "source": [
    "Let's return to our task of finding words that characterize a text. Notice that the long words in `text4` reflect its national focus — *constitutionally*, *transcontinental* — whereas those in `text5` reflect its informal content: *boooooooooooglyyyyyy* and *yuuuuuuuuuuuummmmmmmmmmmm*. Have we succeeded in automatically extracting words that typify a text? Well, these very long words are often hapaxes (i.e., unique) and perhaps it would be better to find *frequently occurring* long words. This seems promising since it eliminates frequent short words (e.g., *the*) and infrequent long words (e.g. *antiphilosophists*). Here are all words from the chat corpus that are longer than seven characters, that occur more than seven times:"
   ]
  },
  {
   "cell_type": "code",
   "execution_count": 8,
   "id": "c77d666c-1154-4bc3-98c2-3b0a1f26d72f",
   "metadata": {},
   "outputs": [
    {
     "data": {
      "text/plain": [
       "['#14-19teens',\n",
       " '#talkcity_adults',\n",
       " '((((((((((',\n",
       " '........',\n",
       " 'Question',\n",
       " 'actually',\n",
       " 'anything',\n",
       " 'computer',\n",
       " 'cute.-ass',\n",
       " 'everyone',\n",
       " 'football',\n",
       " 'innocent',\n",
       " 'listening',\n",
       " 'remember',\n",
       " 'seriously',\n",
       " 'something',\n",
       " 'together',\n",
       " 'tomorrow',\n",
       " 'watching']"
      ]
     },
     "execution_count": 8,
     "metadata": {},
     "output_type": "execute_result"
    }
   ],
   "source": [
    "fdist5 = FreqDist(text5)\n",
    "sorted(w for w in set(text5) if len(w) > 7 and fdist5[w] > 7)"
   ]
  },
  {
   "cell_type": "markdown",
   "id": "620a9ace-2924-4735-9fec-1ffef99744d6",
   "metadata": {},
   "source": [
    "#### **3.3   Collocations and Bigrams**"
   ]
  },
  {
   "cell_type": "markdown",
   "id": "febc059f-40c6-4263-9899-6c0e5a4de8b5",
   "metadata": {},
   "source": [
    "To get a handle on collocations, we start off by extracting from a text a list of word pairs, also known as **bigrams**. This is easily accomplished with the function `bigrams()`:"
   ]
  },
  {
   "cell_type": "code",
   "execution_count": 9,
   "id": "4e750ed1-0cb7-43ed-8e22-f6a86746caaa",
   "metadata": {},
   "outputs": [
    {
     "data": {
      "text/plain": [
       "[('more', 'is'), ('is', 'said'), ('said', 'than'), ('than', 'done')]"
      ]
     },
     "execution_count": 9,
     "metadata": {},
     "output_type": "execute_result"
    }
   ],
   "source": [
    "list(bigrams(['more', 'is', 'said', 'than', 'done']))"
   ]
  },
  {
   "cell_type": "markdown",
   "id": "1592d9c3-e815-40b0-a0c7-873c9e0c5cba",
   "metadata": {},
   "source": [
    "Here we see that the pair of words *than-done* is a bigram, and we write it in Python as (<font color = green>'than'</font>, <font color = green>'done'</font>). Now, collocations are essentially just frequent bigrams, except that we want to pay more attention to the cases that involve rare words. In particular, we want to find bigrams that occur more often than we would expect based on the frequency of the individual words. The `collocations()` function does this for us. We will see how it works later."
   ]
  },
  {
   "cell_type": "code",
   "execution_count": 10,
   "id": "c13b06ed-5195-4cdf-8450-6d021b566bc5",
   "metadata": {},
   "outputs": [
    {
     "name": "stdout",
     "output_type": "stream",
     "text": [
      "United States; fellow citizens; years ago; four years; Federal\n",
      "Government; General Government; American people; Vice President; God\n",
      "bless; Chief Justice; one another; fellow Americans; Old World;\n",
      "Almighty God; Fellow citizens; Chief Magistrate; every citizen; Indian\n",
      "tribes; public debt; foreign nations\n"
     ]
    }
   ],
   "source": [
    "text4.collocations()"
   ]
  },
  {
   "cell_type": "code",
   "execution_count": 11,
   "id": "573b7134-592f-4603-a0d2-32c25195d8f1",
   "metadata": {},
   "outputs": [
    {
     "name": "stdout",
     "output_type": "stream",
     "text": [
      "would like; medium build; social drinker; quiet nights; non smoker;\n",
      "long term; age open; Would like; easy going; financially secure; fun\n",
      "times; similar interests; Age open; weekends away; poss rship; well\n",
      "presented; never married; single mum; permanent relationship; slim\n",
      "build\n"
     ]
    }
   ],
   "source": [
    "text8.collocations()"
   ]
  },
  {
   "cell_type": "markdown",
   "id": "509377aa-ce25-479f-bd60-b922cc5db69b",
   "metadata": {},
   "source": [
    "#### **3.4   Counting Other Things**"
   ]
  },
  {
   "cell_type": "markdown",
   "id": "188957dd-c98b-4acf-809b-b1aa16b4cf82",
   "metadata": {},
   "source": [
    "Counting words is useful, but we can count other things too. For example, we can look at the distribution of word lengths in a text, by creating a `FreqDist` out of a long list of numbers, where each number is the length of the corresponding word in the text:"
   ]
  },
  {
   "cell_type": "code",
   "execution_count": 13,
   "id": "6942dacb-f066-4124-9a15-dbd7837d23b7",
   "metadata": {},
   "outputs": [],
   "source": [
    "[len(w) for w in text1];"
   ]
  },
  {
   "cell_type": "code",
   "execution_count": 14,
   "id": "b7f09cfb-f63b-4c9e-9277-7591e7eb464d",
   "metadata": {},
   "outputs": [
    {
     "name": "stdout",
     "output_type": "stream",
     "text": [
      "<FreqDist with 19 samples and 260819 outcomes>\n"
     ]
    }
   ],
   "source": [
    "fdist = FreqDist(len(w) for w in text1)\n",
    "print(fdist)"
   ]
  },
  {
   "cell_type": "code",
   "execution_count": 15,
   "id": "2107df84-a312-4388-a3a2-f64605e4643d",
   "metadata": {},
   "outputs": [
    {
     "data": {
      "text/plain": [
       "FreqDist({3: 50223, 1: 47933, 4: 42345, 2: 38513, 5: 26597, 6: 17111, 7: 14399, 8: 9966, 9: 6428, 10: 3528, ...})"
      ]
     },
     "execution_count": 15,
     "metadata": {},
     "output_type": "execute_result"
    }
   ],
   "source": [
    "fdist"
   ]
  },
  {
   "cell_type": "markdown",
   "id": "aa5ed1ec-f89f-406c-944e-e9f7c4561542",
   "metadata": {},
   "source": [
    "We start by deriving a list of the lengths of words in `text1` [1](https://www.nltk.org/book/ch01.html#word-lengths), and the `FreqDist` then counts the number of times each of these occurs [2](https://www.nltk.org/book/ch01.html#freq-word-lengths). The result [3](https://www.nltk.org/book/ch01.html#freq-word-lengths-size) is a distribution containing a quarter of a million items, each of which is a number corresponding to a word token in the text. But there are at most only 20 distinct items being counted, the numbers 1 through 20, because there are only 20 different word lengths. I.e., there are words consisting of just one character, two characters, ..., twenty characters, but none with twenty one or more characters. One might wonder how frequent the different lengths of word are (e.g., how many words of length four appear in the text, are there more words of length five than length four, etc). We can do this as follows:"
   ]
  },
  {
   "cell_type": "code",
   "execution_count": 16,
   "id": "3c26a3f2-31ef-45b9-805b-01d503e5b446",
   "metadata": {},
   "outputs": [
    {
     "data": {
      "text/plain": [
       "[(3, 50223),\n",
       " (1, 47933),\n",
       " (4, 42345),\n",
       " (2, 38513),\n",
       " (5, 26597),\n",
       " (6, 17111),\n",
       " (7, 14399),\n",
       " (8, 9966),\n",
       " (9, 6428),\n",
       " (10, 3528),\n",
       " (11, 1873),\n",
       " (12, 1053),\n",
       " (13, 567),\n",
       " (14, 177),\n",
       " (15, 70),\n",
       " (16, 22),\n",
       " (17, 12),\n",
       " (18, 1),\n",
       " (20, 1)]"
      ]
     },
     "execution_count": 16,
     "metadata": {},
     "output_type": "execute_result"
    }
   ],
   "source": [
    "fdist.most_common()"
   ]
  },
  {
   "cell_type": "code",
   "execution_count": 17,
   "id": "cbaf3089-840f-4e94-8cc5-42563cb1e71f",
   "metadata": {},
   "outputs": [
    {
     "data": {
      "text/plain": [
       "3"
      ]
     },
     "execution_count": 17,
     "metadata": {},
     "output_type": "execute_result"
    }
   ],
   "source": [
    "fdist.max()"
   ]
  },
  {
   "cell_type": "code",
   "execution_count": 18,
   "id": "a8202e00-4a96-41e8-861d-594c2edbd022",
   "metadata": {},
   "outputs": [
    {
     "data": {
      "text/plain": [
       "0.19255882431878046"
      ]
     },
     "execution_count": 18,
     "metadata": {},
     "output_type": "execute_result"
    }
   ],
   "source": [
    "fdist.freq(3)"
   ]
  },
  {
   "cell_type": "markdown",
   "id": "bf5652c1-de69-4f73-aa76-5441a66b1332",
   "metadata": {},
   "source": [
    "[3.1](https://www.nltk.org/book/ch01.html#tab-freqdist) summarizes the functions defined in frequency distributions."
   ]
  },
  {
   "cell_type": "markdown",
   "id": "13e9bcf5-050e-4f37-bd10-19eb28363b79",
   "metadata": {},
   "source": [
    "<table>\n",
    "    <caption>Functions Defined for NLTK's Frequency Distributions</caption>\n",
    "    <tr>\n",
    "        <th>Example</th>\n",
    "        <th>Description</th>\n",
    "    </tr>\n",
    "    <tr>\n",
    "        <td>fdist = FreqDist(samples)</td>\n",
    "        <td>create a frequency distribution containing the given samples</td>\n",
    "    </tr>\n",
    "    <tr>\n",
    "        <td>fdist[sample] += 1</td>\n",
    "        <td>increment the count for this sample</td>\n",
    "    </tr>\n",
    "    <tr>\n",
    "        <td>fdist[<font color = green>'monstrous'</font>]</td>\n",
    "        <td>count of the number of times a given sample occurred</td>\n",
    "    </tr>\n",
    "    <tr>\n",
    "        <td>fdist.freq(<font color = green>'monstrous'</font>)</td>\n",
    "        <td>frequency of a given sample</td>\n",
    "    </tr>\n",
    "    <tr>\n",
    "        <td>fdist.N()</td>\n",
    "        <td>total number of samples</td>\n",
    "    </tr>\n",
    "    <tr>\n",
    "        <td>fdist.most_common(n)</td>\n",
    "        <td>the n most common samples and their frequencies</td>\n",
    "    </tr>\n",
    "    <tr>\n",
    "        <td><font color = red>for</font> sample <font color = red>in</font> fdist:</td>\n",
    "        <td>iterate over the samples</td>\n",
    "    </tr>\n",
    "    <tr>\n",
    "        <td>fdist.max()</td>\n",
    "        <td>sample with the greatest count</td>\n",
    "    </tr>\n",
    "    <tr>\n",
    "        <td>fdist.tabulate()</td>\n",
    "        <td>tabulate the frequency distribution</td>\n",
    "    </tr>\n",
    "    <tr>\n",
    "        <td>fdist.plot()</td>\n",
    "        <td>graphical plot of the frequency distribution</td>\n",
    "    </tr>\n",
    "    <tr>\n",
    "        <td>fdist.plot(cumulative=True)</td>\n",
    "        <td>cumulative plot of the frequency distribution</td>\n",
    "    </tr>\n",
    "    <tr>\n",
    "        <td>fdist1 |= fdist2</td>\n",
    "        <td>update fdist1 with counts from fdist2</td>\n",
    "    </tr>\n",
    "    <tr>\n",
    "        <td>fdist1 < fdist2</td>\n",
    "        <td>test if samples in fdist1 occur less frequently than in fdist2</td>\n",
    "    </tr>\n",
    "</table>"
   ]
  },
  {
   "cell_type": "markdown",
   "id": "c3bedcad-d6b0-4456-a5d1-46201c3c7e23",
   "metadata": {
    "toc-hr-collapsed": true
   },
   "source": [
    "### **4   Back to Python: Making Decisions and Taking Control**"
   ]
  },
  {
   "cell_type": "markdown",
   "id": "33bedcf6-4efd-4798-ab95-b853987592f5",
   "metadata": {},
   "source": [
    "#### **4.1   Conditionals**"
   ]
  },
  {
   "cell_type": "markdown",
   "id": "fb54abb9-f865-4525-8185-e9fb90e0de2e",
   "metadata": {},
   "source": [
    "Python supports a wide range of operators, such as `<` and `>=`, for testing the relationship between values. The full set of these **relational operators** is shown in [4.1](https://www.nltk.org/book/ch01.html#tab-inequalities)."
   ]
  },
  {
   "cell_type": "markdown",
   "id": "812dd425-91e1-4de4-bbe1-c3ddc56d2063",
   "metadata": {},
   "source": [
    "<table>\n",
    "    <caption>Numerical Comparison Operators</caption>\n",
    "    <tr>\n",
    "        <th>Operator</th>\n",
    "        <th>Relationship</th>\n",
    "    </tr>\n",
    "    <tr>\n",
    "        <td><</td>\n",
    "        <td>less than</td>\n",
    "    </tr>\n",
    "    <tr>\n",
    "        <td><=</td>\n",
    "        <td>less than or equal to</td>\n",
    "    </tr>\n",
    "    <tr>\n",
    "        <td>==</td>\n",
    "        <td>equal to (note this is two \"=\" signs, not one)</td>\n",
    "    </tr>\n",
    "    <tr>\n",
    "        <td>!=</td>\n",
    "        <td>not equal to</td>\n",
    "    </tr>\n",
    "    <tr>\n",
    "        <td>></td>\n",
    "        <td>greater than</td>\n",
    "    </tr>\n",
    "    <tr>\n",
    "        <td>>=</td>\n",
    "        <td>greater than or equal to</td>\n",
    "    </tr>\n",
    "</table>"
   ]
  },
  {
   "cell_type": "markdown",
   "id": "62945f7e-bd31-4691-ab76-64aa8f32e651",
   "metadata": {},
   "source": [
    "We can use these to select different words from a sentence of news text. Here are some examples — only the operator is changed from one line to the next. They all use `sent7`, the first sentence from `text7` (Wall Street Journal)."
   ]
  },
  {
   "cell_type": "code",
   "execution_count": 2,
   "id": "7a449f54-f570-4080-b249-bf0643d89292",
   "metadata": {},
   "outputs": [
    {
     "data": {
      "text/plain": [
       "['Pierre',\n",
       " 'Vinken',\n",
       " ',',\n",
       " '61',\n",
       " 'years',\n",
       " 'old',\n",
       " ',',\n",
       " 'will',\n",
       " 'join',\n",
       " 'the',\n",
       " 'board',\n",
       " 'as',\n",
       " 'a',\n",
       " 'nonexecutive',\n",
       " 'director',\n",
       " 'Nov.',\n",
       " '29',\n",
       " '.']"
      ]
     },
     "execution_count": 2,
     "metadata": {},
     "output_type": "execute_result"
    }
   ],
   "source": [
    "sent7"
   ]
  },
  {
   "cell_type": "code",
   "execution_count": 3,
   "id": "d659d255-1465-4fea-a3f0-bd4ede654659",
   "metadata": {},
   "outputs": [
    {
     "data": {
      "text/plain": [
       "[',', '61', 'old', ',', 'the', 'as', 'a', '29', '.']"
      ]
     },
     "execution_count": 3,
     "metadata": {},
     "output_type": "execute_result"
    }
   ],
   "source": [
    "[w for w in sent7 if len(w) < 4]"
   ]
  },
  {
   "cell_type": "code",
   "execution_count": 4,
   "id": "2edeb386-cc9c-424a-a2a7-9e403bb08281",
   "metadata": {},
   "outputs": [
    {
     "data": {
      "text/plain": [
       "[',', '61', 'old', ',', 'will', 'join', 'the', 'as', 'a', 'Nov.', '29', '.']"
      ]
     },
     "execution_count": 4,
     "metadata": {},
     "output_type": "execute_result"
    }
   ],
   "source": [
    "[w for w in sent7 if len(w) <= 4]"
   ]
  },
  {
   "cell_type": "code",
   "execution_count": 5,
   "id": "4ebf8323-8e61-4bd5-b6ed-b3c0da36573f",
   "metadata": {},
   "outputs": [
    {
     "data": {
      "text/plain": [
       "['will', 'join', 'Nov.']"
      ]
     },
     "execution_count": 5,
     "metadata": {},
     "output_type": "execute_result"
    }
   ],
   "source": [
    "[w for w in sent7 if len(w) == 4]"
   ]
  },
  {
   "cell_type": "code",
   "execution_count": 6,
   "id": "5dfed355-9866-4a75-b655-b61350f73a1c",
   "metadata": {},
   "outputs": [
    {
     "data": {
      "text/plain": [
       "['Pierre',\n",
       " 'Vinken',\n",
       " ',',\n",
       " '61',\n",
       " 'years',\n",
       " 'old',\n",
       " ',',\n",
       " 'the',\n",
       " 'board',\n",
       " 'as',\n",
       " 'a',\n",
       " 'nonexecutive',\n",
       " 'director',\n",
       " '29',\n",
       " '.']"
      ]
     },
     "execution_count": 6,
     "metadata": {},
     "output_type": "execute_result"
    }
   ],
   "source": [
    "[w for w in sent7 if len(w) != 4]"
   ]
  },
  {
   "cell_type": "markdown",
   "id": "52364cca-df1a-4d01-af02-5be232c48d3c",
   "metadata": {},
   "source": [
    "There is a common pattern to all of these examples: [w <font color = red>for</font> w <font color = red>in</font> text <font color = red>if</font> *condition*], where *condition* is a Python \"test\" that yields either true or false. In the cases shown in the previous code example, the condition is always a numerical comparison. However, we can also test various properties of words, using the functions listed in [4.2](https://www.nltk.org/book/ch01.html#tab-word-tests)."
   ]
  },
  {
   "cell_type": "markdown",
   "id": "fde1ceee-e13a-4ced-95c7-ad2fc63a9e01",
   "metadata": {},
   "source": [
    "<table>\n",
    "    <caption>Some Word Comparison Operators</caption>\n",
    "    <tr>\n",
    "        <th>Function</th>\n",
    "        <th>Meaning</th>\n",
    "    </tr>\n",
    "    <tr>\n",
    "        <td>s.startswith(t)</td>\n",
    "        <td>test if s starts with t</td>\n",
    "    </tr>\n",
    "    <tr>\n",
    "        <td>s.endswith(t)</td>\n",
    "        <td>test if s ends with t</td>\n",
    "    </tr>\n",
    "    <tr>\n",
    "        <td>t <font color = red>in</font> s</td>\n",
    "        <td>test if t is a substring of s</td>\n",
    "    </tr>\n",
    "    <tr>\n",
    "        <td>s.islower()</td>\n",
    "        <td>test if s contains cased characters and all are lowercase</td>\n",
    "    </tr>\n",
    "    <tr>\n",
    "        <td>s.isupper()</td>\n",
    "        <td>test if s contains cased characters and all are uppercase</td>\n",
    "    </tr>\n",
    "    <tr>\n",
    "        <td>s.isalpha()</td>\n",
    "        <td>test if s is non-empty and all characters in s are alphabetic</td>\n",
    "    </tr>\n",
    "    <tr>\n",
    "        <td>s.isalnum()</td>\n",
    "        <td>test if s is non-empty and all characters in s are alphanumeric</td>\n",
    "    </tr>\n",
    "    <tr>\n",
    "        <td>s.isdigit()</td>\n",
    "        <td>test if s is non-empty and all characters in s are digits</td>\n",
    "    </tr>\n",
    "    <tr>\n",
    "        <td>s.istitle()</td>\n",
    "        <td>test if s contains cased characters and is titlecased (i.e. all words in s have initial capitals)</td>\n",
    "    </tr>\n",
    "</table>"
   ]
  },
  {
   "cell_type": "markdown",
   "id": "02aa8f36-d424-4786-a580-7ab494f1bdc8",
   "metadata": {},
   "source": [
    "Here are some examples of these operators being used to select words from our texts: words ending with *-ableness*; words containing *gnt*; words having an initial capital; and words consisting entirely of digits."
   ]
  },
  {
   "cell_type": "code",
   "execution_count": 7,
   "id": "ce7e01ed-7e91-4dd3-bd72-f8251ee89d07",
   "metadata": {},
   "outputs": [
    {
     "data": {
      "text/plain": [
       "['comfortableness',\n",
       " 'honourableness',\n",
       " 'immutableness',\n",
       " 'indispensableness',\n",
       " 'indomitableness',\n",
       " 'intolerableness',\n",
       " 'palpableness',\n",
       " 'reasonableness',\n",
       " 'uncomfortableness']"
      ]
     },
     "execution_count": 7,
     "metadata": {},
     "output_type": "execute_result"
    }
   ],
   "source": [
    "sorted(w for w in set(text1) if w.endswith('ableness'))"
   ]
  },
  {
   "cell_type": "code",
   "execution_count": 8,
   "id": "9595025c-9a86-4992-9774-35915113cd2b",
   "metadata": {},
   "outputs": [
    {
     "data": {
      "text/plain": [
       "['Sovereignty', 'sovereignties', 'sovereignty']"
      ]
     },
     "execution_count": 8,
     "metadata": {},
     "output_type": "execute_result"
    }
   ],
   "source": [
    "sorted(term for term in set(text4) if 'gnt' in term)"
   ]
  },
  {
   "cell_type": "code",
   "execution_count": 10,
   "id": "9eca09fc-c9a8-46cf-b1f1-bee60bc2dd4f",
   "metadata": {},
   "outputs": [],
   "source": [
    "sorted(item for item in set(text6) if item.istitle());"
   ]
  },
  {
   "cell_type": "code",
   "execution_count": 11,
   "id": "2f7a8656-42fb-4181-8878-3a82e2521b3a",
   "metadata": {},
   "outputs": [
    {
     "data": {
      "text/plain": [
       "['29', '61']"
      ]
     },
     "execution_count": 11,
     "metadata": {},
     "output_type": "execute_result"
    }
   ],
   "source": [
    "sorted(item for item in set(sent7) if item.isdigit())"
   ]
  },
  {
   "cell_type": "code",
   "execution_count": 13,
   "id": "b7e41d7b-a0f3-419c-82e5-16fe8fb0c01c",
   "metadata": {},
   "outputs": [
    {
     "data": {
      "text/plain": [
       "['Stock-index',\n",
       " 'index-arbitrage',\n",
       " 'index-fund',\n",
       " 'index-options',\n",
       " 'index-related',\n",
       " 'stock-index']"
      ]
     },
     "execution_count": 13,
     "metadata": {},
     "output_type": "execute_result"
    }
   ],
   "source": [
    "sorted(w for w in set(text7) if '-' in w and 'index' in w) #sort words contain '-' and 'index'"
   ]
  },
  {
   "cell_type": "code",
   "execution_count": 15,
   "id": "62d16f1f-fe9c-49f0-b33f-d172ae765145",
   "metadata": {},
   "outputs": [
    {
     "data": {
      "text/plain": [
       "['Abelmizraim',\n",
       " 'Allonbachuth',\n",
       " 'Beerlahairoi',\n",
       " 'Canaanitish',\n",
       " 'Chedorlaomer',\n",
       " 'Girgashites',\n",
       " 'Hazarmaveth',\n",
       " 'Hazezontamar',\n",
       " 'Ishmeelites',\n",
       " 'Jegarsahadutha',\n",
       " 'Jehovahjireh',\n",
       " 'Kirjatharba',\n",
       " 'Melchizedek',\n",
       " 'Mesopotamia',\n",
       " 'Peradventure',\n",
       " 'Philistines',\n",
       " 'Zaphnathpaaneah']"
      ]
     },
     "execution_count": 15,
     "metadata": {},
     "output_type": "execute_result"
    }
   ],
   "source": [
    "sorted(wd for wd in set(text3) if wd.istitle() and len(wd) > 10) #sort words more than 10 characters and have initial capital"
   ]
  },
  {
   "cell_type": "code",
   "execution_count": 17,
   "id": "ce3277a2-5612-41bb-bfcb-46b237e40dca",
   "metadata": {},
   "outputs": [
    {
     "data": {
      "text/plain": [
       "[',', '.', '29', '61', 'Nov.', 'Pierre', 'Vinken']"
      ]
     },
     "execution_count": 17,
     "metadata": {},
     "output_type": "execute_result"
    }
   ],
   "source": [
    "sorted(w for w in set(sent7) if not w.islower()) #sort words without lower case"
   ]
  },
  {
   "cell_type": "code",
   "execution_count": 19,
   "id": "35d540d0-3132-4236-8980-41e741d61bd6",
   "metadata": {},
   "outputs": [
    {
     "data": {
      "text/plain": [
       "['ancient',\n",
       " 'ceiling',\n",
       " 'conceit',\n",
       " 'conceited',\n",
       " 'conceive',\n",
       " 'conscience',\n",
       " 'conscientious',\n",
       " 'conscientiously',\n",
       " 'deceitful',\n",
       " 'deceive',\n",
       " 'deceived',\n",
       " 'deceiving',\n",
       " 'deficiencies',\n",
       " 'deficiency',\n",
       " 'deficient',\n",
       " 'delicacies',\n",
       " 'excellencies',\n",
       " 'fancied',\n",
       " 'insufficiency',\n",
       " 'insufficient',\n",
       " 'legacies',\n",
       " 'perceive',\n",
       " 'perceived',\n",
       " 'perceiving',\n",
       " 'prescience',\n",
       " 'prophecies',\n",
       " 'receipt',\n",
       " 'receive',\n",
       " 'received',\n",
       " 'receiving',\n",
       " 'society',\n",
       " 'species',\n",
       " 'sufficient',\n",
       " 'sufficiently',\n",
       " 'undeceive',\n",
       " 'undeceiving']"
      ]
     },
     "execution_count": 19,
     "metadata": {},
     "output_type": "execute_result"
    }
   ],
   "source": [
    "sorted(t for t in set(text2) if 'cie' in t or 'cei' in t) #sort words contain 'cie' or 'cei'"
   ]
  },
  {
   "cell_type": "markdown",
   "id": "8dd7fb74-41fa-4fc7-a04d-3668da0280d8",
   "metadata": {},
   "source": [
    "#### **4.2   Operating on Every Element**"
   ]
  },
  {
   "cell_type": "markdown",
   "id": "85d60448-cc14-4031-9020-9697753ff42f",
   "metadata": {},
   "source": [
    "In [3](https://www.nltk.org/book/ch01.html#sec-computing-with-language-simple-statistics), we saw some examples of counting items other than words. Let's take a closer look at the notation we used:"
   ]
  },
  {
   "cell_type": "code",
   "execution_count": 21,
   "id": "06b993d2-3bae-436a-907f-518f53fa464d",
   "metadata": {},
   "outputs": [],
   "source": [
    "[len(w) for w in text1];"
   ]
  },
  {
   "cell_type": "code",
   "execution_count": 23,
   "id": "68ffcd95-22c7-458d-ab44-975123072cd6",
   "metadata": {},
   "outputs": [],
   "source": [
    "[w.upper() for w in text1];"
   ]
  },
  {
   "cell_type": "markdown",
   "id": "567b3f49-d9e2-4121-a65e-b80261672dc2",
   "metadata": {},
   "source": [
    "Let's return to the question of vocabulary size, and apply the same idiom here:"
   ]
  },
  {
   "cell_type": "code",
   "execution_count": 24,
   "id": "cd861483-fce5-4353-98f0-3d66c2befb2f",
   "metadata": {},
   "outputs": [
    {
     "data": {
      "text/plain": [
       "260819"
      ]
     },
     "execution_count": 24,
     "metadata": {},
     "output_type": "execute_result"
    }
   ],
   "source": [
    "len(text1)"
   ]
  },
  {
   "cell_type": "code",
   "execution_count": 25,
   "id": "03072e0b-510e-487f-8915-cf80e1ed4206",
   "metadata": {},
   "outputs": [
    {
     "data": {
      "text/plain": [
       "19317"
      ]
     },
     "execution_count": 25,
     "metadata": {},
     "output_type": "execute_result"
    }
   ],
   "source": [
    "len(set(text1))"
   ]
  },
  {
   "cell_type": "code",
   "execution_count": 26,
   "id": "bf963742-6b4a-4b3d-a8c3-c854e298d79d",
   "metadata": {},
   "outputs": [
    {
     "data": {
      "text/plain": [
       "17231"
      ]
     },
     "execution_count": 26,
     "metadata": {},
     "output_type": "execute_result"
    }
   ],
   "source": [
    "len(set(word.lower() for word in text1))"
   ]
  },
  {
   "cell_type": "markdown",
   "id": "30dc20ba-6833-4bb3-93fa-e91fd7c47142",
   "metadata": {},
   "source": [
    "Now that we are not double-counting words like *This* and *this*, which differ only in capitalization, we've wiped 2,000 off the vocabulary count! We can go a step further and eliminate numbers and punctuation from the vocabulary count by filtering out any non-alphabetic items:"
   ]
  },
  {
   "cell_type": "code",
   "execution_count": 27,
   "id": "f4f038c9-f0ed-46d2-945b-678eb7682966",
   "metadata": {},
   "outputs": [
    {
     "data": {
      "text/plain": [
       "16948"
      ]
     },
     "execution_count": 27,
     "metadata": {},
     "output_type": "execute_result"
    }
   ],
   "source": [
    "len(set(word.lower() for word in text1 if word.isalpha()))"
   ]
  },
  {
   "cell_type": "markdown",
   "id": "455d8263-2ac5-468a-b088-8683aeb93e97",
   "metadata": {},
   "source": [
    "#### **4.3   Nested Code Blocks**"
   ]
  },
  {
   "cell_type": "markdown",
   "id": "2bb091db-7777-4343-bf60-f4ef309a1e56",
   "metadata": {},
   "source": [
    "Most programming languages permit us to execute a block of code when a **conditional expression**, or <font color = red>if</font> statement, is satisfied. We already saw examples of conditional tests in code like [w <font color = red>for</font> w <font color = red>in</font> sent7 <font color = red>if</font> len(w) < 4]. In the following program, we have created a variable called `word` containing the string value <font color = green>'cat'</font>. The <font color = red>if</font> statement checks whether the test `len(word) < 5` is true. It is, so the body of the <font color = red>if</font> statement is invoked and the <font color = red>print</font> statement is executed, displaying a message to the user."
   ]
  },
  {
   "cell_type": "code",
   "execution_count": 28,
   "id": "ec59d337-5f57-42b5-b4a0-005ffc3e0768",
   "metadata": {},
   "outputs": [
    {
     "name": "stdout",
     "output_type": "stream",
     "text": [
      "word length is less than 5\n"
     ]
    }
   ],
   "source": [
    "word = 'cat'\n",
    "if len(word) < 5:\n",
    "    print('word length is less than 5')"
   ]
  },
  {
   "cell_type": "markdown",
   "id": "44d4e717-633d-4742-8b8a-486a21e343a3",
   "metadata": {},
   "source": [
    "If we change the conditional test to `len(word) >= 5`, to check that the length of `word` is greater than or equal to `5`, then the test will no longer be true. This time, the body of the <font color = red>if</font> statement will not be executed, and no message is shown to the user:"
   ]
  },
  {
   "cell_type": "code",
   "execution_count": 29,
   "id": "ac07cd5a-cc0c-4ee2-b68a-4d35a968213c",
   "metadata": {},
   "outputs": [],
   "source": [
    "if len(word) >= 5:\n",
    "    print('word length is greater than or equal to 5')"
   ]
  },
  {
   "cell_type": "markdown",
   "id": "faa7eb96-50af-4859-9186-076cd00deb50",
   "metadata": {},
   "source": [
    "An <font color = red>if</font> statement is known as a **control structure** because it controls whether the code in the indented block will be run. Another control structure is the <font color = red>for</font> loop."
   ]
  },
  {
   "cell_type": "code",
   "execution_count": 30,
   "id": "f55441dd-8e70-4b4e-893a-a06f40535e6c",
   "metadata": {},
   "outputs": [
    {
     "name": "stdout",
     "output_type": "stream",
     "text": [
      "Call\n",
      "me\n",
      "Ishmael\n",
      ".\n"
     ]
    }
   ],
   "source": [
    "for word in ['Call', 'me', 'Ishmael', '.']:\n",
    "    print(word)"
   ]
  },
  {
   "cell_type": "markdown",
   "id": "bd910c99-850c-43cf-8b0c-b415b793c6d9",
   "metadata": {},
   "source": [
    "#### **4.4   Looping with Conditions**"
   ]
  },
  {
   "cell_type": "markdown",
   "id": "4df0d152-8769-4989-bbea-6bc052d4deca",
   "metadata": {},
   "source": [
    "Now we can combine the <font color = red>if</font> and <font color = red>for</font> statements. We will loop over every item of the list, and print the item only if it ends with the letter *l*. We'll pick another name for the variable to demonstrate that Python doesn't try to make sense of variable names."
   ]
  },
  {
   "cell_type": "code",
   "execution_count": 31,
   "id": "892426fc-2df5-4caf-8131-d42d78161709",
   "metadata": {},
   "outputs": [
    {
     "name": "stdout",
     "output_type": "stream",
     "text": [
      "Call\n",
      "Ishmael\n"
     ]
    }
   ],
   "source": [
    "sent1 = ['Call', 'me', 'Ishmael', '.']\n",
    "for xyzzy in sent1:\n",
    "    if xyzzy.endswith('l'):\n",
    "        print(xyzzy)"
   ]
  },
  {
   "cell_type": "markdown",
   "id": "2dc05bc0-7da1-4d6f-b028-509012dcd0c7",
   "metadata": {},
   "source": [
    "We can also specify an action to be taken if the condition of the <font color = red>if</font> statement is not met. Here we see the <font color = red>elif</font> (else if) statement, and the <font color = red>else</font> statement. Notice that these also have colons before the indented code."
   ]
  },
  {
   "cell_type": "code",
   "execution_count": 32,
   "id": "bafece0e-db92-4da8-99ee-b71a7859032e",
   "metadata": {},
   "outputs": [
    {
     "name": "stdout",
     "output_type": "stream",
     "text": [
      "Call is a titlecase word\n",
      "me is a lowercase word\n",
      "Ishmael is a titlecase word\n",
      ". is punctuation\n"
     ]
    }
   ],
   "source": [
    "for token in sent1:\n",
    "    if token.islower():\n",
    "        print(token, 'is a lowercase word')\n",
    "    elif token.istitle():\n",
    "        print(token, 'is a titlecase word')\n",
    "    else:\n",
    "        print(token, 'is punctuation')"
   ]
  },
  {
   "cell_type": "markdown",
   "id": "1e7c2a79-6ce7-44d0-a1d6-8de6e2f9cefe",
   "metadata": {},
   "source": [
    "Finally, let's combine the idioms we've been exploring. First, we create a list of *cie* and *cei* words, then we loop over each item and print it. Notice the extra information given in the print statement: *end=' '*. This tells Python to print a space (not the default newline) after each word."
   ]
  },
  {
   "cell_type": "code",
   "execution_count": 34,
   "id": "31479750-fb7a-4fd3-89d0-22538e88541e",
   "metadata": {},
   "outputs": [
    {
     "name": "stdout",
     "output_type": "stream",
     "text": [
      "ancient ceiling conceit conceited conceive conscience conscientious conscientiously deceitful deceive deceived deceiving deficiencies deficiency deficient delicacies excellencies fancied insufficiency insufficient legacies perceive perceived perceiving prescience prophecies receipt receive received receiving society species sufficient sufficiently undeceive undeceiving "
     ]
    }
   ],
   "source": [
    "tricky = sorted(w for w in set(text2) if 'cie' in w or 'cei' in w)\n",
    "for word in tricky:\n",
    "    print(word, end=' ')"
   ]
  },
  {
   "cell_type": "markdown",
   "id": "1a81aa70-4762-41e8-8864-0042dc7e3feb",
   "metadata": {
    "toc-hr-collapsed": true
   },
   "source": [
    "### **5   Automatic Natural Language Understanding**"
   ]
  },
  {
   "cell_type": "markdown",
   "id": "af170a73-8b68-45a9-9cbb-6851c738da24",
   "metadata": {},
   "source": [
    "In this section we describe some language understanding technologies, to give you a sense of the interesting challenges that are waiting for you."
   ]
  },
  {
   "cell_type": "markdown",
   "id": "fba5fd30-09ab-43f3-a366-2e3f42c642dd",
   "metadata": {},
   "source": [
    "#### **5.1   Word Sense Disambiguation**"
   ]
  },
  {
   "cell_type": "markdown",
   "id": "e8e4a243-6ced-4034-b278-f3ff1a303203",
   "metadata": {},
   "source": [
    "In **word sense disambiguation** we want to work out which sense of a word was intended in a given context. Consider the ambiguous words *serve* and *dish*:"
   ]
  },
  {
   "cell_type": "markdown",
   "id": "83702a2a-132f-448b-84f5-5dabf6920c57",
   "metadata": {},
   "source": [
    "$$\n",
    "serve: help\\hspace{2pt} with\\hspace{2pt} food\\hspace{2pt} or\\hspace{2pt} drink; hold\\hspace{2pt} an\\hspace{2pt} office; put\\hspace{2pt} ball\\hspace{2pt} into\\hspace{2pt} play\n",
    "$$ (2a)"
   ]
  },
  {
   "cell_type": "markdown",
   "id": "de90ff96-4a50-41bb-aa32-7cf003a949f2",
   "metadata": {},
   "source": [
    "$$\n",
    "dish: plate; course\\hspace{2pt} of\\hspace{2pt} a\\hspace{2pt} meal; communications\\hspace{2pt} device\n",
    "$$ (2b)"
   ]
  },
  {
   "cell_type": "markdown",
   "id": "be091109-2ee0-4e14-893b-825f549b752d",
   "metadata": {},
   "source": [
    "In a sentence containing the phrase: *he served the dish*, you can detect that both *serve* and *dish* are being used with their food meanings. It's unlikely that the topic of discussion shifted from sports to crockery in the space of three words. This would force you to invent bizarre images, like a tennis pro taking out his or her frustrations on a china tea-set laid out beside the court. In other words, we automatically disambiguate words using context, exploiting the simple fact that nearby words have closely related meanings. As another example of this contextual effect, consider the word *by*, which has several meanings, e.g.: *the book by Chesterton* (agentive — Chesterton was the author of the book); *the cup by the stove* (locative — the stove is where the cup is); and *submit by Friday* (temporal — Friday is the time of the submitting). "
   ]
  },
  {
   "cell_type": "markdown",
   "id": "cfa00f50-f035-4935-b56b-d0e8e025a72b",
   "metadata": {},
   "source": [
    "#### **5.2   Pronoun Resolution**"
   ]
  },
  {
   "cell_type": "markdown",
   "id": "c482fd35-b6cc-4698-9e23-838440865fc3",
   "metadata": {},
   "source": [
    "In the sentence *the thieves stole the paintings* it is easy to tell who performed the stealing action. Consider three possible following sentences in ([4c](https://www.nltk.org/book/ch01.html#ex-thieves)), and try to determine what was sold, caught, and found (one case is ambiguous)."
   ]
  },
  {
   "cell_type": "markdown",
   "id": "005c4969-fcdc-4b43-8c4f-a38e149577f5",
   "metadata": {},
   "source": [
    "$$\n",
    "The\\hspace{2pt} thieves\\hspace{2pt} stole\\hspace{2pt} the\\hspace{2pt} paintings. They\\hspace{2pt} were\\hspace{2pt} subsequently\\hspace{2pt} sold.\n",
    "$$ (4a)"
   ]
  },
  {
   "cell_type": "markdown",
   "id": "f310334d-0256-4953-b222-f6e19fb21241",
   "metadata": {},
   "source": [
    "$$\n",
    "The\\hspace{2pt} thieves\\hspace{2pt} stole\\hspace{2pt} the\\hspace{2pt} paintings. They\\hspace{2pt} were\\hspace{2pt} subsequently\\hspace{2pt} caught.\n",
    "$$ (4b)"
   ]
  },
  {
   "cell_type": "markdown",
   "id": "0cf5e14f-44aa-4b6f-9c4e-e5191f495258",
   "metadata": {},
   "source": [
    "$$\n",
    "The\\hspace{2pt} thieves\\hspace{2pt} stole\\hspace{2pt} the\\hspace{2pt} paintings. They\\hspace{2pt} were\\hspace{2pt} subsequently\\hspace{2pt} found.\n",
    "$$ (4c)"
   ]
  },
  {
   "cell_type": "markdown",
   "id": "b57a076c-084d-4ffc-a10b-ea57e2cfd149",
   "metadata": {},
   "source": [
    "Answering this question involves finding the **antecedent** of the pronoun *they*, either thieves or paintings. Computational techniques for tackling this problem include **anaphora resolution** — identifying what a pronoun or noun phrase refers to — and **semantic role labeling** — identifying how a noun phrase relates to the verb (as agent, patient, instrument, and so on)."
   ]
  },
  {
   "cell_type": "markdown",
   "id": "4dc34101-12b5-4304-b7a7-df6bfad150ab",
   "metadata": {},
   "source": [
    "#### **5.3   Generating Language Output**"
   ]
  },
  {
   "cell_type": "markdown",
   "id": "27858418-c566-4159-ab00-41ffecce9da3",
   "metadata": {},
   "source": [
    "If we can automatically solve such problems of language understanding, we will be able to move on to tasks that involve generating language output, such as **question answering** and **machine translation**. In the first case, a machine should be able to answer a user's questions relating to collection of texts:"
   ]
  },
  {
   "cell_type": "markdown",
   "id": "d594db9d-65f2-4ae0-8d6b-99a253493c5b",
   "metadata": {},
   "source": [
    "$$\n",
    "Text: ... The\\hspace{2pt} thieves\\hspace{2pt} stole\\hspace{2pt} the\\hspace{2pt} paintings. They\\hspace{2pt} were\\hspace{2pt} subsequently\\hspace{2pt} sold. ...\n",
    "$$ (5a)"
   ]
  },
  {
   "cell_type": "markdown",
   "id": "12c4e0aa-ff96-4d69-b668-bc2b3ef290ab",
   "metadata": {},
   "source": [
    "$$\n",
    "Human: Who\\hspace{2pt} or\\hspace{2pt} what\\hspace{2pt} was\\hspace{2pt} sold?\n",
    "$$ (5b)"
   ]
  },
  {
   "cell_type": "markdown",
   "id": "5d30cf78-df89-4348-80fb-2243e80d2f72",
   "metadata": {},
   "source": [
    "$$\n",
    "Machine: The\\hspace{2pt} paintings.\n",
    "$$ (5c)"
   ]
  },
  {
   "cell_type": "markdown",
   "id": "b0aea32b-1a64-4159-8a7b-8d82fa8ad61f",
   "metadata": {},
   "source": [
    "The machine's answer demonstrates that it has correctly worked out that *they* refers to paintings and not to thieves. In the second case, the machine should be able to translate the text into another language, accurately conveying the meaning of the original text. In translating the example text into French, we are forced to choose the gender of the pronoun in the second sentence: *ils* (masculine) if the thieves are found, and *elles* (feminine) if the paintings are found. Correct translation actually depends on correct understanding of the pronoun."
   ]
  },
  {
   "cell_type": "markdown",
   "id": "9d1859aa-259d-4e75-a2ef-4d06fcf30970",
   "metadata": {},
   "source": [
    "#### **5.4   Machine Translation**"
   ]
  },
  {
   "cell_type": "markdown",
   "id": "37afc6b8-b7d6-4a18-94d7-ff4433c75974",
   "metadata": {},
   "source": [
    "> using http://translationparty.com/"
   ]
  },
  {
   "cell_type": "markdown",
   "id": "b47c2f86-2952-4eeb-b01f-9743ff8f3ad5",
   "metadata": {},
   "source": [
    "Machine translation is difficult because a given word could have several possible translations (depending on its meaning), and because word order must be changed in keeping with the grammatical structure of the target language. Today these difficulties are being faced by collecting massive quantities of parallel texts from news and government websites that publish documents in two or more languages. Given a document in German and English, and possibly a bilingual dictionary, we can automatically pair up the sentences, a process called **text alignment**. Once we have a million or more sentence pairs, we can detect corresponding words and phrases, and build a model that can be used for translating new text."
   ]
  },
  {
   "cell_type": "markdown",
   "id": "8e5d18f0-8ef2-44ad-b7d3-380b7e272f24",
   "metadata": {},
   "source": [
    "#### **5.5   Spoken Dialog Systems**"
   ]
  },
  {
   "cell_type": "markdown",
   "id": "712f39b1-1fa8-40c0-b973-4364276cbf77",
   "metadata": {},
   "source": [
    "In the history of artificial intelligence, the chief measure of intelligence has been a linguistic one, namely the **Turing Test**: can a dialogue system, responding to a user's text input, perform so naturally that we cannot distinguish it from a human-generated response? In contrast, today's commercial dialogue systems are very limited, but still perform useful functions in narrowly-defined domains, as we see here:\n",
    "\n",
    "S: How may I help you?\n",
    "\n",
    "U: When is Saving Private Ryan playing?\n",
    "\n",
    "S: For what theater?\n",
    "\n",
    "U: The Paramount theater.\n",
    "\n",
    "S: Saving Private Ryan is not playing at the Paramount theater, but it's playing at the Madison theater at 3:00, 5:30, 8:00, and 10:30."
   ]
  },
  {
   "cell_type": "markdown",
   "id": "1fa7f07b-387a-4116-8e72-4041a04de3a0",
   "metadata": {},
   "source": [
    "![image](https://www.nltk.org/images/dialogue.png)"
   ]
  },
  {
   "cell_type": "markdown",
   "id": "fdfe31c6-c1d7-4cd5-9be3-b307d6d053a1",
   "metadata": {},
   "source": [
    "Dialogue systems give us an opportunity to mention the commonly assumed pipeline for NLP. [5.1](https://www.nltk.org/book/ch01.html#fig-sds) shows the architecture of a simple dialogue system. Along the top of the diagram, moving from left to right, is a \"pipeline\" of some language understanding **components**. These map from speech input via syntactic parsing to some kind of meaning representation. Along the middle, moving from right to left, is the reverse pipeline of components for converting concepts to speech. These components make up the dynamic aspects of the system. At the bottom of the diagram are some representative bodies of static information: the repositories of language-related data that the processing components draw on to do their work."
   ]
  },
  {
   "cell_type": "markdown",
   "id": "6095bd35-b37f-4908-861a-d72cc28e75a2",
   "metadata": {},
   "source": [
    "> For an example of a primitive dialogue system, try having a conversation with an NLTK chatbot. To see the available chatbots, run `nltk.chat.chatbots()`."
   ]
  },
  {
   "cell_type": "code",
   "execution_count": 37,
   "id": "7a49051d-82b7-4967-8f92-c77b28c57cd5",
   "metadata": {},
   "outputs": [
    {
     "name": "stdout",
     "output_type": "stream",
     "text": [
      "Which chatbot would you like to talk to?\n",
      "  1: Eliza (psycho-babble)\n",
      "  2: Iesha (teen anime junky)\n",
      "  3: Rude (abusive bot)\n",
      "  4: Suntsu (Chinese sayings)\n",
      "  5: Zen (gems of wisdom)\n"
     ]
    },
    {
     "name": "stdin",
     "output_type": "stream",
     "text": [
      "\n",
      "Enter a number in the range 1-5:  1\n"
     ]
    },
    {
     "name": "stdout",
     "output_type": "stream",
     "text": [
      "Therapist\n",
      "---------\n",
      "Talk to the program by typing in plain English, using normal upper-\n",
      "and lower-case letters and punctuation.  Enter \"quit\" when done.\n",
      "========================================================================\n",
      "Hello.  How are you feeling today?\n"
     ]
    },
    {
     "name": "stdin",
     "output_type": "stream",
     "text": [
      "> good\n"
     ]
    },
    {
     "name": "stdout",
     "output_type": "stream",
     "text": [
      "Please tell me more.\n"
     ]
    },
    {
     "name": "stdin",
     "output_type": "stream",
     "text": [
      "> good\n"
     ]
    },
    {
     "name": "stdout",
     "output_type": "stream",
     "text": [
      "Can you elaborate on that?\n"
     ]
    },
    {
     "name": "stdin",
     "output_type": "stream",
     "text": [
      "> good\n"
     ]
    },
    {
     "name": "stdout",
     "output_type": "stream",
     "text": [
      "good.\n"
     ]
    },
    {
     "name": "stdin",
     "output_type": "stream",
     "text": [
      "> quit\n"
     ]
    },
    {
     "name": "stdout",
     "output_type": "stream",
     "text": [
      "Good-bye.\n"
     ]
    }
   ],
   "source": [
    "import nltk\n",
    "nltk.chat.chatbots()"
   ]
  },
  {
   "cell_type": "markdown",
   "id": "3106b9cc-4b32-4c72-af2d-c94bc65db334",
   "metadata": {},
   "source": [
    "#### **5.6   Textual Entailment**"
   ]
  },
  {
   "cell_type": "markdown",
   "id": "14463706-75c1-4ac1-adcf-745f5c5e03fe",
   "metadata": {},
   "source": [
    "The challenge of language understanding has been brought into focus in recent years by a public \"shared task\" called Recognizing Textual Entailment (RTE). The basic scenario is simple. Suppose you want to find evidence to support the hypothesis: *Sandra Goudie was defeated by Max Purnell*, and that you have another short text that seems to be relevant, for example, *Sandra Goudie was first elected to Parliament in the 2002 elections, narrowly winning the seat of Coromandel by defeating Labour candidate Max Purnell and pushing incumbent Green MP Jeanette Fitzsimons into third place*. Does the text provide enough evidence for you to accept the hypothesis? In this particular case, the answer will be \"No.\" You can draw this conclusion easily, but it is very hard to come up with automated methods for making the right decision. The RTE Challenges provide data that allow competitors to develop their systems, but not enough data for \"brute force\" machine learning techniques (a topic we will cover in [chap-data-intensive](https://www.nltk.org/book/ch06.html#chap-data-intensive)). Consequently, some linguistic analysis is crucial. In the previous example, it is important for the system to note that *Sandra Goudie* names the person being defeated in the hypothesis, not the person doing the defeating in the text. As another illustration of the difficulty of the task, consider the following text-hypothesis pair:"
   ]
  },
  {
   "cell_type": "markdown",
   "id": "320f3a75-09f6-468d-a01f-4482754e2145",
   "metadata": {},
   "source": [
    "$$\n",
    "Text: David\\hspace{2pt} Golinkin\\hspace{2pt} is\\hspace{2pt} the\\hspace{2pt} editor\\hspace{2pt} or\\hspace{2pt} author\\hspace{2pt} of\\hspace{2pt} eighteen\\hspace{2pt} books, and\\hspace{2pt} over\\hspace{2pt} 150\\hspace{2pt} responsa, articles, sermons\\hspace{2pt} and\\hspace{2pt} books\n",
    "$$ (7a)"
   ]
  },
  {
   "cell_type": "markdown",
   "id": "949d8257-2746-42b4-9c38-9072bceb4461",
   "metadata": {},
   "source": [
    "$$\n",
    "Hypothesis: Golinkin\\hspace{2pt} has\\hspace{2pt} written\\hspace{2pt} eighteen\\hspace{2pt} books\n",
    "$$ (7b)"
   ]
  },
  {
   "cell_type": "markdown",
   "id": "c270bf95-f668-4897-8b03-4982a7c524b0",
   "metadata": {},
   "source": [
    "#### **5.7   Limitations of NLP**"
   ]
  },
  {
   "cell_type": "markdown",
   "id": "1fe6f2e8-2037-4911-880d-ec2730a9e734",
   "metadata": {},
   "source": [
    "Despite the research-led advances in tasks like RTE, natural language systems that have been deployed for real-world applications still cannot perform common-sense reasoning or draw on world knowledge in a general and robust manner. We can wait for these difficult artificial intelligence problems to be solved, but in the meantime it is necessary to live with some severe limitations on the reasoning and knowledge capabilities of natural language systems. Accordingly, right from the beginning, an important goal of NLP research has been to make progress on the difficult task of building technologies that \"understand language,\" using superficial yet powerful techniques instead of unrestricted knowledge and reasoning capabilities. Indeed, this is one of the goals of this book, and we hope to equip you with the knowledge and skills to build useful NLP systems, and to contribute to the long-term aspiration of building intelligent machines."
   ]
  },
  {
   "cell_type": "markdown",
   "id": "fa18aa55-2434-4a59-b38d-e45386741ca7",
   "metadata": {},
   "source": [
    "### **6   Summary**"
   ]
  },
  {
   "cell_type": "markdown",
   "id": "71348768-fb1d-4ff7-a986-ffeac06400d4",
   "metadata": {},
   "source": [
    "* Texts are represented in Python using lists: [<font color = green>'Monty'</font>, <font color = green>'Python'</font>]. We can use indexing, slicing, and the `len()` function on lists.\n",
    "* A word \"token\" is a particular appearance of a given word in a text; a word \"type\" is the unique form of the word as a particular sequence of letters. We count word tokens using `len(text)` and word types using `len(set(text))`.\n",
    "* We obtain the vocabulary of a text `t` using `sorted(set(t))`.\n",
    "* We operate on each item of a text using [f(x) <font color = red>for</font> x <font color = red>in</font> text].\n",
    "* To derive the vocabulary, collapsing case distinctions and ignoring punctuation, we can write set(w.lower() <font color = red>for</font> w <font color = red>in</font> text <font color = red>if</font> w.isalpha()).\n",
    "* We process each word in a text using a <font color = red>for</font> statement, such as <font color = red>for</font> w <font color = red>in</font> t: or <font color = red>for</font> word <font color = red>in</font> text:. This must be followed by the colon character and an indented block of code, to be executed each time through the loop.\n",
    "* We test a condition using an <font color = red>if</font> statement: <font color = red>if</font> len(word) < 5:. This must be followed by the colon character and an indented block of code, to be executed only if the condition is true.\n",
    "* A frequency distribution is a collection of items along with their frequency counts (e.g., the words of a text and their frequency of appearance).\n",
    "* A function is a block of code that has been assigned a name and can be reused. Functions are defined using the `def` keyword, as in <font color = red>def</font> <font color = blue>mult</font>(x, y); `x` and `y` are parameters of the function, and act as placeholders for actual data values.\n",
    "* A function is called by specifying its name followed by zero or more arguments inside parentheses, like this: `texts()`, `mult(3, 4)`, `len(text1)`."
   ]
  },
  {
   "cell_type": "markdown",
   "id": "560ce240-b7fd-4ae1-a27d-d6fe1008b440",
   "metadata": {},
   "source": [
    "### **7   Further Reading**"
   ]
  },
  {
   "cell_type": "markdown",
   "id": "871affad-526a-4259-b435-8c6ecd66a223",
   "metadata": {},
   "source": [
    "The Association for Computational Linguistics is the international organization that represents the field of NLP. The ACL website (http://www.aclweb.org/) hosts many useful resources, including: information about international and regional conferences and workshops; the `ACL Wiki` with links to hundreds of useful resources; and the `ACL Anthology`, which contains most of the NLP research literature from the past 50+ years, fully indexed and freely downloadable."
   ]
  },
  {
   "cell_type": "markdown",
   "id": "c9c79320-1560-4e53-9af7-6dc8120cfed4",
   "metadata": {
    "toc-hr-collapsed": true
   },
   "source": [
    "## **2. Accessing Text Corpora and Lexical Resources**"
   ]
  },
  {
   "cell_type": "markdown",
   "id": "60033948-a241-452d-9004-e253dfb6e825",
   "metadata": {
    "toc-hr-collapsed": true
   },
   "source": [
    "### **1   Accessing Text Corpora**"
   ]
  },
  {
   "cell_type": "markdown",
   "id": "d8c11c6f-e621-4632-9c2b-00e1055cc061",
   "metadata": {},
   "source": [
    "#### **1.1   Gutenberg Corpus**"
   ]
  },
  {
   "cell_type": "code",
   "execution_count": 2,
   "id": "133363b9-c878-44b6-9a3b-2392e6c728ee",
   "metadata": {},
   "outputs": [
    {
     "data": {
      "text/plain": [
       "['austen-emma.txt',\n",
       " 'austen-persuasion.txt',\n",
       " 'austen-sense.txt',\n",
       " 'bible-kjv.txt',\n",
       " 'blake-poems.txt',\n",
       " 'bryant-stories.txt',\n",
       " 'burgess-busterbrown.txt',\n",
       " 'carroll-alice.txt',\n",
       " 'chesterton-ball.txt',\n",
       " 'chesterton-brown.txt',\n",
       " 'chesterton-thursday.txt',\n",
       " 'edgeworth-parents.txt',\n",
       " 'melville-moby_dick.txt',\n",
       " 'milton-paradise.txt',\n",
       " 'shakespeare-caesar.txt',\n",
       " 'shakespeare-hamlet.txt',\n",
       " 'shakespeare-macbeth.txt',\n",
       " 'whitman-leaves.txt']"
      ]
     },
     "execution_count": 2,
     "metadata": {},
     "output_type": "execute_result"
    }
   ],
   "source": [
    "import nltk\n",
    "nltk.corpus.gutenberg.fileids()"
   ]
  },
  {
   "cell_type": "code",
   "execution_count": 3,
   "id": "15dff2fa-2727-4ff6-93dc-f1d2131c4f38",
   "metadata": {},
   "outputs": [
    {
     "data": {
      "text/plain": [
       "192427"
      ]
     },
     "execution_count": 3,
     "metadata": {},
     "output_type": "execute_result"
    }
   ],
   "source": [
    "emma = nltk.corpus.gutenberg.words('austen-emma.txt')\n",
    "len(emma)"
   ]
  },
  {
   "cell_type": "code",
   "execution_count": 4,
   "id": "b1ea2316-fa5d-493b-b811-068a35255258",
   "metadata": {},
   "outputs": [
    {
     "name": "stdout",
     "output_type": "stream",
     "text": [
      "Displaying 25 of 37 matches:\n",
      "er father , was sometimes taken by surprize at his being still able to pity ` \n",
      "hem do the other any good .\" \" You surprize me ! Emma must do Harriet good : a\n",
      "Knightley actually looked red with surprize and displeasure , as he stood up ,\n",
      "r . Elton , and found to his great surprize , that Mr . Elton was actually on \n",
      "d aid .\" Emma saw Mrs . Weston ' s surprize , and felt that it must be great ,\n",
      "father was quite taken up with the surprize of so sudden a journey , and his f\n",
      "y , in all the favouring warmth of surprize and conjecture . She was , moreove\n",
      "he appeared , to have her share of surprize , introduction , and pleasure . Th\n",
      "ir plans ; and it was an agreeable surprize to her , therefore , to perceive t\n",
      "talking aunt had taken me quite by surprize , it must have been the death of m\n",
      "f all the dialogue which ensued of surprize , and inquiry , and congratulation\n",
      " the present . They might chuse to surprize her .\" Mrs . Cole had many to agre\n",
      "the mode of it , the mystery , the surprize , is more like a young woman ' s s\n",
      " to her song took her agreeably by surprize -- a second , slightly but correct\n",
      "\" \" Oh ! no -- there is nothing to surprize one at all .-- A pretty fortune ; \n",
      "t to be considered . Emma ' s only surprize was that Jane Fairfax should accep\n",
      "of your admiration may take you by surprize some day or other .\" Mr . Knightle\n",
      "ation for her will ever take me by surprize .-- I never had a thought of her i\n",
      " expected by the best judges , for surprize -- but there was great joy . Mr . \n",
      " sound of at first , without great surprize . \" So unreasonably early !\" she w\n",
      "d Frank Churchill , with a look of surprize and displeasure .-- \" That is easy\n",
      "; and Emma could imagine with what surprize and mortification she must be retu\n",
      "tled that Jane should go . Quite a surprize to me ! I had not the least idea !\n",
      " . It is impossible to express our surprize . He came to speak to his father o\n",
      "g engaged !\" Emma even jumped with surprize ;-- and , horror - struck , exclai\n"
     ]
    }
   ],
   "source": [
    "emma = nltk.Text(nltk.corpus.gutenberg.words('austen-emma.txt'))\n",
    "emma.concordance('surprize')"
   ]
  },
  {
   "cell_type": "code",
   "execution_count": 5,
   "id": "6e7ef808-189e-44de-a8e4-96ab54232fbb",
   "metadata": {},
   "outputs": [
    {
     "data": {
      "text/plain": [
       "['austen-emma.txt',\n",
       " 'austen-persuasion.txt',\n",
       " 'austen-sense.txt',\n",
       " 'bible-kjv.txt',\n",
       " 'blake-poems.txt',\n",
       " 'bryant-stories.txt',\n",
       " 'burgess-busterbrown.txt',\n",
       " 'carroll-alice.txt',\n",
       " 'chesterton-ball.txt',\n",
       " 'chesterton-brown.txt',\n",
       " 'chesterton-thursday.txt',\n",
       " 'edgeworth-parents.txt',\n",
       " 'melville-moby_dick.txt',\n",
       " 'milton-paradise.txt',\n",
       " 'shakespeare-caesar.txt',\n",
       " 'shakespeare-hamlet.txt',\n",
       " 'shakespeare-macbeth.txt',\n",
       " 'whitman-leaves.txt']"
      ]
     },
     "execution_count": 5,
     "metadata": {},
     "output_type": "execute_result"
    }
   ],
   "source": [
    "from nltk.corpus import gutenberg\n",
    "gutenberg.fileids()"
   ]
  },
  {
   "cell_type": "code",
   "execution_count": 6,
   "id": "32abe0b8-ca7c-4856-bef2-437de1f0cb37",
   "metadata": {},
   "outputs": [],
   "source": [
    "emma = gutenberg.words('austen-emma.txt')"
   ]
  },
  {
   "cell_type": "code",
   "execution_count": 11,
   "id": "52c10da5-217b-4306-be27-043264e54839",
   "metadata": {},
   "outputs": [
    {
     "name": "stdout",
     "output_type": "stream",
     "text": [
      "5 25 26 austen-emma.txt\n",
      "5 26 17 austen-persuasion.txt\n",
      "5 28 22 austen-sense.txt\n",
      "4 34 79 bible-kjv.txt\n",
      "5 19 5 blake-poems.txt\n",
      "4 19 14 bryant-stories.txt\n",
      "4 18 12 burgess-busterbrown.txt\n",
      "4 20 13 carroll-alice.txt\n",
      "5 20 12 chesterton-ball.txt\n",
      "5 23 11 chesterton-brown.txt\n",
      "5 18 11 chesterton-thursday.txt\n",
      "4 21 25 edgeworth-parents.txt\n",
      "5 26 15 melville-moby_dick.txt\n",
      "5 52 11 milton-paradise.txt\n",
      "4 12 9 shakespeare-caesar.txt\n",
      "4 12 8 shakespeare-hamlet.txt\n",
      "4 12 7 shakespeare-macbeth.txt\n",
      "5 36 12 whitman-leaves.txt\n"
     ]
    }
   ],
   "source": [
    "for fileid in gutenberg.fileids():\n",
    "    num_chars = len(gutenberg.raw(fileid))\n",
    "    num_words = len(gutenberg.words(fileid))\n",
    "    num_sents = len(gutenberg.sents(fileid))\n",
    "    num_vocab = len(set(w.lower() for w in gutenberg.words(fileid)))\n",
    "    print(round(num_chars/num_words), round(num_words/num_sents), round(num_words/num_vocab), fileid) #average word length, average sentence length, and the number of times each vocabulary\n",
    "                                                                                                    #item appears in the text on average (our lexical diversity score)"
   ]
  },
  {
   "cell_type": "code",
   "execution_count": 12,
   "id": "ef971936-49b8-47bc-a507-10689f31d983",
   "metadata": {},
   "outputs": [
    {
     "data": {
      "text/plain": [
       "[['[', 'The', 'Tragedie', 'of', 'Macbeth', 'by', 'William', 'Shakespeare', '1603', ']'], ['Actus', 'Primus', '.'], ...]"
      ]
     },
     "execution_count": 12,
     "metadata": {},
     "output_type": "execute_result"
    }
   ],
   "source": [
    "macbeth_sentences = gutenberg.sents('shakespeare-macbeth.txt')\n",
    "macbeth_sentences"
   ]
  },
  {
   "cell_type": "code",
   "execution_count": 13,
   "id": "6fe7b880-2b04-44ed-b110-2fec836b06c5",
   "metadata": {},
   "outputs": [
    {
     "data": {
      "text/plain": [
       "['Double',\n",
       " ',',\n",
       " 'double',\n",
       " ',',\n",
       " 'toile',\n",
       " 'and',\n",
       " 'trouble',\n",
       " ';',\n",
       " 'Fire',\n",
       " 'burne',\n",
       " ',',\n",
       " 'and',\n",
       " 'Cauldron',\n",
       " 'bubble']"
      ]
     },
     "execution_count": 13,
     "metadata": {},
     "output_type": "execute_result"
    }
   ],
   "source": [
    "macbeth_sentences[1116]"
   ]
  },
  {
   "cell_type": "code",
   "execution_count": 15,
   "id": "49c60b94-3af4-49f1-ae6c-c9f7ee126729",
   "metadata": {},
   "outputs": [],
   "source": [
    "longest_len = max(len(s) for s in macbeth_sentences)\n",
    "[s for s in macbeth_sentences if len(s) == longest_len];"
   ]
  },
  {
   "cell_type": "markdown",
   "id": "55291f5f-e05a-4cb3-a072-93522fc66517",
   "metadata": {},
   "source": [
    "#### **1.2   Web and Chat Text**"
   ]
  },
  {
   "cell_type": "code",
   "execution_count": 2,
   "id": "68284da9-301c-43f4-b3aa-f3fb979af5c0",
   "metadata": {},
   "outputs": [
    {
     "name": "stdout",
     "output_type": "stream",
     "text": [
      "firefox.txt Cookie Manager: \"Don't allow sites that set removed cookies to se ...\n",
      "grail.txt SCENE 1: [wind] [clop clop clop] \n",
      "KING ARTHUR: Whoa there!  [clop ...\n",
      "overheard.txt White guy: So, do you have any plans for this evening?\n",
      "Asian girl ...\n",
      "pirates.txt PIRATES OF THE CARRIBEAN: DEAD MAN'S CHEST, by Ted Elliott & Terr ...\n",
      "singles.txt 25 SEXY MALE, seeks attrac older single lady, for discreet encoun ...\n",
      "wine.txt Lovely delicate, fragrant Rhone wine. Polished leather and strawb ...\n"
     ]
    }
   ],
   "source": [
    "from nltk.corpus import webtext\n",
    "for fileid in webtext.fileids():\n",
    "    print(fileid, webtext.raw(fileid)[: 65], '...')"
   ]
  },
  {
   "cell_type": "code",
   "execution_count": 3,
   "id": "1fb51e87-ce38-4c17-962a-0af2446479ea",
   "metadata": {},
   "outputs": [
    {
     "data": {
      "text/plain": [
       "['i',\n",
       " 'do',\n",
       " \"n't\",\n",
       " 'want',\n",
       " 'hot',\n",
       " 'pics',\n",
       " 'of',\n",
       " 'a',\n",
       " 'female',\n",
       " ',',\n",
       " 'I',\n",
       " 'can',\n",
       " 'look',\n",
       " 'in',\n",
       " 'a',\n",
       " 'mirror',\n",
       " '.']"
      ]
     },
     "execution_count": 3,
     "metadata": {},
     "output_type": "execute_result"
    }
   ],
   "source": [
    "from nltk.corpus import nps_chat\n",
    "chatroom = nps_chat.posts('10-19-20s_706posts.xml')\n",
    "chatroom[123]"
   ]
  },
  {
   "cell_type": "markdown",
   "id": "b83bf2a0-f36a-4ec4-bae4-c0ce70214c89",
   "metadata": {},
   "source": [
    "#### **1.3   Brown Corpus**"
   ]
  },
  {
   "cell_type": "code",
   "execution_count": 2,
   "id": "71bf122f-bbea-431e-a611-0ba62903a725",
   "metadata": {},
   "outputs": [
    {
     "data": {
      "text/plain": [
       "['adventure',\n",
       " 'belles_lettres',\n",
       " 'editorial',\n",
       " 'fiction',\n",
       " 'government',\n",
       " 'hobbies',\n",
       " 'humor',\n",
       " 'learned',\n",
       " 'lore',\n",
       " 'mystery',\n",
       " 'news',\n",
       " 'religion',\n",
       " 'reviews',\n",
       " 'romance',\n",
       " 'science_fiction']"
      ]
     },
     "execution_count": 2,
     "metadata": {},
     "output_type": "execute_result"
    }
   ],
   "source": [
    "from nltk.corpus import brown\n",
    "brown.categories()"
   ]
  },
  {
   "cell_type": "code",
   "execution_count": 3,
   "id": "b349fe2e-bae3-4549-928e-17cc2d8902a1",
   "metadata": {},
   "outputs": [
    {
     "data": {
      "text/plain": [
       "['The', 'Fulton', 'County', 'Grand', 'Jury', 'said', ...]"
      ]
     },
     "execution_count": 3,
     "metadata": {},
     "output_type": "execute_result"
    }
   ],
   "source": [
    "brown.words(categories='news')"
   ]
  },
  {
   "cell_type": "code",
   "execution_count": 4,
   "id": "b6462ffc-b2a3-4282-ac4a-7e44d01a7523",
   "metadata": {},
   "outputs": [
    {
     "data": {
      "text/plain": [
       "['Does', 'our', 'society', 'have', 'a', 'runaway', ',', ...]"
      ]
     },
     "execution_count": 4,
     "metadata": {},
     "output_type": "execute_result"
    }
   ],
   "source": [
    "brown.words(fileids=['cg22'])"
   ]
  },
  {
   "cell_type": "code",
   "execution_count": 5,
   "id": "4758796d-e3e7-417a-849f-227e93301ba8",
   "metadata": {},
   "outputs": [
    {
     "data": {
      "text/plain": [
       "[['The', 'Fulton', 'County', 'Grand', 'Jury', 'said', 'Friday', 'an', 'investigation', 'of', \"Atlanta's\", 'recent', 'primary', 'election', 'produced', '``', 'no', 'evidence', \"''\", 'that', 'any', 'irregularities', 'took', 'place', '.'], ['The', 'jury', 'further', 'said', 'in', 'term-end', 'presentments', 'that', 'the', 'City', 'Executive', 'Committee', ',', 'which', 'had', 'over-all', 'charge', 'of', 'the', 'election', ',', '``', 'deserves', 'the', 'praise', 'and', 'thanks', 'of', 'the', 'City', 'of', 'Atlanta', \"''\", 'for', 'the', 'manner', 'in', 'which', 'the', 'election', 'was', 'conducted', '.'], ...]"
      ]
     },
     "execution_count": 5,
     "metadata": {},
     "output_type": "execute_result"
    }
   ],
   "source": [
    "brown.sents(categories=['news', 'editorial', 'reviews'])"
   ]
  },
  {
   "cell_type": "markdown",
   "id": "50c7a410-9d45-40f0-9465-f74cb568dbb9",
   "metadata": {},
   "source": [
    "The Brown Corpus is a convenient resource for studying systematic differences between genres, a kind of linguistic inquiry known as **stylistics**. Let's compare genres in their usage of modal verbs. The first step is to produce the counts for a particular genre."
   ]
  },
  {
   "cell_type": "code",
   "execution_count": 7,
   "id": "f8e14f1c-b413-457f-82b9-4b161c6844e9",
   "metadata": {},
   "outputs": [
    {
     "name": "stdout",
     "output_type": "stream",
     "text": [
      "can: 94, could: 87, may: 93, might: 38, must: 53, will: 389, "
     ]
    }
   ],
   "source": [
    "import nltk\n",
    "news_text = brown.words(categories='news')\n",
    "fdist = nltk.FreqDist(w.lower() for w in news_text)\n",
    "modals = ['can', 'could', 'may', 'might', 'must', 'will']\n",
    "for m in modals:\n",
    "    print(m + ':', fdist[m], end=', ')"
   ]
  },
  {
   "cell_type": "code",
   "execution_count": 10,
   "id": "c8047e8f-7b75-41e7-83cd-bd330c7ade18",
   "metadata": {},
   "outputs": [
    {
     "name": "stdout",
     "output_type": "stream",
     "text": [
      "what: 171, when: 163, where: 58, who: 95, why: 62, "
     ]
    }
   ],
   "source": [
    "sex_text = brown.words(categories='romance')\n",
    "fdist = nltk.FreqDist(w.lower() for w in sex_text)\n",
    "modals = ['what', 'when', 'where', 'who', 'why']\n",
    "for m in modals:\n",
    "    print(m + ':', fdist[m], end=', ')"
   ]
  },
  {
   "cell_type": "code",
   "execution_count": 11,
   "id": "d75024aa-5116-4877-b799-4b0272ca8ca6",
   "metadata": {},
   "outputs": [
    {
     "name": "stdout",
     "output_type": "stream",
     "text": [
      "                  can could   may might  must  will \n",
      "           news    93    86    66    38    50   389 \n",
      "       religion    82    59    78    12    54    71 \n",
      "        hobbies   268    58   131    22    83   264 \n",
      "science_fiction    16    49     4    12     8    16 \n",
      "        romance    74   193    11    51    45    43 \n",
      "          humor    16    30     8     8     9    13 \n"
     ]
    }
   ],
   "source": [
    "cfd = nltk.ConditionalFreqDist((genre, word) for genre in brown.categories() for word in brown.words(categories=genre))\n",
    "genres = ['news', 'religion', 'hobbies', 'science_fiction', 'romance', 'humor']\n",
    "modals = ['can', 'could', 'may', 'might', 'must', 'will']\n",
    "cfd.tabulate(conditions = genres, samples = modals)"
   ]
  },
  {
   "cell_type": "markdown",
   "id": "60346a09-9b09-4cee-ae9c-900094ed90e0",
   "metadata": {},
   "source": [
    "#### **1.4   Reuters Corpus**"
   ]
  },
  {
   "cell_type": "markdown",
   "id": "8d6e57e1-4072-4e6c-b08f-f45f1e475c86",
   "metadata": {},
   "source": [
    "The Reuters Corpus contains 10,788 news documents totaling 1.3 million words. The documents have been classified into 90 topics, and grouped into two sets, called \"training\" and \"test\"; thus, the text with fileid <font color = green>'test/14826'</font> is a document drawn from the test set. This split is for training and testing algorithms that automatically detect the topic of a document, as we will see in [chap-data-intensive](https://www.nltk.org/book/ch06.html#chap-data-intensive)."
   ]
  },
  {
   "cell_type": "code",
   "execution_count": 3,
   "id": "25d46680-b0fa-4a26-bac9-43a33a0dabac",
   "metadata": {},
   "outputs": [],
   "source": [
    "from nltk.corpus import reuters\n",
    "reuters.fileids();"
   ]
  },
  {
   "cell_type": "code",
   "execution_count": 5,
   "id": "0ee69605-7053-4823-9d11-6f7f34421971",
   "metadata": {},
   "outputs": [],
   "source": [
    "reuters.categories();"
   ]
  },
  {
   "cell_type": "code",
   "execution_count": 6,
   "id": "4ddbbfbb-528a-4c6c-8d36-0221860de34c",
   "metadata": {},
   "outputs": [
    {
     "data": {
      "text/plain": [
       "['barley', 'corn', 'grain', 'wheat']"
      ]
     },
     "execution_count": 6,
     "metadata": {},
     "output_type": "execute_result"
    }
   ],
   "source": [
    "reuters.categories('training/9865')"
   ]
  },
  {
   "cell_type": "code",
   "execution_count": 7,
   "id": "08140343-70d3-424c-bf7f-8494cca3de7c",
   "metadata": {},
   "outputs": [
    {
     "data": {
      "text/plain": [
       "['barley', 'corn', 'grain', 'money-fx', 'wheat']"
      ]
     },
     "execution_count": 7,
     "metadata": {},
     "output_type": "execute_result"
    }
   ],
   "source": [
    "reuters.categories(['training/9865', 'training/9880'])"
   ]
  },
  {
   "cell_type": "code",
   "execution_count": 9,
   "id": "635da091-c8e7-411d-a451-c028a3f231f1",
   "metadata": {},
   "outputs": [],
   "source": [
    "reuters.fileids('barley');"
   ]
  },
  {
   "cell_type": "code",
   "execution_count": 11,
   "id": "f9031225-8314-490d-9426-96a8912c33be",
   "metadata": {},
   "outputs": [],
   "source": [
    "reuters.fileids(['barley', 'corn']);"
   ]
  },
  {
   "cell_type": "code",
   "execution_count": 12,
   "id": "7fca8593-43fb-4448-b4d9-3ee492bea7cd",
   "metadata": {},
   "outputs": [
    {
     "data": {
      "text/plain": [
       "['FRENCH',\n",
       " 'FREE',\n",
       " 'MARKET',\n",
       " 'CEREAL',\n",
       " 'EXPORT',\n",
       " 'BIDS',\n",
       " 'DETAILED',\n",
       " 'French',\n",
       " 'operators',\n",
       " 'have',\n",
       " 'requested',\n",
       " 'licences',\n",
       " 'to',\n",
       " 'export']"
      ]
     },
     "execution_count": 12,
     "metadata": {},
     "output_type": "execute_result"
    }
   ],
   "source": [
    "reuters.words('training/9865')[: 14]"
   ]
  },
  {
   "cell_type": "code",
   "execution_count": 13,
   "id": "01f766e3-f980-4e40-88b3-ae3023c015e0",
   "metadata": {},
   "outputs": [
    {
     "data": {
      "text/plain": [
       "['FRENCH', 'FREE', 'MARKET', 'CEREAL', 'EXPORT', ...]"
      ]
     },
     "execution_count": 13,
     "metadata": {},
     "output_type": "execute_result"
    }
   ],
   "source": [
    "reuters.words(['training/9865', 'training/9880'])"
   ]
  },
  {
   "cell_type": "code",
   "execution_count": 14,
   "id": "cea6b972-8695-4be4-8320-16e323841907",
   "metadata": {},
   "outputs": [
    {
     "data": {
      "text/plain": [
       "['FRENCH', 'FREE', 'MARKET', 'CEREAL', 'EXPORT', ...]"
      ]
     },
     "execution_count": 14,
     "metadata": {},
     "output_type": "execute_result"
    }
   ],
   "source": [
    "reuters.words(categories='barley')"
   ]
  },
  {
   "cell_type": "code",
   "execution_count": 15,
   "id": "3e091fc1-170b-4732-a1cb-c9807b3e95d9",
   "metadata": {},
   "outputs": [
    {
     "data": {
      "text/plain": [
       "['THAI', 'TRADE', 'DEFICIT', 'WIDENS', 'IN', 'FIRST', ...]"
      ]
     },
     "execution_count": 15,
     "metadata": {},
     "output_type": "execute_result"
    }
   ],
   "source": [
    "reuters.words(categories=['barley', 'corn'])"
   ]
  },
  {
   "cell_type": "markdown",
   "id": "230fa471-889f-4a2d-b195-2b5997e9078d",
   "metadata": {},
   "source": [
    "#### **1.5   Inaugural Address Corpus**"
   ]
  },
  {
   "cell_type": "code",
   "execution_count": 2,
   "id": "5a9e7456-943d-4766-a295-ec0d6704cc99",
   "metadata": {},
   "outputs": [
    {
     "data": {
      "text/plain": [
       "['1789-Washington.txt',\n",
       " '1793-Washington.txt',\n",
       " '1797-Adams.txt',\n",
       " '1801-Jefferson.txt',\n",
       " '1805-Jefferson.txt',\n",
       " '1809-Madison.txt',\n",
       " '1813-Madison.txt',\n",
       " '1817-Monroe.txt',\n",
       " '1821-Monroe.txt',\n",
       " '1825-Adams.txt',\n",
       " '1829-Jackson.txt',\n",
       " '1833-Jackson.txt',\n",
       " '1837-VanBuren.txt',\n",
       " '1841-Harrison.txt',\n",
       " '1845-Polk.txt',\n",
       " '1849-Taylor.txt',\n",
       " '1853-Pierce.txt',\n",
       " '1857-Buchanan.txt',\n",
       " '1861-Lincoln.txt',\n",
       " '1865-Lincoln.txt',\n",
       " '1869-Grant.txt',\n",
       " '1873-Grant.txt',\n",
       " '1877-Hayes.txt',\n",
       " '1881-Garfield.txt',\n",
       " '1885-Cleveland.txt',\n",
       " '1889-Harrison.txt',\n",
       " '1893-Cleveland.txt',\n",
       " '1897-McKinley.txt',\n",
       " '1901-McKinley.txt',\n",
       " '1905-Roosevelt.txt',\n",
       " '1909-Taft.txt',\n",
       " '1913-Wilson.txt',\n",
       " '1917-Wilson.txt',\n",
       " '1921-Harding.txt',\n",
       " '1925-Coolidge.txt',\n",
       " '1929-Hoover.txt',\n",
       " '1933-Roosevelt.txt',\n",
       " '1937-Roosevelt.txt',\n",
       " '1941-Roosevelt.txt',\n",
       " '1945-Roosevelt.txt',\n",
       " '1949-Truman.txt',\n",
       " '1953-Eisenhower.txt',\n",
       " '1957-Eisenhower.txt',\n",
       " '1961-Kennedy.txt',\n",
       " '1965-Johnson.txt',\n",
       " '1969-Nixon.txt',\n",
       " '1973-Nixon.txt',\n",
       " '1977-Carter.txt',\n",
       " '1981-Reagan.txt',\n",
       " '1985-Reagan.txt',\n",
       " '1989-Bush.txt',\n",
       " '1993-Clinton.txt',\n",
       " '1997-Clinton.txt',\n",
       " '2001-Bush.txt',\n",
       " '2005-Bush.txt',\n",
       " '2009-Obama.txt',\n",
       " '2013-Obama.txt',\n",
       " '2017-Trump.txt',\n",
       " '2021-Biden.txt']"
      ]
     },
     "execution_count": 2,
     "metadata": {},
     "output_type": "execute_result"
    }
   ],
   "source": [
    "from nltk.corpus import inaugural\n",
    "inaugural.fileids()"
   ]
  },
  {
   "cell_type": "code",
   "execution_count": 4,
   "id": "c96cf5b2-6a09-4be0-a401-acafea4c96a6",
   "metadata": {},
   "outputs": [],
   "source": [
    "[fileid[: 4] for fileid in inaugural.fileids()];"
   ]
  },
  {
   "cell_type": "code",
   "execution_count": 5,
   "id": "cd2622b4-b2ea-4997-ac13-c488a67e59d3",
   "metadata": {},
   "outputs": [
    {
     "data": {
      "image/png": "[encoded data removed]",
      "text/plain": [
       "<Figure size 640x480 with 1 Axes>"
      ]
     },
     "metadata": {},
     "output_type": "display_data"
    },
    {
     "data": {
      "text/plain": [
       "<AxesSubplot:xlabel='Samples', ylabel='Counts'>"
      ]
     },
     "execution_count": 5,
     "metadata": {},
     "output_type": "execute_result"
    }
   ],
   "source": [
    "import nltk\n",
    "cfd = nltk.ConditionalFreqDist((target, fileid[: 4]) for fileid in inaugural.fileids() for w in inaugural.words(fileid) for target in ['america', 'citizen'] if w.lower().startswith(target))\n",
    "cfd.plot()"
   ]
  },
  {
   "cell_type": "markdown",
   "id": "be24686c-d1eb-4079-a2bb-f0ae8c7e687d",
   "metadata": {},
   "source": [
    "#### **1.6   Annotated Text Corpora**"
   ]
  },
  {
   "cell_type": "markdown",
   "id": "3fe2a7e7-d6a1-4351-adb9-6877e34cf1a1",
   "metadata": {},
   "source": [
    "Some of the Corpora and Corpus Samples Distributed with NLTK: For information about downloading and using them, please consult the NLTK website."
   ]
  },
  {
   "cell_type": "markdown",
   "id": "dc4528c0-29e3-41e2-bf1b-2385373991d7",
   "metadata": {},
   "source": [
    "<table>\n",
    "    <tr>\n",
    "    <th>Corpus</th>\n",
    "    <th>Compiler</th>\n",
    "        <th>Contents</th>\n",
    "    </tr>\n",
    "    <tr>\n",
    "        <td>Brown Corpus</td>\n",
    "        <td>Francis, Kucera</td>\n",
    "        <td>15 genres, 1.15M words, tagged, categorized</td>\n",
    "    </tr>\n",
    "    <tr>\n",
    "        <td>CESS Treebanks</td><td>CLiC-UB</td><td>1M words, tagged and parsed (Catalan, Spanish)</td>\n",
    "    </tr>\n",
    "    <tr>\n",
    "        <td>Chat-80 Data Files</td><td>Pereira & Warren</td><td>World Geographic Database</td>\n",
    "    </tr>\n",
    "    <tr>\n",
    "        <td>CMU Pronouncing Dictionary</td><td>CMU</td><td>127k entries</td>\n",
    "    </tr>\n",
    "    <tr>\n",
    "        <td>CoNLL 2000 Chunking Data</td><td>CoNLL</td><td>270k words, tagged and chunked</td>\n",
    "    </tr>\n",
    "    <tr>\n",
    "        <td>CoNLL 2002 Named Entity</td><td>CoNLL</td><td>700k words, pos- and named-entity-tagged (Dutch, Spanish)</td>\n",
    "    </tr>\n",
    "    <tr>\n",
    "        <td>CoNLL 2007 Dependency Treebanks (sel)</td><td>CoNLL</td><td>150k words, dependency parsed (Basque, Catalan)</td>\n",
    "    </tr>\n",
    "    <tr>\n",
    "        <td>Dependency Treebank</td><td>Narad</td><td>Dependency parsed version of Penn Treebank sample</td>\n",
    "    </tr>\n",
    "    <tr>\n",
    "        <td>FrameNet</td><td>Fillmore, Baker et al</td><td>10k word senses, 170k manually annotated sentences</td>\n",
    "    </tr>\n",
    "    <tr>\n",
    "        <td>Floresta Treebank</td><td>Diana Santos et al</td><td>9k sentences, tagged and parsed (Portuguese)</td>\n",
    "    </tr>\n",
    "    <tr>\n",
    "        <td>Gazetteer Lists</td><td>Various</td><td>Lists of cities and countries</td>\n",
    "    </tr>\n",
    "    <tr>\n",
    "        <td>Genesis Corpus</td><td>Misc web sources</td><td>6 texts, 200k words, 6 languages</td>\n",
    "    </tr>\n",
    "    <tr>\n",
    "        <td>Gutenberg (selections)</td><td>Hart, Newby, et al</td><td>18 texts, 2M words</td>\n",
    "    </tr>\n",
    "    <tr>\n",
    "        <td>Inaugural Address Corpus</td><td>CSpan</td><td>US Presidential Inaugural Addresses (1789-present)</td>\n",
    "    </tr>\n",
    "    <tr>\n",
    "        <td>Indian POS-Tagged Corpus</td><td>Kumaran et al</td><td>60k words, tagged (Bangla, Hindi, Marathi, Telugu)</td>\n",
    "    </tr>\n",
    "    <tr>\n",
    "        <td>MacMorpho Corpus</td><td>NILC, USP, Brazil</td><td>1M words, tagged (Brazilian Portuguese)</td>\n",
    "    </tr>\n",
    "    <tr>\n",
    "        <td>Movie Reviews</td><td>Pang, Lee</td><td>2k movie reviews with sentiment polarity classification</td>\n",
    "    </tr>\n",
    "    <tr>\n",
    "        <td>Names Corpus</td><td>Kantrowitz, Ross</td><td>8k male and female names</td>\n",
    "    </tr>\n",
    "    <tr>\n",
    "        <td>NIST 1999 Info Extr (selections)</td><td>Garofolo</td><td>63k words, newswire and named-entity SGML markup</td>\n",
    "    </tr>\n",
    "    <tr>\n",
    "        <td>Nombank</td><td>Meyers</td><td>115k propositions, 1400 noun frames</td>\n",
    "    </tr>\n",
    "    <tr>\n",
    "        <td>NPS Chat Corpus</td><td>Forsyth, Martell</td><td>10k IM chat posts, POS-tagged and dialogue-act tagged</td>\n",
    "    </tr>\n",
    "    <tr>\n",
    "        <td>Open Multilingual WordNet</td><td>Bond et al</td><td>15 languages, aligned to English WordNet</td>\n",
    "    </tr>\n",
    "    <tr>\n",
    "        <td>Penn Treebank (selections)</td><td>LDC</td><td>40k words, tagged and parsed</td>\n",
    "    </tr>\n",
    "    <tr>\n",
    "        <td>PP Attachment Corpus</td><td>Ratnaparkhi</td><td>28k prepositional phrases, tagged as noun or verb modifiers</td>\n",
    "    </tr>\n",
    "    <tr>\n",
    "        <td>Proposition Bank</td><td>Palmer</td><td>113k propositions, 3300 verb frames</td>\n",
    "    </tr>\n",
    "    <tr>\n",
    "        <td>Question Classification</td><td>Li, Roth</td><td>6k questions, categorized</td>\n",
    "    </tr>\n",
    "    <tr>\n",
    "        <td>Reuters Corpus</td><td>Reuters</td><td>1.3M words, 10k news documents, categorized</td>\n",
    "    </tr>\n",
    "    <tr>\n",
    "        <td>Roget's Thesaurus</td><td>Project Gutenberg</td><td>200k words, formatted text</td>\n",
    "    </tr>\n",
    "    <tr>\n",
    "        <td>RTE Textual Entailment</td><td>Dagan et al</td><td>8k sentence pairs, categorized</td>\n",
    "    </tr>\n",
    "    <tr>\n",
    "        <td>SEMCOR</td><td>Rus, Mihalcea</td><td>880k words, part-of-speech and sense tagged</td>\n",
    "    </tr>\n",
    "    <tr>\n",
    "        <td>Senseval 2 Corpus</td><td>Pedersen</td><td>600k words, part-of-speech and sense tagged</td>\n",
    "    </tr>\n",
    "    <tr>\n",
    "        <td>SentiWordNet</td><td>Esuli, Sebastiani</td><td>sentiment scores for 145k WordNet synonym sets</td>\n",
    "    </tr>\n",
    "    <tr>\n",
    "        <td>Shakespeare texts (selections)</td><td>Bosak</td><td>8 books in XML format</td>\n",
    "    </tr>\n",
    "    <tr>\n",
    "        <td>State of the Union Corpus</td><td>CSPAN</td><td>485k words, formatted text</td>\n",
    "    </tr>\n",
    "    <tr>\n",
    "        <td>Stopwords Corpus</td><td>Porter et al</td><td>2,400 stopwords for 11 languages</td>\n",
    "    </tr>\n",
    "    <tr>\n",
    "        <td>Swadesh Corpus</td><td>Wiktionary</td><td>comparative wordlists in 24 languages</td>\n",
    "    </tr>\n",
    "    <tr>\n",
    "        <td>Switchboard Corpus (selections)</td><td>LDC</td><td>36 phonecalls, transcribed, parsed</td>\n",
    "    </tr>\n",
    "    <tr>\n",
    "        <td>Univ Decl of Human Rights</td><td>United Nations</td><td>480k words, 300+ languages</td>\n",
    "    </tr>\n",
    "    <tr>\n",
    "        <td>TIMIT Corpus (selections)</td><td>NIST/LDC</td><td>audio files and transcripts for 16 speakers</td>\n",
    "    </tr>\n",
    "    <tr>\n",
    "        <td>VerbNet 2.1</td><td>Palmer et al</td><td>5k verbs, hierarchically organized, linked to WordNet</td>\n",
    "    </tr>\n",
    "    <tr>\n",
    "        <td>Wordlist Corpus</td><td>OpenOffice.org et al</td><td>960k words and 20k affixes for 8 languages</td>\n",
    "    </tr>\n",
    "    <tr>\n",
    "        <td>WordNet 3.0 (English)</td><td>Miller, Fellbaum</td><td>145k synonym sets</td>\n",
    "    </tr>\n",
    "</table>"
   ]
  },
  {
   "cell_type": "markdown",
   "id": "d9e5b819-cb7c-4d1a-8f8c-dd19f5832108",
   "metadata": {},
   "source": [
    "#### **1.7   Corpora in Other Languages**"
   ]
  },
  {
   "cell_type": "code",
   "execution_count": 7,
   "id": "062cda73-d6d8-47d3-9645-99c932159da8",
   "metadata": {},
   "outputs": [
    {
     "name": "stderr",
     "output_type": "stream",
     "text": [
      "[nltk_data] Downloading package cess_esp to\n",
      "[nltk_data]     /home/edmondium/nltk_data...\n",
      "[nltk_data]   Unzipping corpora/cess_esp.zip.\n"
     ]
    },
    {
     "data": {
      "text/plain": [
       "['El', 'grupo', 'estatal', 'Electricité_de_France', ...]"
      ]
     },
     "execution_count": 7,
     "metadata": {},
     "output_type": "execute_result"
    }
   ],
   "source": [
    "nltk.download('cess_esp')\n",
    "nltk.corpus.cess_esp.words()"
   ]
  },
  {
   "cell_type": "code",
   "execution_count": 9,
   "id": "a20b7a7c-7f6f-4ac5-96e5-c834fcc2b378",
   "metadata": {},
   "outputs": [
    {
     "name": "stderr",
     "output_type": "stream",
     "text": [
      "[nltk_data] Downloading package floresta to\n",
      "[nltk_data]     /home/edmondium/nltk_data...\n",
      "[nltk_data]   Unzipping corpora/floresta.zip.\n"
     ]
    },
    {
     "data": {
      "text/plain": [
       "['Um', 'revivalismo', 'refrescante', 'O', '7_e_Meio', ...]"
      ]
     },
     "execution_count": 9,
     "metadata": {},
     "output_type": "execute_result"
    }
   ],
   "source": [
    "nltk.download('floresta')\n",
    "nltk.corpus.floresta.words()"
   ]
  },
  {
   "cell_type": "code",
   "execution_count": 11,
   "id": "4c47bf8b-f40c-4f5a-9b80-f91d04a7c6ec",
   "metadata": {},
   "outputs": [
    {
     "name": "stderr",
     "output_type": "stream",
     "text": [
      "[nltk_data] Downloading package indian to /home/edmondium/nltk_data...\n",
      "[nltk_data]   Unzipping corpora/indian.zip.\n"
     ]
    },
    {
     "data": {
      "text/plain": [
       "['पूर्ण', 'प्रतिबंध', 'हटाओ', ':', 'इराक', 'संयुक्त', ...]"
      ]
     },
     "execution_count": 11,
     "metadata": {},
     "output_type": "execute_result"
    }
   ],
   "source": [
    "nltk.download('indian')\n",
    "nltk.corpus.indian.words('hindi.pos')"
   ]
  },
  {
   "cell_type": "code",
   "execution_count": 24,
   "id": "04ea360e-2dff-4c9c-afba-1b111ca4e438",
   "metadata": {},
   "outputs": [],
   "source": [
    "nltk.corpus.udhr.fileids();"
   ]
  },
  {
   "cell_type": "code",
   "execution_count": 14,
   "id": "31b6e9ad-0b21-4420-943a-442eacbdaea8",
   "metadata": {},
   "outputs": [
    {
     "data": {
      "text/plain": [
       "['كان', 'الاعتراف', 'بالكرامة', 'المتأصلة', 'في', ...]"
      ]
     },
     "execution_count": 14,
     "metadata": {},
     "output_type": "execute_result"
    }
   ],
   "source": [
    "nltk.corpus.udhr.words('Arabic_Alarabia-Arabic')[11 :]"
   ]
  },
  {
   "cell_type": "code",
   "execution_count": 15,
   "id": "46ea8baa-f20f-41f6-a4d0-0b5b252c10da",
   "metadata": {},
   "outputs": [
    {
     "data": {
      "image/png": "[encoded data removed]",
      "text/plain": [
       "<Figure size 640x480 with 1 Axes>"
      ]
     },
     "metadata": {},
     "output_type": "display_data"
    },
    {
     "data": {
      "text/plain": [
       "<AxesSubplot:xlabel='Samples', ylabel='Cumulative Counts'>"
      ]
     },
     "execution_count": 15,
     "metadata": {},
     "output_type": "execute_result"
    }
   ],
   "source": [
    "from nltk.corpus import udhr\n",
    "languages = ['Chickasaw', 'English', 'German_Deutsch', 'Greenlandic_Inuktikut', 'Hungarian_Magyar', 'Ibibio_Efik']\n",
    "cfd = nltk.ConditionalFreqDist((lang, len(word)) for lang in languages for word in udhr.words(lang + '-Latin1'))\n",
    "cfd.plot(cumulative=True)"
   ]
  },
  {
   "cell_type": "code",
   "execution_count": 22,
   "id": "31bca588-df11-46bc-bded-2ad5592402f4",
   "metadata": {},
   "outputs": [
    {
     "data": {
      "image/png": "[encoded data removed]",
      "text/plain": [
       "<Figure size 640x480 with 1 Axes>"
      ]
     },
     "metadata": {},
     "output_type": "display_data"
    },
    {
     "data": {
      "text/plain": [
       "<AxesSubplot:xlabel='Samples', ylabel='Counts'>"
      ]
     },
     "execution_count": 22,
     "metadata": {},
     "output_type": "execute_result"
    }
   ],
   "source": [
    "raw_text = udhr.raw('Indonesian-Latin1')\n",
    "nltk.FreqDist(raw_text).plot()"
   ]
  },
  {
   "cell_type": "markdown",
   "id": "c30dd3e8-4b63-47c6-a6ef-fbc9bfa9e3f0",
   "metadata": {},
   "source": [
    "#### **1.8   Text Corpus Structure**"
   ]
  },
  {
   "cell_type": "markdown",
   "id": "b5f5bacb-9b6f-495b-8e3b-bd0eed31771b",
   "metadata": {},
   "source": [
    "![image](https://www.nltk.org/images/text-corpus-structure.png)"
   ]
  },
  {
   "cell_type": "code",
   "execution_count": null,
   "id": "77966f15-bce1-4c5e-9b30-65f0d912a003",
   "metadata": {},
   "outputs": [],
   "source": [
    "help(nltk.corpus.reader);"
   ]
  },
  {
   "cell_type": "markdown",
   "id": "2d17086d-499e-4e6c-87f7-2c9068113178",
   "metadata": {},
   "source": [
    "<table>\n",
    "    <tr>\n",
    "        <th>Example</th>\n",
    "        <th>Description</th>\n",
    "    </tr>\n",
    "    <tr>\n",
    "        <td>fileids()</td><td>the files of the corpus</td>\n",
    "    </tr>\n",
    "    <tr>\n",
    "        <td>fileids([categories])</td><td>the files of the corpus corresponding to these categories</td>\n",
    "    </tr>\n",
    "    <tr>\n",
    "        <td>categories()</td><td>the categories of the corpus</td>\n",
    "    </tr>\n",
    "    <tr>\n",
    "        <td>categories([fileids])</td><td>the categories of the corpus corresponding to these files</td>\n",
    "    </tr>\n",
    "    <tr>\n",
    "        <td>raw()</td><td>the raw content of the corpus</td>\n",
    "    </tr>\n",
    "    <tr>\n",
    "        <td>raw(fileids=[f1,f2,f3])</td><td>the raw content of the specified files</td>\n",
    "    </tr>\n",
    "    <tr>\n",
    "        <td>raw(categories=[c1,c2])</td><td>the raw content of the specified categories</td>\n",
    "    </tr>\n",
    "    <tr>\n",
    "        <td>words()</td><td>the words of the whole corpus</td>\n",
    "    </tr>\n",
    "    <tr>\n",
    "        <td>words(fileids=[f1,f2,f3])</td><td>the words of the specified fileids</td>\n",
    "    </tr>\n",
    "    <tr>\n",
    "        <td>words(categories=[c1,c2])</td><td>the words of the specified categories</td>\n",
    "    </tr>\n",
    "    <tr>\n",
    "        <td>sents()</td><td>the sentences of the whole corpus</td>\n",
    "    </tr>\n",
    "    <tr>\n",
    "        <td>sents(fileids=[f1,f2,f3])</td><td>the sentences of the specified fileids</td>\n",
    "    </tr>\n",
    "    <tr>\n",
    "        <td>sents(categories=[c1,c2])</td><td>the sentences of the specified categories</td>\n",
    "    </tr>\n",
    "    <tr>\n",
    "        <td>abspath(fileid)</td><td>the location of the given file on disk</td>\n",
    "    </tr>\n",
    "    <tr>\n",
    "        <td>encoding(fileid)</td><td>the encoding of the file (if known)</td>\n",
    "    </tr>\n",
    "    <tr>\n",
    "        <td>open(fileid)</td><td>open a stream for reading the given corpus file</td>\n",
    "    </tr>\n",
    "    <tr>\n",
    "        <td>root</td><td>if the path to the root of locally installed corpus</td>\n",
    "    </tr>\n",
    "    <tr>\n",
    "        <td>readme()</td><td>the contents of the README file of the corpus</td>\n",
    "    </tr>\n",
    "</table>"
   ]
  },
  {
   "cell_type": "code",
   "execution_count": 30,
   "id": "7235e186-0667-4212-a94e-7482ac871d13",
   "metadata": {},
   "outputs": [
    {
     "data": {
      "text/plain": [
       "'The Adventures of B'"
      ]
     },
     "execution_count": 30,
     "metadata": {},
     "output_type": "execute_result"
    }
   ],
   "source": [
    "raw = gutenberg.raw('burgess-busterbrown.txt')\n",
    "raw[1 : 20]"
   ]
  },
  {
   "cell_type": "code",
   "execution_count": 31,
   "id": "f24482cf-aecc-4a50-9ef4-ffb3408f5b5b",
   "metadata": {},
   "outputs": [
    {
     "data": {
      "text/plain": [
       "['The',\n",
       " 'Adventures',\n",
       " 'of',\n",
       " 'Buster',\n",
       " 'Bear',\n",
       " 'by',\n",
       " 'Thornton',\n",
       " 'W',\n",
       " '.',\n",
       " 'Burgess',\n",
       " '1920',\n",
       " ']',\n",
       " 'I',\n",
       " 'BUSTER',\n",
       " 'BEAR',\n",
       " 'GOES',\n",
       " 'FISHING',\n",
       " 'Buster',\n",
       " 'Bear']"
      ]
     },
     "execution_count": 31,
     "metadata": {},
     "output_type": "execute_result"
    }
   ],
   "source": [
    "words = gutenberg.words('burgess-busterbrown.txt')\n",
    "words[1 : 20]"
   ]
  },
  {
   "cell_type": "code",
   "execution_count": 33,
   "id": "d0a466c2-5ecd-4a3b-b8d0-c67d6cdd2107",
   "metadata": {},
   "outputs": [],
   "source": [
    "sents = gutenberg.sents('burgess-busterbrown.txt')\n",
    "sents[1 : 20];"
   ]
  },
  {
   "cell_type": "markdown",
   "id": "26fff839-6a87-4f81-b57b-c1cc13eb1782",
   "metadata": {},
   "source": [
    "#### **1.9   Loading your own Corpus**"
   ]
  },
  {
   "cell_type": "code",
   "execution_count": 34,
   "id": "10e781bf-d376-4464-afad-405fc86e433e",
   "metadata": {},
   "outputs": [
    {
     "data": {
      "text/plain": [
       "['README.select-wordlist',\n",
       " 'american-english',\n",
       " 'british-english',\n",
       " 'words',\n",
       " 'words.pre-dictionaries-common']"
      ]
     },
     "execution_count": 34,
     "metadata": {},
     "output_type": "execute_result"
    }
   ],
   "source": [
    "from nltk.corpus import PlaintextCorpusReader\n",
    "corpus_root = '/usr/share/dict/'\n",
    "wordLists = PlaintextCorpusReader(corpus_root, '.*')\n",
    "wordLists.fileids()"
   ]
  },
  {
   "cell_type": "code",
   "execution_count": 36,
   "id": "388491b3-3f8a-4706-b93d-19a2f76c5839",
   "metadata": {},
   "outputs": [
    {
     "data": {
      "text/plain": [
       "['A', 'AA', 'AAA', 'AA', \"'\", 's', 'AB', 'ABC', 'ABC', ...]"
      ]
     },
     "execution_count": 36,
     "metadata": {},
     "output_type": "execute_result"
    }
   ],
   "source": [
    "wordLists.words('words')"
   ]
  },
  {
   "cell_type": "markdown",
   "id": "fab6e13d-0676-4652-a245-de9e45f854ed",
   "metadata": {
    "toc-hr-collapsed": true
   },
   "source": [
    "### **2   Conditional Frequency Distributions**"
   ]
  },
  {
   "cell_type": "markdown",
   "id": "27682726-7a14-46d4-8773-baf9535e5c78",
   "metadata": {},
   "source": [
    "![image](https://www.nltk.org/images/tally2.png)"
   ]
  },
  {
   "cell_type": "markdown",
   "id": "abd0fe5a-4044-4468-9e4b-b3c94cd9402d",
   "metadata": {},
   "source": [
    "#### **2.1   Conditions and Events**"
   ]
  },
  {
   "cell_type": "code",
   "execution_count": 2,
   "id": "61e79e07-556b-4a4d-9c99-57a447d31a9c",
   "metadata": {},
   "outputs": [],
   "source": [
    "text = ['The', 'Fulton', 'County', 'Grand', 'Jury', 'said', ...]\n",
    "pairs = [('news', 'The'), ('news', 'Fulton'), ('news', 'County'), ...]"
   ]
  },
  {
   "cell_type": "markdown",
   "id": "f07f74b6-90f6-42a4-ac26-b0a26ff3fca9",
   "metadata": {},
   "source": [
    "#### **2.2   Counting Words by Genre**"
   ]
  },
  {
   "cell_type": "code",
   "execution_count": 3,
   "id": "6a96840a-f279-48b0-b046-36d303ca124f",
   "metadata": {},
   "outputs": [],
   "source": [
    "import nltk\n",
    "from nltk.corpus import brown\n",
    "cfd = nltk.ConditionalFreqDist((genre, word) for genre in brown.categories() for word in brown.words(categories=genre))"
   ]
  },
  {
   "cell_type": "code",
   "execution_count": 4,
   "id": "50422302-733e-425c-b7ee-87d65535f3c3",
   "metadata": {},
   "outputs": [
    {
     "data": {
      "text/plain": [
       "170576"
      ]
     },
     "execution_count": 4,
     "metadata": {},
     "output_type": "execute_result"
    }
   ],
   "source": [
    "genre_word = [(genre, word) for genre in ['news', 'romance'] for word in brown.words(categories=genre)]\n",
    "len(genre_word)"
   ]
  },
  {
   "cell_type": "code",
   "execution_count": 5,
   "id": "ae3279a0-061c-4e76-a896-56c4386293fa",
   "metadata": {},
   "outputs": [
    {
     "data": {
      "text/plain": [
       "[('news', 'The'), ('news', 'Fulton'), ('news', 'County'), ('news', 'Grand')]"
      ]
     },
     "execution_count": 5,
     "metadata": {},
     "output_type": "execute_result"
    }
   ],
   "source": [
    "genre_word[: 4]"
   ]
  },
  {
   "cell_type": "code",
   "execution_count": 6,
   "id": "5220093d-62b1-4da4-b6dd-b0f8d1261165",
   "metadata": {},
   "outputs": [
    {
     "data": {
      "text/plain": [
       "[('romance', 'afraid'),\n",
       " ('romance', 'not'),\n",
       " ('romance', \"''\"),\n",
       " ('romance', '.')]"
      ]
     },
     "execution_count": 6,
     "metadata": {},
     "output_type": "execute_result"
    }
   ],
   "source": [
    "genre_word[-4 :]"
   ]
  },
  {
   "cell_type": "code",
   "execution_count": 7,
   "id": "a0b5907d-2141-4a5a-9362-d3a6319fd70f",
   "metadata": {},
   "outputs": [
    {
     "data": {
      "text/plain": [
       "<ConditionalFreqDist with 2 conditions>"
      ]
     },
     "execution_count": 7,
     "metadata": {},
     "output_type": "execute_result"
    }
   ],
   "source": [
    "cfd = nltk.ConditionalFreqDist(genre_word)\n",
    "cfd"
   ]
  },
  {
   "cell_type": "code",
   "execution_count": 8,
   "id": "fa9a2e99-a135-4f19-a402-6d65b4a59eef",
   "metadata": {},
   "outputs": [
    {
     "data": {
      "text/plain": [
       "['news', 'romance']"
      ]
     },
     "execution_count": 8,
     "metadata": {},
     "output_type": "execute_result"
    }
   ],
   "source": [
    "cfd.conditions()"
   ]
  },
  {
   "cell_type": "code",
   "execution_count": 9,
   "id": "335d3725-e266-480c-a3c2-5671796fd24f",
   "metadata": {},
   "outputs": [
    {
     "name": "stdout",
     "output_type": "stream",
     "text": [
      "<FreqDist with 14394 samples and 100554 outcomes>\n"
     ]
    }
   ],
   "source": [
    "print(cfd['news'])"
   ]
  },
  {
   "cell_type": "code",
   "execution_count": 10,
   "id": "4c459c0b-c688-4fc3-934a-70755d18a151",
   "metadata": {},
   "outputs": [
    {
     "name": "stdout",
     "output_type": "stream",
     "text": [
      "<FreqDist with 8452 samples and 70022 outcomes>\n"
     ]
    }
   ],
   "source": [
    "print(cfd['romance'])"
   ]
  },
  {
   "cell_type": "code",
   "execution_count": 11,
   "id": "10ad4e21-fe6a-434b-85dd-eb19519c5137",
   "metadata": {},
   "outputs": [
    {
     "data": {
      "text/plain": [
       "[(',', 3899),\n",
       " ('.', 3736),\n",
       " ('the', 2758),\n",
       " ('and', 1776),\n",
       " ('to', 1502),\n",
       " ('a', 1335),\n",
       " ('of', 1186),\n",
       " ('``', 1045),\n",
       " (\"''\", 1044),\n",
       " ('was', 993),\n",
       " ('I', 951),\n",
       " ('in', 875),\n",
       " ('he', 702),\n",
       " ('had', 692),\n",
       " ('?', 690),\n",
       " ('her', 651),\n",
       " ('that', 583),\n",
       " ('it', 573),\n",
       " ('his', 559),\n",
       " ('she', 496)]"
      ]
     },
     "execution_count": 11,
     "metadata": {},
     "output_type": "execute_result"
    }
   ],
   "source": [
    "cfd['romance'].most_common(20)"
   ]
  },
  {
   "cell_type": "code",
   "execution_count": 12,
   "id": "1159f644-a53f-4b73-9d9c-8f7151ba62dc",
   "metadata": {},
   "outputs": [
    {
     "data": {
      "text/plain": [
       "193"
      ]
     },
     "execution_count": 12,
     "metadata": {},
     "output_type": "execute_result"
    }
   ],
   "source": [
    "cfd['romance']['could']"
   ]
  },
  {
   "cell_type": "markdown",
   "id": "12c98f66-dd41-427f-b587-062d4215bbb3",
   "metadata": {},
   "source": [
    "#### **2.3   Plotting and Tabulating Distributions**"
   ]
  },
  {
   "cell_type": "code",
   "execution_count": 13,
   "id": "0327404f-9493-40cf-8aef-0539fac8bf22",
   "metadata": {},
   "outputs": [],
   "source": [
    "from nltk.corpus import inaugural\n",
    "cfd = nltk.ConditionalFreqDist((target, fileid[: 4]) for fileid in inaugural.fileids() for w in inaugural.words(fileid) for target in ['america', 'citizen'] if w.lower().startswith(target))"
   ]
  },
  {
   "cell_type": "code",
   "execution_count": 7,
   "id": "61c2a4dd-e61e-4241-9ce8-b5abb586445c",
   "metadata": {},
   "outputs": [],
   "source": [
    "import nltk\n",
    "from nltk.corpus import udhr\n",
    "languages = ['Chickasaw', 'English', 'German_Deutsch', 'Greenlandic_Inuktikut', 'Hungarian_Magyar', 'Ibibio_Efik']\n",
    "cfd = nltk.ConditionalFreqDist((lang, len(word)) for lang in languages for word in udhr.words(lang + '-Latin1'))"
   ]
  },
  {
   "cell_type": "code",
   "execution_count": 8,
   "id": "629a46b7-da86-4a27-8014-8f7f6704d6e3",
   "metadata": {},
   "outputs": [
    {
     "name": "stdout",
     "output_type": "stream",
     "text": [
      "                  0    1    2    3    4    5    6    7    8    9 \n",
      "       English    0  185  525  883  997 1166 1283 1440 1558 1638 \n",
      "German_Deutsch    0  171  263  614  717  894 1013 1110 1213 1275 \n"
     ]
    }
   ],
   "source": [
    "cfd.tabulate(conditions = ['English', 'German_Deutsch'], samples = range(10), cumulative = True)"
   ]
  },
  {
   "cell_type": "code",
   "execution_count": 9,
   "id": "8cd9f84b-3e6e-4d65-a297-c3e97c9bc6a5",
   "metadata": {},
   "outputs": [
    {
     "data": {
      "image/png": "[encoded data removed]",
      "text/plain": [
       "<Figure size 640x480 with 1 Axes>"
      ]
     },
     "metadata": {},
     "output_type": "display_data"
    },
    {
     "data": {
      "text/plain": [
       "<AxesSubplot:xlabel='Samples', ylabel='Cumulative Counts'>"
      ]
     },
     "execution_count": 9,
     "metadata": {},
     "output_type": "execute_result"
    }
   ],
   "source": [
    "cfd.plot(conditions = ['English', 'German_Deutsch'], samples = range(10), cumulative = True)"
   ]
  },
  {
   "cell_type": "markdown",
   "id": "80633b1d-c113-4525-8764-d1dcf6236ad2",
   "metadata": {},
   "source": [
    "#### **2.4   Generating Random Text with Bigrams**"
   ]
  },
  {
   "cell_type": "code",
   "execution_count": 10,
   "id": "04f4e210-63b3-4006-bd95-aea38612feca",
   "metadata": {},
   "outputs": [
    {
     "data": {
      "text/plain": [
       "[('In', 'the'),\n",
       " ('the', 'beginning'),\n",
       " ('beginning', 'God'),\n",
       " ('God', 'created'),\n",
       " ('created', 'the'),\n",
       " ('the', 'heaven'),\n",
       " ('heaven', 'and'),\n",
       " ('and', 'the'),\n",
       " ('the', 'earth'),\n",
       " ('earth', '.')]"
      ]
     },
     "execution_count": 10,
     "metadata": {},
     "output_type": "execute_result"
    }
   ],
   "source": [
    "sent = ['In', 'the', 'beginning', 'God', 'created', 'the', 'heaven', 'and', 'the', 'earth', '.']\n",
    "list(nltk.bigrams(sent))"
   ]
  },
  {
   "cell_type": "code",
   "execution_count": 11,
   "id": "cc82c7a8-4286-4c81-b483-abf49bed3a32",
   "metadata": {},
   "outputs": [
    {
     "data": {
      "text/plain": [
       "FreqDist({'creature': 7, 'thing': 4, 'substance': 2, 'soul': 1, '.': 1, ',': 1})"
      ]
     },
     "execution_count": 11,
     "metadata": {},
     "output_type": "execute_result"
    }
   ],
   "source": [
    "def generate_model(cfdist, word, num = 15):\n",
    "    for i in range(num):\n",
    "        print(word, end=' ')\n",
    "        word = cfdist[word].max()\n",
    "text = nltk.corpus.genesis.words('english-kjv.txt')\n",
    "bigrams = nltk.bigrams(text)\n",
    "cfd = nltk.ConditionalFreqDist(bigrams)\n",
    "cfd['living']"
   ]
  },
  {
   "cell_type": "code",
   "execution_count": 12,
   "id": "1dc33e92-9824-446d-abff-09edaca934c7",
   "metadata": {},
   "outputs": [
    {
     "name": "stdout",
     "output_type": "stream",
     "text": [
      "living creature that he said , and the land of the land of the land "
     ]
    }
   ],
   "source": [
    "generate_model(cfd, 'living')"
   ]
  },
  {
   "cell_type": "markdown",
   "id": "67e924b7-80f7-4f75-8770-e0e26e6e54e6",
   "metadata": {},
   "source": [
    "<table>\n",
    "<tr>\n",
    "<th>Example</th><th>Description</th>\n",
    "</tr>\n",
    "    <tr>\n",
    "        <td>cfdist = ConditionalFreqDist(pairs)</td><td>create a conditional frequency distribution from a list of pairs</td>\n",
    "    </tr>\n",
    "    <tr>\n",
    "        <td>cfdist.conditions()</td><td>the conditions</td>\n",
    "    </tr>\n",
    "    <tr>\n",
    "        <td>cfdist[condition]</td><td>the frequency distribution for this condition</td>\n",
    "    </tr>\n",
    "    <tr>\n",
    "        <td>cfdist[condition][sample]</td><td>frequency for the given sample for this condition</td>\n",
    "    </tr>\n",
    "    <tr>\n",
    "        <td>cfdist.tabulate()</td><td>tabulate the conditional frequency distribution</td>\n",
    "    </tr>\n",
    "    <tr>\n",
    "        <td>cfdist.tabulate(samples, conditions)</td><td>tabulation limited to the specified samples and conditions</td>\n",
    "    </tr>\n",
    "    <tr>\n",
    "        <td>cfdist.plot()</td><td>graphical plot of the conditional frequency distribution</td>\n",
    "    </tr>\n",
    "    <tr>\n",
    "        <td>cfdist.plot(samples, conditions)</td><td>graphical plot limited to the specified samples and conditions</td>\n",
    "    </tr>\n",
    "    <tr>\n",
    "        <td>cfdist1 < cfdist2</td><td>test if samples in cfdist1 occur less frequently than in cfdist2</td>\n",
    "    </tr>\n",
    "</table>"
   ]
  },
  {
   "cell_type": "markdown",
   "id": "fcc42ee3-e80e-4463-9bf2-332d5cf8f0c8",
   "metadata": {
    "toc-hr-collapsed": true
   },
   "source": [
    "### **3   More Python: Reusing Code**"
   ]
  },
  {
   "cell_type": "markdown",
   "id": "6342f40e-0c9d-4ec8-8ea4-305f2aa6249f",
   "metadata": {},
   "source": [
    "#### **3.1   Creating Programs with a Text Editor**"
   ]
  },
  {
   "cell_type": "code",
   "execution_count": 2,
   "id": "993efc9a-912a-44db-bdd5-129092238996",
   "metadata": {},
   "outputs": [],
   "source": [
    "!code monty.py"
   ]
  },
  {
   "cell_type": "code",
   "execution_count": 3,
   "id": "02ebafb2-b943-4a49-980a-77ca227e37e3",
   "metadata": {},
   "outputs": [
    {
     "name": "stdout",
     "output_type": "stream",
     "text": [
      "Monty Python\n"
     ]
    }
   ],
   "source": [
    "from monty import *"
   ]
  },
  {
   "cell_type": "markdown",
   "id": "6df27518-6e1c-49ad-b528-f228b5748931",
   "metadata": {},
   "source": [
    "#### **3.2   Functions**"
   ]
  },
  {
   "cell_type": "code",
   "execution_count": 4,
   "id": "ada229c9-2bbe-44b5-aa4d-7e62a2ccb214",
   "metadata": {},
   "outputs": [
    {
     "data": {
      "text/plain": [
       "0.06230453042623537"
      ]
     },
     "execution_count": 4,
     "metadata": {},
     "output_type": "execute_result"
    }
   ],
   "source": [
    "def lexical_diversity(my_text_data):\n",
    "    word_count = len(my_text_data)\n",
    "    vocab_size = len(set(my_text_data))\n",
    "    diversity_score = vocab_size/word_count\n",
    "    return diversity_score\n",
    "from nltk.corpus import genesis\n",
    "kjv = genesis.words('english-kjv.txt')\n",
    "lexical_diversity(kjv)"
   ]
  },
  {
   "cell_type": "code",
   "execution_count": 5,
   "id": "bdc38e80-b1f0-4d77-aff6-d1e76140b70d",
   "metadata": {},
   "outputs": [
    {
     "data": {
      "text/plain": [
       "'fairies'"
      ]
     },
     "execution_count": 5,
     "metadata": {},
     "output_type": "execute_result"
    }
   ],
   "source": [
    "def plural(word):\n",
    "    if word.endswith('y'):\n",
    "        return word[: -1] + 'ies'\n",
    "    elif word[-1] in 'sx' or word[-2 :] in ['sh', 'ch']:\n",
    "        return word + 'es'\n",
    "    elif word.endswith('an'):\n",
    "        return word[: -2] + 'en'\n",
    "    else:\n",
    "        return word + 's'\n",
    "plural('fairy')    "
   ]
  },
  {
   "cell_type": "code",
   "execution_count": 6,
   "id": "3a1cbb4e-79a9-4b65-9bdf-2e1f5a8364d6",
   "metadata": {},
   "outputs": [
    {
     "data": {
      "text/plain": [
       "'women'"
      ]
     },
     "execution_count": 6,
     "metadata": {},
     "output_type": "execute_result"
    }
   ],
   "source": [
    "plural('woman')"
   ]
  },
  {
   "cell_type": "markdown",
   "id": "2932543c-20ec-49b9-a8e0-644e3ac255c4",
   "metadata": {},
   "source": [
    "#### **3.3   Modules**"
   ]
  },
  {
   "cell_type": "code",
   "execution_count": 7,
   "id": "5989f58f-1798-4ca5-a61f-e7a79f4a81e8",
   "metadata": {},
   "outputs": [],
   "source": [
    "!code text_proc.py"
   ]
  },
  {
   "cell_type": "code",
   "execution_count": 8,
   "id": "063d4515-6290-43af-88ae-ce08b7088b92",
   "metadata": {},
   "outputs": [
    {
     "data": {
      "text/plain": [
       "'wishes'"
      ]
     },
     "execution_count": 8,
     "metadata": {},
     "output_type": "execute_result"
    }
   ],
   "source": [
    "from text_proc import plural\n",
    "plural('wish')"
   ]
  },
  {
   "cell_type": "code",
   "execution_count": 9,
   "id": "bc3dbe08-0a00-4b50-85b9-f3f3c0d2a675",
   "metadata": {},
   "outputs": [
    {
     "data": {
      "text/plain": [
       "'fen'"
      ]
     },
     "execution_count": 9,
     "metadata": {},
     "output_type": "execute_result"
    }
   ],
   "source": [
    "plural('fan')"
   ]
  },
  {
   "cell_type": "markdown",
   "id": "11ee2bb6-2358-4fbc-abf4-af822657a97c",
   "metadata": {
    "tags": [],
    "toc-hr-collapsed": true
   },
   "source": [
    "### **4   Lexical Resources**"
   ]
  },
  {
   "cell_type": "markdown",
   "id": "0796d955-0741-4e00-a717-a7cd055f0d1e",
   "metadata": {},
   "source": [
    "![image](https://www.nltk.org/images/lexicon.png)"
   ]
  },
  {
   "cell_type": "markdown",
   "id": "e0789133-a5c7-4a46-9ed2-df7c76052918",
   "metadata": {},
   "source": [
    "#### **4.1   Wordlist Corpora**"
   ]
  },
  {
   "cell_type": "code",
   "execution_count": 4,
   "id": "efaacb34-b4ed-4189-9d28-3ef267adbd0a",
   "metadata": {},
   "outputs": [],
   "source": [
    "import nltk\n",
    "def unusual_words(text):\n",
    "    text_vocab = set(w.lower() for w in text if w.isalpha())\n",
    "    english_vocab = set(w.lower() for w in nltk.corpus.words.words())\n",
    "    unusual = text_vocab - english_vocab\n",
    "    return sorted(unusual)\n",
    "unusual_words(nltk.corpus.gutenberg.words('austen-sense.txt'));"
   ]
  },
  {
   "cell_type": "code",
   "execution_count": 6,
   "id": "c9b05d39-9302-4f7d-9d38-112707f4bae6",
   "metadata": {},
   "outputs": [],
   "source": [
    "unusual_words(nltk.corpus.nps_chat.words());"
   ]
  },
  {
   "cell_type": "code",
   "execution_count": 8,
   "id": "66f9ba9a-ba1e-4abe-8ada-7ce6ac8fd20f",
   "metadata": {},
   "outputs": [],
   "source": [
    "from nltk.corpus import stopwords\n",
    "stopwords.words('english');"
   ]
  },
  {
   "cell_type": "code",
   "execution_count": 9,
   "id": "0c4d38ec-91f0-43e5-b9ef-001f741e19c5",
   "metadata": {},
   "outputs": [
    {
     "data": {
      "text/plain": [
       "0.735240435097661"
      ]
     },
     "execution_count": 9,
     "metadata": {},
     "output_type": "execute_result"
    }
   ],
   "source": [
    "def content_fraction(text):\n",
    "    stopwords = nltk.corpus.stopwords.words('english')\n",
    "    content = [w for w in text if w.lower() not in stopwords]\n",
    "    return len(content)/len(text)\n",
    "content_fraction(nltk.corpus.reuters.words())"
   ]
  },
  {
   "cell_type": "markdown",
   "id": "c00aea15-6429-4c43-a5fa-5817d4334b7f",
   "metadata": {},
   "source": [
    "![image](https://www.nltk.org/images/target.png)"
   ]
  },
  {
   "cell_type": "code",
   "execution_count": 10,
   "id": "96b6695c-4e55-4823-825e-46e26c524bb1",
   "metadata": {},
   "outputs": [
    {
     "data": {
      "text/plain": [
       "['glover',\n",
       " 'gorlin',\n",
       " 'govern',\n",
       " 'grovel',\n",
       " 'ignore',\n",
       " 'involver',\n",
       " 'lienor',\n",
       " 'linger',\n",
       " 'longer',\n",
       " 'lovering',\n",
       " 'noiler',\n",
       " 'overling',\n",
       " 'region',\n",
       " 'renvoi',\n",
       " 'revolving',\n",
       " 'ringle',\n",
       " 'roving',\n",
       " 'violer',\n",
       " 'virole']"
      ]
     },
     "execution_count": 10,
     "metadata": {},
     "output_type": "execute_result"
    }
   ],
   "source": [
    "puzzle_letters = nltk.FreqDist('egivrvonl')\n",
    "obligatory = 'r'\n",
    "wordlist = nltk.corpus.words.words()\n",
    "[w for w in wordlist if len(w) >= 6 and obligatory in w and nltk.FreqDist(w) <= puzzle_letters]"
   ]
  },
  {
   "cell_type": "code",
   "execution_count": 11,
   "id": "28bad66a-d009-4984-8eae-583f9e56baed",
   "metadata": {},
   "outputs": [
    {
     "data": {
      "text/plain": [
       "['female.txt', 'male.txt']"
      ]
     },
     "execution_count": 11,
     "metadata": {},
     "output_type": "execute_result"
    }
   ],
   "source": [
    "names = nltk.corpus.names\n",
    "names.fileids()"
   ]
  },
  {
   "cell_type": "code",
   "execution_count": 14,
   "id": "cb1a78bf-81c1-4c4e-8aa8-dfd26f143141",
   "metadata": {},
   "outputs": [],
   "source": [
    "male_names = names.words('male.txt')\n",
    "female_names = names.words('female.txt')\n",
    "[w for w in male_names if w in female_names];"
   ]
  },
  {
   "cell_type": "code",
   "execution_count": 15,
   "id": "f6a6e75f-d691-4b35-b4c6-f1fbea7beeb0",
   "metadata": {},
   "outputs": [
    {
     "data": {
      "image/png": "[encoded data removed]",
      "text/plain": [
       "<Figure size 640x480 with 1 Axes>"
      ]
     },
     "metadata": {},
     "output_type": "display_data"
    },
    {
     "data": {
      "text/plain": [
       "<AxesSubplot:xlabel='Samples', ylabel='Counts'>"
      ]
     },
     "execution_count": 15,
     "metadata": {},
     "output_type": "execute_result"
    }
   ],
   "source": [
    "cfd = nltk.ConditionalFreqDist((fileid, name[-1]) for fileid in names.fileids() for name in names.words(fileid))\n",
    "cfd.plot()"
   ]
  },
  {
   "cell_type": "markdown",
   "id": "5c78378d-578f-4c39-97b5-9bdf1ffda66b",
   "metadata": {},
   "source": [
    "#### **4.2   A Pronouncing Dictionary**"
   ]
  },
  {
   "cell_type": "code",
   "execution_count": 2,
   "id": "e17057cc-ffc6-44e8-9a72-fe5131c25ee6",
   "metadata": {},
   "outputs": [
    {
     "data": {
      "text/plain": [
       "133737"
      ]
     },
     "execution_count": 2,
     "metadata": {},
     "output_type": "execute_result"
    }
   ],
   "source": [
    "import nltk\n",
    "entries = nltk.corpus.cmudict.entries()\n",
    "len(entries)"
   ]
  },
  {
   "cell_type": "code",
   "execution_count": 3,
   "id": "5f27dc27-dc16-4068-8db7-cc3fdbf166af",
   "metadata": {},
   "outputs": [
    {
     "name": "stdout",
     "output_type": "stream",
     "text": [
      "('fir', ['F', 'ER1'])\n",
      "('fire', ['F', 'AY1', 'ER0'])\n",
      "('fire', ['F', 'AY1', 'R'])\n",
      "('firearm', ['F', 'AY1', 'ER0', 'AA2', 'R', 'M'])\n",
      "('firearm', ['F', 'AY1', 'R', 'AA2', 'R', 'M'])\n",
      "('firearms', ['F', 'AY1', 'ER0', 'AA2', 'R', 'M', 'Z'])\n",
      "('firearms', ['F', 'AY1', 'R', 'AA2', 'R', 'M', 'Z'])\n",
      "('fireball', ['F', 'AY1', 'ER0', 'B', 'AO2', 'L'])\n"
     ]
    }
   ],
   "source": [
    "for entry in entries[42371:42379]:\n",
    "    print(entry)"
   ]
  },
  {
   "cell_type": "code",
   "execution_count": 4,
   "id": "8fab5f69-ba35-44e5-9173-3f45577c30df",
   "metadata": {},
   "outputs": [
    {
     "name": "stdout",
     "output_type": "stream",
     "text": [
      "pait EY1 pat AE1 pate EY1 patt AE1 peart ER1 peat IY1 peet IY1 peete IY1 pert ER1 pet EH1 pete IY1 pett EH1 piet IY1 piette IY1 pit IH1 pitt IH1 pot AA1 pote OW1 pott AA1 pout AW1 puett UW1 purt ER1 put UH1 putt AH1 "
     ]
    }
   ],
   "source": [
    "for word, pron in entries:\n",
    "    if len(pron) == 3:\n",
    "        ph1, ph2, ph3 = pron\n",
    "        if ph1 == 'P' and ph3 == 'T':\n",
    "            print(word, ph2, end=' ')"
   ]
  },
  {
   "cell_type": "code",
   "execution_count": 6,
   "id": "44367652-706f-4177-9777-dfe509b11e74",
   "metadata": {},
   "outputs": [],
   "source": [
    "syllable = ['N', 'IH0', 'K', 'S']\n",
    "[word for word, pron in entries if pron[-4 :] == syllable];"
   ]
  },
  {
   "cell_type": "code",
   "execution_count": 7,
   "id": "612b6edd-caca-463d-94ba-a64258c9b9ee",
   "metadata": {},
   "outputs": [
    {
     "data": {
      "text/plain": [
       "['autumn', 'column', 'condemn', 'damn', 'goddamn', 'hymn', 'solemn']"
      ]
     },
     "execution_count": 7,
     "metadata": {},
     "output_type": "execute_result"
    }
   ],
   "source": [
    "[w for w, pron in entries if pron[-1] == 'M' and w[-1] == 'n']"
   ]
  },
  {
   "cell_type": "code",
   "execution_count": 9,
   "id": "5afe48d5-8687-4f2a-9970-f05b0e53a757",
   "metadata": {},
   "outputs": [
    {
     "data": {
      "text/plain": [
       "['gn', 'kn', 'mn', 'pn']"
      ]
     },
     "execution_count": 9,
     "metadata": {},
     "output_type": "execute_result"
    }
   ],
   "source": [
    "sorted(set(w[: 2] for w, pron in entries if pron[0] == 'N' and w[0] != 'n'))"
   ]
  },
  {
   "cell_type": "code",
   "execution_count": 11,
   "id": "ba7fb5e9-dfa1-40b7-bf23-0b63a55f4547",
   "metadata": {},
   "outputs": [],
   "source": [
    "def stress(pron):\n",
    "    return [char for phone in pron for char in phone if char.isdigit()]\n",
    "[w for w, pron in entries if stress(pron) == ['0', '2', '0', '1', '0']];"
   ]
  },
  {
   "cell_type": "code",
   "execution_count": 12,
   "id": "4abf12f7-37ad-492f-afc2-18fdf9f712a8",
   "metadata": {},
   "outputs": [
    {
     "name": "stdout",
     "output_type": "stream",
     "text": [
      "P-CH patch pautsch peach perch petsch petsche piche piech pietsch pitch pit...\n",
      "P-K pac pack paek paik pak pake paque peak peake pech peck peek perc perk ...\n",
      "P-L pahl pail paille pal pale pall paul paule paull peal peale pearl pearl...\n",
      "P-N paign pain paine pan pane pawn payne peine pen penh penn pin pine pinn...\n",
      "P-P paap paape pap pape papp paup peep pep pip pipe pipp poop pop pope pop...\n",
      "P-R paar pair par pare parr pear peer pier poor poore por pore porr pour...\n",
      "P-S pace pass pasts peace pearse pease perce pers perse pesce piece piss p...\n",
      "P-T pait pat pate patt peart peat peet peete pert pet pete pett piet piett...\n",
      "P-UW1 peru peugh pew plew plue prew pru prue prugh pshew pugh...\n",
      "P-Z p's p.'s p.s pais paiz pao's pas pause paws pays paz peas pease pei's ...\n"
     ]
    }
   ],
   "source": [
    "p3 = [(pron[0] + '-' + pron[2], word) for (word, pron) in entries if pron[0] == 'P' and len(pron) == 3]\n",
    "cfd = nltk.ConditionalFreqDist(p3)\n",
    "for template in sorted(cfd.conditions()):\n",
    "    if len(cfd[template]) > 10:\n",
    "        words = sorted(cfd[template])\n",
    "        wordstring = ' '.join(words)\n",
    "        print(template, wordstring[: 70] + '...')"
   ]
  },
  {
   "cell_type": "code",
   "execution_count": 14,
   "id": "88c3b463-0252-4cf1-b07f-42ccb537fd1e",
   "metadata": {},
   "outputs": [
    {
     "data": {
      "text/plain": [
       "[['F', 'AY1', 'ER0'], ['F', 'AY1', 'R']]"
      ]
     },
     "execution_count": 14,
     "metadata": {},
     "output_type": "execute_result"
    }
   ],
   "source": [
    "prondict = nltk.corpus.cmudict.dict()\n",
    "prondict['fire']"
   ]
  },
  {
   "cell_type": "code",
   "execution_count": 15,
   "id": "d807d88d-c9f1-44a8-932c-d48b45877405",
   "metadata": {},
   "outputs": [
    {
     "ename": "KeyError",
     "evalue": "'blog'",
     "output_type": "error",
     "traceback": [
      "\u001b[0;31m---------------------------------------------------------------------------\u001b[0m",
      "\u001b[0;31mKeyError\u001b[0m                                  Traceback (most recent call last)",
      "Cell \u001b[0;32mIn [15], line 1\u001b[0m\n\u001b[0;32m----> 1\u001b[0m \u001b[43mprondict\u001b[49m\u001b[43m[\u001b[49m\u001b[38;5;124;43m'\u001b[39;49m\u001b[38;5;124;43mblog\u001b[39;49m\u001b[38;5;124;43m'\u001b[39;49m\u001b[43m]\u001b[49m\n",
      "\u001b[0;31mKeyError\u001b[0m: 'blog'"
     ]
    }
   ],
   "source": [
    "prondict['blog']"
   ]
  },
  {
   "cell_type": "code",
   "execution_count": 16,
   "id": "c1c0e3fa-3dcd-4049-96a0-2431c030f7e2",
   "metadata": {},
   "outputs": [
    {
     "data": {
      "text/plain": [
       "[['B', 'L', 'AA1', 'G']]"
      ]
     },
     "execution_count": 16,
     "metadata": {},
     "output_type": "execute_result"
    }
   ],
   "source": [
    "prondict['blog'] = [['B', 'L', 'AA1', 'G']]\n",
    "prondict['blog']"
   ]
  },
  {
   "cell_type": "code",
   "execution_count": 17,
   "id": "f3500481-289f-4102-a702-4cafa06526c9",
   "metadata": {},
   "outputs": [
    {
     "data": {
      "text/plain": [
       "['N',\n",
       " 'AE1',\n",
       " 'CH',\n",
       " 'ER0',\n",
       " 'AH0',\n",
       " 'L',\n",
       " 'L',\n",
       " 'AE1',\n",
       " 'NG',\n",
       " 'G',\n",
       " 'W',\n",
       " 'AH0',\n",
       " 'JH',\n",
       " 'P',\n",
       " 'R',\n",
       " 'AA1',\n",
       " 'S',\n",
       " 'EH0',\n",
       " 'S',\n",
       " 'IH0',\n",
       " 'NG']"
      ]
     },
     "execution_count": 17,
     "metadata": {},
     "output_type": "execute_result"
    }
   ],
   "source": [
    "text = ['natural', 'language', 'processing']\n",
    "[ph for w in text for ph in prondict[w][0]]"
   ]
  },
  {
   "cell_type": "markdown",
   "id": "396814dc-30ca-48ed-b5df-3771f53761da",
   "metadata": {},
   "source": [
    "#### **4.3   Comparative Wordlists**"
   ]
  },
  {
   "cell_type": "code",
   "execution_count": 2,
   "id": "1d15a56d-7988-4b25-a15b-ddc263c9f79a",
   "metadata": {},
   "outputs": [
    {
     "data": {
      "text/plain": [
       "['be',\n",
       " 'bg',\n",
       " 'bs',\n",
       " 'ca',\n",
       " 'cs',\n",
       " 'cu',\n",
       " 'de',\n",
       " 'en',\n",
       " 'es',\n",
       " 'fr',\n",
       " 'hr',\n",
       " 'it',\n",
       " 'la',\n",
       " 'mk',\n",
       " 'nl',\n",
       " 'pl',\n",
       " 'pt',\n",
       " 'ro',\n",
       " 'ru',\n",
       " 'sk',\n",
       " 'sl',\n",
       " 'sr',\n",
       " 'sw',\n",
       " 'uk']"
      ]
     },
     "execution_count": 2,
     "metadata": {},
     "output_type": "execute_result"
    }
   ],
   "source": [
    "from nltk.corpus import swadesh\n",
    "swadesh.fileids()"
   ]
  },
  {
   "cell_type": "code",
   "execution_count": 4,
   "id": "60ec2e6b-1cbd-4089-a3d2-e4c6f9f7a8b3",
   "metadata": {},
   "outputs": [],
   "source": [
    "swadesh.words('en');"
   ]
  },
  {
   "cell_type": "code",
   "execution_count": 6,
   "id": "8f1ab908-5a73-42b5-ad6e-ed16aa449fe9",
   "metadata": {},
   "outputs": [],
   "source": [
    "fr2en = swadesh.entries(['fr', 'en'])\n",
    "fr2en;"
   ]
  },
  {
   "cell_type": "code",
   "execution_count": 8,
   "id": "e1a37135-d794-495e-921f-1167720251ae",
   "metadata": {},
   "outputs": [
    {
     "data": {
      "text/plain": [
       "'dog'"
      ]
     },
     "execution_count": 8,
     "metadata": {},
     "output_type": "execute_result"
    }
   ],
   "source": [
    "translate = dict(fr2en)\n",
    "translate['chien']"
   ]
  },
  {
   "cell_type": "code",
   "execution_count": 9,
   "id": "65257111-6066-436d-9d3d-de45910bb7ee",
   "metadata": {},
   "outputs": [
    {
     "data": {
      "text/plain": [
       "'throw'"
      ]
     },
     "execution_count": 9,
     "metadata": {},
     "output_type": "execute_result"
    }
   ],
   "source": [
    "translate['jeter']"
   ]
  },
  {
   "cell_type": "code",
   "execution_count": 11,
   "id": "301641d1-8776-45eb-9687-8ff2814bb53d",
   "metadata": {},
   "outputs": [
    {
     "data": {
      "text/plain": [
       "'dog'"
      ]
     },
     "execution_count": 11,
     "metadata": {},
     "output_type": "execute_result"
    }
   ],
   "source": [
    "de2en = swadesh.entries(['de', 'en'])\n",
    "es2en = swadesh.entries(['es', 'en'])\n",
    "translate.update(dict(de2en))\n",
    "translate.update(dict(es2en))\n",
    "translate['Hund']"
   ]
  },
  {
   "cell_type": "code",
   "execution_count": 12,
   "id": "41c95f5d-4113-4ddf-8067-4c99b4152d95",
   "metadata": {},
   "outputs": [
    {
     "data": {
      "text/plain": [
       "'dog'"
      ]
     },
     "execution_count": 12,
     "metadata": {},
     "output_type": "execute_result"
    }
   ],
   "source": [
    "translate['perro']"
   ]
  },
  {
   "cell_type": "code",
   "execution_count": 13,
   "id": "357b1cfe-26b9-4ea9-9006-4abeced6f1d0",
   "metadata": {},
   "outputs": [
    {
     "name": "stdout",
     "output_type": "stream",
     "text": [
      "('say', 'sagen', 'zeggen', 'decir', 'dire', 'dizer', 'dicere')\n",
      "('sing', 'singen', 'zingen', 'cantar', 'chanter', 'cantar', 'canere')\n",
      "('play', 'spielen', 'spelen', 'jugar', 'jouer', 'jogar, brincar', 'ludere')\n",
      "('float', 'schweben', 'zweven', 'flotar', 'flotter', 'flutuar, boiar', 'fluctuare')\n"
     ]
    }
   ],
   "source": [
    "languages = ['en', 'de', 'nl', 'es', 'fr', 'pt', 'la']\n",
    "for i in [139, 140, 141, 142]:\n",
    "    print(swadesh.entries(languages)[i])"
   ]
  },
  {
   "cell_type": "markdown",
   "id": "42cf638b-6574-401b-b6de-c69d70f91a05",
   "metadata": {},
   "source": [
    "#### **4.4   Shoebox and Toolbox Lexicons**"
   ]
  },
  {
   "cell_type": "code",
   "execution_count": 17,
   "id": "cde0385b-76dd-45c5-96b2-a588c26df7e5",
   "metadata": {},
   "outputs": [],
   "source": [
    "from nltk.corpus import toolbox\n",
    "toolbox.entries('rotokas.dic');"
   ]
  },
  {
   "cell_type": "markdown",
   "id": "1b192c7e-cc9f-44a4-a52b-6d7561ec3e48",
   "metadata": {},
   "source": [
    "Entries consist of a series of attribute-value pairs, like (<font color = green>'ps'</font>, <font color = green>'V'</font>) to indicate that the part-of-speech is <font color = green>'V'</font> (verb), and (<font color = green>'ge'</font>, <font color = green>'gag'</font>) to indicate that the gloss-into-English is <font color = green>'gag'</font>. The last three pairs contain an example sentence in Rotokas and its translations into Tok Pisin and English."
   ]
  },
  {
   "cell_type": "markdown",
   "id": "a2e3b9d9-9034-4776-a47e-36f19fba0804",
   "metadata": {
    "tags": [],
    "toc-hr-collapsed": true
   },
   "source": [
    "### **5   WordNet**"
   ]
  },
  {
   "cell_type": "markdown",
   "id": "7e0fd739-9130-41b7-9fc2-d66e6ccfcfae",
   "metadata": {},
   "source": [
    "#### **5.1   Senses and Synonyms**"
   ]
  },
  {
   "cell_type": "code",
   "execution_count": 2,
   "id": "c560142a-66ba-4970-978b-9aee57346e7a",
   "metadata": {
    "tags": []
   },
   "outputs": [
    {
     "data": {
      "text/plain": [
       "[Synset('car.n.01')]"
      ]
     },
     "execution_count": 2,
     "metadata": {},
     "output_type": "execute_result"
    }
   ],
   "source": [
    "from nltk.corpus import wordnet\n",
    "wordnet.synsets('motorcar')"
   ]
  },
  {
   "cell_type": "code",
   "execution_count": 7,
   "id": "bdbb193d-7d26-448d-bc13-b8e6a1c831d2",
   "metadata": {
    "tags": []
   },
   "outputs": [
    {
     "data": {
      "text/plain": [
       "['car', 'auto', 'automobile', 'machine', 'motorcar']"
      ]
     },
     "execution_count": 7,
     "metadata": {},
     "output_type": "execute_result"
    }
   ],
   "source": [
    "wordnet.synset('car.n.01').lemma_names()"
   ]
  },
  {
   "cell_type": "code",
   "execution_count": 8,
   "id": "7d9d286f-35ab-436e-a886-e728652f9f98",
   "metadata": {
    "tags": []
   },
   "outputs": [
    {
     "data": {
      "text/plain": [
       "'a motor vehicle with four wheels; usually propelled by an internal combustion engine'"
      ]
     },
     "execution_count": 8,
     "metadata": {},
     "output_type": "execute_result"
    }
   ],
   "source": [
    "wordnet.synset('car.n.01').definition()"
   ]
  },
  {
   "cell_type": "code",
   "execution_count": 9,
   "id": "d53abc34-7379-452c-b74c-cd735dfec7af",
   "metadata": {
    "tags": []
   },
   "outputs": [
    {
     "data": {
      "text/plain": [
       "['he needs a car to get to work']"
      ]
     },
     "execution_count": 9,
     "metadata": {},
     "output_type": "execute_result"
    }
   ],
   "source": [
    "wordnet.synset('car.n.01').examples()"
   ]
  },
  {
   "cell_type": "code",
   "execution_count": 10,
   "id": "b7c5c6f4-2dbc-498b-a4c7-9324fcd08d8a",
   "metadata": {
    "tags": []
   },
   "outputs": [
    {
     "data": {
      "text/plain": [
       "[Lemma('car.n.01.car'),\n",
       " Lemma('car.n.01.auto'),\n",
       " Lemma('car.n.01.automobile'),\n",
       " Lemma('car.n.01.machine'),\n",
       " Lemma('car.n.01.motorcar')]"
      ]
     },
     "execution_count": 10,
     "metadata": {},
     "output_type": "execute_result"
    }
   ],
   "source": [
    "wordnet.synset('car.n.01').lemmas()"
   ]
  },
  {
   "cell_type": "code",
   "execution_count": 11,
   "id": "5e8e1c14-6260-48a5-95c8-0029ea2b846c",
   "metadata": {
    "tags": []
   },
   "outputs": [
    {
     "data": {
      "text/plain": [
       "Lemma('car.n.01.automobile')"
      ]
     },
     "execution_count": 11,
     "metadata": {},
     "output_type": "execute_result"
    }
   ],
   "source": [
    "wordnet.lemma('car.n.01.automobile')"
   ]
  },
  {
   "cell_type": "code",
   "execution_count": 12,
   "id": "7138a808-5f6b-49bf-8f03-cb0b8e6a0de7",
   "metadata": {
    "tags": []
   },
   "outputs": [
    {
     "data": {
      "text/plain": [
       "Synset('car.n.01')"
      ]
     },
     "execution_count": 12,
     "metadata": {},
     "output_type": "execute_result"
    }
   ],
   "source": [
    "wordnet.lemma('car.n.01.automobile').synset()"
   ]
  },
  {
   "cell_type": "code",
   "execution_count": 13,
   "id": "75c53412-0ae0-44ae-a4f5-a2e8b41630c1",
   "metadata": {
    "tags": []
   },
   "outputs": [
    {
     "data": {
      "text/plain": [
       "'automobile'"
      ]
     },
     "execution_count": 13,
     "metadata": {},
     "output_type": "execute_result"
    }
   ],
   "source": [
    "wordnet.lemma('car.n.01.automobile').name()"
   ]
  },
  {
   "cell_type": "code",
   "execution_count": 14,
   "id": "808c6f3d-5fa9-408f-8b53-e5449ef0dc7f",
   "metadata": {
    "tags": []
   },
   "outputs": [
    {
     "data": {
      "text/plain": [
       "[Synset('car.n.01'),\n",
       " Synset('car.n.02'),\n",
       " Synset('car.n.03'),\n",
       " Synset('car.n.04'),\n",
       " Synset('cable_car.n.01')]"
      ]
     },
     "execution_count": 14,
     "metadata": {},
     "output_type": "execute_result"
    }
   ],
   "source": [
    "wordnet.synsets('car')"
   ]
  },
  {
   "cell_type": "code",
   "execution_count": 15,
   "id": "75ceac8b-b183-4100-9a2b-7c6474d3313c",
   "metadata": {
    "tags": []
   },
   "outputs": [
    {
     "name": "stdout",
     "output_type": "stream",
     "text": [
      "['car', 'auto', 'automobile', 'machine', 'motorcar']\n",
      "['car', 'railcar', 'railway_car', 'railroad_car']\n",
      "['car', 'gondola']\n",
      "['car', 'elevator_car']\n",
      "['cable_car', 'car']\n"
     ]
    }
   ],
   "source": [
    "for synset in wordnet.synsets('car'):\n",
    "    print(synset.lemma_names())"
   ]
  },
  {
   "cell_type": "code",
   "execution_count": 16,
   "id": "ce5669d1-6343-4b35-8440-f2f65d90a60d",
   "metadata": {
    "tags": []
   },
   "outputs": [
    {
     "data": {
      "text/plain": [
       "[Lemma('car.n.01.car'),\n",
       " Lemma('car.n.02.car'),\n",
       " Lemma('car.n.03.car'),\n",
       " Lemma('car.n.04.car'),\n",
       " Lemma('cable_car.n.01.car')]"
      ]
     },
     "execution_count": 16,
     "metadata": {},
     "output_type": "execute_result"
    }
   ],
   "source": [
    "wordnet.lemmas('car')"
   ]
  },
  {
   "cell_type": "code",
   "execution_count": 17,
   "id": "2f1edf2e-60f5-40ec-bef1-0682ddad58c3",
   "metadata": {
    "tags": []
   },
   "outputs": [
    {
     "data": {
      "text/plain": [
       "[Lemma('dish.n.01.dish'),\n",
       " Lemma('dish.n.02.dish'),\n",
       " Lemma('dish.n.03.dish'),\n",
       " Lemma('smasher.n.02.dish'),\n",
       " Lemma('dish.n.05.dish'),\n",
       " Lemma('cup_of_tea.n.01.dish'),\n",
       " Lemma('serve.v.06.dish'),\n",
       " Lemma('dish.v.02.dish')]"
      ]
     },
     "execution_count": 17,
     "metadata": {},
     "output_type": "execute_result"
    }
   ],
   "source": [
    "wordnet.lemmas('dish')"
   ]
  },
  {
   "cell_type": "markdown",
   "id": "52415d0e-fc92-488a-b018-2635d6a64181",
   "metadata": {},
   "source": [
    "#### **5.2   The WordNet Hierarchy**"
   ]
  },
  {
   "cell_type": "markdown",
   "id": "83d3b51c-e445-4a3a-8682-a61e0ccb868e",
   "metadata": {},
   "source": [
    "![image](https://www.nltk.org/images/wordnet-hierarchy.png)"
   ]
  },
  {
   "cell_type": "code",
   "execution_count": 5,
   "id": "6805b640-1646-481e-8a10-e7f3176cd501",
   "metadata": {
    "tags": []
   },
   "outputs": [
    {
     "data": {
      "text/plain": [
       "Synset('ambulance.n.01')"
      ]
     },
     "execution_count": 5,
     "metadata": {},
     "output_type": "execute_result"
    }
   ],
   "source": [
    "motorcar = wordnet.synset('car.n.01')\n",
    "types_of_motorcar = motorcar.hyponyms()\n",
    "types_of_motorcar[0]"
   ]
  },
  {
   "cell_type": "code",
   "execution_count": 6,
   "id": "98dc68a7-fdcd-4c76-b86b-a88b1bff8455",
   "metadata": {
    "tags": []
   },
   "outputs": [
    {
     "data": {
      "text/plain": [
       "['Model_T',\n",
       " 'S.U.V.',\n",
       " 'SUV',\n",
       " 'Stanley_Steamer',\n",
       " 'ambulance',\n",
       " 'beach_waggon',\n",
       " 'beach_wagon',\n",
       " 'bus',\n",
       " 'cab',\n",
       " 'compact',\n",
       " 'compact_car',\n",
       " 'convertible',\n",
       " 'coupe',\n",
       " 'cruiser',\n",
       " 'electric',\n",
       " 'electric_automobile',\n",
       " 'electric_car',\n",
       " 'estate_car',\n",
       " 'gas_guzzler',\n",
       " 'hack',\n",
       " 'hardtop',\n",
       " 'hatchback',\n",
       " 'heap',\n",
       " 'horseless_carriage',\n",
       " 'hot-rod',\n",
       " 'hot_rod',\n",
       " 'jalopy',\n",
       " 'jeep',\n",
       " 'landrover',\n",
       " 'limo',\n",
       " 'limousine',\n",
       " 'loaner',\n",
       " 'minicar',\n",
       " 'minivan',\n",
       " 'pace_car',\n",
       " 'patrol_car',\n",
       " 'phaeton',\n",
       " 'police_car',\n",
       " 'police_cruiser',\n",
       " 'prowl_car',\n",
       " 'race_car',\n",
       " 'racer',\n",
       " 'racing_car',\n",
       " 'roadster',\n",
       " 'runabout',\n",
       " 'saloon',\n",
       " 'secondhand_car',\n",
       " 'sedan',\n",
       " 'sport_car',\n",
       " 'sport_utility',\n",
       " 'sport_utility_vehicle',\n",
       " 'sports_car',\n",
       " 'squad_car',\n",
       " 'station_waggon',\n",
       " 'station_wagon',\n",
       " 'stock_car',\n",
       " 'subcompact',\n",
       " 'subcompact_car',\n",
       " 'taxi',\n",
       " 'taxicab',\n",
       " 'tourer',\n",
       " 'touring_car',\n",
       " 'two-seater',\n",
       " 'used-car',\n",
       " 'waggon',\n",
       " 'wagon']"
      ]
     },
     "execution_count": 6,
     "metadata": {},
     "output_type": "execute_result"
    }
   ],
   "source": [
    "sorted(lemma.name() for synset in types_of_motorcar for lemma in synset.lemmas())"
   ]
  },
  {
   "cell_type": "code",
   "execution_count": 7,
   "id": "ae879696-0485-4bf3-a8d0-3f97616b2b60",
   "metadata": {
    "tags": []
   },
   "outputs": [
    {
     "data": {
      "text/plain": [
       "[Synset('motor_vehicle.n.01')]"
      ]
     },
     "execution_count": 7,
     "metadata": {},
     "output_type": "execute_result"
    }
   ],
   "source": [
    "motorcar.hypernyms()"
   ]
  },
  {
   "cell_type": "code",
   "execution_count": 8,
   "id": "93972c08-ff84-4769-905d-b816acc55b45",
   "metadata": {
    "tags": []
   },
   "outputs": [
    {
     "data": {
      "text/plain": [
       "2"
      ]
     },
     "execution_count": 8,
     "metadata": {},
     "output_type": "execute_result"
    }
   ],
   "source": [
    "paths = motorcar.hypernym_paths()\n",
    "len(paths)"
   ]
  },
  {
   "cell_type": "code",
   "execution_count": 9,
   "id": "a8ab239d-1b6b-4b1e-88cf-4a99a9a34db9",
   "metadata": {
    "tags": []
   },
   "outputs": [
    {
     "data": {
      "text/plain": [
       "['entity.n.01',\n",
       " 'physical_entity.n.01',\n",
       " 'object.n.01',\n",
       " 'whole.n.02',\n",
       " 'artifact.n.01',\n",
       " 'instrumentality.n.03',\n",
       " 'container.n.01',\n",
       " 'wheeled_vehicle.n.01',\n",
       " 'self-propelled_vehicle.n.01',\n",
       " 'motor_vehicle.n.01',\n",
       " 'car.n.01']"
      ]
     },
     "execution_count": 9,
     "metadata": {},
     "output_type": "execute_result"
    }
   ],
   "source": [
    "[synset.name() for synset in paths[0]]"
   ]
  },
  {
   "cell_type": "code",
   "execution_count": 10,
   "id": "0f2453dd-8421-48a7-a8b5-1e00ccc14565",
   "metadata": {
    "tags": []
   },
   "outputs": [
    {
     "data": {
      "text/plain": [
       "['entity.n.01',\n",
       " 'physical_entity.n.01',\n",
       " 'object.n.01',\n",
       " 'whole.n.02',\n",
       " 'artifact.n.01',\n",
       " 'instrumentality.n.03',\n",
       " 'conveyance.n.03',\n",
       " 'vehicle.n.01',\n",
       " 'wheeled_vehicle.n.01',\n",
       " 'self-propelled_vehicle.n.01',\n",
       " 'motor_vehicle.n.01',\n",
       " 'car.n.01']"
      ]
     },
     "execution_count": 10,
     "metadata": {},
     "output_type": "execute_result"
    }
   ],
   "source": [
    "[synset.name() for synset in paths[1]]"
   ]
  },
  {
   "cell_type": "code",
   "execution_count": 11,
   "id": "06bd5d8f-adad-47e9-8c47-5066e03bc512",
   "metadata": {
    "tags": []
   },
   "outputs": [
    {
     "data": {
      "text/plain": [
       "[Synset('entity.n.01')]"
      ]
     },
     "execution_count": 11,
     "metadata": {},
     "output_type": "execute_result"
    }
   ],
   "source": [
    "motorcar.root_hypernyms()"
   ]
  },
  {
   "cell_type": "markdown",
   "id": "705277eb-d876-4712-8afb-b5a32fa7055b",
   "metadata": {
    "tags": []
   },
   "source": [
    "#### **5.3   More Lexical Relations**"
   ]
  },
  {
   "cell_type": "code",
   "execution_count": 14,
   "id": "06eb8c04-7674-4e8b-b26a-d5c77554f3a1",
   "metadata": {
    "tags": []
   },
   "outputs": [
    {
     "data": {
      "text/plain": [
       "[Synset('burl.n.02'),\n",
       " Synset('crown.n.07'),\n",
       " Synset('limb.n.02'),\n",
       " Synset('stump.n.01'),\n",
       " Synset('trunk.n.01')]"
      ]
     },
     "execution_count": 14,
     "metadata": {},
     "output_type": "execute_result"
    }
   ],
   "source": [
    "wordnet.synset('tree.n.01').part_meronyms()"
   ]
  },
  {
   "cell_type": "code",
   "execution_count": 15,
   "id": "c188c0ae-f86e-4d2c-8706-a385152cbf89",
   "metadata": {
    "tags": []
   },
   "outputs": [
    {
     "data": {
      "text/plain": [
       "[Synset('heartwood.n.01'), Synset('sapwood.n.01')]"
      ]
     },
     "execution_count": 15,
     "metadata": {},
     "output_type": "execute_result"
    }
   ],
   "source": [
    "wordnet.synset('tree.n.01').substance_meronyms()"
   ]
  },
  {
   "cell_type": "code",
   "execution_count": 16,
   "id": "c20b1bc0-373c-4ac5-9437-1c1e9e5d5631",
   "metadata": {
    "tags": []
   },
   "outputs": [
    {
     "data": {
      "text/plain": [
       "[Synset('forest.n.01')]"
      ]
     },
     "execution_count": 16,
     "metadata": {},
     "output_type": "execute_result"
    }
   ],
   "source": [
    "wordnet.synset('tree.n.01').member_holonyms()"
   ]
  },
  {
   "cell_type": "code",
   "execution_count": 17,
   "id": "e2eee86a-9238-4ca8-914d-8cecb910ab6a",
   "metadata": {
    "tags": []
   },
   "outputs": [
    {
     "name": "stdout",
     "output_type": "stream",
     "text": [
      "batch.n.02: (often followed by `of') a large number or amount or extent\n",
      "mint.n.02: any north temperate plant of the genus Mentha with aromatic leaves and small mauve flowers\n",
      "mint.n.03: any member of the mint family of plants\n",
      "mint.n.04: the leaves of a mint plant used fresh or candied\n",
      "mint.n.05: a candy that is flavored with a mint oil\n",
      "mint.n.06: a plant where money is coined by authority of the government\n"
     ]
    }
   ],
   "source": [
    "for synset in wordnet.synsets('mint', wordnet.NOUN):\n",
    "    print(synset.name() + ':', synset.definition())"
   ]
  },
  {
   "cell_type": "code",
   "execution_count": 18,
   "id": "4ba23862-126b-41f9-a822-31bd10bbb536",
   "metadata": {
    "tags": []
   },
   "outputs": [
    {
     "data": {
      "text/plain": [
       "[Synset('step.v.01')]"
      ]
     },
     "execution_count": 18,
     "metadata": {},
     "output_type": "execute_result"
    }
   ],
   "source": [
    "wordnet.synset('walk.v.01').entailments()"
   ]
  },
  {
   "cell_type": "code",
   "execution_count": 19,
   "id": "ac1b8d20-a47e-43e1-9423-367e97e599dd",
   "metadata": {
    "tags": []
   },
   "outputs": [
    {
     "data": {
      "text/plain": [
       "[Synset('chew.v.01'), Synset('swallow.v.01')]"
      ]
     },
     "execution_count": 19,
     "metadata": {},
     "output_type": "execute_result"
    }
   ],
   "source": [
    "wordnet.synset('eat.v.01').entailments()"
   ]
  },
  {
   "cell_type": "code",
   "execution_count": 20,
   "id": "66475703-691f-4959-bc0a-e4c153565e7e",
   "metadata": {
    "tags": []
   },
   "outputs": [
    {
     "data": {
      "text/plain": [
       "[Synset('arouse.v.07'), Synset('disappoint.v.01')]"
      ]
     },
     "execution_count": 20,
     "metadata": {},
     "output_type": "execute_result"
    }
   ],
   "source": [
    "wordnet.synset('tease.v.03').entailments()"
   ]
  },
  {
   "cell_type": "code",
   "execution_count": 21,
   "id": "cf9782fb-3c2e-47ce-8a87-f957baaff959",
   "metadata": {
    "tags": []
   },
   "outputs": [
    {
     "data": {
      "text/plain": [
       "[Lemma('demand.n.02.demand')]"
      ]
     },
     "execution_count": 21,
     "metadata": {},
     "output_type": "execute_result"
    }
   ],
   "source": [
    "wordnet.lemma('supply.n.02.supply').antonyms()"
   ]
  },
  {
   "cell_type": "code",
   "execution_count": 22,
   "id": "a8afa59d-63b1-4454-b0f0-cf2a1f5cc3e9",
   "metadata": {
    "tags": []
   },
   "outputs": [
    {
     "data": {
      "text/plain": [
       "[Lemma('linger.v.04.linger')]"
      ]
     },
     "execution_count": 22,
     "metadata": {},
     "output_type": "execute_result"
    }
   ],
   "source": [
    "wordnet.lemma('rush.v.01.rush').antonyms()"
   ]
  },
  {
   "cell_type": "code",
   "execution_count": 23,
   "id": "20fd97d0-268a-4d95-a189-14babca3aa40",
   "metadata": {
    "tags": []
   },
   "outputs": [
    {
     "data": {
      "text/plain": [
       "[Lemma('vertical.a.01.vertical'), Lemma('inclined.a.02.inclined')]"
      ]
     },
     "execution_count": 23,
     "metadata": {},
     "output_type": "execute_result"
    }
   ],
   "source": [
    "wordnet.lemma('horizontal.a.01.horizontal').antonyms()"
   ]
  },
  {
   "cell_type": "code",
   "execution_count": 24,
   "id": "659cc2f0-0117-4acc-a440-8f4808c2ddd1",
   "metadata": {
    "tags": []
   },
   "outputs": [
    {
     "data": {
      "text/plain": [
       "[Lemma('legato.r.01.legato')]"
      ]
     },
     "execution_count": 24,
     "metadata": {},
     "output_type": "execute_result"
    }
   ],
   "source": [
    "wordnet.lemma('staccato.r.01.staccato').antonyms()"
   ]
  },
  {
   "cell_type": "code",
   "execution_count": 26,
   "id": "67f9e4a6-aca8-40a4-ab95-4ac95d1636a2",
   "metadata": {
    "tags": []
   },
   "outputs": [],
   "source": [
    "dir(wordnet.synset('harmony.n.02'));"
   ]
  },
  {
   "cell_type": "markdown",
   "id": "f53db74e-2398-474c-a7a4-d729a3c27592",
   "metadata": {
    "tags": []
   },
   "source": [
    "#### **5.4   Semantic Similarity**"
   ]
  },
  {
   "cell_type": "code",
   "execution_count": 28,
   "id": "f0cb276a-d00d-46b6-bc74-4ff100db1656",
   "metadata": {
    "tags": []
   },
   "outputs": [
    {
     "data": {
      "text/plain": [
       "[Synset('baleen_whale.n.01')]"
      ]
     },
     "execution_count": 28,
     "metadata": {},
     "output_type": "execute_result"
    }
   ],
   "source": [
    "right = wordnet.synset('right_whale.n.01')\n",
    "orca = wordnet.synset('orca.n.01')\n",
    "minke = wordnet.synset('minke_whale.n.01')\n",
    "tortoise = wordnet.synset('tortoise.n.01')\n",
    "novel = wordnet.synset('novel.n.01')\n",
    "right.lowest_common_hypernyms(minke)"
   ]
  },
  {
   "cell_type": "code",
   "execution_count": 29,
   "id": "f31ac169-b08c-4eed-bb0a-505f5d6e24a0",
   "metadata": {
    "tags": []
   },
   "outputs": [
    {
     "data": {
      "text/plain": [
       "[Synset('whale.n.02')]"
      ]
     },
     "execution_count": 29,
     "metadata": {},
     "output_type": "execute_result"
    }
   ],
   "source": [
    "right.lowest_common_hypernyms(orca)"
   ]
  },
  {
   "cell_type": "code",
   "execution_count": 30,
   "id": "cb05e6ff-7843-4430-b547-12ba0350e377",
   "metadata": {
    "tags": []
   },
   "outputs": [
    {
     "data": {
      "text/plain": [
       "[Synset('vertebrate.n.01')]"
      ]
     },
     "execution_count": 30,
     "metadata": {},
     "output_type": "execute_result"
    }
   ],
   "source": [
    "right.lowest_common_hypernyms(tortoise)"
   ]
  },
  {
   "cell_type": "code",
   "execution_count": 31,
   "id": "79a4bf57-cfbd-4bba-a812-8cdc62abfa82",
   "metadata": {
    "tags": []
   },
   "outputs": [
    {
     "data": {
      "text/plain": [
       "[Synset('entity.n.01')]"
      ]
     },
     "execution_count": 31,
     "metadata": {},
     "output_type": "execute_result"
    }
   ],
   "source": [
    "right.lowest_common_hypernyms(novel)"
   ]
  },
  {
   "cell_type": "code",
   "execution_count": 32,
   "id": "00c28b9b-c78c-49c8-9881-00270a2676e3",
   "metadata": {
    "tags": []
   },
   "outputs": [
    {
     "data": {
      "text/plain": [
       "14"
      ]
     },
     "execution_count": 32,
     "metadata": {},
     "output_type": "execute_result"
    }
   ],
   "source": [
    "wordnet.synset('baleen_whale.n.01').min_depth()"
   ]
  },
  {
   "cell_type": "code",
   "execution_count": 33,
   "id": "f56a8b1e-a802-4ee2-8e41-22b8a0490009",
   "metadata": {
    "tags": []
   },
   "outputs": [
    {
     "data": {
      "text/plain": [
       "13"
      ]
     },
     "execution_count": 33,
     "metadata": {},
     "output_type": "execute_result"
    }
   ],
   "source": [
    "wordnet.synset('whale.n.02').min_depth()"
   ]
  },
  {
   "cell_type": "code",
   "execution_count": 34,
   "id": "3833de7a-c5b4-426f-99f2-a807eafb3391",
   "metadata": {
    "tags": []
   },
   "outputs": [
    {
     "data": {
      "text/plain": [
       "8"
      ]
     },
     "execution_count": 34,
     "metadata": {},
     "output_type": "execute_result"
    }
   ],
   "source": [
    "wordnet.synset('vertebrate.n.01').min_depth()"
   ]
  },
  {
   "cell_type": "code",
   "execution_count": 35,
   "id": "8f6623a9-68cb-411d-addf-b7a5cd462ea5",
   "metadata": {
    "tags": []
   },
   "outputs": [
    {
     "data": {
      "text/plain": [
       "0"
      ]
     },
     "execution_count": 35,
     "metadata": {},
     "output_type": "execute_result"
    }
   ],
   "source": [
    "wordnet.synset('entity.n.01').min_depth()"
   ]
  },
  {
   "cell_type": "code",
   "execution_count": 36,
   "id": "368f612d-ef5f-4a8b-91c9-df20b9fac699",
   "metadata": {
    "tags": []
   },
   "outputs": [
    {
     "data": {
      "text/plain": [
       "0.25"
      ]
     },
     "execution_count": 36,
     "metadata": {},
     "output_type": "execute_result"
    }
   ],
   "source": [
    "right.path_similarity(minke)"
   ]
  },
  {
   "cell_type": "code",
   "execution_count": 37,
   "id": "5f193627-837e-4c80-b24a-5cbdd2de359a",
   "metadata": {
    "tags": []
   },
   "outputs": [
    {
     "data": {
      "text/plain": [
       "0.16666666666666666"
      ]
     },
     "execution_count": 37,
     "metadata": {},
     "output_type": "execute_result"
    }
   ],
   "source": [
    "right.path_similarity(orca)"
   ]
  },
  {
   "cell_type": "code",
   "execution_count": 38,
   "id": "c8e03709-e973-4a30-80a0-ec320087e704",
   "metadata": {
    "tags": []
   },
   "outputs": [
    {
     "data": {
      "text/plain": [
       "0.07692307692307693"
      ]
     },
     "execution_count": 38,
     "metadata": {},
     "output_type": "execute_result"
    }
   ],
   "source": [
    "right.path_similarity(tortoise)"
   ]
  },
  {
   "cell_type": "code",
   "execution_count": 39,
   "id": "fab636dd-c2d7-4ec8-8a62-5ac2c385874b",
   "metadata": {
    "tags": []
   },
   "outputs": [
    {
     "data": {
      "text/plain": [
       "0.043478260869565216"
      ]
     },
     "execution_count": 39,
     "metadata": {},
     "output_type": "execute_result"
    }
   ],
   "source": [
    "right.path_similarity(novel)"
   ]
  },
  {
   "cell_type": "code",
   "execution_count": 44,
   "id": "c9cbc95b-bb2d-4d61-952e-657861c15e21",
   "metadata": {
    "tags": []
   },
   "outputs": [
    {
     "data": {
      "text/plain": [
       "<VerbnetCorpusReader in '.../corpora/verbnet' (not loaded yet)>"
      ]
     },
     "execution_count": 44,
     "metadata": {},
     "output_type": "execute_result"
    }
   ],
   "source": [
    "nltk.corpus.verbnet"
   ]
  },
  {
   "cell_type": "markdown",
   "id": "750e9eda-20a0-4073-8d46-0a5f89961bf5",
   "metadata": {},
   "source": [
    "## **3   Processing Raw Text**"
   ]
  },
  {
   "cell_type": "code",
   "execution_count": 1,
   "id": "a5bdbf53-2224-43cf-a212-73d49ca0560f",
   "metadata": {},
   "outputs": [],
   "source": [
    "import nltk, re, pprint\n",
    "from nltk import word_tokenize"
   ]
  },
  {
   "cell_type": "markdown",
   "id": "0eb7b6d6-8af0-4451-a10e-19087d8b231a",
   "metadata": {
    "toc-hr-collapsed": true
   },
   "source": [
    "### **3.1   Accessing Text from the Web and from Disk**"
   ]
  },
  {
   "cell_type": "markdown",
   "id": "a0cc581b-e22f-4ecf-88fd-41d865609841",
   "metadata": {},
   "source": [
    "#### **Electronic Books**"
   ]
  },
  {
   "cell_type": "code",
   "execution_count": 2,
   "id": "4291d770-1828-4630-b7fc-89ef455f9b40",
   "metadata": {
    "tags": []
   },
   "outputs": [
    {
     "data": {
      "text/plain": [
       "str"
      ]
     },
     "execution_count": 2,
     "metadata": {},
     "output_type": "execute_result"
    }
   ],
   "source": [
    "from urllib import request\n",
    "url = 'http://www.gutenberg.org/files/2554/2554-0.txt'\n",
    "response = request.urlopen(url)\n",
    "raw = response.read().decode('utf8')\n",
    "type(raw)"
   ]
  },
  {
   "cell_type": "code",
   "execution_count": 3,
   "id": "3b759ee9-53ee-41c3-855b-3649cd3998ee",
   "metadata": {
    "tags": []
   },
   "outputs": [
    {
     "data": {
      "text/plain": [
       "1176812"
      ]
     },
     "execution_count": 3,
     "metadata": {},
     "output_type": "execute_result"
    }
   ],
   "source": [
    "len(raw)"
   ]
  },
  {
   "cell_type": "code",
   "execution_count": 9,
   "id": "ad1bc74e-44ca-445a-9c65-319c585e1ab3",
   "metadata": {
    "tags": []
   },
   "outputs": [
    {
     "data": {
      "text/plain": [
       "'\\ufeffThe Project Gutenberg eBook of Crime and Punishment, by Fyodor Dostoevsky\\r\\n'"
      ]
     },
     "execution_count": 9,
     "metadata": {},
     "output_type": "execute_result"
    }
   ],
   "source": [
    "raw[: 76]"
   ]
  },
  {
   "cell_type": "code",
   "execution_count": 10,
   "id": "7365aa28-1b29-4ab4-ba60-76d790bb8000",
   "metadata": {
    "tags": []
   },
   "outputs": [
    {
     "data": {
      "text/plain": [
       "list"
      ]
     },
     "execution_count": 10,
     "metadata": {},
     "output_type": "execute_result"
    }
   ],
   "source": [
    "tokens = word_tokenize(raw)\n",
    "type(tokens)"
   ]
  },
  {
   "cell_type": "code",
   "execution_count": 11,
   "id": "1b341d6d-a9fa-4812-b501-83ac2d379e05",
   "metadata": {
    "tags": []
   },
   "outputs": [
    {
     "data": {
      "text/plain": [
       "257058"
      ]
     },
     "execution_count": 11,
     "metadata": {},
     "output_type": "execute_result"
    }
   ],
   "source": [
    "len(tokens)"
   ]
  },
  {
   "cell_type": "code",
   "execution_count": 12,
   "id": "85eb2065-324f-4baa-905f-9ffc4fb560e5",
   "metadata": {
    "tags": []
   },
   "outputs": [
    {
     "data": {
      "text/plain": [
       "['\\ufeffThe',\n",
       " 'Project',\n",
       " 'Gutenberg',\n",
       " 'eBook',\n",
       " 'of',\n",
       " 'Crime',\n",
       " 'and',\n",
       " 'Punishment',\n",
       " ',',\n",
       " 'by']"
      ]
     },
     "execution_count": 12,
     "metadata": {},
     "output_type": "execute_result"
    }
   ],
   "source": [
    "tokens[: 10]"
   ]
  },
  {
   "cell_type": "code",
   "execution_count": 13,
   "id": "83c7b6f9-f019-432f-9513-39a593a723be",
   "metadata": {
    "tags": []
   },
   "outputs": [
    {
     "data": {
      "text/plain": [
       "nltk.text.Text"
      ]
     },
     "execution_count": 13,
     "metadata": {},
     "output_type": "execute_result"
    }
   ],
   "source": [
    "text = nltk.Text(tokens)\n",
    "type(text)"
   ]
  },
  {
   "cell_type": "code",
   "execution_count": 15,
   "id": "74968948-1b4f-43f2-89e9-51e36236f0f6",
   "metadata": {
    "tags": []
   },
   "outputs": [
    {
     "data": {
      "text/plain": [
       "['insight',\n",
       " 'impresses',\n",
       " 'us',\n",
       " 'as',\n",
       " 'wisdom',\n",
       " '...',\n",
       " 'that',\n",
       " 'wisdom',\n",
       " 'of',\n",
       " 'the',\n",
       " 'heart',\n",
       " 'which',\n",
       " 'we',\n",
       " 'seek',\n",
       " 'that',\n",
       " 'we',\n",
       " 'may',\n",
       " 'learn',\n",
       " 'from',\n",
       " 'it',\n",
       " 'how',\n",
       " 'to',\n",
       " 'live',\n",
       " '.',\n",
       " 'All',\n",
       " 'his',\n",
       " 'other',\n",
       " 'gifts',\n",
       " 'came',\n",
       " 'to',\n",
       " 'him',\n",
       " 'from',\n",
       " 'nature',\n",
       " ',',\n",
       " 'this',\n",
       " 'he',\n",
       " 'won',\n",
       " 'for']"
      ]
     },
     "execution_count": 15,
     "metadata": {},
     "output_type": "execute_result"
    }
   ],
   "source": [
    "text[1024:1062]"
   ]
  },
  {
   "cell_type": "code",
   "execution_count": 16,
   "id": "0e7ee335-a93e-4bbc-9c6a-bdb0673cf2e0",
   "metadata": {
    "tags": []
   },
   "outputs": [
    {
     "name": "stdout",
     "output_type": "stream",
     "text": [
      "Katerina Ivanovna; Pyotr Petrovitch; Pulcheria Alexandrovna; Avdotya\n",
      "Romanovna; Rodion Romanovitch; Marfa Petrovna; Sofya Semyonovna; old\n",
      "woman; Project Gutenberg-tm; Porfiry Petrovitch; Amalia Ivanovna;\n",
      "great deal; young man; Nikodim Fomitch; Project Gutenberg; Ilya\n",
      "Petrovitch; Andrey Semyonovitch; Hay Market; Dmitri Prokofitch; Good\n",
      "heavens\n"
     ]
    }
   ],
   "source": [
    "text.collocations()"
   ]
  },
  {
   "cell_type": "code",
   "execution_count": 18,
   "id": "2c3f0346-3897-49be-9a4f-9c6abd850315",
   "metadata": {
    "tags": []
   },
   "outputs": [
    {
     "data": {
      "text/plain": [
       "5575"
      ]
     },
     "execution_count": 18,
     "metadata": {},
     "output_type": "execute_result"
    }
   ],
   "source": [
    "raw.find('PART I')"
   ]
  },
  {
   "cell_type": "code",
   "execution_count": 20,
   "id": "7dca287b-01be-4120-99a2-212e8af65494",
   "metadata": {
    "tags": []
   },
   "outputs": [
    {
     "data": {
      "text/plain": [
       "-1"
      ]
     },
     "execution_count": 20,
     "metadata": {},
     "output_type": "execute_result"
    }
   ],
   "source": [
    "raw.rfind(\"End of Project Gutenberg's Crime\")"
   ]
  },
  {
   "cell_type": "code",
   "execution_count": 21,
   "id": "956cf37a-9d78-4d24-9bbb-e197c4a262a5",
   "metadata": {
    "tags": []
   },
   "outputs": [
    {
     "data": {
      "text/plain": [
       "0"
      ]
     },
     "execution_count": 21,
     "metadata": {},
     "output_type": "execute_result"
    }
   ],
   "source": [
    "raw = raw[5575 : -1]\n",
    "raw.find('PART I')"
   ]
  },
  {
   "cell_type": "markdown",
   "id": "e1cee6e1-4c28-403a-99bb-20b79339fc13",
   "metadata": {},
   "source": [
    "#### **Dealing with HTML**"
   ]
  },
  {
   "cell_type": "code",
   "execution_count": 22,
   "id": "4ad71b75-e6ce-473f-be0d-7bcced5e2455",
   "metadata": {
    "tags": []
   },
   "outputs": [
    {
     "data": {
      "text/plain": [
       "'<!doctype html public \"-//W3C//DTD HTML 4.0 Transitional//EN'"
      ]
     },
     "execution_count": 22,
     "metadata": {},
     "output_type": "execute_result"
    }
   ],
   "source": [
    "url = 'http://news.bbc.co.uk/2/hi/health/2284783.stm'\n",
    "html = request.urlopen(url).read().decode('utf8')\n",
    "html[: 60]"
   ]
  },
  {
   "cell_type": "code",
   "execution_count": 26,
   "id": "94b90dae-498f-4000-8047-24231ddb17fc",
   "metadata": {
    "tags": []
   },
   "outputs": [],
   "source": [
    "from bs4 import BeautifulSoup\n",
    "raw = BeautifulSoup(html, 'html.parser').get_text()\n",
    "tokens = word_tokenize(raw)\n",
    "tokens;"
   ]
  },
  {
   "cell_type": "code",
   "execution_count": 27,
   "id": "ea2aa784-09c9-4fea-98d9-cb4cd43ff86f",
   "metadata": {
    "tags": []
   },
   "outputs": [
    {
     "name": "stdout",
     "output_type": "stream",
     "text": [
      "Displaying 5 of 5 matches:\n",
      "hey say too few people now carry the gene for blondes to last beyond the next \n",
      "blonde hair is caused by a recessive gene . In order for a child to have blond\n",
      " have blonde hair , it must have the gene on both sides of the family in the g\n",
      "ere is a disadvantage of having that gene or by chance . They do n't disappear\n",
      "des would disappear is if having the gene was a disadvantage and I do not thin\n"
     ]
    }
   ],
   "source": [
    "tokens = tokens[110 : 390]\n",
    "text = nltk.Text(tokens)\n",
    "text.concordance('gene')"
   ]
  },
  {
   "cell_type": "markdown",
   "id": "d9fb4d27-cba7-4987-b0aa-1689e8a37b5c",
   "metadata": {},
   "source": [
    "#### **Processing Search Engine Results**"
   ]
  },
  {
   "cell_type": "markdown",
   "id": "0f339aac-0906-4d9b-b69e-cf38fbb83c48",
   "metadata": {},
   "source": [
    "#### **Processing RSS Feeds**"
   ]
  },
  {
   "cell_type": "code",
   "execution_count": 30,
   "id": "31093faa-a3ab-4ad9-b092-d9614b708114",
   "metadata": {
    "tags": []
   },
   "outputs": [
    {
     "data": {
      "text/plain": [
       "'Language Log'"
      ]
     },
     "execution_count": 30,
     "metadata": {},
     "output_type": "execute_result"
    }
   ],
   "source": [
    "import feedparser\n",
    "llog = feedparser.parse('http://languagelog.ldc.upenn.edu/nll/?feed=atom')\n",
    "llog['feed']['title']"
   ]
  },
  {
   "cell_type": "code",
   "execution_count": 31,
   "id": "224bf1f2-dab8-472b-92b2-1fae6c8b454f",
   "metadata": {
    "tags": []
   },
   "outputs": [
    {
     "data": {
      "text/plain": [
       "13"
      ]
     },
     "execution_count": 31,
     "metadata": {},
     "output_type": "execute_result"
    }
   ],
   "source": [
    "len(llog.entries)"
   ]
  },
  {
   "cell_type": "code",
   "execution_count": 32,
   "id": "796f5c1d-7579-443b-971a-07ee4d4e3a6e",
   "metadata": {
    "tags": []
   },
   "outputs": [
    {
     "data": {
      "text/plain": [
       "'Lecture on the anatomical origins of language'"
      ]
     },
     "execution_count": 32,
     "metadata": {},
     "output_type": "execute_result"
    }
   ],
   "source": [
    "post = llog.entries[2]\n",
    "post.title"
   ]
  },
  {
   "cell_type": "code",
   "execution_count": 33,
   "id": "6d51ca9e-14c6-426d-92ef-88f4aea582f1",
   "metadata": {
    "tags": []
   },
   "outputs": [
    {
     "data": {
      "text/plain": [
       "'<p>[Please read all the way to the bottom of this post.\\xa0 There are som'"
      ]
     },
     "execution_count": 33,
     "metadata": {},
     "output_type": "execute_result"
    }
   ],
   "source": [
    "content = post.content[0].value\n",
    "content[: 70]"
   ]
  },
  {
   "cell_type": "code",
   "execution_count": 35,
   "id": "854efae8-712f-4438-8079-1af6f84425ee",
   "metadata": {
    "tags": []
   },
   "outputs": [],
   "source": [
    "raw = BeautifulSoup(content, 'html.parser').get_text()\n",
    "word_tokenize(raw);"
   ]
  },
  {
   "cell_type": "markdown",
   "id": "bba5f334-306d-4343-b141-3d97276e4ddf",
   "metadata": {},
   "source": [
    "#### **Reading Local Files**"
   ]
  },
  {
   "cell_type": "code",
   "execution_count": 36,
   "id": "442f449a-2de3-48b2-a324-1df6916e00b2",
   "metadata": {
    "tags": []
   },
   "outputs": [
    {
     "ename": "FileNotFoundError",
     "evalue": "[Errno 2] No such file or directory: 'document.txt'",
     "output_type": "error",
     "traceback": [
      "\u001b[0;31m---------------------------------------------------------------------------\u001b[0m",
      "\u001b[0;31mFileNotFoundError\u001b[0m                         Traceback (most recent call last)",
      "Cell \u001b[0;32mIn[36], line 1\u001b[0m\n\u001b[0;32m----> 1\u001b[0m f \u001b[38;5;241m=\u001b[39m \u001b[38;5;28;43mopen\u001b[39;49m\u001b[43m(\u001b[49m\u001b[38;5;124;43m'\u001b[39;49m\u001b[38;5;124;43mdocument.txt\u001b[39;49m\u001b[38;5;124;43m'\u001b[39;49m\u001b[43m)\u001b[49m\n",
      "File \u001b[0;32m/usr/local/lib/python3.10/dist-packages/IPython/core/interactiveshell.py:282\u001b[0m, in \u001b[0;36m_modified_open\u001b[0;34m(file, *args, **kwargs)\u001b[0m\n\u001b[1;32m    275\u001b[0m \u001b[38;5;28;01mif\u001b[39;00m file \u001b[38;5;129;01min\u001b[39;00m {\u001b[38;5;241m0\u001b[39m, \u001b[38;5;241m1\u001b[39m, \u001b[38;5;241m2\u001b[39m}:\n\u001b[1;32m    276\u001b[0m     \u001b[38;5;28;01mraise\u001b[39;00m \u001b[38;5;167;01mValueError\u001b[39;00m(\n\u001b[1;32m    277\u001b[0m         \u001b[38;5;124mf\u001b[39m\u001b[38;5;124m\"\u001b[39m\u001b[38;5;124mIPython won\u001b[39m\u001b[38;5;124m'\u001b[39m\u001b[38;5;124mt let you open fd=\u001b[39m\u001b[38;5;132;01m{\u001b[39;00mfile\u001b[38;5;132;01m}\u001b[39;00m\u001b[38;5;124m by default \u001b[39m\u001b[38;5;124m\"\u001b[39m\n\u001b[1;32m    278\u001b[0m         \u001b[38;5;124m\"\u001b[39m\u001b[38;5;124mas it is likely to crash IPython. If you know what you are doing, \u001b[39m\u001b[38;5;124m\"\u001b[39m\n\u001b[1;32m    279\u001b[0m         \u001b[38;5;124m\"\u001b[39m\u001b[38;5;124myou can use builtins\u001b[39m\u001b[38;5;124m'\u001b[39m\u001b[38;5;124m open.\u001b[39m\u001b[38;5;124m\"\u001b[39m\n\u001b[1;32m    280\u001b[0m     )\n\u001b[0;32m--> 282\u001b[0m \u001b[38;5;28;01mreturn\u001b[39;00m \u001b[43mio_open\u001b[49m\u001b[43m(\u001b[49m\u001b[43mfile\u001b[49m\u001b[43m,\u001b[49m\u001b[43m \u001b[49m\u001b[38;5;241;43m*\u001b[39;49m\u001b[43margs\u001b[49m\u001b[43m,\u001b[49m\u001b[43m \u001b[49m\u001b[38;5;241;43m*\u001b[39;49m\u001b[38;5;241;43m*\u001b[39;49m\u001b[43mkwargs\u001b[49m\u001b[43m)\u001b[49m\n",
      "\u001b[0;31mFileNotFoundError\u001b[0m: [Errno 2] No such file or directory: 'document.txt'"
     ]
    }
   ],
   "source": [
    "f = open('document.txt')"
   ]
  },
  {
   "cell_type": "code",
   "execution_count": 37,
   "id": "ce73925c-a93a-4c80-a91e-60edb6d70181",
   "metadata": {
    "tags": []
   },
   "outputs": [
    {
     "data": {
      "text/plain": [
       "['text_proc.py',\n",
       " 'temperature_tapiola_dec.png',\n",
       " 'Python for Scientific Computing.ipynb',\n",
       " 'sine.txt',\n",
       " '__pycache__',\n",
       " 'temperature_tapiola.png',\n",
       " 'dataset.feather',\n",
       " 'weather_observations.py',\n",
       " 'LICENSE',\n",
       " 'NLTK.ipynb',\n",
       " 'data_array.csv',\n",
       " 'README.md',\n",
       " 'sqrt2.csv',\n",
       " 'data.txt',\n",
       " 'catfacts.jsonl',\n",
       " '2.png',\n",
       " 'OOP_Digitalent_ProA_1_4.ipynb',\n",
       " 'pyproject.toml',\n",
       " '.git',\n",
       " 'data_array.npy',\n",
       " '3.png',\n",
       " 'data_array.h5',\n",
       " '1.png',\n",
       " 'dataset.csv',\n",
       " 'my-first-plot.png',\n",
       " 'NN.ipynb',\n",
       " 'laureate.csv',\n",
       " 'monty.py',\n",
       " 'calculator',\n",
       " '.ipynb_checkpoints',\n",
       " 'temperature_cairo.png',\n",
       " 'data_array.npz',\n",
       " 'dataset.parquet',\n",
       " 'exercise-plot.png',\n",
       " 'data_array.nc',\n",
       " 'module3.ipynb',\n",
       " '0100021.txt',\n",
       " 'example.py',\n",
       " 'module1',\n",
       " 'dataset.h5',\n",
       " 'dataset.nc',\n",
       " 'x.npy',\n",
       " 'module2.ipynb',\n",
       " 'data_array.pickle',\n",
       " 'string.pickle',\n",
       " 'aritmatika.py',\n",
       " 'requirements.txt',\n",
       " 'weather_observations.ipynb',\n",
       " 'temperature_tapiola_feb.png',\n",
       " 'weather.png',\n",
       " 'spring_in_tapiola.png',\n",
       " 'dataset.json']"
      ]
     },
     "execution_count": 37,
     "metadata": {},
     "output_type": "execute_result"
    }
   ],
   "source": [
    "import os\n",
    "os.listdir('.')"
   ]
  },
  {
   "cell_type": "code",
   "execution_count": 46,
   "id": "46eb52c7-260b-4384-9ed4-179713d91294",
   "metadata": {
    "tags": []
   },
   "outputs": [],
   "source": [
    "f = open('document.txt', 'rU')"
   ]
  },
  {
   "cell_type": "code",
   "execution_count": 47,
   "id": "57f67194-71cf-4500-a2c3-e2f4e359b6d8",
   "metadata": {
    "tags": []
   },
   "outputs": [
    {
     "data": {
      "text/plain": [
       "'Time flies like an arrow.\\nFruit flies like a banana.\\n'"
      ]
     },
     "execution_count": 47,
     "metadata": {},
     "output_type": "execute_result"
    }
   ],
   "source": [
    "f.read()"
   ]
  },
  {
   "cell_type": "code",
   "execution_count": 49,
   "id": "2f9d04e7-17ba-422f-b0d6-84aeedccbf29",
   "metadata": {
    "tags": []
   },
   "outputs": [
    {
     "name": "stdout",
     "output_type": "stream",
     "text": [
      "Time flies like an arrow.\n",
      "Fruit flies like a banana.\n"
     ]
    }
   ],
   "source": [
    "f = open('document.txt', 'rU')\n",
    "for line in f:\n",
    "    print(line.strip())"
   ]
  },
  {
   "cell_type": "code",
   "execution_count": 50,
   "id": "ef96bc34-fa86-4fbf-8106-6ea77f24342b",
   "metadata": {
    "tags": []
   },
   "outputs": [],
   "source": [
    "path = nltk.data.find('corpora/gutenberg/melville-moby_dick.txt')\n",
    "raw = open(path, 'rU').read()"
   ]
  },
  {
   "cell_type": "markdown",
   "id": "84a30fca-1704-4871-b7ed-453b9ad825b7",
   "metadata": {},
   "source": [
    "#### **Extracting Text from PDF, MSWord and other Binary Formats**"
   ]
  },
  {
   "cell_type": "markdown",
   "id": "c6a4aa50-560b-4bb4-a27c-0f360ede22df",
   "metadata": {},
   "source": [
    "#### **Capturing User Input**"
   ]
  },
  {
   "cell_type": "code",
   "execution_count": 51,
   "id": "99376b6f-3092-4ed7-927a-b9f4a5d3150a",
   "metadata": {
    "tags": []
   },
   "outputs": [
    {
     "name": "stdin",
     "output_type": "stream",
     "text": [
      "Enter some text: On an exceptionally hot evening early in July\n"
     ]
    }
   ],
   "source": [
    "s = input('Enter some text:')"
   ]
  },
  {
   "cell_type": "code",
   "execution_count": 52,
   "id": "43d06eec-4fce-4958-b5b9-436da8ee1327",
   "metadata": {
    "tags": []
   },
   "outputs": [
    {
     "name": "stdout",
     "output_type": "stream",
     "text": [
      "You typed 8 words.\n"
     ]
    }
   ],
   "source": [
    "print('You typed', len(word_tokenize(s)), 'words.')"
   ]
  },
  {
   "cell_type": "markdown",
   "id": "fc180c25-427a-4cb2-89d7-2699b0c2a953",
   "metadata": {},
   "source": [
    "#### **The NLP Pipeline**"
   ]
  },
  {
   "cell_type": "markdown",
   "id": "c0f82e7d-596f-4929-b023-34bd6a6b0c13",
   "metadata": {},
   "source": [
    "![image](https://www.nltk.org/images/pipeline1.png)"
   ]
  },
  {
   "cell_type": "code",
   "execution_count": 53,
   "id": "de07c618-a524-451f-a2ae-b23566ced07c",
   "metadata": {
    "tags": []
   },
   "outputs": [
    {
     "data": {
      "text/plain": [
       "int"
      ]
     },
     "execution_count": 53,
     "metadata": {},
     "output_type": "execute_result"
    }
   ],
   "source": [
    "type(1)"
   ]
  },
  {
   "cell_type": "code",
   "execution_count": 55,
   "id": "f2487a22-34e1-4a86-9b0a-57924f7e3d7b",
   "metadata": {
    "tags": []
   },
   "outputs": [
    {
     "data": {
      "text/plain": [
       "str"
      ]
     },
     "execution_count": 55,
     "metadata": {},
     "output_type": "execute_result"
    }
   ],
   "source": [
    "raw = open('document.txt').read()\n",
    "type(raw)"
   ]
  },
  {
   "cell_type": "code",
   "execution_count": 56,
   "id": "33755f73-b8b5-4ec5-94ba-4e3c65413b2d",
   "metadata": {
    "tags": []
   },
   "outputs": [
    {
     "data": {
      "text/plain": [
       "list"
      ]
     },
     "execution_count": 56,
     "metadata": {},
     "output_type": "execute_result"
    }
   ],
   "source": [
    "tokens = word_tokenize(raw)\n",
    "type(tokens)"
   ]
  },
  {
   "cell_type": "code",
   "execution_count": 57,
   "id": "bf4dfc01-d966-4f99-ae0a-281602c6961b",
   "metadata": {
    "tags": []
   },
   "outputs": [
    {
     "data": {
      "text/plain": [
       "list"
      ]
     },
     "execution_count": 57,
     "metadata": {},
     "output_type": "execute_result"
    }
   ],
   "source": [
    "words = [w.lower() for w in tokens]\n",
    "type(words)"
   ]
  },
  {
   "cell_type": "code",
   "execution_count": 58,
   "id": "4d0bcc85-076d-43c2-a25d-de402a789a66",
   "metadata": {
    "tags": []
   },
   "outputs": [
    {
     "data": {
      "text/plain": [
       "list"
      ]
     },
     "execution_count": 58,
     "metadata": {},
     "output_type": "execute_result"
    }
   ],
   "source": [
    "vocab = sorted(set(words))\n",
    "type(vocab)"
   ]
  },
  {
   "cell_type": "code",
   "execution_count": 60,
   "id": "1a92b2a7-6d00-4040-8da4-63a66d0604a1",
   "metadata": {
    "tags": []
   },
   "outputs": [
    {
     "ename": "AttributeError",
     "evalue": "'str' object has no attribute 'append'",
     "output_type": "error",
     "traceback": [
      "\u001b[0;31m---------------------------------------------------------------------------\u001b[0m",
      "\u001b[0;31mAttributeError\u001b[0m                            Traceback (most recent call last)",
      "Cell \u001b[0;32mIn[60], line 2\u001b[0m\n\u001b[1;32m      1\u001b[0m vocab\u001b[38;5;241m.\u001b[39mappend(\u001b[38;5;124m'\u001b[39m\u001b[38;5;124mblog\u001b[39m\u001b[38;5;124m'\u001b[39m)\n\u001b[0;32m----> 2\u001b[0m \u001b[43mraw\u001b[49m\u001b[38;5;241;43m.\u001b[39;49m\u001b[43mappend\u001b[49m(\u001b[38;5;124m'\u001b[39m\u001b[38;5;124mblog\u001b[39m\u001b[38;5;124m'\u001b[39m)\n",
      "\u001b[0;31mAttributeError\u001b[0m: 'str' object has no attribute 'append'"
     ]
    }
   ],
   "source": [
    "vocab.append('blog')\n",
    "raw.append('blog')"
   ]
  },
  {
   "cell_type": "code",
   "execution_count": 61,
   "id": "aac8ba6c-558b-4e68-9757-78559848c9ad",
   "metadata": {
    "tags": []
   },
   "outputs": [
    {
     "ename": "TypeError",
     "evalue": "can only concatenate str (not \"list\") to str",
     "output_type": "error",
     "traceback": [
      "\u001b[0;31m---------------------------------------------------------------------------\u001b[0m",
      "\u001b[0;31mTypeError\u001b[0m                                 Traceback (most recent call last)",
      "Cell \u001b[0;32mIn[61], line 3\u001b[0m\n\u001b[1;32m      1\u001b[0m query \u001b[38;5;241m=\u001b[39m \u001b[38;5;124m'\u001b[39m\u001b[38;5;124mWho knows?\u001b[39m\u001b[38;5;124m'\u001b[39m\n\u001b[1;32m      2\u001b[0m beatles \u001b[38;5;241m=\u001b[39m [\u001b[38;5;124m'\u001b[39m\u001b[38;5;124mjohn\u001b[39m\u001b[38;5;124m'\u001b[39m, \u001b[38;5;124m'\u001b[39m\u001b[38;5;124mpaul\u001b[39m\u001b[38;5;124m'\u001b[39m, \u001b[38;5;124m'\u001b[39m\u001b[38;5;124mgeorge\u001b[39m\u001b[38;5;124m'\u001b[39m, \u001b[38;5;124m'\u001b[39m\u001b[38;5;124mringo\u001b[39m\u001b[38;5;124m'\u001b[39m]\n\u001b[0;32m----> 3\u001b[0m \u001b[43mquery\u001b[49m\u001b[43m \u001b[49m\u001b[38;5;241;43m+\u001b[39;49m\u001b[43m \u001b[49m\u001b[43mbeatles\u001b[49m\n",
      "\u001b[0;31mTypeError\u001b[0m: can only concatenate str (not \"list\") to str"
     ]
    }
   ],
   "source": [
    "query = 'Who knows?'\n",
    "beatles = ['john', 'paul', 'george', 'ringo']\n",
    "query + beatles"
   ]
  },
  {
   "cell_type": "markdown",
   "id": "14fb6579-2ada-418a-9bfd-ca5e8328b7b1",
   "metadata": {
    "toc-hr-collapsed": true
   },
   "source": [
    "### **3.2   Strings: Text Processing at the Lowest Level**"
   ]
  },
  {
   "cell_type": "markdown",
   "id": "ae423063-05dd-43ab-b9be-e9c00eae5c69",
   "metadata": {},
   "source": [
    "#### **Basic Operations with Strings**"
   ]
  },
  {
   "cell_type": "code",
   "execution_count": 18,
   "id": "c11764a2-4c68-4d98-950b-fb9489ee66a0",
   "metadata": {
    "tags": []
   },
   "outputs": [
    {
     "data": {
      "text/plain": [
       "'Monty Python'"
      ]
     },
     "execution_count": 18,
     "metadata": {},
     "output_type": "execute_result"
    }
   ],
   "source": [
    "monty = 'Monty Python'\n",
    "monty"
   ]
  },
  {
   "cell_type": "code",
   "execution_count": 3,
   "id": "af18db8e-ff05-4723-85c7-279d4a9b80d3",
   "metadata": {
    "tags": []
   },
   "outputs": [
    {
     "data": {
      "text/plain": [
       "\"Monty Python's Flying Circus\""
      ]
     },
     "execution_count": 3,
     "metadata": {},
     "output_type": "execute_result"
    }
   ],
   "source": [
    "circus = \"Monty Python's Flying Circus\"\n",
    "circus"
   ]
  },
  {
   "cell_type": "code",
   "execution_count": 4,
   "id": "a674347c-2ef2-4477-8cb2-f47c52d170c7",
   "metadata": {
    "tags": []
   },
   "outputs": [
    {
     "data": {
      "text/plain": [
       "\"Monty Python's Flying Circus\""
      ]
     },
     "execution_count": 4,
     "metadata": {},
     "output_type": "execute_result"
    }
   ],
   "source": [
    "circus = 'Monty Python\\'s Flying Circus'\n",
    "circus"
   ]
  },
  {
   "cell_type": "code",
   "execution_count": 5,
   "id": "fbb2da51-7a4a-49d4-8be5-b2364ceb9835",
   "metadata": {
    "tags": []
   },
   "outputs": [
    {
     "ename": "SyntaxError",
     "evalue": "unterminated string literal (detected at line 1) (3200765249.py, line 1)",
     "output_type": "error",
     "traceback": [
      "\u001b[0;36m  Cell \u001b[0;32mIn[5], line 1\u001b[0;36m\u001b[0m\n\u001b[0;31m    circus = 'Monty Python's Flying Circus'\u001b[0m\n\u001b[0m                                          ^\u001b[0m\n\u001b[0;31mSyntaxError\u001b[0m\u001b[0;31m:\u001b[0m unterminated string literal (detected at line 1)\n"
     ]
    }
   ],
   "source": [
    "circus = 'Monty Python's Flying Circus'"
   ]
  },
  {
   "cell_type": "code",
   "execution_count": 8,
   "id": "81573b2d-141c-4431-a923-48cedd7e14e7",
   "metadata": {},
   "outputs": [
    {
     "name": "stdout",
     "output_type": "stream",
     "text": [
      "Shall I compare thee to a Summer's day?Thou are more lovely and more temperate:\n"
     ]
    }
   ],
   "source": [
    "couplet = \"Shall I compare thee to a Summer's day?\"\\\n",
    "...           \"Thou are more lovely and more temperate:\"\n",
    "print(couplet)"
   ]
  },
  {
   "cell_type": "code",
   "execution_count": 9,
   "id": "f3e6b32e-7d24-4034-a0e8-2ae5c3f49471",
   "metadata": {
    "tags": []
   },
   "outputs": [
    {
     "name": "stdout",
     "output_type": "stream",
     "text": [
      "Rough winds do shake the darling buds of May,And Summer's lease hath all too short a date:\n"
     ]
    }
   ],
   "source": [
    "couplet = (\"Rough winds do shake the darling buds of May,\"\n",
    "...           \"And Summer's lease hath all too short a date:\")\n",
    "print(couplet)"
   ]
  },
  {
   "cell_type": "code",
   "execution_count": 10,
   "id": "6a120442-406f-4daf-ac9c-0ea085654371",
   "metadata": {
    "tags": []
   },
   "outputs": [
    {
     "name": "stdout",
     "output_type": "stream",
     "text": [
      "Shall I compare thee to a Summer's day?\n",
      "Thou are more lovely and more temperate:\n"
     ]
    }
   ],
   "source": [
    "couplet = \"\"\"Shall I compare thee to a Summer's day?\n",
    "... Thou are more lovely and more temperate:\"\"\"\n",
    "print(couplet)"
   ]
  },
  {
   "cell_type": "code",
   "execution_count": 11,
   "id": "f586eeba-602a-4410-a3d5-803d0d081475",
   "metadata": {
    "tags": []
   },
   "outputs": [
    {
     "name": "stdout",
     "output_type": "stream",
     "text": [
      "Rough winds do shake the darling buds of May,\n",
      "And Summer's lease hath all too short a date:\n"
     ]
    }
   ],
   "source": [
    "couplet = '''Rough winds do shake the darling buds of May,\n",
    "... And Summer's lease hath all too short a date:'''\n",
    "print(couplet)"
   ]
  },
  {
   "cell_type": "code",
   "execution_count": 12,
   "id": "7575f307-87aa-48cf-9c01-13f07d93606f",
   "metadata": {
    "tags": []
   },
   "outputs": [
    {
     "data": {
      "text/plain": [
       "'veryveryvery'"
      ]
     },
     "execution_count": 12,
     "metadata": {},
     "output_type": "execute_result"
    }
   ],
   "source": [
    "'very' + 'very' + 'very'"
   ]
  },
  {
   "cell_type": "code",
   "execution_count": 13,
   "id": "4b9b4857-5ca7-43c7-b9ba-809c34ce38e0",
   "metadata": {
    "tags": []
   },
   "outputs": [
    {
     "data": {
      "text/plain": [
       "'veryveryvery'"
      ]
     },
     "execution_count": 13,
     "metadata": {},
     "output_type": "execute_result"
    }
   ],
   "source": [
    "'very' * 3"
   ]
  },
  {
   "cell_type": "code",
   "execution_count": 14,
   "id": "5b0cce2b-dbf2-4720-bd52-827892b7b381",
   "metadata": {
    "tags": []
   },
   "outputs": [
    {
     "name": "stdout",
     "output_type": "stream",
     "text": [
      "            very\n",
      "          veryvery\n",
      "        veryveryvery\n",
      "      veryveryveryvery\n",
      "    veryveryveryveryvery\n",
      "  veryveryveryveryveryvery\n",
      "veryveryveryveryveryveryvery\n",
      "  veryveryveryveryveryvery\n",
      "    veryveryveryveryvery\n",
      "      veryveryveryvery\n",
      "        veryveryvery\n",
      "          veryvery\n",
      "            very\n"
     ]
    }
   ],
   "source": [
    "a = [1, 2, 3, 4, 5, 6, 7, 6, 5, 4, 3, 2, 1]\n",
    "b = [' ' * 2 * (7 - i) + 'very' * i for i in a]\n",
    "for line in b:\n",
    "    print(line)"
   ]
  },
  {
   "cell_type": "code",
   "execution_count": 15,
   "id": "7078e849-574c-4e8a-9de8-3f4d19d57de8",
   "metadata": {
    "tags": []
   },
   "outputs": [
    {
     "ename": "TypeError",
     "evalue": "unsupported operand type(s) for -: 'str' and 'str'",
     "output_type": "error",
     "traceback": [
      "\u001b[0;31m---------------------------------------------------------------------------\u001b[0m",
      "\u001b[0;31mTypeError\u001b[0m                                 Traceback (most recent call last)",
      "Cell \u001b[0;32mIn[15], line 1\u001b[0m\n\u001b[0;32m----> 1\u001b[0m \u001b[38;5;124;43m'\u001b[39;49m\u001b[38;5;124;43mvery\u001b[39;49m\u001b[38;5;124;43m'\u001b[39;49m\u001b[43m \u001b[49m\u001b[38;5;241;43m-\u001b[39;49m\u001b[43m \u001b[49m\u001b[38;5;124;43m'\u001b[39;49m\u001b[38;5;124;43my\u001b[39;49m\u001b[38;5;124;43m'\u001b[39;49m\n",
      "\u001b[0;31mTypeError\u001b[0m: unsupported operand type(s) for -: 'str' and 'str'"
     ]
    }
   ],
   "source": [
    "'very' - 'y'"
   ]
  },
  {
   "cell_type": "code",
   "execution_count": 16,
   "id": "a93aa9b9-d695-454f-8871-c3b135ac4e8f",
   "metadata": {
    "tags": []
   },
   "outputs": [
    {
     "ename": "TypeError",
     "evalue": "unsupported operand type(s) for /: 'str' and 'int'",
     "output_type": "error",
     "traceback": [
      "\u001b[0;31m---------------------------------------------------------------------------\u001b[0m",
      "\u001b[0;31mTypeError\u001b[0m                                 Traceback (most recent call last)",
      "Cell \u001b[0;32mIn[16], line 1\u001b[0m\n\u001b[0;32m----> 1\u001b[0m \u001b[38;5;124;43m'\u001b[39;49m\u001b[38;5;124;43mvery\u001b[39;49m\u001b[38;5;124;43m'\u001b[39;49m\u001b[43m \u001b[49m\u001b[38;5;241;43m/\u001b[39;49m\u001b[43m \u001b[49m\u001b[38;5;241;43m2\u001b[39;49m\n",
      "\u001b[0;31mTypeError\u001b[0m: unsupported operand type(s) for /: 'str' and 'int'"
     ]
    }
   ],
   "source": [
    "'very' / 2"
   ]
  },
  {
   "cell_type": "markdown",
   "id": "7b606891-7092-4f89-bdb2-908b32705d4e",
   "metadata": {},
   "source": [
    "#### **Printing Strings**"
   ]
  },
  {
   "cell_type": "code",
   "execution_count": 19,
   "id": "86339cc3-57a7-4dbb-81a1-512e5a34b0fb",
   "metadata": {
    "tags": []
   },
   "outputs": [
    {
     "name": "stdout",
     "output_type": "stream",
     "text": [
      "Monty Python\n"
     ]
    }
   ],
   "source": [
    "print(monty)"
   ]
  },
  {
   "cell_type": "code",
   "execution_count": 20,
   "id": "2a0dbaf1-49e3-4623-862a-f12d8ea7ee9c",
   "metadata": {
    "tags": []
   },
   "outputs": [
    {
     "name": "stdout",
     "output_type": "stream",
     "text": [
      "Monty PythonHoly Grail\n"
     ]
    }
   ],
   "source": [
    "grail = 'Holy Grail'\n",
    "print(monty + grail)"
   ]
  },
  {
   "cell_type": "code",
   "execution_count": 21,
   "id": "3ba07096-daf0-477d-b385-fd3586f02639",
   "metadata": {
    "tags": []
   },
   "outputs": [
    {
     "name": "stdout",
     "output_type": "stream",
     "text": [
      "Monty Python Holy Grail\n"
     ]
    }
   ],
   "source": [
    "print(monty, grail)"
   ]
  },
  {
   "cell_type": "code",
   "execution_count": 22,
   "id": "6c9332f6-73db-49a1-91bf-9c98c0eac664",
   "metadata": {
    "tags": []
   },
   "outputs": [
    {
     "name": "stdout",
     "output_type": "stream",
     "text": [
      "Monty Python and the Holy Grail\n"
     ]
    }
   ],
   "source": [
    "print(monty, 'and the', grail)"
   ]
  },
  {
   "cell_type": "markdown",
   "id": "e095982a-e274-46d2-ab1d-a2bba169862a",
   "metadata": {},
   "source": [
    "#### **Accessing Individual Characters**"
   ]
  },
  {
   "cell_type": "code",
   "execution_count": 23,
   "id": "c537b36d-7d24-44d5-a571-234efa00b333",
   "metadata": {
    "tags": []
   },
   "outputs": [
    {
     "data": {
      "text/plain": [
       "'M'"
      ]
     },
     "execution_count": 23,
     "metadata": {},
     "output_type": "execute_result"
    }
   ],
   "source": [
    "monty[0]"
   ]
  },
  {
   "cell_type": "code",
   "execution_count": 24,
   "id": "92e6d765-2870-4cdb-9203-2b981fb014a4",
   "metadata": {
    "tags": []
   },
   "outputs": [
    {
     "data": {
      "text/plain": [
       "'t'"
      ]
     },
     "execution_count": 24,
     "metadata": {},
     "output_type": "execute_result"
    }
   ],
   "source": [
    "monty[3]"
   ]
  },
  {
   "cell_type": "code",
   "execution_count": 25,
   "id": "7e63ac11-8784-42ae-8800-914dd485296d",
   "metadata": {
    "tags": []
   },
   "outputs": [
    {
     "data": {
      "text/plain": [
       "' '"
      ]
     },
     "execution_count": 25,
     "metadata": {},
     "output_type": "execute_result"
    }
   ],
   "source": [
    "monty[5]"
   ]
  },
  {
   "cell_type": "code",
   "execution_count": 26,
   "id": "74e9640e-ea45-4836-a71d-d6df09e073f1",
   "metadata": {
    "tags": []
   },
   "outputs": [
    {
     "ename": "IndexError",
     "evalue": "string index out of range",
     "output_type": "error",
     "traceback": [
      "\u001b[0;31m---------------------------------------------------------------------------\u001b[0m",
      "\u001b[0;31mIndexError\u001b[0m                                Traceback (most recent call last)",
      "Cell \u001b[0;32mIn[26], line 1\u001b[0m\n\u001b[0;32m----> 1\u001b[0m \u001b[43mmonty\u001b[49m\u001b[43m[\u001b[49m\u001b[38;5;241;43m20\u001b[39;49m\u001b[43m]\u001b[49m\n",
      "\u001b[0;31mIndexError\u001b[0m: string index out of range"
     ]
    }
   ],
   "source": [
    "monty[20]"
   ]
  },
  {
   "cell_type": "code",
   "execution_count": 27,
   "id": "70b1f80d-ab59-4c08-8ba0-e8d8efaaf827",
   "metadata": {
    "tags": []
   },
   "outputs": [
    {
     "data": {
      "text/plain": [
       "'n'"
      ]
     },
     "execution_count": 27,
     "metadata": {},
     "output_type": "execute_result"
    }
   ],
   "source": [
    "monty[-1]"
   ]
  },
  {
   "cell_type": "code",
   "execution_count": 28,
   "id": "985b513c-8679-4c3e-973f-4936c671ce97",
   "metadata": {
    "tags": []
   },
   "outputs": [
    {
     "data": {
      "text/plain": [
       "' '"
      ]
     },
     "execution_count": 28,
     "metadata": {},
     "output_type": "execute_result"
    }
   ],
   "source": [
    "monty[5]"
   ]
  },
  {
   "cell_type": "code",
   "execution_count": 29,
   "id": "abf1b9e6-cbee-40af-af89-25592179d6ab",
   "metadata": {
    "tags": []
   },
   "outputs": [
    {
     "data": {
      "text/plain": [
       "' '"
      ]
     },
     "execution_count": 29,
     "metadata": {},
     "output_type": "execute_result"
    }
   ],
   "source": [
    "monty[-7]"
   ]
  },
  {
   "cell_type": "code",
   "execution_count": 30,
   "id": "7daa149c-fa07-436b-a16b-f19a3c5c58cd",
   "metadata": {
    "tags": []
   },
   "outputs": [
    {
     "name": "stdout",
     "output_type": "stream",
     "text": [
      "c o l o r l e s s   g r e e n   i d e a s   s l e e p   f u r i o u s l y "
     ]
    }
   ],
   "source": [
    "sent = 'colorless green ideas sleep furiously'\n",
    "for char in sent:\n",
    "    print(char, end=' ')"
   ]
  },
  {
   "cell_type": "code",
   "execution_count": 31,
   "id": "62938ff8-e10e-4632-be6d-dbb3995fae3d",
   "metadata": {
    "tags": []
   },
   "outputs": [
    {
     "data": {
      "text/plain": [
       "[('e', 117092), ('t', 87996), ('a', 77916), ('o', 69326), ('n', 65617)]"
      ]
     },
     "execution_count": 31,
     "metadata": {},
     "output_type": "execute_result"
    }
   ],
   "source": [
    "from nltk.corpus import gutenberg\n",
    "raw = gutenberg.raw('melville-moby_dick.txt')\n",
    "fdist = nltk.FreqDist(ch.lower() for ch in raw if ch.isalpha())\n",
    "fdist.most_common(5)"
   ]
  },
  {
   "cell_type": "code",
   "execution_count": 32,
   "id": "80bbc37e-022d-42f2-90e0-f2bcdc6d2116",
   "metadata": {
    "tags": []
   },
   "outputs": [
    {
     "data": {
      "text/plain": [
       "['e',\n",
       " 't',\n",
       " 'a',\n",
       " 'o',\n",
       " 'n',\n",
       " 'i',\n",
       " 's',\n",
       " 'h',\n",
       " 'r',\n",
       " 'l',\n",
       " 'd',\n",
       " 'u',\n",
       " 'm',\n",
       " 'c',\n",
       " 'w',\n",
       " 'f',\n",
       " 'g',\n",
       " 'p',\n",
       " 'b',\n",
       " 'y',\n",
       " 'v',\n",
       " 'k',\n",
       " 'q',\n",
       " 'j',\n",
       " 'x',\n",
       " 'z']"
      ]
     },
     "execution_count": 32,
     "metadata": {},
     "output_type": "execute_result"
    }
   ],
   "source": [
    "[char for (char, count) in fdist.most_common()]"
   ]
  },
  {
   "cell_type": "code",
   "execution_count": 33,
   "id": "11d89b6c-125a-4b1c-ba58-3cf6116b5425",
   "metadata": {
    "tags": []
   },
   "outputs": [
    {
     "data": {
      "image/png": "[encoded data removed]",
      "text/plain": [
       "<Figure size 640x480 with 1 Axes>"
      ]
     },
     "metadata": {},
     "output_type": "display_data"
    },
    {
     "data": {
      "text/plain": [
       "<Axes: xlabel='Samples', ylabel='Counts'>"
      ]
     },
     "execution_count": 33,
     "metadata": {},
     "output_type": "execute_result"
    }
   ],
   "source": [
    "fdist.plot()"
   ]
  },
  {
   "cell_type": "markdown",
   "id": "13f147b9-28a4-41ef-bb63-78858e73a3bc",
   "metadata": {},
   "source": [
    "#### **Accessing Substrings**"
   ]
  },
  {
   "cell_type": "markdown",
   "id": "5f846381-4625-4910-89a4-8988f1350be8",
   "metadata": {},
   "source": [
    "![image](https://www.nltk.org/images/string-slicing.png)"
   ]
  },
  {
   "cell_type": "code",
   "execution_count": 34,
   "id": "189e3334-a6e5-40ac-8b02-9e96bf5e00ea",
   "metadata": {
    "tags": []
   },
   "outputs": [
    {
     "data": {
      "text/plain": [
       "'Pyth'"
      ]
     },
     "execution_count": 34,
     "metadata": {},
     "output_type": "execute_result"
    }
   ],
   "source": [
    "monty[6 : 10]"
   ]
  },
  {
   "cell_type": "code",
   "execution_count": 35,
   "id": "e87414d8-2a0c-48a6-9570-7b6ec90a598b",
   "metadata": {
    "tags": []
   },
   "outputs": [
    {
     "data": {
      "text/plain": [
       "'Monty'"
      ]
     },
     "execution_count": 35,
     "metadata": {},
     "output_type": "execute_result"
    }
   ],
   "source": [
    "monty[-12 : -7]"
   ]
  },
  {
   "cell_type": "code",
   "execution_count": 36,
   "id": "4c33c4c9-fdbf-4e5e-92fd-7161d6f5434e",
   "metadata": {
    "tags": []
   },
   "outputs": [
    {
     "data": {
      "text/plain": [
       "'Monty'"
      ]
     },
     "execution_count": 36,
     "metadata": {},
     "output_type": "execute_result"
    }
   ],
   "source": [
    "monty[: 5]"
   ]
  },
  {
   "cell_type": "code",
   "execution_count": 37,
   "id": "09928bf1-6335-4181-aa68-b9e811d9896d",
   "metadata": {
    "tags": []
   },
   "outputs": [
    {
     "data": {
      "text/plain": [
       "'Python'"
      ]
     },
     "execution_count": 37,
     "metadata": {},
     "output_type": "execute_result"
    }
   ],
   "source": [
    "monty[6 :]"
   ]
  },
  {
   "cell_type": "code",
   "execution_count": 38,
   "id": "5720dd93-36ca-4af7-8a78-5687cce47d91",
   "metadata": {
    "tags": []
   },
   "outputs": [
    {
     "name": "stdout",
     "output_type": "stream",
     "text": [
      "found \"thing\"\n"
     ]
    }
   ],
   "source": [
    "phrase = 'And now for something completely different'\n",
    "if 'thing' in phrase:\n",
    "    print('found \"thing\"')"
   ]
  },
  {
   "cell_type": "code",
   "execution_count": 39,
   "id": "a3981476-d029-4166-af6f-aff829857b3e",
   "metadata": {
    "tags": []
   },
   "outputs": [
    {
     "data": {
      "text/plain": [
       "6"
      ]
     },
     "execution_count": 39,
     "metadata": {},
     "output_type": "execute_result"
    }
   ],
   "source": [
    "monty.find('Python')"
   ]
  },
  {
   "cell_type": "markdown",
   "id": "41f84418-8f72-4e39-ab2d-44e51d67d443",
   "metadata": {},
   "source": [
    "#### **More operations on strings**"
   ]
  },
  {
   "cell_type": "markdown",
   "id": "9d4ea066-10c7-489e-a48f-f557b535e03d",
   "metadata": {
    "tags": []
   },
   "source": [
    "<table>\n",
    "    <th>Method</th>\n",
    "    <th>Functionality</th>\n",
    "    <tr>\n",
    "        <td><b>s.find(t)</b></td>\n",
    "        <td>index of first instance of string <b>t</b> inside <b>s</b> (-1 if not found)</td>\n",
    "    </tr>\n",
    "    <tr>\n",
    "        <td><b>s.rfind(t)</b></td>\n",
    "        <td>index of last instance of string <b>t</b> inside <b>s</b> (-1 if not found)</td>\n",
    "    </tr>\n",
    "    <tr>\n",
    "        <td><b>s.index(t)</b></td>\n",
    "        <td>like <b>s.find(t)</b> except it raises <b>ValueError</b> if not found\n",
    "    </tr>\n",
    "    <tr>\n",
    "        <td><b>s.rindex(t)</b></td>\n",
    "        <td>like <b>s.rfind(t)</b> except it raises <b>ValueError</b> if not found</td>\n",
    "    </tr>\n",
    "    <tr>\n",
    "        <td><b>s.join(text)</b></td>\n",
    "        <td>combine the words of the text into a string using <b>s</b> as the glue</td>\n",
    "    </tr>\n",
    "    <tr>\n",
    "        <td><b>s.split(t)</b></td>\n",
    "        <td>split <b>s</b> into a list wherever a <b>t</b> is found (whitespace by default)\n",
    "    </tr>\n",
    "    <tr>\n",
    "        <td><b>s.splitlines()</b></td>\n",
    "        <td>split <b>s</b> into a list of strings, one per line</td>\n",
    "    </tr>\n",
    "    <tr>\n",
    "        <td><b>s.lower()</b></td>\n",
    "        <td>a lowercased version of the string <b>s</b></td>\n",
    "    </tr>\n",
    "    <tr>\n",
    "        <td><b>s.upper()</b></td>\n",
    "        <td>an uppercased version of the string <b>s</b></td>\n",
    "    </tr>\n",
    "    <tr>\n",
    "        <td><b>s.title()</b></td>\n",
    "        <td>a titlecased version of the string <b>s</b></td>\n",
    "    </tr>\n",
    "    <tr>\n",
    "        <td><b>s.strip()</b></td>\n",
    "        <td>a copy of <b>s</b> without leading or trailing whitespace</td>\n",
    "    </tr>\n",
    "    <tr>\n",
    "        <td><b>s.replace(t, u)</b></td>\n",
    "        <td>replace instances of <b>t</b> with <b>u</b> inside <b>s</b></td>\n",
    "    </tr>\n",
    "</table>"
   ]
  },
  {
   "cell_type": "markdown",
   "id": "9804a0a1-25d4-4f5e-90a3-fc987733e952",
   "metadata": {},
   "source": [
    "#### **The Difference between Lists and Strings**"
   ]
  },
  {
   "cell_type": "code",
   "execution_count": 2,
   "id": "3a23e785-5301-46b0-beb5-4e27b7b28a56",
   "metadata": {},
   "outputs": [
    {
     "data": {
      "text/plain": [
       "'o'"
      ]
     },
     "execution_count": 2,
     "metadata": {},
     "output_type": "execute_result"
    }
   ],
   "source": [
    "query = 'Who knows?'\n",
    "beatles = ['John', 'Paul', 'George', 'Ringo']\n",
    "query[2]"
   ]
  },
  {
   "cell_type": "code",
   "execution_count": 3,
   "id": "ad96cda2-b7c0-45f8-a553-4cf8f3d95e26",
   "metadata": {
    "tags": []
   },
   "outputs": [
    {
     "data": {
      "text/plain": [
       "'George'"
      ]
     },
     "execution_count": 3,
     "metadata": {},
     "output_type": "execute_result"
    }
   ],
   "source": [
    "beatles[2]"
   ]
  },
  {
   "cell_type": "code",
   "execution_count": 4,
   "id": "d7731f8b-1a3f-44ba-8099-aa562166855b",
   "metadata": {
    "tags": []
   },
   "outputs": [
    {
     "data": {
      "text/plain": [
       "'Wh'"
      ]
     },
     "execution_count": 4,
     "metadata": {},
     "output_type": "execute_result"
    }
   ],
   "source": [
    "query[: 2]"
   ]
  },
  {
   "cell_type": "code",
   "execution_count": 5,
   "id": "5e1d487c-746e-4579-be4b-6c3c49e8506f",
   "metadata": {
    "tags": []
   },
   "outputs": [
    {
     "data": {
      "text/plain": [
       "['John', 'Paul']"
      ]
     },
     "execution_count": 5,
     "metadata": {},
     "output_type": "execute_result"
    }
   ],
   "source": [
    "beatles[: 2]"
   ]
  },
  {
   "cell_type": "code",
   "execution_count": 6,
   "id": "8ac88215-2e9e-4841-a5e4-2836e79b48e8",
   "metadata": {
    "tags": []
   },
   "outputs": [
    {
     "data": {
      "text/plain": [
       "\"Who knows? I don't\""
      ]
     },
     "execution_count": 6,
     "metadata": {},
     "output_type": "execute_result"
    }
   ],
   "source": [
    "query + \" I don't\""
   ]
  },
  {
   "cell_type": "code",
   "execution_count": 7,
   "id": "ac8d2d0a-b58b-4e20-8109-d55444e19373",
   "metadata": {
    "tags": []
   },
   "outputs": [
    {
     "ename": "TypeError",
     "evalue": "can only concatenate list (not \"str\") to list",
     "output_type": "error",
     "traceback": [
      "\u001b[0;31m---------------------------------------------------------------------------\u001b[0m",
      "\u001b[0;31mTypeError\u001b[0m                                 Traceback (most recent call last)",
      "Cell \u001b[0;32mIn[7], line 1\u001b[0m\n\u001b[0;32m----> 1\u001b[0m \u001b[43mbeatles\u001b[49m\u001b[43m \u001b[49m\u001b[38;5;241;43m+\u001b[39;49m\u001b[43m \u001b[49m\u001b[38;5;124;43m'\u001b[39;49m\u001b[38;5;124;43mBrian\u001b[39;49m\u001b[38;5;124;43m'\u001b[39;49m\n",
      "\u001b[0;31mTypeError\u001b[0m: can only concatenate list (not \"str\") to list"
     ]
    }
   ],
   "source": [
    "beatles + 'Brian'"
   ]
  },
  {
   "cell_type": "code",
   "execution_count": 8,
   "id": "e76e6b13-65eb-40d5-97dc-f369760e334c",
   "metadata": {
    "tags": []
   },
   "outputs": [
    {
     "data": {
      "text/plain": [
       "['John', 'Paul', 'George', 'Ringo', 'Brian']"
      ]
     },
     "execution_count": 8,
     "metadata": {},
     "output_type": "execute_result"
    }
   ],
   "source": [
    "beatles + ['Brian']"
   ]
  },
  {
   "cell_type": "code",
   "execution_count": 9,
   "id": "0e98c428-a68d-41d2-8387-6b1507ac692e",
   "metadata": {
    "tags": []
   },
   "outputs": [
    {
     "data": {
      "text/plain": [
       "['John Lennon', 'Paul', 'George']"
      ]
     },
     "execution_count": 9,
     "metadata": {},
     "output_type": "execute_result"
    }
   ],
   "source": [
    "beatles[0] = 'John Lennon'\n",
    "del beatles[-1]\n",
    "beatles"
   ]
  },
  {
   "cell_type": "code",
   "execution_count": 10,
   "id": "7772962d-099d-4f45-ae4a-0448dc6c5779",
   "metadata": {
    "tags": []
   },
   "outputs": [
    {
     "ename": "TypeError",
     "evalue": "'str' object does not support item assignment",
     "output_type": "error",
     "traceback": [
      "\u001b[0;31m---------------------------------------------------------------------------\u001b[0m",
      "\u001b[0;31mTypeError\u001b[0m                                 Traceback (most recent call last)",
      "Cell \u001b[0;32mIn[10], line 1\u001b[0m\n\u001b[0;32m----> 1\u001b[0m \u001b[43mquery\u001b[49m\u001b[43m[\u001b[49m\u001b[38;5;241;43m0\u001b[39;49m\u001b[43m]\u001b[49m \u001b[38;5;241m=\u001b[39m \u001b[38;5;124m'\u001b[39m\u001b[38;5;124mF\u001b[39m\u001b[38;5;124m'\u001b[39m\n",
      "\u001b[0;31mTypeError\u001b[0m: 'str' object does not support item assignment"
     ]
    }
   ],
   "source": [
    "query[0] = 'F'"
   ]
  },
  {
   "cell_type": "markdown",
   "id": "9f832b24-ba01-4ad8-aaac-0ec2cd590ee6",
   "metadata": {},
   "source": [
    "### **3.3   Text Processing with Unicode**"
   ]
  },
  {
   "cell_type": "markdown",
   "id": "e2d8450e-541f-40d7-a24d-d8b9af081e2d",
   "metadata": {},
   "source": [
    "#### **What is Unicode?**"
   ]
  },
  {
   "cell_type": "markdown",
   "id": "f0998a15-87d1-4dd9-b547-188851a68887",
   "metadata": {},
   "source": [
    "![image](https://www.nltk.org/images/unicode.png)"
   ]
  },
  {
   "cell_type": "markdown",
   "id": "ce1c4ab9-cec2-4986-9b99-22e4b5a76e21",
   "metadata": {},
   "source": [
    "#### **Extracting encoded text from files**"
   ]
  },
  {
   "cell_type": "code",
   "execution_count": 5,
   "id": "e9fdbfcb-b467-4d95-b2d3-64b45ba3b6a4",
   "metadata": {
    "tags": []
   },
   "outputs": [
    {
     "name": "stdout",
     "output_type": "stream",
     "text": [
      "Pruska Biblioteka Państwowa. Jej dawne zbiory znane pod nazwą\n",
      "\"Berlinka\" to skarb kultury i sztuki niemieckiej. Przewiezione przez\n",
      "Niemców pod koniec II wojny światowej na Dolny Śląsk, zostały\n",
      "odnalezione po 1945 r. na terytorium Polski. Trafiły do Biblioteki\n",
      "Jagiellońskiej w Krakowie, obejmują ponad 500 tys. zabytkowych\n",
      "archiwaliów, m.in. manuskrypty Goethego, Mozarta, Beethovena, Bacha.\n"
     ]
    }
   ],
   "source": [
    "path = nltk.data.find('corpora/unicode_samples/polish-lat2.txt')\n",
    "f = open(path, encoding='latin2')\n",
    "for line in f:\n",
    "    line = line.strip()\n",
    "    print(line)"
   ]
  },
  {
   "cell_type": "code",
   "execution_count": 12,
   "id": "265456ab-876d-4b18-a26a-8be166bfd81f",
   "metadata": {
    "tags": []
   },
   "outputs": [
    {
     "name": "stdout",
     "output_type": "stream",
     "text": [
      "b'Pruska Biblioteka Pa\\\\u0144stwowa. Jej dawne zbiory znane pod nazw\\\\u0105'\n",
      "b'\"Berlinka\" to skarb kultury i sztuki niemieckiej. Przewiezione przez'\n",
      "b'Niemc\\\\xf3w pod koniec II wojny \\\\u015bwiatowej na Dolny \\\\u015al\\\\u0105sk, zosta\\\\u0142y'\n",
      "b'odnalezione po 1945 r. na terytorium Polski. Trafi\\\\u0142y do Biblioteki'\n",
      "b'Jagiello\\\\u0144skiej w Krakowie, obejmuj\\\\u0105 ponad 500 tys. zabytkowych'\n",
      "b'archiwali\\\\xf3w, m.in. manuskrypty Goethego, Mozarta, Beethovena, Bacha.'\n"
     ]
    }
   ],
   "source": [
    "f = open(path, encoding='latin2')\n",
    "for line in f:\n",
    "    line = line.strip()\n",
    "    print(line.encode('unicode_escape'))"
   ]
  },
  {
   "cell_type": "code",
   "execution_count": 1,
   "id": "b4c3c380-cc85-4d74-abb5-10e4e4cb3b46",
   "metadata": {},
   "outputs": [
    {
     "data": {
      "text/plain": [
       "324"
      ]
     },
     "execution_count": 1,
     "metadata": {},
     "output_type": "execute_result"
    }
   ],
   "source": [
    "ord('ń')"
   ]
  },
  {
   "cell_type": "code",
   "execution_count": 2,
   "id": "89f49fc8-e2b3-4352-9094-4ca54001585a",
   "metadata": {
    "tags": []
   },
   "outputs": [
    {
     "data": {
      "text/plain": [
       "'0x144'"
      ]
     },
     "execution_count": 2,
     "metadata": {},
     "output_type": "execute_result"
    }
   ],
   "source": [
    "hex(324)"
   ]
  },
  {
   "cell_type": "code",
   "execution_count": 5,
   "id": "40435541-c0ce-4e1f-be22-ae18167bdb5c",
   "metadata": {
    "tags": []
   },
   "outputs": [
    {
     "data": {
      "text/plain": [
       "'ń'"
      ]
     },
     "execution_count": 5,
     "metadata": {},
     "output_type": "execute_result"
    }
   ],
   "source": [
    "nacute = '\\u0144'\n",
    "nacute"
   ]
  },
  {
   "cell_type": "code",
   "execution_count": 15,
   "id": "36790d1c-171b-49b2-aec3-62c830b65054",
   "metadata": {
    "tags": []
   },
   "outputs": [
    {
     "name": "stdout",
     "output_type": "stream",
     "text": [
      "b'\\xc5\\x84'\n"
     ]
    }
   ],
   "source": [
    "print(nacute.encode('utf8'))"
   ]
  },
  {
   "cell_type": "code",
   "execution_count": 8,
   "id": "ced44a16-611d-4811-9b9c-7af3e5476c76",
   "metadata": {
    "tags": []
   },
   "outputs": [
    {
     "data": {
      "text/plain": [
       "b'\\xc5\\x84'"
      ]
     },
     "execution_count": 8,
     "metadata": {},
     "output_type": "execute_result"
    }
   ],
   "source": [
    "nacute.encode('utf8')"
   ]
  },
  {
   "cell_type": "code",
   "execution_count": 14,
   "id": "688664d8-24d9-4f76-a81f-8b95599ebcc0",
   "metadata": {
    "tags": []
   },
   "outputs": [
    {
     "name": "stdout",
     "output_type": "stream",
     "text": [
      "b'Niemc\\\\xf3w pod koniec II wojny \\\\u015bwiatowej na Dolny \\\\u015al\\\\u0105sk, zosta\\\\u0142y\\\\n'\n"
     ]
    }
   ],
   "source": [
    "import unicodedata\n",
    "lines = open(path, encoding='latin2').readlines()\n",
    "line = lines[2]\n",
    "print(line.encode('unicode_escape'))"
   ]
  },
  {
   "cell_type": "code",
   "execution_count": 18,
   "id": "d0771263-251c-4782-805e-d51b4bf43cc9",
   "metadata": {
    "tags": []
   },
   "outputs": [
    {
     "name": "stdout",
     "output_type": "stream",
     "text": [
      "b'\\xc3\\xb3' U+ 0f3 LATIN SMALL LETTER O WITH ACUTE\n",
      "b'\\xc5\\x9b' U+ 15b LATIN SMALL LETTER S WITH ACUTE\n",
      "b'\\xc5\\x9a' U+ 15a LATIN CAPITAL LETTER S WITH ACUTE\n",
      "b'\\xc4\\x85' U+ 105 LATIN SMALL LETTER A WITH OGONEK\n",
      "b'\\xc5\\x82' U+ 142 LATIN SMALL LETTER L WITH STROKE\n"
     ]
    }
   ],
   "source": [
    "for c in line:\n",
    "    if ord(c) > 127:\n",
    "        print('{} U+{: 04x} {}'.format(c.encode('utf8'), ord(c), unicodedata.name(c)))"
   ]
  },
  {
   "cell_type": "code",
   "execution_count": 19,
   "id": "33c6562d-13b9-44d5-b054-551005731f57",
   "metadata": {
    "tags": []
   },
   "outputs": [
    {
     "name": "stdout",
     "output_type": "stream",
     "text": [
      "ó U+00f3 LATIN SMALL LETTER O WITH ACUTE\n",
      "ś U+015b LATIN SMALL LETTER S WITH ACUTE\n",
      "Ś U+015a LATIN CAPITAL LETTER S WITH ACUTE\n",
      "ą U+0105 LATIN SMALL LETTER A WITH OGONEK\n",
      "ł U+0142 LATIN SMALL LETTER L WITH STROKE\n"
     ]
    }
   ],
   "source": [
    "for c in line:\n",
    "    if ord(c) > 127:\n",
    "        print('{} U+{:04x} {}'.format(c, ord(c), unicodedata.name(c)))"
   ]
  },
  {
   "cell_type": "code",
   "execution_count": 20,
   "id": "a6dda817-d2a5-4620-9e8a-85672bcdfe7a",
   "metadata": {
    "tags": []
   },
   "outputs": [
    {
     "name": "stdout",
     "output_type": "stream",
     "text": [
      "b'\\xf3' U+ 0f3 LATIN SMALL LETTER O WITH ACUTE\n",
      "b'\\xb6' U+ 15b LATIN SMALL LETTER S WITH ACUTE\n",
      "b'\\xa6' U+ 15a LATIN CAPITAL LETTER S WITH ACUTE\n",
      "b'\\xb1' U+ 105 LATIN SMALL LETTER A WITH OGONEK\n",
      "b'\\xb3' U+ 142 LATIN SMALL LETTER L WITH STROKE\n"
     ]
    }
   ],
   "source": [
    "for c in line:\n",
    "    if ord(c) > 127:\n",
    "        print('{} U+{: 04x} {}'.format(c.encode('latin2'), ord(c), unicodedata.name(c)))"
   ]
  },
  {
   "cell_type": "code",
   "execution_count": 21,
   "id": "4586a56b-5886-4e7e-b13d-f1e61c85e06d",
   "metadata": {
    "tags": []
   },
   "outputs": [
    {
     "data": {
      "text/plain": [
       "54"
      ]
     },
     "execution_count": 21,
     "metadata": {},
     "output_type": "execute_result"
    }
   ],
   "source": [
    "line.find('zosta\\u0142y')"
   ]
  },
  {
   "cell_type": "code",
   "execution_count": 22,
   "id": "7e96b3fd-9406-4f02-b351-13ea0698427f",
   "metadata": {
    "tags": []
   },
   "outputs": [
    {
     "data": {
      "text/plain": [
       "'niemców pod koniec ii wojny światowej na dolny śląsk, zostały\\n'"
      ]
     },
     "execution_count": 22,
     "metadata": {},
     "output_type": "execute_result"
    }
   ],
   "source": [
    "line = line.lower()\n",
    "line"
   ]
  },
  {
   "cell_type": "code",
   "execution_count": 23,
   "id": "0c49bc22-2b57-4977-8d51-8be10fc2d2e1",
   "metadata": {
    "tags": []
   },
   "outputs": [
    {
     "data": {
      "text/plain": [
       "b'niemc\\\\xf3w pod koniec ii wojny \\\\u015bwiatowej na dolny \\\\u015bl\\\\u0105sk, zosta\\\\u0142y\\\\n'"
      ]
     },
     "execution_count": 23,
     "metadata": {},
     "output_type": "execute_result"
    }
   ],
   "source": [
    "line.encode('unicode_escape')"
   ]
  },
  {
   "cell_type": "code",
   "execution_count": 24,
   "id": "ff2f1b33-7304-4de8-ae93-3187262382ba",
   "metadata": {
    "tags": []
   },
   "outputs": [
    {
     "data": {
      "text/plain": [
       "'światowej'"
      ]
     },
     "execution_count": 24,
     "metadata": {},
     "output_type": "execute_result"
    }
   ],
   "source": [
    "import re\n",
    "m = re.search('\\u015b\\w*', line)\n",
    "m.group()"
   ]
  },
  {
   "cell_type": "code",
   "execution_count": 25,
   "id": "648872c0-ff95-42e0-b66f-22dcdab8cb92",
   "metadata": {
    "tags": []
   },
   "outputs": [
    {
     "data": {
      "text/plain": [
       "['niemców',\n",
       " 'pod',\n",
       " 'koniec',\n",
       " 'ii',\n",
       " 'wojny',\n",
       " 'światowej',\n",
       " 'na',\n",
       " 'dolny',\n",
       " 'śląsk',\n",
       " ',',\n",
       " 'zostały']"
      ]
     },
     "execution_count": 25,
     "metadata": {},
     "output_type": "execute_result"
    }
   ],
   "source": [
    "word_tokenize(line)"
   ]
  },
  {
   "cell_type": "markdown",
   "id": "666c596f-b6e9-4779-b8f5-706552c43c09",
   "metadata": {},
   "source": [
    "#### **Using your local encoding in Python**"
   ]
  },
  {
   "cell_type": "code",
   "execution_count": 6,
   "id": "63cf16da-4c31-497e-a20b-14f3ea3c901c",
   "metadata": {},
   "outputs": [
    {
     "ename": "AttributeError",
     "evalue": "'str' object has no attribute 'decode'",
     "output_type": "error",
     "traceback": [
      "\u001b[0;31m---------------------------------------------------------------------------\u001b[0m",
      "\u001b[0;31mAttributeError\u001b[0m                            Traceback (most recent call last)",
      "Cell \u001b[0;32mIn[6], line 7\u001b[0m\n\u001b[1;32m      3\u001b[0m \u001b[38;5;28;01mimport\u001b[39;00m \u001b[38;5;21;01mre\u001b[39;00m\n\u001b[1;32m      4\u001b[0m sent \u001b[38;5;241m=\u001b[39m \u001b[38;5;124m'''\u001b[39m\n\u001b[1;32m      5\u001b[0m \u001b[38;5;124mPrzewiezione przez Niemców pod koniec II wojny światowej na Dolny Śląsk, zostały odnalezione po 1945 r. na terytorium Polski.\u001b[39m\n\u001b[1;32m      6\u001b[0m \u001b[38;5;124m'''\u001b[39m\n\u001b[0;32m----> 7\u001b[0m u \u001b[38;5;241m=\u001b[39m \u001b[43msent\u001b[49m\u001b[38;5;241;43m.\u001b[39;49m\u001b[43mdecode\u001b[49m(\u001b[38;5;124m'\u001b[39m\u001b[38;5;124mutf8\u001b[39m\u001b[38;5;124m'\u001b[39m)\n\u001b[1;32m      8\u001b[0m u\u001b[38;5;241m.\u001b[39mlower\n",
      "\u001b[0;31mAttributeError\u001b[0m: 'str' object has no attribute 'decode'"
     ]
    }
   ],
   "source": [
    "# -*- coding: utf-8 -*-\n",
    "\n",
    "import re\n",
    "sent = '''\n",
    "Przewiezione przez Niemców pod koniec II wojny światowej na Dolny Śląsk, zostały odnalezione po 1945 r. na terytorium Polski.\n",
    "'''\n",
    "u = sent.decode('utf8')\n",
    "u.lower"
   ]
  },
  {
   "cell_type": "code",
   "execution_count": null,
   "id": "4cec580d-ae85-46dd-8a9d-6636ddb8a5b6",
   "metadata": {},
   "outputs": [],
   "source": []
  }
 ],
 "metadata": {
  "kernelspec": {
   "display_name": "Python 3 (ipykernel)",
   "language": "python",
   "name": "python3"
  },
  "language_info": {
   "codemirror_mode": {
    "name": "ipython",
    "version": 3
   },
   "file_extension": ".py",
   "mimetype": "text/x-python",
   "name": "python",
   "nbconvert_exporter": "python",
   "pygments_lexer": "ipython3",
   "version": "3.10.7"
  }
 },
 "nbformat": 4,
 "nbformat_minor": 5
}
