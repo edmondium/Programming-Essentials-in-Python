{
 "cells": [
  {
   "cell_type": "markdown",
   "id": "9775994a-7204-4ad1-9534-8649fc9cc99b",
   "metadata": {},
   "source": [
    "# Introduction to Python"
   ]
  },
  {
   "cell_type": "markdown",
   "id": "09b94c11-52af-4882-82b8-d8e943db00ad",
   "metadata": {},
   "source": [
    "Python has the usual control structures, that is conditional statements and loops. For example, [the if statement](https://docs.python.org/3/reference/compound_stmts.html#if):"
   ]
  },
  {
   "cell_type": "code",
   "execution_count": 5,
   "id": "2ee22eb8-5020-4532-9701-a9b204ef2ca0",
   "metadata": {},
   "outputs": [
    {
     "name": "stdout",
     "output_type": "stream",
     "text": [
      "x is 2\n"
     ]
    }
   ],
   "source": [
    "x = 2\n",
    "if x == 3: print('x is 3')\n",
    "elif x == 2: print('x is 2')\n",
    "else: print('x is something else')"
   ]
  },
  {
   "cell_type": "markdown",
   "id": "ee8ae067-0754-456f-956b-054f9780e520",
   "metadata": {},
   "source": [
    "[While](https://docs.python.org/3/reference/compound_stmts.html#while) loops loop until some condition is met:"
   ]
  },
  {
   "cell_type": "code",
   "execution_count": 4,
   "id": "0bcb7d10-a46f-4709-8e5f-d0db933b3f77",
   "metadata": {},
   "outputs": [],
   "source": [
    "x = 0\n",
    "while x < 42:\n",
    "    #print('x is', x)\n",
    "    x += 0.2"
   ]
  },
  {
   "cell_type": "markdown",
   "id": "0aa16acf-0c5a-4c4a-854e-fcbf8da0c448",
   "metadata": {},
   "source": [
    "[For](https://docs.python.org/3/reference/compound_stmts.html#for) loops loop over some collection of values:"
   ]
  },
  {
   "cell_type": "code",
   "execution_count": 6,
   "id": "f139e9da-e9e4-4758-a73b-7761728e2a69",
   "metadata": {},
   "outputs": [
    {
     "name": "stdout",
     "output_type": "stream",
     "text": [
      "1\n",
      "2\n",
      "3\n",
      "4\n"
     ]
    }
   ],
   "source": [
    "xs = [1,2,3,4]\n",
    "for x in xs: print(x)"
   ]
  },
  {
   "cell_type": "markdown",
   "id": "0e3a6275-1f40-4ac2-bc4e-d0710b597b4f",
   "metadata": {},
   "source": [
    "Often you want to loop over a sequence of integers, in that case the `range()` function is useful:"
   ]
  },
  {
   "cell_type": "code",
   "execution_count": 7,
   "id": "16e10dc9-646a-4d1d-b818-1a1d5bd3c05b",
   "metadata": {},
   "outputs": [
    {
     "name": "stdout",
     "output_type": "stream",
     "text": [
      "0\n",
      "1\n",
      "2\n",
      "3\n",
      "4\n",
      "5\n",
      "6\n",
      "7\n",
      "8\n"
     ]
    }
   ],
   "source": [
    "for x in range(9): print(x)"
   ]
  },
  {
   "cell_type": "markdown",
   "id": "7cd25a40-6888-477a-8786-a8e055a90bba",
   "metadata": {},
   "source": [
    "Another common need is to iterate over a collection, but at the same time also have an index number. For this there is the [`enumerate()`](https://docs.python.org/3/library/functions.html#enumerate) function:"
   ]
  },
  {
   "cell_type": "code",
   "execution_count": 8,
   "id": "5fb08271-c5f6-4941-aed2-4ebe703e3773",
   "metadata": {},
   "outputs": [
    {
     "name": "stdout",
     "output_type": "stream",
     "text": [
      "0 1\n",
      "1 hello\n",
      "2 world\n"
     ]
    }
   ],
   "source": [
    "xs = [1, 'hello', 'world']\n",
    "for ii, x in enumerate(xs): print(ii, x)"
   ]
  },
  {
   "cell_type": "markdown",
   "id": "df1e90cf-ee0d-44c6-a0e9-c33fc9c1932e",
   "metadata": {},
   "source": [
    "Python functions are defined by the [Function definitions](https://docs.python.org/3/reference/compound_stmts.html#def) keyword. They take a number of arguments, and return a number of return values."
   ]
  },
  {
   "cell_type": "code",
   "execution_count": 12,
   "id": "9a9e7677-1785-4a08-ac47-a8cf7c7ddeed",
   "metadata": {},
   "outputs": [
    {
     "name": "stdout",
     "output_type": "stream",
     "text": [
      "Hello Anne\n"
     ]
    },
    {
     "data": {
      "text/plain": [
       "'Hello Anne'"
      ]
     },
     "execution_count": 12,
     "metadata": {},
     "output_type": "execute_result"
    }
   ],
   "source": [
    "def hello(name):\n",
    "    '''Say hello to the person given by the argument'''\n",
    "    print('Hello', name)\n",
    "    return 'Hello ' + name\n",
    "hello('Anne')"
   ]
  },
  {
   "cell_type": "markdown",
   "id": "1b31e326-a3ff-4ec6-8b5e-2582de55f9b4",
   "metadata": {},
   "source": [
    "Classes are defined by the [Class definitions](https://docs.python.org/3/reference/compound_stmts.html#class) keyword:"
   ]
  },
  {
   "cell_type": "code",
   "execution_count": 13,
   "id": "43d611fa-a69a-405a-bef6-8cbaa3073efb",
   "metadata": {},
   "outputs": [
    {
     "name": "stdout",
     "output_type": "stream",
     "text": [
      "Hello Richard\n"
     ]
    }
   ],
   "source": [
    "class Hello:\n",
    "    def __init__(self, name): self._name = name\n",
    "    def say(self): print('Hello', self._name)\n",
    "h = Hello('Richard')\n",
    "h.say()"
   ]
  },
  {
   "cell_type": "markdown",
   "id": "4d7fa04a-de4b-4dab-8a37-18d1fefbabb1",
   "metadata": {},
   "source": [
    "# Jupyter"
   ]
  },
  {
   "cell_type": "markdown",
   "id": "1d6a4693-29b6-4ffc-ada0-5c956c392e1e",
   "metadata": {},
   "source": [
    "Markdown is a lightweight way of giving *style* to `text` - you can check out [this reference](https://commonmark.org/help/)."
   ]
  },
  {
   "cell_type": "markdown",
   "id": "875730ab-48d1-4115-b703-07f427747e5a",
   "metadata": {},
   "source": [
    "Now, let’s look at some code samples:"
   ]
  },
  {
   "cell_type": "code",
   "execution_count": 14,
   "id": "581f425d-30c5-4eb0-8e99-766c17a92e34",
   "metadata": {},
   "outputs": [
    {
     "name": "stdout",
     "output_type": "stream",
     "text": [
      "0\n",
      "1\n",
      "2\n"
     ]
    }
   ],
   "source": [
    "for i in range(3): print(i)"
   ]
  },
  {
   "cell_type": "code",
   "execution_count": 15,
   "id": "2be9b814-90d9-4360-a5c8-b554d6712dcd",
   "metadata": {},
   "outputs": [
    {
     "name": "stdout",
     "output_type": "stream",
     "text": [
      "10\n"
     ]
    }
   ],
   "source": [
    "print(sum(range(5)))"
   ]
  },
  {
   "cell_type": "markdown",
   "id": "98548090-3a96-4838-8dce-84b01ef6bf91",
   "metadata": {},
   "source": [
    "By convention, if the last thing in a cell is an object, that object gets printed:"
   ]
  },
  {
   "cell_type": "code",
   "execution_count": 16,
   "id": "c1110ee9-3e7b-4231-a6dd-413f99e3b0b1",
   "metadata": {},
   "outputs": [
    {
     "data": {
      "text/plain": [
       "45"
      ]
     },
     "execution_count": 16,
     "metadata": {},
     "output_type": "execute_result"
    }
   ],
   "source": [
    "sum(range(5))\n",
    "sum(range(10))"
   ]
  },
  {
   "cell_type": "markdown",
   "id": "c55abf41-7d77-454d-831d-e0a5cb3bf407",
   "metadata": {},
   "source": [
    "In addition to raw cells, there are **magics**, which exist outside of Python. They are a property of the runtime itself (in Python’s case, they come from **IPython**. For example, the following cell magic [%%bash](https://ipython.readthedocs.io/en/stable/interactive/magics.html#cellmagic-bash) turns the cell into a shell script (may not work on all operating systems):"
   ]
  },
  {
   "cell_type": "code",
   "execution_count": 17,
   "id": "024729ef-5ee7-439b-89a0-20fedd8ab3df",
   "metadata": {},
   "outputs": [
    {
     "name": "stdout",
     "output_type": "stream",
     "text": [
      "1\n",
      "2\n",
      "3\n"
     ]
    }
   ],
   "source": [
    "%%bash\n",
    "for x in $(seq 3); do echo $x\n",
    "done"
   ]
  },
  {
   "cell_type": "markdown",
   "id": "f2425acd-e7bd-489e-b29d-343d362771ec",
   "metadata": {},
   "source": [
    "Run some trivial code, such as `print(1)`."
   ]
  },
  {
   "cell_type": "code",
   "execution_count": 18,
   "id": "dff40525-d233-4e54-9d32-175b2d36ca65",
   "metadata": {},
   "outputs": [
    {
     "name": "stdout",
     "output_type": "stream",
     "text": [
      "1\n"
     ]
    }
   ],
   "source": [
    "print(1)"
   ]
  },
  {
   "cell_type": "markdown",
   "id": "62588f52-85c6-4b86-a536-03d864b833d1",
   "metadata": {},
   "source": [
    "Run some slightly less trivial code, like print out the first ten [Fibonacci numbers](https://en.wikipedia.org/wiki/Fibonacci_number)."
   ]
  },
  {
   "cell_type": "markdown",
   "id": "41e83cf6-9d9a-491b-919d-df6f058cd460",
   "metadata": {},
   "source": [
    "## Fibonacci\n",
    "* Start with two variables `a` and `b`\n",
    "* Repeat 10 times\n",
    "    * Print old `a`, then increment both\n",
    "* Makes use of the Python *tuple assignment*: `a, b = new_a, new_b`"
   ]
  },
  {
   "cell_type": "code",
   "execution_count": 24,
   "id": "94dd9cdb-6c80-40f9-8699-54e69d62838c",
   "metadata": {},
   "outputs": [
    {
     "name": "stdout",
     "output_type": "stream",
     "text": [
      "0\n",
      "1\n",
      "1\n",
      "2\n",
      "3\n",
      "5\n",
      "8\n",
      "13\n",
      "21\n",
      "34\n"
     ]
    }
   ],
   "source": [
    "a = 0\n",
    "b = 1\n",
    "for i in range(10):\n",
    "    print(a)\n",
    "    a, b = b, a+b"
   ]
  },
  {
   "cell_type": "markdown",
   "id": "db43f7a1-7d4d-44fd-b982-f6fd86449a59",
   "metadata": {},
   "source": [
    "Use the [%%timeit](https://ipython.readthedocs.io/en/stable/interactive/magics.html#magic-timeit) magic function to time your Fibonacci function."
   ]
  },
  {
   "cell_type": "markdown",
   "id": "32c143f9-0799-4a63-ae89-6a0aecec485d",
   "metadata": {},
   "source": [
    "In this case, the print() statements get out of hand, so we comment that out. In general, writing output usually takes a lot of time reletive to the computation, so we don’t want to time that (unless output is the main point of the code, then we do have to time it!"
   ]
  },
  {
   "cell_type": "code",
   "execution_count": 26,
   "id": "f5d988b9-4969-4518-a839-034ac215fa4e",
   "metadata": {},
   "outputs": [
    {
     "name": "stdout",
     "output_type": "stream",
     "text": [
      "7.18 s ± 38.8 ms per loop (mean ± std. dev. of 7 runs, 1 loop each)\n"
     ]
    }
   ],
   "source": [
    "%%timeit\n",
    "a, b = 0, 1\n",
    "for i in range(1_000_000):\n",
    "    #print(a)\n",
    "    a, b = b, a+b"
   ]
  },
  {
   "cell_type": "markdown",
   "id": "5bfb3726-769b-4e6d-b71b-aa509ced646a",
   "metadata": {},
   "source": [
    "# NumPy"
   ]
  },
  {
   "cell_type": "markdown",
   "id": "2d588e39-1aca-4120-8eee-cb90a09697fa",
   "metadata": {},
   "source": [
    "Create one list and one ‘empty’ list, to store the result in"
   ]
  },
  {
   "cell_type": "code",
   "execution_count": 1,
   "id": "ece4eadb-a0bd-4441-803f-e8c9019c12bb",
   "metadata": {},
   "outputs": [],
   "source": [
    "a = list(range(10_000))\n",
    "b = [0]*10_000"
   ]
  },
  {
   "cell_type": "markdown",
   "id": "081e08af-abc6-41dd-9889-7279877de8f2",
   "metadata": {},
   "source": [
    "In a new cell starting with `%%timeit`, loop through the list `a` and fill the second list `b` with `a` squared"
   ]
  },
  {
   "cell_type": "code",
   "execution_count": 2,
   "id": "55027118-d6f9-4dbc-8d44-a77a7c5f3312",
   "metadata": {},
   "outputs": [
    {
     "name": "stdout",
     "output_type": "stream",
     "text": [
      "2.71 ms ± 170 µs per loop (mean ± std. dev. of 7 runs, 100 loops each)\n"
     ]
    }
   ],
   "source": [
    "%%timeit\n",
    "for i in range(len(a)):\n",
    "    b[i] = pow(a[i], 2)"
   ]
  },
  {
   "cell_type": "markdown",
   "id": "8ea3a933-6639-4240-b339-816bc08ddb3c",
   "metadata": {},
   "source": [
    "So for the NumPy example, create one array and one ‘empty’ array to store the result in"
   ]
  },
  {
   "cell_type": "code",
   "execution_count": 1,
   "id": "a90313e7-fbd6-475b-a27b-5ec51d53a1c1",
   "metadata": {},
   "outputs": [],
   "source": [
    "import numpy\n",
    "a = numpy.arange(10_000)\n",
    "b = numpy.zeros(10_000)"
   ]
  },
  {
   "cell_type": "markdown",
   "id": "24191583-0bbb-4930-a0c2-b99b08058a86",
   "metadata": {},
   "source": [
    "In a new cell starting with `%%timeit`, fill `b` with `a` squared"
   ]
  },
  {
   "cell_type": "code",
   "execution_count": 5,
   "id": "a540dae1-c4da-4d68-b173-777bd04950e0",
   "metadata": {},
   "outputs": [
    {
     "name": "stdout",
     "output_type": "stream",
     "text": [
      "4.18 µs ± 79.3 ns per loop (mean ± std. dev. of 7 runs, 100,000 loops each)\n"
     ]
    }
   ],
   "source": [
    "%%timeit\n",
    "b = pow(a, 2)"
   ]
  },
  {
   "cell_type": "markdown",
   "id": "2747d2ab-5c62-4557-b01a-8fff38e0cb61",
   "metadata": {},
   "source": [
    "There are different ways of creating arrays ([`numpy.array()`](https://numpy.org/doc/stable/reference/generated/numpy.array.html#numpy.array), [`numpy.ndarray.shape`](https://numpy.org/doc/stable/reference/generated/numpy.ndarray.shape.html#numpy.ndarray.shape), [`numpy.ndarray.size`](https://numpy.org/doc/stable/reference/generated/numpy.ndarray.size.html#numpy.ndarray.size)):"
   ]
  },
  {
   "cell_type": "code",
   "execution_count": 16,
   "id": "f3a5feed-6012-4fe9-b3ad-0493ae91993b",
   "metadata": {},
   "outputs": [],
   "source": [
    "a = numpy.array([1,2,3]) # 1-dimensional array (rank 1)"
   ]
  },
  {
   "cell_type": "code",
   "execution_count": 14,
   "id": "a3c55fa6-8bab-48f7-a283-7936b58b3456",
   "metadata": {},
   "outputs": [
    {
     "data": {
      "text/plain": [
       "(2, 3)"
      ]
     },
     "execution_count": 14,
     "metadata": {},
     "output_type": "execute_result"
    }
   ],
   "source": [
    "b = numpy.array([[1,2,3],[4,5,6]]) # 2-dimensional array (rank 2)\n",
    "b.shape # the shape (rows,columns)"
   ]
  },
  {
   "cell_type": "code",
   "execution_count": 15,
   "id": "63901948-f13f-464a-88e2-8313694bb6e3",
   "metadata": {},
   "outputs": [
    {
     "data": {
      "text/plain": [
       "6"
      ]
     },
     "execution_count": 15,
     "metadata": {},
     "output_type": "execute_result"
    }
   ],
   "source": [
    "b.size # number of elements"
   ]
  },
  {
   "cell_type": "markdown",
   "id": "08b2ea75-1a4d-44c5-b0f2-b6abfe606bd9",
   "metadata": {},
   "source": [
    "In addition to above ways of creating arrays, there are many other ways of creating arrays depending on content ([`numpy.zeros()`](https://numpy.org/doc/stable/reference/generated/numpy.zeros.html#numpy.zeros), [`numpy.ones()`](https://numpy.org/doc/stable/reference/generated/numpy.ones.html#numpy.ones), [`numpy.full()`](https://numpy.org/doc/stable/reference/generated/numpy.full.html#numpy.full), [`numpy.eye()`](https://numpy.org/doc/stable/reference/generated/numpy.eye.html#numpy.eye), [`numpy.arange()`](https://numpy.org/doc/stable/reference/generated/numpy.arange.html#numpy.arange), [`numpy.linspace()`](https://numpy.org/doc/stable/reference/generated/numpy.linspace.html#numpy.linspace)):"
   ]
  },
  {
   "cell_type": "code",
   "execution_count": 20,
   "id": "e64163a5-e700-4dc2-b04a-77f1e591bbb3",
   "metadata": {},
   "outputs": [
    {
     "data": {
      "text/plain": [
       "array([[0., 0., 0.],\n",
       "       [0., 0., 0.]])"
      ]
     },
     "execution_count": 20,
     "metadata": {},
     "output_type": "execute_result"
    }
   ],
   "source": [
    "numpy.zeros((2,3)) # 2x3 array with all elements 0"
   ]
  },
  {
   "cell_type": "code",
   "execution_count": 19,
   "id": "766e6cb9-eae9-4212-bea0-71cd9eef2923",
   "metadata": {},
   "outputs": [
    {
     "data": {
      "text/plain": [
       "array([[1., 1.]])"
      ]
     },
     "execution_count": 19,
     "metadata": {},
     "output_type": "execute_result"
    }
   ],
   "source": [
    "numpy.ones((1,2)) # 1x2 array with all elements 1"
   ]
  },
  {
   "cell_type": "code",
   "execution_count": 18,
   "id": "5a9d39f6-8ebc-40b3-8b3e-11509a8df291",
   "metadata": {},
   "outputs": [
    {
     "data": {
      "text/plain": [
       "array([[7, 7],\n",
       "       [7, 7]])"
      ]
     },
     "execution_count": 18,
     "metadata": {},
     "output_type": "execute_result"
    }
   ],
   "source": [
    "numpy.full((2,2),7) # 2x2 array with all elements 7"
   ]
  },
  {
   "cell_type": "code",
   "execution_count": 21,
   "id": "070c185d-de10-482e-aed0-72f4cf446c33",
   "metadata": {},
   "outputs": [
    {
     "data": {
      "text/plain": [
       "array([[1., 0.],\n",
       "       [0., 1.]])"
      ]
     },
     "execution_count": 21,
     "metadata": {},
     "output_type": "execute_result"
    }
   ],
   "source": [
    "numpy.eye(2) # 2x2 identity matrix"
   ]
  },
  {
   "cell_type": "code",
   "execution_count": 33,
   "id": "d3187cdc-5f00-4b22-b6fe-8e053ea15651",
   "metadata": {},
   "outputs": [
    {
     "data": {
      "text/plain": [
       "array([0, 1, 2, 3, 4, 5, 6, 7, 8, 9])"
      ]
     },
     "execution_count": 33,
     "metadata": {},
     "output_type": "execute_result"
    }
   ],
   "source": [
    "numpy.arange(10) # Evenly spaced values in an interval"
   ]
  },
  {
   "cell_type": "code",
   "execution_count": 23,
   "id": "98f2ba34-5ce5-4d49-8e2b-66f18b4a950b",
   "metadata": {},
   "outputs": [
    {
     "data": {
      "text/plain": [
       "array([0., 1., 2., 3., 4., 5., 6., 7., 8., 9.])"
      ]
     },
     "execution_count": 23,
     "metadata": {},
     "output_type": "execute_result"
    }
   ],
   "source": [
    "numpy.linspace(0,9,10) # same as above"
   ]
  },
  {
   "cell_type": "code",
   "execution_count": 27,
   "id": "df672770-b8a5-4895-86c2-3de4f88b842e",
   "metadata": {},
   "outputs": [],
   "source": [
    "c = numpy.ones((3,3))\n",
    "d = numpy.ones((3,2),'bool') # 3x2 boolean array"
   ]
  },
  {
   "cell_type": "markdown",
   "id": "da986fc5-3772-4276-849d-0ddc694f95e7",
   "metadata": {},
   "source": [
    "Arrays can also be stored and read from a (.npy) file ([`numpy.save()`](https://numpy.org/doc/stable/reference/generated/numpy.save.html#numpy.save), [`numpy.load()`](https://numpy.org/doc/stable/reference/generated/numpy.load.html#numpy.load)):"
   ]
  },
  {
   "cell_type": "code",
   "execution_count": 29,
   "id": "46bf9a55-00ec-41e2-829d-9d344f65ff41",
   "metadata": {},
   "outputs": [],
   "source": [
    "numpy.save('x.npy', a) # save the array a to a .npy file\n",
    "x = numpy.load('x.npy') # load an array from a .npy file and store it in variable x"
   ]
  },
  {
   "cell_type": "markdown",
   "id": "dbf191a2-d701-410d-baff-a4e248a1ce2f",
   "metadata": {},
   "source": [
    "In many occasions (especially when something goes different than expected) it is useful to check and control the datatype of the array ([`numpy.ndarray.dtype`](https://numpy.org/doc/stable/reference/generated/numpy.ndarray.dtype.html#numpy.ndarray.dtype), [`numpy.ndarray.astype()`](https://numpy.org/doc/stable/reference/generated/numpy.ndarray.astype.html#numpy.ndarray.astype)):"
   ]
  },
  {
   "cell_type": "code",
   "execution_count": 30,
   "id": "edee5a33-c2b3-4d96-bf87-6ceed409221f",
   "metadata": {},
   "outputs": [
    {
     "data": {
      "text/plain": [
       "dtype('bool')"
      ]
     },
     "execution_count": 30,
     "metadata": {},
     "output_type": "execute_result"
    }
   ],
   "source": [
    "d.dtype # datatype of the array"
   ]
  },
  {
   "cell_type": "code",
   "execution_count": 31,
   "id": "b39d3a69-5968-4a6c-a193-2cec53ba1276",
   "metadata": {},
   "outputs": [
    {
     "data": {
      "text/plain": [
       "array([[1, 1],\n",
       "       [1, 1],\n",
       "       [1, 1]])"
      ]
     },
     "execution_count": 31,
     "metadata": {},
     "output_type": "execute_result"
    }
   ],
   "source": [
    "d.astype('int') # change datatype from boolean to integer"
   ]
  },
  {
   "cell_type": "markdown",
   "id": "9481619b-fce9-408f-acb8-66d0daa51c75",
   "metadata": {},
   "source": [
    "Create a 3x2 array of random float numbers (check [`numpy.random.random()`](https://numpy.org/doc/stable/reference/random/generated/numpy.random.random.html#numpy.random.random)) between 0 and 1. Now change the arrays datatype to int ([`array.astype`](https://numpy.org/doc/stable/reference/generated/numpy.ndarray.astype.html#numpy.ndarray.astype)). How does the array look like?"
   ]
  },
  {
   "cell_type": "code",
   "execution_count": 37,
   "id": "dc656fa4-627b-48f0-b77c-45910fe29b1c",
   "metadata": {},
   "outputs": [
    {
     "data": {
      "text/plain": [
       "array([[0, 0],\n",
       "       [0, 0],\n",
       "       [0, 0]])"
      ]
     },
     "execution_count": 37,
     "metadata": {},
     "output_type": "execute_result"
    }
   ],
   "source": [
    "a = numpy.random.random((3,2))\n",
    "a.astype('int')"
   ]
  },
  {
   "cell_type": "markdown",
   "id": "41d12944-b12e-4726-a53f-434e9bdd800d",
   "metadata": {},
   "source": [
    "Create a 3x2 array of random integer numbers between 0 and 10. Change the shape of the array (check [`array.reshape`](https://numpy.org/doc/stable/reference/generated/numpy.ndarray.reshape.html#numpy.ndarray.reshape)) in any way possible. What is not possible?"
   ]
  },
  {
   "cell_type": "code",
   "execution_count": 41,
   "id": "055ec26d-960a-4e85-991b-abe7db88253d",
   "metadata": {},
   "outputs": [
    {
     "data": {
      "text/plain": [
       "array([[3],\n",
       "       [1],\n",
       "       [0],\n",
       "       [9],\n",
       "       [1],\n",
       "       [8]])"
      ]
     },
     "execution_count": 41,
     "metadata": {},
     "output_type": "execute_result"
    }
   ],
   "source": [
    "b = numpy.random.randint(0, 10, (3,2))\n",
    "b.reshape((6,1))"
   ]
  },
  {
   "cell_type": "code",
   "execution_count": 42,
   "id": "d13d7379-05d9-4c46-b8d5-123ebeb8991a",
   "metadata": {},
   "outputs": [
    {
     "data": {
      "text/plain": [
       "array([[3, 1, 0],\n",
       "       [9, 1, 8]])"
      ]
     },
     "execution_count": 42,
     "metadata": {},
     "output_type": "execute_result"
    }
   ],
   "source": [
    "b.reshape((2,3))"
   ]
  },
  {
   "cell_type": "markdown",
   "id": "c3514f93-304a-42f9-8fb1-b589b45e12f3",
   "metadata": {},
   "source": [
    "It is not possible to reshape to shapes using more or less elements than `b.size = 6`, so for example `b.reshape((12,1))` gives an error."
   ]
  },
  {
   "cell_type": "code",
   "execution_count": 43,
   "id": "53de7bbc-fe42-46a6-9701-328e3a791f24",
   "metadata": {},
   "outputs": [
    {
     "ename": "ValueError",
     "evalue": "cannot reshape array of size 6 into shape (12,1)",
     "output_type": "error",
     "traceback": [
      "\u001b[0;31m---------------------------------------------------------------------------\u001b[0m",
      "\u001b[0;31mValueError\u001b[0m                                Traceback (most recent call last)",
      "Cell \u001b[0;32mIn [43], line 1\u001b[0m\n\u001b[0;32m----> 1\u001b[0m \u001b[43mb\u001b[49m\u001b[38;5;241;43m.\u001b[39;49m\u001b[43mreshape\u001b[49m\u001b[43m(\u001b[49m\u001b[43m(\u001b[49m\u001b[38;5;241;43m12\u001b[39;49m\u001b[43m,\u001b[49m\u001b[38;5;241;43m1\u001b[39;49m\u001b[43m)\u001b[49m\u001b[43m)\u001b[49m\n",
      "\u001b[0;31mValueError\u001b[0m: cannot reshape array of size 6 into shape (12,1)"
     ]
    }
   ],
   "source": [
    "b.reshape((12,1))"
   ]
  },
  {
   "cell_type": "markdown",
   "id": "363d7fad-e3f2-4d40-bd9d-64bb4f53d557",
   "metadata": {},
   "source": [
    "Save above array to .npy file ([`numpy.save()`](https://numpy.org/doc/stable/reference/generated/numpy.save.html#numpy.save)) and read it in again."
   ]
  },
  {
   "cell_type": "code",
   "execution_count": 45,
   "id": "28a5edfb-e2b1-4b4a-a8bb-255951aa7750",
   "metadata": {},
   "outputs": [],
   "source": [
    "numpy.save('x.npy', b)\n",
    "x = numpy.load('x.npy')"
   ]
  },
  {
   "cell_type": "markdown",
   "id": "8c5012f7-c1f0-4cb8-af8e-fe7d28faa264",
   "metadata": {},
   "source": [
    "Note that unlike Matlab, where `*` means matrix multiplication, NumPy uses `*` to perform element-by-element multiplication and uses the `@` symbol to perform matrix multiplication:"
   ]
  },
  {
   "cell_type": "code",
   "execution_count": 13,
   "id": "29def97f-4ec8-46c1-a508-5967c1f5a754",
   "metadata": {},
   "outputs": [],
   "source": [
    "a = numpy.array([[1,2],[3,4]])\n",
    "b = numpy.array([[5,6],[7,8]])"
   ]
  },
  {
   "cell_type": "code",
   "execution_count": 14,
   "id": "66d867e1-f1b7-431e-8b9c-e645ee951383",
   "metadata": {},
   "outputs": [],
   "source": [
    "# Addition\n",
    "c = a+b\n",
    "d = numpy.add(a,b)"
   ]
  },
  {
   "cell_type": "code",
   "execution_count": 15,
   "id": "be90bc0f-424b-4a31-aca1-cae1ff1d5b9d",
   "metadata": {},
   "outputs": [],
   "source": [
    "# Matrix multiplication\n",
    "e = a @ b\n",
    "f = numpy.dot(a,b)"
   ]
  },
  {
   "cell_type": "markdown",
   "id": "26d73dbf-bd7e-4170-b6fd-7351eb2c73f1",
   "metadata": {},
   "source": [
    "NumPy has many ways to extract values out of arrays:\n",
    "\n",
    "* You can select a single element\n",
    "\n",
    "* You can select rows or columns\n",
    "\n",
    "* You can select ranges where a condition is true.\n",
    "\n",
    "Clever and efficient use of these operations is a key to NumPy’s speed: you should try to cleverly use these selectors (written in C) to extract data to be used with other NumPy functions written in C or Fortran. This will give you the benefits of Python with most of the speed of C."
   ]
  },
  {
   "cell_type": "code",
   "execution_count": 3,
   "id": "8cb66b1c-c6b4-4e6b-b20b-bad1c59354b1",
   "metadata": {},
   "outputs": [
    {
     "data": {
      "text/plain": [
       "array([0, 1, 2, 3])"
      ]
     },
     "execution_count": 3,
     "metadata": {},
     "output_type": "execute_result"
    }
   ],
   "source": [
    "a = numpy.arange(16).reshape(4,4) # 4x4 matrix from 0 to 15\n",
    "a[0] # first row"
   ]
  },
  {
   "cell_type": "code",
   "execution_count": 4,
   "id": "46e755cd-ad43-4e85-957a-aac9efc8a154",
   "metadata": {},
   "outputs": [
    {
     "data": {
      "text/plain": [
       "array([ 0,  4,  8, 12])"
      ]
     },
     "execution_count": 4,
     "metadata": {},
     "output_type": "execute_result"
    }
   ],
   "source": [
    "a[:,0] # first column"
   ]
  },
  {
   "cell_type": "code",
   "execution_count": 5,
   "id": "14c997dc-994d-4255-afc4-2e311b836e62",
   "metadata": {},
   "outputs": [
    {
     "data": {
      "text/plain": [
       "array([[ 5,  6],\n",
       "       [ 9, 10]])"
      ]
     },
     "execution_count": 5,
     "metadata": {},
     "output_type": "execute_result"
    }
   ],
   "source": [
    "a[1:3, 1:3] # middle 2x2 array"
   ]
  },
  {
   "cell_type": "code",
   "execution_count": 6,
   "id": "df56b452-8f09-4f67-bf8d-0ad21044a519",
   "metadata": {},
   "outputs": [
    {
     "data": {
      "text/plain": [
       "array([1, 5])"
      ]
     },
     "execution_count": 6,
     "metadata": {},
     "output_type": "execute_result"
    }
   ],
   "source": [
    "a[(0,1), (1,1)] # second element of first and second row as array"
   ]
  },
  {
   "cell_type": "markdown",
   "id": "68deb95e-a2df-4e0b-b1a4-9e2315d1a58c",
   "metadata": {},
   "source": [
    "Boolean indexing on above created array:"
   ]
  },
  {
   "cell_type": "code",
   "execution_count": 8,
   "id": "a20cb470-7118-455f-ae2a-6bb5fa931177",
   "metadata": {},
   "outputs": [
    {
     "data": {
      "text/plain": [
       "array([ 1,  2,  3,  4,  5,  6,  7,  8,  9, 10, 11, 12, 13, 14, 15])"
      ]
     },
     "execution_count": 8,
     "metadata": {},
     "output_type": "execute_result"
    }
   ],
   "source": [
    "idx = (a > 0) # creates boolean matrix of same size as a\n",
    "a[idx] # array with matching values of above criterion"
   ]
  },
  {
   "cell_type": "code",
   "execution_count": 9,
   "id": "0a10c98e-2929-4de2-b0f8-04f2a276ab7e",
   "metadata": {},
   "outputs": [
    {
     "data": {
      "text/plain": [
       "array([ 1,  2,  3,  4,  5,  6,  7,  8,  9, 10, 11, 12, 13, 14, 15])"
      ]
     },
     "execution_count": 9,
     "metadata": {},
     "output_type": "execute_result"
    }
   ],
   "source": [
    "a[a > 0] # same as above in one line"
   ]
  },
  {
   "cell_type": "markdown",
   "id": "90c9dfb8-f195-4024-9e9e-d37fa764c8df",
   "metadata": {},
   "source": [
    "How does `a` look like before `b` has changed and after? How could it be avoided?"
   ]
  },
  {
   "cell_type": "code",
   "execution_count": 13,
   "id": "fa318fbb-bea0-4d8f-9c16-bf55f02eae80",
   "metadata": {},
   "outputs": [
    {
     "name": "stdout",
     "output_type": "stream",
     "text": [
      "[[1. 0. 0. 0.]\n",
      " [0. 1. 0. 0.]\n",
      " [0. 0. 1. 0.]\n",
      " [0. 0. 0. 1.]]\n"
     ]
    }
   ],
   "source": [
    "a = numpy.eye(4)\n",
    "print(a)"
   ]
  },
  {
   "cell_type": "code",
   "execution_count": 14,
   "id": "7b290d3d-9adc-4f45-b22f-4e39e03f78bf",
   "metadata": {},
   "outputs": [
    {
     "name": "stdout",
     "output_type": "stream",
     "text": [
      "[1. 0. 0. 0.]\n"
     ]
    }
   ],
   "source": [
    "b = a[:,0]\n",
    "print(b)"
   ]
  },
  {
   "cell_type": "code",
   "execution_count": 15,
   "id": "0e743942-13fe-4c82-8975-c4ad7e9e3fe8",
   "metadata": {},
   "outputs": [
    {
     "name": "stdout",
     "output_type": "stream",
     "text": [
      "[5. 0. 0. 0.]\n"
     ]
    }
   ],
   "source": [
    "b[0] = 5\n",
    "print(b)"
   ]
  },
  {
   "cell_type": "markdown",
   "id": "2d086731-2349-4502-918e-ccf16b024713",
   "metadata": {},
   "source": [
    "**ufuncs**, “[universal functions](https://numpy.org/doc/stable/reference/ufuncs.html#ufuncs)”: These are element-by-element functions with standardized arguments:\n",
    "\n",
    "* One, two, or three input arguments\n",
    "\n",
    "* For example, `a + b` is similar to [numpy.add(a, b)](https://numpy.org/doc/stable/reference/generated/numpy.add.html#numpy.add) but the ufunc has more control.\n",
    "\n",
    "* `out=` output argument, store output in this array (rather than make a new array) - saves copying data!\n",
    "\n",
    "* See the [full reference](https://numpy.org/doc/stable/reference/ufuncs.html)\n",
    "\n",
    "* They also do **broadcasting** ([ref](https://numpy.org/doc/stable/user/basics.broadcasting.html#basics-broadcasting)). Can you add a 1-dimensional array of shape (*3*) to an 2-dimensional array of shape (*3, 2*)? With broadcasting you can!"
   ]
  },
  {
   "cell_type": "code",
   "execution_count": 18,
   "id": "f005334f-8ecb-4d70-b048-eaae78e88f10",
   "metadata": {},
   "outputs": [
    {
     "data": {
      "text/plain": [
       "array([[11, 12, 13],\n",
       "       [14, 15, 16]])"
      ]
     },
     "execution_count": 18,
     "metadata": {},
     "output_type": "execute_result"
    }
   ],
   "source": [
    "a = numpy.array([[1,2,3],[4,5,6]])\n",
    "b = numpy.array([10,10,10])\n",
    "a+b"
   ]
  },
  {
   "cell_type": "markdown",
   "id": "481fb1df-aec5-47c9-82b6-ef1911782ea2",
   "metadata": {},
   "source": [
    "Some of these are the same as ufuncs:"
   ]
  },
  {
   "cell_type": "code",
   "execution_count": 22,
   "id": "1398ad02-003d-4527-82ba-e300c7dc2069",
   "metadata": {},
   "outputs": [
    {
     "data": {
      "text/plain": [
       "array([[ 0,  1,  2,  3],\n",
       "       [ 4,  5,  6,  7],\n",
       "       [ 8,  9, 10, 11]])"
      ]
     },
     "execution_count": 22,
     "metadata": {},
     "output_type": "execute_result"
    }
   ],
   "source": [
    "x = numpy.arange(12)\n",
    "x.shape = (3,4)\n",
    "x"
   ]
  },
  {
   "cell_type": "code",
   "execution_count": 23,
   "id": "42892e0b-f699-4cf8-9215-cfdb69ab9e4e",
   "metadata": {},
   "outputs": [
    {
     "data": {
      "text/plain": [
       "11"
      ]
     },
     "execution_count": 23,
     "metadata": {},
     "output_type": "execute_result"
    }
   ],
   "source": [
    "x.max()"
   ]
  },
  {
   "cell_type": "code",
   "execution_count": 24,
   "id": "90034a08-a03f-4c7c-a029-ed510a2a1b24",
   "metadata": {},
   "outputs": [
    {
     "data": {
      "text/plain": [
       "array([ 8,  9, 10, 11])"
      ]
     },
     "execution_count": 24,
     "metadata": {},
     "output_type": "execute_result"
    }
   ],
   "source": [
    "x.max(axis = 0)"
   ]
  },
  {
   "cell_type": "code",
   "execution_count": 25,
   "id": "485a7998-9109-4af8-b360-213fb82bd68b",
   "metadata": {},
   "outputs": [
    {
     "data": {
      "text/plain": [
       "array([ 3,  7, 11])"
      ]
     },
     "execution_count": 25,
     "metadata": {},
     "output_type": "execute_result"
    }
   ],
   "source": [
    "x.max(axis = 1)"
   ]
  },
  {
   "cell_type": "markdown",
   "id": "2e32b773-49af-4e27-809c-1fdf80d1e6f3",
   "metadata": {},
   "source": [
    "Create an array, add it to itself using a ufunc."
   ]
  },
  {
   "cell_type": "code",
   "execution_count": 27,
   "id": "f9005b0b-02ea-4ea5-b6c8-706fbb226305",
   "metadata": {},
   "outputs": [
    {
     "data": {
      "text/plain": [
       "140307244007312"
      ]
     },
     "execution_count": 27,
     "metadata": {},
     "output_type": "execute_result"
    }
   ],
   "source": [
    "x = numpy.array([1,2,3])\n",
    "id(x) # get the memory-ID of x"
   ]
  },
  {
   "cell_type": "code",
   "execution_count": 28,
   "id": "0788c7a0-6288-495f-9748-28071ddb95d6",
   "metadata": {},
   "outputs": [
    {
     "data": {
      "text/plain": [
       "array([2, 4, 6])"
      ]
     },
     "execution_count": 28,
     "metadata": {},
     "output_type": "execute_result"
    }
   ],
   "source": [
    "numpy.add(x,x,x)"
   ]
  },
  {
   "cell_type": "code",
   "execution_count": 29,
   "id": "14fdeee0-33bf-43f9-aa85-43417e60dd98",
   "metadata": {},
   "outputs": [
    {
     "data": {
      "text/plain": [
       "array([ 4,  8, 12])"
      ]
     },
     "execution_count": 29,
     "metadata": {},
     "output_type": "execute_result"
    }
   ],
   "source": [
    "numpy.add(x,x,x)"
   ]
  },
  {
   "cell_type": "code",
   "execution_count": 30,
   "id": "ed2f2add-54a6-43e5-8f91-ce3ce5aff1d3",
   "metadata": {},
   "outputs": [
    {
     "name": "stdout",
     "output_type": "stream",
     "text": [
      "[ 4  8 12]\n"
     ]
    }
   ],
   "source": [
    "print(x)"
   ]
  },
  {
   "cell_type": "code",
   "execution_count": 31,
   "id": "fd6a0695-9e2d-496f-bcf9-621499e2b422",
   "metadata": {},
   "outputs": [
    {
     "data": {
      "text/plain": [
       "140307244007312"
      ]
     },
     "execution_count": 31,
     "metadata": {},
     "output_type": "execute_result"
    }
   ],
   "source": [
    "id(x)"
   ]
  },
  {
   "cell_type": "markdown",
   "id": "9faad773-1514-4554-b18e-e4075d8576b0",
   "metadata": {},
   "source": [
    "Repeat the initial `b = a ** 2` example using the output arguments and time it. Can you make it even faster using the output argument?"
   ]
  },
  {
   "cell_type": "code",
   "execution_count": 39,
   "id": "e52dae13-ed2b-4c41-bf48-4af8a251304e",
   "metadata": {},
   "outputs": [],
   "source": [
    "a = numpy.arange(10_000)\n",
    "b = numpy.zeros(10_000)"
   ]
  },
  {
   "cell_type": "code",
   "execution_count": 40,
   "id": "bc9100f7-db9f-497f-8a71-aca2d1189ece",
   "metadata": {},
   "outputs": [
    {
     "name": "stdout",
     "output_type": "stream",
     "text": [
      "10.7 µs ± 331 ns per loop (mean ± std. dev. of 7 runs, 100,000 loops each)\n"
     ]
    }
   ],
   "source": [
    "%%timeit\n",
    "numpy.square(a, out=b)"
   ]
  },
  {
   "cell_type": "markdown",
   "id": "b5ddce08-4ebd-4707-994a-7637e6b10ec8",
   "metadata": {},
   "source": [
    "Given a vector, reverse it such that the last element becomes the first, e.g. `[1, 2, 3] => [3, 2, 1]`"
   ]
  },
  {
   "cell_type": "code",
   "execution_count": 43,
   "id": "e7b78860-2f31-4b76-8254-d6d5c84c36b0",
   "metadata": {},
   "outputs": [
    {
     "name": "stdout",
     "output_type": "stream",
     "text": [
      "[1 2 3]\n"
     ]
    }
   ],
   "source": [
    "a = numpy.array([1,2,3])\n",
    "print(a)"
   ]
  },
  {
   "cell_type": "code",
   "execution_count": 44,
   "id": "6896bb90-1279-42fe-a7ad-4a4f78ad8922",
   "metadata": {},
   "outputs": [
    {
     "data": {
      "text/plain": [
       "array([3, 2, 1])"
      ]
     },
     "execution_count": 44,
     "metadata": {},
     "output_type": "execute_result"
    }
   ],
   "source": [
    "a[::-1]"
   ]
  },
  {
   "cell_type": "markdown",
   "id": "68eea2fa-325a-42af-985f-9a455a4c59cf",
   "metadata": {},
   "source": [
    "Create a 2D array with zeros on the borders and 1 inside."
   ]
  },
  {
   "cell_type": "code",
   "execution_count": 47,
   "id": "a99af78f-0d64-46aa-a061-8bfc81184143",
   "metadata": {},
   "outputs": [
    {
     "name": "stdout",
     "output_type": "stream",
     "text": [
      "[[1. 1. 1. 1. 1. 1. 1. 1. 1. 1.]\n",
      " [1. 1. 1. 1. 1. 1. 1. 1. 1. 1.]\n",
      " [1. 1. 1. 1. 1. 1. 1. 1. 1. 1.]\n",
      " [1. 1. 1. 1. 1. 1. 1. 1. 1. 1.]\n",
      " [1. 1. 1. 1. 1. 1. 1. 1. 1. 1.]\n",
      " [1. 1. 1. 1. 1. 1. 1. 1. 1. 1.]\n",
      " [1. 1. 1. 1. 1. 1. 1. 1. 1. 1.]\n",
      " [1. 1. 1. 1. 1. 1. 1. 1. 1. 1.]\n",
      " [1. 1. 1. 1. 1. 1. 1. 1. 1. 1.]\n",
      " [1. 1. 1. 1. 1. 1. 1. 1. 1. 1.]]\n"
     ]
    }
   ],
   "source": [
    "b = numpy.ones((10,10))\n",
    "print(b)"
   ]
  },
  {
   "cell_type": "code",
   "execution_count": 49,
   "id": "79d6f178-f421-4c27-bfb9-bfdf829038e5",
   "metadata": {},
   "outputs": [
    {
     "name": "stdout",
     "output_type": "stream",
     "text": [
      "[[0. 1. 1. 1. 1. 1. 1. 1. 1. 0.]\n",
      " [0. 1. 1. 1. 1. 1. 1. 1. 1. 0.]\n",
      " [0. 1. 1. 1. 1. 1. 1. 1. 1. 0.]\n",
      " [0. 1. 1. 1. 1. 1. 1. 1. 1. 0.]\n",
      " [0. 1. 1. 1. 1. 1. 1. 1. 1. 0.]\n",
      " [0. 1. 1. 1. 1. 1. 1. 1. 1. 0.]\n",
      " [0. 1. 1. 1. 1. 1. 1. 1. 1. 0.]\n",
      " [0. 1. 1. 1. 1. 1. 1. 1. 1. 0.]\n",
      " [0. 1. 1. 1. 1. 1. 1. 1. 1. 0.]\n",
      " [0. 1. 1. 1. 1. 1. 1. 1. 1. 0.]]\n"
     ]
    }
   ],
   "source": [
    "b[:,[0,-1]] = 0\n",
    "print(b)"
   ]
  },
  {
   "cell_type": "code",
   "execution_count": 51,
   "id": "a29290e4-04a5-470d-bbf5-53de701c87ef",
   "metadata": {},
   "outputs": [
    {
     "name": "stdout",
     "output_type": "stream",
     "text": [
      "[[0. 0. 0. 0. 0. 0. 0. 0. 0. 0.]\n",
      " [0. 1. 1. 1. 1. 1. 1. 1. 1. 0.]\n",
      " [0. 1. 1. 1. 1. 1. 1. 1. 1. 0.]\n",
      " [0. 1. 1. 1. 1. 1. 1. 1. 1. 0.]\n",
      " [0. 1. 1. 1. 1. 1. 1. 1. 1. 0.]\n",
      " [0. 1. 1. 1. 1. 1. 1. 1. 1. 0.]\n",
      " [0. 1. 1. 1. 1. 1. 1. 1. 1. 0.]\n",
      " [0. 1. 1. 1. 1. 1. 1. 1. 1. 0.]\n",
      " [0. 1. 1. 1. 1. 1. 1. 1. 1. 0.]\n",
      " [0. 0. 0. 0. 0. 0. 0. 0. 0. 0.]]\n"
     ]
    }
   ],
   "source": [
    "b[[0,-1],:] = 0\n",
    "print(b)"
   ]
  },
  {
   "cell_type": "markdown",
   "id": "70c098a3-eb0a-4436-8545-8a202097a59e",
   "metadata": {},
   "source": [
    "Create a random array with elements [0, 1), then add 10 to all elements in the range [0.2, 0.7)."
   ]
  },
  {
   "cell_type": "code",
   "execution_count": 59,
   "id": "d9b8ae83-8b83-47e8-acee-a2548a7665f2",
   "metadata": {},
   "outputs": [
    {
     "name": "stdout",
     "output_type": "stream",
     "text": [
      "[0.01274712 0.30927344 0.61101316 0.92748399 0.16911514 0.32533251\n",
      " 0.16528345 0.64580721 0.27099413 0.23329335 0.0792641  0.02051339\n",
      " 0.83049454 0.23382636 0.21484224 0.58018177 0.24872194 0.45665287\n",
      " 0.77602949 0.66970828 0.25354313 0.31305924 0.8225351  0.10174873\n",
      " 0.85223495 0.04828298 0.88861751 0.58144983 0.19773112 0.03029886\n",
      " 0.05325332 0.77858887 0.62956311 0.55101164 0.21866102 0.07537859\n",
      " 0.90049642 0.88043104 0.33305144 0.1030279  0.43662655 0.95385366\n",
      " 0.02115483 0.77771794 0.96190376 0.3847206  0.30620333 0.7438956\n",
      " 0.50220671 0.98885551]\n"
     ]
    }
   ],
   "source": [
    "x = numpy.random.rand(50)\n",
    "print(x)"
   ]
  },
  {
   "cell_type": "code",
   "execution_count": 60,
   "id": "87de6151-3f52-4d17-90d1-1bcaaac93a7f",
   "metadata": {},
   "outputs": [
    {
     "name": "stdout",
     "output_type": "stream",
     "text": [
      "[ 0.01274712 10.30927344 10.61101316  0.92748399  0.16911514 10.32533251\n",
      "  0.16528345 10.64580721 10.27099413 10.23329335  0.0792641   0.02051339\n",
      "  0.83049454 10.23382636 10.21484224 10.58018177 10.24872194 10.45665287\n",
      "  0.77602949 10.66970828 10.25354313 10.31305924  0.8225351   0.10174873\n",
      "  0.85223495  0.04828298  0.88861751 10.58144983  0.19773112  0.03029886\n",
      "  0.05325332  0.77858887 10.62956311 10.55101164 10.21866102  0.07537859\n",
      "  0.90049642  0.88043104 10.33305144  0.1030279  10.43662655  0.95385366\n",
      "  0.02115483  0.77771794  0.96190376 10.3847206  10.30620333  0.7438956\n",
      " 10.50220671  0.98885551]\n"
     ]
    }
   ],
   "source": [
    "y = x + 10 * (x >= 0.2) * (x < 0.7)\n",
    "print(y)"
   ]
  },
  {
   "cell_type": "markdown",
   "id": "40d76708-87a9-4e51-a904-a35969f18121",
   "metadata": {},
   "source": [
    "explore [`numpy.ceil`](https://numpy.org/doc/stable/reference/generated/numpy.ceil.html#numpy.ceil), [`numpy.floor`](https://numpy.org/doc/stable/reference/generated/numpy.floor.html#numpy.floor), [`numpy.trunc`](https://numpy.org/doc/stable/reference/generated/numpy.trunc.html#numpy.trunc). In particular, take note of how they behave with negative numbers."
   ]
  },
  {
   "cell_type": "code",
   "execution_count": 62,
   "id": "f59180d1-4cd5-4e0c-b892-6cf9660deccc",
   "metadata": {},
   "outputs": [
    {
     "data": {
      "text/plain": [
       "array([-3., -2., -2., -1., -0.,  0.,  1.,  2.,  2.,  3.])"
      ]
     },
     "execution_count": 62,
     "metadata": {},
     "output_type": "execute_result"
    }
   ],
   "source": [
    "a = numpy.array([-3.3, -2.5, -1.5, -0.75, -0.5, 0.5, 0.75, 1.5, 2.5, 3])\n",
    "numpy.round(a)"
   ]
  },
  {
   "cell_type": "code",
   "execution_count": 63,
   "id": "74d2ef84-42d2-409b-96ae-c6f9c1ab9f21",
   "metadata": {},
   "outputs": [
    {
     "data": {
      "text/plain": [
       "array([-3., -2., -1., -0., -0.,  1.,  1.,  2.,  3.,  3.])"
      ]
     },
     "execution_count": 63,
     "metadata": {},
     "output_type": "execute_result"
    }
   ],
   "source": [
    "numpy.ceil(a)"
   ]
  },
  {
   "cell_type": "code",
   "execution_count": 64,
   "id": "6ae8e559-d32c-4fa6-8f92-b795ab39f265",
   "metadata": {},
   "outputs": [
    {
     "data": {
      "text/plain": [
       "array([-4., -3., -2., -1., -1.,  0.,  0.,  1.,  2.,  3.])"
      ]
     },
     "execution_count": 64,
     "metadata": {},
     "output_type": "execute_result"
    }
   ],
   "source": [
    "numpy.floor(a)"
   ]
  },
  {
   "cell_type": "code",
   "execution_count": 66,
   "id": "9b048c79-cdc9-477e-a88c-2e85edf04d67",
   "metadata": {},
   "outputs": [
    {
     "data": {
      "text/plain": [
       "array([-3., -2., -1., -0., -0.,  0.,  0.,  1.,  2.,  3.])"
      ]
     },
     "execution_count": 66,
     "metadata": {},
     "output_type": "execute_result"
    }
   ],
   "source": [
    "numpy.trunc(a)"
   ]
  },
  {
   "cell_type": "markdown",
   "id": "07b4e511-6430-498a-be09-1aab7309211f",
   "metadata": {},
   "source": [
    "Recall the identity $sin^2(x)+cos^2(x)=1$. Create a random 4x4 array with values in the range [0, 10). Now test the equality with [`numpy.equal`](https://numpy.org/doc/stable/reference/generated/numpy.equal.html#numpy.equal). What result do you get with [`numpy.allclose()`](https://numpy.org/doc/stable/reference/generated/numpy.allclose.html#numpy.allclose)"
   ]
  },
  {
   "cell_type": "code",
   "execution_count": 68,
   "id": "7436db92-1827-4cbc-9e5f-337581dce5cb",
   "metadata": {},
   "outputs": [
    {
     "name": "stdout",
     "output_type": "stream",
     "text": [
      "[[8.76575182 7.09809004 7.97685078 7.75315834]\n",
      " [5.59074705 0.8588835  5.98759166 0.19313093]\n",
      " [4.11327838 7.27510122 2.55618174 1.52555783]\n",
      " [3.32926713 5.88953124 4.28814731 2.32197409]]\n"
     ]
    }
   ],
   "source": [
    "x = 10 * numpy.random.rand(4,4)\n",
    "print(x)"
   ]
  },
  {
   "cell_type": "code",
   "execution_count": 70,
   "id": "a4f70a13-d3c0-4bc3-819d-746ecb75a42b",
   "metadata": {},
   "outputs": [
    {
     "name": "stdout",
     "output_type": "stream",
     "text": [
      "[[1. 1. 1. 1.]\n",
      " [1. 1. 1. 1.]\n",
      " [1. 1. 1. 1.]\n",
      " [1. 1. 1. 1.]]\n"
     ]
    }
   ],
   "source": [
    "oo = numpy.ones((4,4))\n",
    "print(oo)"
   ]
  },
  {
   "cell_type": "code",
   "execution_count": 72,
   "id": "6c247777-7bda-476d-858f-3d9142081e36",
   "metadata": {},
   "outputs": [
    {
     "name": "stdout",
     "output_type": "stream",
     "text": [
      "[[1. 1. 1. 1.]\n",
      " [1. 1. 1. 1.]\n",
      " [1. 1. 1. 1.]\n",
      " [1. 1. 1. 1.]]\n"
     ]
    }
   ],
   "source": [
    "s2c2 = numpy.square(numpy.sin(x)) + numpy.square(numpy.cos(x))\n",
    "print(s2c2)"
   ]
  },
  {
   "cell_type": "code",
   "execution_count": 73,
   "id": "5b77a812-fca3-4694-9616-63e89b8a7ce4",
   "metadata": {},
   "outputs": [
    {
     "data": {
      "text/plain": [
       "array([[ True,  True, False, False],\n",
       "       [False,  True,  True, False],\n",
       "       [ True,  True,  True,  True],\n",
       "       [ True,  True, False,  True]])"
      ]
     },
     "execution_count": 73,
     "metadata": {},
     "output_type": "execute_result"
    }
   ],
   "source": [
    "numpy.equal(oo, s2c2)"
   ]
  },
  {
   "cell_type": "code",
   "execution_count": 74,
   "id": "ab328646-ca23-4248-843f-a99e54171f39",
   "metadata": {},
   "outputs": [
    {
     "data": {
      "text/plain": [
       "True"
      ]
     },
     "execution_count": 74,
     "metadata": {},
     "output_type": "execute_result"
    }
   ],
   "source": [
    "numpy.allclose(oo, s2c2)"
   ]
  },
  {
   "cell_type": "markdown",
   "id": "1e59e3b2-9e8a-433d-b996-805a99434628",
   "metadata": {},
   "source": [
    "Create a 1D array with 10 random elements. Sort it."
   ]
  },
  {
   "cell_type": "code",
   "execution_count": 77,
   "id": "5f5cbf5a-92c4-44b8-a324-cca5980e3344",
   "metadata": {},
   "outputs": [
    {
     "name": "stdout",
     "output_type": "stream",
     "text": [
      "[9.59343400e-01 5.73142293e-01 9.97219500e-01 5.82734253e-01\n",
      " 5.49202082e-01 4.47544958e-01 6.42435769e-04 4.72824458e-01\n",
      " 2.61248144e-01 6.99084573e-01]\n"
     ]
    }
   ],
   "source": [
    "x = numpy.random.rand(10)\n",
    "print(x)"
   ]
  },
  {
   "cell_type": "code",
   "execution_count": 80,
   "id": "9ec5e2f5-af1c-4b8f-8d3c-6efd15d86e1f",
   "metadata": {},
   "outputs": [
    {
     "name": "stdout",
     "output_type": "stream",
     "text": [
      "[6.42435769e-04 2.61248144e-01 4.47544958e-01 4.72824458e-01\n",
      " 5.49202082e-01 5.73142293e-01 5.82734253e-01 6.99084573e-01\n",
      " 9.59343400e-01 9.97219500e-01]\n"
     ]
    }
   ],
   "source": [
    "x.sort()\n",
    "print(x)"
   ]
  },
  {
   "cell_type": "markdown",
   "id": "60bc383f-e231-4710-badf-0891d1d70af7",
   "metadata": {},
   "source": [
    "Create a 4x4 array of zeros, and another 4x4 array of ones. Next combine them into a single 8x4 array with the content of the zeros array on top and the ones on the bottom. Finally, do the same, but create a 4x8 array with the zeros on the left and the ones on the right."
   ]
  },
  {
   "cell_type": "code",
   "execution_count": 82,
   "id": "65153192-3825-414e-a2f4-a287aa3b9a4c",
   "metadata": {},
   "outputs": [
    {
     "name": "stdout",
     "output_type": "stream",
     "text": [
      "[[0. 0. 0. 0.]\n",
      " [0. 0. 0. 0.]\n",
      " [0. 0. 0. 0.]\n",
      " [0. 0. 0. 0.]]\n"
     ]
    }
   ],
   "source": [
    "z = numpy.zeros((4,4))\n",
    "print(z)"
   ]
  },
  {
   "cell_type": "code",
   "execution_count": 83,
   "id": "a5a0edbf-1936-4d9f-9916-d7c71b3f70b9",
   "metadata": {},
   "outputs": [
    {
     "name": "stdout",
     "output_type": "stream",
     "text": [
      "[[1. 1. 1. 1.]\n",
      " [1. 1. 1. 1.]\n",
      " [1. 1. 1. 1.]\n",
      " [1. 1. 1. 1.]]\n"
     ]
    }
   ],
   "source": [
    "o = numpy.ones((4,4))\n",
    "print(o)"
   ]
  },
  {
   "cell_type": "code",
   "execution_count": 85,
   "id": "6adcf0d2-4c31-46e3-82c9-cbaad73db04e",
   "metadata": {},
   "outputs": [
    {
     "data": {
      "text/plain": [
       "array([[0., 0., 0., 0.],\n",
       "       [0., 0., 0., 0.],\n",
       "       [0., 0., 0., 0.],\n",
       "       [0., 0., 0., 0.],\n",
       "       [1., 1., 1., 1.],\n",
       "       [1., 1., 1., 1.],\n",
       "       [1., 1., 1., 1.],\n",
       "       [1., 1., 1., 1.]])"
      ]
     },
     "execution_count": 85,
     "metadata": {},
     "output_type": "execute_result"
    }
   ],
   "source": [
    "numpy.concatenate((z, o))"
   ]
  },
  {
   "cell_type": "code",
   "execution_count": 86,
   "id": "40a4286e-a00c-43b2-8e90-73afcb98832c",
   "metadata": {},
   "outputs": [
    {
     "data": {
      "text/plain": [
       "array([[0., 0., 0., 0., 1., 1., 1., 1.],\n",
       "       [0., 0., 0., 0., 1., 1., 1., 1.],\n",
       "       [0., 0., 0., 0., 1., 1., 1., 1.],\n",
       "       [0., 0., 0., 0., 1., 1., 1., 1.]])"
      ]
     },
     "execution_count": 86,
     "metadata": {},
     "output_type": "execute_result"
    }
   ],
   "source": [
    "numpy.concatenate((z, o), axis=1)"
   ]
  },
  {
   "cell_type": "code",
   "execution_count": null,
   "id": "dffd96f1-0f61-43f5-84c7-8dc0558eee9b",
   "metadata": {},
   "outputs": [],
   "source": [
    "#include <stdlib.h>\n",
    "#include <stdio.h>\n",
    "#define N_ELEMENTS 100000000\n",
    "int main(int argc, char** argv) {\n",
    "    double* a = (double*) malloc(sizeof(double) * N_ELEMENTS);\n",
    "    int i;\n",
    "    for(i=0; i<N_ELEMENTS; ++i) {\n",
    "        a[i] = (double) rand() / RAND_MAX;\n",
    "    }\n",
    "    double sum = 0;\n",
    "    for(i=0; i<N_ELEMENTS; ++i) {\n",
    "        sum += a[i];\n",
    "    }\n",
    "    printf(\"%f\", sum);\n",
    "    return 0;\n",
    "}"
   ]
  },
  {
   "cell_type": "code",
   "execution_count": 91,
   "id": "74b1589c-d320-48b1-af1c-28bed5f7d098",
   "metadata": {},
   "outputs": [
    {
     "ename": "SyntaxError",
     "evalue": "invalid syntax (3994705439.py, line 1)",
     "output_type": "error",
     "traceback": [
      "\u001b[0;36m  Cell \u001b[0;32mIn [91], line 1\u001b[0;36m\u001b[0m\n\u001b[0;31m    int main(int argc, char** argv) {\u001b[0m\n\u001b[0m        ^\u001b[0m\n\u001b[0;31mSyntaxError\u001b[0m\u001b[0;31m:\u001b[0m invalid syntax\n"
     ]
    }
   ],
   "source": []
  },
  {
   "cell_type": "code",
   "execution_count": null,
   "id": "4d4145cc-e984-4f85-9ba7-80c0f9f4724d",
   "metadata": {},
   "outputs": [],
   "source": []
  }
 ],
 "metadata": {
  "kernelspec": {
   "display_name": "Julia 1.8.3",
   "language": "julia",
   "name": "julia-1.8"
  },
  "language_info": {
   "file_extension": ".jl",
   "mimetype": "application/julia",
   "name": "julia",
   "version": "1.8.3"
  }
 },
 "nbformat": 4,
 "nbformat_minor": 5
}
