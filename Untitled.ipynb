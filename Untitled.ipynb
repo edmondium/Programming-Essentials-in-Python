{
 "cells": [
  {
   "cell_type": "markdown",
   "id": "9775994a-7204-4ad1-9534-8649fc9cc99b",
   "metadata": {},
   "source": [
    "# Introduction to Python"
   ]
  },
  {
   "cell_type": "markdown",
   "id": "09b94c11-52af-4882-82b8-d8e943db00ad",
   "metadata": {},
   "source": [
    "Python has the usual control structures, that is conditional statements and loops. For example, [the if statement](https://docs.python.org/3/reference/compound_stmts.html#if):"
   ]
  },
  {
   "cell_type": "code",
   "execution_count": 5,
   "id": "2ee22eb8-5020-4532-9701-a9b204ef2ca0",
   "metadata": {},
   "outputs": [
    {
     "name": "stdout",
     "output_type": "stream",
     "text": [
      "x is 2\n"
     ]
    }
   ],
   "source": [
    "x = 2\n",
    "if x == 3: print('x is 3')\n",
    "elif x == 2: print('x is 2')\n",
    "else: print('x is something else')"
   ]
  },
  {
   "cell_type": "markdown",
   "id": "ee8ae067-0754-456f-956b-054f9780e520",
   "metadata": {},
   "source": [
    "[While](https://docs.python.org/3/reference/compound_stmts.html#while) loops loop until some condition is met:"
   ]
  },
  {
   "cell_type": "code",
   "execution_count": 4,
   "id": "0bcb7d10-a46f-4709-8e5f-d0db933b3f77",
   "metadata": {},
   "outputs": [],
   "source": [
    "x = 0\n",
    "while x < 42:\n",
    "    #print('x is', x)\n",
    "    x += 0.2"
   ]
  },
  {
   "cell_type": "markdown",
   "id": "0aa16acf-0c5a-4c4a-854e-fcbf8da0c448",
   "metadata": {},
   "source": [
    "[For](https://docs.python.org/3/reference/compound_stmts.html#for) loops loop over some collection of values:"
   ]
  },
  {
   "cell_type": "code",
   "execution_count": 6,
   "id": "f139e9da-e9e4-4758-a73b-7761728e2a69",
   "metadata": {},
   "outputs": [
    {
     "name": "stdout",
     "output_type": "stream",
     "text": [
      "1\n",
      "2\n",
      "3\n",
      "4\n"
     ]
    }
   ],
   "source": [
    "xs = [1,2,3,4]\n",
    "for x in xs: print(x)"
   ]
  },
  {
   "cell_type": "markdown",
   "id": "0e3a6275-1f40-4ac2-bc4e-d0710b597b4f",
   "metadata": {},
   "source": [
    "Often you want to loop over a sequence of integers, in that case the `range()` function is useful:"
   ]
  },
  {
   "cell_type": "code",
   "execution_count": 7,
   "id": "16e10dc9-646a-4d1d-b818-1a1d5bd3c05b",
   "metadata": {},
   "outputs": [
    {
     "name": "stdout",
     "output_type": "stream",
     "text": [
      "0\n",
      "1\n",
      "2\n",
      "3\n",
      "4\n",
      "5\n",
      "6\n",
      "7\n",
      "8\n"
     ]
    }
   ],
   "source": [
    "for x in range(9): print(x)"
   ]
  },
  {
   "cell_type": "markdown",
   "id": "7cd25a40-6888-477a-8786-a8e055a90bba",
   "metadata": {},
   "source": [
    "Another common need is to iterate over a collection, but at the same time also have an index number. For this there is the [`enumerate()`](https://docs.python.org/3/library/functions.html#enumerate) function:"
   ]
  },
  {
   "cell_type": "code",
   "execution_count": 8,
   "id": "5fb08271-c5f6-4941-aed2-4ebe703e3773",
   "metadata": {},
   "outputs": [
    {
     "name": "stdout",
     "output_type": "stream",
     "text": [
      "0 1\n",
      "1 hello\n",
      "2 world\n"
     ]
    }
   ],
   "source": [
    "xs = [1, 'hello', 'world']\n",
    "for ii, x in enumerate(xs): print(ii, x)"
   ]
  },
  {
   "cell_type": "markdown",
   "id": "df1e90cf-ee0d-44c6-a0e9-c33fc9c1932e",
   "metadata": {},
   "source": [
    "Python functions are defined by the [Function definitions](https://docs.python.org/3/reference/compound_stmts.html#def) keyword. They take a number of arguments, and return a number of return values."
   ]
  },
  {
   "cell_type": "code",
   "execution_count": 12,
   "id": "9a9e7677-1785-4a08-ac47-a8cf7c7ddeed",
   "metadata": {},
   "outputs": [
    {
     "name": "stdout",
     "output_type": "stream",
     "text": [
      "Hello Anne\n"
     ]
    },
    {
     "data": {
      "text/plain": [
       "'Hello Anne'"
      ]
     },
     "execution_count": 12,
     "metadata": {},
     "output_type": "execute_result"
    }
   ],
   "source": [
    "def hello(name):\n",
    "    '''Say hello to the person given by the argument'''\n",
    "    print('Hello', name)\n",
    "    return 'Hello ' + name\n",
    "hello('Anne')"
   ]
  },
  {
   "cell_type": "markdown",
   "id": "1b31e326-a3ff-4ec6-8b5e-2582de55f9b4",
   "metadata": {},
   "source": [
    "Classes are defined by the [Class definitions](https://docs.python.org/3/reference/compound_stmts.html#class) keyword:"
   ]
  },
  {
   "cell_type": "code",
   "execution_count": 13,
   "id": "43d611fa-a69a-405a-bef6-8cbaa3073efb",
   "metadata": {},
   "outputs": [
    {
     "name": "stdout",
     "output_type": "stream",
     "text": [
      "Hello Richard\n"
     ]
    }
   ],
   "source": [
    "class Hello:\n",
    "    def __init__(self, name): self._name = name\n",
    "    def say(self): print('Hello', self._name)\n",
    "h = Hello('Richard')\n",
    "h.say()"
   ]
  },
  {
   "cell_type": "markdown",
   "id": "4d7fa04a-de4b-4dab-8a37-18d1fefbabb1",
   "metadata": {},
   "source": [
    "# Jupyter"
   ]
  },
  {
   "cell_type": "markdown",
   "id": "1d6a4693-29b6-4ffc-ada0-5c956c392e1e",
   "metadata": {},
   "source": [
    "Markdown is a lightweight way of giving *style* to `text` - you can check out [this reference](https://commonmark.org/help/)."
   ]
  },
  {
   "cell_type": "markdown",
   "id": "875730ab-48d1-4115-b703-07f427747e5a",
   "metadata": {},
   "source": [
    "Now, let’s look at some code samples:"
   ]
  },
  {
   "cell_type": "code",
   "execution_count": 14,
   "id": "581f425d-30c5-4eb0-8e99-766c17a92e34",
   "metadata": {},
   "outputs": [
    {
     "name": "stdout",
     "output_type": "stream",
     "text": [
      "0\n",
      "1\n",
      "2\n"
     ]
    }
   ],
   "source": [
    "for i in range(3): print(i)"
   ]
  },
  {
   "cell_type": "code",
   "execution_count": 15,
   "id": "2be9b814-90d9-4360-a5c8-b554d6712dcd",
   "metadata": {},
   "outputs": [
    {
     "name": "stdout",
     "output_type": "stream",
     "text": [
      "10\n"
     ]
    }
   ],
   "source": [
    "print(sum(range(5)))"
   ]
  },
  {
   "cell_type": "markdown",
   "id": "98548090-3a96-4838-8dce-84b01ef6bf91",
   "metadata": {},
   "source": [
    "By convention, if the last thing in a cell is an object, that object gets printed:"
   ]
  },
  {
   "cell_type": "code",
   "execution_count": 16,
   "id": "c1110ee9-3e7b-4231-a6dd-413f99e3b0b1",
   "metadata": {},
   "outputs": [
    {
     "data": {
      "text/plain": [
       "45"
      ]
     },
     "execution_count": 16,
     "metadata": {},
     "output_type": "execute_result"
    }
   ],
   "source": [
    "sum(range(5))\n",
    "sum(range(10))"
   ]
  },
  {
   "cell_type": "markdown",
   "id": "c55abf41-7d77-454d-831d-e0a5cb3bf407",
   "metadata": {},
   "source": [
    "In addition to raw cells, there are **magics**, which exist outside of Python. They are a property of the runtime itself (in Python’s case, they come from **IPython**. For example, the following cell magic [%%bash](https://ipython.readthedocs.io/en/stable/interactive/magics.html#cellmagic-bash) turns the cell into a shell script (may not work on all operating systems):"
   ]
  },
  {
   "cell_type": "code",
   "execution_count": 17,
   "id": "024729ef-5ee7-439b-89a0-20fedd8ab3df",
   "metadata": {},
   "outputs": [
    {
     "name": "stdout",
     "output_type": "stream",
     "text": [
      "1\n",
      "2\n",
      "3\n"
     ]
    }
   ],
   "source": [
    "%%bash\n",
    "for x in $(seq 3); do echo $x\n",
    "done"
   ]
  },
  {
   "cell_type": "markdown",
   "id": "f2425acd-e7bd-489e-b29d-343d362771ec",
   "metadata": {},
   "source": [
    "Run some trivial code, such as `print(1)`."
   ]
  },
  {
   "cell_type": "code",
   "execution_count": 18,
   "id": "dff40525-d233-4e54-9d32-175b2d36ca65",
   "metadata": {},
   "outputs": [
    {
     "name": "stdout",
     "output_type": "stream",
     "text": [
      "1\n"
     ]
    }
   ],
   "source": [
    "print(1)"
   ]
  },
  {
   "cell_type": "markdown",
   "id": "62588f52-85c6-4b86-a536-03d864b833d1",
   "metadata": {},
   "source": [
    "Run some slightly less trivial code, like print out the first ten [Fibonacci numbers](https://en.wikipedia.org/wiki/Fibonacci_number)."
   ]
  },
  {
   "cell_type": "markdown",
   "id": "41e83cf6-9d9a-491b-919d-df6f058cd460",
   "metadata": {},
   "source": [
    "## Fibonacci\n",
    "* Start with two variables `a` and `b`\n",
    "* Repeat 10 times\n",
    "    * Print old `a`, then increment both\n",
    "* Makes use of the Python *tuple assignment*: `a, b = new_a, new_b`"
   ]
  },
  {
   "cell_type": "code",
   "execution_count": 24,
   "id": "94dd9cdb-6c80-40f9-8699-54e69d62838c",
   "metadata": {},
   "outputs": [
    {
     "name": "stdout",
     "output_type": "stream",
     "text": [
      "0\n",
      "1\n",
      "1\n",
      "2\n",
      "3\n",
      "5\n",
      "8\n",
      "13\n",
      "21\n",
      "34\n"
     ]
    }
   ],
   "source": [
    "a = 0\n",
    "b = 1\n",
    "for i in range(10):\n",
    "    print(a)\n",
    "    a, b = b, a+b"
   ]
  },
  {
   "cell_type": "markdown",
   "id": "db43f7a1-7d4d-44fd-b982-f6fd86449a59",
   "metadata": {},
   "source": [
    "Use the [%%timeit](https://ipython.readthedocs.io/en/stable/interactive/magics.html#magic-timeit) magic function to time your Fibonacci function."
   ]
  },
  {
   "cell_type": "markdown",
   "id": "32c143f9-0799-4a63-ae89-6a0aecec485d",
   "metadata": {},
   "source": [
    "In this case, the print() statements get out of hand, so we comment that out. In general, writing output usually takes a lot of time reletive to the computation, so we don’t want to time that (unless output is the main point of the code, then we do have to time it!"
   ]
  },
  {
   "cell_type": "code",
   "execution_count": 26,
   "id": "f5d988b9-4969-4518-a839-034ac215fa4e",
   "metadata": {},
   "outputs": [
    {
     "name": "stdout",
     "output_type": "stream",
     "text": [
      "7.18 s ± 38.8 ms per loop (mean ± std. dev. of 7 runs, 1 loop each)\n"
     ]
    }
   ],
   "source": [
    "%%timeit\n",
    "a, b = 0, 1\n",
    "for i in range(1_000_000):\n",
    "    #print(a)\n",
    "    a, b = b, a+b"
   ]
  },
  {
   "cell_type": "markdown",
   "id": "5bfb3726-769b-4e6d-b71b-aa509ced646a",
   "metadata": {},
   "source": [
    "# NumPy"
   ]
  },
  {
   "cell_type": "markdown",
   "id": "2d588e39-1aca-4120-8eee-cb90a09697fa",
   "metadata": {},
   "source": [
    "Create one list and one ‘empty’ list, to store the result in"
   ]
  },
  {
   "cell_type": "code",
   "execution_count": 1,
   "id": "ece4eadb-a0bd-4441-803f-e8c9019c12bb",
   "metadata": {},
   "outputs": [],
   "source": [
    "a = list(range(10_000))\n",
    "b = [0]*10_000"
   ]
  },
  {
   "cell_type": "markdown",
   "id": "081e08af-abc6-41dd-9889-7279877de8f2",
   "metadata": {},
   "source": [
    "In a new cell starting with `%%timeit`, loop through the list `a` and fill the second list `b` with `a` squared"
   ]
  },
  {
   "cell_type": "code",
   "execution_count": 2,
   "id": "55027118-d6f9-4dbc-8d44-a77a7c5f3312",
   "metadata": {},
   "outputs": [
    {
     "name": "stdout",
     "output_type": "stream",
     "text": [
      "2.71 ms ± 170 µs per loop (mean ± std. dev. of 7 runs, 100 loops each)\n"
     ]
    }
   ],
   "source": [
    "%%timeit\n",
    "for i in range(len(a)):\n",
    "    b[i] = pow(a[i], 2)"
   ]
  },
  {
   "cell_type": "markdown",
   "id": "8ea3a933-6639-4240-b339-816bc08ddb3c",
   "metadata": {},
   "source": [
    "So for the NumPy example, create one array and one ‘empty’ array to store the result in"
   ]
  },
  {
   "cell_type": "code",
   "execution_count": 1,
   "id": "a90313e7-fbd6-475b-a27b-5ec51d53a1c1",
   "metadata": {},
   "outputs": [],
   "source": [
    "import numpy\n",
    "a = numpy.arange(10_000)\n",
    "b = numpy.zeros(10_000)"
   ]
  },
  {
   "cell_type": "markdown",
   "id": "24191583-0bbb-4930-a0c2-b99b08058a86",
   "metadata": {},
   "source": [
    "In a new cell starting with `%%timeit`, fill `b` with `a` squared"
   ]
  },
  {
   "cell_type": "code",
   "execution_count": 5,
   "id": "a540dae1-c4da-4d68-b173-777bd04950e0",
   "metadata": {},
   "outputs": [
    {
     "name": "stdout",
     "output_type": "stream",
     "text": [
      "4.18 µs ± 79.3 ns per loop (mean ± std. dev. of 7 runs, 100,000 loops each)\n"
     ]
    }
   ],
   "source": [
    "%%timeit\n",
    "b = pow(a, 2)"
   ]
  },
  {
   "cell_type": "markdown",
   "id": "2747d2ab-5c62-4557-b01a-8fff38e0cb61",
   "metadata": {},
   "source": [
    "There are different ways of creating arrays ([`numpy.array()`](https://numpy.org/doc/stable/reference/generated/numpy.array.html#numpy.array), [`numpy.ndarray.shape`](https://numpy.org/doc/stable/reference/generated/numpy.ndarray.shape.html#numpy.ndarray.shape), [`numpy.ndarray.size`](https://numpy.org/doc/stable/reference/generated/numpy.ndarray.size.html#numpy.ndarray.size)):"
   ]
  },
  {
   "cell_type": "code",
   "execution_count": 16,
   "id": "f3a5feed-6012-4fe9-b3ad-0493ae91993b",
   "metadata": {},
   "outputs": [],
   "source": [
    "a = numpy.array([1,2,3]) # 1-dimensional array (rank 1)"
   ]
  },
  {
   "cell_type": "code",
   "execution_count": 14,
   "id": "a3c55fa6-8bab-48f7-a283-7936b58b3456",
   "metadata": {},
   "outputs": [
    {
     "data": {
      "text/plain": [
       "(2, 3)"
      ]
     },
     "execution_count": 14,
     "metadata": {},
     "output_type": "execute_result"
    }
   ],
   "source": [
    "b = numpy.array([[1,2,3],[4,5,6]]) # 2-dimensional array (rank 2)\n",
    "b.shape # the shape (rows,columns)"
   ]
  },
  {
   "cell_type": "code",
   "execution_count": 15,
   "id": "63901948-f13f-464a-88e2-8313694bb6e3",
   "metadata": {},
   "outputs": [
    {
     "data": {
      "text/plain": [
       "6"
      ]
     },
     "execution_count": 15,
     "metadata": {},
     "output_type": "execute_result"
    }
   ],
   "source": [
    "b.size # number of elements"
   ]
  },
  {
   "cell_type": "markdown",
   "id": "08b2ea75-1a4d-44c5-b0f2-b6abfe606bd9",
   "metadata": {},
   "source": [
    "In addition to above ways of creating arrays, there are many other ways of creating arrays depending on content ([`numpy.zeros()`](https://numpy.org/doc/stable/reference/generated/numpy.zeros.html#numpy.zeros), [`numpy.ones()`](https://numpy.org/doc/stable/reference/generated/numpy.ones.html#numpy.ones), [`numpy.full()`](https://numpy.org/doc/stable/reference/generated/numpy.full.html#numpy.full), [`numpy.eye()`](https://numpy.org/doc/stable/reference/generated/numpy.eye.html#numpy.eye), [`numpy.arange()`](https://numpy.org/doc/stable/reference/generated/numpy.arange.html#numpy.arange), [`numpy.linspace()`](https://numpy.org/doc/stable/reference/generated/numpy.linspace.html#numpy.linspace)):"
   ]
  },
  {
   "cell_type": "code",
   "execution_count": 20,
   "id": "e64163a5-e700-4dc2-b04a-77f1e591bbb3",
   "metadata": {},
   "outputs": [
    {
     "data": {
      "text/plain": [
       "array([[0., 0., 0.],\n",
       "       [0., 0., 0.]])"
      ]
     },
     "execution_count": 20,
     "metadata": {},
     "output_type": "execute_result"
    }
   ],
   "source": [
    "numpy.zeros((2,3)) # 2x3 array with all elements 0"
   ]
  },
  {
   "cell_type": "code",
   "execution_count": 19,
   "id": "766e6cb9-eae9-4212-bea0-71cd9eef2923",
   "metadata": {},
   "outputs": [
    {
     "data": {
      "text/plain": [
       "array([[1., 1.]])"
      ]
     },
     "execution_count": 19,
     "metadata": {},
     "output_type": "execute_result"
    }
   ],
   "source": [
    "numpy.ones((1,2)) # 1x2 array with all elements 1"
   ]
  },
  {
   "cell_type": "code",
   "execution_count": 18,
   "id": "5a9d39f6-8ebc-40b3-8b3e-11509a8df291",
   "metadata": {},
   "outputs": [
    {
     "data": {
      "text/plain": [
       "array([[7, 7],\n",
       "       [7, 7]])"
      ]
     },
     "execution_count": 18,
     "metadata": {},
     "output_type": "execute_result"
    }
   ],
   "source": [
    "numpy.full((2,2),7) # 2x2 array with all elements 7"
   ]
  },
  {
   "cell_type": "code",
   "execution_count": 21,
   "id": "070c185d-de10-482e-aed0-72f4cf446c33",
   "metadata": {},
   "outputs": [
    {
     "data": {
      "text/plain": [
       "array([[1., 0.],\n",
       "       [0., 1.]])"
      ]
     },
     "execution_count": 21,
     "metadata": {},
     "output_type": "execute_result"
    }
   ],
   "source": [
    "numpy.eye(2) # 2x2 identity matrix"
   ]
  },
  {
   "cell_type": "code",
   "execution_count": 33,
   "id": "d3187cdc-5f00-4b22-b6fe-8e053ea15651",
   "metadata": {},
   "outputs": [
    {
     "data": {
      "text/plain": [
       "array([0, 1, 2, 3, 4, 5, 6, 7, 8, 9])"
      ]
     },
     "execution_count": 33,
     "metadata": {},
     "output_type": "execute_result"
    }
   ],
   "source": [
    "numpy.arange(10) # Evenly spaced values in an interval"
   ]
  },
  {
   "cell_type": "code",
   "execution_count": 23,
   "id": "98f2ba34-5ce5-4d49-8e2b-66f18b4a950b",
   "metadata": {},
   "outputs": [
    {
     "data": {
      "text/plain": [
       "array([0., 1., 2., 3., 4., 5., 6., 7., 8., 9.])"
      ]
     },
     "execution_count": 23,
     "metadata": {},
     "output_type": "execute_result"
    }
   ],
   "source": [
    "numpy.linspace(0,9,10) # same as above"
   ]
  },
  {
   "cell_type": "code",
   "execution_count": 27,
   "id": "df672770-b8a5-4895-86c2-3de4f88b842e",
   "metadata": {},
   "outputs": [],
   "source": [
    "c = numpy.ones((3,3))\n",
    "d = numpy.ones((3,2),'bool') # 3x2 boolean array"
   ]
  },
  {
   "cell_type": "markdown",
   "id": "da986fc5-3772-4276-849d-0ddc694f95e7",
   "metadata": {},
   "source": [
    "Arrays can also be stored and read from a (.npy) file ([`numpy.save()`](https://numpy.org/doc/stable/reference/generated/numpy.save.html#numpy.save), [`numpy.load()`](https://numpy.org/doc/stable/reference/generated/numpy.load.html#numpy.load)):"
   ]
  },
  {
   "cell_type": "code",
   "execution_count": 29,
   "id": "46bf9a55-00ec-41e2-829d-9d344f65ff41",
   "metadata": {},
   "outputs": [],
   "source": [
    "numpy.save('x.npy', a) # save the array a to a .npy file\n",
    "x = numpy.load('x.npy') # load an array from a .npy file and store it in variable x"
   ]
  },
  {
   "cell_type": "markdown",
   "id": "dbf191a2-d701-410d-baff-a4e248a1ce2f",
   "metadata": {},
   "source": [
    "In many occasions (especially when something goes different than expected) it is useful to check and control the datatype of the array ([`numpy.ndarray.dtype`](https://numpy.org/doc/stable/reference/generated/numpy.ndarray.dtype.html#numpy.ndarray.dtype), [`numpy.ndarray.astype()`](https://numpy.org/doc/stable/reference/generated/numpy.ndarray.astype.html#numpy.ndarray.astype)):"
   ]
  },
  {
   "cell_type": "code",
   "execution_count": 30,
   "id": "edee5a33-c2b3-4d96-bf87-6ceed409221f",
   "metadata": {},
   "outputs": [
    {
     "data": {
      "text/plain": [
       "dtype('bool')"
      ]
     },
     "execution_count": 30,
     "metadata": {},
     "output_type": "execute_result"
    }
   ],
   "source": [
    "d.dtype # datatype of the array"
   ]
  },
  {
   "cell_type": "code",
   "execution_count": 31,
   "id": "b39d3a69-5968-4a6c-a193-2cec53ba1276",
   "metadata": {},
   "outputs": [
    {
     "data": {
      "text/plain": [
       "array([[1, 1],\n",
       "       [1, 1],\n",
       "       [1, 1]])"
      ]
     },
     "execution_count": 31,
     "metadata": {},
     "output_type": "execute_result"
    }
   ],
   "source": [
    "d.astype('int') # change datatype from boolean to integer"
   ]
  },
  {
   "cell_type": "markdown",
   "id": "9481619b-fce9-408f-acb8-66d0daa51c75",
   "metadata": {},
   "source": [
    "Create a 3x2 array of random float numbers (check [`numpy.random.random()`](https://numpy.org/doc/stable/reference/random/generated/numpy.random.random.html#numpy.random.random)) between 0 and 1. Now change the arrays datatype to int ([`array.astype`](https://numpy.org/doc/stable/reference/generated/numpy.ndarray.astype.html#numpy.ndarray.astype)). How does the array look like?"
   ]
  },
  {
   "cell_type": "code",
   "execution_count": 37,
   "id": "dc656fa4-627b-48f0-b77c-45910fe29b1c",
   "metadata": {},
   "outputs": [
    {
     "data": {
      "text/plain": [
       "array([[0, 0],\n",
       "       [0, 0],\n",
       "       [0, 0]])"
      ]
     },
     "execution_count": 37,
     "metadata": {},
     "output_type": "execute_result"
    }
   ],
   "source": [
    "a = numpy.random.random((3,2))\n",
    "a.astype('int')"
   ]
  },
  {
   "cell_type": "markdown",
   "id": "41d12944-b12e-4726-a53f-434e9bdd800d",
   "metadata": {},
   "source": [
    "Create a 3x2 array of random integer numbers between 0 and 10. Change the shape of the array (check [`array.reshape`](https://numpy.org/doc/stable/reference/generated/numpy.ndarray.reshape.html#numpy.ndarray.reshape)) in any way possible. What is not possible?"
   ]
  },
  {
   "cell_type": "code",
   "execution_count": 41,
   "id": "055ec26d-960a-4e85-991b-abe7db88253d",
   "metadata": {},
   "outputs": [
    {
     "data": {
      "text/plain": [
       "array([[3],\n",
       "       [1],\n",
       "       [0],\n",
       "       [9],\n",
       "       [1],\n",
       "       [8]])"
      ]
     },
     "execution_count": 41,
     "metadata": {},
     "output_type": "execute_result"
    }
   ],
   "source": [
    "b = numpy.random.randint(0, 10, (3,2))\n",
    "b.reshape((6,1))"
   ]
  },
  {
   "cell_type": "code",
   "execution_count": 42,
   "id": "d13d7379-05d9-4c46-b8d5-123ebeb8991a",
   "metadata": {},
   "outputs": [
    {
     "data": {
      "text/plain": [
       "array([[3, 1, 0],\n",
       "       [9, 1, 8]])"
      ]
     },
     "execution_count": 42,
     "metadata": {},
     "output_type": "execute_result"
    }
   ],
   "source": [
    "b.reshape((2,3))"
   ]
  },
  {
   "cell_type": "markdown",
   "id": "c3514f93-304a-42f9-8fb1-b589b45e12f3",
   "metadata": {},
   "source": [
    "It is not possible to reshape to shapes using more or less elements than `b.size = 6`, so for example `b.reshape((12,1))` gives an error."
   ]
  },
  {
   "cell_type": "code",
   "execution_count": 43,
   "id": "53de7bbc-fe42-46a6-9701-328e3a791f24",
   "metadata": {},
   "outputs": [
    {
     "ename": "ValueError",
     "evalue": "cannot reshape array of size 6 into shape (12,1)",
     "output_type": "error",
     "traceback": [
      "\u001b[0;31m---------------------------------------------------------------------------\u001b[0m",
      "\u001b[0;31mValueError\u001b[0m                                Traceback (most recent call last)",
      "Cell \u001b[0;32mIn [43], line 1\u001b[0m\n\u001b[0;32m----> 1\u001b[0m \u001b[43mb\u001b[49m\u001b[38;5;241;43m.\u001b[39;49m\u001b[43mreshape\u001b[49m\u001b[43m(\u001b[49m\u001b[43m(\u001b[49m\u001b[38;5;241;43m12\u001b[39;49m\u001b[43m,\u001b[49m\u001b[38;5;241;43m1\u001b[39;49m\u001b[43m)\u001b[49m\u001b[43m)\u001b[49m\n",
      "\u001b[0;31mValueError\u001b[0m: cannot reshape array of size 6 into shape (12,1)"
     ]
    }
   ],
   "source": [
    "b.reshape((12,1))"
   ]
  },
  {
   "cell_type": "markdown",
   "id": "363d7fad-e3f2-4d40-bd9d-64bb4f53d557",
   "metadata": {},
   "source": [
    "Save above array to .npy file ([`numpy.save()`](https://numpy.org/doc/stable/reference/generated/numpy.save.html#numpy.save)) and read it in again."
   ]
  },
  {
   "cell_type": "code",
   "execution_count": 45,
   "id": "28a5edfb-e2b1-4b4a-a8bb-255951aa7750",
   "metadata": {},
   "outputs": [],
   "source": [
    "numpy.save('x.npy', b)\n",
    "x = numpy.load('x.npy')"
   ]
  },
  {
   "cell_type": "markdown",
   "id": "8c5012f7-c1f0-4cb8-af8e-fe7d28faa264",
   "metadata": {},
   "source": [
    "Note that unlike Matlab, where `*` means matrix multiplication, NumPy uses `*` to perform element-by-element multiplication and uses the `@` symbol to perform matrix multiplication:"
   ]
  },
  {
   "cell_type": "code",
   "execution_count": 13,
   "id": "29def97f-4ec8-46c1-a508-5967c1f5a754",
   "metadata": {},
   "outputs": [],
   "source": [
    "a = numpy.array([[1,2],[3,4]])\n",
    "b = numpy.array([[5,6],[7,8]])"
   ]
  },
  {
   "cell_type": "code",
   "execution_count": 14,
   "id": "66d867e1-f1b7-431e-8b9c-e645ee951383",
   "metadata": {},
   "outputs": [],
   "source": [
    "# Addition\n",
    "c = a+b\n",
    "d = numpy.add(a,b)"
   ]
  },
  {
   "cell_type": "code",
   "execution_count": 15,
   "id": "be90bc0f-424b-4a31-aca1-cae1ff1d5b9d",
   "metadata": {},
   "outputs": [],
   "source": [
    "# Matrix multiplication\n",
    "e = a @ b\n",
    "f = numpy.dot(a,b)"
   ]
  },
  {
   "cell_type": "markdown",
   "id": "26d73dbf-bd7e-4170-b6fd-7351eb2c73f1",
   "metadata": {},
   "source": [
    "NumPy has many ways to extract values out of arrays:\n",
    "\n",
    "* You can select a single element\n",
    "\n",
    "* You can select rows or columns\n",
    "\n",
    "* You can select ranges where a condition is true.\n",
    "\n",
    "Clever and efficient use of these operations is a key to NumPy’s speed: you should try to cleverly use these selectors (written in C) to extract data to be used with other NumPy functions written in C or Fortran. This will give you the benefits of Python with most of the speed of C."
   ]
  },
  {
   "cell_type": "code",
   "execution_count": 3,
   "id": "8cb66b1c-c6b4-4e6b-b20b-bad1c59354b1",
   "metadata": {},
   "outputs": [
    {
     "data": {
      "text/plain": [
       "array([0, 1, 2, 3])"
      ]
     },
     "execution_count": 3,
     "metadata": {},
     "output_type": "execute_result"
    }
   ],
   "source": [
    "a = numpy.arange(16).reshape(4,4) # 4x4 matrix from 0 to 15\n",
    "a[0] # first row"
   ]
  },
  {
   "cell_type": "code",
   "execution_count": 4,
   "id": "46e755cd-ad43-4e85-957a-aac9efc8a154",
   "metadata": {},
   "outputs": [
    {
     "data": {
      "text/plain": [
       "array([ 0,  4,  8, 12])"
      ]
     },
     "execution_count": 4,
     "metadata": {},
     "output_type": "execute_result"
    }
   ],
   "source": [
    "a[:,0] # first column"
   ]
  },
  {
   "cell_type": "code",
   "execution_count": 5,
   "id": "14c997dc-994d-4255-afc4-2e311b836e62",
   "metadata": {},
   "outputs": [
    {
     "data": {
      "text/plain": [
       "array([[ 5,  6],\n",
       "       [ 9, 10]])"
      ]
     },
     "execution_count": 5,
     "metadata": {},
     "output_type": "execute_result"
    }
   ],
   "source": [
    "a[1:3, 1:3] # middle 2x2 array"
   ]
  },
  {
   "cell_type": "code",
   "execution_count": 6,
   "id": "df56b452-8f09-4f67-bf8d-0ad21044a519",
   "metadata": {},
   "outputs": [
    {
     "data": {
      "text/plain": [
       "array([1, 5])"
      ]
     },
     "execution_count": 6,
     "metadata": {},
     "output_type": "execute_result"
    }
   ],
   "source": [
    "a[(0,1), (1,1)] # second element of first and second row as array"
   ]
  },
  {
   "cell_type": "markdown",
   "id": "68deb95e-a2df-4e0b-b1a4-9e2315d1a58c",
   "metadata": {},
   "source": [
    "Boolean indexing on above created array:"
   ]
  },
  {
   "cell_type": "code",
   "execution_count": 8,
   "id": "a20cb470-7118-455f-ae2a-6bb5fa931177",
   "metadata": {},
   "outputs": [
    {
     "data": {
      "text/plain": [
       "array([ 1,  2,  3,  4,  5,  6,  7,  8,  9, 10, 11, 12, 13, 14, 15])"
      ]
     },
     "execution_count": 8,
     "metadata": {},
     "output_type": "execute_result"
    }
   ],
   "source": [
    "idx = (a > 0) # creates boolean matrix of same size as a\n",
    "a[idx] # array with matching values of above criterion"
   ]
  },
  {
   "cell_type": "code",
   "execution_count": 9,
   "id": "0a10c98e-2929-4de2-b0f8-04f2a276ab7e",
   "metadata": {},
   "outputs": [
    {
     "data": {
      "text/plain": [
       "array([ 1,  2,  3,  4,  5,  6,  7,  8,  9, 10, 11, 12, 13, 14, 15])"
      ]
     },
     "execution_count": 9,
     "metadata": {},
     "output_type": "execute_result"
    }
   ],
   "source": [
    "a[a > 0] # same as above in one line"
   ]
  },
  {
   "cell_type": "markdown",
   "id": "90c9dfb8-f195-4024-9e9e-d37fa764c8df",
   "metadata": {},
   "source": [
    "How does `a` look like before `b` has changed and after? How could it be avoided?"
   ]
  },
  {
   "cell_type": "code",
   "execution_count": 13,
   "id": "fa318fbb-bea0-4d8f-9c16-bf55f02eae80",
   "metadata": {},
   "outputs": [
    {
     "name": "stdout",
     "output_type": "stream",
     "text": [
      "[[1. 0. 0. 0.]\n",
      " [0. 1. 0. 0.]\n",
      " [0. 0. 1. 0.]\n",
      " [0. 0. 0. 1.]]\n"
     ]
    }
   ],
   "source": [
    "a = numpy.eye(4)\n",
    "print(a)"
   ]
  },
  {
   "cell_type": "code",
   "execution_count": 14,
   "id": "7b290d3d-9adc-4f45-b22f-4e39e03f78bf",
   "metadata": {},
   "outputs": [
    {
     "name": "stdout",
     "output_type": "stream",
     "text": [
      "[1. 0. 0. 0.]\n"
     ]
    }
   ],
   "source": [
    "b = a[:,0]\n",
    "print(b)"
   ]
  },
  {
   "cell_type": "code",
   "execution_count": 15,
   "id": "0e743942-13fe-4c82-8975-c4ad7e9e3fe8",
   "metadata": {},
   "outputs": [
    {
     "name": "stdout",
     "output_type": "stream",
     "text": [
      "[5. 0. 0. 0.]\n"
     ]
    }
   ],
   "source": [
    "b[0] = 5\n",
    "print(b)"
   ]
  },
  {
   "cell_type": "markdown",
   "id": "2d086731-2349-4502-918e-ccf16b024713",
   "metadata": {},
   "source": [
    "**ufuncs**, “[universal functions](https://numpy.org/doc/stable/reference/ufuncs.html#ufuncs)”: These are element-by-element functions with standardized arguments:\n",
    "\n",
    "* One, two, or three input arguments\n",
    "\n",
    "* For example, `a + b` is similar to [numpy.add(a, b)](https://numpy.org/doc/stable/reference/generated/numpy.add.html#numpy.add) but the ufunc has more control.\n",
    "\n",
    "* `out=` output argument, store output in this array (rather than make a new array) - saves copying data!\n",
    "\n",
    "* See the [full reference](https://numpy.org/doc/stable/reference/ufuncs.html)\n",
    "\n",
    "* They also do **broadcasting** ([ref](https://numpy.org/doc/stable/user/basics.broadcasting.html#basics-broadcasting)). Can you add a 1-dimensional array of shape (*3*) to an 2-dimensional array of shape (*3, 2*)? With broadcasting you can!"
   ]
  },
  {
   "cell_type": "code",
   "execution_count": 18,
   "id": "f005334f-8ecb-4d70-b048-eaae78e88f10",
   "metadata": {},
   "outputs": [
    {
     "data": {
      "text/plain": [
       "array([[11, 12, 13],\n",
       "       [14, 15, 16]])"
      ]
     },
     "execution_count": 18,
     "metadata": {},
     "output_type": "execute_result"
    }
   ],
   "source": [
    "a = numpy.array([[1,2,3],[4,5,6]])\n",
    "b = numpy.array([10,10,10])\n",
    "a+b"
   ]
  },
  {
   "cell_type": "markdown",
   "id": "481fb1df-aec5-47c9-82b6-ef1911782ea2",
   "metadata": {},
   "source": [
    "Some of these are the same as ufuncs:"
   ]
  },
  {
   "cell_type": "code",
   "execution_count": 22,
   "id": "1398ad02-003d-4527-82ba-e300c7dc2069",
   "metadata": {},
   "outputs": [
    {
     "data": {
      "text/plain": [
       "array([[ 0,  1,  2,  3],\n",
       "       [ 4,  5,  6,  7],\n",
       "       [ 8,  9, 10, 11]])"
      ]
     },
     "execution_count": 22,
     "metadata": {},
     "output_type": "execute_result"
    }
   ],
   "source": [
    "x = numpy.arange(12)\n",
    "x.shape = (3,4)\n",
    "x"
   ]
  },
  {
   "cell_type": "code",
   "execution_count": 23,
   "id": "42892e0b-f699-4cf8-9215-cfdb69ab9e4e",
   "metadata": {},
   "outputs": [
    {
     "data": {
      "text/plain": [
       "11"
      ]
     },
     "execution_count": 23,
     "metadata": {},
     "output_type": "execute_result"
    }
   ],
   "source": [
    "x.max()"
   ]
  },
  {
   "cell_type": "code",
   "execution_count": 24,
   "id": "90034a08-a03f-4c7c-a029-ed510a2a1b24",
   "metadata": {},
   "outputs": [
    {
     "data": {
      "text/plain": [
       "array([ 8,  9, 10, 11])"
      ]
     },
     "execution_count": 24,
     "metadata": {},
     "output_type": "execute_result"
    }
   ],
   "source": [
    "x.max(axis = 0)"
   ]
  },
  {
   "cell_type": "code",
   "execution_count": 25,
   "id": "485a7998-9109-4af8-b360-213fb82bd68b",
   "metadata": {},
   "outputs": [
    {
     "data": {
      "text/plain": [
       "array([ 3,  7, 11])"
      ]
     },
     "execution_count": 25,
     "metadata": {},
     "output_type": "execute_result"
    }
   ],
   "source": [
    "x.max(axis = 1)"
   ]
  },
  {
   "cell_type": "markdown",
   "id": "2e32b773-49af-4e27-809c-1fdf80d1e6f3",
   "metadata": {},
   "source": [
    "Create an array, add it to itself using a ufunc."
   ]
  },
  {
   "cell_type": "code",
   "execution_count": 27,
   "id": "f9005b0b-02ea-4ea5-b6c8-706fbb226305",
   "metadata": {},
   "outputs": [
    {
     "data": {
      "text/plain": [
       "140307244007312"
      ]
     },
     "execution_count": 27,
     "metadata": {},
     "output_type": "execute_result"
    }
   ],
   "source": [
    "x = numpy.array([1,2,3])\n",
    "id(x) # get the memory-ID of x"
   ]
  },
  {
   "cell_type": "code",
   "execution_count": 28,
   "id": "0788c7a0-6288-495f-9748-28071ddb95d6",
   "metadata": {},
   "outputs": [
    {
     "data": {
      "text/plain": [
       "array([2, 4, 6])"
      ]
     },
     "execution_count": 28,
     "metadata": {},
     "output_type": "execute_result"
    }
   ],
   "source": [
    "numpy.add(x,x,x)"
   ]
  },
  {
   "cell_type": "code",
   "execution_count": 29,
   "id": "14fdeee0-33bf-43f9-aa85-43417e60dd98",
   "metadata": {},
   "outputs": [
    {
     "data": {
      "text/plain": [
       "array([ 4,  8, 12])"
      ]
     },
     "execution_count": 29,
     "metadata": {},
     "output_type": "execute_result"
    }
   ],
   "source": [
    "numpy.add(x,x,x)"
   ]
  },
  {
   "cell_type": "code",
   "execution_count": 30,
   "id": "ed2f2add-54a6-43e5-8f91-ce3ce5aff1d3",
   "metadata": {},
   "outputs": [
    {
     "name": "stdout",
     "output_type": "stream",
     "text": [
      "[ 4  8 12]\n"
     ]
    }
   ],
   "source": [
    "print(x)"
   ]
  },
  {
   "cell_type": "code",
   "execution_count": 31,
   "id": "fd6a0695-9e2d-496f-bcf9-621499e2b422",
   "metadata": {},
   "outputs": [
    {
     "data": {
      "text/plain": [
       "140307244007312"
      ]
     },
     "execution_count": 31,
     "metadata": {},
     "output_type": "execute_result"
    }
   ],
   "source": [
    "id(x)"
   ]
  },
  {
   "cell_type": "markdown",
   "id": "9faad773-1514-4554-b18e-e4075d8576b0",
   "metadata": {},
   "source": [
    "Repeat the initial `b = a ** 2` example using the output arguments and time it. Can you make it even faster using the output argument?"
   ]
  },
  {
   "cell_type": "code",
   "execution_count": 39,
   "id": "e52dae13-ed2b-4c41-bf48-4af8a251304e",
   "metadata": {},
   "outputs": [],
   "source": [
    "a = numpy.arange(10_000)\n",
    "b = numpy.zeros(10_000)"
   ]
  },
  {
   "cell_type": "code",
   "execution_count": 40,
   "id": "bc9100f7-db9f-497f-8a71-aca2d1189ece",
   "metadata": {},
   "outputs": [
    {
     "name": "stdout",
     "output_type": "stream",
     "text": [
      "10.7 µs ± 331 ns per loop (mean ± std. dev. of 7 runs, 100,000 loops each)\n"
     ]
    }
   ],
   "source": [
    "%%timeit\n",
    "numpy.square(a, out=b)"
   ]
  },
  {
   "cell_type": "markdown",
   "id": "b5ddce08-4ebd-4707-994a-7637e6b10ec8",
   "metadata": {},
   "source": [
    "Given a vector, reverse it such that the last element becomes the first, e.g. `[1, 2, 3] => [3, 2, 1]`"
   ]
  },
  {
   "cell_type": "code",
   "execution_count": 43,
   "id": "e7b78860-2f31-4b76-8254-d6d5c84c36b0",
   "metadata": {},
   "outputs": [
    {
     "name": "stdout",
     "output_type": "stream",
     "text": [
      "[1 2 3]\n"
     ]
    }
   ],
   "source": [
    "a = numpy.array([1,2,3])\n",
    "print(a)"
   ]
  },
  {
   "cell_type": "code",
   "execution_count": 44,
   "id": "6896bb90-1279-42fe-a7ad-4a4f78ad8922",
   "metadata": {},
   "outputs": [
    {
     "data": {
      "text/plain": [
       "array([3, 2, 1])"
      ]
     },
     "execution_count": 44,
     "metadata": {},
     "output_type": "execute_result"
    }
   ],
   "source": [
    "a[::-1]"
   ]
  },
  {
   "cell_type": "markdown",
   "id": "68eea2fa-325a-42af-985f-9a455a4c59cf",
   "metadata": {},
   "source": [
    "Create a 2D array with zeros on the borders and 1 inside."
   ]
  },
  {
   "cell_type": "code",
   "execution_count": 47,
   "id": "a99af78f-0d64-46aa-a061-8bfc81184143",
   "metadata": {},
   "outputs": [
    {
     "name": "stdout",
     "output_type": "stream",
     "text": [
      "[[1. 1. 1. 1. 1. 1. 1. 1. 1. 1.]\n",
      " [1. 1. 1. 1. 1. 1. 1. 1. 1. 1.]\n",
      " [1. 1. 1. 1. 1. 1. 1. 1. 1. 1.]\n",
      " [1. 1. 1. 1. 1. 1. 1. 1. 1. 1.]\n",
      " [1. 1. 1. 1. 1. 1. 1. 1. 1. 1.]\n",
      " [1. 1. 1. 1. 1. 1. 1. 1. 1. 1.]\n",
      " [1. 1. 1. 1. 1. 1. 1. 1. 1. 1.]\n",
      " [1. 1. 1. 1. 1. 1. 1. 1. 1. 1.]\n",
      " [1. 1. 1. 1. 1. 1. 1. 1. 1. 1.]\n",
      " [1. 1. 1. 1. 1. 1. 1. 1. 1. 1.]]\n"
     ]
    }
   ],
   "source": [
    "b = numpy.ones((10,10))\n",
    "print(b)"
   ]
  },
  {
   "cell_type": "code",
   "execution_count": 49,
   "id": "79d6f178-f421-4c27-bfb9-bfdf829038e5",
   "metadata": {},
   "outputs": [
    {
     "name": "stdout",
     "output_type": "stream",
     "text": [
      "[[0. 1. 1. 1. 1. 1. 1. 1. 1. 0.]\n",
      " [0. 1. 1. 1. 1. 1. 1. 1. 1. 0.]\n",
      " [0. 1. 1. 1. 1. 1. 1. 1. 1. 0.]\n",
      " [0. 1. 1. 1. 1. 1. 1. 1. 1. 0.]\n",
      " [0. 1. 1. 1. 1. 1. 1. 1. 1. 0.]\n",
      " [0. 1. 1. 1. 1. 1. 1. 1. 1. 0.]\n",
      " [0. 1. 1. 1. 1. 1. 1. 1. 1. 0.]\n",
      " [0. 1. 1. 1. 1. 1. 1. 1. 1. 0.]\n",
      " [0. 1. 1. 1. 1. 1. 1. 1. 1. 0.]\n",
      " [0. 1. 1. 1. 1. 1. 1. 1. 1. 0.]]\n"
     ]
    }
   ],
   "source": [
    "b[:,[0,-1]] = 0\n",
    "print(b)"
   ]
  },
  {
   "cell_type": "code",
   "execution_count": 51,
   "id": "a29290e4-04a5-470d-bbf5-53de701c87ef",
   "metadata": {},
   "outputs": [
    {
     "name": "stdout",
     "output_type": "stream",
     "text": [
      "[[0. 0. 0. 0. 0. 0. 0. 0. 0. 0.]\n",
      " [0. 1. 1. 1. 1. 1. 1. 1. 1. 0.]\n",
      " [0. 1. 1. 1. 1. 1. 1. 1. 1. 0.]\n",
      " [0. 1. 1. 1. 1. 1. 1. 1. 1. 0.]\n",
      " [0. 1. 1. 1. 1. 1. 1. 1. 1. 0.]\n",
      " [0. 1. 1. 1. 1. 1. 1. 1. 1. 0.]\n",
      " [0. 1. 1. 1. 1. 1. 1. 1. 1. 0.]\n",
      " [0. 1. 1. 1. 1. 1. 1. 1. 1. 0.]\n",
      " [0. 1. 1. 1. 1. 1. 1. 1. 1. 0.]\n",
      " [0. 0. 0. 0. 0. 0. 0. 0. 0. 0.]]\n"
     ]
    }
   ],
   "source": [
    "b[[0,-1],:] = 0\n",
    "print(b)"
   ]
  },
  {
   "cell_type": "markdown",
   "id": "70c098a3-eb0a-4436-8545-8a202097a59e",
   "metadata": {},
   "source": [
    "Create a random array with elements [0, 1), then add 10 to all elements in the range [0.2, 0.7)."
   ]
  },
  {
   "cell_type": "code",
   "execution_count": 59,
   "id": "d9b8ae83-8b83-47e8-acee-a2548a7665f2",
   "metadata": {},
   "outputs": [
    {
     "name": "stdout",
     "output_type": "stream",
     "text": [
      "[0.01274712 0.30927344 0.61101316 0.92748399 0.16911514 0.32533251\n",
      " 0.16528345 0.64580721 0.27099413 0.23329335 0.0792641  0.02051339\n",
      " 0.83049454 0.23382636 0.21484224 0.58018177 0.24872194 0.45665287\n",
      " 0.77602949 0.66970828 0.25354313 0.31305924 0.8225351  0.10174873\n",
      " 0.85223495 0.04828298 0.88861751 0.58144983 0.19773112 0.03029886\n",
      " 0.05325332 0.77858887 0.62956311 0.55101164 0.21866102 0.07537859\n",
      " 0.90049642 0.88043104 0.33305144 0.1030279  0.43662655 0.95385366\n",
      " 0.02115483 0.77771794 0.96190376 0.3847206  0.30620333 0.7438956\n",
      " 0.50220671 0.98885551]\n"
     ]
    }
   ],
   "source": [
    "x = numpy.random.rand(50)\n",
    "print(x)"
   ]
  },
  {
   "cell_type": "code",
   "execution_count": 60,
   "id": "87de6151-3f52-4d17-90d1-1bcaaac93a7f",
   "metadata": {},
   "outputs": [
    {
     "name": "stdout",
     "output_type": "stream",
     "text": [
      "[ 0.01274712 10.30927344 10.61101316  0.92748399  0.16911514 10.32533251\n",
      "  0.16528345 10.64580721 10.27099413 10.23329335  0.0792641   0.02051339\n",
      "  0.83049454 10.23382636 10.21484224 10.58018177 10.24872194 10.45665287\n",
      "  0.77602949 10.66970828 10.25354313 10.31305924  0.8225351   0.10174873\n",
      "  0.85223495  0.04828298  0.88861751 10.58144983  0.19773112  0.03029886\n",
      "  0.05325332  0.77858887 10.62956311 10.55101164 10.21866102  0.07537859\n",
      "  0.90049642  0.88043104 10.33305144  0.1030279  10.43662655  0.95385366\n",
      "  0.02115483  0.77771794  0.96190376 10.3847206  10.30620333  0.7438956\n",
      " 10.50220671  0.98885551]\n"
     ]
    }
   ],
   "source": [
    "y = x + 10 * (x >= 0.2) * (x < 0.7)\n",
    "print(y)"
   ]
  },
  {
   "cell_type": "markdown",
   "id": "40d76708-87a9-4e51-a904-a35969f18121",
   "metadata": {},
   "source": [
    "explore [`numpy.ceil`](https://numpy.org/doc/stable/reference/generated/numpy.ceil.html#numpy.ceil), [`numpy.floor`](https://numpy.org/doc/stable/reference/generated/numpy.floor.html#numpy.floor), [`numpy.trunc`](https://numpy.org/doc/stable/reference/generated/numpy.trunc.html#numpy.trunc). In particular, take note of how they behave with negative numbers."
   ]
  },
  {
   "cell_type": "code",
   "execution_count": 62,
   "id": "f59180d1-4cd5-4e0c-b892-6cf9660deccc",
   "metadata": {},
   "outputs": [
    {
     "data": {
      "text/plain": [
       "array([-3., -2., -2., -1., -0.,  0.,  1.,  2.,  2.,  3.])"
      ]
     },
     "execution_count": 62,
     "metadata": {},
     "output_type": "execute_result"
    }
   ],
   "source": [
    "a = numpy.array([-3.3, -2.5, -1.5, -0.75, -0.5, 0.5, 0.75, 1.5, 2.5, 3])\n",
    "numpy.round(a)"
   ]
  },
  {
   "cell_type": "code",
   "execution_count": 63,
   "id": "74d2ef84-42d2-409b-96ae-c6f9c1ab9f21",
   "metadata": {},
   "outputs": [
    {
     "data": {
      "text/plain": [
       "array([-3., -2., -1., -0., -0.,  1.,  1.,  2.,  3.,  3.])"
      ]
     },
     "execution_count": 63,
     "metadata": {},
     "output_type": "execute_result"
    }
   ],
   "source": [
    "numpy.ceil(a)"
   ]
  },
  {
   "cell_type": "code",
   "execution_count": 64,
   "id": "6ae8e559-d32c-4fa6-8f92-b795ab39f265",
   "metadata": {},
   "outputs": [
    {
     "data": {
      "text/plain": [
       "array([-4., -3., -2., -1., -1.,  0.,  0.,  1.,  2.,  3.])"
      ]
     },
     "execution_count": 64,
     "metadata": {},
     "output_type": "execute_result"
    }
   ],
   "source": [
    "numpy.floor(a)"
   ]
  },
  {
   "cell_type": "code",
   "execution_count": 66,
   "id": "9b048c79-cdc9-477e-a88c-2e85edf04d67",
   "metadata": {},
   "outputs": [
    {
     "data": {
      "text/plain": [
       "array([-3., -2., -1., -0., -0.,  0.,  0.,  1.,  2.,  3.])"
      ]
     },
     "execution_count": 66,
     "metadata": {},
     "output_type": "execute_result"
    }
   ],
   "source": [
    "numpy.trunc(a)"
   ]
  },
  {
   "cell_type": "markdown",
   "id": "07b4e511-6430-498a-be09-1aab7309211f",
   "metadata": {},
   "source": [
    "Recall the identity $sin^2(x)+cos^2(x)=1$. Create a random 4x4 array with values in the range [0, 10). Now test the equality with [`numpy.equal`](https://numpy.org/doc/stable/reference/generated/numpy.equal.html#numpy.equal). What result do you get with [`numpy.allclose()`](https://numpy.org/doc/stable/reference/generated/numpy.allclose.html#numpy.allclose)"
   ]
  },
  {
   "cell_type": "code",
   "execution_count": 68,
   "id": "7436db92-1827-4cbc-9e5f-337581dce5cb",
   "metadata": {},
   "outputs": [
    {
     "name": "stdout",
     "output_type": "stream",
     "text": [
      "[[8.76575182 7.09809004 7.97685078 7.75315834]\n",
      " [5.59074705 0.8588835  5.98759166 0.19313093]\n",
      " [4.11327838 7.27510122 2.55618174 1.52555783]\n",
      " [3.32926713 5.88953124 4.28814731 2.32197409]]\n"
     ]
    }
   ],
   "source": [
    "x = 10 * numpy.random.rand(4,4)\n",
    "print(x)"
   ]
  },
  {
   "cell_type": "code",
   "execution_count": 70,
   "id": "a4f70a13-d3c0-4bc3-819d-746ecb75a42b",
   "metadata": {},
   "outputs": [
    {
     "name": "stdout",
     "output_type": "stream",
     "text": [
      "[[1. 1. 1. 1.]\n",
      " [1. 1. 1. 1.]\n",
      " [1. 1. 1. 1.]\n",
      " [1. 1. 1. 1.]]\n"
     ]
    }
   ],
   "source": [
    "oo = numpy.ones((4,4))\n",
    "print(oo)"
   ]
  },
  {
   "cell_type": "code",
   "execution_count": 72,
   "id": "6c247777-7bda-476d-858f-3d9142081e36",
   "metadata": {},
   "outputs": [
    {
     "name": "stdout",
     "output_type": "stream",
     "text": [
      "[[1. 1. 1. 1.]\n",
      " [1. 1. 1. 1.]\n",
      " [1. 1. 1. 1.]\n",
      " [1. 1. 1. 1.]]\n"
     ]
    }
   ],
   "source": [
    "s2c2 = numpy.square(numpy.sin(x)) + numpy.square(numpy.cos(x))\n",
    "print(s2c2)"
   ]
  },
  {
   "cell_type": "code",
   "execution_count": 73,
   "id": "5b77a812-fca3-4694-9616-63e89b8a7ce4",
   "metadata": {},
   "outputs": [
    {
     "data": {
      "text/plain": [
       "array([[ True,  True, False, False],\n",
       "       [False,  True,  True, False],\n",
       "       [ True,  True,  True,  True],\n",
       "       [ True,  True, False,  True]])"
      ]
     },
     "execution_count": 73,
     "metadata": {},
     "output_type": "execute_result"
    }
   ],
   "source": [
    "numpy.equal(oo, s2c2)"
   ]
  },
  {
   "cell_type": "code",
   "execution_count": 74,
   "id": "ab328646-ca23-4248-843f-a99e54171f39",
   "metadata": {},
   "outputs": [
    {
     "data": {
      "text/plain": [
       "True"
      ]
     },
     "execution_count": 74,
     "metadata": {},
     "output_type": "execute_result"
    }
   ],
   "source": [
    "numpy.allclose(oo, s2c2)"
   ]
  },
  {
   "cell_type": "markdown",
   "id": "1e59e3b2-9e8a-433d-b996-805a99434628",
   "metadata": {},
   "source": [
    "Create a 1D array with 10 random elements. Sort it."
   ]
  },
  {
   "cell_type": "code",
   "execution_count": 77,
   "id": "5f5cbf5a-92c4-44b8-a324-cca5980e3344",
   "metadata": {},
   "outputs": [
    {
     "name": "stdout",
     "output_type": "stream",
     "text": [
      "[9.59343400e-01 5.73142293e-01 9.97219500e-01 5.82734253e-01\n",
      " 5.49202082e-01 4.47544958e-01 6.42435769e-04 4.72824458e-01\n",
      " 2.61248144e-01 6.99084573e-01]\n"
     ]
    }
   ],
   "source": [
    "x = numpy.random.rand(10)\n",
    "print(x)"
   ]
  },
  {
   "cell_type": "code",
   "execution_count": 80,
   "id": "9ec5e2f5-af1c-4b8f-8d3c-6efd15d86e1f",
   "metadata": {},
   "outputs": [
    {
     "name": "stdout",
     "output_type": "stream",
     "text": [
      "[6.42435769e-04 2.61248144e-01 4.47544958e-01 4.72824458e-01\n",
      " 5.49202082e-01 5.73142293e-01 5.82734253e-01 6.99084573e-01\n",
      " 9.59343400e-01 9.97219500e-01]\n"
     ]
    }
   ],
   "source": [
    "x.sort()\n",
    "print(x)"
   ]
  },
  {
   "cell_type": "markdown",
   "id": "60bc383f-e231-4710-badf-0891d1d70af7",
   "metadata": {},
   "source": [
    "Create a 4x4 array of zeros, and another 4x4 array of ones. Next combine them into a single 8x4 array with the content of the zeros array on top and the ones on the bottom. Finally, do the same, but create a 4x8 array with the zeros on the left and the ones on the right."
   ]
  },
  {
   "cell_type": "code",
   "execution_count": 82,
   "id": "65153192-3825-414e-a2f4-a287aa3b9a4c",
   "metadata": {},
   "outputs": [
    {
     "name": "stdout",
     "output_type": "stream",
     "text": [
      "[[0. 0. 0. 0.]\n",
      " [0. 0. 0. 0.]\n",
      " [0. 0. 0. 0.]\n",
      " [0. 0. 0. 0.]]\n"
     ]
    }
   ],
   "source": [
    "z = numpy.zeros((4,4))\n",
    "print(z)"
   ]
  },
  {
   "cell_type": "code",
   "execution_count": 83,
   "id": "a5a0edbf-1936-4d9f-9916-d7c71b3f70b9",
   "metadata": {},
   "outputs": [
    {
     "name": "stdout",
     "output_type": "stream",
     "text": [
      "[[1. 1. 1. 1.]\n",
      " [1. 1. 1. 1.]\n",
      " [1. 1. 1. 1.]\n",
      " [1. 1. 1. 1.]]\n"
     ]
    }
   ],
   "source": [
    "o = numpy.ones((4,4))\n",
    "print(o)"
   ]
  },
  {
   "cell_type": "code",
   "execution_count": 85,
   "id": "6adcf0d2-4c31-46e3-82c9-cbaad73db04e",
   "metadata": {},
   "outputs": [
    {
     "data": {
      "text/plain": [
       "array([[0., 0., 0., 0.],\n",
       "       [0., 0., 0., 0.],\n",
       "       [0., 0., 0., 0.],\n",
       "       [0., 0., 0., 0.],\n",
       "       [1., 1., 1., 1.],\n",
       "       [1., 1., 1., 1.],\n",
       "       [1., 1., 1., 1.],\n",
       "       [1., 1., 1., 1.]])"
      ]
     },
     "execution_count": 85,
     "metadata": {},
     "output_type": "execute_result"
    }
   ],
   "source": [
    "numpy.concatenate((z, o))"
   ]
  },
  {
   "cell_type": "code",
   "execution_count": 86,
   "id": "40a4286e-a00c-43b2-8e90-73afcb98832c",
   "metadata": {},
   "outputs": [
    {
     "data": {
      "text/plain": [
       "array([[0., 0., 0., 0., 1., 1., 1., 1.],\n",
       "       [0., 0., 0., 0., 1., 1., 1., 1.],\n",
       "       [0., 0., 0., 0., 1., 1., 1., 1.],\n",
       "       [0., 0., 0., 0., 1., 1., 1., 1.]])"
      ]
     },
     "execution_count": 86,
     "metadata": {},
     "output_type": "execute_result"
    }
   ],
   "source": [
    "numpy.concatenate((z, o), axis=1)"
   ]
  },
  {
   "cell_type": "code",
   "execution_count": null,
   "id": "dffd96f1-0f61-43f5-84c7-8dc0558eee9b",
   "metadata": {},
   "outputs": [],
   "source": [
    "#include <stdlib.h>\n",
    "#include <stdio.h>\n",
    "#define N_ELEMENTS 100000000\n",
    "int main(int argc, char** argv) {\n",
    "    double* a = (double*) malloc(sizeof(double) * N_ELEMENTS);\n",
    "    int i;\n",
    "    for(i=0; i<N_ELEMENTS; ++i) {\n",
    "        a[i] = (double) rand() / RAND_MAX;\n",
    "    }\n",
    "    double sum = 0;\n",
    "    for(i=0; i<N_ELEMENTS; ++i) {\n",
    "        sum += a[i];\n",
    "    }\n",
    "    printf(\"%f\", sum);\n",
    "    return 0;\n",
    "}"
   ]
  },
  {
   "cell_type": "markdown",
   "id": "07d2837d-2959-4b91-ba83-05e2b1ac7cf1",
   "metadata": {},
   "source": [
    "Write a Python script that uses NumPy to generate 100 million (100000000) random numbers and add them all together. Time how long it takes to execute."
   ]
  },
  {
   "cell_type": "code",
   "execution_count": 1,
   "id": "4d4145cc-e984-4f85-9ba7-80c0f9f4724d",
   "metadata": {},
   "outputs": [
    {
     "name": "stdout",
     "output_type": "stream",
     "text": [
      "50001258.71789336\n"
     ]
    }
   ],
   "source": [
    "import numpy\n",
    "print(numpy.random.rand(100_000_000).sum())"
   ]
  },
  {
   "cell_type": "markdown",
   "id": "a12c6582-0386-45a5-b69b-89e575c0535c",
   "metadata": {},
   "source": [
    "Let’s race the BLAS function versus a naive “manual” version of computing the vector norm. We start by creating a decently long vector filled with random numbers:"
   ]
  },
  {
   "cell_type": "code",
   "execution_count": 4,
   "id": "3f98ffb6-3df9-4a3e-8f3f-9aa20a0c550b",
   "metadata": {},
   "outputs": [],
   "source": [
    "import numpy\n",
    "rng = numpy.random.default_rng(seed = 0)\n",
    "a = rng.random(100_000_000)"
   ]
  },
  {
   "cell_type": "markdown",
   "id": "a18bfc5b-fab4-499d-91a3-33e956b5da3b",
   "metadata": {},
   "source": [
    "We now implement the Pythagorean theorem using basic NumPy functionality and use `%%timeit` to record how long it takes to execute:"
   ]
  },
  {
   "cell_type": "code",
   "execution_count": 5,
   "id": "3f3ae517-4d52-4490-b3b3-28868a33fd7c",
   "metadata": {},
   "outputs": [
    {
     "name": "stdout",
     "output_type": "stream",
     "text": [
      "5773.352000239466\n",
      "5773.352000239466\n",
      "5773.352000239466\n",
      "5773.352000239466\n",
      "5773.352000239466\n",
      "5773.352000239466\n",
      "5773.352000239466\n",
      "5773.352000239466\n",
      "The slowest run took 127.97 times longer than the fastest. This could mean that an intermediate result is being cached.\n",
      "12.6 s ± 13 s per loop (mean ± std. dev. of 7 runs, 1 loop each)\n"
     ]
    }
   ],
   "source": [
    "%%timeit\n",
    "l = numpy.sqrt(numpy.sum(pow(a, 2)))\n",
    "print(l)"
   ]
  },
  {
   "cell_type": "markdown",
   "id": "c7dd47c1-dc8a-4921-9185-4f2d8b5bb809",
   "metadata": {},
   "source": [
    "And here is the version using the specialized BLAS function [`norm()`](https://numpy.org/doc/stable/reference/generated/numpy.linalg.norm.html#numpy.linalg.norm):"
   ]
  },
  {
   "cell_type": "code",
   "execution_count": 7,
   "id": "fbb7dc8f-8d80-484c-9043-bda5ef4bdbfd",
   "metadata": {},
   "outputs": [
    {
     "name": "stdout",
     "output_type": "stream",
     "text": [
      "50.2 ms ± 2.72 ms per loop (mean ± std. dev. of 7 runs, 10 loops each)\n"
     ]
    }
   ],
   "source": [
    "%%timeit\n",
    "l = numpy.linalg.norm(a)\n",
    "#print(l)"
   ]
  },
  {
   "cell_type": "markdown",
   "id": "677e8c13-c33f-42b3-a4cb-a485b1af3db5",
   "metadata": {},
   "source": [
    "Transposing a matrix means that all rows become columns and all columns become rows. All off-diagonal values change places. Let’s see how long NumPy’s transpose function takes, by transposing a huge (10 000 ✕ 20 000) [`rand()`](https://numpy.org/doc/stable/reference/random/generated/numpy.random.rand.html#numpy.random.rand) matrix:"
   ]
  },
  {
   "cell_type": "code",
   "execution_count": 8,
   "id": "dac6af90-bd40-417c-b0cd-7d88eca50170",
   "metadata": {},
   "outputs": [
    {
     "name": "stdout",
     "output_type": "stream",
     "text": [
      "Matrix `a` takes up 1600.0 MB\n"
     ]
    }
   ],
   "source": [
    "import numpy\n",
    "a = numpy.random.rand(10_000, 20_000)\n",
    "print(f'Matrix `a` takes up {a.nbytes / pow(10, 6)} MB')"
   ]
  },
  {
   "cell_type": "markdown",
   "id": "8d2d634d-37bc-4823-9c6e-72a4bcb68c7b",
   "metadata": {},
   "source": [
    "Let’s time the [`transpose()`](https://numpy.org/doc/stable/reference/generated/numpy.ndarray.transpose.html#numpy.ndarray.transpose) method:"
   ]
  },
  {
   "cell_type": "code",
   "execution_count": 9,
   "id": "c5c40e8d-ddfb-471d-8738-4c5da721ee04",
   "metadata": {},
   "outputs": [
    {
     "name": "stdout",
     "output_type": "stream",
     "text": [
      "95 ns ± 0.521 ns per loop (mean ± std. dev. of 7 runs, 10,000,000 loops each)\n"
     ]
    }
   ],
   "source": [
    "%%timeit\n",
    "b = a.transpose()"
   ]
  },
  {
   "cell_type": "code",
   "execution_count": 15,
   "id": "91ac56d1-6208-4c6b-a095-bedc02913e84",
   "metadata": {},
   "outputs": [
    {
     "name": "stdout",
     "output_type": "stream",
     "text": [
      "/bin/bash: line 1: [Image](https://aaltoscicomp.github.io/python-for-scicomp/_images/01_memory_layout.svg): No such file or directory\n"
     ]
    }
   ],
   "source": [
    "![Image]\\(https://aaltoscicomp.github.io/python-for-scicomp/_images/01_memory_layout.svg\\)"
   ]
  },
  {
   "cell_type": "markdown",
   "id": "fc83bf73-7c59-4050-aada-ba2d7d75d22e",
   "metadata": {},
   "source": [
    "Write a function called `ravel()` that takes the row and column of an element in a 2D matrix and produces the appropriate index in an 1D array, where all the rows are concatenated. See the image above to remind yourself how each row of the 2D matrix ends up in the 1D array.\n",
    "\n",
    "The function takes these inputs:\n",
    "\n",
    "* `row` The row of the requested element in the matrix as integer index.\n",
    "\n",
    "* `col` The column of the requested element in the matrix as integer index.\n",
    "\n",
    "* `n_rows` The total number of rows of the matrix.\n",
    "\n",
    "* `n_cols` The total number of columns of the matrix.\n",
    "\n",
    "Here are some examples of input and desired output:\n",
    "\n",
    "* `ravel(2, 3, n_rows=4, n_cols=4)` → `11`\n",
    "\n",
    "* `ravel(2, 3, n_rows=4, n_cols=8)` → `19`\n",
    "\n",
    "* `ravel(0, 0, n_rows=1, n_cols=1)` → `0`\n",
    "\n",
    "* `ravel(3, 3, n_rows=4, n_cols=4)` → `15`\n",
    "\n",
    "* `ravel(3_465, 18_923, n_rows=10_000, n_cols=20_000)` → `69_318_923`"
   ]
  },
  {
   "cell_type": "code",
   "execution_count": 10,
   "id": "02b38102-c5b4-478f-afd6-b94f67c8b39b",
   "metadata": {},
   "outputs": [],
   "source": [
    "def ravel(row, col, n_rows, n_cols):\n",
    "    return row * n_cols + col"
   ]
  },
  {
   "cell_type": "code",
   "execution_count": 11,
   "id": "f75fe9a4-c10f-4ece-b680-f7e3e5eba8fc",
   "metadata": {},
   "outputs": [
    {
     "data": {
      "text/plain": [
       "11"
      ]
     },
     "execution_count": 11,
     "metadata": {},
     "output_type": "execute_result"
    }
   ],
   "source": [
    "ravel(2, 3, n_rows=4, n_cols=4)"
   ]
  },
  {
   "cell_type": "code",
   "execution_count": 12,
   "id": "b6c3e82e-c43d-4f29-9c89-78a9c2885d94",
   "metadata": {},
   "outputs": [
    {
     "data": {
      "text/plain": [
       "19"
      ]
     },
     "execution_count": 12,
     "metadata": {},
     "output_type": "execute_result"
    }
   ],
   "source": [
    "ravel(2, 3, n_rows=4, n_cols=8)"
   ]
  },
  {
   "cell_type": "code",
   "execution_count": 13,
   "id": "45d90fc2-b5a1-4de1-9d08-8c1c97b0e845",
   "metadata": {},
   "outputs": [
    {
     "data": {
      "text/plain": [
       "0"
      ]
     },
     "execution_count": 13,
     "metadata": {},
     "output_type": "execute_result"
    }
   ],
   "source": [
    "ravel(0, 0, n_rows=1, n_cols=1)"
   ]
  },
  {
   "cell_type": "code",
   "execution_count": 14,
   "id": "76e86798-5be8-41e9-ae39-27b02556548c",
   "metadata": {},
   "outputs": [
    {
     "data": {
      "text/plain": [
       "15"
      ]
     },
     "execution_count": 14,
     "metadata": {},
     "output_type": "execute_result"
    }
   ],
   "source": [
    "ravel(3, 3, n_rows=4, n_cols=4)"
   ]
  },
  {
   "cell_type": "code",
   "execution_count": 15,
   "id": "9d376b41-ee57-4fcf-975f-2c20b1b987b5",
   "metadata": {},
   "outputs": [
    {
     "data": {
      "text/plain": [
       "69318923"
      ]
     },
     "execution_count": 15,
     "metadata": {},
     "output_type": "execute_result"
    }
   ],
   "source": [
    "ravel(3_465, 18_923, n_rows=10_000, n_cols=20_000)"
   ]
  },
  {
   "cell_type": "markdown",
   "id": "e4194609-6edf-4579-b485-795b4481c2aa",
   "metadata": {},
   "source": [
    "to get to the next row, we have to skip over n_cols indices. To get to the next column, we can just add 1. To generalize this code to work with an arbitrary number of dimensions, NumPy has the concept of “strides”:"
   ]
  },
  {
   "cell_type": "code",
   "execution_count": 16,
   "id": "02164865-ed55-4082-96c2-4ecda1871cc8",
   "metadata": {},
   "outputs": [
    {
     "data": {
      "text/plain": [
       "(64, 8)"
      ]
     },
     "execution_count": 16,
     "metadata": {},
     "output_type": "execute_result"
    }
   ],
   "source": [
    "numpy.zeros((4, 8)).strides"
   ]
  },
  {
   "cell_type": "code",
   "execution_count": 17,
   "id": "5bd194d5-baf0-45c6-b7ff-fe952882f6a9",
   "metadata": {},
   "outputs": [
    {
     "data": {
      "text/plain": [
       "(13440, 2688, 448, 64, 8)"
      ]
     },
     "execution_count": 17,
     "metadata": {},
     "output_type": "execute_result"
    }
   ],
   "source": [
    "numpy.zeros((4, 5, 6, 7, 8)).strides"
   ]
  },
  {
   "cell_type": "markdown",
   "id": "1714de97-65bc-4e2e-9c08-e668e4283a8d",
   "metadata": {},
   "source": [
    "So now we know the mystery behind the speed of [`transpose()`](https://numpy.org/doc/stable/reference/generated/numpy.ndarray.transpose.html#numpy.ndarray.transpose). NumPy can avoid copying any data by just modifying the [`strides`](https://numpy.org/doc/stable/reference/generated/numpy.ndarray.strides.html#numpy.ndarray.strides) of the array:"
   ]
  },
  {
   "cell_type": "code",
   "execution_count": 3,
   "id": "ce502784-b646-41d4-bee3-ef2f262a02d9",
   "metadata": {},
   "outputs": [
    {
     "name": "stdout",
     "output_type": "stream",
     "text": [
      "(160000, 8)\n"
     ]
    }
   ],
   "source": [
    "import numpy\n",
    "a = numpy.random.rand(10_000, 20_000)\n",
    "b = a.transpose()\n",
    "print(a.strides)"
   ]
  },
  {
   "cell_type": "code",
   "execution_count": 22,
   "id": "4222237c-3ab5-44fd-8f5f-9c090782ab94",
   "metadata": {},
   "outputs": [
    {
     "name": "stdout",
     "output_type": "stream",
     "text": [
      "(8, 160000)\n"
     ]
    }
   ],
   "source": [
    "print(b.strides)"
   ]
  },
  {
   "cell_type": "markdown",
   "id": "e1bc5b47-8ecd-4763-aae5-8ba0a9f3709a",
   "metadata": {},
   "source": [
    "Modifying the shape of an array through [`numpy.reshape()`](https://numpy.org/doc/stable/reference/generated/numpy.reshape.html#numpy.reshape) is also accomplished without any copying of data by modifying the [`strides`](https://numpy.org/doc/stable/reference/generated/numpy.ndarray.strides.html#numpy.ndarray.strides):"
   ]
  },
  {
   "cell_type": "code",
   "execution_count": 3,
   "id": "f29eb7f3-9fae-4189-8adb-f51dc905ff12",
   "metadata": {},
   "outputs": [
    {
     "name": "stdout",
     "output_type": "stream",
     "text": [
      "a.strides = (80000, 8)\n"
     ]
    }
   ],
   "source": [
    "a = numpy.random.rand(20_000, 10_000)\n",
    "print(f'{a.strides = }')"
   ]
  },
  {
   "cell_type": "code",
   "execution_count": 4,
   "id": "90d07b2d-b6ea-4e7b-8372-8cb1bcd941b1",
   "metadata": {},
   "outputs": [
    {
     "name": "stdout",
     "output_type": "stream",
     "text": [
      "b.strides = (40000, 8)\n"
     ]
    }
   ],
   "source": [
    "b = a.reshape(40_000, 5_000)\n",
    "print(f'{b.strides = }')"
   ]
  },
  {
   "cell_type": "code",
   "execution_count": 5,
   "id": "4fd34462-4af7-4bb2-b32f-94ea8c79431b",
   "metadata": {},
   "outputs": [
    {
     "name": "stdout",
     "output_type": "stream",
     "text": [
      "c.strides = (80000, 16, 8)\n"
     ]
    }
   ],
   "source": [
    "c = a.reshape(20_000, 5_000, 2)\n",
    "print(f'{c.strides = }')"
   ]
  },
  {
   "cell_type": "markdown",
   "id": "ae38ee1c-2baa-4fd7-a6ca-9c9fdcaa132b",
   "metadata": {},
   "source": [
    "Create your own `transpose()` function that will transpose a 2D matrix by reversing its [`shape`](https://numpy.org/doc/stable/reference/generated/numpy.ndarray.shape.html#numpy.ndarray.shape) and [`strides`](https://numpy.org/doc/stable/reference/generated/numpy.ndarray.strides.html#numpy.ndarray.strides) attributes using [`numpy.lib.stride_tricks.as_strided()`](https://numpy.org/doc/stable/reference/generated/numpy.lib.stride_tricks.as_strided.html#numpy.lib.stride_tricks.as_strided)."
   ]
  },
  {
   "cell_type": "code",
   "execution_count": 17,
   "id": "bebaf604-baec-4a05-9c67-ac2d01659854",
   "metadata": {},
   "outputs": [
    {
     "name": "stdout",
     "output_type": "stream",
     "text": [
      "Before transpose:\n",
      "[[1 2 3]\n",
      " [4 5 6]]\n",
      "After transpose:\n",
      "[[1 4]\n",
      " [2 5]\n",
      " [3 6]]\n"
     ]
    }
   ],
   "source": [
    "from numpy.lib.stride_tricks import as_strided\n",
    "def transpose(a):\n",
    "    return as_strided(a, shape=a.shape[::-1], strides=a.strides[::-1])\n",
    "# Testing the function on a small matrix\n",
    "a = numpy.array([[1,2,3],[4,5,6]])\n",
    "print('Before transpose:')\n",
    "print(a)\n",
    "print('After transpose:')\n",
    "print(transpose(a))"
   ]
  },
  {
   "cell_type": "markdown",
   "id": "22af05fd-d7d4-40eb-ae7b-63f6d3b5208f",
   "metadata": {},
   "source": [
    "Create a (5 ✕ 100 000 000 000) array containing on the first row all 1’s, the second row all 2’s, and so on. Start with an 1D array `a = numpy.array([1., 2., 3., 4., 5.])` and modify its `shape` and `strides` attributes using [`numpy.lib.stride_tricks.as_strided()`](https://numpy.org/doc/stable/reference/generated/numpy.lib.stride_tricks.as_strided.html#numpy.lib.stride_tricks.as_strided) to obtain the desired 2D matrix:"
   ]
  },
  {
   "cell_type": "code",
   "execution_count": null,
   "id": "41befae1-cdc8-4248-8a9d-bba59205974c",
   "metadata": {},
   "outputs": [],
   "source": [
    "array([[1., 1., 1., ..., 1., 1., 1.],\n",
    "       [2., 2., 2., ..., 2., 2., 2.],\n",
    "       [3., 3., 3., ..., 3., 3., 3.],\n",
    "       [4., 4., 4., ..., 4., 4., 4.],\n",
    "       [5., 5., 5., ..., 5., 5., 5.]])"
   ]
  },
  {
   "cell_type": "code",
   "execution_count": 19,
   "id": "6da63d7c-cef4-4a32-9db9-22972cc6a1f8",
   "metadata": {},
   "outputs": [
    {
     "data": {
      "text/plain": [
       "array([[1., 1., 1., ..., 1., 1., 1.],\n",
       "       [2., 2., 2., ..., 2., 2., 2.],\n",
       "       [3., 3., 3., ..., 3., 3., 3.],\n",
       "       [4., 4., 4., ..., 4., 4., 4.],\n",
       "       [5., 5., 5., ..., 5., 5., 5.]])"
      ]
     },
     "execution_count": 19,
     "metadata": {},
     "output_type": "execute_result"
    }
   ],
   "source": [
    "from numpy.lib.stride_tricks import as_strided\n",
    "a = numpy.array([1., 2., 3., 4., 5.])\n",
    "as_strided(a, shape=(5, 100_000_000_000), strides=(8, 0))"
   ]
  },
  {
   "cell_type": "markdown",
   "id": "4834efe3-954e-472b-89cd-452c799927c0",
   "metadata": {},
   "source": [
    "If [`numpy.transpose()`](https://numpy.org/doc/stable/reference/generated/numpy.transpose.html#numpy.transpose) is fast, and [`numpy.reshape()`](https://numpy.org/doc/stable/reference/generated/numpy.reshape.html#numpy.reshape) is fast, then doing them both must be fast too, right?:"
   ]
  },
  {
   "cell_type": "code",
   "execution_count": 1,
   "id": "d1800a61-fca0-4a9d-9ae5-be6eab99b765",
   "metadata": {},
   "outputs": [],
   "source": [
    "import numpy\n",
    "a = numpy.random.rand(10_000, 20_000) # Create a large array"
   ]
  },
  {
   "cell_type": "markdown",
   "id": "3de614c7-9e0f-4b26-bff4-8c489f0397cb",
   "metadata": {},
   "source": [
    "Measuring the time it takes to first transpose and then reshape:"
   ]
  },
  {
   "cell_type": "code",
   "execution_count": 2,
   "id": "da5ab43f-8593-4483-bbaf-3840e69a7ad6",
   "metadata": {},
   "outputs": [
    {
     "name": "stdout",
     "output_type": "stream",
     "text": [
      "1min 28s ± 0 ns per loop (mean ± std. dev. of 1 run, 1 loop each)\n"
     ]
    }
   ],
   "source": [
    "%%timeit -n 1 -r 1\n",
    "a.T.reshape(40_000, 5_000)"
   ]
  },
  {
   "cell_type": "markdown",
   "id": "5203b50d-9be5-4866-bd06-122889a09fb8",
   "metadata": {},
   "source": [
    "In this case, the data actually had to be copied and it’s super slow (it takes seconds instead of nanoseconds). When the array is first created, it is laid out in memory row-by-row (see image above). The transpose left the data laid out in memory column-by-column. To see why the copying of data was inevitable, look at what happens to this smaller (2 ✕ 3) matrix after transposition and reshaping. You can verify for yourself there is no way to get the final array based on the first array and some clever setting of the [`strides`](https://numpy.org/doc/stable/reference/generated/numpy.ndarray.strides.html#numpy.ndarray.strides):"
   ]
  },
  {
   "cell_type": "code",
   "execution_count": 6,
   "id": "598f063a-b873-4ce4-ad13-3828d198f2a0",
   "metadata": {},
   "outputs": [
    {
     "name": "stdout",
     "output_type": "stream",
     "text": [
      "Original array:\n",
      "[[1 2 3]\n",
      " [4 5 6]]\n",
      "\n",
      "Transposed:\n",
      "[[1 4]\n",
      " [2 5]\n",
      " [3 6]]\n",
      "\n",
      "Transposed and reshaped:\n",
      "[[1 4 2]\n",
      " [5 3 6]]\n"
     ]
    }
   ],
   "source": [
    "a = numpy.array([[1,2,3],[4,5,6]])\n",
    "print('Original array:')\n",
    "print(a)\n",
    "print('\\nTransposed:')\n",
    "print(a.T)\n",
    "print('\\nTransposed and reshaped:')\n",
    "print(a.T.reshape(2, 3))"
   ]
  },
  {
   "cell_type": "markdown",
   "id": "20646d29-da31-4454-a0c1-6a87c7c68706",
   "metadata": {},
   "source": [
    "Whenever NumPy constructs a new array by modifying the [`strides`](https://numpy.org/doc/stable/reference/generated/numpy.ndarray.strides.html#numpy.ndarray.strides) instead of copying data, we way it created a “view”. This also happens when we select only a portion of an existing matrix. Whenever a view is created, the [`numpy.ndarray`](https://numpy.org/doc/stable/reference/generated/numpy.ndarray.html#numpy.ndarray) object will have a reference to the original array in its [`base`](https://numpy.org/doc/stable/reference/generated/numpy.ndarray.base.html#numpy.ndarray.base) attribute:"
   ]
  },
  {
   "cell_type": "code",
   "execution_count": 8,
   "id": "8a6dd7ce-7bad-4360-b785-c50f7df128bc",
   "metadata": {},
   "outputs": [
    {
     "name": "stdout",
     "output_type": "stream",
     "text": [
      "None\n"
     ]
    }
   ],
   "source": [
    "a = numpy.zeros((5, 5))\n",
    "print(a.base)"
   ]
  },
  {
   "cell_type": "code",
   "execution_count": 9,
   "id": "2c0f3858-bbb5-4718-9d08-51e1819108d0",
   "metadata": {},
   "outputs": [
    {
     "name": "stdout",
     "output_type": "stream",
     "text": [
      "(5, 5)\n"
     ]
    }
   ],
   "source": [
    "b = a[:2, :2]\n",
    "print(b.base.shape)"
   ]
  },
  {
   "cell_type": "markdown",
   "id": "276fc7f3-d562-45d3-8cc8-e2bd15937d28",
   "metadata": {},
   "source": [
    "The new array `b` object has a pointer to the same memory buffer as the array it has been derived from:"
   ]
  },
  {
   "cell_type": "code",
   "execution_count": 10,
   "id": "3af9f9ca-54c9-429f-829c-28ddce945f52",
   "metadata": {},
   "outputs": [
    {
     "name": "stdout",
     "output_type": "stream",
     "text": [
      "(94186816203328, False)\n"
     ]
    }
   ],
   "source": [
    "print(a.__array_interface__['data'])"
   ]
  },
  {
   "cell_type": "code",
   "execution_count": 11,
   "id": "63f4bfc9-08fe-4da0-95c2-230244a530a1",
   "metadata": {},
   "outputs": [
    {
     "name": "stdout",
     "output_type": "stream",
     "text": [
      "(94186816203328, False)\n"
     ]
    }
   ],
   "source": [
    "print(b.__array_interface__['data'])"
   ]
  },
  {
   "cell_type": "markdown",
   "id": "8fe03d7a-f727-42ea-99bb-b2489d05c53c",
   "metadata": {},
   "source": [
    "Views are created by virtue of modifying the value of the [`shape`](https://numpy.org/doc/stable/reference/generated/numpy.ndarray.shape.html#numpy.ndarray.shape) attribute and, if necessary, apply an offset to the pointer into the memory buffer so it no longer points to the start of the buffer, but somewhere in the middle:"
   ]
  },
  {
   "cell_type": "code",
   "execution_count": 14,
   "id": "e208dc40-050d-4455-948e-21d58f40701b",
   "metadata": {},
   "outputs": [
    {
     "name": "stdout",
     "output_type": "stream",
     "text": [
      "Offset: 48 bytes\n"
     ]
    }
   ],
   "source": [
    "b = a[1:3, 1:3] # This view does not start at the beginning\n",
    "offset = b.__array_interface__['data'][0] - a.__array_interface__['data'][0]\n",
    "print('Offset:', offset, 'bytes')"
   ]
  },
  {
   "cell_type": "markdown",
   "id": "274a7fd5-8c5c-4d6a-b2ef-df6f22ce3dfe",
   "metadata": {},
   "source": [
    "Since the base array and its derived view share the same memory, any changes to the data in a view also affects the data in the base array:"
   ]
  },
  {
   "cell_type": "code",
   "execution_count": 16,
   "id": "b776e8e2-5af1-4111-b04a-d5ac4348479f",
   "metadata": {},
   "outputs": [
    {
     "name": "stdout",
     "output_type": "stream",
     "text": [
      "[[0. 0. 0. 0. 0.]\n",
      " [0. 1. 0. 0. 0.]\n",
      " [0. 0. 0. 0. 0.]\n",
      " [0. 0. 0. 0. 0.]\n",
      " [0. 0. 0. 0. 0.]]\n"
     ]
    }
   ],
   "source": [
    "b[0, 0] = 1\n",
    "print(a) # Original matrix was modified"
   ]
  },
  {
   "cell_type": "markdown",
   "id": "dc788f57-3a85-44ee-90d5-b9758c4d442f",
   "metadata": {},
   "source": [
    "Whenever you index an array, NumPy will attempt to create a view. Whether or not that succeeds depends on the memory layout of the array and what kind of indexing operation was done. If no view can be created, NumPy will create a new array and copy over the selected data:"
   ]
  },
  {
   "cell_type": "code",
   "execution_count": 18,
   "id": "f752c9a0-2bea-4407-8820-875cab1c33ed",
   "metadata": {},
   "outputs": [
    {
     "name": "stdout",
     "output_type": "stream",
     "text": [
      "None\n"
     ]
    }
   ],
   "source": [
    "c = a[[0, 2]] # Select rows 0 and 2\n",
    "print(c.base)"
   ]
  },
  {
   "cell_type": "markdown",
   "id": "fdf89a98-f963-432e-95cf-1e308e9154c8",
   "metadata": {},
   "source": [
    "# Pandas"
   ]
  },
  {
   "cell_type": "markdown",
   "id": "f2fb10c8-5307-4ddf-93e7-1c18d9ac86f3",
   "metadata": {
    "tags": []
   },
   "source": [
    "Let’s get a flavor of what we can do with pandas. We will be working with an example dataset containing the passenger list from the Titanic, which is often used in Kaggle competitions and data science tutorials. First step is to load pandas:"
   ]
  },
  {
   "cell_type": "code",
   "execution_count": 1,
   "id": "09b99767-f725-437e-8932-dec12512448e",
   "metadata": {},
   "outputs": [],
   "source": [
    "import pandas"
   ]
  },
  {
   "cell_type": "markdown",
   "id": "2f7c148c-5c42-45c5-a87c-64bbe487f496",
   "metadata": {},
   "source": [
    "We can download the data from [`this GitHub repository`](https://raw.githubusercontent.com/pandas-dev/pandas/master/doc/data/titanic.csv) by visiting the page and saving it to disk, or by directly reading into a [`DataFrame`](https://pandas.pydata.org/pandas-docs/stable/reference/api/pandas.DataFrame.html#pandas.DataFrame):"
   ]
  },
  {
   "cell_type": "code",
   "execution_count": 3,
   "id": "37d3e73d-d2ad-41ae-b48e-47bab858b62a",
   "metadata": {},
   "outputs": [],
   "source": [
    "url = \"https://raw.githubusercontent.com/pandas-dev/pandas/master/doc/data/titanic.csv\"\n",
    "titanic = pandas.read_csv(url, index_col = 'Name')"
   ]
  },
  {
   "cell_type": "markdown",
   "id": "b229528a-dc43-486f-8d7e-7130749ac9d1",
   "metadata": {},
   "source": [
    "We can now view the dataframe to get an idea of what it contains and print some summary statistics of its numerical data:"
   ]
  },
  {
   "cell_type": "code",
   "execution_count": 4,
   "id": "4c4ebda3-fb7e-48fb-8e15-8a67e78d2507",
   "metadata": {},
   "outputs": [
    {
     "data": {
      "text/html": [
       "<div>\n",
       "<style scoped>\n",
       "    .dataframe tbody tr th:only-of-type {\n",
       "        vertical-align: middle;\n",
       "    }\n",
       "\n",
       "    .dataframe tbody tr th {\n",
       "        vertical-align: top;\n",
       "    }\n",
       "\n",
       "    .dataframe thead th {\n",
       "        text-align: right;\n",
       "    }\n",
       "</style>\n",
       "<table border=\"1\" class=\"dataframe\">\n",
       "  <thead>\n",
       "    <tr style=\"text-align: right;\">\n",
       "      <th></th>\n",
       "      <th>PassengerId</th>\n",
       "      <th>Survived</th>\n",
       "      <th>Pclass</th>\n",
       "      <th>Sex</th>\n",
       "      <th>Age</th>\n",
       "      <th>SibSp</th>\n",
       "      <th>Parch</th>\n",
       "      <th>Ticket</th>\n",
       "      <th>Fare</th>\n",
       "      <th>Cabin</th>\n",
       "      <th>Embarked</th>\n",
       "    </tr>\n",
       "    <tr>\n",
       "      <th>Name</th>\n",
       "      <th></th>\n",
       "      <th></th>\n",
       "      <th></th>\n",
       "      <th></th>\n",
       "      <th></th>\n",
       "      <th></th>\n",
       "      <th></th>\n",
       "      <th></th>\n",
       "      <th></th>\n",
       "      <th></th>\n",
       "      <th></th>\n",
       "    </tr>\n",
       "  </thead>\n",
       "  <tbody>\n",
       "    <tr>\n",
       "      <th>Braund, Mr. Owen Harris</th>\n",
       "      <td>1</td>\n",
       "      <td>0</td>\n",
       "      <td>3</td>\n",
       "      <td>male</td>\n",
       "      <td>22.0</td>\n",
       "      <td>1</td>\n",
       "      <td>0</td>\n",
       "      <td>A/5 21171</td>\n",
       "      <td>7.2500</td>\n",
       "      <td>NaN</td>\n",
       "      <td>S</td>\n",
       "    </tr>\n",
       "    <tr>\n",
       "      <th>Cumings, Mrs. John Bradley (Florence Briggs Thayer)</th>\n",
       "      <td>2</td>\n",
       "      <td>1</td>\n",
       "      <td>1</td>\n",
       "      <td>female</td>\n",
       "      <td>38.0</td>\n",
       "      <td>1</td>\n",
       "      <td>0</td>\n",
       "      <td>PC 17599</td>\n",
       "      <td>71.2833</td>\n",
       "      <td>C85</td>\n",
       "      <td>C</td>\n",
       "    </tr>\n",
       "    <tr>\n",
       "      <th>Heikkinen, Miss. Laina</th>\n",
       "      <td>3</td>\n",
       "      <td>1</td>\n",
       "      <td>3</td>\n",
       "      <td>female</td>\n",
       "      <td>26.0</td>\n",
       "      <td>0</td>\n",
       "      <td>0</td>\n",
       "      <td>STON/O2. 3101282</td>\n",
       "      <td>7.9250</td>\n",
       "      <td>NaN</td>\n",
       "      <td>S</td>\n",
       "    </tr>\n",
       "    <tr>\n",
       "      <th>Futrelle, Mrs. Jacques Heath (Lily May Peel)</th>\n",
       "      <td>4</td>\n",
       "      <td>1</td>\n",
       "      <td>1</td>\n",
       "      <td>female</td>\n",
       "      <td>35.0</td>\n",
       "      <td>1</td>\n",
       "      <td>0</td>\n",
       "      <td>113803</td>\n",
       "      <td>53.1000</td>\n",
       "      <td>C123</td>\n",
       "      <td>S</td>\n",
       "    </tr>\n",
       "    <tr>\n",
       "      <th>Allen, Mr. William Henry</th>\n",
       "      <td>5</td>\n",
       "      <td>0</td>\n",
       "      <td>3</td>\n",
       "      <td>male</td>\n",
       "      <td>35.0</td>\n",
       "      <td>0</td>\n",
       "      <td>0</td>\n",
       "      <td>373450</td>\n",
       "      <td>8.0500</td>\n",
       "      <td>NaN</td>\n",
       "      <td>S</td>\n",
       "    </tr>\n",
       "  </tbody>\n",
       "</table>\n",
       "</div>"
      ],
      "text/plain": [
       "                                                    PassengerId  Survived  \\\n",
       "Name                                                                        \n",
       "Braund, Mr. Owen Harris                                       1         0   \n",
       "Cumings, Mrs. John Bradley (Florence Briggs Tha...            2         1   \n",
       "Heikkinen, Miss. Laina                                        3         1   \n",
       "Futrelle, Mrs. Jacques Heath (Lily May Peel)                  4         1   \n",
       "Allen, Mr. William Henry                                      5         0   \n",
       "\n",
       "                                                    Pclass     Sex   Age  \\\n",
       "Name                                                                       \n",
       "Braund, Mr. Owen Harris                                  3    male  22.0   \n",
       "Cumings, Mrs. John Bradley (Florence Briggs Tha...       1  female  38.0   \n",
       "Heikkinen, Miss. Laina                                   3  female  26.0   \n",
       "Futrelle, Mrs. Jacques Heath (Lily May Peel)             1  female  35.0   \n",
       "Allen, Mr. William Henry                                 3    male  35.0   \n",
       "\n",
       "                                                    SibSp  Parch  \\\n",
       "Name                                                               \n",
       "Braund, Mr. Owen Harris                                 1      0   \n",
       "Cumings, Mrs. John Bradley (Florence Briggs Tha...      1      0   \n",
       "Heikkinen, Miss. Laina                                  0      0   \n",
       "Futrelle, Mrs. Jacques Heath (Lily May Peel)            1      0   \n",
       "Allen, Mr. William Henry                                0      0   \n",
       "\n",
       "                                                              Ticket     Fare  \\\n",
       "Name                                                                            \n",
       "Braund, Mr. Owen Harris                                    A/5 21171   7.2500   \n",
       "Cumings, Mrs. John Bradley (Florence Briggs Tha...          PC 17599  71.2833   \n",
       "Heikkinen, Miss. Laina                              STON/O2. 3101282   7.9250   \n",
       "Futrelle, Mrs. Jacques Heath (Lily May Peel)                  113803  53.1000   \n",
       "Allen, Mr. William Henry                                      373450   8.0500   \n",
       "\n",
       "                                                   Cabin Embarked  \n",
       "Name                                                               \n",
       "Braund, Mr. Owen Harris                              NaN        S  \n",
       "Cumings, Mrs. John Bradley (Florence Briggs Tha...   C85        C  \n",
       "Heikkinen, Miss. Laina                               NaN        S  \n",
       "Futrelle, Mrs. Jacques Heath (Lily May Peel)        C123        S  \n",
       "Allen, Mr. William Henry                             NaN        S  "
      ]
     },
     "execution_count": 4,
     "metadata": {},
     "output_type": "execute_result"
    }
   ],
   "source": [
    "titanic.head() # print the first 5 lines of the dataframe"
   ]
  },
  {
   "cell_type": "code",
   "execution_count": 5,
   "id": "5a823112-69cd-4e05-b2dd-2b644dd56f30",
   "metadata": {},
   "outputs": [
    {
     "data": {
      "text/html": [
       "<div>\n",
       "<style scoped>\n",
       "    .dataframe tbody tr th:only-of-type {\n",
       "        vertical-align: middle;\n",
       "    }\n",
       "\n",
       "    .dataframe tbody tr th {\n",
       "        vertical-align: top;\n",
       "    }\n",
       "\n",
       "    .dataframe thead th {\n",
       "        text-align: right;\n",
       "    }\n",
       "</style>\n",
       "<table border=\"1\" class=\"dataframe\">\n",
       "  <thead>\n",
       "    <tr style=\"text-align: right;\">\n",
       "      <th></th>\n",
       "      <th>PassengerId</th>\n",
       "      <th>Survived</th>\n",
       "      <th>Pclass</th>\n",
       "      <th>Age</th>\n",
       "      <th>SibSp</th>\n",
       "      <th>Parch</th>\n",
       "      <th>Fare</th>\n",
       "    </tr>\n",
       "  </thead>\n",
       "  <tbody>\n",
       "    <tr>\n",
       "      <th>count</th>\n",
       "      <td>891.000000</td>\n",
       "      <td>891.000000</td>\n",
       "      <td>891.000000</td>\n",
       "      <td>714.000000</td>\n",
       "      <td>891.000000</td>\n",
       "      <td>891.000000</td>\n",
       "      <td>891.000000</td>\n",
       "    </tr>\n",
       "    <tr>\n",
       "      <th>mean</th>\n",
       "      <td>446.000000</td>\n",
       "      <td>0.383838</td>\n",
       "      <td>2.308642</td>\n",
       "      <td>29.699118</td>\n",
       "      <td>0.523008</td>\n",
       "      <td>0.381594</td>\n",
       "      <td>32.204208</td>\n",
       "    </tr>\n",
       "    <tr>\n",
       "      <th>std</th>\n",
       "      <td>257.353842</td>\n",
       "      <td>0.486592</td>\n",
       "      <td>0.836071</td>\n",
       "      <td>14.526497</td>\n",
       "      <td>1.102743</td>\n",
       "      <td>0.806057</td>\n",
       "      <td>49.693429</td>\n",
       "    </tr>\n",
       "    <tr>\n",
       "      <th>min</th>\n",
       "      <td>1.000000</td>\n",
       "      <td>0.000000</td>\n",
       "      <td>1.000000</td>\n",
       "      <td>0.420000</td>\n",
       "      <td>0.000000</td>\n",
       "      <td>0.000000</td>\n",
       "      <td>0.000000</td>\n",
       "    </tr>\n",
       "    <tr>\n",
       "      <th>25%</th>\n",
       "      <td>223.500000</td>\n",
       "      <td>0.000000</td>\n",
       "      <td>2.000000</td>\n",
       "      <td>20.125000</td>\n",
       "      <td>0.000000</td>\n",
       "      <td>0.000000</td>\n",
       "      <td>7.910400</td>\n",
       "    </tr>\n",
       "    <tr>\n",
       "      <th>50%</th>\n",
       "      <td>446.000000</td>\n",
       "      <td>0.000000</td>\n",
       "      <td>3.000000</td>\n",
       "      <td>28.000000</td>\n",
       "      <td>0.000000</td>\n",
       "      <td>0.000000</td>\n",
       "      <td>14.454200</td>\n",
       "    </tr>\n",
       "    <tr>\n",
       "      <th>75%</th>\n",
       "      <td>668.500000</td>\n",
       "      <td>1.000000</td>\n",
       "      <td>3.000000</td>\n",
       "      <td>38.000000</td>\n",
       "      <td>1.000000</td>\n",
       "      <td>0.000000</td>\n",
       "      <td>31.000000</td>\n",
       "    </tr>\n",
       "    <tr>\n",
       "      <th>max</th>\n",
       "      <td>891.000000</td>\n",
       "      <td>1.000000</td>\n",
       "      <td>3.000000</td>\n",
       "      <td>80.000000</td>\n",
       "      <td>8.000000</td>\n",
       "      <td>6.000000</td>\n",
       "      <td>512.329200</td>\n",
       "    </tr>\n",
       "  </tbody>\n",
       "</table>\n",
       "</div>"
      ],
      "text/plain": [
       "       PassengerId    Survived      Pclass         Age       SibSp  \\\n",
       "count   891.000000  891.000000  891.000000  714.000000  891.000000   \n",
       "mean    446.000000    0.383838    2.308642   29.699118    0.523008   \n",
       "std     257.353842    0.486592    0.836071   14.526497    1.102743   \n",
       "min       1.000000    0.000000    1.000000    0.420000    0.000000   \n",
       "25%     223.500000    0.000000    2.000000   20.125000    0.000000   \n",
       "50%     446.000000    0.000000    3.000000   28.000000    0.000000   \n",
       "75%     668.500000    1.000000    3.000000   38.000000    1.000000   \n",
       "max     891.000000    1.000000    3.000000   80.000000    8.000000   \n",
       "\n",
       "            Parch        Fare  \n",
       "count  891.000000  891.000000  \n",
       "mean     0.381594   32.204208  \n",
       "std      0.806057   49.693429  \n",
       "min      0.000000    0.000000  \n",
       "25%      0.000000    7.910400  \n",
       "50%      0.000000   14.454200  \n",
       "75%      0.000000   31.000000  \n",
       "max      6.000000  512.329200  "
      ]
     },
     "execution_count": 5,
     "metadata": {},
     "output_type": "execute_result"
    }
   ],
   "source": [
    "titanic.describe() # print summary statistics for each column"
   ]
  },
  {
   "cell_type": "markdown",
   "id": "4d3689ed-d557-4792-ad19-c9491c5ed899",
   "metadata": {},
   "source": [
    "Let’s say we’re interested in the survival probability of different age groups. With two one-liners, we can find the average age of those who survived or didn’t survive, and plot corresponding histograms of the age distribution ([`pandas.DataFrame.groupby()`](https://pandas.pydata.org/pandas-docs/stable/reference/api/pandas.DataFrame.groupby.html#pandas.DataFrame.groupby), [`pandas.DataFrame.hist()`](https://pandas.pydata.org/pandas-docs/stable/reference/api/pandas.DataFrame.hist.html#pandas.DataFrame.hist)):"
   ]
  },
  {
   "cell_type": "code",
   "execution_count": 6,
   "id": "301b25f5-27a0-4d78-939b-aa26a8cddd55",
   "metadata": {},
   "outputs": [
    {
     "name": "stdout",
     "output_type": "stream",
     "text": [
      "Survived\n",
      "0    30.626179\n",
      "1    28.343690\n",
      "Name: Age, dtype: float64\n"
     ]
    }
   ],
   "source": [
    "print(titanic.groupby(\"Survived\")[\"Age\"].mean())"
   ]
  },
  {
   "cell_type": "code",
   "execution_count": 10,
   "id": "a957b3d7-cc26-4c9d-b713-cda696bde5c0",
   "metadata": {},
   "outputs": [
    {
     "data": {
      "image/png": "[encoded data removed]",
      "text/plain": [
       "<Figure size 800x1000 with 2 Axes>"
      ]
     },
     "metadata": {},
     "output_type": "display_data"
    }
   ],
   "source": [
    "titanic.hist(column='Age', by='Survived', bins=25, figsize=(8, 10), layout=(2, 1), zorder=2, sharex=True, rwidth=0.9);"
   ]
  },
  {
   "cell_type": "markdown",
   "id": "9fcf9144-cb59-4c4d-9b6e-d7c903b2fa55",
   "metadata": {},
   "source": [
    "Each column of a dataframe is a [`pandas.Series`](https://pandas.pydata.org/pandas-docs/stable/reference/api/pandas.Series.html#pandas.Series) object - a dataframe is thus a collection of series:"
   ]
  },
  {
   "cell_type": "code",
   "execution_count": 13,
   "id": "fdc0d005-9fa2-486d-81b7-2d411a69aac5",
   "metadata": {},
   "outputs": [
    {
     "name": "stdout",
     "output_type": "stream",
     "text": [
      "<class 'pandas.core.frame.DataFrame'>\n",
      "Index: 891 entries, Braund, Mr. Owen Harris to Dooley, Mr. Patrick\n",
      "Data columns (total 11 columns):\n",
      " #   Column       Non-Null Count  Dtype  \n",
      "---  ------       --------------  -----  \n",
      " 0   PassengerId  891 non-null    int64  \n",
      " 1   Survived     891 non-null    int64  \n",
      " 2   Pclass       891 non-null    int64  \n",
      " 3   Sex          891 non-null    object \n",
      " 4   Age          714 non-null    float64\n",
      " 5   SibSp        891 non-null    int64  \n",
      " 6   Parch        891 non-null    int64  \n",
      " 7   Ticket       891 non-null    object \n",
      " 8   Fare         891 non-null    float64\n",
      " 9   Cabin        204 non-null    object \n",
      " 10  Embarked     889 non-null    object \n",
      "dtypes: float64(2), int64(5), object(4)\n",
      "memory usage: 83.5+ KB\n"
     ]
    }
   ],
   "source": [
    "titanic.info() # print some information about the columns"
   ]
  },
  {
   "cell_type": "markdown",
   "id": "74ffc382-683b-440b-967d-638fb629e41b",
   "metadata": {},
   "source": [
    "Let’s inspect one column of the Titanic passanger list data (first downloading and reading the titanic.csv datafile into a dataframe if needed, see above):"
   ]
  },
  {
   "cell_type": "code",
   "execution_count": 14,
   "id": "0acef253-e3b1-4a3c-a92f-3f46657d5bfb",
   "metadata": {},
   "outputs": [
    {
     "data": {
      "text/plain": [
       "Name\n",
       "Braund, Mr. Owen Harris                                22.0\n",
       "Cumings, Mrs. John Bradley (Florence Briggs Thayer)    38.0\n",
       "Heikkinen, Miss. Laina                                 26.0\n",
       "Futrelle, Mrs. Jacques Heath (Lily May Peel)           35.0\n",
       "Allen, Mr. William Henry                               35.0\n",
       "                                                       ... \n",
       "Montvila, Rev. Juozas                                  27.0\n",
       "Graham, Miss. Margaret Edith                           19.0\n",
       "Johnston, Miss. Catherine Helen \"Carrie\"                NaN\n",
       "Behr, Mr. Karl Howell                                  26.0\n",
       "Dooley, Mr. Patrick                                    32.0\n",
       "Name: Age, Length: 891, dtype: float64"
      ]
     },
     "execution_count": 14,
     "metadata": {},
     "output_type": "execute_result"
    }
   ],
   "source": [
    "titanic['Age']"
   ]
  },
  {
   "cell_type": "code",
   "execution_count": 15,
   "id": "494bbddb-e5b3-4c8a-8bb9-3b9654975a7a",
   "metadata": {},
   "outputs": [
    {
     "data": {
      "text/plain": [
       "Name\n",
       "Braund, Mr. Owen Harris                                22.0\n",
       "Cumings, Mrs. John Bradley (Florence Briggs Thayer)    38.0\n",
       "Heikkinen, Miss. Laina                                 26.0\n",
       "Futrelle, Mrs. Jacques Heath (Lily May Peel)           35.0\n",
       "Allen, Mr. William Henry                               35.0\n",
       "                                                       ... \n",
       "Montvila, Rev. Juozas                                  27.0\n",
       "Graham, Miss. Margaret Edith                           19.0\n",
       "Johnston, Miss. Catherine Helen \"Carrie\"                NaN\n",
       "Behr, Mr. Karl Howell                                  26.0\n",
       "Dooley, Mr. Patrick                                    32.0\n",
       "Name: Age, Length: 891, dtype: float64"
      ]
     },
     "execution_count": 15,
     "metadata": {},
     "output_type": "execute_result"
    }
   ],
   "source": [
    "titanic.Age # same as above"
   ]
  },
  {
   "cell_type": "code",
   "execution_count": 16,
   "id": "421477cb-3c2d-49cd-a2e4-4c86dd0c76dd",
   "metadata": {},
   "outputs": [
    {
     "data": {
      "text/plain": [
       "pandas.core.series.Series"
      ]
     },
     "execution_count": 16,
     "metadata": {},
     "output_type": "execute_result"
    }
   ],
   "source": [
    "type(titanic['Age'])"
   ]
  },
  {
   "cell_type": "markdown",
   "id": "f1802d3e-ded4-4a78-b68a-aad179fbcd3a",
   "metadata": {},
   "source": [
    "The columns have names. Here’s how to get them ([`columns`](https://pandas.pydata.org/pandas-docs/stable/reference/api/pandas.DataFrame.columns.html#pandas.DataFrame.columns)):"
   ]
  },
  {
   "cell_type": "code",
   "execution_count": 17,
   "id": "ddd95505-749b-44a8-ac32-504c201d74c1",
   "metadata": {},
   "outputs": [
    {
     "data": {
      "text/plain": [
       "Index(['PassengerId', 'Survived', 'Pclass', 'Sex', 'Age', 'SibSp', 'Parch',\n",
       "       'Ticket', 'Fare', 'Cabin', 'Embarked'],\n",
       "      dtype='object')"
      ]
     },
     "execution_count": 17,
     "metadata": {},
     "output_type": "execute_result"
    }
   ],
   "source": [
    "titanic.columns"
   ]
  },
  {
   "cell_type": "markdown",
   "id": "e6d3cab5-9ec8-45a2-81f6-f41da6abdae9",
   "metadata": {},
   "source": [
    "However, the rows also have names! This is what Pandas calls the [`index`](https://pandas.pydata.org/pandas-docs/stable/reference/api/pandas.DataFrame.index.html#pandas.DataFrame.index):"
   ]
  },
  {
   "cell_type": "code",
   "execution_count": 19,
   "id": "c967db34-0a98-48d8-ac03-d56085e8ed47",
   "metadata": {},
   "outputs": [
    {
     "data": {
      "text/plain": [
       "Index(['Braund, Mr. Owen Harris',\n",
       "       'Cumings, Mrs. John Bradley (Florence Briggs Thayer)',\n",
       "       'Heikkinen, Miss. Laina',\n",
       "       'Futrelle, Mrs. Jacques Heath (Lily May Peel)',\n",
       "       'Allen, Mr. William Henry', 'Moran, Mr. James',\n",
       "       'McCarthy, Mr. Timothy J', 'Palsson, Master. Gosta Leonard',\n",
       "       'Johnson, Mrs. Oscar W (Elisabeth Vilhelmina Berg)',\n",
       "       'Nasser, Mrs. Nicholas (Adele Achem)',\n",
       "       ...\n",
       "       'Markun, Mr. Johann', 'Dahlberg, Miss. Gerda Ulrika',\n",
       "       'Banfield, Mr. Frederick James', 'Sutehall, Mr. Henry Jr',\n",
       "       'Rice, Mrs. William (Margaret Norton)', 'Montvila, Rev. Juozas',\n",
       "       'Graham, Miss. Margaret Edith',\n",
       "       'Johnston, Miss. Catherine Helen \"Carrie\"', 'Behr, Mr. Karl Howell',\n",
       "       'Dooley, Mr. Patrick'],\n",
       "      dtype='object', name='Name', length=891)"
      ]
     },
     "execution_count": 19,
     "metadata": {},
     "output_type": "execute_result"
    }
   ],
   "source": [
    "titanic.index"
   ]
  },
  {
   "cell_type": "markdown",
   "id": "ebb62bb2-b7c1-4216-b902-f314bbfb772f",
   "metadata": {},
   "source": [
    "We saw above how to select a single column, but there are many ways of selecting (and setting) single or multiple rows, columns and values. We can refer to columns and rows either by number or by their name ([`loc`](https://pandas.pydata.org/pandas-docs/stable/reference/api/pandas.DataFrame.loc.html#pandas.DataFrame.loc), [`iloc`](https://pandas.pydata.org/pandas-docs/stable/reference/api/pandas.DataFrame.iloc.html#pandas.DataFrame.iloc), [`at`](https://pandas.pydata.org/pandas-docs/stable/reference/api/pandas.DataFrame.at.html#pandas.DataFrame.at), [`iat`](https://pandas.pydata.org/pandas-docs/stable/reference/api/pandas.DataFrame.iat.html#pandas.DataFrame.iat)):"
   ]
  },
  {
   "cell_type": "code",
   "execution_count": 23,
   "id": "78c9e39e-9c26-429c-8e3d-f249585a0978",
   "metadata": {},
   "outputs": [
    {
     "data": {
      "text/plain": [
       "nan"
      ]
     },
     "execution_count": 23,
     "metadata": {},
     "output_type": "execute_result"
    }
   ],
   "source": [
    "titanic.loc['Lam, Mr. Ali', 'Age'] # select single value by row and column"
   ]
  },
  {
   "cell_type": "code",
   "execution_count": 24,
   "id": "15c4dfa0-9e58-4b60-9b91-d37de00130a0",
   "metadata": {},
   "outputs": [
    {
     "data": {
      "text/html": [
       "<div>\n",
       "<style scoped>\n",
       "    .dataframe tbody tr th:only-of-type {\n",
       "        vertical-align: middle;\n",
       "    }\n",
       "\n",
       "    .dataframe tbody tr th {\n",
       "        vertical-align: top;\n",
       "    }\n",
       "\n",
       "    .dataframe thead th {\n",
       "        text-align: right;\n",
       "    }\n",
       "</style>\n",
       "<table border=\"1\" class=\"dataframe\">\n",
       "  <thead>\n",
       "    <tr style=\"text-align: right;\">\n",
       "      <th></th>\n",
       "      <th>Survived</th>\n",
       "      <th>Pclass</th>\n",
       "      <th>Sex</th>\n",
       "      <th>Age</th>\n",
       "    </tr>\n",
       "    <tr>\n",
       "      <th>Name</th>\n",
       "      <th></th>\n",
       "      <th></th>\n",
       "      <th></th>\n",
       "      <th></th>\n",
       "    </tr>\n",
       "  </thead>\n",
       "  <tbody>\n",
       "    <tr>\n",
       "      <th>Braund, Mr. Owen Harris</th>\n",
       "      <td>0</td>\n",
       "      <td>3</td>\n",
       "      <td>male</td>\n",
       "      <td>22.0</td>\n",
       "    </tr>\n",
       "    <tr>\n",
       "      <th>Cumings, Mrs. John Bradley (Florence Briggs Thayer)</th>\n",
       "      <td>1</td>\n",
       "      <td>1</td>\n",
       "      <td>female</td>\n",
       "      <td>38.0</td>\n",
       "    </tr>\n",
       "    <tr>\n",
       "      <th>Heikkinen, Miss. Laina</th>\n",
       "      <td>1</td>\n",
       "      <td>3</td>\n",
       "      <td>female</td>\n",
       "      <td>26.0</td>\n",
       "    </tr>\n",
       "    <tr>\n",
       "      <th>Futrelle, Mrs. Jacques Heath (Lily May Peel)</th>\n",
       "      <td>1</td>\n",
       "      <td>1</td>\n",
       "      <td>female</td>\n",
       "      <td>35.0</td>\n",
       "    </tr>\n",
       "    <tr>\n",
       "      <th>Allen, Mr. William Henry</th>\n",
       "      <td>0</td>\n",
       "      <td>3</td>\n",
       "      <td>male</td>\n",
       "      <td>35.0</td>\n",
       "    </tr>\n",
       "    <tr>\n",
       "      <th>...</th>\n",
       "      <td>...</td>\n",
       "      <td>...</td>\n",
       "      <td>...</td>\n",
       "      <td>...</td>\n",
       "    </tr>\n",
       "    <tr>\n",
       "      <th>Fischer, Mr. Eberhard Thelander</th>\n",
       "      <td>0</td>\n",
       "      <td>3</td>\n",
       "      <td>male</td>\n",
       "      <td>18.0</td>\n",
       "    </tr>\n",
       "    <tr>\n",
       "      <th>Madill, Miss. Georgette Alexandra</th>\n",
       "      <td>1</td>\n",
       "      <td>1</td>\n",
       "      <td>female</td>\n",
       "      <td>15.0</td>\n",
       "    </tr>\n",
       "    <tr>\n",
       "      <th>Dick, Mr. Albert Adrian</th>\n",
       "      <td>1</td>\n",
       "      <td>1</td>\n",
       "      <td>male</td>\n",
       "      <td>31.0</td>\n",
       "    </tr>\n",
       "    <tr>\n",
       "      <th>Karun, Miss. Manca</th>\n",
       "      <td>1</td>\n",
       "      <td>3</td>\n",
       "      <td>female</td>\n",
       "      <td>4.0</td>\n",
       "    </tr>\n",
       "    <tr>\n",
       "      <th>Lam, Mr. Ali</th>\n",
       "      <td>1</td>\n",
       "      <td>3</td>\n",
       "      <td>male</td>\n",
       "      <td>NaN</td>\n",
       "    </tr>\n",
       "  </tbody>\n",
       "</table>\n",
       "<p>693 rows × 4 columns</p>\n",
       "</div>"
      ],
      "text/plain": [
       "                                                    Survived  Pclass     Sex  \\\n",
       "Name                                                                           \n",
       "Braund, Mr. Owen Harris                                    0       3    male   \n",
       "Cumings, Mrs. John Bradley (Florence Briggs Tha...         1       1  female   \n",
       "Heikkinen, Miss. Laina                                     1       3  female   \n",
       "Futrelle, Mrs. Jacques Heath (Lily May Peel)               1       1  female   \n",
       "Allen, Mr. William Henry                                   0       3    male   \n",
       "...                                                      ...     ...     ...   \n",
       "Fischer, Mr. Eberhard Thelander                            0       3    male   \n",
       "Madill, Miss. Georgette Alexandra                          1       1  female   \n",
       "Dick, Mr. Albert Adrian                                    1       1    male   \n",
       "Karun, Miss. Manca                                         1       3  female   \n",
       "Lam, Mr. Ali                                               1       3    male   \n",
       "\n",
       "                                                     Age  \n",
       "Name                                                      \n",
       "Braund, Mr. Owen Harris                             22.0  \n",
       "Cumings, Mrs. John Bradley (Florence Briggs Tha...  38.0  \n",
       "Heikkinen, Miss. Laina                              26.0  \n",
       "Futrelle, Mrs. Jacques Heath (Lily May Peel)        35.0  \n",
       "Allen, Mr. William Henry                            35.0  \n",
       "...                                                  ...  \n",
       "Fischer, Mr. Eberhard Thelander                     18.0  \n",
       "Madill, Miss. Georgette Alexandra                   15.0  \n",
       "Dick, Mr. Albert Adrian                             31.0  \n",
       "Karun, Miss. Manca                                   4.0  \n",
       "Lam, Mr. Ali                                         NaN  \n",
       "\n",
       "[693 rows x 4 columns]"
      ]
     },
     "execution_count": 24,
     "metadata": {},
     "output_type": "execute_result"
    }
   ],
   "source": [
    "titanic.loc[:'Lam, Mr. Ali', 'Survived':'Age'] # slice the dataframe by row and column *names*"
   ]
  },
  {
   "cell_type": "code",
   "execution_count": 25,
   "id": "67a96a0d-cb84-4eef-ab4e-cae613d17011",
   "metadata": {},
   "outputs": [
    {
     "data": {
      "text/html": [
       "<div>\n",
       "<style scoped>\n",
       "    .dataframe tbody tr th:only-of-type {\n",
       "        vertical-align: middle;\n",
       "    }\n",
       "\n",
       "    .dataframe tbody tr th {\n",
       "        vertical-align: top;\n",
       "    }\n",
       "\n",
       "    .dataframe thead th {\n",
       "        text-align: right;\n",
       "    }\n",
       "</style>\n",
       "<table border=\"1\" class=\"dataframe\">\n",
       "  <thead>\n",
       "    <tr style=\"text-align: right;\">\n",
       "      <th></th>\n",
       "      <th>Sex</th>\n",
       "      <th>Age</th>\n",
       "      <th>SibSp</th>\n",
       "    </tr>\n",
       "    <tr>\n",
       "      <th>Name</th>\n",
       "      <th></th>\n",
       "      <th></th>\n",
       "      <th></th>\n",
       "    </tr>\n",
       "  </thead>\n",
       "  <tbody>\n",
       "    <tr>\n",
       "      <th>Braund, Mr. Owen Harris</th>\n",
       "      <td>male</td>\n",
       "      <td>22.0</td>\n",
       "      <td>1</td>\n",
       "    </tr>\n",
       "    <tr>\n",
       "      <th>Cumings, Mrs. John Bradley (Florence Briggs Thayer)</th>\n",
       "      <td>female</td>\n",
       "      <td>38.0</td>\n",
       "      <td>1</td>\n",
       "    </tr>\n",
       "  </tbody>\n",
       "</table>\n",
       "</div>"
      ],
      "text/plain": [
       "                                                       Sex   Age  SibSp\n",
       "Name                                                                   \n",
       "Braund, Mr. Owen Harris                               male  22.0      1\n",
       "Cumings, Mrs. John Bradley (Florence Briggs Tha...  female  38.0      1"
      ]
     },
     "execution_count": 25,
     "metadata": {},
     "output_type": "execute_result"
    }
   ],
   "source": [
    "titanic.iloc[0:2, 3:6] # same slice as above by row and column *numbers*"
   ]
  },
  {
   "cell_type": "code",
   "execution_count": 28,
   "id": "af5c0b02-9786-483e-9336-6761c9451582",
   "metadata": {},
   "outputs": [
    {
     "data": {
      "text/plain": [
       "42.0"
      ]
     },
     "execution_count": 28,
     "metadata": {},
     "output_type": "execute_result"
    }
   ],
   "source": [
    "titanic.at['Lam, Mr. Ali', 'Age'] = 42 # set single value by row and column *name* (fast)\n",
    "titanic.at['Lam, Mr. Ali', 'Age'] # select single value by row and column *name* (fast)"
   ]
  },
  {
   "cell_type": "code",
   "execution_count": 29,
   "id": "923789ef-3951-4677-adf9-7a0c61b28bfb",
   "metadata": {},
   "outputs": [
    {
     "data": {
      "text/plain": [
       "1"
      ]
     },
     "execution_count": 29,
     "metadata": {},
     "output_type": "execute_result"
    }
   ],
   "source": [
    "titanic.iat[0, 5] # select same value by row and column *number* (fast)"
   ]
  },
  {
   "cell_type": "code",
   "execution_count": 31,
   "id": "ee6dbdc5-fd81-4d01-8b91-62ad11164adc",
   "metadata": {},
   "outputs": [],
   "source": [
    "titanic['is_passenger'] = True # set a whole column"
   ]
  },
  {
   "cell_type": "markdown",
   "id": "fb1931a9-dc43-4819-96d1-d19ce55b0626",
   "metadata": {},
   "source": [
    "Dataframes also support boolean indexing, just like we saw for `numpy` arrays:"
   ]
  },
  {
   "cell_type": "code",
   "execution_count": 32,
   "id": "0eaa89bf-0893-4c64-bfb9-fc2ed1686be0",
   "metadata": {},
   "outputs": [
    {
     "data": {
      "text/html": [
       "<div>\n",
       "<style scoped>\n",
       "    .dataframe tbody tr th:only-of-type {\n",
       "        vertical-align: middle;\n",
       "    }\n",
       "\n",
       "    .dataframe tbody tr th {\n",
       "        vertical-align: top;\n",
       "    }\n",
       "\n",
       "    .dataframe thead th {\n",
       "        text-align: right;\n",
       "    }\n",
       "</style>\n",
       "<table border=\"1\" class=\"dataframe\">\n",
       "  <thead>\n",
       "    <tr style=\"text-align: right;\">\n",
       "      <th></th>\n",
       "      <th>PassengerId</th>\n",
       "      <th>Survived</th>\n",
       "      <th>Pclass</th>\n",
       "      <th>Sex</th>\n",
       "      <th>Age</th>\n",
       "      <th>SibSp</th>\n",
       "      <th>Parch</th>\n",
       "      <th>Ticket</th>\n",
       "      <th>Fare</th>\n",
       "      <th>Cabin</th>\n",
       "      <th>Embarked</th>\n",
       "      <th>is_passenger</th>\n",
       "    </tr>\n",
       "    <tr>\n",
       "      <th>Name</th>\n",
       "      <th></th>\n",
       "      <th></th>\n",
       "      <th></th>\n",
       "      <th></th>\n",
       "      <th></th>\n",
       "      <th></th>\n",
       "      <th></th>\n",
       "      <th></th>\n",
       "      <th></th>\n",
       "      <th></th>\n",
       "      <th></th>\n",
       "      <th></th>\n",
       "    </tr>\n",
       "  </thead>\n",
       "  <tbody>\n",
       "    <tr>\n",
       "      <th>Goldschmidt, Mr. George B</th>\n",
       "      <td>97</td>\n",
       "      <td>0</td>\n",
       "      <td>1</td>\n",
       "      <td>male</td>\n",
       "      <td>71.0</td>\n",
       "      <td>0</td>\n",
       "      <td>0</td>\n",
       "      <td>PC 17754</td>\n",
       "      <td>34.6542</td>\n",
       "      <td>A5</td>\n",
       "      <td>C</td>\n",
       "      <td>True</td>\n",
       "    </tr>\n",
       "    <tr>\n",
       "      <th>Connors, Mr. Patrick</th>\n",
       "      <td>117</td>\n",
       "      <td>0</td>\n",
       "      <td>3</td>\n",
       "      <td>male</td>\n",
       "      <td>70.5</td>\n",
       "      <td>0</td>\n",
       "      <td>0</td>\n",
       "      <td>370369</td>\n",
       "      <td>7.7500</td>\n",
       "      <td>NaN</td>\n",
       "      <td>Q</td>\n",
       "      <td>True</td>\n",
       "    </tr>\n",
       "    <tr>\n",
       "      <th>Artagaveytia, Mr. Ramon</th>\n",
       "      <td>494</td>\n",
       "      <td>0</td>\n",
       "      <td>1</td>\n",
       "      <td>male</td>\n",
       "      <td>71.0</td>\n",
       "      <td>0</td>\n",
       "      <td>0</td>\n",
       "      <td>PC 17609</td>\n",
       "      <td>49.5042</td>\n",
       "      <td>NaN</td>\n",
       "      <td>C</td>\n",
       "      <td>True</td>\n",
       "    </tr>\n",
       "    <tr>\n",
       "      <th>Barkworth, Mr. Algernon Henry Wilson</th>\n",
       "      <td>631</td>\n",
       "      <td>1</td>\n",
       "      <td>1</td>\n",
       "      <td>male</td>\n",
       "      <td>80.0</td>\n",
       "      <td>0</td>\n",
       "      <td>0</td>\n",
       "      <td>27042</td>\n",
       "      <td>30.0000</td>\n",
       "      <td>A23</td>\n",
       "      <td>S</td>\n",
       "      <td>True</td>\n",
       "    </tr>\n",
       "    <tr>\n",
       "      <th>Svensson, Mr. Johan</th>\n",
       "      <td>852</td>\n",
       "      <td>0</td>\n",
       "      <td>3</td>\n",
       "      <td>male</td>\n",
       "      <td>74.0</td>\n",
       "      <td>0</td>\n",
       "      <td>0</td>\n",
       "      <td>347060</td>\n",
       "      <td>7.7750</td>\n",
       "      <td>NaN</td>\n",
       "      <td>S</td>\n",
       "      <td>True</td>\n",
       "    </tr>\n",
       "  </tbody>\n",
       "</table>\n",
       "</div>"
      ],
      "text/plain": [
       "                                      PassengerId  Survived  Pclass   Sex  \\\n",
       "Name                                                                        \n",
       "Goldschmidt, Mr. George B                      97         0       1  male   \n",
       "Connors, Mr. Patrick                          117         0       3  male   \n",
       "Artagaveytia, Mr. Ramon                       494         0       1  male   \n",
       "Barkworth, Mr. Algernon Henry Wilson          631         1       1  male   \n",
       "Svensson, Mr. Johan                           852         0       3  male   \n",
       "\n",
       "                                       Age  SibSp  Parch    Ticket     Fare  \\\n",
       "Name                                                                          \n",
       "Goldschmidt, Mr. George B             71.0      0      0  PC 17754  34.6542   \n",
       "Connors, Mr. Patrick                  70.5      0      0    370369   7.7500   \n",
       "Artagaveytia, Mr. Ramon               71.0      0      0  PC 17609  49.5042   \n",
       "Barkworth, Mr. Algernon Henry Wilson  80.0      0      0     27042  30.0000   \n",
       "Svensson, Mr. Johan                   74.0      0      0    347060   7.7750   \n",
       "\n",
       "                                     Cabin Embarked  is_passenger  \n",
       "Name                                                               \n",
       "Goldschmidt, Mr. George B               A5        C          True  \n",
       "Connors, Mr. Patrick                   NaN        Q          True  \n",
       "Artagaveytia, Mr. Ramon                NaN        C          True  \n",
       "Barkworth, Mr. Algernon Henry Wilson   A23        S          True  \n",
       "Svensson, Mr. Johan                    NaN        S          True  "
      ]
     },
     "execution_count": 32,
     "metadata": {},
     "output_type": "execute_result"
    }
   ],
   "source": [
    "titanic[titanic['Age'] > 70]"
   ]
  },
  {
   "cell_type": "code",
   "execution_count": 34,
   "id": "7a379dc0-acef-4fae-b0d1-6385bff5a20c",
   "metadata": {},
   "outputs": [
    {
     "data": {
      "text/html": [
       "<div>\n",
       "<style scoped>\n",
       "    .dataframe tbody tr th:only-of-type {\n",
       "        vertical-align: middle;\n",
       "    }\n",
       "\n",
       "    .dataframe tbody tr th {\n",
       "        vertical-align: top;\n",
       "    }\n",
       "\n",
       "    .dataframe thead th {\n",
       "        text-align: right;\n",
       "    }\n",
       "</style>\n",
       "<table border=\"1\" class=\"dataframe\">\n",
       "  <thead>\n",
       "    <tr style=\"text-align: right;\">\n",
       "      <th></th>\n",
       "      <th>PassengerId</th>\n",
       "      <th>Survived</th>\n",
       "      <th>Pclass</th>\n",
       "      <th>Sex</th>\n",
       "      <th>Age</th>\n",
       "      <th>SibSp</th>\n",
       "      <th>Parch</th>\n",
       "      <th>Ticket</th>\n",
       "      <th>Fare</th>\n",
       "      <th>Cabin</th>\n",
       "      <th>Embarked</th>\n",
       "      <th>is_passenger</th>\n",
       "    </tr>\n",
       "    <tr>\n",
       "      <th>Name</th>\n",
       "      <th></th>\n",
       "      <th></th>\n",
       "      <th></th>\n",
       "      <th></th>\n",
       "      <th></th>\n",
       "      <th></th>\n",
       "      <th></th>\n",
       "      <th></th>\n",
       "      <th></th>\n",
       "      <th></th>\n",
       "      <th></th>\n",
       "      <th></th>\n",
       "    </tr>\n",
       "  </thead>\n",
       "  <tbody>\n",
       "    <tr>\n",
       "      <th>Devaney, Miss. Margaret Delia</th>\n",
       "      <td>45</td>\n",
       "      <td>1</td>\n",
       "      <td>3</td>\n",
       "      <td>female</td>\n",
       "      <td>19.0</td>\n",
       "      <td>0</td>\n",
       "      <td>0</td>\n",
       "      <td>330958</td>\n",
       "      <td>7.8792</td>\n",
       "      <td>NaN</td>\n",
       "      <td>Q</td>\n",
       "      <td>True</td>\n",
       "    </tr>\n",
       "    <tr>\n",
       "      <th>Brown, Mrs. James Joseph (Margaret Tobin)</th>\n",
       "      <td>195</td>\n",
       "      <td>1</td>\n",
       "      <td>1</td>\n",
       "      <td>female</td>\n",
       "      <td>44.0</td>\n",
       "      <td>0</td>\n",
       "      <td>0</td>\n",
       "      <td>PC 17610</td>\n",
       "      <td>27.7208</td>\n",
       "      <td>B4</td>\n",
       "      <td>C</td>\n",
       "      <td>True</td>\n",
       "    </tr>\n",
       "    <tr>\n",
       "      <th>Madigan, Miss. Margaret \"Maggie\"</th>\n",
       "      <td>199</td>\n",
       "      <td>1</td>\n",
       "      <td>3</td>\n",
       "      <td>female</td>\n",
       "      <td>NaN</td>\n",
       "      <td>0</td>\n",
       "      <td>0</td>\n",
       "      <td>370370</td>\n",
       "      <td>7.7500</td>\n",
       "      <td>NaN</td>\n",
       "      <td>Q</td>\n",
       "      <td>True</td>\n",
       "    </tr>\n",
       "    <tr>\n",
       "      <th>Fleming, Miss. Margaret</th>\n",
       "      <td>307</td>\n",
       "      <td>1</td>\n",
       "      <td>1</td>\n",
       "      <td>female</td>\n",
       "      <td>NaN</td>\n",
       "      <td>0</td>\n",
       "      <td>0</td>\n",
       "      <td>17421</td>\n",
       "      <td>110.8833</td>\n",
       "      <td>NaN</td>\n",
       "      <td>C</td>\n",
       "      <td>True</td>\n",
       "    </tr>\n",
       "    <tr>\n",
       "      <th>Hays, Miss. Margaret Bechstein</th>\n",
       "      <td>311</td>\n",
       "      <td>1</td>\n",
       "      <td>1</td>\n",
       "      <td>female</td>\n",
       "      <td>24.0</td>\n",
       "      <td>0</td>\n",
       "      <td>0</td>\n",
       "      <td>11767</td>\n",
       "      <td>83.1583</td>\n",
       "      <td>C54</td>\n",
       "      <td>C</td>\n",
       "      <td>True</td>\n",
       "    </tr>\n",
       "    <tr>\n",
       "      <th>Spedden, Mrs. Frederic Oakley (Margaretta Corning Stone)</th>\n",
       "      <td>320</td>\n",
       "      <td>1</td>\n",
       "      <td>1</td>\n",
       "      <td>female</td>\n",
       "      <td>40.0</td>\n",
       "      <td>1</td>\n",
       "      <td>1</td>\n",
       "      <td>16966</td>\n",
       "      <td>134.5000</td>\n",
       "      <td>E34</td>\n",
       "      <td>C</td>\n",
       "      <td>True</td>\n",
       "    </tr>\n",
       "    <tr>\n",
       "      <th>Burns, Miss. Elizabeth Margaret</th>\n",
       "      <td>338</td>\n",
       "      <td>1</td>\n",
       "      <td>1</td>\n",
       "      <td>female</td>\n",
       "      <td>41.0</td>\n",
       "      <td>0</td>\n",
       "      <td>0</td>\n",
       "      <td>16966</td>\n",
       "      <td>134.5000</td>\n",
       "      <td>E40</td>\n",
       "      <td>C</td>\n",
       "      <td>True</td>\n",
       "    </tr>\n",
       "    <tr>\n",
       "      <th>Ford, Miss. Doolina Margaret \"Daisy\"</th>\n",
       "      <td>437</td>\n",
       "      <td>0</td>\n",
       "      <td>3</td>\n",
       "      <td>female</td>\n",
       "      <td>21.0</td>\n",
       "      <td>2</td>\n",
       "      <td>2</td>\n",
       "      <td>W./C. 6608</td>\n",
       "      <td>34.3750</td>\n",
       "      <td>NaN</td>\n",
       "      <td>S</td>\n",
       "      <td>True</td>\n",
       "    </tr>\n",
       "    <tr>\n",
       "      <th>Murphy, Miss. Margaret Jane</th>\n",
       "      <td>613</td>\n",
       "      <td>1</td>\n",
       "      <td>3</td>\n",
       "      <td>female</td>\n",
       "      <td>NaN</td>\n",
       "      <td>1</td>\n",
       "      <td>0</td>\n",
       "      <td>367230</td>\n",
       "      <td>15.5000</td>\n",
       "      <td>NaN</td>\n",
       "      <td>Q</td>\n",
       "      <td>True</td>\n",
       "    </tr>\n",
       "    <tr>\n",
       "      <th>Mannion, Miss. Margareth</th>\n",
       "      <td>728</td>\n",
       "      <td>1</td>\n",
       "      <td>3</td>\n",
       "      <td>female</td>\n",
       "      <td>NaN</td>\n",
       "      <td>0</td>\n",
       "      <td>0</td>\n",
       "      <td>36866</td>\n",
       "      <td>7.7375</td>\n",
       "      <td>NaN</td>\n",
       "      <td>Q</td>\n",
       "      <td>True</td>\n",
       "    </tr>\n",
       "    <tr>\n",
       "      <th>Ford, Mrs. Edward (Margaret Ann Watson)</th>\n",
       "      <td>737</td>\n",
       "      <td>0</td>\n",
       "      <td>3</td>\n",
       "      <td>female</td>\n",
       "      <td>48.0</td>\n",
       "      <td>1</td>\n",
       "      <td>3</td>\n",
       "      <td>W./C. 6608</td>\n",
       "      <td>34.3750</td>\n",
       "      <td>NaN</td>\n",
       "      <td>S</td>\n",
       "      <td>True</td>\n",
       "    </tr>\n",
       "    <tr>\n",
       "      <th>Swift, Mrs. Frederick Joel (Margaret Welles Barron)</th>\n",
       "      <td>863</td>\n",
       "      <td>1</td>\n",
       "      <td>1</td>\n",
       "      <td>female</td>\n",
       "      <td>48.0</td>\n",
       "      <td>0</td>\n",
       "      <td>0</td>\n",
       "      <td>17466</td>\n",
       "      <td>25.9292</td>\n",
       "      <td>D17</td>\n",
       "      <td>S</td>\n",
       "      <td>True</td>\n",
       "    </tr>\n",
       "    <tr>\n",
       "      <th>Rice, Mrs. William (Margaret Norton)</th>\n",
       "      <td>886</td>\n",
       "      <td>0</td>\n",
       "      <td>3</td>\n",
       "      <td>female</td>\n",
       "      <td>39.0</td>\n",
       "      <td>0</td>\n",
       "      <td>5</td>\n",
       "      <td>382652</td>\n",
       "      <td>29.1250</td>\n",
       "      <td>NaN</td>\n",
       "      <td>Q</td>\n",
       "      <td>True</td>\n",
       "    </tr>\n",
       "    <tr>\n",
       "      <th>Graham, Miss. Margaret Edith</th>\n",
       "      <td>888</td>\n",
       "      <td>1</td>\n",
       "      <td>1</td>\n",
       "      <td>female</td>\n",
       "      <td>19.0</td>\n",
       "      <td>0</td>\n",
       "      <td>0</td>\n",
       "      <td>112053</td>\n",
       "      <td>30.0000</td>\n",
       "      <td>B42</td>\n",
       "      <td>S</td>\n",
       "      <td>True</td>\n",
       "    </tr>\n",
       "  </tbody>\n",
       "</table>\n",
       "</div>"
      ],
      "text/plain": [
       "                                                    PassengerId  Survived  \\\n",
       "Name                                                                        \n",
       "Devaney, Miss. Margaret Delia                                45         1   \n",
       "Brown, Mrs. James Joseph (Margaret Tobin)                   195         1   \n",
       "Madigan, Miss. Margaret \"Maggie\"                            199         1   \n",
       "Fleming, Miss. Margaret                                     307         1   \n",
       "Hays, Miss. Margaret Bechstein                              311         1   \n",
       "Spedden, Mrs. Frederic Oakley (Margaretta Corni...          320         1   \n",
       "Burns, Miss. Elizabeth Margaret                             338         1   \n",
       "Ford, Miss. Doolina Margaret \"Daisy\"                        437         0   \n",
       "Murphy, Miss. Margaret Jane                                 613         1   \n",
       "Mannion, Miss. Margareth                                    728         1   \n",
       "Ford, Mrs. Edward (Margaret Ann Watson)                     737         0   \n",
       "Swift, Mrs. Frederick Joel (Margaret Welles Bar...          863         1   \n",
       "Rice, Mrs. William (Margaret Norton)                        886         0   \n",
       "Graham, Miss. Margaret Edith                                888         1   \n",
       "\n",
       "                                                    Pclass     Sex   Age  \\\n",
       "Name                                                                       \n",
       "Devaney, Miss. Margaret Delia                            3  female  19.0   \n",
       "Brown, Mrs. James Joseph (Margaret Tobin)                1  female  44.0   \n",
       "Madigan, Miss. Margaret \"Maggie\"                         3  female   NaN   \n",
       "Fleming, Miss. Margaret                                  1  female   NaN   \n",
       "Hays, Miss. Margaret Bechstein                           1  female  24.0   \n",
       "Spedden, Mrs. Frederic Oakley (Margaretta Corni...       1  female  40.0   \n",
       "Burns, Miss. Elizabeth Margaret                          1  female  41.0   \n",
       "Ford, Miss. Doolina Margaret \"Daisy\"                     3  female  21.0   \n",
       "Murphy, Miss. Margaret Jane                              3  female   NaN   \n",
       "Mannion, Miss. Margareth                                 3  female   NaN   \n",
       "Ford, Mrs. Edward (Margaret Ann Watson)                  3  female  48.0   \n",
       "Swift, Mrs. Frederick Joel (Margaret Welles Bar...       1  female  48.0   \n",
       "Rice, Mrs. William (Margaret Norton)                     3  female  39.0   \n",
       "Graham, Miss. Margaret Edith                             1  female  19.0   \n",
       "\n",
       "                                                    SibSp  Parch      Ticket  \\\n",
       "Name                                                                           \n",
       "Devaney, Miss. Margaret Delia                           0      0      330958   \n",
       "Brown, Mrs. James Joseph (Margaret Tobin)               0      0    PC 17610   \n",
       "Madigan, Miss. Margaret \"Maggie\"                        0      0      370370   \n",
       "Fleming, Miss. Margaret                                 0      0       17421   \n",
       "Hays, Miss. Margaret Bechstein                          0      0       11767   \n",
       "Spedden, Mrs. Frederic Oakley (Margaretta Corni...      1      1       16966   \n",
       "Burns, Miss. Elizabeth Margaret                         0      0       16966   \n",
       "Ford, Miss. Doolina Margaret \"Daisy\"                    2      2  W./C. 6608   \n",
       "Murphy, Miss. Margaret Jane                             1      0      367230   \n",
       "Mannion, Miss. Margareth                                0      0       36866   \n",
       "Ford, Mrs. Edward (Margaret Ann Watson)                 1      3  W./C. 6608   \n",
       "Swift, Mrs. Frederick Joel (Margaret Welles Bar...      0      0       17466   \n",
       "Rice, Mrs. William (Margaret Norton)                    0      5      382652   \n",
       "Graham, Miss. Margaret Edith                            0      0      112053   \n",
       "\n",
       "                                                        Fare Cabin Embarked  \\\n",
       "Name                                                                          \n",
       "Devaney, Miss. Margaret Delia                         7.8792   NaN        Q   \n",
       "Brown, Mrs. James Joseph (Margaret Tobin)            27.7208    B4        C   \n",
       "Madigan, Miss. Margaret \"Maggie\"                      7.7500   NaN        Q   \n",
       "Fleming, Miss. Margaret                             110.8833   NaN        C   \n",
       "Hays, Miss. Margaret Bechstein                       83.1583   C54        C   \n",
       "Spedden, Mrs. Frederic Oakley (Margaretta Corni...  134.5000   E34        C   \n",
       "Burns, Miss. Elizabeth Margaret                     134.5000   E40        C   \n",
       "Ford, Miss. Doolina Margaret \"Daisy\"                 34.3750   NaN        S   \n",
       "Murphy, Miss. Margaret Jane                          15.5000   NaN        Q   \n",
       "Mannion, Miss. Margareth                              7.7375   NaN        Q   \n",
       "Ford, Mrs. Edward (Margaret Ann Watson)              34.3750   NaN        S   \n",
       "Swift, Mrs. Frederick Joel (Margaret Welles Bar...   25.9292   D17        S   \n",
       "Rice, Mrs. William (Margaret Norton)                 29.1250   NaN        Q   \n",
       "Graham, Miss. Margaret Edith                         30.0000   B42        S   \n",
       "\n",
       "                                                    is_passenger  \n",
       "Name                                                              \n",
       "Devaney, Miss. Margaret Delia                               True  \n",
       "Brown, Mrs. James Joseph (Margaret Tobin)                   True  \n",
       "Madigan, Miss. Margaret \"Maggie\"                            True  \n",
       "Fleming, Miss. Margaret                                     True  \n",
       "Hays, Miss. Margaret Bechstein                              True  \n",
       "Spedden, Mrs. Frederic Oakley (Margaretta Corni...          True  \n",
       "Burns, Miss. Elizabeth Margaret                             True  \n",
       "Ford, Miss. Doolina Margaret \"Daisy\"                        True  \n",
       "Murphy, Miss. Margaret Jane                                 True  \n",
       "Mannion, Miss. Margareth                                    True  \n",
       "Ford, Mrs. Edward (Margaret Ann Watson)                     True  \n",
       "Swift, Mrs. Frederick Joel (Margaret Welles Bar...          True  \n",
       "Rice, Mrs. William (Margaret Norton)                        True  \n",
       "Graham, Miss. Margaret Edith                                True  "
      ]
     },
     "execution_count": 34,
     "metadata": {},
     "output_type": "execute_result"
    }
   ],
   "source": [
    "titanic[titanic.index.str.contains('Margaret')] # \".str\" creates a string object from a column"
   ]
  },
  {
   "cell_type": "markdown",
   "id": "895c8c24-7cc8-4b0e-90b9-4232014e7a33",
   "metadata": {},
   "source": [
    "What if your dataset has missing data? Pandas uses the value [`numpy.nan`](https://numpy.org/doc/stable/reference/constants.html#numpy.nan) to represent missing data, and by default does not include it in any computations. We can find missing values, drop them from our dataframe, replace them with any value we like or do forward or backward filling:"
   ]
  },
  {
   "cell_type": "code",
   "execution_count": 35,
   "id": "f8b9f7e9-2f1d-4e64-9962-d0d8846a7ec5",
   "metadata": {},
   "outputs": [
    {
     "data": {
      "text/html": [
       "<div>\n",
       "<style scoped>\n",
       "    .dataframe tbody tr th:only-of-type {\n",
       "        vertical-align: middle;\n",
       "    }\n",
       "\n",
       "    .dataframe tbody tr th {\n",
       "        vertical-align: top;\n",
       "    }\n",
       "\n",
       "    .dataframe thead th {\n",
       "        text-align: right;\n",
       "    }\n",
       "</style>\n",
       "<table border=\"1\" class=\"dataframe\">\n",
       "  <thead>\n",
       "    <tr style=\"text-align: right;\">\n",
       "      <th></th>\n",
       "      <th>PassengerId</th>\n",
       "      <th>Survived</th>\n",
       "      <th>Pclass</th>\n",
       "      <th>Sex</th>\n",
       "      <th>Age</th>\n",
       "      <th>SibSp</th>\n",
       "      <th>Parch</th>\n",
       "      <th>Ticket</th>\n",
       "      <th>Fare</th>\n",
       "      <th>Cabin</th>\n",
       "      <th>Embarked</th>\n",
       "      <th>is_passenger</th>\n",
       "    </tr>\n",
       "    <tr>\n",
       "      <th>Name</th>\n",
       "      <th></th>\n",
       "      <th></th>\n",
       "      <th></th>\n",
       "      <th></th>\n",
       "      <th></th>\n",
       "      <th></th>\n",
       "      <th></th>\n",
       "      <th></th>\n",
       "      <th></th>\n",
       "      <th></th>\n",
       "      <th></th>\n",
       "      <th></th>\n",
       "    </tr>\n",
       "  </thead>\n",
       "  <tbody>\n",
       "    <tr>\n",
       "      <th>Braund, Mr. Owen Harris</th>\n",
       "      <td>False</td>\n",
       "      <td>False</td>\n",
       "      <td>False</td>\n",
       "      <td>False</td>\n",
       "      <td>False</td>\n",
       "      <td>False</td>\n",
       "      <td>False</td>\n",
       "      <td>False</td>\n",
       "      <td>False</td>\n",
       "      <td>True</td>\n",
       "      <td>False</td>\n",
       "      <td>False</td>\n",
       "    </tr>\n",
       "    <tr>\n",
       "      <th>Cumings, Mrs. John Bradley (Florence Briggs Thayer)</th>\n",
       "      <td>False</td>\n",
       "      <td>False</td>\n",
       "      <td>False</td>\n",
       "      <td>False</td>\n",
       "      <td>False</td>\n",
       "      <td>False</td>\n",
       "      <td>False</td>\n",
       "      <td>False</td>\n",
       "      <td>False</td>\n",
       "      <td>False</td>\n",
       "      <td>False</td>\n",
       "      <td>False</td>\n",
       "    </tr>\n",
       "    <tr>\n",
       "      <th>Heikkinen, Miss. Laina</th>\n",
       "      <td>False</td>\n",
       "      <td>False</td>\n",
       "      <td>False</td>\n",
       "      <td>False</td>\n",
       "      <td>False</td>\n",
       "      <td>False</td>\n",
       "      <td>False</td>\n",
       "      <td>False</td>\n",
       "      <td>False</td>\n",
       "      <td>True</td>\n",
       "      <td>False</td>\n",
       "      <td>False</td>\n",
       "    </tr>\n",
       "    <tr>\n",
       "      <th>Futrelle, Mrs. Jacques Heath (Lily May Peel)</th>\n",
       "      <td>False</td>\n",
       "      <td>False</td>\n",
       "      <td>False</td>\n",
       "      <td>False</td>\n",
       "      <td>False</td>\n",
       "      <td>False</td>\n",
       "      <td>False</td>\n",
       "      <td>False</td>\n",
       "      <td>False</td>\n",
       "      <td>False</td>\n",
       "      <td>False</td>\n",
       "      <td>False</td>\n",
       "    </tr>\n",
       "    <tr>\n",
       "      <th>Allen, Mr. William Henry</th>\n",
       "      <td>False</td>\n",
       "      <td>False</td>\n",
       "      <td>False</td>\n",
       "      <td>False</td>\n",
       "      <td>False</td>\n",
       "      <td>False</td>\n",
       "      <td>False</td>\n",
       "      <td>False</td>\n",
       "      <td>False</td>\n",
       "      <td>True</td>\n",
       "      <td>False</td>\n",
       "      <td>False</td>\n",
       "    </tr>\n",
       "    <tr>\n",
       "      <th>...</th>\n",
       "      <td>...</td>\n",
       "      <td>...</td>\n",
       "      <td>...</td>\n",
       "      <td>...</td>\n",
       "      <td>...</td>\n",
       "      <td>...</td>\n",
       "      <td>...</td>\n",
       "      <td>...</td>\n",
       "      <td>...</td>\n",
       "      <td>...</td>\n",
       "      <td>...</td>\n",
       "      <td>...</td>\n",
       "    </tr>\n",
       "    <tr>\n",
       "      <th>Montvila, Rev. Juozas</th>\n",
       "      <td>False</td>\n",
       "      <td>False</td>\n",
       "      <td>False</td>\n",
       "      <td>False</td>\n",
       "      <td>False</td>\n",
       "      <td>False</td>\n",
       "      <td>False</td>\n",
       "      <td>False</td>\n",
       "      <td>False</td>\n",
       "      <td>True</td>\n",
       "      <td>False</td>\n",
       "      <td>False</td>\n",
       "    </tr>\n",
       "    <tr>\n",
       "      <th>Graham, Miss. Margaret Edith</th>\n",
       "      <td>False</td>\n",
       "      <td>False</td>\n",
       "      <td>False</td>\n",
       "      <td>False</td>\n",
       "      <td>False</td>\n",
       "      <td>False</td>\n",
       "      <td>False</td>\n",
       "      <td>False</td>\n",
       "      <td>False</td>\n",
       "      <td>False</td>\n",
       "      <td>False</td>\n",
       "      <td>False</td>\n",
       "    </tr>\n",
       "    <tr>\n",
       "      <th>Johnston, Miss. Catherine Helen \"Carrie\"</th>\n",
       "      <td>False</td>\n",
       "      <td>False</td>\n",
       "      <td>False</td>\n",
       "      <td>False</td>\n",
       "      <td>True</td>\n",
       "      <td>False</td>\n",
       "      <td>False</td>\n",
       "      <td>False</td>\n",
       "      <td>False</td>\n",
       "      <td>True</td>\n",
       "      <td>False</td>\n",
       "      <td>False</td>\n",
       "    </tr>\n",
       "    <tr>\n",
       "      <th>Behr, Mr. Karl Howell</th>\n",
       "      <td>False</td>\n",
       "      <td>False</td>\n",
       "      <td>False</td>\n",
       "      <td>False</td>\n",
       "      <td>False</td>\n",
       "      <td>False</td>\n",
       "      <td>False</td>\n",
       "      <td>False</td>\n",
       "      <td>False</td>\n",
       "      <td>False</td>\n",
       "      <td>False</td>\n",
       "      <td>False</td>\n",
       "    </tr>\n",
       "    <tr>\n",
       "      <th>Dooley, Mr. Patrick</th>\n",
       "      <td>False</td>\n",
       "      <td>False</td>\n",
       "      <td>False</td>\n",
       "      <td>False</td>\n",
       "      <td>False</td>\n",
       "      <td>False</td>\n",
       "      <td>False</td>\n",
       "      <td>False</td>\n",
       "      <td>False</td>\n",
       "      <td>True</td>\n",
       "      <td>False</td>\n",
       "      <td>False</td>\n",
       "    </tr>\n",
       "  </tbody>\n",
       "</table>\n",
       "<p>891 rows × 12 columns</p>\n",
       "</div>"
      ],
      "text/plain": [
       "                                                    PassengerId  Survived  \\\n",
       "Name                                                                        \n",
       "Braund, Mr. Owen Harris                                   False     False   \n",
       "Cumings, Mrs. John Bradley (Florence Briggs Tha...        False     False   \n",
       "Heikkinen, Miss. Laina                                    False     False   \n",
       "Futrelle, Mrs. Jacques Heath (Lily May Peel)              False     False   \n",
       "Allen, Mr. William Henry                                  False     False   \n",
       "...                                                         ...       ...   \n",
       "Montvila, Rev. Juozas                                     False     False   \n",
       "Graham, Miss. Margaret Edith                              False     False   \n",
       "Johnston, Miss. Catherine Helen \"Carrie\"                  False     False   \n",
       "Behr, Mr. Karl Howell                                     False     False   \n",
       "Dooley, Mr. Patrick                                       False     False   \n",
       "\n",
       "                                                    Pclass    Sex    Age  \\\n",
       "Name                                                                       \n",
       "Braund, Mr. Owen Harris                              False  False  False   \n",
       "Cumings, Mrs. John Bradley (Florence Briggs Tha...   False  False  False   \n",
       "Heikkinen, Miss. Laina                               False  False  False   \n",
       "Futrelle, Mrs. Jacques Heath (Lily May Peel)         False  False  False   \n",
       "Allen, Mr. William Henry                             False  False  False   \n",
       "...                                                    ...    ...    ...   \n",
       "Montvila, Rev. Juozas                                False  False  False   \n",
       "Graham, Miss. Margaret Edith                         False  False  False   \n",
       "Johnston, Miss. Catherine Helen \"Carrie\"             False  False   True   \n",
       "Behr, Mr. Karl Howell                                False  False  False   \n",
       "Dooley, Mr. Patrick                                  False  False  False   \n",
       "\n",
       "                                                    SibSp  Parch  Ticket  \\\n",
       "Name                                                                       \n",
       "Braund, Mr. Owen Harris                             False  False   False   \n",
       "Cumings, Mrs. John Bradley (Florence Briggs Tha...  False  False   False   \n",
       "Heikkinen, Miss. Laina                              False  False   False   \n",
       "Futrelle, Mrs. Jacques Heath (Lily May Peel)        False  False   False   \n",
       "Allen, Mr. William Henry                            False  False   False   \n",
       "...                                                   ...    ...     ...   \n",
       "Montvila, Rev. Juozas                               False  False   False   \n",
       "Graham, Miss. Margaret Edith                        False  False   False   \n",
       "Johnston, Miss. Catherine Helen \"Carrie\"            False  False   False   \n",
       "Behr, Mr. Karl Howell                               False  False   False   \n",
       "Dooley, Mr. Patrick                                 False  False   False   \n",
       "\n",
       "                                                     Fare  Cabin  Embarked  \\\n",
       "Name                                                                         \n",
       "Braund, Mr. Owen Harris                             False   True     False   \n",
       "Cumings, Mrs. John Bradley (Florence Briggs Tha...  False  False     False   \n",
       "Heikkinen, Miss. Laina                              False   True     False   \n",
       "Futrelle, Mrs. Jacques Heath (Lily May Peel)        False  False     False   \n",
       "Allen, Mr. William Henry                            False   True     False   \n",
       "...                                                   ...    ...       ...   \n",
       "Montvila, Rev. Juozas                               False   True     False   \n",
       "Graham, Miss. Margaret Edith                        False  False     False   \n",
       "Johnston, Miss. Catherine Helen \"Carrie\"            False   True     False   \n",
       "Behr, Mr. Karl Howell                               False  False     False   \n",
       "Dooley, Mr. Patrick                                 False   True     False   \n",
       "\n",
       "                                                    is_passenger  \n",
       "Name                                                              \n",
       "Braund, Mr. Owen Harris                                    False  \n",
       "Cumings, Mrs. John Bradley (Florence Briggs Tha...         False  \n",
       "Heikkinen, Miss. Laina                                     False  \n",
       "Futrelle, Mrs. Jacques Heath (Lily May Peel)               False  \n",
       "Allen, Mr. William Henry                                   False  \n",
       "...                                                          ...  \n",
       "Montvila, Rev. Juozas                                      False  \n",
       "Graham, Miss. Margaret Edith                               False  \n",
       "Johnston, Miss. Catherine Helen \"Carrie\"                   False  \n",
       "Behr, Mr. Karl Howell                                      False  \n",
       "Dooley, Mr. Patrick                                        False  \n",
       "\n",
       "[891 rows x 12 columns]"
      ]
     },
     "execution_count": 35,
     "metadata": {},
     "output_type": "execute_result"
    }
   ],
   "source": [
    "titanic.isna() # returns boolean mask of NaN values"
   ]
  },
  {
   "cell_type": "code",
   "execution_count": 36,
   "id": "50e80f9c-f0d3-4ea0-9f34-8327ca558f12",
   "metadata": {},
   "outputs": [
    {
     "data": {
      "text/html": [
       "<div>\n",
       "<style scoped>\n",
       "    .dataframe tbody tr th:only-of-type {\n",
       "        vertical-align: middle;\n",
       "    }\n",
       "\n",
       "    .dataframe tbody tr th {\n",
       "        vertical-align: top;\n",
       "    }\n",
       "\n",
       "    .dataframe thead th {\n",
       "        text-align: right;\n",
       "    }\n",
       "</style>\n",
       "<table border=\"1\" class=\"dataframe\">\n",
       "  <thead>\n",
       "    <tr style=\"text-align: right;\">\n",
       "      <th></th>\n",
       "      <th>PassengerId</th>\n",
       "      <th>Survived</th>\n",
       "      <th>Pclass</th>\n",
       "      <th>Sex</th>\n",
       "      <th>Age</th>\n",
       "      <th>SibSp</th>\n",
       "      <th>Parch</th>\n",
       "      <th>Ticket</th>\n",
       "      <th>Fare</th>\n",
       "      <th>Cabin</th>\n",
       "      <th>Embarked</th>\n",
       "      <th>is_passenger</th>\n",
       "    </tr>\n",
       "    <tr>\n",
       "      <th>Name</th>\n",
       "      <th></th>\n",
       "      <th></th>\n",
       "      <th></th>\n",
       "      <th></th>\n",
       "      <th></th>\n",
       "      <th></th>\n",
       "      <th></th>\n",
       "      <th></th>\n",
       "      <th></th>\n",
       "      <th></th>\n",
       "      <th></th>\n",
       "      <th></th>\n",
       "    </tr>\n",
       "  </thead>\n",
       "  <tbody>\n",
       "    <tr>\n",
       "      <th>Cumings, Mrs. John Bradley (Florence Briggs Thayer)</th>\n",
       "      <td>2</td>\n",
       "      <td>1</td>\n",
       "      <td>1</td>\n",
       "      <td>female</td>\n",
       "      <td>38.0</td>\n",
       "      <td>1</td>\n",
       "      <td>0</td>\n",
       "      <td>PC 17599</td>\n",
       "      <td>71.2833</td>\n",
       "      <td>C85</td>\n",
       "      <td>C</td>\n",
       "      <td>True</td>\n",
       "    </tr>\n",
       "    <tr>\n",
       "      <th>Futrelle, Mrs. Jacques Heath (Lily May Peel)</th>\n",
       "      <td>4</td>\n",
       "      <td>1</td>\n",
       "      <td>1</td>\n",
       "      <td>female</td>\n",
       "      <td>35.0</td>\n",
       "      <td>1</td>\n",
       "      <td>0</td>\n",
       "      <td>113803</td>\n",
       "      <td>53.1000</td>\n",
       "      <td>C123</td>\n",
       "      <td>S</td>\n",
       "      <td>True</td>\n",
       "    </tr>\n",
       "    <tr>\n",
       "      <th>McCarthy, Mr. Timothy J</th>\n",
       "      <td>7</td>\n",
       "      <td>0</td>\n",
       "      <td>1</td>\n",
       "      <td>male</td>\n",
       "      <td>54.0</td>\n",
       "      <td>0</td>\n",
       "      <td>0</td>\n",
       "      <td>17463</td>\n",
       "      <td>51.8625</td>\n",
       "      <td>E46</td>\n",
       "      <td>S</td>\n",
       "      <td>True</td>\n",
       "    </tr>\n",
       "    <tr>\n",
       "      <th>Sandstrom, Miss. Marguerite Rut</th>\n",
       "      <td>11</td>\n",
       "      <td>1</td>\n",
       "      <td>3</td>\n",
       "      <td>female</td>\n",
       "      <td>4.0</td>\n",
       "      <td>1</td>\n",
       "      <td>1</td>\n",
       "      <td>PP 9549</td>\n",
       "      <td>16.7000</td>\n",
       "      <td>G6</td>\n",
       "      <td>S</td>\n",
       "      <td>True</td>\n",
       "    </tr>\n",
       "    <tr>\n",
       "      <th>Bonnell, Miss. Elizabeth</th>\n",
       "      <td>12</td>\n",
       "      <td>1</td>\n",
       "      <td>1</td>\n",
       "      <td>female</td>\n",
       "      <td>58.0</td>\n",
       "      <td>0</td>\n",
       "      <td>0</td>\n",
       "      <td>113783</td>\n",
       "      <td>26.5500</td>\n",
       "      <td>C103</td>\n",
       "      <td>S</td>\n",
       "      <td>True</td>\n",
       "    </tr>\n",
       "    <tr>\n",
       "      <th>...</th>\n",
       "      <td>...</td>\n",
       "      <td>...</td>\n",
       "      <td>...</td>\n",
       "      <td>...</td>\n",
       "      <td>...</td>\n",
       "      <td>...</td>\n",
       "      <td>...</td>\n",
       "      <td>...</td>\n",
       "      <td>...</td>\n",
       "      <td>...</td>\n",
       "      <td>...</td>\n",
       "      <td>...</td>\n",
       "    </tr>\n",
       "    <tr>\n",
       "      <th>Beckwith, Mrs. Richard Leonard (Sallie Monypeny)</th>\n",
       "      <td>872</td>\n",
       "      <td>1</td>\n",
       "      <td>1</td>\n",
       "      <td>female</td>\n",
       "      <td>47.0</td>\n",
       "      <td>1</td>\n",
       "      <td>1</td>\n",
       "      <td>11751</td>\n",
       "      <td>52.5542</td>\n",
       "      <td>D35</td>\n",
       "      <td>S</td>\n",
       "      <td>True</td>\n",
       "    </tr>\n",
       "    <tr>\n",
       "      <th>Carlsson, Mr. Frans Olof</th>\n",
       "      <td>873</td>\n",
       "      <td>0</td>\n",
       "      <td>1</td>\n",
       "      <td>male</td>\n",
       "      <td>33.0</td>\n",
       "      <td>0</td>\n",
       "      <td>0</td>\n",
       "      <td>695</td>\n",
       "      <td>5.0000</td>\n",
       "      <td>B51 B53 B55</td>\n",
       "      <td>S</td>\n",
       "      <td>True</td>\n",
       "    </tr>\n",
       "    <tr>\n",
       "      <th>Potter, Mrs. Thomas Jr (Lily Alexenia Wilson)</th>\n",
       "      <td>880</td>\n",
       "      <td>1</td>\n",
       "      <td>1</td>\n",
       "      <td>female</td>\n",
       "      <td>56.0</td>\n",
       "      <td>0</td>\n",
       "      <td>1</td>\n",
       "      <td>11767</td>\n",
       "      <td>83.1583</td>\n",
       "      <td>C50</td>\n",
       "      <td>C</td>\n",
       "      <td>True</td>\n",
       "    </tr>\n",
       "    <tr>\n",
       "      <th>Graham, Miss. Margaret Edith</th>\n",
       "      <td>888</td>\n",
       "      <td>1</td>\n",
       "      <td>1</td>\n",
       "      <td>female</td>\n",
       "      <td>19.0</td>\n",
       "      <td>0</td>\n",
       "      <td>0</td>\n",
       "      <td>112053</td>\n",
       "      <td>30.0000</td>\n",
       "      <td>B42</td>\n",
       "      <td>S</td>\n",
       "      <td>True</td>\n",
       "    </tr>\n",
       "    <tr>\n",
       "      <th>Behr, Mr. Karl Howell</th>\n",
       "      <td>890</td>\n",
       "      <td>1</td>\n",
       "      <td>1</td>\n",
       "      <td>male</td>\n",
       "      <td>26.0</td>\n",
       "      <td>0</td>\n",
       "      <td>0</td>\n",
       "      <td>111369</td>\n",
       "      <td>30.0000</td>\n",
       "      <td>C148</td>\n",
       "      <td>C</td>\n",
       "      <td>True</td>\n",
       "    </tr>\n",
       "  </tbody>\n",
       "</table>\n",
       "<p>183 rows × 12 columns</p>\n",
       "</div>"
      ],
      "text/plain": [
       "                                                    PassengerId  Survived  \\\n",
       "Name                                                                        \n",
       "Cumings, Mrs. John Bradley (Florence Briggs Tha...            2         1   \n",
       "Futrelle, Mrs. Jacques Heath (Lily May Peel)                  4         1   \n",
       "McCarthy, Mr. Timothy J                                       7         0   \n",
       "Sandstrom, Miss. Marguerite Rut                              11         1   \n",
       "Bonnell, Miss. Elizabeth                                     12         1   \n",
       "...                                                         ...       ...   \n",
       "Beckwith, Mrs. Richard Leonard (Sallie Monypeny)            872         1   \n",
       "Carlsson, Mr. Frans Olof                                    873         0   \n",
       "Potter, Mrs. Thomas Jr (Lily Alexenia Wilson)               880         1   \n",
       "Graham, Miss. Margaret Edith                                888         1   \n",
       "Behr, Mr. Karl Howell                                       890         1   \n",
       "\n",
       "                                                    Pclass     Sex   Age  \\\n",
       "Name                                                                       \n",
       "Cumings, Mrs. John Bradley (Florence Briggs Tha...       1  female  38.0   \n",
       "Futrelle, Mrs. Jacques Heath (Lily May Peel)             1  female  35.0   \n",
       "McCarthy, Mr. Timothy J                                  1    male  54.0   \n",
       "Sandstrom, Miss. Marguerite Rut                          3  female   4.0   \n",
       "Bonnell, Miss. Elizabeth                                 1  female  58.0   \n",
       "...                                                    ...     ...   ...   \n",
       "Beckwith, Mrs. Richard Leonard (Sallie Monypeny)         1  female  47.0   \n",
       "Carlsson, Mr. Frans Olof                                 1    male  33.0   \n",
       "Potter, Mrs. Thomas Jr (Lily Alexenia Wilson)            1  female  56.0   \n",
       "Graham, Miss. Margaret Edith                             1  female  19.0   \n",
       "Behr, Mr. Karl Howell                                    1    male  26.0   \n",
       "\n",
       "                                                    SibSp  Parch    Ticket  \\\n",
       "Name                                                                         \n",
       "Cumings, Mrs. John Bradley (Florence Briggs Tha...      1      0  PC 17599   \n",
       "Futrelle, Mrs. Jacques Heath (Lily May Peel)            1      0    113803   \n",
       "McCarthy, Mr. Timothy J                                 0      0     17463   \n",
       "Sandstrom, Miss. Marguerite Rut                         1      1   PP 9549   \n",
       "Bonnell, Miss. Elizabeth                                0      0    113783   \n",
       "...                                                   ...    ...       ...   \n",
       "Beckwith, Mrs. Richard Leonard (Sallie Monypeny)        1      1     11751   \n",
       "Carlsson, Mr. Frans Olof                                0      0       695   \n",
       "Potter, Mrs. Thomas Jr (Lily Alexenia Wilson)           0      1     11767   \n",
       "Graham, Miss. Margaret Edith                            0      0    112053   \n",
       "Behr, Mr. Karl Howell                                   0      0    111369   \n",
       "\n",
       "                                                       Fare        Cabin  \\\n",
       "Name                                                                       \n",
       "Cumings, Mrs. John Bradley (Florence Briggs Tha...  71.2833          C85   \n",
       "Futrelle, Mrs. Jacques Heath (Lily May Peel)        53.1000         C123   \n",
       "McCarthy, Mr. Timothy J                             51.8625          E46   \n",
       "Sandstrom, Miss. Marguerite Rut                     16.7000           G6   \n",
       "Bonnell, Miss. Elizabeth                            26.5500         C103   \n",
       "...                                                     ...          ...   \n",
       "Beckwith, Mrs. Richard Leonard (Sallie Monypeny)    52.5542          D35   \n",
       "Carlsson, Mr. Frans Olof                             5.0000  B51 B53 B55   \n",
       "Potter, Mrs. Thomas Jr (Lily Alexenia Wilson)       83.1583          C50   \n",
       "Graham, Miss. Margaret Edith                        30.0000          B42   \n",
       "Behr, Mr. Karl Howell                               30.0000         C148   \n",
       "\n",
       "                                                   Embarked  is_passenger  \n",
       "Name                                                                       \n",
       "Cumings, Mrs. John Bradley (Florence Briggs Tha...        C          True  \n",
       "Futrelle, Mrs. Jacques Heath (Lily May Peel)              S          True  \n",
       "McCarthy, Mr. Timothy J                                   S          True  \n",
       "Sandstrom, Miss. Marguerite Rut                           S          True  \n",
       "Bonnell, Miss. Elizabeth                                  S          True  \n",
       "...                                                     ...           ...  \n",
       "Beckwith, Mrs. Richard Leonard (Sallie Monypeny)          S          True  \n",
       "Carlsson, Mr. Frans Olof                                  S          True  \n",
       "Potter, Mrs. Thomas Jr (Lily Alexenia Wilson)             C          True  \n",
       "Graham, Miss. Margaret Edith                              S          True  \n",
       "Behr, Mr. Karl Howell                                     C          True  \n",
       "\n",
       "[183 rows x 12 columns]"
      ]
     },
     "execution_count": 36,
     "metadata": {},
     "output_type": "execute_result"
    }
   ],
   "source": [
    "titanic.dropna() # drop missing values"
   ]
  },
  {
   "cell_type": "code",
   "execution_count": 37,
   "id": "4daf29db-a87d-4a95-9f9b-7ccffdf2adcd",
   "metadata": {},
   "outputs": [
    {
     "data": {
      "text/html": [
       "<div>\n",
       "<style scoped>\n",
       "    .dataframe tbody tr th:only-of-type {\n",
       "        vertical-align: middle;\n",
       "    }\n",
       "\n",
       "    .dataframe tbody tr th {\n",
       "        vertical-align: top;\n",
       "    }\n",
       "\n",
       "    .dataframe thead th {\n",
       "        text-align: right;\n",
       "    }\n",
       "</style>\n",
       "<table border=\"1\" class=\"dataframe\">\n",
       "  <thead>\n",
       "    <tr style=\"text-align: right;\">\n",
       "      <th></th>\n",
       "      <th>PassengerId</th>\n",
       "      <th>Survived</th>\n",
       "      <th>Pclass</th>\n",
       "      <th>Sex</th>\n",
       "      <th>Age</th>\n",
       "      <th>SibSp</th>\n",
       "      <th>Parch</th>\n",
       "      <th>Ticket</th>\n",
       "      <th>Fare</th>\n",
       "      <th>Cabin</th>\n",
       "      <th>Embarked</th>\n",
       "      <th>is_passenger</th>\n",
       "    </tr>\n",
       "    <tr>\n",
       "      <th>Name</th>\n",
       "      <th></th>\n",
       "      <th></th>\n",
       "      <th></th>\n",
       "      <th></th>\n",
       "      <th></th>\n",
       "      <th></th>\n",
       "      <th></th>\n",
       "      <th></th>\n",
       "      <th></th>\n",
       "      <th></th>\n",
       "      <th></th>\n",
       "      <th></th>\n",
       "    </tr>\n",
       "  </thead>\n",
       "  <tbody>\n",
       "    <tr>\n",
       "      <th>Cumings, Mrs. John Bradley (Florence Briggs Thayer)</th>\n",
       "      <td>2</td>\n",
       "      <td>1</td>\n",
       "      <td>1</td>\n",
       "      <td>female</td>\n",
       "      <td>38.0</td>\n",
       "      <td>1</td>\n",
       "      <td>0</td>\n",
       "      <td>PC 17599</td>\n",
       "      <td>71.2833</td>\n",
       "      <td>C85</td>\n",
       "      <td>C</td>\n",
       "      <td>True</td>\n",
       "    </tr>\n",
       "    <tr>\n",
       "      <th>Futrelle, Mrs. Jacques Heath (Lily May Peel)</th>\n",
       "      <td>4</td>\n",
       "      <td>1</td>\n",
       "      <td>1</td>\n",
       "      <td>female</td>\n",
       "      <td>35.0</td>\n",
       "      <td>1</td>\n",
       "      <td>0</td>\n",
       "      <td>113803</td>\n",
       "      <td>53.1000</td>\n",
       "      <td>C123</td>\n",
       "      <td>S</td>\n",
       "      <td>True</td>\n",
       "    </tr>\n",
       "    <tr>\n",
       "      <th>McCarthy, Mr. Timothy J</th>\n",
       "      <td>7</td>\n",
       "      <td>0</td>\n",
       "      <td>1</td>\n",
       "      <td>male</td>\n",
       "      <td>54.0</td>\n",
       "      <td>0</td>\n",
       "      <td>0</td>\n",
       "      <td>17463</td>\n",
       "      <td>51.8625</td>\n",
       "      <td>E46</td>\n",
       "      <td>S</td>\n",
       "      <td>True</td>\n",
       "    </tr>\n",
       "    <tr>\n",
       "      <th>Sandstrom, Miss. Marguerite Rut</th>\n",
       "      <td>11</td>\n",
       "      <td>1</td>\n",
       "      <td>3</td>\n",
       "      <td>female</td>\n",
       "      <td>4.0</td>\n",
       "      <td>1</td>\n",
       "      <td>1</td>\n",
       "      <td>PP 9549</td>\n",
       "      <td>16.7000</td>\n",
       "      <td>G6</td>\n",
       "      <td>S</td>\n",
       "      <td>True</td>\n",
       "    </tr>\n",
       "    <tr>\n",
       "      <th>Bonnell, Miss. Elizabeth</th>\n",
       "      <td>12</td>\n",
       "      <td>1</td>\n",
       "      <td>1</td>\n",
       "      <td>female</td>\n",
       "      <td>58.0</td>\n",
       "      <td>0</td>\n",
       "      <td>0</td>\n",
       "      <td>113783</td>\n",
       "      <td>26.5500</td>\n",
       "      <td>C103</td>\n",
       "      <td>S</td>\n",
       "      <td>True</td>\n",
       "    </tr>\n",
       "    <tr>\n",
       "      <th>...</th>\n",
       "      <td>...</td>\n",
       "      <td>...</td>\n",
       "      <td>...</td>\n",
       "      <td>...</td>\n",
       "      <td>...</td>\n",
       "      <td>...</td>\n",
       "      <td>...</td>\n",
       "      <td>...</td>\n",
       "      <td>...</td>\n",
       "      <td>...</td>\n",
       "      <td>...</td>\n",
       "      <td>...</td>\n",
       "    </tr>\n",
       "    <tr>\n",
       "      <th>Beckwith, Mrs. Richard Leonard (Sallie Monypeny)</th>\n",
       "      <td>872</td>\n",
       "      <td>1</td>\n",
       "      <td>1</td>\n",
       "      <td>female</td>\n",
       "      <td>47.0</td>\n",
       "      <td>1</td>\n",
       "      <td>1</td>\n",
       "      <td>11751</td>\n",
       "      <td>52.5542</td>\n",
       "      <td>D35</td>\n",
       "      <td>S</td>\n",
       "      <td>True</td>\n",
       "    </tr>\n",
       "    <tr>\n",
       "      <th>Carlsson, Mr. Frans Olof</th>\n",
       "      <td>873</td>\n",
       "      <td>0</td>\n",
       "      <td>1</td>\n",
       "      <td>male</td>\n",
       "      <td>33.0</td>\n",
       "      <td>0</td>\n",
       "      <td>0</td>\n",
       "      <td>695</td>\n",
       "      <td>5.0000</td>\n",
       "      <td>B51 B53 B55</td>\n",
       "      <td>S</td>\n",
       "      <td>True</td>\n",
       "    </tr>\n",
       "    <tr>\n",
       "      <th>Potter, Mrs. Thomas Jr (Lily Alexenia Wilson)</th>\n",
       "      <td>880</td>\n",
       "      <td>1</td>\n",
       "      <td>1</td>\n",
       "      <td>female</td>\n",
       "      <td>56.0</td>\n",
       "      <td>0</td>\n",
       "      <td>1</td>\n",
       "      <td>11767</td>\n",
       "      <td>83.1583</td>\n",
       "      <td>C50</td>\n",
       "      <td>C</td>\n",
       "      <td>True</td>\n",
       "    </tr>\n",
       "    <tr>\n",
       "      <th>Graham, Miss. Margaret Edith</th>\n",
       "      <td>888</td>\n",
       "      <td>1</td>\n",
       "      <td>1</td>\n",
       "      <td>female</td>\n",
       "      <td>19.0</td>\n",
       "      <td>0</td>\n",
       "      <td>0</td>\n",
       "      <td>112053</td>\n",
       "      <td>30.0000</td>\n",
       "      <td>B42</td>\n",
       "      <td>S</td>\n",
       "      <td>True</td>\n",
       "    </tr>\n",
       "    <tr>\n",
       "      <th>Behr, Mr. Karl Howell</th>\n",
       "      <td>890</td>\n",
       "      <td>1</td>\n",
       "      <td>1</td>\n",
       "      <td>male</td>\n",
       "      <td>26.0</td>\n",
       "      <td>0</td>\n",
       "      <td>0</td>\n",
       "      <td>111369</td>\n",
       "      <td>30.0000</td>\n",
       "      <td>C148</td>\n",
       "      <td>C</td>\n",
       "      <td>True</td>\n",
       "    </tr>\n",
       "  </tbody>\n",
       "</table>\n",
       "<p>183 rows × 12 columns</p>\n",
       "</div>"
      ],
      "text/plain": [
       "                                                    PassengerId  Survived  \\\n",
       "Name                                                                        \n",
       "Cumings, Mrs. John Bradley (Florence Briggs Tha...            2         1   \n",
       "Futrelle, Mrs. Jacques Heath (Lily May Peel)                  4         1   \n",
       "McCarthy, Mr. Timothy J                                       7         0   \n",
       "Sandstrom, Miss. Marguerite Rut                              11         1   \n",
       "Bonnell, Miss. Elizabeth                                     12         1   \n",
       "...                                                         ...       ...   \n",
       "Beckwith, Mrs. Richard Leonard (Sallie Monypeny)            872         1   \n",
       "Carlsson, Mr. Frans Olof                                    873         0   \n",
       "Potter, Mrs. Thomas Jr (Lily Alexenia Wilson)               880         1   \n",
       "Graham, Miss. Margaret Edith                                888         1   \n",
       "Behr, Mr. Karl Howell                                       890         1   \n",
       "\n",
       "                                                    Pclass     Sex   Age  \\\n",
       "Name                                                                       \n",
       "Cumings, Mrs. John Bradley (Florence Briggs Tha...       1  female  38.0   \n",
       "Futrelle, Mrs. Jacques Heath (Lily May Peel)             1  female  35.0   \n",
       "McCarthy, Mr. Timothy J                                  1    male  54.0   \n",
       "Sandstrom, Miss. Marguerite Rut                          3  female   4.0   \n",
       "Bonnell, Miss. Elizabeth                                 1  female  58.0   \n",
       "...                                                    ...     ...   ...   \n",
       "Beckwith, Mrs. Richard Leonard (Sallie Monypeny)         1  female  47.0   \n",
       "Carlsson, Mr. Frans Olof                                 1    male  33.0   \n",
       "Potter, Mrs. Thomas Jr (Lily Alexenia Wilson)            1  female  56.0   \n",
       "Graham, Miss. Margaret Edith                             1  female  19.0   \n",
       "Behr, Mr. Karl Howell                                    1    male  26.0   \n",
       "\n",
       "                                                    SibSp  Parch    Ticket  \\\n",
       "Name                                                                         \n",
       "Cumings, Mrs. John Bradley (Florence Briggs Tha...      1      0  PC 17599   \n",
       "Futrelle, Mrs. Jacques Heath (Lily May Peel)            1      0    113803   \n",
       "McCarthy, Mr. Timothy J                                 0      0     17463   \n",
       "Sandstrom, Miss. Marguerite Rut                         1      1   PP 9549   \n",
       "Bonnell, Miss. Elizabeth                                0      0    113783   \n",
       "...                                                   ...    ...       ...   \n",
       "Beckwith, Mrs. Richard Leonard (Sallie Monypeny)        1      1     11751   \n",
       "Carlsson, Mr. Frans Olof                                0      0       695   \n",
       "Potter, Mrs. Thomas Jr (Lily Alexenia Wilson)           0      1     11767   \n",
       "Graham, Miss. Margaret Edith                            0      0    112053   \n",
       "Behr, Mr. Karl Howell                                   0      0    111369   \n",
       "\n",
       "                                                       Fare        Cabin  \\\n",
       "Name                                                                       \n",
       "Cumings, Mrs. John Bradley (Florence Briggs Tha...  71.2833          C85   \n",
       "Futrelle, Mrs. Jacques Heath (Lily May Peel)        53.1000         C123   \n",
       "McCarthy, Mr. Timothy J                             51.8625          E46   \n",
       "Sandstrom, Miss. Marguerite Rut                     16.7000           G6   \n",
       "Bonnell, Miss. Elizabeth                            26.5500         C103   \n",
       "...                                                     ...          ...   \n",
       "Beckwith, Mrs. Richard Leonard (Sallie Monypeny)    52.5542          D35   \n",
       "Carlsson, Mr. Frans Olof                             5.0000  B51 B53 B55   \n",
       "Potter, Mrs. Thomas Jr (Lily Alexenia Wilson)       83.1583          C50   \n",
       "Graham, Miss. Margaret Edith                        30.0000          B42   \n",
       "Behr, Mr. Karl Howell                               30.0000         C148   \n",
       "\n",
       "                                                   Embarked  is_passenger  \n",
       "Name                                                                       \n",
       "Cumings, Mrs. John Bradley (Florence Briggs Tha...        C          True  \n",
       "Futrelle, Mrs. Jacques Heath (Lily May Peel)              S          True  \n",
       "McCarthy, Mr. Timothy J                                   S          True  \n",
       "Sandstrom, Miss. Marguerite Rut                           S          True  \n",
       "Bonnell, Miss. Elizabeth                                  S          True  \n",
       "...                                                     ...           ...  \n",
       "Beckwith, Mrs. Richard Leonard (Sallie Monypeny)          S          True  \n",
       "Carlsson, Mr. Frans Olof                                  S          True  \n",
       "Potter, Mrs. Thomas Jr (Lily Alexenia Wilson)             C          True  \n",
       "Graham, Miss. Margaret Edith                              S          True  \n",
       "Behr, Mr. Karl Howell                                     C          True  \n",
       "\n",
       "[183 rows x 12 columns]"
      ]
     },
     "execution_count": 37,
     "metadata": {},
     "output_type": "execute_result"
    }
   ],
   "source": [
    "titanic.dropna(how='any') # or how=\"all\""
   ]
  },
  {
   "cell_type": "code",
   "execution_count": 38,
   "id": "b4285a72-369d-4af5-b96e-9b47f41b015d",
   "metadata": {},
   "outputs": [
    {
     "data": {
      "text/html": [
       "<div>\n",
       "<style scoped>\n",
       "    .dataframe tbody tr th:only-of-type {\n",
       "        vertical-align: middle;\n",
       "    }\n",
       "\n",
       "    .dataframe tbody tr th {\n",
       "        vertical-align: top;\n",
       "    }\n",
       "\n",
       "    .dataframe thead th {\n",
       "        text-align: right;\n",
       "    }\n",
       "</style>\n",
       "<table border=\"1\" class=\"dataframe\">\n",
       "  <thead>\n",
       "    <tr style=\"text-align: right;\">\n",
       "      <th></th>\n",
       "      <th>PassengerId</th>\n",
       "      <th>Survived</th>\n",
       "      <th>Pclass</th>\n",
       "      <th>Sex</th>\n",
       "      <th>Age</th>\n",
       "      <th>SibSp</th>\n",
       "      <th>Parch</th>\n",
       "      <th>Ticket</th>\n",
       "      <th>Fare</th>\n",
       "      <th>Cabin</th>\n",
       "      <th>Embarked</th>\n",
       "      <th>is_passenger</th>\n",
       "    </tr>\n",
       "    <tr>\n",
       "      <th>Name</th>\n",
       "      <th></th>\n",
       "      <th></th>\n",
       "      <th></th>\n",
       "      <th></th>\n",
       "      <th></th>\n",
       "      <th></th>\n",
       "      <th></th>\n",
       "      <th></th>\n",
       "      <th></th>\n",
       "      <th></th>\n",
       "      <th></th>\n",
       "      <th></th>\n",
       "    </tr>\n",
       "  </thead>\n",
       "  <tbody>\n",
       "    <tr>\n",
       "      <th>Cumings, Mrs. John Bradley (Florence Briggs Thayer)</th>\n",
       "      <td>2</td>\n",
       "      <td>1</td>\n",
       "      <td>1</td>\n",
       "      <td>female</td>\n",
       "      <td>38.0</td>\n",
       "      <td>1</td>\n",
       "      <td>0</td>\n",
       "      <td>PC 17599</td>\n",
       "      <td>71.2833</td>\n",
       "      <td>C85</td>\n",
       "      <td>C</td>\n",
       "      <td>True</td>\n",
       "    </tr>\n",
       "    <tr>\n",
       "      <th>Futrelle, Mrs. Jacques Heath (Lily May Peel)</th>\n",
       "      <td>4</td>\n",
       "      <td>1</td>\n",
       "      <td>1</td>\n",
       "      <td>female</td>\n",
       "      <td>35.0</td>\n",
       "      <td>1</td>\n",
       "      <td>0</td>\n",
       "      <td>113803</td>\n",
       "      <td>53.1000</td>\n",
       "      <td>C123</td>\n",
       "      <td>S</td>\n",
       "      <td>True</td>\n",
       "    </tr>\n",
       "    <tr>\n",
       "      <th>McCarthy, Mr. Timothy J</th>\n",
       "      <td>7</td>\n",
       "      <td>0</td>\n",
       "      <td>1</td>\n",
       "      <td>male</td>\n",
       "      <td>54.0</td>\n",
       "      <td>0</td>\n",
       "      <td>0</td>\n",
       "      <td>17463</td>\n",
       "      <td>51.8625</td>\n",
       "      <td>E46</td>\n",
       "      <td>S</td>\n",
       "      <td>True</td>\n",
       "    </tr>\n",
       "    <tr>\n",
       "      <th>Sandstrom, Miss. Marguerite Rut</th>\n",
       "      <td>11</td>\n",
       "      <td>1</td>\n",
       "      <td>3</td>\n",
       "      <td>female</td>\n",
       "      <td>4.0</td>\n",
       "      <td>1</td>\n",
       "      <td>1</td>\n",
       "      <td>PP 9549</td>\n",
       "      <td>16.7000</td>\n",
       "      <td>G6</td>\n",
       "      <td>S</td>\n",
       "      <td>True</td>\n",
       "    </tr>\n",
       "    <tr>\n",
       "      <th>Bonnell, Miss. Elizabeth</th>\n",
       "      <td>12</td>\n",
       "      <td>1</td>\n",
       "      <td>1</td>\n",
       "      <td>female</td>\n",
       "      <td>58.0</td>\n",
       "      <td>0</td>\n",
       "      <td>0</td>\n",
       "      <td>113783</td>\n",
       "      <td>26.5500</td>\n",
       "      <td>C103</td>\n",
       "      <td>S</td>\n",
       "      <td>True</td>\n",
       "    </tr>\n",
       "    <tr>\n",
       "      <th>...</th>\n",
       "      <td>...</td>\n",
       "      <td>...</td>\n",
       "      <td>...</td>\n",
       "      <td>...</td>\n",
       "      <td>...</td>\n",
       "      <td>...</td>\n",
       "      <td>...</td>\n",
       "      <td>...</td>\n",
       "      <td>...</td>\n",
       "      <td>...</td>\n",
       "      <td>...</td>\n",
       "      <td>...</td>\n",
       "    </tr>\n",
       "    <tr>\n",
       "      <th>Beckwith, Mrs. Richard Leonard (Sallie Monypeny)</th>\n",
       "      <td>872</td>\n",
       "      <td>1</td>\n",
       "      <td>1</td>\n",
       "      <td>female</td>\n",
       "      <td>47.0</td>\n",
       "      <td>1</td>\n",
       "      <td>1</td>\n",
       "      <td>11751</td>\n",
       "      <td>52.5542</td>\n",
       "      <td>D35</td>\n",
       "      <td>S</td>\n",
       "      <td>True</td>\n",
       "    </tr>\n",
       "    <tr>\n",
       "      <th>Carlsson, Mr. Frans Olof</th>\n",
       "      <td>873</td>\n",
       "      <td>0</td>\n",
       "      <td>1</td>\n",
       "      <td>male</td>\n",
       "      <td>33.0</td>\n",
       "      <td>0</td>\n",
       "      <td>0</td>\n",
       "      <td>695</td>\n",
       "      <td>5.0000</td>\n",
       "      <td>B51 B53 B55</td>\n",
       "      <td>S</td>\n",
       "      <td>True</td>\n",
       "    </tr>\n",
       "    <tr>\n",
       "      <th>Potter, Mrs. Thomas Jr (Lily Alexenia Wilson)</th>\n",
       "      <td>880</td>\n",
       "      <td>1</td>\n",
       "      <td>1</td>\n",
       "      <td>female</td>\n",
       "      <td>56.0</td>\n",
       "      <td>0</td>\n",
       "      <td>1</td>\n",
       "      <td>11767</td>\n",
       "      <td>83.1583</td>\n",
       "      <td>C50</td>\n",
       "      <td>C</td>\n",
       "      <td>True</td>\n",
       "    </tr>\n",
       "    <tr>\n",
       "      <th>Graham, Miss. Margaret Edith</th>\n",
       "      <td>888</td>\n",
       "      <td>1</td>\n",
       "      <td>1</td>\n",
       "      <td>female</td>\n",
       "      <td>19.0</td>\n",
       "      <td>0</td>\n",
       "      <td>0</td>\n",
       "      <td>112053</td>\n",
       "      <td>30.0000</td>\n",
       "      <td>B42</td>\n",
       "      <td>S</td>\n",
       "      <td>True</td>\n",
       "    </tr>\n",
       "    <tr>\n",
       "      <th>Behr, Mr. Karl Howell</th>\n",
       "      <td>890</td>\n",
       "      <td>1</td>\n",
       "      <td>1</td>\n",
       "      <td>male</td>\n",
       "      <td>26.0</td>\n",
       "      <td>0</td>\n",
       "      <td>0</td>\n",
       "      <td>111369</td>\n",
       "      <td>30.0000</td>\n",
       "      <td>C148</td>\n",
       "      <td>C</td>\n",
       "      <td>True</td>\n",
       "    </tr>\n",
       "  </tbody>\n",
       "</table>\n",
       "<p>204 rows × 12 columns</p>\n",
       "</div>"
      ],
      "text/plain": [
       "                                                    PassengerId  Survived  \\\n",
       "Name                                                                        \n",
       "Cumings, Mrs. John Bradley (Florence Briggs Tha...            2         1   \n",
       "Futrelle, Mrs. Jacques Heath (Lily May Peel)                  4         1   \n",
       "McCarthy, Mr. Timothy J                                       7         0   \n",
       "Sandstrom, Miss. Marguerite Rut                              11         1   \n",
       "Bonnell, Miss. Elizabeth                                     12         1   \n",
       "...                                                         ...       ...   \n",
       "Beckwith, Mrs. Richard Leonard (Sallie Monypeny)            872         1   \n",
       "Carlsson, Mr. Frans Olof                                    873         0   \n",
       "Potter, Mrs. Thomas Jr (Lily Alexenia Wilson)               880         1   \n",
       "Graham, Miss. Margaret Edith                                888         1   \n",
       "Behr, Mr. Karl Howell                                       890         1   \n",
       "\n",
       "                                                    Pclass     Sex   Age  \\\n",
       "Name                                                                       \n",
       "Cumings, Mrs. John Bradley (Florence Briggs Tha...       1  female  38.0   \n",
       "Futrelle, Mrs. Jacques Heath (Lily May Peel)             1  female  35.0   \n",
       "McCarthy, Mr. Timothy J                                  1    male  54.0   \n",
       "Sandstrom, Miss. Marguerite Rut                          3  female   4.0   \n",
       "Bonnell, Miss. Elizabeth                                 1  female  58.0   \n",
       "...                                                    ...     ...   ...   \n",
       "Beckwith, Mrs. Richard Leonard (Sallie Monypeny)         1  female  47.0   \n",
       "Carlsson, Mr. Frans Olof                                 1    male  33.0   \n",
       "Potter, Mrs. Thomas Jr (Lily Alexenia Wilson)            1  female  56.0   \n",
       "Graham, Miss. Margaret Edith                             1  female  19.0   \n",
       "Behr, Mr. Karl Howell                                    1    male  26.0   \n",
       "\n",
       "                                                    SibSp  Parch    Ticket  \\\n",
       "Name                                                                         \n",
       "Cumings, Mrs. John Bradley (Florence Briggs Tha...      1      0  PC 17599   \n",
       "Futrelle, Mrs. Jacques Heath (Lily May Peel)            1      0    113803   \n",
       "McCarthy, Mr. Timothy J                                 0      0     17463   \n",
       "Sandstrom, Miss. Marguerite Rut                         1      1   PP 9549   \n",
       "Bonnell, Miss. Elizabeth                                0      0    113783   \n",
       "...                                                   ...    ...       ...   \n",
       "Beckwith, Mrs. Richard Leonard (Sallie Monypeny)        1      1     11751   \n",
       "Carlsson, Mr. Frans Olof                                0      0       695   \n",
       "Potter, Mrs. Thomas Jr (Lily Alexenia Wilson)           0      1     11767   \n",
       "Graham, Miss. Margaret Edith                            0      0    112053   \n",
       "Behr, Mr. Karl Howell                                   0      0    111369   \n",
       "\n",
       "                                                       Fare        Cabin  \\\n",
       "Name                                                                       \n",
       "Cumings, Mrs. John Bradley (Florence Briggs Tha...  71.2833          C85   \n",
       "Futrelle, Mrs. Jacques Heath (Lily May Peel)        53.1000         C123   \n",
       "McCarthy, Mr. Timothy J                             51.8625          E46   \n",
       "Sandstrom, Miss. Marguerite Rut                     16.7000           G6   \n",
       "Bonnell, Miss. Elizabeth                            26.5500         C103   \n",
       "...                                                     ...          ...   \n",
       "Beckwith, Mrs. Richard Leonard (Sallie Monypeny)    52.5542          D35   \n",
       "Carlsson, Mr. Frans Olof                             5.0000  B51 B53 B55   \n",
       "Potter, Mrs. Thomas Jr (Lily Alexenia Wilson)       83.1583          C50   \n",
       "Graham, Miss. Margaret Edith                        30.0000          B42   \n",
       "Behr, Mr. Karl Howell                               30.0000         C148   \n",
       "\n",
       "                                                   Embarked  is_passenger  \n",
       "Name                                                                       \n",
       "Cumings, Mrs. John Bradley (Florence Briggs Tha...        C          True  \n",
       "Futrelle, Mrs. Jacques Heath (Lily May Peel)              S          True  \n",
       "McCarthy, Mr. Timothy J                                   S          True  \n",
       "Sandstrom, Miss. Marguerite Rut                           S          True  \n",
       "Bonnell, Miss. Elizabeth                                  S          True  \n",
       "...                                                     ...           ...  \n",
       "Beckwith, Mrs. Richard Leonard (Sallie Monypeny)          S          True  \n",
       "Carlsson, Mr. Frans Olof                                  S          True  \n",
       "Potter, Mrs. Thomas Jr (Lily Alexenia Wilson)             C          True  \n",
       "Graham, Miss. Margaret Edith                              S          True  \n",
       "Behr, Mr. Karl Howell                                     C          True  \n",
       "\n",
       "[204 rows x 12 columns]"
      ]
     },
     "execution_count": 38,
     "metadata": {},
     "output_type": "execute_result"
    }
   ],
   "source": [
    "titanic.dropna(subset=['Cabin']) # only drop NaNs from one column"
   ]
  },
  {
   "cell_type": "code",
   "execution_count": 39,
   "id": "2e83bc27-3cbb-44bd-aba4-eb91d2d26b6d",
   "metadata": {},
   "outputs": [
    {
     "data": {
      "text/html": [
       "<div>\n",
       "<style scoped>\n",
       "    .dataframe tbody tr th:only-of-type {\n",
       "        vertical-align: middle;\n",
       "    }\n",
       "\n",
       "    .dataframe tbody tr th {\n",
       "        vertical-align: top;\n",
       "    }\n",
       "\n",
       "    .dataframe thead th {\n",
       "        text-align: right;\n",
       "    }\n",
       "</style>\n",
       "<table border=\"1\" class=\"dataframe\">\n",
       "  <thead>\n",
       "    <tr style=\"text-align: right;\">\n",
       "      <th></th>\n",
       "      <th>PassengerId</th>\n",
       "      <th>Survived</th>\n",
       "      <th>Pclass</th>\n",
       "      <th>Sex</th>\n",
       "      <th>Age</th>\n",
       "      <th>SibSp</th>\n",
       "      <th>Parch</th>\n",
       "      <th>Ticket</th>\n",
       "      <th>Fare</th>\n",
       "      <th>Cabin</th>\n",
       "      <th>Embarked</th>\n",
       "      <th>is_passenger</th>\n",
       "    </tr>\n",
       "    <tr>\n",
       "      <th>Name</th>\n",
       "      <th></th>\n",
       "      <th></th>\n",
       "      <th></th>\n",
       "      <th></th>\n",
       "      <th></th>\n",
       "      <th></th>\n",
       "      <th></th>\n",
       "      <th></th>\n",
       "      <th></th>\n",
       "      <th></th>\n",
       "      <th></th>\n",
       "      <th></th>\n",
       "    </tr>\n",
       "  </thead>\n",
       "  <tbody>\n",
       "    <tr>\n",
       "      <th>Braund, Mr. Owen Harris</th>\n",
       "      <td>1</td>\n",
       "      <td>0</td>\n",
       "      <td>3</td>\n",
       "      <td>male</td>\n",
       "      <td>22.0</td>\n",
       "      <td>1</td>\n",
       "      <td>0</td>\n",
       "      <td>A/5 21171</td>\n",
       "      <td>7.2500</td>\n",
       "      <td>0</td>\n",
       "      <td>S</td>\n",
       "      <td>True</td>\n",
       "    </tr>\n",
       "    <tr>\n",
       "      <th>Cumings, Mrs. John Bradley (Florence Briggs Thayer)</th>\n",
       "      <td>2</td>\n",
       "      <td>1</td>\n",
       "      <td>1</td>\n",
       "      <td>female</td>\n",
       "      <td>38.0</td>\n",
       "      <td>1</td>\n",
       "      <td>0</td>\n",
       "      <td>PC 17599</td>\n",
       "      <td>71.2833</td>\n",
       "      <td>C85</td>\n",
       "      <td>C</td>\n",
       "      <td>True</td>\n",
       "    </tr>\n",
       "    <tr>\n",
       "      <th>Heikkinen, Miss. Laina</th>\n",
       "      <td>3</td>\n",
       "      <td>1</td>\n",
       "      <td>3</td>\n",
       "      <td>female</td>\n",
       "      <td>26.0</td>\n",
       "      <td>0</td>\n",
       "      <td>0</td>\n",
       "      <td>STON/O2. 3101282</td>\n",
       "      <td>7.9250</td>\n",
       "      <td>0</td>\n",
       "      <td>S</td>\n",
       "      <td>True</td>\n",
       "    </tr>\n",
       "    <tr>\n",
       "      <th>Futrelle, Mrs. Jacques Heath (Lily May Peel)</th>\n",
       "      <td>4</td>\n",
       "      <td>1</td>\n",
       "      <td>1</td>\n",
       "      <td>female</td>\n",
       "      <td>35.0</td>\n",
       "      <td>1</td>\n",
       "      <td>0</td>\n",
       "      <td>113803</td>\n",
       "      <td>53.1000</td>\n",
       "      <td>C123</td>\n",
       "      <td>S</td>\n",
       "      <td>True</td>\n",
       "    </tr>\n",
       "    <tr>\n",
       "      <th>Allen, Mr. William Henry</th>\n",
       "      <td>5</td>\n",
       "      <td>0</td>\n",
       "      <td>3</td>\n",
       "      <td>male</td>\n",
       "      <td>35.0</td>\n",
       "      <td>0</td>\n",
       "      <td>0</td>\n",
       "      <td>373450</td>\n",
       "      <td>8.0500</td>\n",
       "      <td>0</td>\n",
       "      <td>S</td>\n",
       "      <td>True</td>\n",
       "    </tr>\n",
       "    <tr>\n",
       "      <th>...</th>\n",
       "      <td>...</td>\n",
       "      <td>...</td>\n",
       "      <td>...</td>\n",
       "      <td>...</td>\n",
       "      <td>...</td>\n",
       "      <td>...</td>\n",
       "      <td>...</td>\n",
       "      <td>...</td>\n",
       "      <td>...</td>\n",
       "      <td>...</td>\n",
       "      <td>...</td>\n",
       "      <td>...</td>\n",
       "    </tr>\n",
       "    <tr>\n",
       "      <th>Montvila, Rev. Juozas</th>\n",
       "      <td>887</td>\n",
       "      <td>0</td>\n",
       "      <td>2</td>\n",
       "      <td>male</td>\n",
       "      <td>27.0</td>\n",
       "      <td>0</td>\n",
       "      <td>0</td>\n",
       "      <td>211536</td>\n",
       "      <td>13.0000</td>\n",
       "      <td>0</td>\n",
       "      <td>S</td>\n",
       "      <td>True</td>\n",
       "    </tr>\n",
       "    <tr>\n",
       "      <th>Graham, Miss. Margaret Edith</th>\n",
       "      <td>888</td>\n",
       "      <td>1</td>\n",
       "      <td>1</td>\n",
       "      <td>female</td>\n",
       "      <td>19.0</td>\n",
       "      <td>0</td>\n",
       "      <td>0</td>\n",
       "      <td>112053</td>\n",
       "      <td>30.0000</td>\n",
       "      <td>B42</td>\n",
       "      <td>S</td>\n",
       "      <td>True</td>\n",
       "    </tr>\n",
       "    <tr>\n",
       "      <th>Johnston, Miss. Catherine Helen \"Carrie\"</th>\n",
       "      <td>889</td>\n",
       "      <td>0</td>\n",
       "      <td>3</td>\n",
       "      <td>female</td>\n",
       "      <td>0.0</td>\n",
       "      <td>1</td>\n",
       "      <td>2</td>\n",
       "      <td>W./C. 6607</td>\n",
       "      <td>23.4500</td>\n",
       "      <td>0</td>\n",
       "      <td>S</td>\n",
       "      <td>True</td>\n",
       "    </tr>\n",
       "    <tr>\n",
       "      <th>Behr, Mr. Karl Howell</th>\n",
       "      <td>890</td>\n",
       "      <td>1</td>\n",
       "      <td>1</td>\n",
       "      <td>male</td>\n",
       "      <td>26.0</td>\n",
       "      <td>0</td>\n",
       "      <td>0</td>\n",
       "      <td>111369</td>\n",
       "      <td>30.0000</td>\n",
       "      <td>C148</td>\n",
       "      <td>C</td>\n",
       "      <td>True</td>\n",
       "    </tr>\n",
       "    <tr>\n",
       "      <th>Dooley, Mr. Patrick</th>\n",
       "      <td>891</td>\n",
       "      <td>0</td>\n",
       "      <td>3</td>\n",
       "      <td>male</td>\n",
       "      <td>32.0</td>\n",
       "      <td>0</td>\n",
       "      <td>0</td>\n",
       "      <td>370376</td>\n",
       "      <td>7.7500</td>\n",
       "      <td>0</td>\n",
       "      <td>Q</td>\n",
       "      <td>True</td>\n",
       "    </tr>\n",
       "  </tbody>\n",
       "</table>\n",
       "<p>891 rows × 12 columns</p>\n",
       "</div>"
      ],
      "text/plain": [
       "                                                    PassengerId  Survived  \\\n",
       "Name                                                                        \n",
       "Braund, Mr. Owen Harris                                       1         0   \n",
       "Cumings, Mrs. John Bradley (Florence Briggs Tha...            2         1   \n",
       "Heikkinen, Miss. Laina                                        3         1   \n",
       "Futrelle, Mrs. Jacques Heath (Lily May Peel)                  4         1   \n",
       "Allen, Mr. William Henry                                      5         0   \n",
       "...                                                         ...       ...   \n",
       "Montvila, Rev. Juozas                                       887         0   \n",
       "Graham, Miss. Margaret Edith                                888         1   \n",
       "Johnston, Miss. Catherine Helen \"Carrie\"                    889         0   \n",
       "Behr, Mr. Karl Howell                                       890         1   \n",
       "Dooley, Mr. Patrick                                         891         0   \n",
       "\n",
       "                                                    Pclass     Sex   Age  \\\n",
       "Name                                                                       \n",
       "Braund, Mr. Owen Harris                                  3    male  22.0   \n",
       "Cumings, Mrs. John Bradley (Florence Briggs Tha...       1  female  38.0   \n",
       "Heikkinen, Miss. Laina                                   3  female  26.0   \n",
       "Futrelle, Mrs. Jacques Heath (Lily May Peel)             1  female  35.0   \n",
       "Allen, Mr. William Henry                                 3    male  35.0   \n",
       "...                                                    ...     ...   ...   \n",
       "Montvila, Rev. Juozas                                    2    male  27.0   \n",
       "Graham, Miss. Margaret Edith                             1  female  19.0   \n",
       "Johnston, Miss. Catherine Helen \"Carrie\"                 3  female   0.0   \n",
       "Behr, Mr. Karl Howell                                    1    male  26.0   \n",
       "Dooley, Mr. Patrick                                      3    male  32.0   \n",
       "\n",
       "                                                    SibSp  Parch  \\\n",
       "Name                                                               \n",
       "Braund, Mr. Owen Harris                                 1      0   \n",
       "Cumings, Mrs. John Bradley (Florence Briggs Tha...      1      0   \n",
       "Heikkinen, Miss. Laina                                  0      0   \n",
       "Futrelle, Mrs. Jacques Heath (Lily May Peel)            1      0   \n",
       "Allen, Mr. William Henry                                0      0   \n",
       "...                                                   ...    ...   \n",
       "Montvila, Rev. Juozas                                   0      0   \n",
       "Graham, Miss. Margaret Edith                            0      0   \n",
       "Johnston, Miss. Catherine Helen \"Carrie\"                1      2   \n",
       "Behr, Mr. Karl Howell                                   0      0   \n",
       "Dooley, Mr. Patrick                                     0      0   \n",
       "\n",
       "                                                              Ticket     Fare  \\\n",
       "Name                                                                            \n",
       "Braund, Mr. Owen Harris                                    A/5 21171   7.2500   \n",
       "Cumings, Mrs. John Bradley (Florence Briggs Tha...          PC 17599  71.2833   \n",
       "Heikkinen, Miss. Laina                              STON/O2. 3101282   7.9250   \n",
       "Futrelle, Mrs. Jacques Heath (Lily May Peel)                  113803  53.1000   \n",
       "Allen, Mr. William Henry                                      373450   8.0500   \n",
       "...                                                              ...      ...   \n",
       "Montvila, Rev. Juozas                                         211536  13.0000   \n",
       "Graham, Miss. Margaret Edith                                  112053  30.0000   \n",
       "Johnston, Miss. Catherine Helen \"Carrie\"                  W./C. 6607  23.4500   \n",
       "Behr, Mr. Karl Howell                                         111369  30.0000   \n",
       "Dooley, Mr. Patrick                                           370376   7.7500   \n",
       "\n",
       "                                                   Cabin Embarked  \\\n",
       "Name                                                                \n",
       "Braund, Mr. Owen Harris                                0        S   \n",
       "Cumings, Mrs. John Bradley (Florence Briggs Tha...   C85        C   \n",
       "Heikkinen, Miss. Laina                                 0        S   \n",
       "Futrelle, Mrs. Jacques Heath (Lily May Peel)        C123        S   \n",
       "Allen, Mr. William Henry                               0        S   \n",
       "...                                                  ...      ...   \n",
       "Montvila, Rev. Juozas                                  0        S   \n",
       "Graham, Miss. Margaret Edith                         B42        S   \n",
       "Johnston, Miss. Catherine Helen \"Carrie\"               0        S   \n",
       "Behr, Mr. Karl Howell                               C148        C   \n",
       "Dooley, Mr. Patrick                                    0        Q   \n",
       "\n",
       "                                                    is_passenger  \n",
       "Name                                                              \n",
       "Braund, Mr. Owen Harris                                     True  \n",
       "Cumings, Mrs. John Bradley (Florence Briggs Tha...          True  \n",
       "Heikkinen, Miss. Laina                                      True  \n",
       "Futrelle, Mrs. Jacques Heath (Lily May Peel)                True  \n",
       "Allen, Mr. William Henry                                    True  \n",
       "...                                                          ...  \n",
       "Montvila, Rev. Juozas                                       True  \n",
       "Graham, Miss. Margaret Edith                                True  \n",
       "Johnston, Miss. Catherine Helen \"Carrie\"                    True  \n",
       "Behr, Mr. Karl Howell                                       True  \n",
       "Dooley, Mr. Patrick                                         True  \n",
       "\n",
       "[891 rows x 12 columns]"
      ]
     },
     "execution_count": 39,
     "metadata": {},
     "output_type": "execute_result"
    }
   ],
   "source": [
    "titanic.fillna(0) # replace NaNs with zero"
   ]
  },
  {
   "cell_type": "code",
   "execution_count": 40,
   "id": "a3442204-02bc-4f7f-8c06-f5108a0cddfe",
   "metadata": {},
   "outputs": [
    {
     "data": {
      "text/html": [
       "<div>\n",
       "<style scoped>\n",
       "    .dataframe tbody tr th:only-of-type {\n",
       "        vertical-align: middle;\n",
       "    }\n",
       "\n",
       "    .dataframe tbody tr th {\n",
       "        vertical-align: top;\n",
       "    }\n",
       "\n",
       "    .dataframe thead th {\n",
       "        text-align: right;\n",
       "    }\n",
       "</style>\n",
       "<table border=\"1\" class=\"dataframe\">\n",
       "  <thead>\n",
       "    <tr style=\"text-align: right;\">\n",
       "      <th></th>\n",
       "      <th>PassengerId</th>\n",
       "      <th>Survived</th>\n",
       "      <th>Pclass</th>\n",
       "      <th>Sex</th>\n",
       "      <th>Age</th>\n",
       "      <th>SibSp</th>\n",
       "      <th>Parch</th>\n",
       "      <th>Ticket</th>\n",
       "      <th>Fare</th>\n",
       "      <th>Cabin</th>\n",
       "      <th>Embarked</th>\n",
       "      <th>is_passenger</th>\n",
       "    </tr>\n",
       "    <tr>\n",
       "      <th>Name</th>\n",
       "      <th></th>\n",
       "      <th></th>\n",
       "      <th></th>\n",
       "      <th></th>\n",
       "      <th></th>\n",
       "      <th></th>\n",
       "      <th></th>\n",
       "      <th></th>\n",
       "      <th></th>\n",
       "      <th></th>\n",
       "      <th></th>\n",
       "      <th></th>\n",
       "    </tr>\n",
       "  </thead>\n",
       "  <tbody>\n",
       "    <tr>\n",
       "      <th>Braund, Mr. Owen Harris</th>\n",
       "      <td>1</td>\n",
       "      <td>0</td>\n",
       "      <td>3</td>\n",
       "      <td>male</td>\n",
       "      <td>22.0</td>\n",
       "      <td>1</td>\n",
       "      <td>0</td>\n",
       "      <td>A/5 21171</td>\n",
       "      <td>7.2500</td>\n",
       "      <td>NaN</td>\n",
       "      <td>S</td>\n",
       "      <td>True</td>\n",
       "    </tr>\n",
       "    <tr>\n",
       "      <th>Cumings, Mrs. John Bradley (Florence Briggs Thayer)</th>\n",
       "      <td>2</td>\n",
       "      <td>1</td>\n",
       "      <td>1</td>\n",
       "      <td>female</td>\n",
       "      <td>38.0</td>\n",
       "      <td>1</td>\n",
       "      <td>0</td>\n",
       "      <td>PC 17599</td>\n",
       "      <td>71.2833</td>\n",
       "      <td>C85</td>\n",
       "      <td>C</td>\n",
       "      <td>True</td>\n",
       "    </tr>\n",
       "    <tr>\n",
       "      <th>Heikkinen, Miss. Laina</th>\n",
       "      <td>3</td>\n",
       "      <td>1</td>\n",
       "      <td>3</td>\n",
       "      <td>female</td>\n",
       "      <td>26.0</td>\n",
       "      <td>0</td>\n",
       "      <td>0</td>\n",
       "      <td>STON/O2. 3101282</td>\n",
       "      <td>7.9250</td>\n",
       "      <td>C85</td>\n",
       "      <td>S</td>\n",
       "      <td>True</td>\n",
       "    </tr>\n",
       "    <tr>\n",
       "      <th>Futrelle, Mrs. Jacques Heath (Lily May Peel)</th>\n",
       "      <td>4</td>\n",
       "      <td>1</td>\n",
       "      <td>1</td>\n",
       "      <td>female</td>\n",
       "      <td>35.0</td>\n",
       "      <td>1</td>\n",
       "      <td>0</td>\n",
       "      <td>113803</td>\n",
       "      <td>53.1000</td>\n",
       "      <td>C123</td>\n",
       "      <td>S</td>\n",
       "      <td>True</td>\n",
       "    </tr>\n",
       "    <tr>\n",
       "      <th>Allen, Mr. William Henry</th>\n",
       "      <td>5</td>\n",
       "      <td>0</td>\n",
       "      <td>3</td>\n",
       "      <td>male</td>\n",
       "      <td>35.0</td>\n",
       "      <td>0</td>\n",
       "      <td>0</td>\n",
       "      <td>373450</td>\n",
       "      <td>8.0500</td>\n",
       "      <td>C123</td>\n",
       "      <td>S</td>\n",
       "      <td>True</td>\n",
       "    </tr>\n",
       "    <tr>\n",
       "      <th>...</th>\n",
       "      <td>...</td>\n",
       "      <td>...</td>\n",
       "      <td>...</td>\n",
       "      <td>...</td>\n",
       "      <td>...</td>\n",
       "      <td>...</td>\n",
       "      <td>...</td>\n",
       "      <td>...</td>\n",
       "      <td>...</td>\n",
       "      <td>...</td>\n",
       "      <td>...</td>\n",
       "      <td>...</td>\n",
       "    </tr>\n",
       "    <tr>\n",
       "      <th>Montvila, Rev. Juozas</th>\n",
       "      <td>887</td>\n",
       "      <td>0</td>\n",
       "      <td>2</td>\n",
       "      <td>male</td>\n",
       "      <td>27.0</td>\n",
       "      <td>0</td>\n",
       "      <td>0</td>\n",
       "      <td>211536</td>\n",
       "      <td>13.0000</td>\n",
       "      <td>C50</td>\n",
       "      <td>S</td>\n",
       "      <td>True</td>\n",
       "    </tr>\n",
       "    <tr>\n",
       "      <th>Graham, Miss. Margaret Edith</th>\n",
       "      <td>888</td>\n",
       "      <td>1</td>\n",
       "      <td>1</td>\n",
       "      <td>female</td>\n",
       "      <td>19.0</td>\n",
       "      <td>0</td>\n",
       "      <td>0</td>\n",
       "      <td>112053</td>\n",
       "      <td>30.0000</td>\n",
       "      <td>B42</td>\n",
       "      <td>S</td>\n",
       "      <td>True</td>\n",
       "    </tr>\n",
       "    <tr>\n",
       "      <th>Johnston, Miss. Catherine Helen \"Carrie\"</th>\n",
       "      <td>889</td>\n",
       "      <td>0</td>\n",
       "      <td>3</td>\n",
       "      <td>female</td>\n",
       "      <td>19.0</td>\n",
       "      <td>1</td>\n",
       "      <td>2</td>\n",
       "      <td>W./C. 6607</td>\n",
       "      <td>23.4500</td>\n",
       "      <td>B42</td>\n",
       "      <td>S</td>\n",
       "      <td>True</td>\n",
       "    </tr>\n",
       "    <tr>\n",
       "      <th>Behr, Mr. Karl Howell</th>\n",
       "      <td>890</td>\n",
       "      <td>1</td>\n",
       "      <td>1</td>\n",
       "      <td>male</td>\n",
       "      <td>26.0</td>\n",
       "      <td>0</td>\n",
       "      <td>0</td>\n",
       "      <td>111369</td>\n",
       "      <td>30.0000</td>\n",
       "      <td>C148</td>\n",
       "      <td>C</td>\n",
       "      <td>True</td>\n",
       "    </tr>\n",
       "    <tr>\n",
       "      <th>Dooley, Mr. Patrick</th>\n",
       "      <td>891</td>\n",
       "      <td>0</td>\n",
       "      <td>3</td>\n",
       "      <td>male</td>\n",
       "      <td>32.0</td>\n",
       "      <td>0</td>\n",
       "      <td>0</td>\n",
       "      <td>370376</td>\n",
       "      <td>7.7500</td>\n",
       "      <td>C148</td>\n",
       "      <td>Q</td>\n",
       "      <td>True</td>\n",
       "    </tr>\n",
       "  </tbody>\n",
       "</table>\n",
       "<p>891 rows × 12 columns</p>\n",
       "</div>"
      ],
      "text/plain": [
       "                                                    PassengerId  Survived  \\\n",
       "Name                                                                        \n",
       "Braund, Mr. Owen Harris                                       1         0   \n",
       "Cumings, Mrs. John Bradley (Florence Briggs Tha...            2         1   \n",
       "Heikkinen, Miss. Laina                                        3         1   \n",
       "Futrelle, Mrs. Jacques Heath (Lily May Peel)                  4         1   \n",
       "Allen, Mr. William Henry                                      5         0   \n",
       "...                                                         ...       ...   \n",
       "Montvila, Rev. Juozas                                       887         0   \n",
       "Graham, Miss. Margaret Edith                                888         1   \n",
       "Johnston, Miss. Catherine Helen \"Carrie\"                    889         0   \n",
       "Behr, Mr. Karl Howell                                       890         1   \n",
       "Dooley, Mr. Patrick                                         891         0   \n",
       "\n",
       "                                                    Pclass     Sex   Age  \\\n",
       "Name                                                                       \n",
       "Braund, Mr. Owen Harris                                  3    male  22.0   \n",
       "Cumings, Mrs. John Bradley (Florence Briggs Tha...       1  female  38.0   \n",
       "Heikkinen, Miss. Laina                                   3  female  26.0   \n",
       "Futrelle, Mrs. Jacques Heath (Lily May Peel)             1  female  35.0   \n",
       "Allen, Mr. William Henry                                 3    male  35.0   \n",
       "...                                                    ...     ...   ...   \n",
       "Montvila, Rev. Juozas                                    2    male  27.0   \n",
       "Graham, Miss. Margaret Edith                             1  female  19.0   \n",
       "Johnston, Miss. Catherine Helen \"Carrie\"                 3  female  19.0   \n",
       "Behr, Mr. Karl Howell                                    1    male  26.0   \n",
       "Dooley, Mr. Patrick                                      3    male  32.0   \n",
       "\n",
       "                                                    SibSp  Parch  \\\n",
       "Name                                                               \n",
       "Braund, Mr. Owen Harris                                 1      0   \n",
       "Cumings, Mrs. John Bradley (Florence Briggs Tha...      1      0   \n",
       "Heikkinen, Miss. Laina                                  0      0   \n",
       "Futrelle, Mrs. Jacques Heath (Lily May Peel)            1      0   \n",
       "Allen, Mr. William Henry                                0      0   \n",
       "...                                                   ...    ...   \n",
       "Montvila, Rev. Juozas                                   0      0   \n",
       "Graham, Miss. Margaret Edith                            0      0   \n",
       "Johnston, Miss. Catherine Helen \"Carrie\"                1      2   \n",
       "Behr, Mr. Karl Howell                                   0      0   \n",
       "Dooley, Mr. Patrick                                     0      0   \n",
       "\n",
       "                                                              Ticket     Fare  \\\n",
       "Name                                                                            \n",
       "Braund, Mr. Owen Harris                                    A/5 21171   7.2500   \n",
       "Cumings, Mrs. John Bradley (Florence Briggs Tha...          PC 17599  71.2833   \n",
       "Heikkinen, Miss. Laina                              STON/O2. 3101282   7.9250   \n",
       "Futrelle, Mrs. Jacques Heath (Lily May Peel)                  113803  53.1000   \n",
       "Allen, Mr. William Henry                                      373450   8.0500   \n",
       "...                                                              ...      ...   \n",
       "Montvila, Rev. Juozas                                         211536  13.0000   \n",
       "Graham, Miss. Margaret Edith                                  112053  30.0000   \n",
       "Johnston, Miss. Catherine Helen \"Carrie\"                  W./C. 6607  23.4500   \n",
       "Behr, Mr. Karl Howell                                         111369  30.0000   \n",
       "Dooley, Mr. Patrick                                           370376   7.7500   \n",
       "\n",
       "                                                   Cabin Embarked  \\\n",
       "Name                                                                \n",
       "Braund, Mr. Owen Harris                              NaN        S   \n",
       "Cumings, Mrs. John Bradley (Florence Briggs Tha...   C85        C   \n",
       "Heikkinen, Miss. Laina                               C85        S   \n",
       "Futrelle, Mrs. Jacques Heath (Lily May Peel)        C123        S   \n",
       "Allen, Mr. William Henry                            C123        S   \n",
       "...                                                  ...      ...   \n",
       "Montvila, Rev. Juozas                                C50        S   \n",
       "Graham, Miss. Margaret Edith                         B42        S   \n",
       "Johnston, Miss. Catherine Helen \"Carrie\"             B42        S   \n",
       "Behr, Mr. Karl Howell                               C148        C   \n",
       "Dooley, Mr. Patrick                                 C148        Q   \n",
       "\n",
       "                                                    is_passenger  \n",
       "Name                                                              \n",
       "Braund, Mr. Owen Harris                                     True  \n",
       "Cumings, Mrs. John Bradley (Florence Briggs Tha...          True  \n",
       "Heikkinen, Miss. Laina                                      True  \n",
       "Futrelle, Mrs. Jacques Heath (Lily May Peel)                True  \n",
       "Allen, Mr. William Henry                                    True  \n",
       "...                                                          ...  \n",
       "Montvila, Rev. Juozas                                       True  \n",
       "Graham, Miss. Margaret Edith                                True  \n",
       "Johnston, Miss. Catherine Helen \"Carrie\"                    True  \n",
       "Behr, Mr. Karl Howell                                       True  \n",
       "Dooley, Mr. Patrick                                         True  \n",
       "\n",
       "[891 rows x 12 columns]"
      ]
     },
     "execution_count": 40,
     "metadata": {},
     "output_type": "execute_result"
    }
   ],
   "source": [
    "titanic.fillna(method='ffill') # forward-fill NaNs"
   ]
  },
  {
   "cell_type": "markdown",
   "id": "d43979e0-a13b-4527-92ac-324940064650",
   "metadata": {},
   "source": [
    "Compute the mean age of the first 10 passengers by slicing and the [`pandas.DataFrame.mean()`](https://pandas.pydata.org/pandas-docs/stable/reference/api/pandas.DataFrame.mean.html#pandas.DataFrame.mean) method"
   ]
  },
  {
   "cell_type": "code",
   "execution_count": 42,
   "id": "546fa3fc-7472-4d98-9b7e-52ce81f79c3e",
   "metadata": {},
   "outputs": [
    {
     "data": {
      "text/plain": [
       "28.11111111111111"
      ]
     },
     "execution_count": 42,
     "metadata": {},
     "output_type": "execute_result"
    }
   ],
   "source": [
    "titanic.iloc[:10, :]['Age'].mean()"
   ]
  },
  {
   "cell_type": "code",
   "execution_count": 44,
   "id": "f3fa3f84-f632-4bb8-84d0-99c85bbc7daa",
   "metadata": {},
   "outputs": [
    {
     "data": {
      "text/plain": [
       "28.11111111111111"
      ]
     },
     "execution_count": 44,
     "metadata": {},
     "output_type": "execute_result"
    }
   ],
   "source": [
    "titanic.loc[: 'Nasser, Mrs. Nicholas (Adele Achem)', 'Age'].mean()"
   ]
  },
  {
   "cell_type": "code",
   "execution_count": 45,
   "id": "dc22fe6d-ecb7-45c9-af0d-f9336eaac026",
   "metadata": {},
   "outputs": [
    {
     "data": {
      "text/plain": [
       "28.11111111111111"
      ]
     },
     "execution_count": 45,
     "metadata": {},
     "output_type": "execute_result"
    }
   ],
   "source": [
    "titanic.iloc[:10, 4].mean()"
   ]
  },
  {
   "cell_type": "markdown",
   "id": "b3ce7749-d430-496b-96ee-00fe928dc08a",
   "metadata": {},
   "source": [
    "Using boolean indexing, compute the survival rate (mean of “Survived” values) among passengers over and under the average age."
   ]
  },
  {
   "cell_type": "code",
   "execution_count": 46,
   "id": "78dad4e5-bc3c-436f-84d7-c4e57f53e1fa",
   "metadata": {},
   "outputs": [
    {
     "data": {
      "text/plain": [
       "0.4078549848942598"
      ]
     },
     "execution_count": 46,
     "metadata": {},
     "output_type": "execute_result"
    }
   ],
   "source": [
    "titanic[titanic['Age'] > titanic['Age'].mean()] ['Survived'].mean()"
   ]
  },
  {
   "cell_type": "code",
   "execution_count": 47,
   "id": "fa18a5ce-f23c-4261-9fad-febd89bd3ede",
   "metadata": {},
   "outputs": [
    {
     "data": {
      "text/plain": [
       "0.40625"
      ]
     },
     "execution_count": 47,
     "metadata": {},
     "output_type": "execute_result"
    }
   ],
   "source": [
    "titanic[titanic['Age'] < titanic['Age'].mean()] ['Survived'].mean()"
   ]
  },
  {
   "cell_type": "markdown",
   "id": "ddbff598-bc77-48a2-855a-2c04edbf4997",
   "metadata": {},
   "source": [
    "What would untidy data look like? Here’s an example from some run time statistics from a 1500 m running event:"
   ]
  },
  {
   "cell_type": "code",
   "execution_count": 48,
   "id": "e9b66343-a26b-4aa9-b9bf-03e49c43b80e",
   "metadata": {},
   "outputs": [],
   "source": [
    "runners = pandas.DataFrame([{'Runner' : 'Runner 1', 400: 64, 800: 128, 1200: 192, 1500: 240},\n",
    "                            {'Runner': 'Runner 2', 400: 80, 800: 160, 1200: 240, 1500: 300},\n",
    "                            {'Runner': 'Runner 3', 400: 96, 800: 192, 1200: 288, 1500: 360},])"
   ]
  },
  {
   "cell_type": "markdown",
   "id": "e27f1a3c-4823-4d9f-b615-160267aca511",
   "metadata": {},
   "source": [
    "To make untidy data tidy, a common operation is to “melt” it, which is to convert it from wide form to a long form:"
   ]
  },
  {
   "cell_type": "code",
   "execution_count": 49,
   "id": "c831ad8a-475e-45f0-8aa1-5d08658bc7e6",
   "metadata": {},
   "outputs": [],
   "source": [
    "runners = pandas.melt(runners, id_vars='Runner', value_vars=[400, 800, 1200, 1500], var_name='distance', value_name='time')"
   ]
  },
  {
   "cell_type": "markdown",
   "id": "fce5d592-0ca4-46fd-912f-cbe495669374",
   "metadata": {},
   "source": [
    "sometimes you would want to create a dataframe from scratch. Also this can be done in multiple ways, for example starting with a numpy array (see [`DataFrame`](https://pandas.pydata.org/pandas-docs/stable/reference/api/pandas.DataFrame.html#pandas.DataFrame) docs):"
   ]
  },
  {
   "cell_type": "code",
   "execution_count": 51,
   "id": "7c84d0ef-71d9-4157-8ab1-747c9674c126",
   "metadata": {},
   "outputs": [],
   "source": [
    "import numpy\n",
    "dates = pandas.date_range('20130101', periods=6)\n",
    "df = pandas.DataFrame(numpy.random.rand(6, 4), index=dates, columns=list('ABCD'))"
   ]
  },
  {
   "cell_type": "markdown",
   "id": "aabaa26a-78c8-4776-ac91-4ff151ea6b75",
   "metadata": {},
   "source": [
    "or a dictionary (see same docs):"
   ]
  },
  {
   "cell_type": "code",
   "execution_count": 53,
   "id": "d6cfc593-485f-4e63-bd46-fffa3f49d71e",
   "metadata": {},
   "outputs": [],
   "source": [
    "df = pandas.DataFrame({'A': ['dog', 'cat', 'dog', 'cat', 'dog', 'cat', 'dog', 'dog'],\n",
    "                       'B': ['one', 'one', 'two', 'three', 'two', 'two', 'one', 'three'],\n",
    "                       'C': numpy.array([3] * 8, dtype='int32'),\n",
    "                       'D': numpy.random.randn(8),\n",
    "                       'E': numpy.random.randn(8)})"
   ]
  },
  {
   "cell_type": "markdown",
   "id": "5c795377-f83b-4a8a-82f8-f4d1ffa22b4f",
   "metadata": {},
   "source": [
    "We can easily split and [`concatenate`](https://pandas.pydata.org/pandas-docs/stable/reference/api/pandas.concat.html#pandas.concat) dataframes:"
   ]
  },
  {
   "cell_type": "code",
   "execution_count": 55,
   "id": "05b5c932-a6ba-4258-a7e4-5d0bf81a7e8f",
   "metadata": {},
   "outputs": [
    {
     "data": {
      "text/html": [
       "<div>\n",
       "<style scoped>\n",
       "    .dataframe tbody tr th:only-of-type {\n",
       "        vertical-align: middle;\n",
       "    }\n",
       "\n",
       "    .dataframe tbody tr th {\n",
       "        vertical-align: top;\n",
       "    }\n",
       "\n",
       "    .dataframe thead th {\n",
       "        text-align: right;\n",
       "    }\n",
       "</style>\n",
       "<table border=\"1\" class=\"dataframe\">\n",
       "  <thead>\n",
       "    <tr style=\"text-align: right;\">\n",
       "      <th></th>\n",
       "      <th>A</th>\n",
       "      <th>B</th>\n",
       "      <th>C</th>\n",
       "      <th>D</th>\n",
       "      <th>E</th>\n",
       "    </tr>\n",
       "  </thead>\n",
       "  <tbody>\n",
       "    <tr>\n",
       "      <th>0</th>\n",
       "      <td>dog</td>\n",
       "      <td>one</td>\n",
       "      <td>3</td>\n",
       "      <td>-0.122665</td>\n",
       "      <td>0.230791</td>\n",
       "    </tr>\n",
       "    <tr>\n",
       "      <th>1</th>\n",
       "      <td>cat</td>\n",
       "      <td>one</td>\n",
       "      <td>3</td>\n",
       "      <td>-0.890719</td>\n",
       "      <td>-0.224044</td>\n",
       "    </tr>\n",
       "    <tr>\n",
       "      <th>2</th>\n",
       "      <td>dog</td>\n",
       "      <td>two</td>\n",
       "      <td>3</td>\n",
       "      <td>0.634441</td>\n",
       "      <td>-1.126283</td>\n",
       "    </tr>\n",
       "    <tr>\n",
       "      <th>3</th>\n",
       "      <td>cat</td>\n",
       "      <td>three</td>\n",
       "      <td>3</td>\n",
       "      <td>-1.032300</td>\n",
       "      <td>-0.879172</td>\n",
       "    </tr>\n",
       "    <tr>\n",
       "      <th>4</th>\n",
       "      <td>dog</td>\n",
       "      <td>two</td>\n",
       "      <td>3</td>\n",
       "      <td>-0.351503</td>\n",
       "      <td>0.653489</td>\n",
       "    </tr>\n",
       "    <tr>\n",
       "      <th>5</th>\n",
       "      <td>cat</td>\n",
       "      <td>two</td>\n",
       "      <td>3</td>\n",
       "      <td>-1.092617</td>\n",
       "      <td>1.604926</td>\n",
       "    </tr>\n",
       "    <tr>\n",
       "      <th>6</th>\n",
       "      <td>dog</td>\n",
       "      <td>one</td>\n",
       "      <td>3</td>\n",
       "      <td>-0.574848</td>\n",
       "      <td>0.328897</td>\n",
       "    </tr>\n",
       "    <tr>\n",
       "      <th>7</th>\n",
       "      <td>dog</td>\n",
       "      <td>three</td>\n",
       "      <td>3</td>\n",
       "      <td>-0.623527</td>\n",
       "      <td>-1.426980</td>\n",
       "    </tr>\n",
       "  </tbody>\n",
       "</table>\n",
       "</div>"
      ],
      "text/plain": [
       "     A      B  C         D         E\n",
       "0  dog    one  3 -0.122665  0.230791\n",
       "1  cat    one  3 -0.890719 -0.224044\n",
       "2  dog    two  3  0.634441 -1.126283\n",
       "3  cat  three  3 -1.032300 -0.879172\n",
       "4  dog    two  3 -0.351503  0.653489\n",
       "5  cat    two  3 -1.092617  1.604926\n",
       "6  dog    one  3 -0.574848  0.328897\n",
       "7  dog  three  3 -0.623527 -1.426980"
      ]
     },
     "execution_count": 55,
     "metadata": {},
     "output_type": "execute_result"
    }
   ],
   "source": [
    "sub1, sub2, sub3 = df[:2], df[2:4], df[4:]\n",
    "pandas.concat([sub1, sub2, sub3])"
   ]
  },
  {
   "cell_type": "markdown",
   "id": "2511b25d-8f7f-4f0f-93cb-406cddb45290",
   "metadata": {},
   "source": [
    "When pulling data from multiple dataframes, a powerful [`pandas.DataFrame.merge`](https://pandas.pydata.org/pandas-docs/stable/reference/api/pandas.DataFrame.merge.html#pandas.DataFrame.merge) method is available that acts similarly to merging in SQL. Say we have a dataframe containing the age of some athletes:"
   ]
  },
  {
   "cell_type": "code",
   "execution_count": 56,
   "id": "f8b9bcfd-b744-4b9d-bf69-554f3a296520",
   "metadata": {},
   "outputs": [],
   "source": [
    "age = pandas.DataFrame([{\"Runner\": \"Runner 4\", \"Age\": 18},\n",
    "                        {\"Runner\": \"Runner 2\", \"Age\": 21},\n",
    "                        {\"Runner\": \"Runner 1\", \"Age\": 23},\n",
    "                        {\"Runner\": \"Runner 3\", \"Age\": 19},])"
   ]
  },
  {
   "cell_type": "markdown",
   "id": "2833f0ca-55f3-4e74-acd0-6affeea59b13",
   "metadata": {},
   "source": [
    "We now want to use this table to annotate the original `runners` table from before with their age. Note that the `runners` and `age` dataframes have a different ordering to it, and `age` has an entry for `Dave` which is not present in the `runners` table. We can let Pandas deal with all of it using the [`merge`](https://pandas.pydata.org/pandas-docs/stable/reference/api/pandas.DataFrame.merge.html#pandas.DataFrame.merge) method:"
   ]
  },
  {
   "cell_type": "code",
   "execution_count": 57,
   "id": "1025ff84-2163-41be-882d-d115b188d586",
   "metadata": {},
   "outputs": [
    {
     "data": {
      "text/html": [
       "<div>\n",
       "<style scoped>\n",
       "    .dataframe tbody tr th:only-of-type {\n",
       "        vertical-align: middle;\n",
       "    }\n",
       "\n",
       "    .dataframe tbody tr th {\n",
       "        vertical-align: top;\n",
       "    }\n",
       "\n",
       "    .dataframe thead th {\n",
       "        text-align: right;\n",
       "    }\n",
       "</style>\n",
       "<table border=\"1\" class=\"dataframe\">\n",
       "  <thead>\n",
       "    <tr style=\"text-align: right;\">\n",
       "      <th></th>\n",
       "      <th>Runner</th>\n",
       "      <th>distance</th>\n",
       "      <th>time</th>\n",
       "      <th>Age</th>\n",
       "    </tr>\n",
       "  </thead>\n",
       "  <tbody>\n",
       "    <tr>\n",
       "      <th>0</th>\n",
       "      <td>Runner 1</td>\n",
       "      <td>400</td>\n",
       "      <td>64</td>\n",
       "      <td>23</td>\n",
       "    </tr>\n",
       "    <tr>\n",
       "      <th>1</th>\n",
       "      <td>Runner 1</td>\n",
       "      <td>800</td>\n",
       "      <td>128</td>\n",
       "      <td>23</td>\n",
       "    </tr>\n",
       "    <tr>\n",
       "      <th>2</th>\n",
       "      <td>Runner 1</td>\n",
       "      <td>1200</td>\n",
       "      <td>192</td>\n",
       "      <td>23</td>\n",
       "    </tr>\n",
       "    <tr>\n",
       "      <th>3</th>\n",
       "      <td>Runner 1</td>\n",
       "      <td>1500</td>\n",
       "      <td>240</td>\n",
       "      <td>23</td>\n",
       "    </tr>\n",
       "    <tr>\n",
       "      <th>4</th>\n",
       "      <td>Runner 2</td>\n",
       "      <td>400</td>\n",
       "      <td>80</td>\n",
       "      <td>21</td>\n",
       "    </tr>\n",
       "    <tr>\n",
       "      <th>5</th>\n",
       "      <td>Runner 2</td>\n",
       "      <td>800</td>\n",
       "      <td>160</td>\n",
       "      <td>21</td>\n",
       "    </tr>\n",
       "    <tr>\n",
       "      <th>6</th>\n",
       "      <td>Runner 2</td>\n",
       "      <td>1200</td>\n",
       "      <td>240</td>\n",
       "      <td>21</td>\n",
       "    </tr>\n",
       "    <tr>\n",
       "      <th>7</th>\n",
       "      <td>Runner 2</td>\n",
       "      <td>1500</td>\n",
       "      <td>300</td>\n",
       "      <td>21</td>\n",
       "    </tr>\n",
       "    <tr>\n",
       "      <th>8</th>\n",
       "      <td>Runner 3</td>\n",
       "      <td>400</td>\n",
       "      <td>96</td>\n",
       "      <td>19</td>\n",
       "    </tr>\n",
       "    <tr>\n",
       "      <th>9</th>\n",
       "      <td>Runner 3</td>\n",
       "      <td>800</td>\n",
       "      <td>192</td>\n",
       "      <td>19</td>\n",
       "    </tr>\n",
       "    <tr>\n",
       "      <th>10</th>\n",
       "      <td>Runner 3</td>\n",
       "      <td>1200</td>\n",
       "      <td>288</td>\n",
       "      <td>19</td>\n",
       "    </tr>\n",
       "    <tr>\n",
       "      <th>11</th>\n",
       "      <td>Runner 3</td>\n",
       "      <td>1500</td>\n",
       "      <td>360</td>\n",
       "      <td>19</td>\n",
       "    </tr>\n",
       "  </tbody>\n",
       "</table>\n",
       "</div>"
      ],
      "text/plain": [
       "      Runner distance  time  Age\n",
       "0   Runner 1      400    64   23\n",
       "1   Runner 1      800   128   23\n",
       "2   Runner 1     1200   192   23\n",
       "3   Runner 1     1500   240   23\n",
       "4   Runner 2      400    80   21\n",
       "5   Runner 2      800   160   21\n",
       "6   Runner 2     1200   240   21\n",
       "7   Runner 2     1500   300   21\n",
       "8   Runner 3      400    96   19\n",
       "9   Runner 3      800   192   19\n",
       "10  Runner 3     1200   288   19\n",
       "11  Runner 3     1500   360   19"
      ]
     },
     "execution_count": 57,
     "metadata": {},
     "output_type": "execute_result"
    }
   ],
   "source": [
    "runners.merge(age, on='Runner') # Add the age for each runner"
   ]
  },
  {
   "cell_type": "markdown",
   "id": "5b68f32e-e6b1-45bc-a75f-b3656abba82c",
   "metadata": {},
   "source": [
    "[`groupby`](https://pandas.pydata.org/pandas-docs/stable/reference/api/pandas.DataFrame.groupby.html#pandas.DataFrame.groupby) is a powerful method which splits a dataframe and aggregates data in groups. To see what’s possible, let’s return to the Titanic dataset. Let’s test the old saying “Women and children first”. We start by creating a new column `Child` to indicate whether a passenger was a child or not, based on the existing `Age` column. For this example, let’s assume that you are a child when you are younger than 12 years:"
   ]
  },
  {
   "cell_type": "code",
   "execution_count": 58,
   "id": "be7f3d61-8b43-4a36-a8ce-6aa25f58ec33",
   "metadata": {},
   "outputs": [],
   "source": [
    "titanic['Child'] = titanic['Age'] < 12"
   ]
  },
  {
   "cell_type": "markdown",
   "id": "9a21fa91-f708-451a-85c3-8fb2dedee0d1",
   "metadata": {},
   "source": [
    "Now we can test the saying by grouping the data on `Sex` and then creating further sub-groups based on `Child`:"
   ]
  },
  {
   "cell_type": "code",
   "execution_count": 59,
   "id": "de446f77-96ba-4229-8519-4af9bf1e3b4b",
   "metadata": {},
   "outputs": [
    {
     "data": {
      "text/plain": [
       "Sex     Child\n",
       "female  False    0.758865\n",
       "        True     0.593750\n",
       "male    False    0.164510\n",
       "        True     0.555556\n",
       "Name: Survived, dtype: float64"
      ]
     },
     "execution_count": 59,
     "metadata": {},
     "output_type": "execute_result"
    }
   ],
   "source": [
    "titanic.groupby(['Sex', 'Child'])['Survived'].mean()"
   ]
  },
  {
   "cell_type": "markdown",
   "id": "b279bdfb-cdf6-4872-bb8e-8fd67d22c245",
   "metadata": {},
   "source": [
    "In the Titanic passenger list dataset, investigate the family size of the passengers (i.e. the “SibSp” column).\n",
    "\n",
    "- What different family sizes exist in the passenger list? Hint: try the [`unique()`](https://pandas.pydata.org/pandas-docs/stable/reference/api/pandas.Series.unique.html#pandas.Series.unique) method"
   ]
  },
  {
   "cell_type": "code",
   "execution_count": 61,
   "id": "42091df6-a3bf-4ad4-bcdc-78ebfe9047d5",
   "metadata": {},
   "outputs": [
    {
     "data": {
      "text/plain": [
       "array([1, 0, 3, 4, 2, 5, 8])"
      ]
     },
     "execution_count": 61,
     "metadata": {},
     "output_type": "execute_result"
    }
   ],
   "source": [
    "titanic['SibSp'].unique()"
   ]
  },
  {
   "cell_type": "markdown",
   "id": "c4c85b1b-78b2-4a3f-8e95-9d5925a9910f",
   "metadata": {},
   "source": [
    "- What are the names of the people in the largest family group?"
   ]
  },
  {
   "cell_type": "code",
   "execution_count": 62,
   "id": "6c9861eb-f175-4e30-9033-857e7ede30ed",
   "metadata": {},
   "outputs": [
    {
     "data": {
      "text/plain": [
       "Index(['Sage, Master. Thomas Henry', 'Sage, Miss. Constance Gladys',\n",
       "       'Sage, Mr. Frederick', 'Sage, Mr. George John Jr',\n",
       "       'Sage, Miss. Stella Anna', 'Sage, Mr. Douglas Bullen',\n",
       "       'Sage, Miss. Dorothy Edith \"Dolly\"'],\n",
       "      dtype='object', name='Name')"
      ]
     },
     "execution_count": 62,
     "metadata": {},
     "output_type": "execute_result"
    }
   ],
   "source": [
    "titanic[titanic['SibSp'] == 8].index"
   ]
  },
  {
   "cell_type": "markdown",
   "id": "99cfb5b8-8b36-46b5-a323-465642b33726",
   "metadata": {},
   "source": [
    "- Create histograms showing the distribution of family sizes for passengers split by the fare, i.e. one group of high-fare passengers (where the fare is above average) and one for low-fare passengers (Hint: instead of an existing column name, you can give a lambda function as a parameter to [`hist()`](https://pandas.pydata.org/pandas-docs/stable/reference/api/pandas.DataFrame.hist.html#pandas.DataFrame.hist) to compute a value on the fly. For example `lambda x: \"Poor\" if df[\"Fare\"].loc[x] < df[\"Fare\"].mean() else \"Rich\"`)."
   ]
  },
  {
   "cell_type": "code",
   "execution_count": 64,
   "id": "4c42eeec-3f77-4372-85ff-e6403118f2de",
   "metadata": {},
   "outputs": [
    {
     "data": {
      "image/png": "[encoded data removed]",
      "text/plain": [
       "<Figure size 640x480 with 2 Axes>"
      ]
     },
     "metadata": {},
     "output_type": "display_data"
    }
   ],
   "source": [
    "titanic.hist('SibSp', lambda x: \"Poor\" if titanic[\"Fare\"].loc[x] < titanic[\"Fare\"].mean() else \"Rich\", rwidth = 0.9);"
   ]
  },
  {
   "cell_type": "markdown",
   "id": "5465f5e2-26fe-4bf8-9ea3-7f06f98beb87",
   "metadata": {},
   "source": [
    "An introduction of pandas wouldn’t be complete without mention of its special abilities to handle time series. To show just a few examples, we will use a new dataset of Nobel prize laureates available through an API of the Nobel prize organisation at https://api.nobelprize.org/v1/laureate.csv ."
   ]
  },
  {
   "cell_type": "code",
   "execution_count": 1,
   "id": "265a1245-98ee-45a1-bde3-35f4b14c39b9",
   "metadata": {},
   "outputs": [
    {
     "data": {
      "text/html": [
       "<div>\n",
       "<style scoped>\n",
       "    .dataframe tbody tr th:only-of-type {\n",
       "        vertical-align: middle;\n",
       "    }\n",
       "\n",
       "    .dataframe tbody tr th {\n",
       "        vertical-align: top;\n",
       "    }\n",
       "\n",
       "    .dataframe thead th {\n",
       "        text-align: right;\n",
       "    }\n",
       "</style>\n",
       "<table border=\"1\" class=\"dataframe\">\n",
       "  <thead>\n",
       "    <tr style=\"text-align: right;\">\n",
       "      <th></th>\n",
       "      <th>id</th>\n",
       "      <th>firstname</th>\n",
       "      <th>surname</th>\n",
       "      <th>born</th>\n",
       "      <th>died</th>\n",
       "      <th>bornCountry</th>\n",
       "      <th>bornCountryCode</th>\n",
       "      <th>bornCity</th>\n",
       "      <th>diedCountry</th>\n",
       "      <th>diedCountryCode</th>\n",
       "      <th>diedCity</th>\n",
       "      <th>gender</th>\n",
       "      <th>year</th>\n",
       "      <th>category</th>\n",
       "      <th>overallMotivation</th>\n",
       "      <th>share</th>\n",
       "      <th>motivation</th>\n",
       "      <th>name</th>\n",
       "      <th>city</th>\n",
       "      <th>country</th>\n",
       "    </tr>\n",
       "  </thead>\n",
       "  <tbody>\n",
       "    <tr>\n",
       "      <th>0</th>\n",
       "      <td>1</td>\n",
       "      <td>Wilhelm Conrad</td>\n",
       "      <td>Röntgen</td>\n",
       "      <td>1845-03-27</td>\n",
       "      <td>1923-02-10</td>\n",
       "      <td>Prussia (now Germany)</td>\n",
       "      <td>DE</td>\n",
       "      <td>Lennep (now Remscheid)</td>\n",
       "      <td>Germany</td>\n",
       "      <td>DE</td>\n",
       "      <td>Munich</td>\n",
       "      <td>male</td>\n",
       "      <td>1901</td>\n",
       "      <td>physics</td>\n",
       "      <td>NaN</td>\n",
       "      <td>1</td>\n",
       "      <td>\"in recognition of the extraordinary services ...</td>\n",
       "      <td>Munich University</td>\n",
       "      <td>Munich</td>\n",
       "      <td>Germany</td>\n",
       "    </tr>\n",
       "    <tr>\n",
       "      <th>1</th>\n",
       "      <td>2</td>\n",
       "      <td>Hendrik A.</td>\n",
       "      <td>Lorentz</td>\n",
       "      <td>1853-07-18</td>\n",
       "      <td>1928-02-04</td>\n",
       "      <td>the Netherlands</td>\n",
       "      <td>NL</td>\n",
       "      <td>Arnhem</td>\n",
       "      <td>the Netherlands</td>\n",
       "      <td>NL</td>\n",
       "      <td>NaN</td>\n",
       "      <td>male</td>\n",
       "      <td>1902</td>\n",
       "      <td>physics</td>\n",
       "      <td>NaN</td>\n",
       "      <td>2</td>\n",
       "      <td>\"in recognition of the extraordinary service t...</td>\n",
       "      <td>Leiden University</td>\n",
       "      <td>Leiden</td>\n",
       "      <td>the Netherlands</td>\n",
       "    </tr>\n",
       "    <tr>\n",
       "      <th>2</th>\n",
       "      <td>3</td>\n",
       "      <td>Pieter</td>\n",
       "      <td>Zeeman</td>\n",
       "      <td>1865-05-25</td>\n",
       "      <td>1943-10-09</td>\n",
       "      <td>the Netherlands</td>\n",
       "      <td>NL</td>\n",
       "      <td>Zonnemaire</td>\n",
       "      <td>the Netherlands</td>\n",
       "      <td>NL</td>\n",
       "      <td>Amsterdam</td>\n",
       "      <td>male</td>\n",
       "      <td>1902</td>\n",
       "      <td>physics</td>\n",
       "      <td>NaN</td>\n",
       "      <td>2</td>\n",
       "      <td>\"in recognition of the extraordinary service t...</td>\n",
       "      <td>Amsterdam University</td>\n",
       "      <td>Amsterdam</td>\n",
       "      <td>the Netherlands</td>\n",
       "    </tr>\n",
       "    <tr>\n",
       "      <th>3</th>\n",
       "      <td>4</td>\n",
       "      <td>Henri</td>\n",
       "      <td>Becquerel</td>\n",
       "      <td>1852-12-15</td>\n",
       "      <td>1908-08-25</td>\n",
       "      <td>France</td>\n",
       "      <td>FR</td>\n",
       "      <td>Paris</td>\n",
       "      <td>France</td>\n",
       "      <td>FR</td>\n",
       "      <td>NaN</td>\n",
       "      <td>male</td>\n",
       "      <td>1903</td>\n",
       "      <td>physics</td>\n",
       "      <td>NaN</td>\n",
       "      <td>2</td>\n",
       "      <td>\"in recognition of the extraordinary services ...</td>\n",
       "      <td>École Polytechnique</td>\n",
       "      <td>Paris</td>\n",
       "      <td>France</td>\n",
       "    </tr>\n",
       "    <tr>\n",
       "      <th>4</th>\n",
       "      <td>5</td>\n",
       "      <td>Pierre</td>\n",
       "      <td>Curie</td>\n",
       "      <td>1859-05-15</td>\n",
       "      <td>1906-04-19</td>\n",
       "      <td>France</td>\n",
       "      <td>FR</td>\n",
       "      <td>Paris</td>\n",
       "      <td>France</td>\n",
       "      <td>FR</td>\n",
       "      <td>Paris</td>\n",
       "      <td>male</td>\n",
       "      <td>1903</td>\n",
       "      <td>physics</td>\n",
       "      <td>NaN</td>\n",
       "      <td>4</td>\n",
       "      <td>\"in recognition of the extraordinary services ...</td>\n",
       "      <td>École municipale de physique et de chimie indu...</td>\n",
       "      <td>Paris</td>\n",
       "      <td>France</td>\n",
       "    </tr>\n",
       "  </tbody>\n",
       "</table>\n",
       "</div>"
      ],
      "text/plain": [
       "   id       firstname    surname        born        died  \\\n",
       "0   1  Wilhelm Conrad    Röntgen  1845-03-27  1923-02-10   \n",
       "1   2      Hendrik A.    Lorentz  1853-07-18  1928-02-04   \n",
       "2   3          Pieter     Zeeman  1865-05-25  1943-10-09   \n",
       "3   4           Henri  Becquerel  1852-12-15  1908-08-25   \n",
       "4   5          Pierre      Curie  1859-05-15  1906-04-19   \n",
       "\n",
       "             bornCountry bornCountryCode                bornCity  \\\n",
       "0  Prussia (now Germany)              DE  Lennep (now Remscheid)   \n",
       "1        the Netherlands              NL                  Arnhem   \n",
       "2        the Netherlands              NL              Zonnemaire   \n",
       "3                 France              FR                   Paris   \n",
       "4                 France              FR                   Paris   \n",
       "\n",
       "       diedCountry diedCountryCode   diedCity gender  year category  \\\n",
       "0          Germany              DE     Munich   male  1901  physics   \n",
       "1  the Netherlands              NL        NaN   male  1902  physics   \n",
       "2  the Netherlands              NL  Amsterdam   male  1902  physics   \n",
       "3           France              FR        NaN   male  1903  physics   \n",
       "4           France              FR      Paris   male  1903  physics   \n",
       "\n",
       "  overallMotivation  share                                         motivation  \\\n",
       "0               NaN      1  \"in recognition of the extraordinary services ...   \n",
       "1               NaN      2  \"in recognition of the extraordinary service t...   \n",
       "2               NaN      2  \"in recognition of the extraordinary service t...   \n",
       "3               NaN      2  \"in recognition of the extraordinary services ...   \n",
       "4               NaN      4  \"in recognition of the extraordinary services ...   \n",
       "\n",
       "                                                name       city  \\\n",
       "0                                  Munich University     Munich   \n",
       "1                                  Leiden University     Leiden   \n",
       "2                               Amsterdam University  Amsterdam   \n",
       "3                                École Polytechnique      Paris   \n",
       "4  École municipale de physique et de chimie indu...      Paris   \n",
       "\n",
       "           country  \n",
       "0          Germany  \n",
       "1  the Netherlands  \n",
       "2  the Netherlands  \n",
       "3           France  \n",
       "4           France  "
      ]
     },
     "execution_count": 1,
     "metadata": {},
     "output_type": "execute_result"
    }
   ],
   "source": [
    "import pandas\n",
    "nobel = pandas.read_csv('laureate.csv')\n",
    "nobel.head()"
   ]
  },
  {
   "cell_type": "markdown",
   "id": "293daa51-e2ee-4b0a-a9c2-2a5fac602bee",
   "metadata": {},
   "source": [
    "This dataset has three columns for time, “born”/”died” and “year”. These are represented as strings and integers, respectively, and need to be converted to datetime format. [`pandas.to_datetime()`](https://pandas.pydata.org/pandas-docs/stable/reference/api/pandas.to_datetime.html#pandas.to_datetime) makes this easy:"
   ]
  },
  {
   "cell_type": "code",
   "execution_count": 69,
   "id": "41491dc6-4dc2-4ec7-b747-76d372193713",
   "metadata": {},
   "outputs": [],
   "source": [
    "# the errors='coerce' argument is needed because the dataset is a bit messy\n",
    "nobel['born'] = pandas.to_datetime(nobel['born'], errors='coerce')\n",
    "nobel['died'] = pandas.to_datetime(nobel['died'], errors='coerce')\n",
    "nobel['year'] = pandas.to_datetime(nobel['year'], format='%Y')"
   ]
  },
  {
   "cell_type": "markdown",
   "id": "f2face89-4bd5-419c-89b9-713e402698a0",
   "metadata": {},
   "source": [
    "Pandas knows a lot about dates (using [`dt`](https://pandas.pydata.org/pandas-docs/stable/reference/api/pandas.Series.dt.html#pandas.Series.dt)):"
   ]
  },
  {
   "cell_type": "code",
   "execution_count": 70,
   "id": "6bf279f3-1f75-4f47-8225-96952a3e5c5e",
   "metadata": {},
   "outputs": [
    {
     "name": "stdout",
     "output_type": "stream",
     "text": [
      "0      27.0\n",
      "1      18.0\n",
      "2      25.0\n",
      "3      15.0\n",
      "4      15.0\n",
      "       ... \n",
      "984     NaN\n",
      "985     NaN\n",
      "986    13.0\n",
      "987     NaN\n",
      "988    22.0\n",
      "Name: born, Length: 989, dtype: float64\n"
     ]
    }
   ],
   "source": [
    "print(nobel['born'].dt.day)"
   ]
  },
  {
   "cell_type": "code",
   "execution_count": 71,
   "id": "569c42e7-fc0d-439f-aafa-177197b6a7dc",
   "metadata": {},
   "outputs": [
    {
     "name": "stdout",
     "output_type": "stream",
     "text": [
      "0      1845.0\n",
      "1      1853.0\n",
      "2      1865.0\n",
      "3      1852.0\n",
      "4      1859.0\n",
      "        ...  \n",
      "984       NaN\n",
      "985       NaN\n",
      "986    1953.0\n",
      "987       NaN\n",
      "988    1955.0\n",
      "Name: born, Length: 989, dtype: float64\n"
     ]
    }
   ],
   "source": [
    "print(nobel['born'].dt.year)"
   ]
  },
  {
   "cell_type": "code",
   "execution_count": 72,
   "id": "b028c772-42a3-4f54-8e19-74dd8bcb882f",
   "metadata": {},
   "outputs": [
    {
     "name": "stdout",
     "output_type": "stream",
     "text": [
      "0      3.0\n",
      "1      0.0\n",
      "2      3.0\n",
      "3      2.0\n",
      "4      6.0\n",
      "      ... \n",
      "984    NaN\n",
      "985    NaN\n",
      "986    6.0\n",
      "987    NaN\n",
      "988    6.0\n",
      "Name: born, Length: 989, dtype: float64\n"
     ]
    }
   ],
   "source": [
    "print(nobel['born'].dt.weekday)"
   ]
  },
  {
   "cell_type": "markdown",
   "id": "9665447e-c97a-408a-8abf-db09020166d6",
   "metadata": {},
   "source": [
    "We can add a column containing the (approximate) lifespan in years rounded to one decimal:"
   ]
  },
  {
   "cell_type": "code",
   "execution_count": 73,
   "id": "a1c8a7b2-6ae8-4bf9-8a50-135d0d5c298b",
   "metadata": {},
   "outputs": [],
   "source": [
    "nobel['lifespan'] = round((nobel['died'] - nobel['born']).dt.days / 365, 1)"
   ]
  },
  {
   "cell_type": "markdown",
   "id": "246e8eaf-4167-4ed7-88ba-bd56fe554d2d",
   "metadata": {},
   "source": [
    "and then plot a [`histogram`](https://pandas.pydata.org/pandas-docs/stable/reference/api/pandas.DataFrame.hist.html#pandas.DataFrame.hist) of lifespans:"
   ]
  },
  {
   "cell_type": "code",
   "execution_count": 76,
   "id": "8470f229-c76e-411e-9422-35c5a58ba4f4",
   "metadata": {},
   "outputs": [
    {
     "data": {
      "image/png": "[encoded data removed]",
      "text/plain": [
       "<Figure size 800x1000 with 1 Axes>"
      ]
     },
     "metadata": {},
     "output_type": "display_data"
    }
   ],
   "source": [
    "nobel.hist(column='lifespan', bins=25, figsize=(8, 10), rwidth=0.9);"
   ]
  },
  {
   "cell_type": "markdown",
   "id": "0ec7e65e-3423-419b-b97a-0a16d20e77ab",
   "metadata": {},
   "source": [
    "Finally, let’s see one more example of an informative plot ([`boxplot()`](https://pandas.pydata.org/pandas-docs/stable/reference/api/pandas.DataFrame.boxplot.html#pandas.DataFrame.boxplot)) produced by a single line of code:"
   ]
  },
  {
   "cell_type": "code",
   "execution_count": 78,
   "id": "424a21df-6e5d-473f-8e55-ef0ee2d04f60",
   "metadata": {},
   "outputs": [
    {
     "data": {
      "image/png": "[encoded data removed]",
      "text/plain": [
       "<Figure size 640x480 with 1 Axes>"
      ]
     },
     "metadata": {},
     "output_type": "display_data"
    }
   ],
   "source": [
    "nobel.boxplot(column='lifespan', by='category');"
   ]
  },
  {
   "cell_type": "markdown",
   "id": "cac442d9-37c2-49be-aeab-b86e79b0cd76",
   "metadata": {},
   "source": [
    "What country has received the largest number of Nobel prizes, and how many? How many countries are represented in the dataset? Hint: use the [`describe`](https://pandas.pydata.org/pandas-docs/stable/reference/api/pandas.Series.describe.html#pandas.Series.describe) method on the `bornCountryCode` column."
   ]
  },
  {
   "cell_type": "code",
   "execution_count": 4,
   "id": "14d77c29-2811-4443-9393-11b8725256c0",
   "metadata": {},
   "outputs": [
    {
     "data": {
      "text/plain": [
       "count     956\n",
       "unique     81\n",
       "top        US\n",
       "freq      287\n",
       "Name: bornCountryCode, dtype: object"
      ]
     },
     "execution_count": 4,
     "metadata": {},
     "output_type": "execute_result"
    }
   ],
   "source": [
    "nobel.bornCountryCode.describe()"
   ]
  },
  {
   "cell_type": "markdown",
   "id": "28c0d0a4-934c-4429-8577-2704ef260db3",
   "metadata": {},
   "source": [
    "Create a histogram of the age when the laureates received their Nobel prizes. Hint: follow the above steps we performed for the lifespan."
   ]
  },
  {
   "cell_type": "code",
   "execution_count": 8,
   "id": "01436d79-e5f9-42fa-81ee-c5ff2b17b43d",
   "metadata": {},
   "outputs": [
    {
     "data": {
      "text/plain": [
       "array([[<AxesSubplot:title={'center':'age_nobel'}>]], dtype=object)"
      ]
     },
     "execution_count": 8,
     "metadata": {},
     "output_type": "execute_result"
    },
    {
     "data": {
      "image/png": "[encoded data removed]",
      "text/plain": [
       "<Figure size 800x1000 with 1 Axes>"
      ]
     },
     "metadata": {},
     "output_type": "display_data"
    }
   ],
   "source": [
    "nobel['born'] = pandas.to_datetime(nobel['born'], errors='coerce')\n",
    "nobel['year'] = pandas.to_datetime(nobel['year'], format='%Y')\n",
    "nobel['age_nobel'] = round((nobel['year'] - nobel['born']).dt.days / 365, 1)\n",
    "nobel.hist(column='age_nobel', bins=25, figsize=(8, 10), rwidth=0.9)"
   ]
  },
  {
   "cell_type": "markdown",
   "id": "3fe211fd-b478-4c43-b3ef-11fde86a330b",
   "metadata": {},
   "source": [
    "List all the Nobel laureates from your country."
   ]
  },
  {
   "cell_type": "code",
   "execution_count": 11,
   "id": "877581ce-6b85-4447-94e3-9e4364501ffe",
   "metadata": {},
   "outputs": [
    {
     "data": {
      "text/html": [
       "<div>\n",
       "<style scoped>\n",
       "    .dataframe tbody tr th:only-of-type {\n",
       "        vertical-align: middle;\n",
       "    }\n",
       "\n",
       "    .dataframe tbody tr th {\n",
       "        vertical-align: top;\n",
       "    }\n",
       "\n",
       "    .dataframe thead th {\n",
       "        text-align: right;\n",
       "    }\n",
       "</style>\n",
       "<table border=\"1\" class=\"dataframe\">\n",
       "  <thead>\n",
       "    <tr style=\"text-align: right;\">\n",
       "      <th></th>\n",
       "      <th>firstname</th>\n",
       "      <th>surname</th>\n",
       "    </tr>\n",
       "  </thead>\n",
       "  <tbody>\n",
       "    <tr>\n",
       "      <th>16</th>\n",
       "      <td>Gustaf</td>\n",
       "      <td>Dalén</td>\n",
       "    </tr>\n",
       "    <tr>\n",
       "      <th>28</th>\n",
       "      <td>Manne</td>\n",
       "      <td>Siegbahn</td>\n",
       "    </tr>\n",
       "    <tr>\n",
       "      <th>91</th>\n",
       "      <td>Hannes</td>\n",
       "      <td>Alfvén</td>\n",
       "    </tr>\n",
       "    <tr>\n",
       "      <th>119</th>\n",
       "      <td>Kai M.</td>\n",
       "      <td>Siegbahn</td>\n",
       "    </tr>\n",
       "    <tr>\n",
       "      <th>161</th>\n",
       "      <td>Svante</td>\n",
       "      <td>Arrhenius</td>\n",
       "    </tr>\n",
       "    <tr>\n",
       "      <th>180</th>\n",
       "      <td>The</td>\n",
       "      <td>Svedberg</td>\n",
       "    </tr>\n",
       "    <tr>\n",
       "      <th>184</th>\n",
       "      <td>Hans</td>\n",
       "      <td>von Euler-Chelpin</td>\n",
       "    </tr>\n",
       "    <tr>\n",
       "      <th>198</th>\n",
       "      <td>George</td>\n",
       "      <td>de Hevesy</td>\n",
       "    </tr>\n",
       "    <tr>\n",
       "      <th>205</th>\n",
       "      <td>Arne</td>\n",
       "      <td>Tiselius</td>\n",
       "    </tr>\n",
       "    <tr>\n",
       "      <th>303</th>\n",
       "      <td>Allvar</td>\n",
       "      <td>Gullstrand</td>\n",
       "    </tr>\n",
       "    <tr>\n",
       "      <th>357</th>\n",
       "      <td>Hugo</td>\n",
       "      <td>Theorell</td>\n",
       "    </tr>\n",
       "    <tr>\n",
       "      <th>383</th>\n",
       "      <td>Ragnar</td>\n",
       "      <td>Granit</td>\n",
       "    </tr>\n",
       "    <tr>\n",
       "      <th>393</th>\n",
       "      <td>Ulf</td>\n",
       "      <td>von Euler</td>\n",
       "    </tr>\n",
       "    <tr>\n",
       "      <th>423</th>\n",
       "      <td>Sune K.</td>\n",
       "      <td>Bergström</td>\n",
       "    </tr>\n",
       "    <tr>\n",
       "      <th>424</th>\n",
       "      <td>Bengt I.</td>\n",
       "      <td>Samuelsson</td>\n",
       "    </tr>\n",
       "    <tr>\n",
       "      <th>673</th>\n",
       "      <td>Bertil</td>\n",
       "      <td>Ohlin</td>\n",
       "    </tr>\n",
       "    <tr>\n",
       "      <th>706</th>\n",
       "      <td>Arvid</td>\n",
       "      <td>Carlsson</td>\n",
       "    </tr>\n",
       "  </tbody>\n",
       "</table>\n",
       "</div>"
      ],
      "text/plain": [
       "    firstname            surname\n",
       "16     Gustaf              Dalén\n",
       "28      Manne           Siegbahn\n",
       "91     Hannes             Alfvén\n",
       "119    Kai M.           Siegbahn\n",
       "161    Svante          Arrhenius\n",
       "180       The           Svedberg\n",
       "184      Hans  von Euler-Chelpin\n",
       "198    George          de Hevesy\n",
       "205      Arne           Tiselius\n",
       "303    Allvar         Gullstrand\n",
       "357      Hugo           Theorell\n",
       "383    Ragnar             Granit\n",
       "393       Ulf          von Euler\n",
       "423   Sune K.          Bergström\n",
       "424  Bengt I.         Samuelsson\n",
       "673    Bertil              Ohlin\n",
       "706     Arvid           Carlsson"
      ]
     },
     "execution_count": 11,
     "metadata": {},
     "output_type": "execute_result"
    }
   ],
   "source": [
    "nobel[nobel['country'] == 'Sweden'].loc[:, 'firstname' : 'surname']"
   ]
  },
  {
   "cell_type": "markdown",
   "id": "11fd7e13-1eb5-41a2-8561-c263aa1e9fd2",
   "metadata": {},
   "source": [
    "Now define an array of 4 countries of your choice and extract only laureates from these countries:"
   ]
  },
  {
   "cell_type": "code",
   "execution_count": 19,
   "id": "abe456ec-c2e7-4410-be2e-4f229dfcaffe",
   "metadata": {},
   "outputs": [
    {
     "data": {
      "text/html": [
       "<div>\n",
       "<style scoped>\n",
       "    .dataframe tbody tr th:only-of-type {\n",
       "        vertical-align: middle;\n",
       "    }\n",
       "\n",
       "    .dataframe tbody tr th {\n",
       "        vertical-align: top;\n",
       "    }\n",
       "\n",
       "    .dataframe thead th {\n",
       "        text-align: right;\n",
       "    }\n",
       "</style>\n",
       "<table border=\"1\" class=\"dataframe\">\n",
       "  <thead>\n",
       "    <tr style=\"text-align: right;\">\n",
       "      <th></th>\n",
       "      <th>id</th>\n",
       "      <th>firstname</th>\n",
       "      <th>surname</th>\n",
       "      <th>born</th>\n",
       "      <th>died</th>\n",
       "      <th>bornCountry</th>\n",
       "      <th>bornCountryCode</th>\n",
       "      <th>bornCity</th>\n",
       "      <th>diedCountry</th>\n",
       "      <th>diedCountryCode</th>\n",
       "      <th>...</th>\n",
       "      <th>gender</th>\n",
       "      <th>year</th>\n",
       "      <th>category</th>\n",
       "      <th>overallMotivation</th>\n",
       "      <th>share</th>\n",
       "      <th>motivation</th>\n",
       "      <th>name</th>\n",
       "      <th>city</th>\n",
       "      <th>country</th>\n",
       "      <th>age_nobel</th>\n",
       "    </tr>\n",
       "  </thead>\n",
       "  <tbody>\n",
       "    <tr>\n",
       "      <th>879</th>\n",
       "      <td>905</td>\n",
       "      <td>Edvard I.</td>\n",
       "      <td>Moser</td>\n",
       "      <td>1962-04-27</td>\n",
       "      <td>0000-00-00</td>\n",
       "      <td>Norway</td>\n",
       "      <td>NO</td>\n",
       "      <td>Ålesund</td>\n",
       "      <td>NaN</td>\n",
       "      <td>NaN</td>\n",
       "      <td>...</td>\n",
       "      <td>male</td>\n",
       "      <td>2014-01-01</td>\n",
       "      <td>medicine</td>\n",
       "      <td>NaN</td>\n",
       "      <td>4</td>\n",
       "      <td>\"for their discoveries of cells that constitut...</td>\n",
       "      <td>Norwegian University of Science and Technology...</td>\n",
       "      <td>Trondheim</td>\n",
       "      <td>Norway</td>\n",
       "      <td>51.7</td>\n",
       "    </tr>\n",
       "    <tr>\n",
       "      <th>895</th>\n",
       "      <td>921</td>\n",
       "      <td>Tomas</td>\n",
       "      <td>Lindahl</td>\n",
       "      <td>1938-01-28</td>\n",
       "      <td>0000-00-00</td>\n",
       "      <td>Sweden</td>\n",
       "      <td>SE</td>\n",
       "      <td>Stockholm</td>\n",
       "      <td>NaN</td>\n",
       "      <td>NaN</td>\n",
       "      <td>...</td>\n",
       "      <td>male</td>\n",
       "      <td>2015-01-01</td>\n",
       "      <td>chemistry</td>\n",
       "      <td>NaN</td>\n",
       "      <td>3</td>\n",
       "      <td>\"for mechanistic studies of DNA repair\"</td>\n",
       "      <td>Francis Crick Institute</td>\n",
       "      <td>Hertfordshire</td>\n",
       "      <td>United Kingdom</td>\n",
       "      <td>77.0</td>\n",
       "    </tr>\n",
       "    <tr>\n",
       "      <th>910</th>\n",
       "      <td>936</td>\n",
       "      <td>Bengt</td>\n",
       "      <td>Holmström</td>\n",
       "      <td>1949-04-18</td>\n",
       "      <td>0000-00-00</td>\n",
       "      <td>Finland</td>\n",
       "      <td>FI</td>\n",
       "      <td>Helsinki</td>\n",
       "      <td>NaN</td>\n",
       "      <td>NaN</td>\n",
       "      <td>...</td>\n",
       "      <td>male</td>\n",
       "      <td>2016-01-01</td>\n",
       "      <td>economics</td>\n",
       "      <td>NaN</td>\n",
       "      <td>2</td>\n",
       "      <td>\"for their contributions to contract theory\"</td>\n",
       "      <td>Massachusetts Institute of Technology (MIT)</td>\n",
       "      <td>Cambridge MA</td>\n",
       "      <td>USA</td>\n",
       "      <td>66.8</td>\n",
       "    </tr>\n",
       "    <tr>\n",
       "      <th>976</th>\n",
       "      <td>1011</td>\n",
       "      <td>Svante</td>\n",
       "      <td>Pääbo</td>\n",
       "      <td>1955-04-20</td>\n",
       "      <td>0000-00-00</td>\n",
       "      <td>Sweden</td>\n",
       "      <td>SE</td>\n",
       "      <td>Stockholm</td>\n",
       "      <td>NaN</td>\n",
       "      <td>NaN</td>\n",
       "      <td>...</td>\n",
       "      <td>male</td>\n",
       "      <td>2022-01-01</td>\n",
       "      <td>medicine</td>\n",
       "      <td>NaN</td>\n",
       "      <td>1</td>\n",
       "      <td>\"for his discoveries concerning the genomes of...</td>\n",
       "      <td>Max Planck Institute for Evolutionary Anthropo...</td>\n",
       "      <td>Leipzig</td>\n",
       "      <td>Germany</td>\n",
       "      <td>66.7</td>\n",
       "    </tr>\n",
       "    <tr>\n",
       "      <th>981</th>\n",
       "      <td>1016</td>\n",
       "      <td>Morten</td>\n",
       "      <td>Meldal</td>\n",
       "      <td>NaT</td>\n",
       "      <td>0000-00-00</td>\n",
       "      <td>Denmark</td>\n",
       "      <td>DK</td>\n",
       "      <td>NaN</td>\n",
       "      <td>NaN</td>\n",
       "      <td>NaN</td>\n",
       "      <td>...</td>\n",
       "      <td>male</td>\n",
       "      <td>2022-01-01</td>\n",
       "      <td>chemistry</td>\n",
       "      <td>NaN</td>\n",
       "      <td>3</td>\n",
       "      <td>\"for the development of click chemistry and bi...</td>\n",
       "      <td>University of Copenhagen</td>\n",
       "      <td>Copenhagen</td>\n",
       "      <td>Denmark</td>\n",
       "      <td>NaN</td>\n",
       "    </tr>\n",
       "  </tbody>\n",
       "</table>\n",
       "<p>5 rows × 21 columns</p>\n",
       "</div>"
      ],
      "text/plain": [
       "       id  firstname    surname       born        died bornCountry  \\\n",
       "879   905  Edvard I.      Moser 1962-04-27  0000-00-00      Norway   \n",
       "895   921      Tomas    Lindahl 1938-01-28  0000-00-00      Sweden   \n",
       "910   936      Bengt  Holmström 1949-04-18  0000-00-00     Finland   \n",
       "976  1011     Svante      Pääbo 1955-04-20  0000-00-00      Sweden   \n",
       "981  1016     Morten     Meldal        NaT  0000-00-00     Denmark   \n",
       "\n",
       "    bornCountryCode   bornCity diedCountry diedCountryCode  ... gender  \\\n",
       "879              NO    Ålesund         NaN             NaN  ...   male   \n",
       "895              SE  Stockholm         NaN             NaN  ...   male   \n",
       "910              FI   Helsinki         NaN             NaN  ...   male   \n",
       "976              SE  Stockholm         NaN             NaN  ...   male   \n",
       "981              DK        NaN         NaN             NaN  ...   male   \n",
       "\n",
       "          year   category overallMotivation share  \\\n",
       "879 2014-01-01   medicine               NaN     4   \n",
       "895 2015-01-01  chemistry               NaN     3   \n",
       "910 2016-01-01  economics               NaN     2   \n",
       "976 2022-01-01   medicine               NaN     1   \n",
       "981 2022-01-01  chemistry               NaN     3   \n",
       "\n",
       "                                            motivation  \\\n",
       "879  \"for their discoveries of cells that constitut...   \n",
       "895            \"for mechanistic studies of DNA repair\"   \n",
       "910       \"for their contributions to contract theory\"   \n",
       "976  \"for his discoveries concerning the genomes of...   \n",
       "981  \"for the development of click chemistry and bi...   \n",
       "\n",
       "                                                  name           city  \\\n",
       "879  Norwegian University of Science and Technology...      Trondheim   \n",
       "895                            Francis Crick Institute  Hertfordshire   \n",
       "910        Massachusetts Institute of Technology (MIT)   Cambridge MA   \n",
       "976  Max Planck Institute for Evolutionary Anthropo...        Leipzig   \n",
       "981                           University of Copenhagen     Copenhagen   \n",
       "\n",
       "            country age_nobel  \n",
       "879          Norway      51.7  \n",
       "895  United Kingdom      77.0  \n",
       "910             USA      66.8  \n",
       "976         Germany      66.7  \n",
       "981         Denmark       NaN  \n",
       "\n",
       "[5 rows x 21 columns]"
      ]
     },
     "execution_count": 19,
     "metadata": {},
     "output_type": "execute_result"
    }
   ],
   "source": [
    "import numpy\n",
    "countries = numpy.array(['Sweden', 'Denmark', 'Finland', 'Norway'])\n",
    "subset = nobel.loc[nobel['bornCountry'].isin(countries)]\n",
    "subset.tail()"
   ]
  },
  {
   "cell_type": "markdown",
   "id": "4f06c176-8098-455a-bd08-9f02a736ff8f",
   "metadata": {},
   "source": [
    "Use [`groupby()`](https://pandas.pydata.org/pandas-docs/stable/reference/api/pandas.DataFrame.groupby.html#pandas.DataFrame.groupby) to compute how many nobel prizes each country received in each category. The [`size()`](https://pandas.pydata.org/pandas-docs/stable/reference/api/pandas.core.groupby.GroupBy.size.html#pandas.core.groupby.GroupBy.size) method tells us how many rows, hence nobel prizes, are in each group:"
   ]
  },
  {
   "cell_type": "code",
   "execution_count": 20,
   "id": "d6b2a5df-e66a-4ff1-b4e5-81d9eeb6e5ba",
   "metadata": {},
   "outputs": [
    {
     "data": {
      "text/plain": [
       "bornCountry      category \n",
       "Argentina        medicine     2\n",
       "                 peace        2\n",
       "Australia        chemistry    1\n",
       "                 medicine     7\n",
       "                 physics      2\n",
       "                             ..\n",
       "the Netherlands  chemistry    4\n",
       "                 economics    3\n",
       "                 medicine     2\n",
       "                 peace        1\n",
       "                 physics      9\n",
       "Length: 269, dtype: int64"
      ]
     },
     "execution_count": 20,
     "metadata": {},
     "output_type": "execute_result"
    }
   ],
   "source": [
    "nobel.groupby(['bornCountry', 'category']).size()"
   ]
  },
  {
   "cell_type": "markdown",
   "id": "f5d29d0a-a3dd-4d68-b18e-a0d8523f8193",
   "metadata": {},
   "source": [
    "Create a pivot table to view a spreadsheet like structure, and view it\n",
    "\n",
    "+ First add a column “number” to the nobel dataframe containing 1’s (to enable the counting below). We need to make a copy of `subset`, because right now it is only a view:"
   ]
  },
  {
   "cell_type": "code",
   "execution_count": 22,
   "id": "044e7c20-7e55-44b6-bb16-9db0e149c9d5",
   "metadata": {},
   "outputs": [],
   "source": [
    "subset = subset.copy()\n",
    "subset.loc[:, 'number'] = 1"
   ]
  },
  {
   "cell_type": "markdown",
   "id": "eac0ec81-cf24-4a08-8758-6b953ff426fe",
   "metadata": {},
   "source": [
    "- Then create the [`pivot_table()`](https://pandas.pydata.org/pandas-docs/stable/reference/api/pandas.DataFrame.pivot_table.html#pandas.DataFrame.pivot_table):"
   ]
  },
  {
   "cell_type": "code",
   "execution_count": 26,
   "id": "4cbd1e2c-ca3f-4d85-a6dd-8bbce29c8e3e",
   "metadata": {},
   "outputs": [
    {
     "data": {
      "text/html": [
       "<div>\n",
       "<style scoped>\n",
       "    .dataframe tbody tr th:only-of-type {\n",
       "        vertical-align: middle;\n",
       "    }\n",
       "\n",
       "    .dataframe tbody tr th {\n",
       "        vertical-align: top;\n",
       "    }\n",
       "\n",
       "    .dataframe thead th {\n",
       "        text-align: right;\n",
       "    }\n",
       "</style>\n",
       "<table border=\"1\" class=\"dataframe\">\n",
       "  <thead>\n",
       "    <tr style=\"text-align: right;\">\n",
       "      <th>category</th>\n",
       "      <th>chemistry</th>\n",
       "      <th>economics</th>\n",
       "      <th>literature</th>\n",
       "      <th>medicine</th>\n",
       "      <th>peace</th>\n",
       "      <th>physics</th>\n",
       "    </tr>\n",
       "    <tr>\n",
       "      <th>bornCountry</th>\n",
       "      <th></th>\n",
       "      <th></th>\n",
       "      <th></th>\n",
       "      <th></th>\n",
       "      <th></th>\n",
       "      <th></th>\n",
       "    </tr>\n",
       "  </thead>\n",
       "  <tbody>\n",
       "    <tr>\n",
       "      <th>Denmark</th>\n",
       "      <td>2.0</td>\n",
       "      <td>NaN</td>\n",
       "      <td>4.0</td>\n",
       "      <td>3.0</td>\n",
       "      <td>1.0</td>\n",
       "      <td>2.0</td>\n",
       "    </tr>\n",
       "    <tr>\n",
       "      <th>Finland</th>\n",
       "      <td>NaN</td>\n",
       "      <td>1.0</td>\n",
       "      <td>NaN</td>\n",
       "      <td>NaN</td>\n",
       "      <td>1.0</td>\n",
       "      <td>NaN</td>\n",
       "    </tr>\n",
       "    <tr>\n",
       "      <th>Norway</th>\n",
       "      <td>2.0</td>\n",
       "      <td>3.0</td>\n",
       "      <td>2.0</td>\n",
       "      <td>2.0</td>\n",
       "      <td>2.0</td>\n",
       "      <td>1.0</td>\n",
       "    </tr>\n",
       "    <tr>\n",
       "      <th>Sweden</th>\n",
       "      <td>4.0</td>\n",
       "      <td>2.0</td>\n",
       "      <td>7.0</td>\n",
       "      <td>8.0</td>\n",
       "      <td>5.0</td>\n",
       "      <td>4.0</td>\n",
       "    </tr>\n",
       "  </tbody>\n",
       "</table>\n",
       "</div>"
      ],
      "text/plain": [
       "category     chemistry  economics  literature  medicine  peace  physics\n",
       "bornCountry                                                            \n",
       "Denmark            2.0        NaN         4.0       3.0    1.0      2.0\n",
       "Finland            NaN        1.0         NaN       NaN    1.0      NaN\n",
       "Norway             2.0        3.0         2.0       2.0    2.0      1.0\n",
       "Sweden             4.0        2.0         7.0       8.0    5.0      4.0"
      ]
     },
     "execution_count": 26,
     "metadata": {},
     "output_type": "execute_result"
    }
   ],
   "source": [
    "table = subset.pivot_table(values='number', index='bornCountry', columns='category', aggfunc=numpy.sum)\n",
    "table.head()"
   ]
  },
  {
   "cell_type": "markdown",
   "id": "07cad564-712b-44f8-b366-4b2e44a71000",
   "metadata": {},
   "source": [
    "create a heatmap of your table:"
   ]
  },
  {
   "cell_type": "code",
   "execution_count": 28,
   "id": "db76964e-459a-40d9-8c6b-1ca536078903",
   "metadata": {},
   "outputs": [
    {
     "data": {
      "text/plain": [
       "<AxesSubplot:xlabel='category', ylabel='bornCountry'>"
      ]
     },
     "execution_count": 28,
     "metadata": {},
     "output_type": "execute_result"
    },
    {
     "data": {
      "image/png": "[encoded data removed]",
      "text/plain": [
       "<Figure size 640x480 with 2 Axes>"
      ]
     },
     "metadata": {},
     "output_type": "display_data"
    }
   ],
   "source": [
    "import seaborn\n",
    "seaborn.heatmap(table, linewidths= .5)"
   ]
  },
  {
   "cell_type": "markdown",
   "id": "da142ccc-0345-462c-9145-f723ddb0a08f",
   "metadata": {},
   "source": [
    "Larger DataFrame operations might be faster using [`eval()`](https://pandas.pydata.org/pandas-docs/stable/reference/api/pandas.eval.html#pandas.eval) with string expressions, [`see`](https://jakevdp.github.io/PythonDataScienceHandbook/03.12-performance-eval-and-query.html):"
   ]
  },
  {
   "cell_type": "code",
   "execution_count": 34,
   "id": "512f7af0-67d9-478d-bcb9-dd953867432d",
   "metadata": {},
   "outputs": [],
   "source": [
    "import pandas\n",
    "nrows, ncols = 100000, 100\n",
    "rng = numpy.random.RandomState(42)\n",
    "df1, df2, df3, df4 = (pandas.DataFrame(rng.rand(nrows, ncols)) for i in range(4))"
   ]
  },
  {
   "cell_type": "markdown",
   "id": "1448a5b1-7df5-4bd5-bab5-7f67fc6e02f4",
   "metadata": {},
   "source": [
    "Adding dataframes the pythonic way yields:"
   ]
  },
  {
   "cell_type": "code",
   "execution_count": 38,
   "id": "5a8852fb-4bdb-4c27-b5a8-ed9dbd6e9793",
   "metadata": {},
   "outputs": [
    {
     "name": "stdout",
     "output_type": "stream",
     "text": [
      "89.8 ms ± 22.4 ms per loop (mean ± std. dev. of 7 runs, 1 loop each)\n"
     ]
    }
   ],
   "source": [
    "%timeit df1+df2+df3+df4"
   ]
  },
  {
   "cell_type": "markdown",
   "id": "0927b115-a1bb-4f26-ae7e-12a507bd2c82",
   "metadata": {},
   "source": [
    "And by using [`eval()`](https://pandas.pydata.org/pandas-docs/stable/reference/api/pandas.eval.html#pandas.eval):"
   ]
  },
  {
   "cell_type": "code",
   "execution_count": 44,
   "id": "18b14427-d46e-40ae-a001-6b4996075a01",
   "metadata": {},
   "outputs": [
    {
     "name": "stdout",
     "output_type": "stream",
     "text": [
      "73.6 ms ± 5.8 ms per loop (mean ± std. dev. of 7 runs, 10 loops each)\n"
     ]
    }
   ],
   "source": [
    "%timeit pandas.eval(df1+df2+df3+df4)"
   ]
  },
  {
   "cell_type": "markdown",
   "id": "7c6e3aea-636a-4c24-befb-46ef6555233e",
   "metadata": {},
   "source": [
    "We can assign function return lists as dataframe columns:"
   ]
  },
  {
   "cell_type": "code",
   "execution_count": 48,
   "id": "b9e7088c-5283-44f9-82a2-6d0bfff154b5",
   "metadata": {},
   "outputs": [
    {
     "name": "stdout",
     "output_type": "stream",
     "text": [
      "    Generation      Number of Rabbits\n",
      "0            0                      0\n",
      "1            1                      1\n",
      "2            2                      1\n",
      "3            3                      2\n",
      "4            4                      3\n",
      "..         ...                    ...\n",
      "95          95   31940434634990099905\n",
      "96          96   51680708854858323072\n",
      "97          97   83621143489848422977\n",
      "98          98  135301852344706746049\n",
      "99          99  218922995834555169026\n",
      "\n",
      "[100 rows x 2 columns]\n"
     ]
    }
   ],
   "source": [
    "\"\"\"Compute Fibonacci numbers. Here we skip the overhead from the recursive function calls by using a list. \"\"\"\n",
    "def fibo(n):\n",
    "    if n < 0:\n",
    "        raise NotImplementedError('Not defined for negative values')\n",
    "    elif n < 2:\n",
    "        return n\n",
    "    memo = [0]*(n+1)\n",
    "    memo[0] = 0\n",
    "    memo[1] = 1\n",
    "    for i in range(2, n+1):\n",
    "        memo[i] = memo[i-1] + memo[i-2]\n",
    "    return memo\n",
    "df = pandas.DataFrame({'Generation' : numpy.arange(100)})\n",
    "df['Number of Rabbits'] = fibo(99)\n",
    "print(df)"
   ]
  },
  {
   "cell_type": "markdown",
   "id": "8649690f-f112-4747-ad02-500e0586b913",
   "metadata": {},
   "source": [
    "There is much more to Pandas than what we covered in this lesson. Whatever your needs are, chances are good there is a function somewhere in its [API](https://pandas.pydata.org/docs/). And when there is not, you can always apply your own functions to the data using [`apply`](https://pandas.pydata.org/pandas-docs/stable/reference/api/pandas.DataFrame.apply.html#pandas.DataFrame.apply):"
   ]
  },
  {
   "cell_type": "code",
   "execution_count": 53,
   "id": "30e635f6-1ffd-41bb-be62-64157158a30b",
   "metadata": {},
   "outputs": [
    {
     "name": "stdout",
     "output_type": "stream",
     "text": [
      "    Generation      Number of Rabbits\n",
      "0            0                      0\n",
      "1            1                      1\n",
      "2            2                      1\n",
      "3            3                      2\n",
      "4            4                      3\n",
      "..         ...                    ...\n",
      "95          95   31940434634990099905\n",
      "96          96   51680708854858323072\n",
      "97          97   83621143489848422977\n",
      "98          98  135301852344706746049\n",
      "99          99  218922995834555169026\n",
      "\n",
      "[100 rows x 2 columns]\n"
     ]
    }
   ],
   "source": [
    "\"\"\"Compute Fibonacci numbers. The @lru_cache remembers values we computed before, which speeds up this function a lot.\"\"\"\n",
    "from functools import lru_cache\n",
    "@lru_cache\n",
    "def fib(x):\n",
    "    if x < 0:\n",
    "        raise NotImplementedError('Not defined for negative values')\n",
    "    elif x < 2:\n",
    "        return x\n",
    "    else:\n",
    "        return fib(x-1) + fib(x-2)\n",
    "df = pandas.DataFrame({'Generation' : numpy.arange(100)})\n",
    "df['Number of Rabbits'] = df['Generation'].apply(fib)\n",
    "print(df)"
   ]
  },
  {
   "cell_type": "code",
   "execution_count": 55,
   "id": "eb4fb278-a8f6-4971-89fa-6559597a4746",
   "metadata": {},
   "outputs": [
    {
     "data": {
      "text/plain": [
       "int"
      ]
     },
     "execution_count": 55,
     "metadata": {},
     "output_type": "execute_result"
    }
   ],
   "source": [
    "type(df['Number of Rabbits'][99])"
   ]
  },
  {
   "cell_type": "markdown",
   "id": "a1678875-46d4-4a19-a6f5-631a85276cfd",
   "metadata": {},
   "source": [
    "# Data visualization with Matplotlib"
   ]
  },
  {
   "cell_type": "markdown",
   "id": "698f0989-fe9a-4f2b-b065-8d9a2533f5d6",
   "metadata": {
    "tags": []
   },
   "source": [
    "Let us create our first plot using [`subplots()`](https://matplotlib.org/stable/api/_as_gen/matplotlib.pyplot.subplots.html#matplotlib.pyplot.subplots), [`scatter`](https://matplotlib.org/stable/api/_as_gen/matplotlib.axes.Axes.scatter.html#matplotlib.axes.Axes.scatter), and some other methods on the [`Axes`](https://matplotlib.org/stable/api/axes_api.html#matplotlib.axes.Axes) object:"
   ]
  },
  {
   "cell_type": "code",
   "execution_count": 30,
   "id": "cc608b57-6efe-4eac-a88d-fcf20a3262eb",
   "metadata": {},
   "outputs": [
    {
     "data": {
      "image/png": "[encoded data removed]",
      "text/plain": [
       "<Figure size 640x480 with 1 Axes>"
      ]
     },
     "metadata": {},
     "output_type": "display_data"
    }
   ],
   "source": [
    "# this line tells Jupyter to display matplotlib figures in the notebook\n",
    "%matplotlib inline\n",
    "import matplotlib.pyplot\n",
    "#matplotlib.use('Agg') #When running a Matplotlib script on a remote server without a “display” (e.g. compute cluster)\n",
    "# this is dataset 1 from https://en.wikipedia.org/wiki/Anscombe%27s_quartet\n",
    "data_x = [10.0, 8.0, 13.0, 9.0, 11.0, 14.0, 6.0, 4.0, 12.0, 7.0, 5.0]\n",
    "data_y = [8.04, 6.95, 7.58, 8.81, 8.33, 9.96, 7.24, 4.26, 10.84, 4.82, 5.68]\n",
    "fig, ax = matplotlib.pyplot.subplots()\n",
    "ax.scatter(x = data_x, y = data_y, c='#E69F00')\n",
    "ax.set_xlabel('we should label the x axis')\n",
    "ax.set_ylabel('we should label the y axis')\n",
    "ax.set_title('some title')\n",
    "fig.savefig('my-first-plot.png')"
   ]
  },
  {
   "cell_type": "code",
   "execution_count": 26,
   "id": "f20d9f6b-1e22-4c27-a6cc-873e5e9fdf9b",
   "metadata": {},
   "outputs": [
    {
     "data": {
      "image/png": "[encoded data removed]",
      "text/plain": [
       "<Figure size 640x480 with 1 Axes>"
      ]
     },
     "metadata": {},
     "output_type": "display_data"
    }
   ],
   "source": [
    "# this line tells Jupyter to display matplotlib figures in the notebook\n",
    "%matplotlib inline\n",
    "import matplotlib.pyplot\n",
    "#matplotlib.use('Agg') #When running a Matplotlib script on a remote server without a “display” (e.g. compute cluster)\n",
    "# this is dataset 1 from https://en.wikipedia.org/wiki/Anscombe%27s_quartet\n",
    "data_x = [10.0, 8.0, 13.0, 9.0, 11.0, 14.0, 6.0, 4.0, 12.0, 7.0, 5.0]\n",
    "data_y = [8.04, 6.95, 7.58, 8.81, 8.33, 9.96, 7.24, 4.26, 10.84, 4.82, 5.68]\n",
    "# this is dataset 2\n",
    "data2_y = [9.14, 8.14, 8.74, 8.77, 9.26, 8.10, 6.13, 3.10, 9.13, 7.26, 4.74]\n",
    "# here we multiply all elements of data2_y by 2.0\n",
    "data2_y_scaled = [y * 2.0 for y in data2_y]\n",
    "fig, ax = matplotlib.pyplot.subplots()\n",
    "ax.scatter(x = data_x, y = data_y, c='#E69F00', label='set 1')\n",
    "ax.scatter(x = data_x, y = data2_y, c='#56B4E9', label='set 2')\n",
    "ax.scatter(x = data_x, y = data2_y_scaled, c='#009E73', label='set 2 (scaled)')\n",
    "ax.set_xlabel('we should label the x axis')\n",
    "ax.set_ylabel('we should label the y axis')\n",
    "ax.set_title('some title');\n",
    "ax.legend()\n",
    "fig.savefig('exercise-plot.png')"
   ]
  },
  {
   "cell_type": "markdown",
   "id": "5780a633-6c4e-4a25-8f71-a71ced747618",
   "metadata": {},
   "source": [
    "The more traditional option mimics MATLAB plotting and uses the pyplot interface ([`plt`](https://matplotlib.org/stable/api/pyplot_summary.html#module-matplotlib.pyplot) carries the global settings):"
   ]
  },
  {
   "cell_type": "code",
   "execution_count": 37,
   "id": "c0de4119-65cb-478d-8bbf-f35bcb75940a",
   "metadata": {},
   "outputs": [
    {
     "data": {
      "image/png": "[encoded data removed]",
      "text/plain": [
       "<Figure size 640x480 with 1 Axes>"
      ]
     },
     "metadata": {},
     "output_type": "display_data"
    }
   ],
   "source": [
    "import matplotlib.pyplot\n",
    "#matplotlib.use('Agg') #When running a Matplotlib script on a remote server without a “display” (e.g. compute cluster)\n",
    "# this is dataset 1 from https://en.wikipedia.org/wiki/Anscombe%27s_quartet\n",
    "data_x = [10.0, 8.0, 13.0, 9.0, 11.0, 14.0, 6.0, 4.0, 12.0, 7.0, 5.0]\n",
    "data_y = [8.04, 6.95, 7.58, 8.81, 8.33, 9.96, 7.24, 4.26, 10.84, 4.82, 5.68]\n",
    "matplotlib.pyplot.scatter(x = data_x, y = data_y, c='#E69F00')\n",
    "matplotlib.pyplot.xlabel('we should label the x axis')\n",
    "matplotlib.pyplot.ylabel('we should label the y axis')\n",
    "matplotlib.pyplot.title('some title');"
   ]
  },
  {
   "cell_type": "markdown",
   "id": "6bb14a82-ece2-4dfe-8eb3-24e58e91b8ec",
   "metadata": {},
   "source": [
    "The more modern option is an object-oriented interface (the [`fig`](https://matplotlib.org/stable/api/figure_api.html#matplotlib.figure.Figure) and [`ax`](https://matplotlib.org/stable/api/axes_api.html#matplotlib.axes.Axes) objects can be configured separately and passed around to functions):"
   ]
  },
  {
   "cell_type": "code",
   "execution_count": 39,
   "id": "d8ac413a-b17e-4ac9-a60f-ccb5a5660dd9",
   "metadata": {},
   "outputs": [
    {
     "data": {
      "image/png": "[encoded data removed]",
      "text/plain": [
       "<Figure size 640x480 with 1 Axes>"
      ]
     },
     "metadata": {},
     "output_type": "display_data"
    }
   ],
   "source": [
    "import matplotlib.pyplot\n",
    "#matplotlib.use('Agg') #When running a Matplotlib script on a remote server without a “display” (e.g. compute cluster)\n",
    "# this is dataset 1 from https://en.wikipedia.org/wiki/Anscombe%27s_quartet\n",
    "data_x = [10.0, 8.0, 13.0, 9.0, 11.0, 14.0, 6.0, 4.0, 12.0, 7.0, 5.0]\n",
    "data_y = [8.04, 6.95, 7.58, 8.81, 8.33, 9.96, 7.24, 4.26, 10.84, 4.82, 5.68]\n",
    "fig, ax = matplotlib.pyplot.subplots()\n",
    "ax.scatter(x = data_x, y = data_y, c='#E69F00')\n",
    "ax.set_xlabel('we should label the x axis')\n",
    "ax.set_ylabel('we should label the y axis')\n",
    "ax.set_title('some title');"
   ]
  },
  {
   "cell_type": "markdown",
   "id": "869554e7-8e3a-48d4-b032-a7303413c734",
   "metadata": {},
   "source": [
    "You can also select among pre-defined themes/[style sheets](https://matplotlib.org/stable/gallery/style_sheets/style_sheets_reference.html) with [`use`](https://matplotlib.org/stable/api/style_api.html#matplotlib.style.use), for instance:"
   ]
  },
  {
   "cell_type": "code",
   "execution_count": 40,
   "id": "6c872a4d-7665-47dd-889f-6159e82b465e",
   "metadata": {},
   "outputs": [],
   "source": [
    "matplotlib.pyplot.style.use('ggplot')"
   ]
  },
  {
   "cell_type": "markdown",
   "id": "96a244a1-716b-40f0-aaf5-c40ba24b0810",
   "metadata": {},
   "source": [
    "To demonstrate log scales we first fetch some data to plot:"
   ]
  },
  {
   "cell_type": "code",
   "execution_count": 62,
   "id": "7f7d7aa2-1294-418d-bed9-0be448b0358a",
   "metadata": {},
   "outputs": [
    {
     "data": {
      "text/html": [
       "<div>\n",
       "<style scoped>\n",
       "    .dataframe tbody tr th:only-of-type {\n",
       "        vertical-align: middle;\n",
       "    }\n",
       "\n",
       "    .dataframe tbody tr th {\n",
       "        vertical-align: top;\n",
       "    }\n",
       "\n",
       "    .dataframe thead th {\n",
       "        text-align: right;\n",
       "    }\n",
       "</style>\n",
       "<table border=\"1\" class=\"dataframe\">\n",
       "  <thead>\n",
       "    <tr style=\"text-align: right;\">\n",
       "      <th></th>\n",
       "      <th>country</th>\n",
       "      <th>continent</th>\n",
       "      <th>year</th>\n",
       "      <th>lifeExp</th>\n",
       "      <th>pop</th>\n",
       "      <th>gdpPercap</th>\n",
       "      <th>iso_alpha</th>\n",
       "      <th>iso_num</th>\n",
       "    </tr>\n",
       "  </thead>\n",
       "  <tbody>\n",
       "    <tr>\n",
       "      <th>11</th>\n",
       "      <td>Afghanistan</td>\n",
       "      <td>Asia</td>\n",
       "      <td>2007</td>\n",
       "      <td>43.828</td>\n",
       "      <td>31889923</td>\n",
       "      <td>974.580338</td>\n",
       "      <td>AFG</td>\n",
       "      <td>4</td>\n",
       "    </tr>\n",
       "    <tr>\n",
       "      <th>23</th>\n",
       "      <td>Albania</td>\n",
       "      <td>Europe</td>\n",
       "      <td>2007</td>\n",
       "      <td>76.423</td>\n",
       "      <td>3600523</td>\n",
       "      <td>5937.029526</td>\n",
       "      <td>ALB</td>\n",
       "      <td>8</td>\n",
       "    </tr>\n",
       "    <tr>\n",
       "      <th>35</th>\n",
       "      <td>Algeria</td>\n",
       "      <td>Africa</td>\n",
       "      <td>2007</td>\n",
       "      <td>72.301</td>\n",
       "      <td>33333216</td>\n",
       "      <td>6223.367465</td>\n",
       "      <td>DZA</td>\n",
       "      <td>12</td>\n",
       "    </tr>\n",
       "    <tr>\n",
       "      <th>47</th>\n",
       "      <td>Angola</td>\n",
       "      <td>Africa</td>\n",
       "      <td>2007</td>\n",
       "      <td>42.731</td>\n",
       "      <td>12420476</td>\n",
       "      <td>4797.231267</td>\n",
       "      <td>AGO</td>\n",
       "      <td>24</td>\n",
       "    </tr>\n",
       "    <tr>\n",
       "      <th>59</th>\n",
       "      <td>Argentina</td>\n",
       "      <td>Americas</td>\n",
       "      <td>2007</td>\n",
       "      <td>75.320</td>\n",
       "      <td>40301927</td>\n",
       "      <td>12779.379640</td>\n",
       "      <td>ARG</td>\n",
       "      <td>32</td>\n",
       "    </tr>\n",
       "    <tr>\n",
       "      <th>...</th>\n",
       "      <td>...</td>\n",
       "      <td>...</td>\n",
       "      <td>...</td>\n",
       "      <td>...</td>\n",
       "      <td>...</td>\n",
       "      <td>...</td>\n",
       "      <td>...</td>\n",
       "      <td>...</td>\n",
       "    </tr>\n",
       "    <tr>\n",
       "      <th>1655</th>\n",
       "      <td>Vietnam</td>\n",
       "      <td>Asia</td>\n",
       "      <td>2007</td>\n",
       "      <td>74.249</td>\n",
       "      <td>85262356</td>\n",
       "      <td>2441.576404</td>\n",
       "      <td>VNM</td>\n",
       "      <td>704</td>\n",
       "    </tr>\n",
       "    <tr>\n",
       "      <th>1667</th>\n",
       "      <td>West Bank and Gaza</td>\n",
       "      <td>Asia</td>\n",
       "      <td>2007</td>\n",
       "      <td>73.422</td>\n",
       "      <td>4018332</td>\n",
       "      <td>3025.349798</td>\n",
       "      <td>PSE</td>\n",
       "      <td>275</td>\n",
       "    </tr>\n",
       "    <tr>\n",
       "      <th>1679</th>\n",
       "      <td>Yemen, Rep.</td>\n",
       "      <td>Asia</td>\n",
       "      <td>2007</td>\n",
       "      <td>62.698</td>\n",
       "      <td>22211743</td>\n",
       "      <td>2280.769906</td>\n",
       "      <td>YEM</td>\n",
       "      <td>887</td>\n",
       "    </tr>\n",
       "    <tr>\n",
       "      <th>1691</th>\n",
       "      <td>Zambia</td>\n",
       "      <td>Africa</td>\n",
       "      <td>2007</td>\n",
       "      <td>42.384</td>\n",
       "      <td>11746035</td>\n",
       "      <td>1271.211593</td>\n",
       "      <td>ZMB</td>\n",
       "      <td>894</td>\n",
       "    </tr>\n",
       "    <tr>\n",
       "      <th>1703</th>\n",
       "      <td>Zimbabwe</td>\n",
       "      <td>Africa</td>\n",
       "      <td>2007</td>\n",
       "      <td>43.487</td>\n",
       "      <td>12311143</td>\n",
       "      <td>469.709298</td>\n",
       "      <td>ZWE</td>\n",
       "      <td>716</td>\n",
       "    </tr>\n",
       "  </tbody>\n",
       "</table>\n",
       "<p>142 rows × 8 columns</p>\n",
       "</div>"
      ],
      "text/plain": [
       "                 country continent  year  lifeExp       pop     gdpPercap  \\\n",
       "11           Afghanistan      Asia  2007   43.828  31889923    974.580338   \n",
       "23               Albania    Europe  2007   76.423   3600523   5937.029526   \n",
       "35               Algeria    Africa  2007   72.301  33333216   6223.367465   \n",
       "47                Angola    Africa  2007   42.731  12420476   4797.231267   \n",
       "59             Argentina  Americas  2007   75.320  40301927  12779.379640   \n",
       "...                  ...       ...   ...      ...       ...           ...   \n",
       "1655             Vietnam      Asia  2007   74.249  85262356   2441.576404   \n",
       "1667  West Bank and Gaza      Asia  2007   73.422   4018332   3025.349798   \n",
       "1679         Yemen, Rep.      Asia  2007   62.698  22211743   2280.769906   \n",
       "1691              Zambia    Africa  2007   42.384  11746035   1271.211593   \n",
       "1703            Zimbabwe    Africa  2007   43.487  12311143    469.709298   \n",
       "\n",
       "     iso_alpha  iso_num  \n",
       "11         AFG        4  \n",
       "23         ALB        8  \n",
       "35         DZA       12  \n",
       "47         AGO       24  \n",
       "59         ARG       32  \n",
       "...        ...      ...  \n",
       "1655       VNM      704  \n",
       "1667       PSE      275  \n",
       "1679       YEM      887  \n",
       "1691       ZMB      894  \n",
       "1703       ZWE      716  \n",
       "\n",
       "[142 rows x 8 columns]"
      ]
     },
     "execution_count": 62,
     "metadata": {},
     "output_type": "execute_result"
    }
   ],
   "source": [
    "import pandas\n",
    "url = 'https://raw.githubusercontent.com/plotly/datasets/master/gapminder_with_codes.csv'\n",
    "data = pandas.read_csv(url)\n",
    "data_2007 = data[data['year'] == 2007]\n",
    "data_2007"
   ]
  },
  {
   "cell_type": "markdown",
   "id": "d42d4089-09d5-49f0-b468-32485d96d370",
   "metadata": {},
   "source": [
    "Then we can plot the data, first using a linear scale:"
   ]
  },
  {
   "cell_type": "code",
   "execution_count": 68,
   "id": "49098df1-1840-49d0-b7d4-917b34c76bd4",
   "metadata": {},
   "outputs": [
    {
     "data": {
      "image/png": "[encoded data removed]",
      "text/plain": [
       "<Figure size 640x480 with 1 Axes>"
      ]
     },
     "metadata": {},
     "output_type": "display_data"
    }
   ],
   "source": [
    "import matplotlib.pyplot\n",
    "fig, ax = matplotlib.pyplot.subplots()\n",
    "ax.scatter(x = data_2007['gdpPercap'], y = data_2007['lifeExp'], alpha=0.5)\n",
    "ax.set_xlabel('GDP (USD) per capita')\n",
    "ax.set_ylabel('life expectancy (years)');"
   ]
  },
  {
   "cell_type": "markdown",
   "id": "5e40e0bd-732f-431e-a736-24e37474b053",
   "metadata": {},
   "source": [
    "Your task is to switch to a log scale"
   ]
  },
  {
   "cell_type": "code",
   "execution_count": 69,
   "id": "014f40e8-7b32-4a71-a926-904ecf17a2a2",
   "metadata": {},
   "outputs": [
    {
     "data": {
      "image/png": "[encoded data removed]",
      "text/plain": [
       "<Figure size 640x480 with 1 Axes>"
      ]
     },
     "metadata": {},
     "output_type": "display_data"
    }
   ],
   "source": [
    "import matplotlib.pyplot\n",
    "fig, ax = matplotlib.pyplot.subplots()\n",
    "ax.scatter(x = data_2007['gdpPercap'], y = data_2007['lifeExp'], alpha=0.5)\n",
    "ax.set_xscale('log')\n",
    "ax.set_xlabel('GDP (USD) per capita')\n",
    "ax.set_ylabel('life expectancy (years)');"
   ]
  },
  {
   "cell_type": "markdown",
   "id": "4c2cc4f0-8a81-401a-b2b6-3ed1d2daf3a5",
   "metadata": {},
   "source": [
    "Your task is to make the tickmarks and the axis label font larger, using [Matplotlib parts of a figure](https://matplotlib.org/stable/tutorials/introductory/quick_start.html#parts-of-a-figure) and web search"
   ]
  },
  {
   "cell_type": "code",
   "execution_count": 74,
   "id": "73b21c12-76d3-427e-8b0d-2e2896bd3c54",
   "metadata": {},
   "outputs": [
    {
     "data": {
      "image/png": "[encoded data removed]",
      "text/plain": [
       "<Figure size 640x480 with 1 Axes>"
      ]
     },
     "metadata": {},
     "output_type": "display_data"
    }
   ],
   "source": [
    "import matplotlib.pyplot\n",
    "fig, ax = matplotlib.pyplot.subplots()\n",
    "ax.scatter(x = data_2007['gdpPercap'], y = data_2007['lifeExp'], alpha=0.5)\n",
    "ax.set_xscale('log')\n",
    "ax.set_xlabel('GDP (USD) per capita', fontsize=15)\n",
    "ax.set_ylabel('life expectancy (years)', fontsize=15)\n",
    "ax.tick_params(which = 'major', length = 10)\n",
    "ax.tick_params(which = 'minor', length = 5)\n",
    "ax.tick_params(labelsize = 15)"
   ]
  },
  {
   "cell_type": "code",
   "execution_count": 81,
   "id": "9928e19a-414c-4504-9b00-07f1e6121ac1",
   "metadata": {},
   "outputs": [
    {
     "data": {
      "image/png": "[encoded data removed]",
      "text/plain": [
       "<Figure size 640x480 with 1 Axes>"
      ]
     },
     "metadata": {},
     "output_type": "display_data"
    }
   ],
   "source": [
    "import numpy\n",
    "import seaborn\n",
    "seaborn.set_theme()\n",
    "# Create a random dataset across several variables\n",
    "rs = numpy.random.default_rng(0)\n",
    "n, p = 40, 8\n",
    "d = rs.normal(0, 2, (n, p))\n",
    "d += numpy.log(numpy.arange(1, p + 1)) * -5 + 10\n",
    "# Show each distribution with both violins and points\n",
    "seaborn.violinplot(data=d, palette=\"light:g\", inner=\"points\", orient=\"h\");"
   ]
  },
  {
   "cell_type": "code",
   "execution_count": 80,
   "id": "6c89cd0f-512c-44ad-b53a-fce6906868c2",
   "metadata": {},
   "outputs": [
    {
     "name": "stdout",
     "output_type": "stream",
     "text": [
      "[[10.25146044  6.27005437  5.78778386  3.27832843  0.88147169  1.76439276\n",
      "   2.87844934  1.49695422]\n",
      " [ 8.59252953  4.00342116  3.26038963  3.15118015 -2.69725111  0.60361933\n",
      "  -2.22137264 -1.86174242]\n",
      " [ 8.91148203  5.90166378  5.33019963  5.15355493  1.69574111  3.77412959\n",
      "  -1.05994009  0.30581243]\n",
      " [11.80694036  6.72228869  3.01994006  1.22507744  1.03735879  1.4815929\n",
      "  -1.74878711 -0.81555886]\n",
      " [ 9.68154998  7.61595527  4.9362568   3.77927361  0.64515322  0.78197539\n",
      "   1.83840019  2.58965458]\n",
      " [ 7.48186894  9.56211165  7.1986894   4.631151    2.4817217   0.41335702\n",
      "   3.18649062  3.52330892]\n",
      " [13.60326974  9.16447163  5.22169938  0.65189093  1.94390217  2.35415252\n",
      "  -2.30627367  0.39303641]\n",
      " [10.85972739  7.92634955  2.13870262  1.74512305  1.07993994 -1.29840116\n",
      "   3.74918501 -1.38902917]\n",
      " [10.65793926  6.01711901  7.67388431  5.70925017  3.21951568 -3.36581711\n",
      "   0.3745072   0.97016467]\n",
      " [12.00792315  5.29845001  8.15096128  0.42766625  0.62975439  2.91130263\n",
      "   0.36855848  3.60757746]\n",
      " [10.37703839  5.26787592  3.75181155  0.88623596 -0.60254989  2.30202564\n",
      "   1.43278088  2.19190993]\n",
      " [ 8.49078842  9.912479    3.93216314  6.21734475  1.08723874 -0.42976393\n",
      "   0.77002     1.66569846]\n",
      " [10.32201915  5.36320645  1.82449913  0.26548776  2.95817614  3.02062872\n",
      "  -0.05813993 -2.54593742]\n",
      " [11.74608431  3.97347621  3.08080237  4.3105639  -2.54747191  1.81394185\n",
      "  -0.89283242 -0.17864831]\n",
      " [ 9.84859695  6.93849289  5.89528243  1.55178869  4.79477448  2.49339023\n",
      "   1.95791458  1.93252025]\n",
      " [11.57517644  8.22242146  4.65812578  0.21498049  1.68272024 -0.49782663\n",
      "  -2.57503428  0.11969787]\n",
      " [ 8.86290109  4.47465522  2.4209364   3.60536235  2.67015434  3.68611759\n",
      "   0.24261992  1.68647181]\n",
      " [12.80452965  8.83459537 -0.22366926  5.52589563  2.63205045  1.88874536\n",
      "   1.01290409  0.36830661]\n",
      " [10.63882844  5.81643748  0.70366796  2.85069874  0.34534674  3.20152948\n",
      "  -0.30708376 -0.230257  ]\n",
      " [ 8.30078809  5.51301916  4.48387243  0.09777783  2.55418067  0.82905815\n",
      "  -2.10099036 -5.19367344]\n",
      " [11.02610427  5.93909602  3.44692173  2.59621893  5.58576232  0.94160072\n",
      "   0.44368778 -3.37135345]\n",
      " [13.29467813  8.36924006  6.64080829  3.16387366  3.78612002  1.78309632\n",
      "   1.49682741 -0.70159363]\n",
      " [ 7.0522241   8.59197279  0.63701928  2.58865485  1.54376546 -1.04451763\n",
      "   1.49669553 -0.79786711]\n",
      " [ 9.12626335  7.57394756  3.55378048  5.84648814  2.65572059  0.09253668\n",
      "  -3.6180807  -3.0127141 ]\n",
      " [12.17366157  6.43305597  3.94068843  6.35503142 -0.61248805 -0.13011295\n",
      "  -0.6747261   0.77546685]\n",
      " [ 8.6729296   5.3074284   1.29663976  4.527227    3.56508915  0.08844916\n",
      "   0.59712915 -2.98249995]\n",
      " [ 9.05637369  9.290166    4.77840002  7.68925517  0.37842495  2.20177149\n",
      "  -0.1205624   0.73442799]\n",
      " [ 9.98557728  5.41186788  2.77170503  9.20060167  1.79812032 -2.99211873\n",
      "  -1.02675196  0.95887175]\n",
      " [ 8.99998313  9.2551565   6.5117351   2.76385092  1.00837855 -0.96839936\n",
      "  -1.12948383 -3.34349386]\n",
      " [12.40879258  9.71566567  1.99466242  0.70516224 -1.58421328 -0.88650581\n",
      "  -5.94222435 -2.68176562]\n",
      " [12.5938308   5.84291904  6.21610703  2.09059007  5.47414503  1.43963862\n",
      "  -0.49355533  4.70764034]\n",
      " [ 9.35105629  4.0918174   4.91075856  2.99085812  4.08545954 -0.8020652\n",
      "   1.87988312  1.30828923]\n",
      " [ 8.66462542  6.86075211  2.84543464  7.76014434  0.54453131  0.13505377\n",
      "  -1.86122679 -1.08945026]\n",
      " [ 9.98824795  8.06984237  3.28596526  2.69698028 -0.88016829 -0.6136018\n",
      "   5.78206437  1.68527867]\n",
      " [ 8.43715192  3.85946961  2.5557729   3.02514648  2.02226601 -0.44751855\n",
      "  -2.30269968  2.4475493 ]\n",
      " [10.9033709   5.78512806  4.06561614  2.00946728 -3.91928045  1.27252631\n",
      "  -1.87063956 -2.40257631]\n",
      " [ 8.71947519  7.99886753  2.16587694  0.19996528  3.23251459  2.54994046\n",
      "  -1.64741816  0.72758765]\n",
      " [ 9.41673514  7.13684845  1.985018    4.73431709  4.35932835  2.31534913\n",
      "   1.38712918 -7.94175802]\n",
      " [10.5212595   6.48337346  4.21284754  1.80737221  2.06354039  1.86543746\n",
      "  -0.25712707 -1.32385599]\n",
      " [12.45950762  4.32352988  6.56724895  3.42215312  0.34419915  0.46123886\n",
      "  -1.56953795  0.95292133]]\n"
     ]
    }
   ],
   "source": [
    "import numpy\n",
    "import seaborn\n",
    "seaborn.set_theme()\n",
    "# Create a random dataset across several variables\n",
    "rs = numpy.random.default_rng(0)\n",
    "n, p = 40, 8\n",
    "d = rs.normal(0, 2, (n, p))\n",
    "d += numpy.log(numpy.arange(1, p + 1)) * -5 + 10\n",
    "print(d)\n",
    "# Show each distribution with both violins and points\n",
    "#seaborn.violinplot(data=d, palette=\"light:g\", inner=\"points\", orient=\"h\")"
   ]
  },
  {
   "cell_type": "code",
   "execution_count": 84,
   "id": "585accac-1d07-4960-af7b-13c193cd5a24",
   "metadata": {},
   "outputs": [
    {
     "data": {
      "image/png": "[encoded data removed]",
      "text/plain": [
       "<Figure size 640x480 with 1 Axes>"
      ]
     },
     "metadata": {},
     "output_type": "display_data"
    }
   ],
   "source": [
    "import seaborn\n",
    "seaborn.set_theme()\n",
    "d = [[1.0, 2.0, 2.0, 3.0, 3.0, 3.0], [1.0, 1.0, 1.0, 2.0, 2.0, 3.0]]\n",
    "# Show each distribution with both violins and points\n",
    "seaborn.violinplot(data=d, palette=\"light:g\", inner=\"points\", orient=\"h\");"
   ]
  },
  {
   "cell_type": "code",
   "execution_count": 85,
   "id": "5b1ab54f-f6c5-44d0-9e06-fffeb7a9577b",
   "metadata": {},
   "outputs": [
    {
     "data": {
      "image/png": "[encoded data removed]",
      "text/plain": [
       "<Figure size 640x480 with 1 Axes>"
      ]
     },
     "metadata": {},
     "output_type": "display_data"
    }
   ],
   "source": [
    "import seaborn\n",
    "#seaborn.set_theme()\n",
    "l1 = [1.0, 2.0, 2.0, 3.0, 3.0, 3.0]\n",
    "l2 = [1.0, 1.0, 1.0, 2.0, 2.0, 3.0]\n",
    "# Show each distribution with both violins and points\n",
    "seaborn.violinplot(data=[l1, l2], palette=\"light:g\", inner=\"points\", orient=\"h\");"
   ]
  },
  {
   "cell_type": "markdown",
   "id": "887c9190-ab79-4431-8489-10914b0f5ea0",
   "metadata": {},
   "source": [
    "# Data formats with Pandas and Numpy"
   ]
  },
  {
   "cell_type": "markdown",
   "id": "c8e52521-8ff6-42d7-8dbd-326c76ad0c0a",
   "metadata": {},
   "source": [
    "Let’s consider this randomly generated DataFrame with various columns:"
   ]
  },
  {
   "cell_type": "code",
   "execution_count": 3,
   "id": "85758c58-d096-4029-bb02-3478c0cf72ab",
   "metadata": {},
   "outputs": [
    {
     "name": "stdout",
     "output_type": "stream",
     "text": [
      "<class 'pandas.core.frame.DataFrame'>\n",
      "RangeIndex: 100000 entries, 0 to 99999\n",
      "Data columns (total 4 columns):\n",
      " #   Column     Non-Null Count   Dtype         \n",
      "---  ------     --------------   -----         \n",
      " 0   string     100000 non-null  object        \n",
      " 1   timestamp  100000 non-null  datetime64[ns]\n",
      " 2   integer    100000 non-null  int64         \n",
      " 3   float      100000 non-null  float64       \n",
      "dtypes: datetime64[ns](1), float64(1), int64(1), object(1)\n",
      "memory usage: 3.1+ MB\n"
     ]
    }
   ],
   "source": [
    "import pandas\n",
    "import numpy\n",
    "n_rows = 100000\n",
    "dataset = pandas.DataFrame(data={'string': numpy.random.choice(('apple', 'banana', 'carrot'), size=n_rows),\n",
    "        'timestamp': pandas.date_range(\"20130101\", periods=n_rows, freq=\"s\"),\n",
    "        'integer': numpy.random.choice(range(0,10), size=n_rows),\n",
    "        'float': numpy.random.uniform(size=n_rows),},)\n",
    "dataset.info()"
   ]
  },
  {
   "cell_type": "markdown",
   "id": "dbb8d169-e998-4c98-9fcc-54389435f2ad",
   "metadata": {},
   "source": [
    "Let’s consider another example:"
   ]
  },
  {
   "cell_type": "code",
   "execution_count": 4,
   "id": "27685cf4-0257-4c01-a6d6-4e163c6bf53c",
   "metadata": {},
   "outputs": [
    {
     "name": "stdout",
     "output_type": "stream",
     "text": [
      "class:  ndarray\n",
      "shape:  (1000, 1000)\n",
      "strides:  (8000, 8)\n",
      "itemsize:  8\n",
      "aligned:  True\n",
      "contiguous:  True\n",
      "fortran:  False\n",
      "data pointer: 0x7f61984df010\n",
      "byteorder:  little\n",
      "byteswap:  False\n",
      "type: float64\n"
     ]
    }
   ],
   "source": [
    "n = 1000\n",
    "data_array = numpy.random.uniform(size = (n,n))\n",
    "numpy.info(data_array)"
   ]
  },
  {
   "cell_type": "markdown",
   "id": "6dacad8a-9807-49f7-9edf-4086a3f87354",
   "metadata": {},
   "source": [
    "[`Pickle`](https://docs.python.org/3/library/pickle.html#module-pickle) is Python’s own serialization library. It allows you to store Python objects into a binary file, but it is not a format you will want to use for long term storage or data sharing. It is best suited for debugging your code by saving the Python variables for later inspection:"
   ]
  },
  {
   "cell_type": "code",
   "execution_count": 7,
   "id": "55b392c9-2041-42bd-b2bf-087f7c1ceb1c",
   "metadata": {},
   "outputs": [
    {
     "name": "stdout",
     "output_type": "stream",
     "text": [
      "[[0.13173739 0.06896715 0.99017363 ... 0.06637679 0.19208076 0.83574934]\n",
      " [0.84848451 0.31277307 0.26954602 ... 0.07251071 0.78961711 0.81580182]\n",
      " [0.89562837 0.66939135 0.09537079 ... 0.36828805 0.88758687 0.48069146]\n",
      " ...\n",
      " [0.48370551 0.9304429  0.16512084 ... 0.74042575 0.69099573 0.04617846]\n",
      " [0.42604863 0.50346675 0.05380769 ... 0.65125906 0.04450226 0.25743408]\n",
      " [0.65595865 0.40957029 0.16193592 ... 0.39667936 0.90192657 0.59710866]]\n"
     ]
    }
   ],
   "source": [
    "import pickle\n",
    "with open('data_array.pickle', 'wb') as f:\n",
    "    pickle.dump(data_array, f)\n",
    "with open('data_array.pickle', 'rb') as f:\n",
    "    data_array_pickle = pickle.load(f)\n",
    "print(data_array_pickle)"
   ]
  },
  {
   "cell_type": "markdown",
   "id": "64200451-6193-46dd-a569-28e297970e32",
   "metadata": {},
   "source": [
    "Create an arbitrary python object (for example, a string or a list). Pickle it. Read the pickled object back in and check if it matches the original one."
   ]
  },
  {
   "cell_type": "code",
   "execution_count": 10,
   "id": "9fbe5b76-e79d-4c8d-9877-844ffc392b57",
   "metadata": {},
   "outputs": [
    {
     "name": "stdout",
     "output_type": "stream",
     "text": [
      "['test', 1, 2, 3] ['test', 1, 2, 3]\n"
     ]
    }
   ],
   "source": [
    "import pickle\n",
    "my_object = ['test', 1, 2, 3]\n",
    "with open('string.pickle', 'wb') as f:\n",
    "    pickle.dump(my_object, f)\n",
    "with open('string.pickle', 'rb') as f:\n",
    "    my_pickled_object = pickle.load(f)\n",
    "print(my_object, my_pickled_object)"
   ]
  },
  {
   "cell_type": "code",
   "execution_count": 11,
   "id": "5c50fbdf-03c1-4d6c-a1f6-e195f7fc6876",
   "metadata": {},
   "outputs": [
    {
     "name": "stdout",
     "output_type": "stream",
     "text": [
      "True\n"
     ]
    }
   ],
   "source": [
    "print(my_object == my_pickled_object)"
   ]
  },
  {
   "cell_type": "markdown",
   "id": "69c63309-c020-4e79-8b65-3419b3d7e0fd",
   "metadata": {},
   "source": [
    "Pandas has a very nice interface for writing and reading CSV files with [to_csv](https://pandas.pydata.org/docs/user_guide/io.html#io-store-in-csv)- and [read_csv](https://pandas.pydata.org/docs/user_guide/io.html#io-read-csv-table)-functions:"
   ]
  },
  {
   "cell_type": "code",
   "execution_count": 14,
   "id": "1a7c87df-de2d-420c-8c36-d6874daab7e5",
   "metadata": {},
   "outputs": [
    {
     "data": {
      "text/html": [
       "<div>\n",
       "<style scoped>\n",
       "    .dataframe tbody tr th:only-of-type {\n",
       "        vertical-align: middle;\n",
       "    }\n",
       "\n",
       "    .dataframe tbody tr th {\n",
       "        vertical-align: top;\n",
       "    }\n",
       "\n",
       "    .dataframe thead th {\n",
       "        text-align: right;\n",
       "    }\n",
       "</style>\n",
       "<table border=\"1\" class=\"dataframe\">\n",
       "  <thead>\n",
       "    <tr style=\"text-align: right;\">\n",
       "      <th></th>\n",
       "      <th>string</th>\n",
       "      <th>timestamp</th>\n",
       "      <th>integer</th>\n",
       "      <th>float</th>\n",
       "    </tr>\n",
       "  </thead>\n",
       "  <tbody>\n",
       "    <tr>\n",
       "      <th>0</th>\n",
       "      <td>carrot</td>\n",
       "      <td>2013-01-01 00:00:00</td>\n",
       "      <td>5</td>\n",
       "      <td>0.837429</td>\n",
       "    </tr>\n",
       "    <tr>\n",
       "      <th>1</th>\n",
       "      <td>apple</td>\n",
       "      <td>2013-01-01 00:00:01</td>\n",
       "      <td>3</td>\n",
       "      <td>0.436226</td>\n",
       "    </tr>\n",
       "    <tr>\n",
       "      <th>2</th>\n",
       "      <td>apple</td>\n",
       "      <td>2013-01-01 00:00:02</td>\n",
       "      <td>3</td>\n",
       "      <td>0.493343</td>\n",
       "    </tr>\n",
       "    <tr>\n",
       "      <th>3</th>\n",
       "      <td>carrot</td>\n",
       "      <td>2013-01-01 00:00:03</td>\n",
       "      <td>9</td>\n",
       "      <td>0.345582</td>\n",
       "    </tr>\n",
       "    <tr>\n",
       "      <th>4</th>\n",
       "      <td>apple</td>\n",
       "      <td>2013-01-01 00:00:04</td>\n",
       "      <td>2</td>\n",
       "      <td>0.008197</td>\n",
       "    </tr>\n",
       "  </tbody>\n",
       "</table>\n",
       "</div>"
      ],
      "text/plain": [
       "   string            timestamp  integer     float\n",
       "0  carrot  2013-01-01 00:00:00        5  0.837429\n",
       "1   apple  2013-01-01 00:00:01        3  0.436226\n",
       "2   apple  2013-01-01 00:00:02        3  0.493343\n",
       "3  carrot  2013-01-01 00:00:03        9  0.345582\n",
       "4   apple  2013-01-01 00:00:04        2  0.008197"
      ]
     },
     "execution_count": 14,
     "metadata": {},
     "output_type": "execute_result"
    }
   ],
   "source": [
    "dataset.to_csv('dataset.csv', index=False)\n",
    "dataset_csv = pandas.read_csv('dataset.csv')\n",
    "dataset_csv.head()"
   ]
  },
  {
   "cell_type": "markdown",
   "id": "ccb45cb8-c6db-4788-9174-501a8812616b",
   "metadata": {},
   "source": [
    "Use `dataset.compare(dataset_csv)` to check if loaded dataset matches the original one."
   ]
  },
  {
   "cell_type": "code",
   "execution_count": 39,
   "id": "3b0133b3-4ba5-4888-8512-a3e8cbd54fce",
   "metadata": {},
   "outputs": [
    {
     "name": "stdout",
     "output_type": "stream",
     "text": [
      "          float          \n",
      "           self     other\n",
      "4      0.008197  0.008197\n",
      "5      0.902352  0.902352\n",
      "6      0.210668  0.210668\n",
      "7      0.936768  0.936768\n",
      "9      0.242893  0.242893\n",
      "...         ...       ...\n",
      "99977  0.152788  0.152788\n",
      "99978  0.449066  0.449066\n",
      "99995  0.011375  0.011375\n",
      "99997  0.028811  0.028811\n",
      "99998  0.200726  0.200726\n",
      "\n",
      "[36271 rows x 2 columns]\n"
     ]
    }
   ],
   "source": [
    "print(dataset.compare(dataset_csv))"
   ]
  },
  {
   "cell_type": "markdown",
   "id": "caf5ec8a-8221-447d-add6-bd1a1e6764c0",
   "metadata": {},
   "source": [
    "Numpy has [routines](https://numpy.org/doc/stable/reference/routines.io.html#text-files) for saving and loading arrays as CSV files as well:"
   ]
  },
  {
   "cell_type": "code",
   "execution_count": 47,
   "id": "eb724844-79fe-4b53-8cdf-53aaebf58aa8",
   "metadata": {},
   "outputs": [],
   "source": [
    "numpy.savetxt('data_array.csv', data_array)\n",
    "data_array_csv = numpy.loadtxt('data_array.csv')"
   ]
  },
  {
   "cell_type": "markdown",
   "id": "9431405b-0e76-4796-9c2a-a4644aba913c",
   "metadata": {},
   "source": [
    "double-precision floating point numbers have [~16 decimal places of precision](https://en.wikipedia.org/wiki/Double-precision_floating-point_format), but if you use normal Python to write these numbers, you can easily lose some of that precision. Let’s consider the following example:"
   ]
  },
  {
   "cell_type": "code",
   "execution_count": 29,
   "id": "ab8380ed-ebf7-47bd-afb0-a718ed8ffd8c",
   "metadata": {},
   "outputs": [
    {
     "data": {
      "text/plain": [
       "8"
      ]
     },
     "execution_count": 29,
     "metadata": {},
     "output_type": "execute_result"
    }
   ],
   "source": [
    "import numpy\n",
    "test_number = numpy.sqrt(2)\n",
    "test_file = open('sqrt2.csv', 'w') # Write the number in a file\n",
    "test_file.write('%f' % test_number)\n",
    "#test_file.close()"
   ]
  },
  {
   "cell_type": "code",
   "execution_count": 30,
   "id": "4978ba58-a8fa-406b-b37b-916dc523b9db",
   "metadata": {},
   "outputs": [
    {
     "name": "stdout",
     "output_type": "stream",
     "text": [
      "4.376269049366499e-07\n"
     ]
    }
   ],
   "source": [
    "test_file = open('sqrt2.csv', 'r') # Read the number from a file\n",
    "test_number2 = numpy.float64(test_file.readline())\n",
    "test_file.close()\n",
    "print(numpy.abs(test_number - test_number2))"
   ]
  },
  {
   "cell_type": "markdown",
   "id": "53102263-e527-45dd-a01f-63eba419d435",
   "metadata": {},
   "source": [
    "CSV writing routines in Pandas and numpy try to avoid problems such as these by writing the floating point numbers with enough precision, but even they are not infallible. We can check whether our written data matches the generated data:"
   ]
  },
  {
   "cell_type": "code",
   "execution_count": 31,
   "id": "c0f897eb-7018-40d4-968e-ca35e354780c",
   "metadata": {},
   "outputs": [
    {
     "data": {
      "text/html": [
       "<div>\n",
       "<style scoped>\n",
       "    .dataframe tbody tr th:only-of-type {\n",
       "        vertical-align: middle;\n",
       "    }\n",
       "\n",
       "    .dataframe tbody tr th {\n",
       "        vertical-align: top;\n",
       "    }\n",
       "\n",
       "    .dataframe thead tr th {\n",
       "        text-align: left;\n",
       "    }\n",
       "</style>\n",
       "<table border=\"1\" class=\"dataframe\">\n",
       "  <thead>\n",
       "    <tr>\n",
       "      <th></th>\n",
       "      <th colspan=\"2\" halign=\"left\">float</th>\n",
       "    </tr>\n",
       "    <tr>\n",
       "      <th></th>\n",
       "      <th>self</th>\n",
       "      <th>other</th>\n",
       "    </tr>\n",
       "  </thead>\n",
       "  <tbody>\n",
       "    <tr>\n",
       "      <th>4</th>\n",
       "      <td>0.008197</td>\n",
       "      <td>0.008197</td>\n",
       "    </tr>\n",
       "    <tr>\n",
       "      <th>5</th>\n",
       "      <td>0.902352</td>\n",
       "      <td>0.902352</td>\n",
       "    </tr>\n",
       "    <tr>\n",
       "      <th>6</th>\n",
       "      <td>0.210668</td>\n",
       "      <td>0.210668</td>\n",
       "    </tr>\n",
       "    <tr>\n",
       "      <th>7</th>\n",
       "      <td>0.936768</td>\n",
       "      <td>0.936768</td>\n",
       "    </tr>\n",
       "    <tr>\n",
       "      <th>9</th>\n",
       "      <td>0.242893</td>\n",
       "      <td>0.242893</td>\n",
       "    </tr>\n",
       "    <tr>\n",
       "      <th>...</th>\n",
       "      <td>...</td>\n",
       "      <td>...</td>\n",
       "    </tr>\n",
       "    <tr>\n",
       "      <th>99977</th>\n",
       "      <td>0.152788</td>\n",
       "      <td>0.152788</td>\n",
       "    </tr>\n",
       "    <tr>\n",
       "      <th>99978</th>\n",
       "      <td>0.449066</td>\n",
       "      <td>0.449066</td>\n",
       "    </tr>\n",
       "    <tr>\n",
       "      <th>99995</th>\n",
       "      <td>0.011375</td>\n",
       "      <td>0.011375</td>\n",
       "    </tr>\n",
       "    <tr>\n",
       "      <th>99997</th>\n",
       "      <td>0.028811</td>\n",
       "      <td>0.028811</td>\n",
       "    </tr>\n",
       "    <tr>\n",
       "      <th>99998</th>\n",
       "      <td>0.200726</td>\n",
       "      <td>0.200726</td>\n",
       "    </tr>\n",
       "  </tbody>\n",
       "</table>\n",
       "<p>36271 rows × 2 columns</p>\n",
       "</div>"
      ],
      "text/plain": [
       "          float          \n",
       "           self     other\n",
       "4      0.008197  0.008197\n",
       "5      0.902352  0.902352\n",
       "6      0.210668  0.210668\n",
       "7      0.936768  0.936768\n",
       "9      0.242893  0.242893\n",
       "...         ...       ...\n",
       "99977  0.152788  0.152788\n",
       "99978  0.449066  0.449066\n",
       "99995  0.011375  0.011375\n",
       "99997  0.028811  0.028811\n",
       "99998  0.200726  0.200726\n",
       "\n",
       "[36271 rows x 2 columns]"
      ]
     },
     "execution_count": 31,
     "metadata": {},
     "output_type": "execute_result"
    }
   ],
   "source": [
    "dataset.compare(dataset_csv)"
   ]
  },
  {
   "cell_type": "code",
   "execution_count": 32,
   "id": "868cc289-7961-47b7-9d3b-caf9765b998a",
   "metadata": {},
   "outputs": [
    {
     "data": {
      "text/plain": [
       "True"
      ]
     },
     "execution_count": 32,
     "metadata": {},
     "output_type": "execute_result"
    }
   ],
   "source": [
    "numpy.all(data_array == data_array_csv)"
   ]
  },
  {
   "cell_type": "markdown",
   "id": "ee536d57-c271-4916-9fdf-6f2c4e634d6a",
   "metadata": {},
   "source": [
    "We can work with [Feather](https://arrow.apache.org/docs/python/feather.html) files with [to_feather- and read_feather-functions](https://pandas.pydata.org/pandas-docs/stable/user_guide/io.html#io-feather):"
   ]
  },
  {
   "cell_type": "code",
   "execution_count": 35,
   "id": "9503aba3-375a-4e1b-b58f-603c1e58dc1d",
   "metadata": {},
   "outputs": [
    {
     "data": {
      "text/html": [
       "<div>\n",
       "<style scoped>\n",
       "    .dataframe tbody tr th:only-of-type {\n",
       "        vertical-align: middle;\n",
       "    }\n",
       "\n",
       "    .dataframe tbody tr th {\n",
       "        vertical-align: top;\n",
       "    }\n",
       "\n",
       "    .dataframe thead th {\n",
       "        text-align: right;\n",
       "    }\n",
       "</style>\n",
       "<table border=\"1\" class=\"dataframe\">\n",
       "  <thead>\n",
       "    <tr style=\"text-align: right;\">\n",
       "      <th></th>\n",
       "      <th>string</th>\n",
       "      <th>timestamp</th>\n",
       "      <th>integer</th>\n",
       "      <th>float</th>\n",
       "    </tr>\n",
       "  </thead>\n",
       "  <tbody>\n",
       "    <tr>\n",
       "      <th>0</th>\n",
       "      <td>carrot</td>\n",
       "      <td>2013-01-01 00:00:00</td>\n",
       "      <td>5</td>\n",
       "      <td>0.837429</td>\n",
       "    </tr>\n",
       "    <tr>\n",
       "      <th>1</th>\n",
       "      <td>apple</td>\n",
       "      <td>2013-01-01 00:00:01</td>\n",
       "      <td>3</td>\n",
       "      <td>0.436226</td>\n",
       "    </tr>\n",
       "    <tr>\n",
       "      <th>2</th>\n",
       "      <td>apple</td>\n",
       "      <td>2013-01-01 00:00:02</td>\n",
       "      <td>3</td>\n",
       "      <td>0.493343</td>\n",
       "    </tr>\n",
       "    <tr>\n",
       "      <th>3</th>\n",
       "      <td>carrot</td>\n",
       "      <td>2013-01-01 00:00:03</td>\n",
       "      <td>9</td>\n",
       "      <td>0.345582</td>\n",
       "    </tr>\n",
       "    <tr>\n",
       "      <th>4</th>\n",
       "      <td>apple</td>\n",
       "      <td>2013-01-01 00:00:04</td>\n",
       "      <td>2</td>\n",
       "      <td>0.008197</td>\n",
       "    </tr>\n",
       "  </tbody>\n",
       "</table>\n",
       "</div>"
      ],
      "text/plain": [
       "   string           timestamp  integer     float\n",
       "0  carrot 2013-01-01 00:00:00        5  0.837429\n",
       "1   apple 2013-01-01 00:00:01        3  0.436226\n",
       "2   apple 2013-01-01 00:00:02        3  0.493343\n",
       "3  carrot 2013-01-01 00:00:03        9  0.345582\n",
       "4   apple 2013-01-01 00:00:04        2  0.008197"
      ]
     },
     "execution_count": 35,
     "metadata": {},
     "output_type": "execute_result"
    }
   ],
   "source": [
    "dataset.to_feather('dataset.feather')\n",
    "dataset_feather = pandas.read_feather('dataset.feather')\n",
    "dataset_feather.head()"
   ]
  },
  {
   "cell_type": "markdown",
   "id": "354d5e2f-7559-4038-b283-41fcc963b3ca",
   "metadata": {},
   "source": [
    "We can work with [Parquet](https://arrow.apache.org/docs/python/parquet.html) files with [to_parquet- and read_parquet-functions](https://pandas.pydata.org/pandas-docs/stable/user_guide/io.html#io-parquet):"
   ]
  },
  {
   "cell_type": "code",
   "execution_count": 38,
   "id": "002403e6-0584-4ab2-906b-02d6fe5dfa03",
   "metadata": {},
   "outputs": [
    {
     "data": {
      "text/html": [
       "<div>\n",
       "<style scoped>\n",
       "    .dataframe tbody tr th:only-of-type {\n",
       "        vertical-align: middle;\n",
       "    }\n",
       "\n",
       "    .dataframe tbody tr th {\n",
       "        vertical-align: top;\n",
       "    }\n",
       "\n",
       "    .dataframe thead th {\n",
       "        text-align: right;\n",
       "    }\n",
       "</style>\n",
       "<table border=\"1\" class=\"dataframe\">\n",
       "  <thead>\n",
       "    <tr style=\"text-align: right;\">\n",
       "      <th></th>\n",
       "      <th>string</th>\n",
       "      <th>timestamp</th>\n",
       "      <th>integer</th>\n",
       "      <th>float</th>\n",
       "    </tr>\n",
       "  </thead>\n",
       "  <tbody>\n",
       "    <tr>\n",
       "      <th>0</th>\n",
       "      <td>carrot</td>\n",
       "      <td>2013-01-01 00:00:00</td>\n",
       "      <td>5</td>\n",
       "      <td>0.837429</td>\n",
       "    </tr>\n",
       "    <tr>\n",
       "      <th>1</th>\n",
       "      <td>apple</td>\n",
       "      <td>2013-01-01 00:00:01</td>\n",
       "      <td>3</td>\n",
       "      <td>0.436226</td>\n",
       "    </tr>\n",
       "    <tr>\n",
       "      <th>2</th>\n",
       "      <td>apple</td>\n",
       "      <td>2013-01-01 00:00:02</td>\n",
       "      <td>3</td>\n",
       "      <td>0.493343</td>\n",
       "    </tr>\n",
       "    <tr>\n",
       "      <th>3</th>\n",
       "      <td>carrot</td>\n",
       "      <td>2013-01-01 00:00:03</td>\n",
       "      <td>9</td>\n",
       "      <td>0.345582</td>\n",
       "    </tr>\n",
       "    <tr>\n",
       "      <th>4</th>\n",
       "      <td>apple</td>\n",
       "      <td>2013-01-01 00:00:04</td>\n",
       "      <td>2</td>\n",
       "      <td>0.008197</td>\n",
       "    </tr>\n",
       "  </tbody>\n",
       "</table>\n",
       "</div>"
      ],
      "text/plain": [
       "   string           timestamp  integer     float\n",
       "0  carrot 2013-01-01 00:00:00        5  0.837429\n",
       "1   apple 2013-01-01 00:00:01        3  0.436226\n",
       "2   apple 2013-01-01 00:00:02        3  0.493343\n",
       "3  carrot 2013-01-01 00:00:03        9  0.345582\n",
       "4   apple 2013-01-01 00:00:04        2  0.008197"
      ]
     },
     "execution_count": 38,
     "metadata": {},
     "output_type": "execute_result"
    }
   ],
   "source": [
    "dataset.to_parquet('dataset.parquet')\n",
    "dataset_parquet = pandas.read_parquet('dataset.parquet')\n",
    "dataset_parquet.head()"
   ]
  },
  {
   "cell_type": "markdown",
   "id": "5358ffde-821b-4240-ad28-a23a3fbdb219",
   "metadata": {},
   "source": [
    "If you want to temporarily store numpy arrays, you can use the [`numpy.save()`](https://numpy.org/doc/stable/reference/generated/numpy.save.html#numpy.save)- and [`numpy.load()`](https://numpy.org/doc/stable/reference/generated/numpy.load.html#numpy.load)-functions:"
   ]
  },
  {
   "cell_type": "code",
   "execution_count": 41,
   "id": "4beacd69-dcb7-4f8f-b064-008e5d2553f8",
   "metadata": {},
   "outputs": [],
   "source": [
    "numpy.save('data_array.npy', data_array)\n",
    "data_array_npy = numpy.load('data_array.npy')"
   ]
  },
  {
   "cell_type": "markdown",
   "id": "cc163f4e-cb2e-42e4-b8d0-d40a3db5f45a",
   "metadata": {},
   "source": [
    "Read the dataframe back in and compare it to the original one. Does the data match?"
   ]
  },
  {
   "cell_type": "code",
   "execution_count": 76,
   "id": "8c3937bf-8248-49c2-a35c-1ba8aadee464",
   "metadata": {},
   "outputs": [
    {
     "data": {
      "text/plain": [
       "True"
      ]
     },
     "execution_count": 76,
     "metadata": {},
     "output_type": "execute_result"
    }
   ],
   "source": [
    "numpy.all(data_array == data_array_npy)"
   ]
  },
  {
   "cell_type": "markdown",
   "id": "b9feeda1-6382-4971-ba98-02e3816bbddc",
   "metadata": {},
   "source": [
    "There also exists [`numpy.savez()`](https://numpy.org/doc/stable/reference/generated/numpy.savez.html#numpy.savez)-function for storing multiple datasets in a single file:"
   ]
  },
  {
   "cell_type": "code",
   "execution_count": 44,
   "id": "0f71865a-1418-4b9b-8e95-0600aa7d101e",
   "metadata": {},
   "outputs": [
    {
     "data": {
      "text/plain": [
       "array([[0.13173739, 0.06896715, 0.99017363, ..., 0.06637679, 0.19208076,\n",
       "        0.83574934],\n",
       "       [0.84848451, 0.31277307, 0.26954602, ..., 0.07251071, 0.78961711,\n",
       "        0.81580182],\n",
       "       [0.89562837, 0.66939135, 0.09537079, ..., 0.36828805, 0.88758687,\n",
       "        0.48069146],\n",
       "       ...,\n",
       "       [0.48370551, 0.9304429 , 0.16512084, ..., 0.74042575, 0.69099573,\n",
       "        0.04617846],\n",
       "       [0.42604863, 0.50346675, 0.05380769, ..., 0.65125906, 0.04450226,\n",
       "        0.25743408],\n",
       "       [0.65595865, 0.40957029, 0.16193592, ..., 0.39667936, 0.90192657,\n",
       "        0.59710866]])"
      ]
     },
     "execution_count": 44,
     "metadata": {},
     "output_type": "execute_result"
    }
   ],
   "source": [
    "numpy.savez('data_array.npz', data_array0 = data_array, data_array1 = data_array)\n",
    "data_arrays = numpy.load('data_array.npz')\n",
    "data_arrays['data_array0']"
   ]
  },
  {
   "cell_type": "markdown",
   "id": "df878c28-045e-44da-aa9d-0854a192cb4b",
   "metadata": {},
   "source": [
    "Pandas allows you to store tables as HDF5 with [PyTables](https://www.pytables.org/), which uses HDF5 to write the files. You can create a HDF5 file with [to_hdf- and read_hdf](https://pandas.pydata.org/pandas-docs/stable/user_guide/io.html#io-hdf5)-functions:"
   ]
  },
  {
   "cell_type": "code",
   "execution_count": 51,
   "id": "c14e7ddb-edb2-4ed2-b1d8-b6de21af963f",
   "metadata": {},
   "outputs": [
    {
     "data": {
      "text/html": [
       "<div>\n",
       "<style scoped>\n",
       "    .dataframe tbody tr th:only-of-type {\n",
       "        vertical-align: middle;\n",
       "    }\n",
       "\n",
       "    .dataframe tbody tr th {\n",
       "        vertical-align: top;\n",
       "    }\n",
       "\n",
       "    .dataframe thead th {\n",
       "        text-align: right;\n",
       "    }\n",
       "</style>\n",
       "<table border=\"1\" class=\"dataframe\">\n",
       "  <thead>\n",
       "    <tr style=\"text-align: right;\">\n",
       "      <th></th>\n",
       "      <th>string</th>\n",
       "      <th>timestamp</th>\n",
       "      <th>integer</th>\n",
       "      <th>float</th>\n",
       "    </tr>\n",
       "  </thead>\n",
       "  <tbody>\n",
       "    <tr>\n",
       "      <th>0</th>\n",
       "      <td>carrot</td>\n",
       "      <td>2013-01-01 00:00:00</td>\n",
       "      <td>5</td>\n",
       "      <td>0.837429</td>\n",
       "    </tr>\n",
       "    <tr>\n",
       "      <th>1</th>\n",
       "      <td>apple</td>\n",
       "      <td>2013-01-01 00:00:01</td>\n",
       "      <td>3</td>\n",
       "      <td>0.436226</td>\n",
       "    </tr>\n",
       "    <tr>\n",
       "      <th>2</th>\n",
       "      <td>apple</td>\n",
       "      <td>2013-01-01 00:00:02</td>\n",
       "      <td>3</td>\n",
       "      <td>0.493343</td>\n",
       "    </tr>\n",
       "    <tr>\n",
       "      <th>3</th>\n",
       "      <td>carrot</td>\n",
       "      <td>2013-01-01 00:00:03</td>\n",
       "      <td>9</td>\n",
       "      <td>0.345582</td>\n",
       "    </tr>\n",
       "    <tr>\n",
       "      <th>4</th>\n",
       "      <td>apple</td>\n",
       "      <td>2013-01-01 00:00:04</td>\n",
       "      <td>2</td>\n",
       "      <td>0.008197</td>\n",
       "    </tr>\n",
       "  </tbody>\n",
       "</table>\n",
       "</div>"
      ],
      "text/plain": [
       "   string           timestamp  integer     float\n",
       "0  carrot 2013-01-01 00:00:00        5  0.837429\n",
       "1   apple 2013-01-01 00:00:01        3  0.436226\n",
       "2   apple 2013-01-01 00:00:02        3  0.493343\n",
       "3  carrot 2013-01-01 00:00:03        9  0.345582\n",
       "4   apple 2013-01-01 00:00:04        2  0.008197"
      ]
     },
     "execution_count": 51,
     "metadata": {},
     "output_type": "execute_result"
    }
   ],
   "source": [
    "dataset.to_hdf('dataset.h5', key='dataset', mode='w')\n",
    "dataset_hdf5 = pandas.read_hdf('dataset.h5')\n",
    "dataset_hdf5.head()"
   ]
  },
  {
   "cell_type": "markdown",
   "id": "54190e17-cb39-4cf3-bcaa-2fff36fbe887",
   "metadata": {},
   "source": [
    "For writing data that is not a table, you can use the excellent [`h5py-package`](https://docs.h5py.org/en/stable/):"
   ]
  },
  {
   "cell_type": "code",
   "execution_count": null,
   "id": "20a25d6d-2241-49de-aefc-d639e72c4ffe",
   "metadata": {},
   "outputs": [],
   "source": [
    "import h5py\n",
    "h5_file = h5py.File('data_array.h5', 'w') # Open HDF5 file\n",
    "h5_file.create_dataset('data_array', data=data_array) # Write dataset\n",
    "h5_file.close() # Close file and write data to disk. Important!\n",
    "h5_file = h5py.File('data_array.h5', 'r') # Open HDF5 file again\n",
    "data_array_h5 = h5_file['data_array'][()] # Read the full dataset\n",
    "h5_file.close() # Close file"
   ]
  },
  {
   "cell_type": "markdown",
   "id": "4f07a653-9a7c-4bb7-a35e-4f308ef44359",
   "metadata": {},
   "source": [
    "Using interface provided by `xarray`:"
   ]
  },
  {
   "cell_type": "code",
   "execution_count": null,
   "id": "b19e1d6b-85f3-4be8-8e9e-3248c9d71ef2",
   "metadata": {},
   "outputs": [],
   "source": [
    "dataset.to_xarray().to_netcdf('dataset.nc', engine = 'h5netcdf') # Write tidy data as NetCDF4\n",
    "# Read tidy data from NetCDF4\n",
    "import xarray\n",
    "dataset_xarray = xarray.open_dataset('dataset.nc', engine='h5netcdf')\n",
    "dataset_netcdf4 = dataset_xarray.to_pandas()\n",
    "dataset_xarray.close()"
   ]
  },
  {
   "cell_type": "markdown",
   "id": "ea0c870b-1a5c-4890-a252-ef05b3b93ce6",
   "metadata": {},
   "source": [
    "Working with array data is easy as well:"
   ]
  },
  {
   "cell_type": "code",
   "execution_count": null,
   "id": "26b0b741-4b10-4833-abab-315b9d75f948",
   "metadata": {},
   "outputs": [],
   "source": [
    "xarray.DataArray(data_array).to_netcdf('data_array.nc', engine='h5netcdf') # Write array data as NetCDF4\n",
    "# Read array data from NetCDF4\n",
    "data_array_xarray = xarray.open_dataarray('data_array.nc', engine='h5netcdf')\n",
    "data_array_netcdf4 = data_array_xarray.to_numpy()\n",
    "data_array_xarray.close()"
   ]
  },
  {
   "cell_type": "markdown",
   "id": "22003b3e-e24b-4f24-b327-85aad6a5b801",
   "metadata": {},
   "source": [
    "Similarly to other popular files, Pandas can write and read json files with [`to_json()`](https://pandas.pydata.org/pandas-docs/stable/reference/api/pandas.DataFrame.to_json.html#pandas.DataFrame.to_json)- and [`read_json()`](https://pandas.pydata.org/pandas-docs/stable/reference/api/pandas.read_json.html#pandas.read_json)-functions:"
   ]
  },
  {
   "cell_type": "code",
   "execution_count": 79,
   "id": "cd951679-e232-4615-a20d-cfb93a1921e4",
   "metadata": {},
   "outputs": [
    {
     "data": {
      "text/html": [
       "<div>\n",
       "<style scoped>\n",
       "    .dataframe tbody tr th:only-of-type {\n",
       "        vertical-align: middle;\n",
       "    }\n",
       "\n",
       "    .dataframe tbody tr th {\n",
       "        vertical-align: top;\n",
       "    }\n",
       "\n",
       "    .dataframe thead th {\n",
       "        text-align: right;\n",
       "    }\n",
       "</style>\n",
       "<table border=\"1\" class=\"dataframe\">\n",
       "  <thead>\n",
       "    <tr style=\"text-align: right;\">\n",
       "      <th></th>\n",
       "      <th>string</th>\n",
       "      <th>timestamp</th>\n",
       "      <th>integer</th>\n",
       "      <th>float</th>\n",
       "    </tr>\n",
       "  </thead>\n",
       "  <tbody>\n",
       "    <tr>\n",
       "      <th>0</th>\n",
       "      <td>carrot</td>\n",
       "      <td>2013-01-01 00:00:00</td>\n",
       "      <td>5</td>\n",
       "      <td>0.837429</td>\n",
       "    </tr>\n",
       "    <tr>\n",
       "      <th>1</th>\n",
       "      <td>apple</td>\n",
       "      <td>2013-01-01 00:00:01</td>\n",
       "      <td>3</td>\n",
       "      <td>0.436226</td>\n",
       "    </tr>\n",
       "    <tr>\n",
       "      <th>2</th>\n",
       "      <td>apple</td>\n",
       "      <td>2013-01-01 00:00:02</td>\n",
       "      <td>3</td>\n",
       "      <td>0.493343</td>\n",
       "    </tr>\n",
       "    <tr>\n",
       "      <th>3</th>\n",
       "      <td>carrot</td>\n",
       "      <td>2013-01-01 00:00:03</td>\n",
       "      <td>9</td>\n",
       "      <td>0.345582</td>\n",
       "    </tr>\n",
       "    <tr>\n",
       "      <th>4</th>\n",
       "      <td>apple</td>\n",
       "      <td>2013-01-01 00:00:04</td>\n",
       "      <td>2</td>\n",
       "      <td>0.008197</td>\n",
       "    </tr>\n",
       "  </tbody>\n",
       "</table>\n",
       "</div>"
      ],
      "text/plain": [
       "   string           timestamp  integer     float\n",
       "0  carrot 2013-01-01 00:00:00        5  0.837429\n",
       "1   apple 2013-01-01 00:00:01        3  0.436226\n",
       "2   apple 2013-01-01 00:00:02        3  0.493343\n",
       "3  carrot 2013-01-01 00:00:03        9  0.345582\n",
       "4   apple 2013-01-01 00:00:04        2  0.008197"
      ]
     },
     "execution_count": 79,
     "metadata": {},
     "output_type": "execute_result"
    }
   ],
   "source": [
    "dataset.to_json('dataset.json')\n",
    "dataset_json = pandas.read_json('dataset.json')\n",
    "dataset_json.head()"
   ]
  },
  {
   "cell_type": "markdown",
   "id": "4b60d0a2-77bc-409c-91ff-00cc1491ba28",
   "metadata": {},
   "source": [
    "# Scripts"
   ]
  },
  {
   "cell_type": "markdown",
   "id": "18ff6be3-dfc9-4ce7-9fd0-1e5e83d18ca7",
   "metadata": {
    "tags": []
   },
   "source": [
    "Download the [`weather_observations.ipynb`](https://aaltoscicomp.github.io/python-for-scicomp/_downloads/4b858dab9366f77b3641c99adece5fd2/weather_observations.ipynb) and the weather_data file and upload them to your jupyterlab. The script plots the temperature data for Tapiola in Espoo. The data is originally from [rp5.kz](https://rp5.kz/) and was slightly adjusted for this lecture."
   ]
  },
  {
   "cell_type": "code",
   "execution_count": 1,
   "id": "6e026521-9b19-4bcd-b9f0-816335cb28d7",
   "metadata": {},
   "outputs": [
    {
     "name": "stdout",
     "output_type": "stream",
     "text": [
      "--2022-12-03 18:08:44--  https://aaltoscicomp.github.io/python-for-scicomp/_downloads/4b858dab9366f77b3641c99adece5fd2/weather_observations.ipynb\n",
      "Resolving aaltoscicomp.github.io (aaltoscicomp.github.io)... 185.199.109.153, 185.199.110.153, 185.199.108.153, ...\n",
      "Connecting to aaltoscicomp.github.io (aaltoscicomp.github.io)|185.199.109.153|:443... connected.\n",
      "HTTP request sent, awaiting response... 200 OK\n",
      "Length: 39850 (39K) [application/octet-stream]\n",
      "Saving to: ‘weather_observations.ipynb’\n",
      "\n",
      "weather_observation 100%[===================>]  38.92K  --.-KB/s    in 0.009s  \n",
      "\n",
      "2022-12-03 18:08:44 (4.36 MB/s) - ‘weather_observations.ipynb’ saved [39850/39850]\n",
      "\n"
     ]
    }
   ],
   "source": [
    "!wget https://aaltoscicomp.github.io/python-for-scicomp/_downloads/4b858dab9366f77b3641c99adece5fd2/weather_observations.ipynb"
   ]
  },
  {
   "cell_type": "markdown",
   "id": "b55d1006-de3a-452a-b554-25ea893303bf",
   "metadata": {},
   "source": [
    "Convert the jupyter script to a python script:"
   ]
  },
  {
   "cell_type": "code",
   "execution_count": 2,
   "id": "e00e3432-9580-49fe-a035-6de5f9716150",
   "metadata": {},
   "outputs": [
    {
     "name": "stdout",
     "output_type": "stream",
     "text": [
      "[NbConvertApp] Converting notebook weather_observations.ipynb to script\n",
      "[NbConvertApp] Writing 1154 bytes to weather_observations.py\n"
     ]
    }
   ],
   "source": [
    "!jupyter nbconvert --to script weather_observations.ipynb"
   ]
  },
  {
   "cell_type": "markdown",
   "id": "45fbcd2d-65b9-44c9-a662-f264a1d08086",
   "metadata": {},
   "source": [
    "Run the script:"
   ]
  },
  {
   "cell_type": "code",
   "execution_count": 3,
   "id": "0b85648b-0709-4133-a6e3-60df082b88ab",
   "metadata": {},
   "outputs": [],
   "source": [
    "!python3 weather_observations.py"
   ]
  },
  {
   "cell_type": "markdown",
   "id": "ca991022-ceb7-4817-9b0a-fddb24cf1b8a",
   "metadata": {},
   "source": [
    "We modify the **weather_observations.py** script such that we allow start and end times as well as the output file to be passed in as arguments to the function:"
   ]
  },
  {
   "cell_type": "code",
   "execution_count": 4,
   "id": "a45fafc3-151d-43ac-8e2d-ed63dfdfd5dd",
   "metadata": {},
   "outputs": [],
   "source": [
    "!code weather_observations.py"
   ]
  },
  {
   "cell_type": "markdown",
   "id": "3c970097-2cb2-4f42-bbc3-ba047bc865ab",
   "metadata": {},
   "source": [
    "We can try it out:"
   ]
  },
  {
   "cell_type": "code",
   "execution_count": 5,
   "id": "f925bf0d-490a-40f0-acc5-326ed7cfea02",
   "metadata": {},
   "outputs": [],
   "source": [
    "!python3 weather_observations.py 01/03/2021 31/05/2021 spring_in_tapiola.png"
   ]
  },
  {
   "cell_type": "markdown",
   "id": "216bfad9-5ac9-43ab-a775-158daffd7986",
   "metadata": {},
   "source": [
    "Take the python script we have written and use [`argparse`](https://docs.python.org/3/library/argparse.html#module-argparse) to specify the input and output files and allow the start and end dates to be set. The start and end dates should be optional parameters with the defaults as they are in the current script."
   ]
  },
  {
   "cell_type": "code",
   "execution_count": 6,
   "id": "c3aa3283-cc2d-4647-89bf-716e81c37834",
   "metadata": {},
   "outputs": [],
   "source": [
    "!code weather_observations.py"
   ]
  },
  {
   "cell_type": "code",
   "execution_count": 7,
   "id": "ad30f820-c18c-47af-b8fc-8e30e73c0bcf",
   "metadata": {},
   "outputs": [
    {
     "name": "stdout",
     "output_type": "stream",
     "text": [
      "usage: weather_observations.py [-h] [-s START] [-e END] input output\n",
      "\n",
      "positional arguments:\n",
      "  input                 Input data file\n",
      "  output                Output plot file\n",
      "\n",
      "options:\n",
      "  -h, --help            show this help message and exit\n",
      "  -s START, --start START\n",
      "                        Start date in DD/MM/YYYY format\n",
      "  -e END, --end END     End date in DD/MM/YYYY format\n"
     ]
    }
   ],
   "source": [
    "!python3 weather_observations.py --help"
   ]
  },
  {
   "cell_type": "code",
   "execution_count": 8,
   "id": "befd0716-986d-4fb2-88c0-67e709f8cd4e",
   "metadata": {},
   "outputs": [],
   "source": [
    "!python3 weather_observations.py https://raw.githubusercontent.com/AaltoSciComp/python-for-scicomp/master/resources/data/scripts/weather_tapiola.csv temperature_tapiola.png"
   ]
  },
  {
   "cell_type": "code",
   "execution_count": 9,
   "id": "5daf7467-5e55-49e5-bc27-a82050f797be",
   "metadata": {},
   "outputs": [],
   "source": [
    "!python3 weather_observations.py -s 1/12/2020 -e 31/12/2020 https://raw.githubusercontent.com/AaltoSciComp/python-for-scicomp/master/resources/data/scripts/weather_tapiola.csv temperature_tapiola_dec.png"
   ]
  },
  {
   "cell_type": "code",
   "execution_count": 11,
   "id": "48fa96ce-5f69-43b1-a9e8-65b7faa2fb99",
   "metadata": {},
   "outputs": [],
   "source": [
    "!python3 weather_observations.py -s 1/2/2021 -e 28/2/2021 https://raw.githubusercontent.com/AaltoSciComp/python-for-scicomp/master/resources/data/scripts/weather_tapiola.csv temperature_tapiola_feb.png"
   ]
  },
  {
   "cell_type": "code",
   "execution_count": 13,
   "id": "1c8d3554-4483-470e-b441-e645f8605a0f",
   "metadata": {},
   "outputs": [],
   "source": [
    "!python3 weather_observations.py https://raw.githubusercontent.com/AaltoSciComp/python-for-scicomp/master/resources/data/scripts/weather_cairo.csv temperature_cairo.png"
   ]
  },
  {
   "cell_type": "code",
   "execution_count": 14,
   "id": "f830b1c7-69b8-4ea5-9dfa-01ed9d9d3cc1",
   "metadata": {},
   "outputs": [
    {
     "name": "stdout",
     "output_type": "stream",
     "text": [
      "usage: weather_observations.py [-h] [-s START] [-e END] input output\n",
      "weather_observations.py: error: unrecognized arguments: --input --output --xlabel Days in June --ylabel Rainfall in mm --title Rainfall in Cairo --data_column RRR\n"
     ]
    }
   ],
   "source": [
    "!python3 weather_observations.py --input https://raw.githubusercontent.com/AaltoSciComp/python-for-scicomp/master/resources/data/scripts/weather_cairo.csv --output rain_in_tapiola.png --xlabel \"Days in June\" --ylabel \"Rainfall in mm\" --title \"Rainfall in Cairo\" --data_column RRR --start 01/06/2021 --end 30/06/2021"
   ]
  },
  {
   "cell_type": "markdown",
   "id": "32e778b2-2edf-4e82-9a81-4a041775f555",
   "metadata": {},
   "source": [
    "# Web APIs with Python"
   ]
  },
  {
   "cell_type": "markdown",
   "id": "ad4dea22-a0a4-483d-92dc-be045fa8318b",
   "metadata": {},
   "source": [
    "let’s take a tour of the Requests webpage. Below, we embed the Requests website into a Jupyter notebook, but you might want to open it in another browser tab: https://requests.readthedocs.io/en/latest/"
   ]
  },
  {
   "cell_type": "code",
   "execution_count": 13,
   "id": "c5b45439-4b3e-49d6-bbd9-484e3ce1cf4f",
   "metadata": {},
   "outputs": [
    {
     "data": {
      "text/html": [
       "\n",
       "        <iframe\n",
       "            width=\"95%\"\n",
       "            height=\"92%\"\n",
       "            src=\"https://requests.readthedocs.io/en/latest/\"\n",
       "            frameborder=\"0\"\n",
       "            allowfullscreen\n",
       "            \n",
       "        ></iframe>\n",
       "        "
      ],
      "text/plain": [
       "<IPython.lib.display.IFrame at 0x7f2a99215720>"
      ]
     },
     "execution_count": 13,
     "metadata": {},
     "output_type": "execute_result"
    }
   ],
   "source": [
    "# Embed the requests homepage\n",
    "from IPython.display import IFrame\n",
    "requests_documentation_url = 'https://requests.readthedocs.io/en/latest/'\n",
    "IFrame(requests_documentation_url, '95%', '92%')"
   ]
  },
  {
   "cell_type": "markdown",
   "id": "5a7f4058-2ce8-4375-a6de-806b95008a45",
   "metadata": {},
   "source": [
    "Using the Requests library, we do a request with `get()`."
   ]
  },
  {
   "cell_type": "code",
   "execution_count": 24,
   "id": "caba0a9c-e992-4c7b-942c-0cb2d80ea2d8",
   "metadata": {},
   "outputs": [],
   "source": [
    "import requests\n",
    "url = 'https://catfact.ninja/fact'\n",
    "response = requests.get(url) # Make a request"
   ]
  },
  {
   "cell_type": "markdown",
   "id": "ded737b3-e800-413a-a324-3e38c0923f27",
   "metadata": {},
   "source": [
    "The [`requests.Response`](https://requests.readthedocs.io/en/latest/api/#requests.Response) object tells us what the server said. We can access the response content using [`content`](https://requests.readthedocs.io/en/latest/api/#requests.Response.content)."
   ]
  },
  {
   "cell_type": "code",
   "execution_count": 20,
   "id": "1ed2d638-b188-4239-8caf-17bbef8f5a4c",
   "metadata": {},
   "outputs": [
    {
     "data": {
      "text/plain": [
       "b'{\"fact\":\"A cat will tremble or shiver when it is in extreme pain.\",\"length\":56}'"
      ]
     },
     "metadata": {},
     "output_type": "display_data"
    }
   ],
   "source": [
    "response_content = response.content\n",
    "display(response_content)"
   ]
  },
  {
   "cell_type": "markdown",
   "id": "edef1219-76f3-42fc-a838-13eec9b81f49",
   "metadata": {},
   "source": [
    "The response content is in the [JSON format](https://en.wikipedia.org/wiki/JSON) and Requests gives us the [`json()`](https://requests.readthedocs.io/en/latest/api/#requests.Response.json) method that decodes it and returns the corresponding data as Python objects. This is equivalent to [`json.load()`](https://docs.python.org/3/library/json.html#json.load)."
   ]
  },
  {
   "cell_type": "code",
   "execution_count": 23,
   "id": "795ff9d3-5412-44b3-bfc8-6a8716f2950f",
   "metadata": {},
   "outputs": [
    {
     "data": {
      "text/plain": [
       "{'fact': 'A cat will tremble or shiver when it is in extreme pain.',\n",
       " 'length': 56}"
      ]
     },
     "metadata": {},
     "output_type": "display_data"
    }
   ],
   "source": [
    "response_json = response.json()\n",
    "display(response_json)"
   ]
  },
  {
   "cell_type": "markdown",
   "id": "967180fa-a10b-4960-86a7-075ca5234202",
   "metadata": {},
   "source": [
    "Let’s then examine another API which accepts [parameters](https://requests.readthedocs.io/en/latest/user/quickstart/#passing-parameters-in-urls) to specify the information request. In particular, we will request a list of Finnish universities from http://universities.hipolabs.com using the `/search` end point and a parameter *country* with value *Finland*, like this: http://universities.hipolabs.com/search?country=Finland ."
   ]
  },
  {
   "cell_type": "code",
   "execution_count": 30,
   "id": "c909c1b2-a523-480b-b39a-0b322f0187b0",
   "metadata": {},
   "outputs": [
    {
     "data": {
      "text/plain": [
       "[{'alpha_two_code': 'FI',\n",
       "  'name': 'Abo Akademi University',\n",
       "  'country': 'Finland',\n",
       "  'web_pages': ['http://www.abo.fi/'],\n",
       "  'state-province': None,\n",
       "  'domains': ['abo.fi']},\n",
       " {'alpha_two_code': 'FI',\n",
       "  'name': 'Central Ostrobothnia University of Applied Sciences',\n",
       "  'country': 'Finland',\n",
       "  'web_pages': ['http://www.cou.fi/'],\n",
       "  'state-province': None,\n",
       "  'domains': ['cou.fi']}]"
      ]
     },
     "metadata": {},
     "output_type": "display_data"
    }
   ],
   "source": [
    "url = 'http://universities.hipolabs.com/search?country=Finland'\n",
    "response = requests.get(url) # Make a request\n",
    "response_json = response.json() # Decode JSON\n",
    "display(response_json[ : 2])"
   ]
  },
  {
   "cell_type": "markdown",
   "id": "c1990181-7ff3-4aa4-b973-6866b15c954d",
   "metadata": {},
   "source": [
    "However, *Requests* allows us to provide the parameters as a dictionary of strings, using the *params* keyword argument to `get()`. This is easier to read and less error-prone."
   ]
  },
  {
   "cell_type": "code",
   "execution_count": 33,
   "id": "afe02875-598d-42ed-80fa-05856173176a",
   "metadata": {},
   "outputs": [
    {
     "data": {
      "text/plain": [
       "[{'alpha_two_code': 'FI',\n",
       "  'name': 'Abo Akademi University',\n",
       "  'country': 'Finland',\n",
       "  'web_pages': ['http://www.abo.fi/'],\n",
       "  'state-province': None,\n",
       "  'domains': ['abo.fi']},\n",
       " {'alpha_two_code': 'FI',\n",
       "  'name': 'Central Ostrobothnia University of Applied Sciences',\n",
       "  'country': 'Finland',\n",
       "  'web_pages': ['http://www.cou.fi/'],\n",
       "  'state-province': None,\n",
       "  'domains': ['cou.fi']}]"
      ]
     },
     "metadata": {},
     "output_type": "display_data"
    }
   ],
   "source": [
    "url = 'http://universities.hipolabs.com/search'\n",
    "parameters = {'country' : 'Finland'} # Make the parameter dictionary\n",
    "response = requests.get(url, params=parameters) # Get response\n",
    "response_json = response.json() # Decode JSON\n",
    "display(response_json[ : 2])"
   ]
  },
  {
   "cell_type": "markdown",
   "id": "0eba96fd-bfa2-438b-a03d-6f52bbdd18c2",
   "metadata": {},
   "source": [
    "Go to the [documentation page of the Bored API](https://www.boredapi.com/documentation). The Bored API is an open API which can be used to randomly generate activity suggestions."
   ]
  },
  {
   "cell_type": "code",
   "execution_count": 37,
   "id": "9e081ae9-568f-40eb-bd61-b3acfd3a46ff",
   "metadata": {},
   "outputs": [
    {
     "data": {
      "text/plain": [
       "{'activity': 'Think of a new business idea',\n",
       " 'type': 'recreational',\n",
       " 'participants': 1,\n",
       " 'price': 0,\n",
       " 'link': '',\n",
       " 'key': '6808057',\n",
       " 'accessibility': 0.05}"
      ]
     },
     "metadata": {},
     "output_type": "display_data"
    }
   ],
   "source": [
    "import requests # Import module\n",
    "url = 'http://www.boredapi.com/api/activity/' # URL of the activity API end point\n",
    "response = requests.get(url) # Send the request using the get() function\n",
    "display(response.json()) # Show the JSON content of the response"
   ]
  },
  {
   "cell_type": "markdown",
   "id": "f5977d07-40e9-436d-a3c9-2b0e5f051422",
   "metadata": {},
   "source": [
    "All possible parameter values are presented at the bottom of the bored documentation page. [Relevant parts in the *Requests* documentation](https://requests.readthedocs.io/en/latest/user/quickstart/#parameters)"
   ]
  },
  {
   "cell_type": "code",
   "execution_count": 41,
   "id": "12120ef0-d7a4-4ce7-8f8f-6d2305b7460a",
   "metadata": {},
   "outputs": [
    {
     "data": {
      "text/plain": [
       "'Response'"
      ]
     },
     "metadata": {},
     "output_type": "display_data"
    },
    {
     "data": {
      "text/plain": [
       "{'activity': 'Learn Javascript',\n",
       " 'type': 'education',\n",
       " 'participants': 1,\n",
       " 'price': 0,\n",
       " 'link': '',\n",
       " 'key': '3469378',\n",
       " 'accessibility': 0.9}"
      ]
     },
     "metadata": {},
     "output_type": "display_data"
    }
   ],
   "source": [
    "params = {'type' : 'education', 'participants' : 1} # Define some parameters\n",
    "response = requests.get(url, params) # Send the request using get() with parameters\n",
    "display('Response')\n",
    "display(response.json()) # Show the JSON content of the response"
   ]
  },
  {
   "cell_type": "markdown",
   "id": "e0d756a2-eae9-46c5-9d35-a33d3ce1f97d",
   "metadata": {},
   "source": [
    "Let’s narrow the request further with more parameters\n",
    "\n",
    "* price range\n",
    "\n",
    "* accessibility range"
   ]
  },
  {
   "cell_type": "code",
   "execution_count": 43,
   "id": "1b8970b1-c05a-4cf3-82b4-814eab2bff2c",
   "metadata": {},
   "outputs": [
    {
     "data": {
      "text/plain": [
       "{'activity': \"Text a friend you haven't talked to in a long time\",\n",
       " 'type': 'social',\n",
       " 'participants': 2,\n",
       " 'price': 0.05,\n",
       " 'link': '',\n",
       " 'key': '6081071',\n",
       " 'accessibility': 0.2}"
      ]
     },
     "metadata": {},
     "output_type": "display_data"
    },
    {
     "data": {
      "text/plain": [
       "''"
      ]
     },
     "metadata": {},
     "output_type": "display_data"
    }
   ],
   "source": [
    "params = {'type' : 'social', 'participants' : 2, 'minprice' : 0, 'maxprice' : 1000} # Define some parameters\n",
    "response = requests.get(url, params) # Send the request using get() with parameters\n",
    "display(response.json()) # Show the JSON content of the response\n",
    "display('')"
   ]
  },
  {
   "cell_type": "markdown",
   "id": "c05af85b-66f1-46d1-b837-1975e1cc63e9",
   "metadata": {},
   "source": [
    "Request [headers](https://requests.readthedocs.io/en/latest/user/quickstart/#response-headers) are similar to request parameters but usually define meta information regarding, e.g., content encoding (gzip, utf-8) or user identification (user-agent/user ID/etc., password/access token/etc.)."
   ]
  },
  {
   "cell_type": "code",
   "execution_count": 44,
   "id": "e1382726-9b65-4f40-a716-46173f733237",
   "metadata": {},
   "outputs": [
    {
     "data": {
      "text/plain": [
       "'Request headers'"
      ]
     },
     "metadata": {},
     "output_type": "display_data"
    },
    {
     "data": {
      "text/plain": [
       "{'User-Agent': 'python-requests/2.27.1',\n",
       " 'Accept-Encoding': 'gzip, deflate',\n",
       " 'Accept': '*/*',\n",
       " 'Connection': 'keep-alive'}"
      ]
     },
     "metadata": {},
     "output_type": "display_data"
    }
   ],
   "source": [
    "import requests # Import modules\n",
    "url = 'http://www.boredapi.com/api/activity/' # URL of the activity API end point\n",
    "response = requests.get(url) # Make the request using the get() function\n",
    "display('Request headers')\n",
    "display(dict(response.request.headers))"
   ]
  },
  {
   "cell_type": "markdown",
   "id": "38ac4819-e585-463c-9758-e74a6ce577d5",
   "metadata": {},
   "source": [
    "We can also access the headers of the response"
   ]
  },
  {
   "cell_type": "code",
   "execution_count": 45,
   "id": "3f8e5caf-4937-483d-a916-f7a3927b03af",
   "metadata": {},
   "outputs": [
    {
     "data": {
      "text/plain": [
       "'Response headers'"
      ]
     },
     "metadata": {},
     "output_type": "display_data"
    },
    {
     "data": {
      "text/plain": [
       "{'Server': 'Cowboy',\n",
       " 'Connection': 'keep-alive',\n",
       " 'X-Powered-By': 'Express',\n",
       " 'Access-Control-Allow-Origin': '*',\n",
       " 'Access-Control-Allow-Headers': 'Origin, X-Requested-With, Content-Type, Accept',\n",
       " 'Content-Type': 'application/json; charset=utf-8',\n",
       " 'Content-Length': '130',\n",
       " 'Etag': 'W/\"82-KMvPHiVV22dD2LIGFYF4sWsF714\"',\n",
       " 'Date': 'Sun, 04 Dec 2022 12:19:16 GMT',\n",
       " 'Via': '1.1 vegur'}"
      ]
     },
     "metadata": {},
     "output_type": "display_data"
    }
   ],
   "source": [
    "display('Response headers')\n",
    "display(dict(response.headers))"
   ]
  },
  {
   "cell_type": "markdown",
   "id": "83a6848a-a491-46f3-bde0-67f0f3774642",
   "metadata": {},
   "source": [
    "Let’s use *Requests* to get the HTML source code of www.example.com, examine it, and use the [Beautiful Soup](https://www.crummy.com/software/BeautifulSoup/bs4/doc/) library to extract links from it."
   ]
  },
  {
   "cell_type": "code",
   "execution_count": 46,
   "id": "4211252a-6f83-4d3e-bbac-54afdc5a36b3",
   "metadata": {},
   "outputs": [
    {
     "data": {
      "text/plain": [
       "b'<!doctype html>\\n<html>\\n<head>\\n    <title>Example Domain</title>\\n\\n    <meta charset=\"utf-8\" />\\n    <meta http-equiv=\"Content-type\" content=\"text/html; charset=utf-8\" />\\n    <meta name=\"viewport\" content=\"width=device-width, initial-scale=1\" />\\n    <style type=\"text/css\">\\n    body {\\n        background-color: #f0f0f2;\\n        margin: 0;\\n        padding: 0;\\n        font-family: -apple-system, system-ui, BlinkMacSystemFont, \"Segoe UI\", \"Open Sans\", \"Helvetica Neue\", Helvetica, Arial, sans-serif;\\n        \\n    }\\n    div {\\n        width: 600px;\\n        margin: 5em auto;\\n        padding: 2em;\\n        background-color: #fdfdff;\\n        border-radius: 0.5em;\\n        box-shadow: 2px 3px 7px 2px rgba(0,0,0,0.02);\\n    }\\n    a:link, a:visited {\\n        color: #38488f;\\n        text-decoration: none;\\n    }\\n    @media (max-width: 700px) {\\n        div {\\n            margin: 0 auto;\\n            width: auto;\\n        }\\n    }\\n    </style>    \\n</head>\\n\\n<body>\\n<div>\\n    <h1>Example Domain</h1>\\n    <p>This domain is for use in illustrative examples in documents. You may use this\\n    domain in literature without prior coordination or asking for permission.</p>\\n    <p><a href=\"https://www.iana.org/domains/example\">More information...</a></p>\\n</div>\\n</body>\\n</html>\\n'"
      ]
     },
     "metadata": {},
     "output_type": "display_data"
    }
   ],
   "source": [
    "import requests # Import module\n",
    "url = 'http://www.example.com/' # Define webpage to scrape\n",
    "response = requests.get(url) # Make a request for the URL\n",
    "display(response.content) # Examine the response"
   ]
  },
  {
   "cell_type": "code",
   "execution_count": 48,
   "id": "0fab2606-0c44-4462-9bbb-deea6349d22b",
   "metadata": {},
   "outputs": [
    {
     "name": "stdout",
     "output_type": "stream",
     "text": [
      "<!doctype html>\n",
      "<html>\n",
      "<head>\n",
      "    <title>Example Domain</title>\n",
      "\n",
      "    <meta charset=\"utf-8\" />\n",
      "    <meta http-equiv=\"Content-type\" content=\"text/html; charset=utf-8\" />\n",
      "    <meta name=\"viewport\" content=\"width=device-width, initial-scale=1\" />\n",
      "    <style type=\"text/css\">\n",
      "    body {\n",
      "        background-color: #f0f0f2;\n",
      "        margin: 0;\n",
      "        padding: 0;\n",
      "        font-family: -apple-system, system-ui, BlinkMacSystemFont, \"Segoe UI\", \"Open Sans\", \"Helvetica Neue\", Helvetica, Arial, sans-serif;\n",
      "        \n",
      "    }\n",
      "    div {\n",
      "        width: 600px;\n",
      "        margin: 5em auto;\n",
      "        padding: 2em;\n",
      "        background-color: #fdfdff;\n",
      "        border-radius: 0.5em;\n",
      "        box-shadow: 2px 3px 7px 2px rgba(0,0,0,0.02);\n",
      "    }\n",
      "    a:link, a:visited {\n",
      "        color: #38488f;\n",
      "        text-decoration: none;\n",
      "    }\n",
      "    @media (max-width: 700px) {\n",
      "        div {\n",
      "            margin: 0 auto;\n",
      "            width: auto;\n",
      "        }\n",
      "    }\n",
      "    </style>    \n",
      "</head>\n",
      "\n",
      "<body>\n",
      "<div>\n",
      "    <h1>Example Domain</h1>\n",
      "    <p>This domain is for use in illustrative examples in documents. You may use this\n",
      "    domain in literature without prior coordination or asking for permission.</p>\n",
      "    <p><a href=\"https://www.iana.org/domains/example\">More information...</a></p>\n",
      "</div>\n",
      "</body>\n",
      "</html>\n",
      "\n"
     ]
    }
   ],
   "source": [
    "html = response.text\n",
    "print(html)"
   ]
  },
  {
   "cell_type": "code",
   "execution_count": 50,
   "id": "44e08358-def9-4e0e-bc6e-361e4f860384",
   "metadata": {},
   "outputs": [
    {
     "name": "stdout",
     "output_type": "stream",
     "text": [
      "Found title: Example Domain\n"
     ]
    }
   ],
   "source": [
    "from bs4 import BeautifulSoup # Import beautiful soup module\n",
    "soup = BeautifulSoup(html, 'html.parser') # Create soup\n",
    "print(f'Found title: {soup.title.text}') # Extract page title from the HTML"
   ]
  },
  {
   "cell_type": "code",
   "execution_count": 52,
   "id": "a11916cc-cd91-4296-80b0-793694954d92",
   "metadata": {},
   "outputs": [
    {
     "name": "stdout",
     "output_type": "stream",
     "text": [
      "Found link: https://www.iana.org/domains/example\n"
     ]
    }
   ],
   "source": [
    "# Extract links (hrefs) from the HTML\n",
    "for link in soup.find_all('a'):\n",
    "    print(f\"Found link: {link.get('href')}\")"
   ]
  },
  {
   "cell_type": "code",
   "execution_count": 53,
   "id": "ec0cad4c-cd47-4729-9310-5f2ca60e98a1",
   "metadata": {},
   "outputs": [
    {
     "name": "stdout",
     "output_type": "stream",
     "text": [
      "Found text: \n",
      "\n",
      "\n",
      "Example Domain\n",
      "\n",
      "\n",
      "\n",
      "\n",
      "\n",
      "\n",
      "\n",
      "Example Domain\n",
      "This domain is for use in illustrative examples in documents. You may use this\n",
      "    domain in literature without prior coordination or asking for permission.\n",
      "More information...\n",
      "\n",
      "\n",
      "\n",
      "\n"
     ]
    }
   ],
   "source": [
    "print(f'Found text: {soup.get_text()}') # Extract all text from the HTML"
   ]
  },
  {
   "cell_type": "markdown",
   "id": "12ec9ba1-989d-43cd-92a0-16a177880ee5",
   "metadata": {},
   "source": [
    "let’s retrieve three cat facts and save them to a JSONLINES file using the [jsonlines library](https://jsonlines.readthedocs.io/en/latest/)."
   ]
  },
  {
   "cell_type": "code",
   "execution_count": 58,
   "id": "27d4bf44-79bd-4fa3-a13b-09871f910e59",
   "metadata": {},
   "outputs": [
    {
     "name": "stdout",
     "output_type": "stream",
     "text": [
      "Make request 0\n",
      "Make request 1\n",
      "Make request 2\n"
     ]
    }
   ],
   "source": [
    "import requests\n",
    "import jsonlines\n",
    "import time\n",
    "url = 'https://catfact.ninja/fact'\n",
    "# Make three requests in loop and make a list of response JSON objects\n",
    "for i in range(3):\n",
    "    print(f'Make request {i}')\n",
    "    response = requests.get(url) # Make a request\n",
    "    response_json = response.json() # Decode to JSON\n",
    "    # Open a jsonlines writer in 'append' mode\n",
    "    with jsonlines.open('catfacts.jsonl', mode='a') as writer:\n",
    "        writer.write(response_json)\n",
    "    time.sleep(1) # Sleep for one second between requests"
   ]
  },
  {
   "cell_type": "markdown",
   "id": "be67a2e6-1e74-4d56-b8ee-4f0d3d75e6bb",
   "metadata": {},
   "source": [
    "We can then read the objects from the disk using the same library."
   ]
  },
  {
   "cell_type": "code",
   "execution_count": 59,
   "id": "717bd5e0-6e43-495f-bf88-95fb03139323",
   "metadata": {},
   "outputs": [
    {
     "data": {
      "text/plain": [
       "{'fact': 'Cats bury their feces to cover their trails from predators.',\n",
       " 'length': 59}"
      ]
     },
     "metadata": {},
     "output_type": "display_data"
    },
    {
     "data": {
      "text/plain": [
       "{'fact': 'Cats have about 130,000 hairs per square inch (20,155 hairs per square centimeter).',\n",
       " 'length': 83}"
      ]
     },
     "metadata": {},
     "output_type": "display_data"
    },
    {
     "data": {
      "text/plain": [
       "{'fact': \"In Ancient Egypt, when a person's house cat passed away, the owner would shave their eyebrows to reflect their grief.\",\n",
       " 'length': 117}"
      ]
     },
     "metadata": {},
     "output_type": "display_data"
    },
    {
     "data": {
      "text/plain": [
       "{'fact': 'Fossil records from two million years ago show evidence of jaguars.',\n",
       " 'length': 67}"
      ]
     },
     "metadata": {},
     "output_type": "display_data"
    },
    {
     "data": {
      "text/plain": [
       "{'fact': 'Cats come back to full alertness from the sleep state faster than any other creature.',\n",
       " 'length': 85}"
      ]
     },
     "metadata": {},
     "output_type": "display_data"
    },
    {
     "data": {
      "text/plain": [
       "{'fact': 'A cat cannot see directly under its nose.', 'length': 41}"
      ]
     },
     "metadata": {},
     "output_type": "display_data"
    }
   ],
   "source": [
    "# Open a jsonlines reader\n",
    "with jsonlines.open('catfacts.jsonl', mode='r') as reader:\n",
    "    # Read and display\n",
    "    for obj in reader:\n",
    "        display(obj)"
   ]
  },
  {
   "cell_type": "markdown",
   "id": "dfc1ab30-5545-4281-bbb9-77da812b135a",
   "metadata": {
    "tags": []
   },
   "source": [
    "# SciPy"
   ]
  },
  {
   "cell_type": "markdown",
   "id": "d9793330-b55f-47c6-b43e-ea6ac231313d",
   "metadata": {},
   "source": [
    "Define a function of one variable and using [scipy.integrate.quad](https://docs.scipy.org/doc/scipy/reference/generated/scipy.integrate.quad.html#scipy.integrate.quad) calculate the integral of your function in the interval `[0.0, 4.0]`. Then vary the interval and also modify the function and check whether scipy can integrate it."
   ]
  },
  {
   "cell_type": "code",
   "execution_count": 3,
   "id": "dcf7ad27-b2f0-44ab-bdbd-4ffefbf24b65",
   "metadata": {},
   "outputs": [
    {
     "ename": "TypeError",
     "evalue": "must be real number, not function",
     "output_type": "error",
     "traceback": [
      "\u001b[0;31m---------------------------------------------------------------------------\u001b[0m",
      "\u001b[0;31mTypeError\u001b[0m                                 Traceback (most recent call last)",
      "Cell \u001b[0;32mIn [3], line 5\u001b[0m\n\u001b[1;32m      3\u001b[0m     result \u001b[38;5;241m=\u001b[39m \u001b[38;5;28;01mlambda\u001b[39;00m x: \u001b[38;5;28mpow\u001b[39m(x, \u001b[38;5;241m2\u001b[39m)\n\u001b[1;32m      4\u001b[0m     \u001b[38;5;28;01mreturn\u001b[39;00m result\n\u001b[0;32m----> 5\u001b[0m integral \u001b[38;5;241m=\u001b[39m \u001b[43mintegrate\u001b[49m\u001b[38;5;241;43m.\u001b[39;49m\u001b[43mquad\u001b[49m\u001b[43m(\u001b[49m\u001b[43mmyFunction\u001b[49m\u001b[43m,\u001b[49m\u001b[43m \u001b[49m\u001b[38;5;241;43m0.0\u001b[39;49m\u001b[43m,\u001b[49m\u001b[43m \u001b[49m\u001b[38;5;241;43m4.0\u001b[39;49m\u001b[43m)\u001b[49m\n\u001b[1;32m      6\u001b[0m \u001b[38;5;28mprint\u001b[39m(integral)\n",
      "File \u001b[0;32m/usr/local/lib/python3.10/dist-packages/scipy/integrate/_quadpack_py.py:411\u001b[0m, in \u001b[0;36mquad\u001b[0;34m(func, a, b, args, full_output, epsabs, epsrel, limit, points, weight, wvar, wopts, maxp1, limlst)\u001b[0m\n\u001b[1;32m    408\u001b[0m flip, a, b \u001b[38;5;241m=\u001b[39m b \u001b[38;5;241m<\u001b[39m a, \u001b[38;5;28mmin\u001b[39m(a, b), \u001b[38;5;28mmax\u001b[39m(a, b)\n\u001b[1;32m    410\u001b[0m \u001b[38;5;28;01mif\u001b[39;00m weight \u001b[38;5;129;01mis\u001b[39;00m \u001b[38;5;28;01mNone\u001b[39;00m:\n\u001b[0;32m--> 411\u001b[0m     retval \u001b[38;5;241m=\u001b[39m \u001b[43m_quad\u001b[49m\u001b[43m(\u001b[49m\u001b[43mfunc\u001b[49m\u001b[43m,\u001b[49m\u001b[43m \u001b[49m\u001b[43ma\u001b[49m\u001b[43m,\u001b[49m\u001b[43m \u001b[49m\u001b[43mb\u001b[49m\u001b[43m,\u001b[49m\u001b[43m \u001b[49m\u001b[43margs\u001b[49m\u001b[43m,\u001b[49m\u001b[43m \u001b[49m\u001b[43mfull_output\u001b[49m\u001b[43m,\u001b[49m\u001b[43m \u001b[49m\u001b[43mepsabs\u001b[49m\u001b[43m,\u001b[49m\u001b[43m \u001b[49m\u001b[43mepsrel\u001b[49m\u001b[43m,\u001b[49m\u001b[43m \u001b[49m\u001b[43mlimit\u001b[49m\u001b[43m,\u001b[49m\n\u001b[1;32m    412\u001b[0m \u001b[43m                   \u001b[49m\u001b[43mpoints\u001b[49m\u001b[43m)\u001b[49m\n\u001b[1;32m    413\u001b[0m \u001b[38;5;28;01melse\u001b[39;00m:\n\u001b[1;32m    414\u001b[0m     \u001b[38;5;28;01mif\u001b[39;00m points \u001b[38;5;129;01mis\u001b[39;00m \u001b[38;5;129;01mnot\u001b[39;00m \u001b[38;5;28;01mNone\u001b[39;00m:\n",
      "File \u001b[0;32m/usr/local/lib/python3.10/dist-packages/scipy/integrate/_quadpack_py.py:523\u001b[0m, in \u001b[0;36m_quad\u001b[0;34m(func, a, b, args, full_output, epsabs, epsrel, limit, points)\u001b[0m\n\u001b[1;32m    521\u001b[0m \u001b[38;5;28;01mif\u001b[39;00m points \u001b[38;5;129;01mis\u001b[39;00m \u001b[38;5;28;01mNone\u001b[39;00m:\n\u001b[1;32m    522\u001b[0m     \u001b[38;5;28;01mif\u001b[39;00m infbounds \u001b[38;5;241m==\u001b[39m \u001b[38;5;241m0\u001b[39m:\n\u001b[0;32m--> 523\u001b[0m         \u001b[38;5;28;01mreturn\u001b[39;00m \u001b[43m_quadpack\u001b[49m\u001b[38;5;241;43m.\u001b[39;49m\u001b[43m_qagse\u001b[49m\u001b[43m(\u001b[49m\u001b[43mfunc\u001b[49m\u001b[43m,\u001b[49m\u001b[43ma\u001b[49m\u001b[43m,\u001b[49m\u001b[43mb\u001b[49m\u001b[43m,\u001b[49m\u001b[43margs\u001b[49m\u001b[43m,\u001b[49m\u001b[43mfull_output\u001b[49m\u001b[43m,\u001b[49m\u001b[43mepsabs\u001b[49m\u001b[43m,\u001b[49m\u001b[43mepsrel\u001b[49m\u001b[43m,\u001b[49m\u001b[43mlimit\u001b[49m\u001b[43m)\u001b[49m\n\u001b[1;32m    524\u001b[0m     \u001b[38;5;28;01melse\u001b[39;00m:\n\u001b[1;32m    525\u001b[0m         \u001b[38;5;28;01mreturn\u001b[39;00m _quadpack\u001b[38;5;241m.\u001b[39m_qagie(func,bound,infbounds,args,full_output,epsabs,epsrel,limit)\n",
      "\u001b[0;31mTypeError\u001b[0m: must be real number, not function"
     ]
    }
   ],
   "source": [
    "from scipy import integrate\n",
    "def myFunction(x):\n",
    "    result = lambda x: pow(x, 2)\n",
    "    return result\n",
    "integral = integrate.quad(myFunction, 0.0, 4.0)\n",
    "print(integral)"
   ]
  },
  {
   "cell_type": "markdown",
   "id": "f4799279-64f1-4e5b-88bd-03684638fb49",
   "metadata": {},
   "source": [
    "Use the SciPy sparse matrix functionality to create a random sparse matrix with a probability of non-zero elements of 0.05 and size 10000 x 10000. Use the SciPy sparse linear algebra support to calculate the matrix-vector product of the sparse matrix you just created and a random vector. Use the %timeit macro to measure how long it takes. Does the optional `format` argument when you create the sparse matrix make a difference?"
   ]
  },
  {
   "cell_type": "code",
   "execution_count": 1,
   "id": "51e67c98-2ed8-4a7b-b0e5-69d67a5685d8",
   "metadata": {},
   "outputs": [],
   "source": [
    "import numpy\n",
    "import scipy.sparse\n",
    "vector = numpy.random.random(10000)\n",
    "matrix = scipy.sparse.rand(10000, 10000, density=.05, format='bsr')"
   ]
  },
  {
   "cell_type": "code",
   "execution_count": 23,
   "id": "0a63d69f-7b4b-49e2-8ac3-a90ef6f0a1fc",
   "metadata": {},
   "outputs": [
    {
     "name": "stdout",
     "output_type": "stream",
     "text": [
      "7.23 ms ± 996 µs per loop (mean ± std. dev. of 7 runs, 100 loops each)\n"
     ]
    }
   ],
   "source": [
    "%%timeit\n",
    "matrix.dot(vector)"
   ]
  },
  {
   "cell_type": "markdown",
   "id": "926ce316-010a-4b2b-afa0-9061b6a7d28f",
   "metadata": {},
   "source": [
    "Then, compare to how long it takes if you’d instead first convert the sparse matrix to a normal NumPy dense array, and use the NumPy `dot` method to calculate the matrix-vector product."
   ]
  },
  {
   "cell_type": "code",
   "execution_count": null,
   "id": "6a5229fd-a1df-4950-aa04-02ca432cc08d",
   "metadata": {},
   "outputs": [
    {
     "name": "stdout",
     "output_type": "stream",
     "text": [
      "0.01 0.013 0.595\n",
      "0.05 0.066 0.568\n",
      "0.1 0.245 0.572\n",
      "0.2 0.276 0.729\n",
      "0.3 0.395 0.642\n"
     ]
    }
   ],
   "source": [
    "import scipy\n",
    "import timeit\n",
    "for density in [.01, .05, .1, .2, .3, .4, .5]:\n",
    "    matrix = scipy.sparse.rand(10000, 10000, density=density, format='csr')\n",
    "    time_sparse = timeit.timeit('matrix.dot(vector)', number = 10, globals = globals())\n",
    "    matrix2 = matrix.toarray()\n",
    "    time_full = timeit.timeit('matrix2.dot(vector)', number = 10, globals = globals())\n",
    "    print(f'{density}{time_sparse : .3f}{time_full : .3f}')"
   ]
  },
  {
   "cell_type": "markdown",
   "id": "bc7b352c-a3ce-4a4f-b75b-7e6e5fc9ab87",
   "metadata": {},
   "source": [
    "# Parallel programming"
   ]
  },
  {
   "cell_type": "markdown",
   "id": "2a18df6d-b13f-4a1e-9785-d267c2d4979c",
   "metadata": {},
   "source": [
    "Consider the following code which does a symmetrical matrix inversion of a fairly large matrix:"
   ]
  },
  {
   "cell_type": "code",
   "execution_count": 7,
   "id": "4d93b0eb-9a02-4115-b52d-74e42c6ee426",
   "metadata": {},
   "outputs": [
    {
     "data": {
      "text/plain": [
       "array([[ 0.02563941, -0.03319455, -0.00598036, ...,  0.02866528,\n",
       "         0.02537644,  0.00934795],\n",
       "       [-0.03319455,  0.00617917,  0.13080579, ...,  0.03556214,\n",
       "        -0.11585472, -0.06344076],\n",
       "       [-0.00598036,  0.13080579, -0.10572786, ..., -0.0397104 ,\n",
       "         0.03431177,  0.0653955 ],\n",
       "       ...,\n",
       "       [ 0.02866528,  0.03556214, -0.0397104 , ..., -0.04081645,\n",
       "         0.07938198,  0.0289234 ],\n",
       "       [ 0.02537644, -0.11585472,  0.03431177, ...,  0.07938198,\n",
       "         0.03250739, -0.01342268],\n",
       "       [ 0.00934795, -0.06344076,  0.0653955 , ...,  0.0289234 ,\n",
       "        -0.01342268, -0.01828857]])"
      ]
     },
     "execution_count": 7,
     "metadata": {},
     "output_type": "execute_result"
    }
   ],
   "source": [
    "import numpy\n",
    "import time\n",
    "A = numpy.random.random((4000, 4000))\n",
    "A = A * A.T\n",
    "time_start = time.time()\n",
    "numpy.linalg.inv(A)"
   ]
  },
  {
   "cell_type": "code",
   "execution_count": 8,
   "id": "320ed81e-14b1-400a-b8ee-bcb4a8f102f0",
   "metadata": {},
   "outputs": [
    {
     "name": "stdout",
     "output_type": "stream",
     "text": [
      "time spent for inverting A is 6.59 s\n"
     ]
    }
   ],
   "source": [
    "time_end = time.time()\n",
    "print('time spent for inverting A is', round(time_end - time_start, 2), 's')"
   ]
  },
  {
   "cell_type": "markdown",
   "id": "6befefeb-2217-453c-ad6a-3e282afe46bd",
   "metadata": {},
   "source": [
    "the [split-apply-combine](https://doi.org/10.18637%2Fjss.v040.i01) or [map-reduce](https://en.wikipedia.org/wiki/MapReduce) paradigm is quite useful for many scientific workflows. Consider you have this:"
   ]
  },
  {
   "cell_type": "code",
   "execution_count": 2,
   "id": "c756f8d6-e39e-4af5-bd6c-a95d2c03bbda",
   "metadata": {},
   "outputs": [],
   "source": [
    "def square(x):\n",
    "    return pow(x, 2)"
   ]
  },
  {
   "cell_type": "markdown",
   "id": "1a4b379c-6aec-45b9-8a7d-52197b0651d0",
   "metadata": {},
   "source": [
    "You can apply the function to every element in a list using the [`map()`](https://docs.python.org/3/library/functions.html#map) function:"
   ]
  },
  {
   "cell_type": "code",
   "execution_count": 10,
   "id": "775a0bee-2429-4faf-992b-53ca630ae1b0",
   "metadata": {},
   "outputs": [
    {
     "data": {
      "text/plain": [
       "[1, 4, 9, 16, 25, 36]"
      ]
     },
     "execution_count": 10,
     "metadata": {},
     "output_type": "execute_result"
    }
   ],
   "source": [
    "list(map(square, [1, 2, 3, 4, 5, 6]))"
   ]
  },
  {
   "cell_type": "markdown",
   "id": "6c2185e7-e09e-44fe-be8a-5612a2120dcb",
   "metadata": {},
   "source": [
    "The [`multiprocessing.pool.Pool`](https://docs.python.org/3/library/multiprocessing.html#multiprocessing.pool.Pool) class provides an equivalent but parallelized (via multiprocessing) way of doing this. The pool class, by default, creates one new process per CPU and does parallel calculations on the list:"
   ]
  },
  {
   "cell_type": "code",
   "execution_count": 3,
   "id": "3af4e1e8-6e76-4a55-a952-1799301b7196",
   "metadata": {},
   "outputs": [],
   "source": [
    "from multiprocess import Pool\n",
    "with Pool() as pool:\n",
    "    pool.map(square, [1, 2, 3, 4, 5, 6])"
   ]
  },
  {
   "cell_type": "markdown",
   "id": "bfc47589-720b-4a07-b6fb-ef74d5d253a0",
   "metadata": {},
   "source": [
    "calculates pi by a stochastic algorithm."
   ]
  },
  {
   "cell_type": "code",
   "execution_count": 39,
   "id": "29d43c0e-2a67-4ae1-9e5e-08867ea94d50",
   "metadata": {},
   "outputs": [],
   "source": [
    "import random\n",
    "def sample(n):\n",
    "    '''Make n trials of points in the square.  Return (n, number_in_circle)\n",
    "    This is our basic function.  By design, it returns everything it needs to compute the final answer: both n (even though it is an input argument) and n_inside_circle.  To compute our \n",
    "    final answer, all we have to do is sum up the n:s and the n_inside_circle:s and do our computation'''\n",
    "    n_inside_circle = 0\n",
    "    for i in range(n):\n",
    "        x = random.random()\n",
    "        y = random.random()\n",
    "        if pow(x, 2) + pow(y, 2) < 1.0:\n",
    "            n_inside_circle += 1\n",
    "    return n, n_inside_circle"
   ]
  },
  {
   "cell_type": "code",
   "execution_count": 40,
   "id": "bd6e8d39-892a-4274-80e0-4b8d539cb514",
   "metadata": {},
   "outputs": [
    {
     "name": "stdout",
     "output_type": "stream",
     "text": [
      "359 ms ± 50 ms per loop (mean ± std. dev. of 7 runs, 1 loop each)\n"
     ]
    }
   ],
   "source": [
    "%%timeit\n",
    "n, n_inside_circle = sample(pow(10, 6))\n",
    "pi = 4.0 * (n_inside_circle/n)"
   ]
  },
  {
   "cell_type": "code",
   "execution_count": 41,
   "id": "0ed62120-2514-4bb1-a6b3-740692f3e18f",
   "metadata": {},
   "outputs": [
    {
     "data": {
      "text/plain": [
       "3.143996"
      ]
     },
     "execution_count": 41,
     "metadata": {},
     "output_type": "execute_result"
    }
   ],
   "source": [
    "pi"
   ]
  },
  {
   "cell_type": "markdown",
   "id": "12b54543-2242-4752-9109-e8e9ad5aa976",
   "metadata": {},
   "source": [
    "Using the [`multiprocessing.pool.Pool`](https://docs.python.org/3/library/multiprocessing.html#multiprocessing.pool.Pool), run the `sample` function 10 times, each with `10**5` samples only. Combine the results and time the calculation. What is the difference in time taken?"
   ]
  },
  {
   "cell_type": "code",
   "execution_count": 32,
   "id": "c61f4258-8bce-4ada-94e8-0405a319b391",
   "metadata": {},
   "outputs": [],
   "source": [
    "import multiprocess.pool\n",
    "pool = multiprocess.pool.Pool()"
   ]
  },
  {
   "cell_type": "code",
   "execution_count": 33,
   "id": "85b86555-f2bb-4361-997a-198f7178bb49",
   "metadata": {},
   "outputs": [
    {
     "name": "stdout",
     "output_type": "stream",
     "text": [
      "110 ms ± 2.72 ms per loop (mean ± std. dev. of 7 runs, 10 loops each)\n"
     ]
    }
   ],
   "source": [
    "%%timeit\n",
    "results = pool.map(sample, [pow(10, 5)]*10)"
   ]
  },
  {
   "cell_type": "code",
   "execution_count": 34,
   "id": "b0d70291-f0d4-43d5-bc63-659bab70fe1a",
   "metadata": {},
   "outputs": [
    {
     "data": {
      "text/plain": [
       "3.143996"
      ]
     },
     "execution_count": 34,
     "metadata": {},
     "output_type": "execute_result"
    }
   ],
   "source": [
    "pool.close()\n",
    "n_sum = sum(x[0] for x in results)\n",
    "n_inside_circle_sum = sum(x[1] for x in results)\n",
    "pi = 4.0 * (n_inside_circle_sum/n_sum)\n",
    "pi"
   ]
  },
  {
   "cell_type": "markdown",
   "id": "f9eb8f1e-f5cc-478b-9f71-9d44ed16a7cb",
   "metadata": {},
   "source": [
    "Do the same but with [`multiprocessing.pool.ThreadPool`](https://docs.python.org/3/library/multiprocessing.html#multiprocessing.pool.ThreadPool) instead. This works identically to `Pool`, but uses threads instead of different processes. Compare the time taken."
   ]
  },
  {
   "cell_type": "code",
   "execution_count": 35,
   "id": "2b9916df-2c5a-4c4e-a657-aa121387958b",
   "metadata": {},
   "outputs": [],
   "source": [
    "threadPool = multiprocess.pool.ThreadPool()"
   ]
  },
  {
   "cell_type": "code",
   "execution_count": 37,
   "id": "b1d396f5-47d4-438b-bc47-4b2d88bdaf50",
   "metadata": {},
   "outputs": [
    {
     "name": "stdout",
     "output_type": "stream",
     "text": [
      "365 ms ± 66.7 ms per loop (mean ± std. dev. of 7 runs, 1 loop each)\n"
     ]
    }
   ],
   "source": [
    "%%timeit\n",
    "results = threadPool.map(sample, [pow(10, 5)]*10)"
   ]
  },
  {
   "cell_type": "code",
   "execution_count": 38,
   "id": "167f6f1f-c20c-4ff1-8a82-8c5aadaa879e",
   "metadata": {},
   "outputs": [
    {
     "data": {
      "text/plain": [
       "3.143996"
      ]
     },
     "execution_count": 38,
     "metadata": {},
     "output_type": "execute_result"
    }
   ],
   "source": [
    "threadPool.close()\n",
    "n_sum = sum(x[0] for x in results)\n",
    "n_inside_circle_sum = sum(x[1] for x in results)\n",
    "pi = 4.0 * (n_inside_circle_sum/n_sum)\n",
    "pi"
   ]
  },
  {
   "cell_type": "markdown",
   "id": "25c88dae-66aa-4c06-a7df-e877e6c62159",
   "metadata": {
    "tags": []
   },
   "source": [
    "Here we reuse the example of approximating pi with a stochastic algorithm from above, and we have highlighted the lines which are important to get this MPI example to work:"
   ]
  },
  {
   "cell_type": "code",
   "execution_count": 46,
   "id": "e39c38be-fe77-4b81-80ca-30e1695c4608",
   "metadata": {},
   "outputs": [
    {
     "name": "stdout",
     "output_type": "stream",
     "text": [
      "before gather: rank 0, n_inside_circle: 7854442\n",
      "after gather: rank 0, n_inside_circle: [7854442]\n",
      "number of darts: 10000000, estimate: 3.1417768, time spent: 3.4 seconds\n"
     ]
    }
   ],
   "source": [
    "import random\n",
    "import time\n",
    "from mpi4py import MPI\n",
    "def sample(n):\n",
    "    '''Make n trials of points in the square.  Return (n, number_in_circle)\n",
    "    This is our basic function.  By design, it returns everything it needs to compute the final answer: both n (even though it is an input argument) and n_inside_circle.  To compute our \n",
    "    final answer, all we have to do is sum up the n:s and the n_inside_circle:s and do our computation'''\n",
    "    n_inside_circle = 0\n",
    "    for i in range(n):\n",
    "        x = random.random()\n",
    "        y = random.random()\n",
    "        if pow(x, 2) + pow(y, 2) < 1.0:\n",
    "            n_inside_circle += 1\n",
    "    return n, n_inside_circle\n",
    "comm = MPI.COMM_WORLD\n",
    "size = comm.Get_size()\n",
    "rank = comm.Get_rank()\n",
    "n = pow(10, 7)\n",
    "if size > 1:\n",
    "    n_task = int(n/size)\n",
    "else:\n",
    "    n_task = n\n",
    "t0 = time.perf_counter()\n",
    "_, n_inside_circle = sample(n_task)\n",
    "t = time.perf_counter() - t0\n",
    "print(f'before gather: rank {rank}, n_inside_circle: {n_inside_circle}')\n",
    "n_inside_circle = comm.gather(n_inside_circle, root = 0)\n",
    "print(f'after gather: rank {rank}, n_inside_circle: {n_inside_circle}')\n",
    "if rank == 0:\n",
    "    pi_estimate = 4.0 * sum(n_inside_circle)/n\n",
    "    print(f'number of darts: {n}, estimate: {pi_estimate}, time spent:{t : .2} seconds')"
   ]
  },
  {
   "cell_type": "markdown",
   "id": "9e75a679-91ce-4316-a5c9-bbea897cd52c",
   "metadata": {},
   "source": [
    "Try to run this example on one core:"
   ]
  },
  {
   "cell_type": "code",
   "execution_count": 47,
   "id": "2b6acf02-92b7-4ec0-b7ae-37bbd37257e2",
   "metadata": {},
   "outputs": [
    {
     "name": "stdout",
     "output_type": "stream",
     "text": [
      "before gather: rank 0, n_inside_circle: 7852550\n",
      "after gather: rank 0, n_inside_circle: [7852550]\n",
      "number of darts: 10000000, estimate: 3.14102, time spent: 3.4 seconds\n"
     ]
    }
   ],
   "source": [
    "!python3 example.py"
   ]
  },
  {
   "cell_type": "markdown",
   "id": "305ddca7-15a4-48f4-ad45-9cca58c2fab9",
   "metadata": {},
   "source": [
    "Then compare the output with a run on multiple cores (in this case 2):"
   ]
  },
  {
   "cell_type": "code",
   "execution_count": 54,
   "id": "51611cbd-12e4-4f6d-9eae-8ed9e361002c",
   "metadata": {},
   "outputs": [],
   "source": [
    "!mpiexec -n 2 python3 example.py"
   ]
  },
  {
   "cell_type": "markdown",
   "id": "37d73864-d0a4-414b-afe5-73a2dc0b810e",
   "metadata": {},
   "source": [
    "Dask divides arrays into many small pieces (chunks), as small as necessary to fit it into memory. Operations are delayed (lazy computing) e.g. tasks are queue and no computation is performed until you actually ask values to be computed (for instance print mean values). Then data is loaded into memory and computation proceeds in a streaming fashion, block-by-block."
   ]
  },
  {
   "cell_type": "code",
   "execution_count": 57,
   "id": "81dc7cf7-f335-487a-86d2-c12ef0104c25",
   "metadata": {},
   "outputs": [
    {
     "data": {
      "text/html": [
       "<table>\n",
       "    <tr>\n",
       "        <td>\n",
       "            <table style=\"border-collapse: collapse;\">\n",
       "                <thead>\n",
       "                    <tr>\n",
       "                        <td> </td>\n",
       "                        <th> Array </th>\n",
       "                        <th> Chunk </th>\n",
       "                    </tr>\n",
       "                </thead>\n",
       "                <tbody>\n",
       "                    \n",
       "                    <tr>\n",
       "                        <th> Bytes </th>\n",
       "                        <td> 762.94 MiB </td>\n",
       "                        <td> 7.63 MiB </td>\n",
       "                    </tr>\n",
       "                    \n",
       "                    <tr>\n",
       "                        <th> Shape </th>\n",
       "                        <td> (10000, 10000) </td>\n",
       "                        <td> (1000, 1000) </td>\n",
       "                    </tr>\n",
       "                    <tr>\n",
       "                        <th> Dask graph </th>\n",
       "                        <td colspan=\"2\"> 100 chunks in 7 graph layers </td>\n",
       "                    </tr>\n",
       "                    <tr>\n",
       "                        <th> Data type </th>\n",
       "                        <td colspan=\"2\"> float64 numpy.ndarray </td>\n",
       "                    </tr>\n",
       "                </tbody>\n",
       "            </table>\n",
       "        </td>\n",
       "        <td>\n",
       "        <svg width=\"170\" height=\"170\" style=\"stroke:rgb(0,0,0);stroke-width:1\" >\n",
       "\n",
       "  <!-- Horizontal lines -->\n",
       "  <line x1=\"0\" y1=\"0\" x2=\"120\" y2=\"0\" style=\"stroke-width:2\" />\n",
       "  <line x1=\"0\" y1=\"12\" x2=\"120\" y2=\"12\" />\n",
       "  <line x1=\"0\" y1=\"24\" x2=\"120\" y2=\"24\" />\n",
       "  <line x1=\"0\" y1=\"36\" x2=\"120\" y2=\"36\" />\n",
       "  <line x1=\"0\" y1=\"48\" x2=\"120\" y2=\"48\" />\n",
       "  <line x1=\"0\" y1=\"60\" x2=\"120\" y2=\"60\" />\n",
       "  <line x1=\"0\" y1=\"72\" x2=\"120\" y2=\"72\" />\n",
       "  <line x1=\"0\" y1=\"84\" x2=\"120\" y2=\"84\" />\n",
       "  <line x1=\"0\" y1=\"96\" x2=\"120\" y2=\"96\" />\n",
       "  <line x1=\"0\" y1=\"108\" x2=\"120\" y2=\"108\" />\n",
       "  <line x1=\"0\" y1=\"120\" x2=\"120\" y2=\"120\" style=\"stroke-width:2\" />\n",
       "\n",
       "  <!-- Vertical lines -->\n",
       "  <line x1=\"0\" y1=\"0\" x2=\"0\" y2=\"120\" style=\"stroke-width:2\" />\n",
       "  <line x1=\"12\" y1=\"0\" x2=\"12\" y2=\"120\" />\n",
       "  <line x1=\"24\" y1=\"0\" x2=\"24\" y2=\"120\" />\n",
       "  <line x1=\"36\" y1=\"0\" x2=\"36\" y2=\"120\" />\n",
       "  <line x1=\"48\" y1=\"0\" x2=\"48\" y2=\"120\" />\n",
       "  <line x1=\"60\" y1=\"0\" x2=\"60\" y2=\"120\" />\n",
       "  <line x1=\"72\" y1=\"0\" x2=\"72\" y2=\"120\" />\n",
       "  <line x1=\"84\" y1=\"0\" x2=\"84\" y2=\"120\" />\n",
       "  <line x1=\"96\" y1=\"0\" x2=\"96\" y2=\"120\" />\n",
       "  <line x1=\"108\" y1=\"0\" x2=\"108\" y2=\"120\" />\n",
       "  <line x1=\"120\" y1=\"0\" x2=\"120\" y2=\"120\" style=\"stroke-width:2\" />\n",
       "\n",
       "  <!-- Colored Rectangle -->\n",
       "  <polygon points=\"0.0,0.0 120.0,0.0 120.0,120.0 0.0,120.0\" style=\"fill:#ECB172A0;stroke-width:0\"/>\n",
       "\n",
       "  <!-- Text -->\n",
       "  <text x=\"60.000000\" y=\"140.000000\" font-size=\"1.0rem\" font-weight=\"100\" text-anchor=\"middle\" >10000</text>\n",
       "  <text x=\"140.000000\" y=\"60.000000\" font-size=\"1.0rem\" font-weight=\"100\" text-anchor=\"middle\" transform=\"rotate(-90,140.000000,60.000000)\">10000</text>\n",
       "</svg>\n",
       "        </td>\n",
       "    </tr>\n",
       "</table>"
      ],
      "text/plain": [
       "dask.array<sub, shape=(10000, 10000), dtype=float64, chunksize=(1000, 1000), chunktype=numpy.ndarray>"
      ]
     },
     "execution_count": 57,
     "metadata": {},
     "output_type": "execute_result"
    }
   ],
   "source": [
    "import dask.array\n",
    "x = dask.array.random.random(size = (10000, 10000), chunks = (1000, 1000))\n",
    "x + x.T - x.mean(axis = 0)"
   ]
  },
  {
   "cell_type": "markdown",
   "id": "e05848cc-5906-48eb-9d76-b73d76e8d867",
   "metadata": {},
   "source": [
    "# Dependency management"
   ]
  },
  {
   "cell_type": "markdown",
   "id": "aa7ac9b0-8559-48d4-831f-0fbd3114bc2a",
   "metadata": {},
   "source": [
    "Open a Python console and check that you have effectively the right version for each package:"
   ]
  },
  {
   "cell_type": "code",
   "execution_count": 2,
   "id": "494a134d-2bdb-4a80-9e54-70f29c482387",
   "metadata": {},
   "outputs": [
    {
     "name": "stdout",
     "output_type": "stream",
     "text": [
      "Numpy version: 1.23.3\n",
      "Matplotlib version: 3.5.3\n"
     ]
    }
   ],
   "source": [
    "import numpy\n",
    "import matplotlib\n",
    "print('Numpy version:', numpy.__version__)\n",
    "print('Matplotlib version:', matplotlib.__version__)"
   ]
  },
  {
   "cell_type": "markdown",
   "id": "5ac51e3b-f8fc-4551-9eef-9ceef296a6ff",
   "metadata": {},
   "source": [
    "Or use the one-liner if you have access to a terminal like bash:"
   ]
  },
  {
   "cell_type": "code",
   "execution_count": 5,
   "id": "c6283a02-ea13-49e7-9f6c-85be8a07c79b",
   "metadata": {},
   "outputs": [
    {
     "name": "stdout",
     "output_type": "stream",
     "text": [
      "1.23.3\n",
      "3.5.3\n"
     ]
    }
   ],
   "source": [
    "!python3 -c 'import numpy; print(numpy.__version__)'\n",
    "!python3 -c 'import matplotlib; print(matplotlib.__version__)'"
   ]
  },
  {
   "cell_type": "markdown",
   "id": "72683124-ae98-4427-be53-347d2b04ea3a",
   "metadata": {},
   "source": [
    "# Binder"
   ]
  },
  {
   "cell_type": "code",
   "execution_count": 6,
   "id": "03419be9-edac-4ab1-9a42-fdf9660c3b6f",
   "metadata": {},
   "outputs": [],
   "source": [
    "!code requirements.txt"
   ]
  },
  {
   "cell_type": "markdown",
   "id": "2f70ed9c-e227-4baa-a00a-9a89663d94fe",
   "metadata": {},
   "source": [
    "Visit https://mybinder.org and copy paste the code under “Copy the text below …” into your *README.md*:"
   ]
  },
  {
   "cell_type": "code",
   "execution_count": 8,
   "id": "44395359-85d5-40a4-951f-a401bce401a8",
   "metadata": {},
   "outputs": [
    {
     "name": "stdout",
     "output_type": "stream",
     "text": [
      "/bin/bash: -c: line 1: syntax error near unexpected token `https://aaltoscicomp.github.io/python-for-scicomp/_images/binder.jpg'\n",
      "/bin/bash: -c: line 1: `[Image](https://aaltoscicomp.github.io/python-for-scicomp/_images/binder.jpg)'\n"
     ]
    }
   ],
   "source": [
    "![Image](https://aaltoscicomp.github.io/python-for-scicomp/_images/binder.jpg)"
   ]
  },
  {
   "cell_type": "code",
   "execution_count": null,
   "id": "415be036-fb93-42ba-9f23-5fa49d2bd050",
   "metadata": {},
   "outputs": [],
   "source": []
  }
 ],
 "metadata": {
  "kernelspec": {
   "display_name": "Python 3 (ipykernel)",
   "language": "python",
   "name": "python3"
  },
  "language_info": {
   "codemirror_mode": {
    "name": "ipython",
    "version": 3
   },
   "file_extension": ".py",
   "mimetype": "text/x-python",
   "name": "python",
   "nbconvert_exporter": "python",
   "pygments_lexer": "ipython3",
   "version": "3.10.7"
  }
 },
 "nbformat": 4,
 "nbformat_minor": 5
}
